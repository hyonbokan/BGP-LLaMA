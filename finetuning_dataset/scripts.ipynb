{
 "cells": [
  {
   "cell_type": "code",
   "execution_count": 6,
   "metadata": {},
   "outputs": [],
   "source": [
    "import json\n",
    "import os\n",
    "import shutil\n",
    "\n",
    "org_data_dir = '/home/hb/fine-tuning-alpaca/finetuning_dataset/regen.json'\n",
    "save_dir = '/home/hb/fine-tuning-alpaca/finetuning_dataset'\n",
    "\n",
    "# Read the original JSON\n",
    "with open(org_data_dir, 'r') as input_file:\n",
    "    original_data = json.load(input_file)\n",
    "\n",
    "# Refactor the data to keep only 'instruction', 'input', and 'output'\n",
    "refactored_data = []\n",
    "for item in original_data:\n",
    "    refactored_item = {\n",
    "        \"instruction\": item[\"instruction\"],\n",
    "        \"input\": item[\"input\"],\n",
    "        \"output\": item[\"output\"]\n",
    "    }\n",
    "    refactored_data.append(refactored_item)\n",
    "\n",
    "# Write the refactored data to a new JSON file\n",
    "save_path = os.path.join(save_dir, 'BGP_data.json')\n",
    "with open(save_path, 'w') as output_file:\n",
    "    json.dump(refactored_data, output_file, indent=4)"
   ]
  },
  {
   "cell_type": "code",
   "execution_count": null,
   "metadata": {},
   "outputs": [],
   "source": []
  }
 ],
 "metadata": {
  "kernelspec": {
   "display_name": "myenv",
   "language": "python",
   "name": "python3"
  },
  "language_info": {
   "codemirror_mode": {
    "name": "ipython",
    "version": 3
   },
   "file_extension": ".py",
   "mimetype": "text/x-python",
   "name": "python",
   "nbconvert_exporter": "python",
   "pygments_lexer": "ipython3",
   "version": "3.8.16"
  },
  "orig_nbformat": 4
 },
 "nbformat": 4,
 "nbformat_minor": 2
}
