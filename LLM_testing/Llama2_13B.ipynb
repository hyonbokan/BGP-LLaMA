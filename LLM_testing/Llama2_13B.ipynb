{
 "cells": [
  {
   "cell_type": "code",
   "execution_count": 1,
   "metadata": {},
   "outputs": [
    {
     "name": "stderr",
     "output_type": "stream",
     "text": [
      "/home/hb/myenv/lib/python3.8/site-packages/huggingface_hub/file_download.py:1132: FutureWarning: `resume_download` is deprecated and will be removed in version 1.0.0. Downloads always resume when possible. If you want to force a new download, use `force_download=True`.\n",
      "  warnings.warn(\n"
     ]
    },
    {
     "data": {
      "application/vnd.jupyter.widget-view+json": {
       "model_id": "e956a8aa23db4def9c6b920381717631",
       "version_major": 2,
       "version_minor": 0
      },
      "text/plain": [
       "Loading checkpoint shards:   0%|          | 0/3 [00:00<?, ?it/s]"
      ]
     },
     "metadata": {},
     "output_type": "display_data"
    },
    {
     "name": "stdout",
     "output_type": "stream",
     "text": [
      "Model loaded on cuda:0\n"
     ]
    }
   ],
   "source": [
    "from torch import cuda, bfloat16\n",
    "import transformers\n",
    "from transformers import (\n",
    "    pipeline,\n",
    "    logging,\n",
    ")\n",
    "import pandas as pd\n",
    "import os\n",
    "\n",
    "model_id = 'meta-llama/Llama-2-13b-chat-hf'\n",
    "\n",
    "device = f'cuda:{cuda.current_device()}' if cuda.is_available() else 'cpu'\n",
    "\n",
    "# bnb_config = transformers.BitsAndBytesConfig(\n",
    "#     load_in_4bit=True,\n",
    "#     bnb_4bit_quant_type='nf4',\n",
    "#     bnb_4bit_use_double_quant=True,\n",
    "#     bnb_4bit_compute_dtype=bfloat16\n",
    "# )\n",
    "\n",
    "hf_token = os.environ.get('hf_token')\n",
    "\n",
    "# Need auth token for these\n",
    "hf_auth = hf_token\n",
    "model_config = transformers.AutoConfig.from_pretrained(\n",
    "    model_id,\n",
    "    use_auth_token=hf_auth\n",
    ")\n",
    "\n",
    "model = transformers.AutoModelForCausalLM.from_pretrained(\n",
    "    model_id,\n",
    "    trust_remote_code=True,\n",
    "    config=model_config,\n",
    "    # quantization_config=bnb_config,\n",
    "    device_map='auto',\n",
    "    use_auth_token=hf_auth\n",
    ")\n",
    "model.eval()\n",
    "print(f\"Model loaded on {device}\")"
   ]
  },
  {
   "cell_type": "code",
   "execution_count": 2,
   "metadata": {},
   "outputs": [],
   "source": [
    "tokenizer = transformers.AutoTokenizer.from_pretrained(\n",
    "    model_id,\n",
    "    use_auth_token=hf_auth\n",
    ")\n",
    "\n",
    "tokenizer.pad_token = tokenizer.eos_token\n",
    "# tokenizer.pad_token_id = tokenizer.eos_token_id\n",
    "# tokenizer.padding_side = \"right\""
   ]
  },
  {
   "cell_type": "markdown",
   "metadata": {},
   "source": [
    "# Lift test"
   ]
  },
  {
   "cell_type": "code",
   "execution_count": 3,
   "metadata": {},
   "outputs": [],
   "source": [
    "import pandas as pd\n",
    "from datetime import datetime, timedelta\n",
    "\n",
    "# Generate timestamps\n",
    "start_time = datetime(2017, 8, 25, 3, 15, 0)\n",
    "timestamps = [start_time + timedelta(minutes=5 * i) for i in range(5)]\n",
    "\n",
    "# Define normal data and one anomaly\n",
    "data = [\n",
    "    {\n",
    "        \"timestamp\": \"2017-08-25T03:25:00.000\",\n",
    "        \"nb_A\": 3080,\n",
    "        \"nb_W\": 309,\n",
    "        \"nb_implicit_W\": 2199,\n",
    "        \"nb_dup_A\": 320,\n",
    "        \"nb_dup_W\": 0,\n",
    "        \"nb_A_prefix\": 686,\n",
    "        \"nb_W_prefix\": 181,\n",
    "        \"max_A_prefix\": 55,\n",
    "        \"avg_A_prefix\": 4,\n",
    "        \"max_A_AS\": 314,\n",
    "        \"avg_A_AS\": 16,\n",
    "        \"nb_orign_change\": 210,\n",
    "        \"nb_new_A\": 391,\n",
    "        \"nb_new_A_afterW\": 170,\n",
    "        \"max_path_len\": 15,\n",
    "        \"avg_path_len\": 6,\n",
    "        \"max_editdist\": 11,\n",
    "        \"avg_editdist\": 3,\n",
    "        \"editdist_7\": 250,\n",
    "        \"editdist_8\": 25,\n",
    "        \"editdist_9\": 44,\n",
    "        \"editdist_10\": 1,\n",
    "        \"editdist_11\": 1,\n",
    "        \"editdist_12\": 0,\n",
    "        \"editdist_13\": 0,\n",
    "        \"editdist_14\": 0,\n",
    "        \"editdist_15\": 0,\n",
    "        \"editdist_16\": 0,\n",
    "        \"editdist_17\": 0,\n",
    "        \"nb_tolonger\": 889,\n",
    "        \"nb_toshorter\": 1310,\n",
    "        \"avg_interarrival\": 1116,\n",
    "    },\n",
    "    {\n",
    "        \"timestamp\": \"2017-08-25T03:35:00.000\",\n",
    "        \"nb_A\": 86458,\n",
    "        \"nb_W\": 356,\n",
    "        \"nb_implicit_W\": 3790,\n",
    "        \"nb_dup_A\": 7500,\n",
    "        \"nb_dup_W\": 0,\n",
    "        \"nb_A_prefix\": 75578,\n",
    "        \"nb_W_prefix\": 203,\n",
    "        \"max_A_prefix\": 46,\n",
    "        \"avg_A_prefix\": 1,\n",
    "        \"max_A_AS\": 19182,\n",
    "        \"avg_A_AS\": 38,\n",
    "        \"nb_orign_change\": 182,\n",
    "        \"nb_new_A\": 75028,\n",
    "        \"nb_new_A_afterW\": 140,\n",
    "        \"max_path_len\": 21,\n",
    "        \"avg_path_len\": 4,\n",
    "        \"max_editdist\": 14,\n",
    "        \"avg_editdist\": 3,\n",
    "        \"editdist_7\": 243,\n",
    "        \"editdist_8\": 58,\n",
    "        \"editdist_9\": 75,\n",
    "        \"editdist_10\": 69,\n",
    "        \"editdist_11\": 9,\n",
    "        \"editdist_12\": 13,\n",
    "        \"editdist_13\": 0,\n",
    "        \"editdist_14\": 1,\n",
    "        \"editdist_15\": 0,\n",
    "        \"editdist_16\": 0,\n",
    "        \"editdist_17\": 0,\n",
    "        \"nb_tolonger\": 1180,\n",
    "        \"nb_toshorter\": 2610,\n",
    "        \"avg_interarrival\": 1087,\n",
    "    },\n",
    "    {\n",
    "        \"timestamp\": \"2017-08-25T04:00:00.000\",\n",
    "        \"nb_A\": 4311,\n",
    "        \"nb_W\": 401,\n",
    "        \"nb_implicit_W\": 3069,\n",
    "        \"nb_dup_A\": 625,\n",
    "        \"nb_dup_W\": 0,\n",
    "        \"nb_A_prefix\": 1030,\n",
    "        \"nb_W_prefix\": 165,\n",
    "        \"max_A_prefix\": 54,\n",
    "        \"avg_A_prefix\": 4,\n",
    "        \"max_A_AS\": 305,\n",
    "        \"avg_A_AS\": 20,\n",
    "        \"nb_orign_change\": 206,\n",
    "        \"nb_new_A\": 367,\n",
    "        \"nb_new_A_afterW\": 250,\n",
    "        \"max_path_len\": 19,\n",
    "        \"avg_path_len\": 6,\n",
    "        \"max_editdist\": 17,\n",
    "        \"avg_editdist\": 3,\n",
    "        \"editdist_7\": 202,\n",
    "        \"editdist_8\": 23,\n",
    "        \"editdist_9\": 36,\n",
    "        \"editdist_10\": 2,\n",
    "        \"editdist_11\": 5,\n",
    "        \"editdist_12\": 7,\n",
    "        \"editdist_13\": 1,\n",
    "        \"editdist_14\": 1,\n",
    "        \"editdist_15\": 0,\n",
    "        \"editdist_16\": 0,\n",
    "        \"editdist_17\": 56,\n",
    "        \"nb_tolonger\": 1318,\n",
    "        \"nb_toshorter\": 1751,\n",
    "        \"avg_interarrival\": 1112,\n",
    "    },\n",
    "        {\n",
    "        \"timestamp\": \"2017-08-25T03:20:00.000\",\n",
    "        \"nb_A\": 2462,\n",
    "        \"nb_W\": 148,\n",
    "        \"nb_implicit_W\": 1721,\n",
    "        \"nb_dup_A\": 347,\n",
    "        \"nb_dup_W\": 0,\n",
    "        \"nb_A_prefix\": 434,\n",
    "        \"nb_W_prefix\": 66,\n",
    "        \"max_A_prefix\": 51,\n",
    "        \"avg_A_prefix\": 6,\n",
    "        \"max_A_AS\": 188,\n",
    "        \"avg_A_AS\": 16,\n",
    "        \"nb_orign_change\": 172,\n",
    "        \"nb_new_A\": 285,\n",
    "        \"nb_new_A_afterW\": 109,\n",
    "        \"max_path_len\": 13,\n",
    "        \"avg_path_len\": 6,\n",
    "        \"max_editdist\": 11,\n",
    "        \"avg_editdist\": 3,\n",
    "        \"editdist_7\": 165,\n",
    "        \"editdist_8\": 36,\n",
    "        \"editdist_9\": 37,\n",
    "        \"editdist_10\": 0,\n",
    "        \"editdist_11\": 1,\n",
    "        \"editdist_12\": 0,\n",
    "        \"editdist_13\": 0,\n",
    "        \"editdist_14\": 0,\n",
    "        \"editdist_15\": 0,\n",
    "        \"editdist_16\": 0,\n",
    "        \"editdist_17\": 0,\n",
    "        \"nb_tolonger\": 738,\n",
    "        \"nb_toshorter\": 983,\n",
    "        \"avg_interarrival\": 1133,\n",
    "    },\n",
    "    {\n",
    "        \"timestamp\": \"2017-08-25T03:25:00.000\",\n",
    "        \"nb_A\": 3080,\n",
    "        \"nb_W\": 309,\n",
    "        \"nb_implicit_W\": 2199,\n",
    "        \"nb_dup_A\": 320,\n",
    "        \"nb_dup_W\": 0,\n",
    "        \"nb_A_prefix\": 686,\n",
    "        \"nb_W_prefix\": 181,\n",
    "        \"max_A_prefix\": 55,\n",
    "        \"avg_A_prefix\": 4,\n",
    "        \"max_A_AS\": 314,\n",
    "        \"avg_A_AS\": 16,\n",
    "        \"nb_orign_change\": 210,\n",
    "        \"nb_new_A\": 391,\n",
    "        \"nb_new_A_afterW\": 170,\n",
    "        \"max_path_len\": 15,\n",
    "        \"avg_path_len\": 6,\n",
    "        \"max_editdist\": 11,\n",
    "        \"avg_editdist\": 3,\n",
    "        \"editdist_7\": 250,\n",
    "        \"editdist_8\": 25,\n",
    "        \"editdist_9\": 44,\n",
    "        \"editdist_10\": 1,\n",
    "        \"editdist_11\": 1,\n",
    "        \"editdist_12\": 0,\n",
    "        \"editdist_13\": 0,\n",
    "        \"editdist_14\": 0,\n",
    "        \"editdist_15\": 0,\n",
    "        \"editdist_16\": 0,\n",
    "        \"editdist_17\": 0,\n",
    "        \"nb_tolonger\": 889,\n",
    "        \"nb_toshorter\": 1310,\n",
    "        \"avg_interarrival\": 1116,\n",
    "    },\n",
    "]\n",
    "\n",
    "anomaly_status_list = [\n",
    "    \"\",\n",
    "    \"anomaly due to high value of nb_A, nb_A_prefix, avg_A_prefix, max_A_AS, avg_A_AS, nb_new_A, editdist_9\",\n",
    "    \"\",\n",
    "    \"\",\n",
    "    \"\"\n",
    "]"
   ]
  },
  {
   "cell_type": "code",
   "execution_count": 4,
   "metadata": {},
   "outputs": [
    {
     "name": "stdout",
     "output_type": "stream",
     "text": [
      "Result for instance 1:\n",
      "<s>[INST] \n",
      "   Below is BGP update message data. Your task is to determine the BGP anomaly status based on the data provided. If an anomaly is detected, specify the reason. If there are no amomalies then state that no anomalies detected. Keep your answers short.\n",
      "    {'timestamp': '2017-08-25T03:25:00.000', 'nb_A': 3080, 'nb_W': 309, 'nb_implicit_W': 2199, 'nb_dup_A': 320, 'nb_dup_W': 0, 'nb_A_prefix': 686, 'nb_W_prefix': 181, 'max_A_prefix': 55, 'avg_A_prefix': 4, 'max_A_AS': 314, 'avg_A_AS': 16, 'nb_orign_change': 210, 'nb_new_A': 391, 'nb_new_A_afterW': 170, 'max_path_len': 15, 'avg_path_len': 6, 'max_editdist': 11, 'avg_editdist': 3, 'editdist_7': 250, 'editdist_8': 25, 'editdist_9': 44, 'editdist_10': 1, 'editdist_11': 1, 'editdist_12': 0, 'editdist_13': 0, 'editdist_14': 0, 'editdist_15': 0, 'editdist_16': 0, 'editdist_17': 0, 'nb_tolonger': 889, 'nb_toshorter': 1310, 'avg_interarrival': 1116} [/INST]  No anomalies detected.\n",
      "\n",
      "\n",
      "Result for instance 2:\n",
      "<s>[INST] \n",
      "   Below is BGP update message data. Your task is to determine the BGP anomaly status based on the data provided. If an anomaly is detected, specify the reason. If there are no amomalies then state that no anomalies detected. Keep your answers short.\n",
      "    {'timestamp': '2017-08-25T03:35:00.000', 'nb_A': 86458, 'nb_W': 356, 'nb_implicit_W': 3790, 'nb_dup_A': 7500, 'nb_dup_W': 0, 'nb_A_prefix': 75578, 'nb_W_prefix': 203, 'max_A_prefix': 46, 'avg_A_prefix': 1, 'max_A_AS': 19182, 'avg_A_AS': 38, 'nb_orign_change': 182, 'nb_new_A': 75028, 'nb_new_A_afterW': 140, 'max_path_len': 21, 'avg_path_len': 4, 'max_editdist': 14, 'avg_editdist': 3, 'editdist_7': 243, 'editdist_8': 58, 'editdist_9': 75, 'editdist_10': 69, 'editdist_11': 9, 'editdist_12': 13, 'editdist_13': 0, 'editdist_14': 1, 'editdist_15': 0, 'editdist_16': 0, 'editdist_17': 0, 'nb_tolonger': 1180, 'nb_toshorter': 2610, 'avg_interarrival': 1087} [/INST]  No anomalies detected.\n",
      "\n",
      "\n",
      "Result for instance 3:\n",
      "<s>[INST] \n",
      "   Below is BGP update message data. Your task is to determine the BGP anomaly status based on the data provided. If an anomaly is detected, specify the reason. If there are no amomalies then state that no anomalies detected. Keep your answers short.\n",
      "    {'timestamp': '2017-08-25T04:00:00.000', 'nb_A': 4311, 'nb_W': 401, 'nb_implicit_W': 3069, 'nb_dup_A': 625, 'nb_dup_W': 0, 'nb_A_prefix': 1030, 'nb_W_prefix': 165, 'max_A_prefix': 54, 'avg_A_prefix': 4, 'max_A_AS': 305, 'avg_A_AS': 20, 'nb_orign_change': 206, 'nb_new_A': 367, 'nb_new_A_afterW': 250, 'max_path_len': 19, 'avg_path_len': 6, 'max_editdist': 17, 'avg_editdist': 3, 'editdist_7': 202, 'editdist_8': 23, 'editdist_9': 36, 'editdist_10': 2, 'editdist_11': 5, 'editdist_12': 7, 'editdist_13': 1, 'editdist_14': 1, 'editdist_15': 0, 'editdist_16': 0, 'editdist_17': 56, 'nb_tolonger': 1318, 'nb_toshorter': 1751, 'avg_interarrival': 1112} [/INST]  Based on the provided BGP update message data, no anomalies are detected. All values are within the expected range, and there are no significant deviations or patterns that indicate an anomaly.\n",
      "\n",
      "\n",
      "Result for instance 4:\n",
      "<s>[INST] \n",
      "   Below is BGP update message data. Your task is to determine the BGP anomaly status based on the data provided. If an anomaly is detected, specify the reason. If there are no amomalies then state that no anomalies detected. Keep your answers short.\n",
      "    {'timestamp': '2017-08-25T03:20:00.000', 'nb_A': 2462, 'nb_W': 148, 'nb_implicit_W': 1721, 'nb_dup_A': 347, 'nb_dup_W': 0, 'nb_A_prefix': 434, 'nb_W_prefix': 66, 'max_A_prefix': 51, 'avg_A_prefix': 6, 'max_A_AS': 188, 'avg_A_AS': 16, 'nb_orign_change': 172, 'nb_new_A': 285, 'nb_new_A_afterW': 109, 'max_path_len': 13, 'avg_path_len': 6, 'max_editdist': 11, 'avg_editdist': 3, 'editdist_7': 165, 'editdist_8': 36, 'editdist_9': 37, 'editdist_10': 0, 'editdist_11': 1, 'editdist_12': 0, 'editdist_13': 0, 'editdist_14': 0, 'editdist_15': 0, 'editdist_16': 0, 'editdist_17': 0, 'nb_tolonger': 738, 'nb_toshorter': 983, 'avg_interarrival': 1133} [/INST]  Based on the provided BGP update message data, no anomalies are detected. All values are within the expected range and there are no significant deviations or patterns that indicate an anomaly. Therefore, the BGP anomaly status is \"No Anomalies Detected\".\n",
      "\n",
      "\n",
      "Result for instance 5:\n",
      "<s>[INST] \n",
      "   Below is BGP update message data. Your task is to determine the BGP anomaly status based on the data provided. If an anomaly is detected, specify the reason. If there are no amomalies then state that no anomalies detected. Keep your answers short.\n",
      "    {'timestamp': '2017-08-25T03:25:00.000', 'nb_A': 3080, 'nb_W': 309, 'nb_implicit_W': 2199, 'nb_dup_A': 320, 'nb_dup_W': 0, 'nb_A_prefix': 686, 'nb_W_prefix': 181, 'max_A_prefix': 55, 'avg_A_prefix': 4, 'max_A_AS': 314, 'avg_A_AS': 16, 'nb_orign_change': 210, 'nb_new_A': 391, 'nb_new_A_afterW': 170, 'max_path_len': 15, 'avg_path_len': 6, 'max_editdist': 11, 'avg_editdist': 3, 'editdist_7': 250, 'editdist_8': 25, 'editdist_9': 44, 'editdist_10': 1, 'editdist_11': 1, 'editdist_12': 0, 'editdist_13': 0, 'editdist_14': 0, 'editdist_15': 0, 'editdist_16': 0, 'editdist_17': 0, 'nb_tolonger': 889, 'nb_toshorter': 1310, 'avg_interarrival': 1116} [/INST]  Based on the provided BGP update message data, there are no anomalies detected. All the metrics are within the normal range, and there is no significant deviation from the expected values.\n",
      "\n",
      "The number of BGP updates (nb_A) is 3080, which is within the expected range. The number of withdrawals (nb_W) is 309, which is also within the expected range. The number of implicit withdrawals (nb_implicit_W) is 2199, which is slightly higher than the expected range, but not significantly so.\n",
      "\n",
      "The number of duplicate BGP updates (nb_dup_A) is 320, which is within the expected range. The number of duplicate withdrawals (nb_dup_W) is 0, which is as expected.\n",
      "\n",
      "All the other metrics, such as the number of origin changes (nb_orign_change), the number of new BGP updates (nb_new_A), the maximum path length (max_path_len), the average path length (avg_path_len), the maximum edit distance (max_editdist), the average edit distance (avg_editdist), and the number of BGP updates with edit distance within a certain range (e.g., editdist_7, editdist_8, etc.), are all within the normal range.\n",
      "\n",
      "Therefore, based on the provided data, no BGP anomalies are detected.\n",
      "\n",
      "\n"
     ]
    }
   ],
   "source": [
    "# Initialize the text generation pipeline\n",
    "pipe = pipeline(task=\"text-generation\", model=model, tokenizer=tokenizer, max_length=1024)\n",
    "\n",
    "# Loop through each instance in the dataset\n",
    "for i, instance in enumerate(data):\n",
    "    prompt = f\"\"\"\n",
    "   Below is BGP update message data. Your task is to determine the BGP anomaly status based on the data provided. If an anomaly is detected, specify the reason. If there are no amomalies then state that no anomalies detected. Keep your answers short.\n",
    "    {instance}\"\"\"\n",
    "    \n",
    "    result = pipe(f\"<s>[INST] {prompt} [/INST]\")\n",
    "    print(f\"Result for instance {i+1}:\")\n",
    "    print(result[0]['generated_text'])\n",
    "    print(\"\\n\")"
   ]
  },
  {
   "cell_type": "markdown",
   "metadata": {},
   "source": [
    "## Lift results"
   ]
  },
  {
   "cell_type": "code",
   "execution_count": null,
   "metadata": {},
   "outputs": [],
   "source": []
  },
  {
   "cell_type": "markdown",
   "metadata": {},
   "source": [
    "# Pcap"
   ]
  },
  {
   "cell_type": "code",
   "execution_count": 3,
   "metadata": {},
   "outputs": [
    {
     "name": "stdout",
     "output_type": "stream",
     "text": [
      "<s>[INST] Given a n3.pcap file containing network traffic data, create a Python script using scapy library to process the PCAP. The script should extract the source IP, destination IP, source port, destination port, and the raw payload data for each packet in the PCAP. Store this data in a pandas DataFrame and display it. [/INST]  Sure! Here is a Python script using the Scapy library to process a PCAP file and extract the source IP, destination IP, source port, destination port, and raw payload data for each packet. The data is then stored in a pandas DataFrame and displayed.\n",
      "```\n",
      "import scapy\n",
      "import pandas as pd\n",
      "\n",
      "# Open the PCAP file\n",
      "pcap = scapy.open(\"n3.pcap\")\n",
      "\n",
      "# Create a list to store the packet data\n",
      "packet_data = []\n",
      "\n",
      "# Iterate over each packet in the PCAP file\n",
      "for packet in pcap:\n",
      "    # Extract the source IP, destination IP, source port, and destination port\n",
      "    src_ip = packet.src_ip\n",
      "    dst_ip = packet.dst_ip\n",
      "    src_port = packet.sport\n",
      "    dst_port = packet.dport\n",
      "    \n",
      "    # Extract the raw payload data\n",
      "    payload = packet.payload\n",
      "    \n",
      "    # Add the packet data to the list\n",
      "    packet_data.append((src_ip, dst_ip, src_port, dst_port, payload))\n",
      "\n",
      "# Convert the list to a pandas DataFrame\n",
      "df = pd.DataFrame(packet_data, columns=[\"Source IP\", \"Destination IP\", \"Source Port\", \"Destination Port\", \"Payload\"])\n",
      "\n",
      "# Display the DataFrame\n",
      "print(df)\n",
      "```\n",
      "This script uses the `scapy` library to open the PCAP file and iterate over each packet. For each packet, it extracts the source IP, destination IP, source port, destination port, and raw payload data using the `sport`, `dport`, and `payload` attributes of the `packet` object.\n",
      "\n",
      "The extracted data is then stored in a list, which is converted to a pandas DataFrame using the `pd.DataFrame` function. Finally, the DataFrame is displayed using the `print` function.\n",
      "\n",
      "Note that this script assumes that the PCAP file contains only Ethernet frames. If the PCAP file contains other types of frames (e.g., IPv6, ARP), you may need to modify the script accordingly.\n"
     ]
    }
   ],
   "source": [
    "logging.set_verbosity(logging.CRITICAL)\n",
    "\n",
    "# Run text generation pipeline with our next model\n",
    "prompt = \"Given a n3.pcap file containing network traffic data, create a Python script using scapy library to process the PCAP. The script should extract the source IP, destination IP, source port, destination port, and the raw payload data for each packet in the PCAP. Store this data in a pandas DataFrame and display it.\"\n",
    "pipe = pipeline(task=\"text-generation\", model=model, tokenizer=tokenizer, max_length=1012)\n",
    "result = pipe(f\"<s>[INST] {prompt} [/INST]\")\n",
    "print(result[0]['generated_text'])"
   ]
  },
  {
   "cell_type": "code",
   "execution_count": 4,
   "metadata": {},
   "outputs": [
    {
     "name": "stdout",
     "output_type": "stream",
     "text": [
      "<s>[INST] Create a Python script using PyBGPStream to monitor real-time (project='ris-live') BGP updates, focusing on announcements from AS6830. The script utilizes a dictionary to track the timestamp and count of announcements for each prefix associated with AS6830. Implement a function that checks daily if the data needs to be reset by comparing the current date with the date of the last reset, and if they differ, it clears the dictionary, ensuring data freshness each new day. The script should also alert if any prefix's count exceeds 10,000 to flag significant anomalies in real time. For extracting AS paths from BGP updates, use the code as_path = elem.fields.get('as-path', '').split() to accurately parse the path and identify announcements directly associated with AS6830. [/INST]  Sure, here is an example Python script using PyBGPStream to monitor real-time BGP updates for announcements from AS6830 and track the count of prefixes associated with this autonomous system:\n",
      "```\n",
      "import pybgpstream\n",
      "import datetime\n",
      "\n",
      "# Set up the PyBGPStream connection\n",
      "stream = pybgpstream.BGPStream('ris-live')\n",
      "\n",
      "# Define the dictionary to track the timestamp and count of announcements for each prefix associated with AS6830\n",
      "as6830_prefixes = {}\n",
      "\n",
      "# Define the function to check if the data needs to be reset daily\n",
      "def reset_data():\n",
      "    today = datetime.date.today()\n",
      "    if today!= as6830_prefixes['last_reset']:\n",
      "        as6830_prefixes = {}\n",
      "        as6830_prefixes['last_reset'] = today\n",
      "\n",
      "# Define the function to alert if any prefix's count exceeds 10,000\n",
      "def alert_if_anomaly():\n",
      "    for prefix, count in as6830_prefixes.items():\n",
      "        if count > 10000:\n",
      "            print(f\"Anomaly detected: {prefix} count exceeds 10,000\")\n",
      "\n",
      "# Loop over the BGP updates and extract the AS path for each update\n",
      "for update in stream:\n",
      "    # Extract the AS path from the update\n",
      "    as_path = update.fields.get('as-path', '').split()\n",
      "    if as_path and as_path[0] == 'AS6830':\n",
      "        # Increment the count of prefixes associated with AS6830\n",
      "        prefix = as_path[1]\n",
      "        if prefix not in as6830_prefixes:\n",
      "            as6830_prefixes[prefix] = 1\n",
      "        else:\n",
      "            as6830_prefixes[prefix] += 1\n",
      "\n",
      "# Reset the data daily\n",
      "reset_data()\n",
      "\n",
      "# Alert if any prefix's count exceeds 10,000\n",
      "alert_if_anomaly()\n",
      "```\n",
      "In this script, we first set up a PyBGPStream connection to the 'ris-live' feed. We then define a dictionary `as6\n"
     ]
    }
   ],
   "source": [
    "logging.set_verbosity(logging.CRITICAL)\n",
    "\n",
    "# Run text generation pipeline with our next model\n",
    "prompt = \"Create a Python script using PyBGPStream to monitor real-time (project='ris-live') BGP updates, focusing on announcements from AS6830. The script utilizes a dictionary to track the timestamp and count of announcements for each prefix associated with AS6830. Implement a function that checks daily if the data needs to be reset by comparing the current date with the date of the last reset, and if they differ, it clears the dictionary, ensuring data freshness each new day. The script should also alert if any prefix's count exceeds 10,000 to flag significant anomalies in real time. For extracting AS paths from BGP updates, use the code as_path = elem.fields.get('as-path', '').split() to accurately parse the path and identify announcements directly associated with AS6830.\"\n",
    "pipe = pipeline(task=\"text-generation\", model=model, tokenizer=tokenizer, max_length=718)\n",
    "result = pipe(f\"<s>[INST] {prompt} [/INST]\")\n",
    "print(result[0]['generated_text'])"
   ]
  },
  {
   "cell_type": "markdown",
   "metadata": {},
   "source": [
    "# 5G General Knowledge"
   ]
  },
  {
   "cell_type": "code",
   "execution_count": 3,
   "metadata": {},
   "outputs": [
    {
     "name": "stderr",
     "output_type": "stream",
     "text": [
      "Setting `pad_token_id` to `eos_token_id`:2 for open-end generation.\n",
      "Setting `pad_token_id` to `eos_token_id`:2 for open-end generation.\n"
     ]
    },
    {
     "name": "stdout",
     "output_type": "stream",
     "text": [
      "Generated Answer: Choose the correct answer. What happens to packets larger than the Maximum SDU size in the network?\n",
      "a) Always dropped\n",
      "b) Forwarded with increased QoS\n",
      "c) Implementation specific\n",
      "d) Always forwarded with no changes\n",
      "\n",
      "Answer: c) Implementation specific\n",
      "\n",
      "Explanation: The behavior of packets larger than the Maximum SDU size in the network depends on the specific implementation of the network devices and protocols. Some devices may drop such packets, while others may fragment them or drop them with an error message. Therefore, the correct answer is (c) Implementation specific\n",
      "Parsed_answer: c\n",
      "----------------1-----------------\n"
     ]
    },
    {
     "name": "stderr",
     "output_type": "stream",
     "text": [
      "Setting `pad_token_id` to `eos_token_id`:2 for open-end generation.\n"
     ]
    },
    {
     "name": "stdout",
     "output_type": "stream",
     "text": [
      "Generated Answer: Choose the correct answer. The Maximum Transfer Unit (MTU) of the IP layer and the Maximum SDU Size:\n",
      "a) Are directly related\n",
      "b) Have no relationship\n",
      "c) Are the same\n",
      "d) Depend on the GGSN\n",
      "\n",
      "Answer: b) Have no relationship\n",
      "\n",
      "Explanation: The Maximum Transfer Unit (MTU) of the IP layer and the Maximum SDU Size (Maximum Service Data Unit) are not directly related. The MTU is a parameter that determines the maximum size of a single IP packet, while the Maximum SDU Size\n",
      "Parsed_answer: b\n",
      "----------------2-----------------\n"
     ]
    },
    {
     "name": "stderr",
     "output_type": "stream",
     "text": [
      "Setting `pad_token_id` to `eos_token_id`:2 for open-end generation.\n"
     ]
    },
    {
     "name": "stdout",
     "output_type": "stream",
     "text": [
      "Generated Answer: Choose the correct answer. Why does RAN need SDU size information?\n",
      "a) For IP fragmentation\n",
      "b) For efficient use of the radio spectrum\n",
      "c) To operate in transparent RLC protocol mode\n",
      "d) For GGSN optimization\n",
      "\n",
      "Answer: b) For efficient use of the radio spectrum\n",
      "\n",
      "Explanation: RAN (Radio Access Network) needs SDU (Service Data Unit) size information to efficiently use the radio spectrum. This information is used to determine the maximum size of the SDU that can be transmitted over the air interface, taking into account the available bandwidth and the overhead\n",
      "Parsed_answer: b\n",
      "----------------3-----------------\n"
     ]
    },
    {
     "name": "stderr",
     "output_type": "stream",
     "text": [
      "Setting `pad_token_id` to `eos_token_id`:2 for open-end generation.\n"
     ]
    },
    {
     "name": "stdout",
     "output_type": "stream",
     "text": [
      "Generated Answer: Choose the correct answer. What does SDU error ratio indicate?\n",
      "a) Fraction of SDUs dropped\n",
      "b) Fraction of SDUs forwarded with decreased QoS\n",
      "c) Fraction of SDUs lost or detected as erroneous\n",
      "d) Efficiency of the RLC protocol\n",
      "\n",
      "Answer: c) Fraction of SDUs lost or detected as erroneous\n",
      "\n",
      "Explanation: The SDU error ratio is a metric that measures the percentage of SDUs that are lost or detected as erroneous. It is calculated by dividing the number of SDUs lost or detected\n",
      "Parsed_answer: c\n",
      "----------------4-----------------\n"
     ]
    },
    {
     "name": "stderr",
     "output_type": "stream",
     "text": [
      "Setting `pad_token_id` to `eos_token_id`:2 for open-end generation.\n"
     ]
    },
    {
     "name": "stdout",
     "output_type": "stream",
     "text": [
      "Generated Answer: Choose the correct answer. Which attribute specifies the relative importance of the UMTS bearer compared to other bearers?\n",
      "a) Maximum bitrate\n",
      "b) Traffic handling priority\n",
      "c) Allocation/Retention Priority\n",
      "d) Guaranteed bitrate\n",
      "\n",
      "Answer: c) Allocation/Retention Priority\n",
      "\n",
      "Explanation: The Allocation/Retention Priority attribute specifies the relative importance of the UMTS bearer compared to other bearers. It determines the order in which bearers are allocated or released when there are competing demands for resources. A\n",
      "Parsed_answer: c\n",
      "----------------5-----------------\n"
     ]
    },
    {
     "name": "stderr",
     "output_type": "stream",
     "text": [
      "Setting `pad_token_id` to `eos_token_id`:2 for open-end generation.\n"
     ]
    },
    {
     "name": "stdout",
     "output_type": "stream",
     "text": [
      "Generated Answer: Choose the correct answer. What happens to packets larger than the Maximum SDU size in the network?\n",
      "a) Always dropped\n",
      "b) Forwarded with increased QoS\n",
      "c) Implementation specific\n",
      "d) Always forwarded with no changes\n",
      "\n",
      "Answer: c) Implementation specific\n",
      "\n",
      "Explanation: The behavior of packets larger than the Maximum SDU size in the network depends on the specific implementation of the network devices and protocols. Some devices may drop such packets, while others may fragment them or drop them with an error message. Therefore, the correct answer is (c) Implementation specific\n",
      "Parsed_answer: c\n",
      "----------------6-----------------\n"
     ]
    },
    {
     "name": "stderr",
     "output_type": "stream",
     "text": [
      "Setting `pad_token_id` to `eos_token_id`:2 for open-end generation.\n"
     ]
    },
    {
     "name": "stdout",
     "output_type": "stream",
     "text": [
      "Generated Answer: Choose the correct answer. The Maximum Transfer Unit (MTU) of the IP layer and the Maximum SDU Size:\n",
      "a) Are directly related\n",
      "b) Have no relationship\n",
      "c) Are the same\n",
      "d) Depend on the GGSN\n",
      "\n",
      "Answer: b) Have no relationship\n",
      "\n",
      "Explanation: The Maximum Transfer Unit (MTU) of the IP layer and the Maximum SDU Size (Maximum Service Data Unit) are not directly related. The MTU is a parameter that determines the maximum size of a single IP packet, while the Maximum SDU Size\n",
      "Parsed_answer: b\n",
      "----------------7-----------------\n"
     ]
    },
    {
     "name": "stderr",
     "output_type": "stream",
     "text": [
      "Setting `pad_token_id` to `eos_token_id`:2 for open-end generation.\n"
     ]
    },
    {
     "name": "stdout",
     "output_type": "stream",
     "text": [
      "Generated Answer: Choose the correct answer. Why does RAN need SDU size information?\n",
      "a) For IP fragmentation\n",
      "b) For efficient use of the radio spectrum\n",
      "c) To operate in transparent RLC protocol mode\n",
      "d) For GGSN optimization\n",
      "\n",
      "Answer: b) For efficient use of the radio spectrum\n",
      "\n",
      "Explanation: RAN (Radio Access Network) needs SDU (Service Data Unit) size information to efficiently use the radio spectrum. This information is used to determine the maximum size of the SDU that can be transmitted over the air interface, taking into account the available bandwidth and the overhead\n",
      "Parsed_answer: b\n",
      "----------------8-----------------\n"
     ]
    },
    {
     "name": "stderr",
     "output_type": "stream",
     "text": [
      "Setting `pad_token_id` to `eos_token_id`:2 for open-end generation.\n"
     ]
    },
    {
     "name": "stdout",
     "output_type": "stream",
     "text": [
      "Generated Answer: Choose the correct answer. What does SDU error ratio indicate?\n",
      "a) Fraction of SDUs dropped\n",
      "b) Fraction of SDUs forwarded with decreased QoS\n",
      "c) Fraction of SDUs lost or detected as erroneous\n",
      "d) Efficiency of the RLC protocol\n",
      "\n",
      "Answer: c) Fraction of SDUs lost or detected as erroneous\n",
      "\n",
      "Explanation: The SDU error ratio is a metric that measures the percentage of SDUs that are lost or detected as erroneous. It is calculated by dividing the number of SDUs lost or detected\n",
      "Parsed_answer: c\n",
      "----------------9-----------------\n"
     ]
    },
    {
     "name": "stderr",
     "output_type": "stream",
     "text": [
      "/home/hb/myenv/lib/python3.8/site-packages/transformers/pipelines/base.py:1083: UserWarning: You seem to be using the pipelines sequentially on GPU. In order to maximize efficiency please use a dataset\n",
      "  warnings.warn(\n",
      "Setting `pad_token_id` to `eos_token_id`:2 for open-end generation.\n"
     ]
    },
    {
     "name": "stdout",
     "output_type": "stream",
     "text": [
      "Generated Answer: Choose the correct answer. Which attribute specifies the relative importance of the UMTS bearer compared to other bearers?\n",
      "a) Maximum bitrate\n",
      "b) Traffic handling priority\n",
      "c) Allocation/Retention Priority\n",
      "d) Guaranteed bitrate\n",
      "\n",
      "Answer: c) Allocation/Retention Priority\n",
      "\n",
      "Explanation: The Allocation/Retention Priority attribute specifies the relative importance of the UMTS bearer compared to other bearers. It determines the order in which bearers are allocated or released when there are competing demands for resources. A\n",
      "Parsed_answer: c\n",
      "----------------10-----------------\n"
     ]
    },
    {
     "name": "stderr",
     "output_type": "stream",
     "text": [
      "Setting `pad_token_id` to `eos_token_id`:2 for open-end generation.\n"
     ]
    },
    {
     "name": "stdout",
     "output_type": "stream",
     "text": [
      "Generated Answer: Choose the correct answer. What is the purpose of including the traffic class itself as an attribute in Radio Access Bearer Service Attributes?\n",
      "a) To standardize the attributes across different network components\n",
      "b) RAN can make assumptions about the traffic source and optimise the transport for that traffic type\n",
      "c) To enhance the security of transmitted data\n",
      "d) To synchronize traffic flows across different bearers\n",
      "\n",
      "Answer: b) RAN can make assumptions about the traffic source and optimise the transport for that traffic type.\n",
      "\n",
      "Explanation: The purpose of including the traffic class itself as an attribute in\n",
      "Parsed_answer: b\n",
      "----------------11-----------------\n"
     ]
    },
    {
     "name": "stderr",
     "output_type": "stream",
     "text": [
      "Setting `pad_token_id` to `eos_token_id`:2 for open-end generation.\n"
     ]
    },
    {
     "name": "stdout",
     "output_type": "stream",
     "text": [
      "Generated Answer: Choose the correct answer. For what purpose might the Guaranteed bitrate be used?\n",
      "a) To ensure consistent connection speed across devices\n",
      "b) To facilitate admission control and for resource allocation within RAN\n",
      "c) To prioritize certain traffic types over others\n",
      "d) To maintain the QoS for high-priority services\n",
      "\n",
      "Answer: d) To maintain the QoS for high-priority services\n",
      "\n",
      "Explanation: The Guaranteed bitrate is used to maintain the Quality of Service (QoS) for high-priority services, such as voice and video\n",
      "Parsed_answer: d\n",
      "----------------12-----------------\n"
     ]
    },
    {
     "name": "stderr",
     "output_type": "stream",
     "text": [
      "Setting `pad_token_id` to `eos_token_id`:2 for open-end generation.\n"
     ]
    },
    {
     "name": "stdout",
     "output_type": "stream",
     "text": [
      "Generated Answer: Choose the correct answer. What is the use of the SDU format information?\n",
      "a) To assist in efficient packet fragmentation and reassembly\n",
      "b) To assist in route optimization for transmitted data\n",
      "c) To define which bits of the payload belong to each subflow\n",
      "d) To assist in load balancing across multiple links\n",
      "\n",
      "Answer: c) To define which bits of the payload belong to each subflow.\n",
      "\n",
      "Explanation: The SDU format information is used to define which bits of the payload belong to each subflow. This information is necessary for efficient packet fragmentation and reassembly, as\n",
      "Parsed_answer: c\n",
      "----------------13-----------------\n"
     ]
    },
    {
     "name": "stderr",
     "output_type": "stream",
     "text": [
      "Setting `pad_token_id` to `eos_token_id`:2 for open-end generation.\n"
     ]
    },
    {
     "name": "stdout",
     "output_type": "stream",
     "text": [
      "Generated Answer: Choose the correct answer. The Residual bit error ratio is used to?\n",
      "a) Configure radio interface protocols, algorithms, and error detection coding\n",
      "b) Enhance the overall QoS for end users\n",
      "c) Improve the handover process between different network nodes\n",
      "d) Adjust the power levels in the transmitting device\n",
      "\n",
      "Answer: a) Configure radio interface protocols, algorithms, and error detection coding\n",
      "\n",
      "Explanation: The Residual bit error ratio (RBER) is a metric used to evaluate the performance of wireless communication systems. It is defined as the\n",
      "Parsed_answer: a\n",
      "----------------14-----------------\n"
     ]
    },
    {
     "name": "stderr",
     "output_type": "stream",
     "text": [
      "Setting `pad_token_id` to `eos_token_id`:2 for open-end generation.\n"
     ]
    },
    {
     "name": "stdout",
     "output_type": "stream",
     "text": [
      "Generated Answer: Choose the correct answer. What shall the PDN GW modify if the subscribed ARP parameter has been changed?\n",
      "a) All dedicated S2a bearers with the new ARP value\n",
      "b) All dedicated S2a bearers with the previously subscribed ARP value\n",
      "c) Only the default bearer\n",
      "d) None of the above\n",
      "\n",
      "Answer: b) All dedicated S2a bearers with the previously subscribed ARP value\n",
      "\n",
      "Explanation: When the subscribed ARP parameter has been changed, the PDN GW should modify all dedicated S2a bearers with the\n",
      "Parsed_answer: b\n",
      "----------------15-----------------\n"
     ]
    },
    {
     "name": "stderr",
     "output_type": "stream",
     "text": [
      "Setting `pad_token_id` to `eos_token_id`:2 for open-end generation.\n"
     ]
    },
    {
     "name": "stdout",
     "output_type": "stream",
     "text": [
      "Generated Answer: Choose the correct answer. What message does the trusted non-3GPP IP access send to acknowledge the bearer modification to the PDN GW?\n",
      "a) Update Bearer Request\n",
      "b) Update Bearer Response\n",
      "c) Create Session Request\n",
      "d) Delete Bearer Request\n",
      "\n",
      "Answer: b) Update Bearer Response\n",
      "\n",
      "Explanation: When the trusted non-3GPP IP access sends a bearer modification to the PDN GW, the PDN GW responds with an Update Bearer Response message to acknowledge the modification.\n",
      "\n",
      "Reference: 3GPP\n",
      "Parsed_answer: b\n",
      "----------------16-----------------\n"
     ]
    },
    {
     "name": "stderr",
     "output_type": "stream",
     "text": [
      "Setting `pad_token_id` to `eos_token_id`:2 for open-end generation.\n"
     ]
    },
    {
     "name": "stdout",
     "output_type": "stream",
     "text": [
      "Generated Answer: Choose the correct answer. What happens if the default bearer belonging to a PDN connection is deactivated?\n",
      "a) Only the default bearer is deactivated\n",
      "b) All bearers belonging to the PDN connection are deactivated\n",
      "c) The PDN GW retains the PDN address\n",
      "d) The PDN GW releases the PDN address\n",
      "\n",
      "Answer: b) All bearers belonging to the PDN connection are deactivated\n",
      "\n",
      "Explanation: When the default bearer belonging to a PDN connection is deactivated, all bearers belonging to the same P\n",
      "Parsed_answer: b\n",
      "----------------17-----------------\n"
     ]
    },
    {
     "name": "stderr",
     "output_type": "stream",
     "text": [
      "Setting `pad_token_id` to `eos_token_id`:2 for open-end generation.\n"
     ]
    },
    {
     "name": "stdout",
     "output_type": "stream",
     "text": [
      "Generated Answer: Choose the correct answer. In the Local Breakout case, which entities are responsible for forwarding messages?\n",
      "a) PDN GW and hPCRF\n",
      "b) vPCRF and hPCRF\n",
      "c) PDN GW and vPCRF\n",
      "d) None of the above\n",
      "\n",
      "Answer: b) vPCRF and hPCRF\n",
      "\n",
      "Explanation: In the Local Breakout case, the vPCRF and hPCRF entities are responsible for forwarding messages. The vPCRF is responsible for forwarding the message to the PDN G\n",
      "Parsed_answer: b\n",
      "----------------18-----------------\n"
     ]
    },
    {
     "name": "stderr",
     "output_type": "stream",
     "text": [
      "Setting `pad_token_id` to `eos_token_id`:2 for open-end generation.\n"
     ]
    },
    {
     "name": "stdout",
     "output_type": "stream",
     "text": [
      "Generated Answer: Choose the correct answer. What does the RAT type indicate?\n",
      "a) The 3GPP IP access technology type\n",
      "b) The non-3GPP IP access technology type\n",
      "c) Both 3GPP and non-3GPP IP access technology types\n",
      "d) Neither 3GPP nor non-3GPP IP access technology types\n",
      "\n",
      "Answer: c) Both 3GPP and non-3GPP IP access technology types\n",
      "\n",
      "Explanation: The RAT type indicates the type of radio access technology used by the device to access the network. The RAT type can\n",
      "Parsed_answer: c\n",
      "----------------19-----------------\n"
     ]
    },
    {
     "name": "stderr",
     "output_type": "stream",
     "text": [
      "Setting `pad_token_id` to `eos_token_id`:2 for open-end generation.\n"
     ]
    },
    {
     "name": "stdout",
     "output_type": "stream",
     "text": [
      "Generated Answer: Choose the correct answer. When the WLAN is considered trusted by the operator, how is it interfaced?\n",
      "a) Via STa to the 3GPP AAA to EPC through S2a\n",
      "b) Only via S2a\n",
      "c) Only via 3GPP AAA\n",
      "d) None of the above\n",
      "\n",
      "Answer: b) Only via S2a\n",
      "\n",
      "Explanation: When the WLAN is considered trusted by the operator, it is interfaced only via S2a. This is because the WLAN is not subject to the same level\n",
      "Parsed_answer: b\n",
      "----------------20-----------------\n"
     ]
    },
    {
     "name": "stderr",
     "output_type": "stream",
     "text": [
      "Setting `pad_token_id` to `eos_token_id`:2 for open-end generation.\n"
     ]
    },
    {
     "name": "stdout",
     "output_type": "stream",
     "text": [
      "Generated Answer: Choose the correct answer. What might STa need to be enhanced to support?\n",
      "a) An indication on whether the Trusted WLAN AN supports S2a\n",
      "b) The SSID selected by the UE\n",
      "c) The APN the user is to be associated with for EPC access\n",
      "d) All of the above\n",
      "\n",
      "Answer: d) All of the above\n",
      "\n",
      "Explanation: STa needs to be enhanced to support all of the above information to ensure seamless handover between Wi-Fi and LTE networks. The information includes:\n",
      "\n",
      "* An indication on\n",
      "Parsed_answer: d\n",
      "----------------21-----------------\n"
     ]
    },
    {
     "name": "stderr",
     "output_type": "stream",
     "text": [
      "Setting `pad_token_id` to `eos_token_id`:2 for open-end generation.\n"
     ]
    },
    {
     "name": "stdout",
     "output_type": "stream",
     "text": [
      "Generated Answer: Choose the correct answer. Which entity is associated with the SWw reference point?\n",
      "a) WLAN UE's connection to EPC for data transfer\n",
      "b) Link between 3GPP AAA Server and WLAN AN for EAP messages\n",
      "c) Communication interface between UE and HSS\n",
      "d) Pathway from TNAN to AAA server over STa for authentication\n",
      "\n",
      "Answer: b) Link between 3GPP AAA Server and WLAN AN for EAP messages.\n",
      "\n",
      "Explanation: The SWw reference point is used for the authentication of WLAN\n",
      "Parsed_answer: b\n",
      "----------------22-----------------\n"
     ]
    },
    {
     "name": "stderr",
     "output_type": "stream",
     "text": [
      "Setting `pad_token_id` to `eos_token_id`:2 for open-end generation.\n"
     ]
    },
    {
     "name": "stdout",
     "output_type": "stream",
     "text": [
      "Generated Answer: Choose the correct answer. What capability might the TNAN indicate to the AAA server via STa?\n",
      "a) Ability to support IPv6 addressing exclusively\n",
      "b) Capacity to handle both S2a and non-seamless offload\n",
      "c) Bandwidth allocation per UE for data traffic\n",
      "d) Selection logic for PDN Gateway for routing data traffic\n",
      "e) Support for both IPv4 and IPv6 addressing\n",
      "\n",
      "Answer: e) Support for both IPv4 and IPv6 addressing\n",
      "\n",
      "Explanation: The TNAN (Tracking\n",
      "Parsed_answer: e\n",
      "----------------23-----------------\n"
     ]
    },
    {
     "name": "stderr",
     "output_type": "stream",
     "text": [
      "Setting `pad_token_id` to `eos_token_id`:2 for open-end generation.\n"
     ]
    },
    {
     "name": "stdout",
     "output_type": "stream",
     "text": [
      "Generated Answer: Choose the correct answer. What consequence follows when a UE dispatches a DHCPv4 message for IPv4 address release?\n",
      "a) UE's migration from IPv4 to IPv6 addressing\n",
      "b) Initiation of Bearer Modification by the PDN GW\n",
      "c) Severance of PDN connection when the connection type is IPv4\n",
      "d) Sustainment of the existing PDN connection without interruption\n",
      "\n",
      "Answer: c) Severance of PDN connection when the connection type is IPv4\n",
      "\n",
      "Explanation: When a UE dispatches a D\n",
      "Parsed_answer: c\n",
      "----------------24-----------------\n"
     ]
    },
    {
     "name": "stderr",
     "output_type": "stream",
     "text": [
      "Setting `pad_token_id` to `eos_token_id`:2 for open-end generation.\n"
     ]
    },
    {
     "name": "stdout",
     "output_type": "stream",
     "text": [
      "Generated Answer: Choose the correct answer. What should the source MME/SSGSN do if the target MME/SSGSN doesn't support the SGW restoration procedure?\n",
      "a) Transfer the PDN connection to a different SGW\n",
      "b) Continue with the standard SGW relocation procedure\n",
      "c) Reject the Handover Required/Relocation Required message and release the S1/Iu/radio resources\n",
      "d) Wait for the target MME/SSGSN to update its SGW restoration support\n",
      "\n",
      "Answer: b) Continue with the standard SG\n",
      "Parsed_answer: b\n",
      "----------------25-----------------\n"
     ]
    },
    {
     "name": "stderr",
     "output_type": "stream",
     "text": [
      "Setting `pad_token_id` to `eos_token_id`:2 for open-end generation.\n"
     ]
    },
    {
     "name": "stdout",
     "output_type": "stream",
     "text": [
      "Generated Answer: Choose the correct answer. What happens when the T-Release-GBR timer expires in the PGW?\n",
      "a) The PGW initiates a new SGW restoration process\n",
      "b) The PGW releases GBR bearers that haven't been restored yet and informs the PCRF\n",
      "c) The PGW maintains the PDN connections without any change\n",
      "d) The PGW attempts to restore the PDN connection with the MME/SSGSN\n",
      "\n",
      "Answer: b) The PGW releases GBR bearers that haven't been restored yet\n",
      "Parsed_answer: b\n",
      "----------------26-----------------\n"
     ]
    },
    {
     "name": "stderr",
     "output_type": "stream",
     "text": [
      "Setting `pad_token_id` to `eos_token_id`:2 for open-end generation.\n"
     ]
    },
    {
     "name": "stdout",
     "output_type": "stream",
     "text": [
      "Generated Answer: Choose the correct answer. For which reason might the PGW reject an IP-CAN session modification procedure after an SGW failure?\n",
      "a) If the request includes changing the PDN connection route\n",
      "b) If the request includes the installation/modification of PCC rules\n",
      "c) If the PGW has already initiated a new SGW restoration process\n",
      "d) If the MME/SSGSN has already restored the PDN connection\n",
      "\n",
      "Answer: b) If the request includes the installation/modification of PCC rules.\n",
      "\n",
      "Explanation: The PGW might\n",
      "Parsed_answer: b\n",
      "----------------27-----------------\n"
     ]
    },
    {
     "name": "stderr",
     "output_type": "stream",
     "text": [
      "Setting `pad_token_id` to `eos_token_id`:2 for open-end generation.\n"
     ]
    },
    {
     "name": "stdout",
     "output_type": "stream",
     "text": [
      "Generated Answer: Choose the correct answer. What does OMR stand for in the context of the provided text?\n",
      "Optimized Media Routeing\n",
      "Operational Management Review\n",
      "Online Music Recorder\n",
      "Optical Message Reading\n",
      "OMR stands for Optimized Media Routeing.\n",
      "----------------28-----------------\n"
     ]
    },
    {
     "name": "stderr",
     "output_type": "stream",
     "text": [
      "Setting `pad_token_id` to `eos_token_id`:2 for open-end generation.\n"
     ]
    },
    {
     "name": "stdout",
     "output_type": "stream",
     "text": [
      "Generated Answer: Choose the correct answer. What protocol is mentioned alongside SIP for OMR based signaling flows?\n",
      "HTTP\n",
      "SMTP\n",
      "SDP\n",
      "UDP\n",
      "\n",
      "Answer: B. SDP\n",
      "\n",
      "Explanation: SIP (Session Initiation Protocol) is a signaling protocol used for initiating, modifying, and terminating sessions in an IP network. OMR (Online Media Resource) based signaling flows use SIP along with SDP (Session Description Protocol) for describing and negotiating the media sessions. HTTP and SMTP are not related to OMR based signaling flows. UDP\n",
      "Parsed_answer: Couldn't parse the answer\n",
      "----------------29-----------------\n",
      "Generated Answer: Choose the correct answer. What is the role of IBCF in the provided context?\n",
      "Allocating MR context\n",
      "Decoding audio files\n",
      "Compressing video streams\n",
      "Routing email traffic\n",
      "IBCF (Intelligent Buffer Control Function) is responsible for allocating MR (Multi-Rate) contexts in the provided context. Therefore, the correct answer is:\n",
      "Allocating MR context.\n",
      "----------------30-----------------\n",
      "['c', 'b', 'b', 'c', 'c', 'c', 'b', 'b', 'c', 'c', 'b', 'd', 'c', 'a', 'b', 'b', 'b', 'b', 'c', 'b', 'd', 'b', 'e', 'c', 'b', 'b', 'b', '', \"Couldn't parse the answer\", '']\n",
      "Correct\n",
      "Correct\n",
      "GPT answer: b. Correct answer: c\n",
      "Incorrect\n",
      "Correct\n",
      "GPT answer: c. Correct answer: b\n",
      "Incorrect\n",
      "Correct\n",
      "Correct\n",
      "GPT answer: b. Correct answer: c\n",
      "Incorrect\n",
      "Correct\n",
      "GPT answer: c. Correct answer: b\n",
      "Incorrect\n",
      "Correct\n",
      "GPT answer: d. Correct answer: b\n",
      "Incorrect\n",
      "Correct\n",
      "Correct\n",
      "Correct\n",
      "Correct\n",
      "Correct\n",
      "Correct\n",
      "GPT answer: c. Correct answer: b\n",
      "Incorrect\n",
      "GPT answer: b. Correct answer: a\n",
      "Incorrect\n",
      "Correct\n",
      "Correct\n",
      "GPT answer: e. Correct answer: b\n",
      "Incorrect\n",
      "Correct\n",
      "GPT answer: b. Correct answer: c\n",
      "Incorrect\n",
      "Correct\n",
      "Correct\n",
      "GPT answer: . Correct answer: Optimized Media Routeing\n",
      "Incorrect\n",
      "GPT answer: Couldn't parse the answer. Correct answer: SDP\n",
      "Incorrect\n",
      "GPT answer: . Correct answer: Allocating MR context\n",
      "Incorrect\n",
      "Accuracy: 60.00%\n",
      "Correct answers: 18\n",
      "Incorrect answers: 12\n"
     ]
    }
   ],
   "source": [
    "import json\n",
    "import re\n",
    "\n",
    "input_file_path = \"/home/hb/LLM-research/evaluation/5G/5G_analysis_multi_choice_v2.json\" \n",
    "\n",
    "with open(input_file_path, \"r\") as input_file:\n",
    "    questions_data = json.load(input_file)\n",
    "\n",
    "pipe = pipeline(task=\"text-generation\", model=model, tokenizer=tokenizer, max_length=128)\n",
    "\n",
    "generated_answers = []\n",
    "ground_truth = [q_dict[\"answer\"] for q_dict in questions_data]\n",
    "n_question = 0\n",
    "\n",
    "for q_dict in questions_data:\n",
    "    question = q_dict[\"question\"]\n",
    "    options = q_dict[\"options\"]\n",
    "    \n",
    "    # Construct prompt with question and options\n",
    "    prompt = f\"Choose the correct answer. {question}\\n\" + \"\\n\".join(options)\n",
    "    # print(prompt)\n",
    "    \n",
    "    # Generate answer using the language model\n",
    "    generated_answer = pipe(prompt)[0]['generated_text']\n",
    "    print(f\"Generated Answer: {generated_answer}\")\n",
    "    \n",
    "    # Parse the generated answer\n",
    "    answer_lines = generated_answer.splitlines()\n",
    "    parsed_answer = \"\"\n",
    "    for line in answer_lines:\n",
    "            if line.startswith(\"Answer: \") or line.startswith(\"Correct answer: \"):\n",
    "                match = re.search(r'\\b(\\w)[\\)-]', line)\n",
    "                if match is not None:\n",
    "                    parsed_answer = match.group(1)\n",
    "                    print(f\"Parsed_answer: {parsed_answer}\")\n",
    "                    break\n",
    "                else:\n",
    "                    parsed_answer = \"Couldn't parse the answer\"\n",
    "                    print(f\"Parsed_answer: {parsed_answer}\")\n",
    "    generated_answers.append(parsed_answer)\n",
    "    n_question += 1\n",
    "    print(f\"----------------{n_question}-----------------\")\n",
    "print(generated_answers)\n",
    "\n",
    "\n",
    "total_questions = len(questions_data)\n",
    "correct_answers = 0\n",
    "\n",
    "for ground_answer, generated_answer in zip(ground_truth, generated_answers):\n",
    "    if generated_answer.lower() == ground_answer.lower():\n",
    "        print(\"Correct\")\n",
    "        correct_answers += 1\n",
    "    else:\n",
    "        print(f\"GPT answer: {generated_answer}. Correct answer: {ground_answer}\")\n",
    "        print(\"Incorrect\")\n",
    "\n",
    "accuracy = (correct_answers / total_questions) * 100\n",
    "\n",
    "print(f\"Accuracy: {accuracy:.2f}%\")\n",
    "print(f\"Correct answers: {correct_answers}\")\n",
    "print(f\"Incorrect answers: {total_questions - correct_answers}\")"
   ]
  },
  {
   "cell_type": "code",
   "execution_count": null,
   "metadata": {},
   "outputs": [],
   "source": [
    "import json\n",
    "input_file_path = \"/home/hb/LLM-research/evaluation/5G_SPEC/5G_SPEC_QA.json\" \n",
    "\n",
    "with open(input_file_path, \"r\") as input_file:\n",
    "    questions_data = json.load(input_file)\n",
    "\n",
    "pipe = pipeline(task=\"text-generation\", model=model, tokenizer=tokenizer, max_length=512)\n",
    "\n",
    "generated_answers_qa = []\n",
    "\n",
    "n_question = 0\n",
    "for q_dict in questions_data:\n",
    "    n_question += 1\n",
    "    question = q_dict[\"question\"]\n",
    "    # Generate answer using the language model\n",
    "    prompt = f\"[INST]{question}[/INST]\"\n",
    "    generated_answer = pipe(prompt)[0]['generated_text']\n",
    "    print(f\"Output: {generated_answer}\")\n",
    "    generated_answers_qa.append(generated_answer)\n",
    "    print(f\"---------------------{n_question}-----------------------------\")"
   ]
  },
  {
   "cell_type": "markdown",
   "metadata": {},
   "source": [
    "# 5G analysis knowledge"
   ]
  },
  {
   "cell_type": "markdown",
   "metadata": {},
   "source": [
    "## Multiple Choice\n",
    "`5G configuration analysis v1`:\n",
    "Accuracy: 90%\n",
    "Correct answers: 21 + 7 = 28\n",
    "Incorrect answers: 2\n",
    "\n",
    "`5G configuration analysis v2`:\n",
    "Accuracy: 70.00%\n",
    "Correct answers: 21\n",
    "Incorrect answers: 12"
   ]
  },
  {
   "cell_type": "markdown",
   "metadata": {},
   "source": []
  }
 ],
 "metadata": {
  "kernelspec": {
   "display_name": "myenv",
   "language": "python",
   "name": "python3"
  },
  "language_info": {
   "codemirror_mode": {
    "name": "ipython",
    "version": 3
   },
   "file_extension": ".py",
   "mimetype": "text/x-python",
   "name": "python",
   "nbconvert_exporter": "python",
   "pygments_lexer": "ipython3",
   "version": "3.8.16"
  },
  "orig_nbformat": 4
 },
 "nbformat": 4,
 "nbformat_minor": 2
}
