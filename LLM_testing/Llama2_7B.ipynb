{
 "cells": [
  {
   "cell_type": "code",
   "execution_count": 3,
   "metadata": {},
   "outputs": [
    {
     "data": {
      "application/vnd.jupyter.widget-view+json": {
       "model_id": "ffe0fdaed384450d9d2620494011073f",
       "version_major": 2,
       "version_minor": 0
      },
      "text/plain": [
       "VBox(children=(HTML(value='<center> <img\\nsrc=https://huggingface.co/front/assets/huggingface_logo-noborder.sv…"
      ]
     },
     "metadata": {},
     "output_type": "display_data"
    }
   ],
   "source": [
    "from huggingface_hub import notebook_login\n",
    "notebook_login()"
   ]
  },
  {
   "cell_type": "code",
   "execution_count": 1,
   "metadata": {},
   "outputs": [
    {
     "name": "stderr",
     "output_type": "stream",
     "text": [
      "/home/hb/myenv/lib/python3.8/site-packages/huggingface_hub/file_download.py:1132: FutureWarning: `resume_download` is deprecated and will be removed in version 1.0.0. Downloads always resume when possible. If you want to force a new download, use `force_download=True`.\n",
      "  warnings.warn(\n"
     ]
    },
    {
     "data": {
      "application/vnd.jupyter.widget-view+json": {
       "model_id": "1fdcc8ebc7034ed594aec5610a26ed6e",
       "version_major": 2,
       "version_minor": 0
      },
      "text/plain": [
       "Loading checkpoint shards:   0%|          | 0/2 [00:00<?, ?it/s]"
      ]
     },
     "metadata": {},
     "output_type": "display_data"
    },
    {
     "name": "stdout",
     "output_type": "stream",
     "text": [
      "Model loaded on cuda:0\n"
     ]
    }
   ],
   "source": [
    "from torch import cuda, bfloat16\n",
    "import transformers\n",
    "import os\n",
    "from torch import cuda, bfloat16\n",
    "import transformers\n",
    "from transformers import (\n",
    "    AutoModelForCausalLM,\n",
    "    AutoTokenizer,\n",
    "    BitsAndBytesConfig,\n",
    "    HfArgumentParser,\n",
    "    TrainingArguments,\n",
    "    pipeline,\n",
    "    logging,\n",
    ")\n",
    "# bnb_config = transformers.BitsAndBytesConfig(\n",
    "#     load_in_4bit=True,\n",
    "#     bnb_4bit_quant_type='nf4',\n",
    "#     bnb_4bit_use_double_quant=True,\n",
    "#     bnb_4bit_compute_dtype=bfloat16\n",
    "# )\n",
    "\n",
    "model_id = 'meta-llama/Llama-2-7b-chat-hf'\n",
    "\n",
    "device = f'cuda:{cuda.current_device()}' if cuda.is_available() else 'cpu'\n",
    "\n",
    "# Need auth token for these\n",
    "hf_auth = os.environ.get('hf_token')\n",
    "model_config = transformers.AutoConfig.from_pretrained(\n",
    "    model_id,\n",
    "    use_auth_token=hf_auth\n",
    ")\n",
    "\n",
    "model = transformers.AutoModelForCausalLM.from_pretrained(\n",
    "    model_id,\n",
    "    trust_remote_code=True,\n",
    "    config=model_config,\n",
    "    # quantization_config=bnb_config,\n",
    "    device_map='auto',\n",
    "    use_auth_token=hf_auth\n",
    ")\n",
    "model.eval()\n",
    "print(f\"Model loaded on {device}\")"
   ]
  },
  {
   "cell_type": "code",
   "execution_count": 2,
   "metadata": {},
   "outputs": [],
   "source": [
    "tokenizer = transformers.AutoTokenizer.from_pretrained(\n",
    "    model_id,\n",
    "    use_auth_token=hf_auth\n",
    ")\n",
    "tokenizer.pad_token = tokenizer.eos_token\n",
    "tokenizer.pad_token_id = tokenizer.eos_token_id\n",
    "tokenizer.padding_side = \"right\""
   ]
  },
  {
   "cell_type": "markdown",
   "metadata": {},
   "source": [
    "## Table data"
   ]
  },
  {
   "cell_type": "code",
   "execution_count": 3,
   "metadata": {},
   "outputs": [
    {
     "name": "stdout",
     "output_type": "stream",
     "text": [
      "Processed 1/10\n",
      "Processed 2/10\n",
      "Processed 3/10\n",
      "Processed 4/10\n",
      "Processed 5/10\n",
      "Processed 6/10\n",
      "Processed 7/10\n",
      "Processed 8/10\n",
      "Processed 9/10\n",
      "Processed 10/10\n",
      "[{'instruction': 'The goal for this task is to determine if the data indicates an anomaly. The context, section, and table columns provide important information for identifying the correct anomaly type.', 'input_seg': '[TLE] The context is about BGP data analysis for detecting anomalies. The section is related to a specific time period of BGP monitoring. [TAB] col: | timestamp | asn | num_routes | num_new_routes | num_withdrawals | num_origin_changes | num_route_changes | max_path_length | avg_path_length | max_edit_distance | avg_edit_distance | num_announcements | num_unique_prefixes_announced | anomaly_status | row 1: | 2022-03-28 07:00:00 | 8342 | 0 | 0 | 0 | 0 | 0 | 0 | 0.0 | 0 | 0.0 | 0 | 0 | no anomalies detected | [SEP] row 2: | 2022-03-28 07:05:00 | 8342 | 7 | 7 | 0 | 0 | 0 | 0 | 0.0 | 0 | 0.0 | 19 | 7 | no anomalies detected | [SEP] row 3: | 2022-03-28 07:10:00 | 8342 | 0 | 0 | 7 | 0 | 0 | 0 | 0.0 | 0 | 0.0 | 0 | 0 | no anomalies detected | [SEP] row 4: | 2022-03-28 07:15:00 | 8342 | 0 | 0 | 0 | 0 | 0 | 0 | 0.0 | 0 | 0.0 | 0 | 0 | no anomalies detected | [SEP] row 5: | 2022-03-28 07:20:00 | 8342 | 0 | 0 | 0 | 0 | 0 | 0 | 0.0 | 0 | 0.0 | 0 | 0 | no anomalies detected | [SEP] row 6: | 2022-03-28 07:25:00 | 8342 | 0 | 0 | 0 | 0 | 0 | 0 | 0.0 | 0 | 0.0 | 0 | 0 | no anomalies detected | [SEP] row 7: | 2022-03-28 07:30:00 | 8342 | 0 | 0 | 0 | 0 | 0 | 0 | 0.0 | 0 | 0.0 | 0 | 0 | no anomalies detected | [SEP] row 8: | 2022-03-28 07:35:00 | 8342 | 0 | 0 | 0 | 0 | 0 | 0 | 0.0 | 0 | 0.0 | 0 | 0 | no anomalies detected | [SEP] row 9: | 2022-03-28 07:40:00 | 8342 | 0 | 0 | 0 | 0 | 0 | 0 | 0.0 | 0 | 0.0 | 0 | 0 | no anomalies detected | [SEP] row 10: | 2022-03-28 07:45:00 | 8342 | 0 | 0 | 0 | 0 | 0 | 0 | 0.0 | 0 | 0.0 | 0 | 0 | no anomalies detected | [SEP] row 11: | 2022-03-28 07:50:00 | 8342 | 0 | 0 | 0 | 0 | 0 | 0 | 0.0 | 0 | 0.0 | 0 | 0 | no anomalies detected | [SEP] row 12: | 2022-03-28 07:55:00 | 8342 | 0 | 0 | 0 | 0 | 0 | 0 | 0.0 | 0 | 0.0 | 0 | 0 | no anomalies detected | [SEP] row 13: | 2022-03-28 08:00:00 | 8342 | 0 | 0 | 0 | 0 | 0 | 0 | 0.0 | 0 | 0.0 | 0 | 0 | no anomalies detected | [SEP] row 14: | 2022-03-28 08:05:00 | 8342 | 0 | 0 | 0 | 0 | 0 | 0 | 0.0 | 0 | 0.0 | 0 | 0 | no anomalies detected | [SEP] row 15: | 2022-03-28 08:10:00 | 8342 | 0 | 0 | 0 | 0 | 0 | 0 | 0.0 | 0 | 0.0 | 0 | 0 | no anomalies detected | [SEP] row 16: | 2022-03-28 08:15:00 | 8342 | 0 | 0 | 0 | 0 | 0 | 0 | 0.0 | 0 | 0.0 | 0 | 0 | no anomalies detected | [SEP] row 17: | 2022-03-28 08:20:00 | 8342 | 7 | 7 | 0 | 0 | 0 | 0 | 0.0 | 0 | 0.0 | 19 | 7 | no anomalies detected | [SEP] row 18: | 2022-03-28 08:25:00 | 8342 | 0 | 0 | 7 | 0 | 0 | 0 | 0.0 | 0 | 0.0 | 0 | 0 | no anomalies detected | [SEP] row 19: | 2022-03-28 08:30:00 | 8342 | 0 | 0 | 0 | 0 | 0 | 0 | 0.0 | 0 | 0.0 | 0 | 0 | no anomalies detected | [SEP] row 20: | 2022-03-28 08:35:00 | 8342 | 1 | 1 | 0 | 0 | 0 | 0 | 0.0 | 0 | 0.0 | 1 | 1 | no anomalies detected | [SEP]', 'question': \"Based on the data provided, does the data indicate an anomaly? If an anomaly is detected, include the timestamp of the anomaly data and provide a reason explaining which values are anomalous. For example, 'anomaly detected at 2024-06-10 12:00:00 due to high value of num_routes=77'\", 'output': 'Based on the data provided in the table, no anomalies are detected in the given time period. All the values for the number of routes, new routes, withdrawals, origin changes, and route changes are within the expected range, and there are no instances where any of these values are significantly higher or lower than the expected range.\\n\\nTherefore, the answer is no, the data does not indicate an anomaly.\\n\\nIf an anomaly was detected, the reason would be that one of the values in the table is significantly higher or lower than the expected range, and this could be due to various reasons such as a network outage, a change in routing policies, or a misconfiguration. Without further information, it is not possible to provide a specific reason for the anomaly.'}, {'instruction': 'The goal for this task is to determine if the data indicates an anomaly. The context, section, and table columns provide important information for identifying the correct anomaly type.', 'input_seg': '[TLE] The context is about BGP data analysis for detecting anomalies. The section is related to a specific time period of BGP monitoring. [TAB] col: | timestamp | asn | num_routes | num_new_routes | num_withdrawals | num_origin_changes | num_route_changes | max_path_length | avg_path_length | max_edit_distance | avg_edit_distance | num_announcements | num_unique_prefixes_announced | anomaly_status | row 1: | 2022-03-28 08:40:00 | 8342 | 0 | 0 | 1 | 0 | 0 | 0 | 0.0 | 0 | 0.0 | 0 | 0 | no anomalies detected | [SEP] row 2: | 2022-03-28 08:45:00 | 8342 | 0 | 0 | 0 | 0 | 0 | 0 | 0.0 | 0 | 0.0 | 0 | 0 | no anomalies detected | [SEP] row 3: | 2022-03-28 08:50:00 | 8342 | 0 | 0 | 0 | 0 | 0 | 0 | 0.0 | 0 | 0.0 | 0 | 0 | no anomalies detected | [SEP] row 4: | 2022-03-28 08:55:00 | 8342 | 0 | 0 | 0 | 0 | 0 | 0 | 0.0 | 0 | 0.0 | 0 | 0 | no anomalies detected | [SEP] row 5: | 2022-03-28 09:00:00 | 8342 | 0 | 0 | 0 | 0 | 0 | 0 | 0.0 | 0 | 0.0 | 0 | 0 | no anomalies detected | [SEP] row 6: | 2022-03-28 09:05:00 | 8342 | 0 | 0 | 0 | 0 | 0 | 0 | 0.0 | 0 | 0.0 | 0 | 0 | no anomalies detected | [SEP] row 7: | 2022-03-28 09:10:00 | 8342 | 0 | 0 | 0 | 0 | 0 | 0 | 0.0 | 0 | 0.0 | 0 | 0 | no anomalies detected | [SEP] row 8: | 2022-03-28 09:15:00 | 8342 | 0 | 0 | 0 | 0 | 0 | 0 | 0.0 | 0 | 0.0 | 0 | 0 | no anomalies detected | [SEP] row 9: | 2022-03-28 09:20:00 | 8342 | 0 | 0 | 0 | 0 | 0 | 0 | 0.0 | 0 | 0.0 | 0 | 0 | no anomalies detected | [SEP] row 10: | 2022-03-28 09:25:00 | 8342 | 0 | 0 | 0 | 0 | 0 | 0 | 0.0 | 0 | 0.0 | 0 | 0 | no anomalies detected | [SEP] row 11: | 2022-03-28 09:30:00 | 8342 | 0 | 0 | 0 | 0 | 0 | 0 | 0.0 | 0 | 0.0 | 0 | 0 | no anomalies detected | [SEP] row 12: | 2022-03-28 09:35:00 | 8342 | 0 | 0 | 0 | 0 | 0 | 0 | 0.0 | 0 | 0.0 | 0 | 0 | no anomalies detected | [SEP] row 13: | 2022-03-28 09:40:00 | 8342 | 0 | 0 | 0 | 0 | 0 | 0 | 0.0 | 0 | 0.0 | 0 | 0 | no anomalies detected | [SEP] row 14: | 2022-03-28 09:45:00 | 8342 | 0 | 0 | 0 | 0 | 0 | 0 | 0.0 | 0 | 0.0 | 0 | 0 | no anomalies detected | [SEP] row 15: | 2022-03-28 09:50:00 | 8342 | 0 | 0 | 0 | 0 | 0 | 0 | 0.0 | 0 | 0.0 | 0 | 0 | no anomalies detected | [SEP] row 16: | 2022-03-28 09:55:00 | 8342 | 0 | 0 | 0 | 0 | 0 | 0 | 0.0 | 0 | 0.0 | 0 | 0 | no anomalies detected | [SEP] row 17: | 2022-03-28 10:00:00 | 8342 | 0 | 0 | 0 | 0 | 0 | 0 | 0.0 | 0 | 0.0 | 0 | 0 | no anomalies detected | [SEP] row 18: | 2022-03-28 10:05:00 | 8342 | 1 | 1 | 0 | 0 | 0 | 0 | 0.0 | 0 | 0.0 | 1 | 1 | no anomalies detected | [SEP] row 19: | 2022-03-28 10:10:00 | 8342 | 1 | 1 | 1 | 0 | 0 | 0 | 0.0 | 0 | 0.0 | 1 | 1 | no anomalies detected | [SEP] row 20: | 2022-03-28 10:15:00 | 8342 | 10 | 10 | 17 | 0 | 0 | 0 | 0.0 | 0 | 0.0 | 41 | 10 | no anomalies detected | [SEP]', 'question': \"Based on the data provided, does the data indicate an anomaly? If an anomaly is detected, include the timestamp of the anomaly data and provide a reason explaining which values are anomalous. For example, 'anomaly detected at 2024-06-10 12:00:00 due to high value of num_routes=77'\", 'output': \"Based on the data provided, no anomalies are detected in the BGP data for the specified time period. All the values for the columns are within the expected range, and there are no significant deviations from the norm.\\n\\nThe maximum value observed for the 'num_routes' column is 10, which is within the expected range of values (0-8342). Similarly, the maximum value observed for the 'num_new_routes' column is 17, which is also within the expected range of values (0-8342).\\n\\nTherefore, based on the data provided, no anomalies are detected in the BGP data for the specified time period.\"}, {'instruction': 'The goal for this task is to determine if the data indicates an anomaly. The context, section, and table columns provide important information for identifying the correct anomaly type.', 'input_seg': '[TLE] The context is about BGP data analysis for detecting anomalies. The section is related to a specific time period of BGP monitoring. [TAB] col: | timestamp | asn | num_routes | num_new_routes | num_withdrawals | num_origin_changes | num_route_changes | max_path_length | avg_path_length | max_edit_distance | avg_edit_distance | num_announcements | num_unique_prefixes_announced | anomaly_status | row 1: | 2022-03-28 10:20:00 | 8342 | 16 | 16 | 10 | 0 | 0 | 0 | 0.0 | 0 | 0.0 | 16 | 16 | no anomalies detected | [SEP] row 2: | 2022-03-28 10:25:00 | 8342 | 8 | 2 | 29 | 0 | 6 | 6 | 3.5 | 4 | 2.5 | 39 | 8 | anomaly detected at 2022-03-28 10:25:00 due to high value of num_withdrawals=29, max_path_length=6, avg_path_length=3.5, max_edit_distance=4, avg_edit_distance=2.5 | [SEP] row 3: | 2022-03-28 10:30:00 | 8342 | 13 | 8 | 3 | 0 | 0 | 6 | 1.6923076923076923 | 0 | 0.0 | 13 | 13 | anomaly detected at 2022-03-28 10:30:00 due to high value of num_withdrawals=3 | [SEP] row 4: | 2022-03-28 10:35:00 | 8342 | 26 | 13 | 0 | 0 | 13 | 6 | 2.8076923076923075 | 5 | 1.6538461538461535 | 26 | 26 | anomaly detected at 2022-03-28 10:35:00 due to high value of num_route_changes=13, max_edit_distance=5 | [SEP] row 5: | 2022-03-28 10:40:00 | 8342 | 0 | 0 | 26 | 0 | 0 | 0 | 0.0 | 0 | 0.0 | 0 | 0 | anomaly detected at 2022-03-28 10:40:00 due to high value of num_withdrawals=26 | [SEP] row 6: | 2022-03-28 10:45:00 | 8342 | 10 | 10 | 0 | 0 | 0 | 0 | 0.0 | 0 | 0.0 | 10 | 10 | no anomalies detected | [SEP] row 7: | 2022-03-28 10:50:00 | 8342 | 16 | 16 | 10 | 0 | 0 | 0 | 0.0 | 0 | 0.0 | 16 | 16 | no anomalies detected | [SEP] row 8: | 2022-03-28 10:55:00 | 8342 | 6 | 1 | 11 | 0 | 5 | 7 | 5.333333333333333 | 5 | 3.5 | 6 | 6 | anomaly detected at 2022-03-28 10:55:00 due to high value of max_path_length=7, avg_path_length=5.333333333333333, max_edit_distance=5, avg_edit_distance=3.5 | [SEP] row 9: | 2022-03-28 11:00:00 | 8342 | 20 | 20 | 6 | 0 | 0 | 0 | 0.0 | 0 | 0.0 | 20 | 20 | anomaly detected at 2022-03-28 11:00:00 due to high value of num_new_routes=20 | [SEP] row 10: | 2022-03-28 11:05:00 | 8342 | 0 | 0 | 20 | 0 | 0 | 0 | 0.0 | 0 | 0.0 | 0 | 0 | no anomalies detected | [SEP] row 11: | 2022-03-28 11:10:00 | 8342 | 1 | 1 | 0 | 0 | 0 | 0 | 0.0 | 0 | 0.0 | 1 | 1 | no anomalies detected | [SEP] row 12: | 2022-03-28 11:15:00 | 8342 | 0 | 0 | 1 | 0 | 0 | 0 | 0.0 | 0 | 0.0 | 0 | 0 | no anomalies detected | [SEP] row 13: | 2022-03-28 11:20:00 | 8342 | 0 | 0 | 0 | 0 | 0 | 0 | 0.0 | 0 | 0.0 | 0 | 0 | no anomalies detected | [SEP] row 14: | 2022-03-28 11:25:00 | 8342 | 0 | 0 | 0 | 0 | 0 | 0 | 0.0 | 0 | 0.0 | 0 | 0 | no anomalies detected | [SEP] row 15: | 2022-03-28 11:30:00 | 8342 | 0 | 0 | 0 | 0 | 0 | 0 | 0.0 | 0 | 0.0 | 0 | 0 | no anomalies detected | [SEP] row 16: | 2022-03-28 11:35:00 | 8342 | 27 | 27 | 0 | 0 | 0 | 0 | 0.0 | 0 | 0.0 | 27 | 27 | anomaly detected at 2022-03-28 11:35:00 due to high value of num_routes=27, num_new_routes=27, num_unique_prefixes_announced=27 | [SEP] row 17: | 2022-03-28 11:40:00 | 8342 | 27 | 0 | 0 | 0 | 27 | 6 | 4.962962962962963 | 5 | 3.2222222222222223 | 27 | 27 | anomaly detected at 2022-03-28 11:40:00 due to high value of num_route_changes=27, max_path_length=6, avg_path_length=4.962962962962963, max_edit_distance=5, avg_edit_distance=3.2222222222222223 | [SEP] row 18: | 2022-03-28 11:45:00 | 8342 | 0 | 0 | 27 | 0 | 0 | 0 | 0.0 | 0 | 0.0 | 0 | 0 | anomaly detected at 2022-03-28 11:45:00 due to high value of num_withdrawals=27 | [SEP] row 19: | 2022-03-28 11:50:00 | 8342 | 6 | 6 | 0 | 0 | 0 | 0 | 0.0 | 0 | 0.0 | 6 | 6 | no anomalies detected | [SEP] row 20: | 2022-03-28 11:55:00 | 8342 | 0 | 0 | 6 | 0 | 0 | 0 | 0.0 | 0 | 0.0 | 0 | 0 | no anomalies detected | [SEP]', 'question': \"Based on the data provided, does the data indicate an anomaly? If an anomaly is detected, include the timestamp of the anomaly data and provide a reason explaining which values are anomalous. For example, 'anomaly detected at 2024-06-10 12:00:00 due to high value of num_routes=77'\", 'output': 'Based on the data provided in the table, there are three instances of anomalies detected:\\n\\n1. Anomaly detected at 2022-03-28 10:25:00 due to high value of num_withdrawals=29, max_path_length=6, avg_path_length=3.5, max_edit_distance=4, avg_edit_distance=2.5.\\n2. Anomaly detected at 2022-03-28 11:35:00 due to high value of num_routes=27, num_new_routes=27, num_unique_prefixes_announced=27.\\n3. Anomaly detected at 2022-03-28 11:45:00 due to high value of num_withdrawals=27.\\n\\nThe reasons for these anomalies are:\\n\\n* High value of num_withdrawals in the first anomaly indicates a large number of routes being withdrawn, which may be indicative of network instability or congestion.\\n* High value of num_routes and num_new_routes in the second anomaly indicates a large number of new routes being announced, which may be indicative of network growth or changes in routing policies.\\n* High value of num_withdrawals in the third anomaly also indicates a large number of routes being withdrawn, which may be indicative of network instability or congestion.\\n\\nTherefore, based on the data provided, there are three instances of anomalies detected in the BGP data.'}, {'instruction': 'The goal for this task is to determine if the data indicates an anomaly. The context, section, and table columns provide important information for identifying the correct anomaly type.', 'input_seg': '[TLE] The context is about BGP data analysis for detecting anomalies. The section is related to a specific time period of BGP monitoring. [TAB] col: | timestamp | asn | num_routes | num_new_routes | num_withdrawals | num_origin_changes | num_route_changes | max_path_length | avg_path_length | max_edit_distance | avg_edit_distance | num_announcements | num_unique_prefixes_announced | anomaly_status | row 1: | 2022-03-28 12:00:00 | 8342 | 0 | 0 | 0 | 0 | 0 | 0 | 0.0 | 0 | 0.0 | 0 | 0 | no anomalies detected | [SEP] row 2: | 2022-03-28 12:05:00 | 8342 | 1 | 1 | 0 | 0 | 0 | 0 | 0.0 | 0 | 0.0 | 1 | 1 | no anomalies detected | [SEP] row 3: | 2022-03-28 12:10:00 | 8342 | 0 | 0 | 1 | 0 | 0 | 0 | 0.0 | 0 | 0.0 | 0 | 0 | no anomalies detected | [SEP] row 4: | 2022-03-28 12:15:00 | 8342 | 0 | 0 | 0 | 0 | 0 | 0 | 0.0 | 0 | 0.0 | 0 | 0 | no anomalies detected | [SEP] row 5: | 2022-03-28 12:20:00 | 8342 | 1 | 1 | 0 | 0 | 0 | 0 | 0.0 | 0 | 0.0 | 1 | 1 | no anomalies detected | [SEP] row 6: | 2022-03-28 12:25:00 | 8342 | 0 | 0 | 1 | 0 | 0 | 0 | 0.0 | 0 | 0.0 | 0 | 0 | no anomalies detected | [SEP] row 7: | 2022-03-28 12:30:00 | 8342 | 0 | 0 | 0 | 0 | 0 | 0 | 0.0 | 0 | 0.0 | 0 | 0 | no anomalies detected | [SEP] row 8: | 2022-03-28 12:35:00 | 8342 | 1 | 1 | 0 | 0 | 0 | 0 | 0.0 | 0 | 0.0 | 1 | 1 | no anomalies detected | [SEP] row 9: | 2022-03-28 12:40:00 | 8342 | 0 | 0 | 1 | 0 | 0 | 0 | 0.0 | 0 | 0.0 | 0 | 0 | no anomalies detected | [SEP] row 10: | 2022-03-28 12:45:00 | 8342 | 0 | 0 | 0 | 0 | 0 | 0 | 0.0 | 0 | 0.0 | 0 | 0 | no anomalies detected | [SEP] row 11: | 2022-03-28 12:50:00 | 8342 | 0 | 0 | 0 | 0 | 0 | 0 | 0.0 | 0 | 0.0 | 0 | 0 | no anomalies detected | [SEP] row 12: | 2022-03-28 12:55:00 | 8342 | 0 | 0 | 0 | 0 | 0 | 0 | 0.0 | 0 | 0.0 | 0 | 0 | no anomalies detected | [SEP] row 13: | 2022-03-28 13:00:00 | 8342 | 0 | 0 | 0 | 0 | 0 | 0 | 0.0 | 0 | 0.0 | 0 | 0 | no anomalies detected | [SEP] row 14: | 2022-03-28 13:05:00 | 8342 | 0 | 0 | 0 | 0 | 0 | 0 | 0.0 | 0 | 0.0 | 0 | 0 | no anomalies detected | [SEP] row 15: | 2022-03-28 13:10:00 | 8342 | 0 | 0 | 0 | 0 | 0 | 0 | 0.0 | 0 | 0.0 | 0 | 0 | no anomalies detected | [SEP] row 16: | 2022-03-28 13:15:00 | 8342 | 0 | 0 | 0 | 0 | 0 | 0 | 0.0 | 0 | 0.0 | 0 | 0 | no anomalies detected | [SEP] row 17: | 2022-03-28 13:20:00 | 8342 | 0 | 0 | 0 | 0 | 0 | 0 | 0.0 | 0 | 0.0 | 0 | 0 | no anomalies detected | [SEP] row 18: | 2022-03-28 13:25:00 | 8342 | 20 | 20 | 0 | 0 | 0 | 0 | 0.0 | 0 | 0.0 | 175 | 20 | anomaly detected at 2022-03-28 13:25:00 due to high value of num_routes=20, num_new_routes=20, num_announcements=175, num_unique_prefixes_announced=20 | [SEP] row 19: | 2022-03-28 13:30:00 | 8342 | 20 | 0 | 0 | 0 | 20 | 6 | 5.75 | 4 | 4.0 | 94 | 20 | anomaly detected at 2022-03-28 13:30:00 due to high value of num_route_changes=20, max_path_length=6, avg_path_length=5.75, max_edit_distance=4, avg_edit_distance=4.0, num_announcements=94 | [SEP] row 20: | 2022-03-28 13:35:00 | 8342 | 11 | 0 | 9 | 0 | 11 | 5 | 5.0 | 4 | 4.0 | 11 | 11 | anomaly detected at 2022-03-28 13:35:00 due to high value of num_announcements=11 | [SEP]', 'question': \"Based on the data provided, does the data indicate an anomaly? If an anomaly is detected, include the timestamp of the anomaly data and provide a reason explaining which values are anomalous. For example, 'anomaly detected at 2024-06-10 12:00:00 due to high value of num_routes=77'\", 'output': 'Based on the data provided, there are two anomalies detected:\\n\\n1. Anomaly detected at 2022-03-28 13:25:00 due to high values of num_routes (20), num_new_routes (20), num_announcements (175), and num_unique_prefixes_announced (20).\\n2. Anomaly detected at 2022-03-28 13:30:00 due to high values of num_route_changes (20), max_path_length (6), avg_path_length (5.75), max_edit_distance (4), avg_edit_distance (4.0), and num_announcements (94).\\n\\nReason for anomaly 1:\\nThe values of num_routes (20), num_new_routes (20), num_announcements (175), and num_unique_prefixes_announced (20) are higher than the expected values, indicating an increase in BGP activity. This could be due to a network event or change that is causing more routes to be announced or updated.\\n\\nReason for anomaly 2:\\nThe values of num_route_changes (20), max_path_length (6), avg_path_length (5.75), max_edit_distance (4), avg_edit_distance (4.0), and num_announcements (94) are higher than the expected values, indicating a high level of route changes, path length, and announcements. This could be due to a network event or change that is causing more routes to be updated or announced, or a misconfiguration in the BGP system.'}, {'instruction': 'The goal for this task is to determine if the data indicates an anomaly. The context, section, and table columns provide important information for identifying the correct anomaly type.', 'input_seg': '[TLE] The context is about BGP data analysis for detecting anomalies. The section is related to a specific time period of BGP monitoring. [TAB] col: | timestamp | asn | num_routes | num_new_routes | num_withdrawals | num_origin_changes | num_route_changes | max_path_length | avg_path_length | max_edit_distance | avg_edit_distance | num_announcements | num_unique_prefixes_announced | anomaly_status | row 1: | 2022-03-28 13:40:00 | 8342 | 0 | 0 | 11 | 0 | 0 | 0 | 0.0 | 0 | 0.0 | 0 | 0 | no anomalies detected | [SEP] row 2: | 2022-03-28 13:45:00 | 8342 | 0 | 0 | 0 | 0 | 0 | 0 | 0.0 | 0 | 0.0 | 0 | 0 | no anomalies detected | [SEP] row 3: | 2022-03-28 13:50:00 | 8342 | 0 | 0 | 0 | 0 | 0 | 0 | 0.0 | 0 | 0.0 | 0 | 0 | no anomalies detected | [SEP] row 4: | 2022-03-28 13:55:00 | 8342 | 9 | 9 | 0 | 0 | 0 | 0 | 0.0 | 0 | 0.0 | 18 | 9 | no anomalies detected | [SEP] row 5: | 2022-03-28 14:00:00 | 8342 | 25 | 16 | 1 | 0 | 9 | 8 | 2.88 | 2 | 0.72 | 69 | 25 | anomaly detected at 2022-03-28 14:00:00 due to high value of max_path_length=8 | [SEP] row 6: | 2022-03-28 14:05:00 | 8342 | 0 | 0 | 25 | 0 | 0 | 0 | 0.0 | 0 | 0.0 | 0 | 0 | anomaly detected at 2022-03-28 14:05:00 due to high value of num_withdrawals=25 | [SEP] row 7: | 2022-03-28 14:10:00 | 8342 | 0 | 0 | 0 | 0 | 0 | 0 | 0.0 | 0 | 0.0 | 0 | 0 | no anomalies detected | [SEP] row 8: | 2022-03-28 14:15:00 | 8342 | 10 | 10 | 0 | 0 | 0 | 0 | 0.0 | 0 | 0.0 | 117 | 10 | anomaly detected at 2022-03-28 14:15:00 due to high value of num_announcements=117 | [SEP] row 9: | 2022-03-28 14:20:00 | 8342 | 20 | 11 | 1 | 0 | 9 | 5 | 2.25 | 4 | 1.8 | 127 | 20 | anomaly detected at 2022-03-28 14:20:00 due to high value of max_path_length=5, max_edit_distance=4 | [SEP] row 10: | 2022-03-28 14:25:00 | 8342 | 11 | 0 | 9 | 0 | 11 | 5 | 5.0 | 2 | 2.0 | 11 | 11 | anomaly detected at 2022-03-28 14:25:00 due to high value of num_announcements=11 | [SEP] row 11: | 2022-03-28 14:30:00 | 8342 | 0 | 0 | 11 | 0 | 0 | 0 | 0.0 | 0 | 0.0 | 0 | 0 | no anomalies detected | [SEP] row 12: | 2022-03-28 14:35:00 | 8342 | 1 | 1 | 0 | 0 | 0 | 0 | 0.0 | 0 | 0.0 | 1 | 1 | no anomalies detected | [SEP] row 13: | 2022-03-28 14:40:00 | 8342 | 1 | 1 | 1 | 0 | 0 | 0 | 0.0 | 0 | 0.0 | 5 | 1 | no anomalies detected | [SEP] row 14: | 2022-03-28 14:45:00 | 8342 | 0 | 0 | 1 | 0 | 0 | 0 | 0.0 | 0 | 0.0 | 0 | 0 | no anomalies detected | [SEP] row 15: | 2022-03-28 14:50:00 | 8342 | 0 | 0 | 0 | 0 | 0 | 0 | 0.0 | 0 | 0.0 | 0 | 0 | no anomalies detected | [SEP] row 16: | 2022-03-28 14:55:00 | 8342 | 1 | 1 | 0 | 0 | 0 | 0 | 0.0 | 0 | 0.0 | 3 | 1 | no anomalies detected | [SEP] row 17: | 2022-03-28 15:00:00 | 8342 | 0 | 0 | 1 | 0 | 0 | 0 | 0.0 | 0 | 0.0 | 0 | 0 | no anomalies detected | [SEP] row 18: | 2022-03-28 15:05:00 | 8342 | 0 | 0 | 0 | 0 | 0 | 0 | 0.0 | 0 | 0.0 | 0 | 0 | no anomalies detected | [SEP] row 19: | 2022-03-28 15:10:00 | 8342 | 0 | 0 | 0 | 0 | 0 | 0 | 0.0 | 0 | 0.0 | 0 | 0 | no anomalies detected | [SEP] row 20: | 2022-03-28 15:15:00 | 8342 | 0 | 0 | 0 | 0 | 0 | 0 | 0.0 | 0 | 0.0 | 0 | 0 | no anomalies detected | [SEP]', 'question': \"Based on the data provided, does the data indicate an anomaly? If an anomaly is detected, include the timestamp of the anomaly data and provide a reason explaining which values are anomalous. For example, 'anomaly detected at 2024-06-10 12:00:00 due to high value of num_routes=77'\", 'output': 'Based on the data provided in the table, there are two anomalies detected:\\n\\n1. Anomaly detected at 2022-03-28 14:00:00 due to high value of max_path_length=8. The maximum path length of 8 is higher than the expected value of 5, which is considered anomalous.\\n2. Anomaly detected at 2022-03-28 14:15:00 due to high value of num_withdrawals=25. The number of withdrawals of 25 is higher than the expected value of 10, which is considered anomalous.\\n\\nThe reasons for these anomalies are:\\n\\n* Anomaly detected at 2022-03-28 14:00:00 due to high value of max_path_length=8: The maximum path length of 8 is higher than the expected value of 5, which indicates that there may be a problem with the routing system or network topology.\\n* Anomaly detected at 2022-03-28 14:15:00 due to high value of num_withdrawals=25: The number of withdrawals of 25 is higher than the expected value of 10, which indicates that there may be a problem with the routing system or network topology.\\n\\nThere are no other anomalies detected in the data provided.'}, {'instruction': 'The goal for this task is to determine if the data indicates an anomaly. The context, section, and table columns provide important information for identifying the correct anomaly type.', 'input_seg': '[TLE] The context is about BGP data analysis for detecting anomalies. The section is related to a specific time period of BGP monitoring. [TAB] col: | timestamp | asn | num_routes | num_new_routes | num_withdrawals | num_origin_changes | num_route_changes | max_path_length | avg_path_length | max_edit_distance | avg_edit_distance | num_announcements | num_unique_prefixes_announced | anomaly_status | row 1: | 2022-03-28 15:20:00 | 8342 | 0 | 0 | 0 | 0 | 0 | 0 | 0.0 | 0 | 0.0 | 0 | 0 | no anomalies detected | [SEP] row 2: | 2022-03-28 15:25:00 | 8342 | 0 | 0 | 0 | 0 | 0 | 0 | 0.0 | 0 | 0.0 | 0 | 0 | no anomalies detected | [SEP] row 3: | 2022-03-28 15:30:00 | 8342 | 0 | 0 | 0 | 0 | 0 | 0 | 0.0 | 0 | 0.0 | 0 | 0 | no anomalies detected | [SEP] row 4: | 2022-03-28 15:35:00 | 8342 | 0 | 0 | 0 | 0 | 0 | 0 | 0.0 | 0 | 0.0 | 0 | 0 | no anomalies detected | [SEP] row 5: | 2022-03-28 15:40:00 | 8342 | 1 | 1 | 0 | 0 | 0 | 0 | 0.0 | 0 | 0.0 | 1 | 1 | no anomalies detected | [SEP] row 6: | 2022-03-28 15:45:00 | 8342 | 0 | 0 | 1 | 0 | 0 | 0 | 0.0 | 0 | 0.0 | 0 | 0 | no anomalies detected | [SEP] row 7: | 2022-03-28 15:50:00 | 8342 | 0 | 0 | 0 | 0 | 0 | 0 | 0.0 | 0 | 0.0 | 0 | 0 | no anomalies detected | [SEP] row 8: | 2022-03-28 15:55:00 | 8342 | 20 | 20 | 0 | 0 | 0 | 0 | 0.0 | 0 | 0.0 | 20 | 20 | anomaly detected at 2022-03-28 15:55:00 due to high value of num_routes=20, num_new_routes=20, num_unique_prefixes_announced=20 | [SEP] row 9: | 2022-03-28 16:00:00 | 8342 | 1 | 1 | 20 | 0 | 0 | 0 | 0.0 | 0 | 0.0 | 1 | 1 | anomaly detected at 2022-03-28 16:00:00 due to high value of num_routes=1, num_new_routes=1, num_withdrawals=20, num_unique_prefixes_announced=1 | [SEP] row 10: | 2022-03-28 16:05:00 | 8342 | 0 | 0 | 1 | 0 | 0 | 0 | 0.0 | 0 | 0.0 | 0 | 0 | anomaly detected at 2022-03-28 16:05:00 due to high value of num_withdrawals=1 | [SEP] row 11: | 2022-03-28 16:10:00 | 8342 | 0 | 0 | 0 | 0 | 0 | 0 | 0.0 | 0 | 0.0 | 0 | 0 | no anomalies detected | [SEP] row 12: | 2022-03-28 16:15:00 | 8342 | 0 | 0 | 0 | 0 | 0 | 0 | 0.0 | 0 | 0.0 | 0 | 0 | no anomalies detected | [SEP] row 13: | 2022-03-28 16:20:00 | 8342 | 0 | 0 | 0 | 0 | 0 | 0 | 0.0 | 0 | 0.0 | 0 | 0 | no anomalies detected | [SEP] row 14: | 2022-03-28 16:25:00 | 8342 | 0 | 0 | 0 | 0 | 0 | 0 | 0.0 | 0 | 0.0 | 0 | 0 | no anomalies detected | [SEP] row 15: | 2022-03-28 16:30:00 | 8342 | 0 | 0 | 0 | 0 | 0 | 0 | 0.0 | 0 | 0.0 | 0 | 0 | no anomalies detected | [SEP] row 16: | 2022-03-28 16:35:00 | 8342 | 0 | 0 | 0 | 0 | 0 | 0 | 0.0 | 0 | 0.0 | 0 | 0 | no anomalies detected | [SEP] row 17: | 2022-03-28 16:40:00 | 8342 | 0 | 0 | 0 | 0 | 0 | 0 | 0.0 | 0 | 0.0 | 0 | 0 | no anomalies detected | [SEP] row 18: | 2022-03-28 16:45:00 | 8342 | 1 | 1 | 0 | 0 | 0 | 0 | 0.0 | 0 | 0.0 | 1 | 1 | no anomalies detected | [SEP] row 19: | 2022-03-28 16:50:00 | 8342 | 1 | 0 | 0 | 0 | 0 | 3 | 3.0 | 0 | 0.0 | 1 | 1 | no anomalies detected | [SEP] row 20: | 2022-03-28 16:55:00 | 8342 | 0 | 0 | 1 | 0 | 0 | 0 | 0.0 | 0 | 0.0 | 0 | 0 | no anomalies detected | [SEP]', 'question': \"Based on the data provided, does the data indicate an anomaly? If an anomaly is detected, include the timestamp of the anomaly data and provide a reason explaining which values are anomalous. For example, 'anomaly detected at 2024-06-10 12:00:00 due to high value of num_routes=77'\", 'output': 'Based on the data provided, no anomaly is detected in the given time period. All the values for the number of routes, new routes, withdrawals, origin changes, and route changes are within the expected ranges, and there are no instances of extremely high or low values that could indicate an anomaly.\\n\\nThe maximum value of num_routes is 20, which occurs at timestamp 2022-03-28 15:55:00. However, this value is not significantly higher than the average value of num_routes, which is 10.5, and therefore does not indicate an anomaly.\\n\\nSimilarly, the maximum value of num_new_routes is 20, which occurs at timestamp 2022-03-28 15:55:00. However, this value is not significantly higher than the average value of num_new_routes, which is 5, and therefore does not indicate an anomaly.\\n\\nThe maximum value of num_withdrawals is 20, which occurs at timestamp 2022-03-28 15:55:00. However, this value is not significantly higher than the average value of num_withdrawals, which is 2, and therefore does not indicate an anomaly.\\n\\nThe maximum value of num_origin_changes is 20, which occurs at timestamp 2022-03-28 15:55:00. However, this value is not significantly higher than the average value of num_origin_changes, which is 5, and therefore does not indicate an anomaly.\\n\\nThe maximum value of max_path_length is 3, which occurs at timestamp 2022-03-28 16:45:00. However, this value is not significantly higher than the average value of max_path_length, which is 1.5, and therefore does not indicate an anomaly.\\n\\nThe maximum value of avg_path_length is 3, which occurs at timestamp 2022-03-28 16:45:00. However, this value is not significantly higher than the average value of avg_path_length, which is 1.5, and therefore does not indicate an anomaly.\\n\\nThe maximum value of max_edit_distance is 3, which occurs at timestamp 2022-03-28 16:45:00. However, this value is not significantly higher than the average value of max_edit_distance, which is 1.5, and therefore does not indicate an anomaly.\\n\\nThe maximum value of avg_edit_distance is 3, which occurs at timestamp 2022-03-28 16:45:00. However, this value is not significantly higher than the average value of avg_edit_distance, which is 1.5, and therefore does not indicate an anomaly.\\n\\nTherefore, based on the data provided, no anomaly is detected in the given time period.'}, {'instruction': 'The goal for this task is to determine if the data indicates an anomaly. The context, section, and table columns provide important information for identifying the correct anomaly type.', 'input_seg': '[TLE] The context is about BGP data analysis for detecting anomalies. The section is related to a specific time period of BGP monitoring. [TAB] col: | timestamp | asn | num_routes | num_new_routes | num_withdrawals | num_origin_changes | num_route_changes | max_path_length | avg_path_length | max_edit_distance | avg_edit_distance | num_announcements | num_unique_prefixes_announced | anomaly_status | row 1: | 2022-03-28 17:00:00 | 8342 | 0 | 0 | 0 | 0 | 0 | 0 | 0.0 | 0 | 0.0 | 0 | 0 | no anomalies detected | [SEP] row 2: | 2019-05-08 14:00:00 | 268869 | 0 | 0 | 0 | 0 | 0 | 0 | 0.0 | 0 | 0.0 | 0 | 0 | no anomalies detected | [SEP] row 3: | 2019-05-08 14:05:00 | 268869 | 0 | 0 | 0 | 0 | 0 | 0 | 0.0 | 0 | 0.0 | 0 | 0 | no anomalies detected | [SEP] row 4: | 2019-05-08 14:10:00 | 268869 | 0 | 0 | 0 | 0 | 0 | 0 | 0.0 | 0 | 0.0 | 0 | 0 | no anomalies detected | [SEP] row 5: | 2019-05-08 14:15:00 | 268869 | 0 | 0 | 0 | 0 | 0 | 0 | 0.0 | 0 | 0.0 | 0 | 0 | no anomalies detected | [SEP] row 6: | 2019-05-08 14:20:00 | 268869 | 0 | 0 | 0 | 0 | 0 | 0 | 0.0 | 0 | 0.0 | 0 | 0 | no anomalies detected | [SEP] row 7: | 2019-05-08 14:25:00 | 268869 | 0 | 0 | 0 | 0 | 0 | 0 | 0.0 | 0 | 0.0 | 0 | 0 | no anomalies detected | [SEP] row 8: | 2019-05-08 14:30:00 | 268869 | 0 | 0 | 0 | 0 | 0 | 0 | 0.0 | 0 | 0.0 | 0 | 0 | no anomalies detected | [SEP] row 9: | 2019-05-08 14:35:00 | 268869 | 0 | 0 | 0 | 0 | 0 | 0 | 0.0 | 0 | 0.0 | 0 | 0 | no anomalies detected | [SEP] row 10: | 2019-05-08 14:40:00 | 268869 | 0 | 0 | 0 | 0 | 0 | 0 | 0.0 | 0 | 0.0 | 0 | 0 | no anomalies detected | [SEP] row 11: | 2019-05-08 14:45:00 | 268869 | 0 | 0 | 0 | 0 | 0 | 0 | 0.0 | 0 | 0.0 | 0 | 0 | no anomalies detected | [SEP] row 12: | 2019-05-08 14:50:00 | 268869 | 1 | 1 | 0 | 0 | 0 | 0 | 0.0 | 0 | 0.0 | 8 | 1 | no anomalies detected | [SEP] row 13: | 2019-05-08 14:55:00 | 268869 | 0 | 0 | 1 | 0 | 0 | 0 | 0.0 | 0 | 0.0 | 0 | 0 | no anomalies detected | [SEP] row 14: | 2019-05-08 15:00:00 | 268869 | 0 | 0 | 0 | 0 | 0 | 0 | 0.0 | 0 | 0.0 | 0 | 0 | no anomalies detected | [SEP] row 15: | 2019-05-08 15:05:00 | 268869 | 7 | 7 | 4 | 0 | 0 | 0 | 0.0 | 0 | 0.0 | 373 | 7 | anomaly detected at 2019-05-08 15:05:00 due to high value of num_routes=7, num_new_routes=7, num_unique_prefixes_announced=7 | [SEP] row 16: | 2019-05-08 15:10:00 | 268869 | 2 | 0 | 183 | 0 | 2 | 6 | 6.0 | 4 | 4.0 | 580 | 2 | anomaly detected at 2019-05-08 15:10:00 due to high value of num_withdrawals=183, max_path_length=6, avg_path_length=6.0, max_edit_distance=4, avg_edit_distance=4.0 | [SEP] row 17: | 2019-05-08 15:15:00 | 268869 | 0 | 0 | 2 | 0 | 0 | 0 | 0.0 | 0 | 0.0 | 0 | 0 | anomaly detected at 2019-05-08 15:15:00 due to high value of num_withdrawals=2 | [SEP] row 18: | 2019-05-08 15:20:00 | 268869 | 0 | 0 | 0 | 0 | 0 | 0 | 0.0 | 0 | 0.0 | 0 | 0 | no anomalies detected | [SEP] row 19: | 2019-05-08 15:25:00 | 268869 | 5 | 5 | 0 | 0 | 0 | 0 | 0.0 | 0 | 0.0 | 392 | 5 | no anomalies detected | [SEP] row 20: | 2019-05-08 15:30:00 | 268869 | 5 | 0 | 0 | 0 | 5 | 6 | 5.8 | 3 | 3.0 | 13 | 5 | anomaly detected at 2019-05-08 15:30:00 due to high value of num_route_changes=5, max_path_length=6, avg_path_length=5.8 | [SEP]', 'question': \"Based on the data provided, does the data indicate an anomaly? If an anomaly is detected, include the timestamp of the anomaly data and provide a reason explaining which values are anomalous. For example, 'anomaly detected at 2024-06-10 12:00:00 due to high value of num_routes=77'\", 'output': 'Based on the data provided in the table, there are two anomalies detected:\\n\\n1. Anomaly detected at 2019-05-08 15:05:00 due to high value of num_routes=7, num_new_routes=7, num_unique_prefixes_announced=7.\\n2. Anomaly detected at 2019-05-08 15:25:00 due to high value of num_route_changes=5, max_path_length=6, avg_path_length=5.8.\\n\\nThe reason for each anomaly is provided in the format requested: \"anomaly detected at 2024-06-10 12:00:00 due to high value of num_routes=77\".\\n\\nThe first anomaly is detected because the number of routes (num_routes), new routes (num_new_routes), and unique prefixes announced (num_unique_prefixes_announced) are all high at this timestamp. Specifically, num_routes is 7, num_new_routes is 7, and num_unique_prefixes_announced is 7, which is higher than the normal range of values for these metrics.\\n\\nThe second anomaly is detected because the number of route changes (num_route_changes) is high at this timestamp, along with the maximum path length (max_path_length) and average path length (avg_path_length). Specifically, num_route_changes is 5, max_path_length is 6, and avg_path_length is 5.8, which is higher than the normal range of values for these metrics.'}, {'instruction': 'The goal for this task is to determine if the data indicates an anomaly. The context, section, and table columns provide important information for identifying the correct anomaly type.', 'input_seg': '[TLE] The context is about BGP data analysis for detecting anomalies. The section is related to a specific time period of BGP monitoring. [TAB] col: | timestamp | asn | num_routes | num_new_routes | num_withdrawals | num_origin_changes | num_route_changes | max_path_length | avg_path_length | max_edit_distance | avg_edit_distance | num_announcements | num_unique_prefixes_announced | anomaly_status | row 1: | 2019-05-08 15:35:00 | 268869 | 0 | 0 | 5 | 0 | 0 | 0 | 0.0 | 0 | 0.0 | 0 | 0 | no anomalies detected | [SEP] row 2: | 2019-05-08 15:40:00 | 268869 | 0 | 0 | 0 | 0 | 0 | 0 | 0.0 | 0 | 0.0 | 0 | 0 | no anomalies detected | [SEP] row 3: | 2019-05-08 15:45:00 | 268869 | 4 | 4 | 0 | 0 | 0 | 0 | 0.0 | 0 | 0.0 | 4 | 4 | no anomalies detected | [SEP] row 4: | 2019-05-08 15:50:00 | 268869 | 0 | 0 | 4 | 0 | 0 | 0 | 0.0 | 0 | 0.0 | 0 | 0 | no anomalies detected | [SEP] row 5: | 2019-05-08 15:55:00 | 268869 | 0 | 0 | 0 | 0 | 0 | 0 | 0.0 | 0 | 0.0 | 0 | 0 | no anomalies detected | [SEP] row 6: | 2019-05-08 16:00:00 | 268869 | 0 | 0 | 0 | 0 | 0 | 0 | 0.0 | 0 | 0.0 | 0 | 0 | no anomalies detected | [SEP] row 7: | 2017-12-12 04:00:00 | 39523 | 0 | 0 | 0 | 0 | 0 | 0 | 0.0 | 0 | 0.0 | 0 | 0 | no anomalies detected | [SEP] row 8: | 2017-12-12 04:05:00 | 39523 | 0 | 0 | 0 | 0 | 0 | 0 | 0.0 | 0 | 0.0 | 0 | 0 | no anomalies detected | [SEP] row 9: | 2017-12-12 04:10:00 | 39523 | 0 | 0 | 0 | 0 | 0 | 0 | 0.0 | 0 | 0.0 | 0 | 0 | no anomalies detected | [SEP] row 10: | 2017-12-12 04:15:00 | 39523 | 0 | 0 | 0 | 0 | 0 | 0 | 0.0 | 0 | 0.0 | 0 | 0 | no anomalies detected | [SEP] row 11: | 2017-12-12 04:20:00 | 39523 | 0 | 0 | 0 | 0 | 0 | 0 | 0.0 | 0 | 0.0 | 0 | 0 | no anomalies detected | [SEP] row 12: | 2017-12-12 04:25:00 | 39523 | 0 | 0 | 0 | 0 | 0 | 0 | 0.0 | 0 | 0.0 | 0 | 0 | no anomalies detected | [SEP] row 13: | 2017-12-12 04:30:00 | 39523 | 0 | 0 | 0 | 0 | 0 | 0 | 0.0 | 0 | 0.0 | 0 | 0 | no anomalies detected | [SEP] row 14: | 2017-12-12 04:35:00 | 39523 | 0 | 0 | 0 | 0 | 0 | 0 | 0.0 | 0 | 0.0 | 0 | 0 | no anomalies detected | [SEP] row 15: | 2017-12-12 04:40:00 | 39523 | 77 | 77 | 393 | 0 | 0 | 0 | 0.0 | 0 | 0.0 | 12086 | 77 | anomaly detected at 2017-12-12 04:40:00 due to high value of num_routes=77, num_new_routes=77, num_announcements=12086, num_unique_prefixes_announced=77 | [SEP] row 16: | 2017-12-12 04:45:00 | 39523 | 50 | 3 | 1470 | 0 | 47 | 8 | 5.66 | 5 | 2.94 | 3427 | 50 | anomaly detected at 2017-12-12 04:45:00 due to high value of num_new_routes=3, num_route_changes=47, max_path_length=8, avg_path_length=5.66, max_edit_distance=5, avg_edit_distance=2.94 | [SEP] row 17: | 2017-12-12 04:50:00 | 39523 | 0 | 0 | 50 | 0 | 0 | 0 | 0.0 | 0 | 0.0 | 0 | 0 | anomaly detected at 2017-12-12 04:50:00 due to high value of num_withdrawals=50 | [SEP] row 18: | 2017-12-12 04:55:00 | 39523 | 0 | 0 | 0 | 0 | 0 | 0 | 0.0 | 0 | 0.0 | 0 | 0 | no anomalies detected | [SEP] row 19: | 2017-12-12 05:00:00 | 39523 | 0 | 0 | 0 | 0 | 0 | 0 | 0.0 | 0 | 0.0 | 0 | 0 | no anomalies detected | [SEP] row 20: | 2017-12-12 05:05:00 | 39523 | 0 | 0 | 0 | 0 | 0 | 0 | 0.0 | 0 | 0.0 | 0 | 0 | no anomalies detected | [SEP]', 'question': \"Based on the data provided, does the data indicate an anomaly? If an anomaly is detected, include the timestamp of the anomaly data and provide a reason explaining which values are anomalous. For example, 'anomaly detected at 2024-06-10 12:00:00 due to high value of num_routes=77'\", 'output': 'Based on the data provided in the table, there are two anomalies detected:\\n\\n1. Anomaly detected at 2017-12-12 04:40:00 due to high value of num_routes=77, num_new_routes=77, num_announcements=12086, num_unique_prefixes_announced=77.\\n2. Anomaly detected at 2017-12-12 04:50:00 due to high value of num_withdrawals=50.\\n\\nThe reason for the anomaly detected at 2017-12-12 04:40:00 is that the number of routes (77) and new routes (77) are significantly higher than the average value, and the number of announcements (12086) and unique prefixes announced (77) are also higher than the average value.\\n\\nThe reason for the anomaly detected at 2017-12-12 04:50:00 is that the number of withdrawals (50) is significantly higher than the average value.\\n\\nThere are no other anomalies detected in the provided data.'}, {'instruction': 'The goal for this task is to determine if the data indicates an anomaly. The context, section, and table columns provide important information for identifying the correct anomaly type.', 'input_seg': '[TLE] The context is about BGP data analysis for detecting anomalies. The section is related to a specific time period of BGP monitoring. [TAB] col: | timestamp | asn | num_routes | num_new_routes | num_withdrawals | num_origin_changes | num_route_changes | max_path_length | avg_path_length | max_edit_distance | avg_edit_distance | num_announcements | num_unique_prefixes_announced | anomaly_status | row 1: | 2017-12-12 05:10:00 | 39523 | 0 | 0 | 0 | 0 | 0 | 0 | 0.0 | 0 | 0.0 | 0 | 0 | no anomalies detected | [SEP] row 2: | 2017-12-12 05:15:00 | 39523 | 0 | 0 | 0 | 0 | 0 | 0 | 0.0 | 0 | 0.0 | 0 | 0 | no anomalies detected | [SEP] row 3: | 2017-12-12 05:20:00 | 39523 | 0 | 0 | 0 | 0 | 0 | 0 | 0.0 | 0 | 0.0 | 0 | 0 | no anomalies detected | [SEP] row 4: | 2017-12-12 05:25:00 | 39523 | 0 | 0 | 0 | 0 | 0 | 0 | 0.0 | 0 | 0.0 | 0 | 0 | no anomalies detected | [SEP] row 5: | 2017-12-12 05:30:00 | 39523 | 0 | 0 | 0 | 0 | 0 | 0 | 0.0 | 0 | 0.0 | 0 | 0 | no anomalies detected | [SEP] row 6: | 2017-12-12 05:35:00 | 39523 | 0 | 0 | 0 | 0 | 0 | 0 | 0.0 | 0 | 0.0 | 0 | 0 | no anomalies detected | [SEP] row 7: | 2017-12-12 05:40:00 | 39523 | 0 | 0 | 0 | 0 | 0 | 0 | 0.0 | 0 | 0.0 | 0 | 0 | no anomalies detected | [SEP] row 8: | 2017-12-12 05:45:00 | 39523 | 0 | 0 | 0 | 0 | 0 | 0 | 0.0 | 0 | 0.0 | 0 | 0 | no anomalies detected | [SEP] row 9: | 2017-12-12 05:50:00 | 39523 | 0 | 0 | 0 | 0 | 0 | 0 | 0.0 | 0 | 0.0 | 0 | 0 | no anomalies detected | [SEP] row 10: | 2017-12-12 05:55:00 | 39523 | 0 | 0 | 0 | 0 | 0 | 0 | 0.0 | 0 | 0.0 | 0 | 0 | no anomalies detected | [SEP] row 11: | 2017-12-12 06:00:00 | 39523 | 0 | 0 | 0 | 0 | 0 | 0 | 0.0 | 0 | 0.0 | 0 | 0 | no anomalies detected | [SEP] row 12: | 2017-12-12 06:05:00 | 39523 | 0 | 0 | 0 | 0 | 0 | 0 | 0.0 | 0 | 0.0 | 0 | 0 | no anomalies detected | [SEP] row 13: | 2017-12-12 06:10:00 | 39523 | 0 | 0 | 0 | 0 | 0 | 0 | 0.0 | 0 | 0.0 | 0 | 0 | no anomalies detected | [SEP] row 14: | 2017-12-12 06:15:00 | 39523 | 0 | 0 | 0 | 0 | 0 | 0 | 0.0 | 0 | 0.0 | 0 | 0 | no anomalies detected | [SEP] row 15: | 2017-12-12 06:20:00 | 39523 | 31 | 31 | 0 | 0 | 0 | 0 | 0.0 | 0 | 0.0 | 57 | 31 | no anomalies detected | [SEP] row 16: | 2017-12-12 06:25:00 | 39523 | 0 | 0 | 31 | 0 | 0 | 0 | 0.0 | 0 | 0.0 | 0 | 0 | no anomalies detected | [SEP] row 17: | 2017-12-12 06:30:00 | 39523 | 0 | 0 | 0 | 0 | 0 | 0 | 0.0 | 0 | 0.0 | 0 | 0 | no anomalies detected | [SEP] row 18: | 2017-12-12 06:35:00 | 39523 | 0 | 0 | 0 | 0 | 0 | 0 | 0.0 | 0 | 0.0 | 0 | 0 | no anomalies detected | [SEP] row 19: | 2017-12-12 06:40:00 | 39523 | 0 | 0 | 0 | 0 | 0 | 0 | 0.0 | 0 | 0.0 | 0 | 0 | no anomalies detected | [SEP] row 20: | 2017-12-12 06:45:00 | 39523 | 0 | 0 | 0 | 0 | 0 | 0 | 0.0 | 0 | 0.0 | 0 | 0 | no anomalies detected | [SEP]', 'question': \"Based on the data provided, does the data indicate an anomaly? If an anomaly is detected, include the timestamp of the anomaly data and provide a reason explaining which values are anomalous. For example, 'anomaly detected at 2024-06-10 12:00:00 due to high value of num_routes=77'\", 'output': 'Based on the data provided, no anomaly is detected in the given time period. All the values for the columns are within the expected ranges, and there are no significant deviations from the mean values.\\n\\nThe maximum value of `num_routes` is 31, which occurs at timestamp `2017-12-12 06:20:00`. However, this value is not significantly higher than the mean value of `num_routes`, which is 10.5. Therefore, this value can be considered a normal variation within the expected range.\\n\\nSimilarly, the maximum value of `num_new_routes` is 31, which occurs at timestamp `2017-12-12 06:20:00`. Again, this value is not significantly higher than the mean value of `num_new_routes`, which is 10.5.\\n\\nTherefore, based on the data provided, no anomaly is detected in the given time period.'}, {'instruction': 'The goal for this task is to determine if the data indicates an anomaly. The context, section, and table columns provide important information for identifying the correct anomaly type.', 'input_seg': '[TLE] The context is about BGP data analysis for detecting anomalies. The section is related to a specific time period of BGP monitoring. [TAB] col: | timestamp | asn | num_routes | num_new_routes | num_withdrawals | num_origin_changes | num_route_changes | max_path_length | avg_path_length | max_edit_distance | avg_edit_distance | num_announcements | num_unique_prefixes_announced | anomaly_status | row 1: | 2017-12-12 06:50:00 | 39523 | 0 | 0 | 0 | 0 | 0 | 0 | 0.0 | 0 | 0.0 | 0 | 0 | no anomalies detected | [SEP] row 2: | 2017-12-12 06:55:00 | 39523 | 0 | 0 | 0 | 0 | 0 | 0 | 0.0 | 0 | 0.0 | 0 | 0 | no anomalies detected | [SEP] row 3: | 2017-12-12 07:00:00 | 39523 | 0 | 0 | 0 | 0 | 0 | 0 | 0.0 | 0 | 0.0 | 0 | 0 | no anomalies detected | [SEP] row 4: | 2017-12-12 07:05:00 | 39523 | 74 | 74 | 2211 | 0 | 0 | 0 | 0.0 | 0 | 0.0 | 16467 | 74 | anomaly detected at 2017-12-12 07:05:00 due to high value of num_routes=74, num_new_routes=74, num_withdrawals=2211, num_announcements=16467, num_unique_prefixes_announced=74 | [SEP] row 5: | 2017-12-12 07:10:00 | 39523 | 20 | 2 | 96 | 0 | 16 | 8 | 6.3 | 4 | 2.6 | 73 | 20 | anomaly detected at 2017-12-12 07:10:00 due to high value of num_routes=20, num_new_routes=2, num_withdrawals=96, max_path_length=8, avg_path_length=6.3, max_edit_distance=4, avg_edit_distance=2.6, num_announcements=73, num_unique_prefixes_announced=20 | [SEP] row 6: | 2017-12-12 07:15:00 | 39523 | 0 | 0 | 20 | 0 | 0 | 0 | 0.0 | 0 | 0.0 | 0 | 0 | no anomalies detected | [SEP] row 7: | 2017-12-12 07:20:00 | 39523 | 0 | 0 | 0 | 0 | 0 | 0 | 0.0 | 0 | 0.0 | 0 | 0 | no anomalies detected | [SEP] row 8: | 2017-12-12 07:25:00 | 39523 | 0 | 0 | 0 | 0 | 0 | 0 | 0.0 | 0 | 0.0 | 0 | 0 | no anomalies detected | [SEP] row 9: | 2017-12-12 07:30:00 | 39523 | 0 | 0 | 0 | 0 | 0 | 0 | 0.0 | 0 | 0.0 | 0 | 0 | no anomalies detected | [SEP] row 10: | 2017-12-12 07:35:00 | 39523 | 1 | 1 | 0 | 0 | 0 | 0 | 0.0 | 0 | 0.0 | 181 | 1 | no anomalies detected | [SEP] row 11: | 2017-12-12 07:40:00 | 39523 | 0 | 0 | 1 | 0 | 0 | 0 | 0.0 | 0 | 0.0 | 0 | 0 | no anomalies detected | [SEP] row 12: | 2017-12-12 07:45:00 | 39523 | 1 | 1 | 0 | 0 | 0 | 0 | 0.0 | 0 | 0.0 | 1 | 1 | no anomalies detected | [SEP] row 13: | 2017-12-12 07:50:00 | 39523 | 0 | 0 | 1 | 0 | 0 | 0 | 0.0 | 0 | 0.0 | 0 | 0 | no anomalies detected | [SEP] row 14: | 2017-12-12 07:55:00 | 39523 | 0 | 0 | 0 | 0 | 0 | 0 | 0.0 | 0 | 0.0 | 0 | 0 | no anomalies detected | [SEP] row 15: | 2017-12-12 08:00:00 | 39523 | 0 | 0 | 0 | 0 | 0 | 0 | 0.0 | 0 | 0.0 | 0 | 0 | no anomalies detected | [SEP]', 'question': \"Based on the data provided, does the data indicate an anomaly? If an anomaly is detected, include the timestamp of the anomaly data and provide a reason explaining which values are anomalous. For example, 'anomaly detected at 2024-06-10 12:00:00 due to high value of num_routes=77'\", 'output': 'Based on the data provided, no anomaly is detected in the given time period. All the values for the columns \"num_routes\", \"num_new_routes\", \"num_withdrawals\", \"num_origin_changes\", \"num_route_changes\", \"max_path_length\", \"avg_path_length\", \"max_edit_distance\", and \"num_announcements\" are within the expected range and do not exceed the threshold values specified in the table headers.\\n\\nTherefore, the answer is \"no anomaly detected\" for all the rows in the table.'}]\n",
      "Results saved to llm_7B_bgp_data_with_outputs_20.json\n"
     ]
    }
   ],
   "source": [
    "import json\n",
    "from tablular_eval_util import combine_csv_files, split_dataframe, preprocess_data, run_llm_inference\n",
    "\n",
    "directory = '/home/hb/dataset_bgp/bgp_tab_dataset_test'\n",
    "combined_df = combine_csv_files(directory)\n",
    "\n",
    "# Split the DataFrame into smaller chunks\n",
    "split_size = 20\n",
    "data_list = split_dataframe(combined_df, split_size)\n",
    "\n",
    "# Preprocess the data into the required format\n",
    "formatted_data = [preprocess_data(chunk) for chunk in data_list]\n",
    "\n",
    "formatted_data_file = 'llm_table_bgp_data_test_20.json'\n",
    "with open(formatted_data_file, 'w') as f:\n",
    "    json.dump(formatted_data, f, indent=4)\n",
    "\n",
    "with open(formatted_data_file, 'r') as f:\n",
    "    formatted_data = json.load(f)\n",
    "\n",
    "output_results_file = 'llm_7B_bgp_data_with_outputs_20.json'\n",
    "run_llm_inference(formatted_data, model, tokenizer, max_length=3050, output_results_file=output_results_file)"
   ]
  },
  {
   "cell_type": "code",
   "execution_count": 4,
   "metadata": {},
   "outputs": [
    {
     "name": "stdout",
     "output_type": "stream",
     "text": [
      "['2022-03-28 10:25:00', '2022-03-28 11:35:00', '2022-03-28 11:45:00', '2022-03-28 13:25:00', '2022-03-28 13:30:00', '2022-03-28 14:00:00', '2022-03-28 14:15:00', '2022-03-28 14:00:00', '2022-03-28 14:15:00', '2022-03-28 15:55:00', '2022-03-28 15:55:00', '2022-03-28 15:55:00', '2022-03-28 15:55:00', '2022-03-28 16:45:00', '2022-03-28 16:45:00', '2022-03-28 16:45:00', '2022-03-28 16:45:00', '2019-05-08 15:05:00', '2019-05-08 15:25:00', '2024-06-10 12:00:00', '2017-12-12 04:40:00', '2017-12-12 04:50:00', '2017-12-12 04:40:00', '2017-12-12 04:50:00', '2017-12-12 06:20:00', '2017-12-12 06:20:00']\n"
     ]
    }
   ],
   "source": [
    "import pandas as pd\n",
    "import re\n",
    "\n",
    "llama7b_outputs = pd.read_json(\"/home/hb/LLM-research/LLM_testing/llm_7B_bgp_data_with_outputs_20.json\")\n",
    "llama7b_outputs = llama7b_outputs[\"output\"]\n",
    "llama7b_outputs.to_csv(\"llm_7B_bgp_data_with_outputs_20.csv\")\n",
    "\n",
    "timestamps = []\n",
    "\n",
    "timestamp_pattern = re.compile(r'\\d{4}-\\d{2}-\\d{2} \\d{2}:\\d{2}:\\d{2}')\n",
    "\n",
    "for output in llama7b_outputs:\n",
    "    matches = timestamp_pattern.findall(output)\n",
    "    timestamps.extend(matches)\n",
    "\n",
    "llama7b_outputs_timestamp = list(set(timestamps))\n",
    "\n",
    "print(timestamps)"
   ]
  },
  {
   "cell_type": "code",
   "execution_count": 5,
   "metadata": {},
   "outputs": [
    {
     "name": "stdout",
     "output_type": "stream",
     "text": [
      "['2022-03-28 10:25:00', '2022-03-28 10:30:00', '2022-03-28 10:35:00', '2022-03-28 10:40:00', '2022-03-28 10:55:00', '2022-03-28 11:00:00', '2022-03-28 11:35:00', '2022-03-28 11:40:00', '2022-03-28 11:45:00', '2022-03-28 13:25:00', '2022-03-28 13:30:00', '2022-03-28 13:35:00', '2022-03-28 14:00:00', '2022-03-28 14:05:00', '2022-03-28 14:15:00', '2022-03-28 14:20:00', '2022-03-28 14:25:00', '2022-03-28 15:55:00', '2022-03-28 16:00:00', '2022-03-28 16:05:00', '2019-05-08 15:05:00', '2019-05-08 15:10:00', '2019-05-08 15:15:00', '2019-05-08 15:30:00', '2017-12-12 04:40:00', '2017-12-12 04:45:00', '2017-12-12 04:50:00', '2017-12-12 07:05:00', '2017-12-12 07:10:00']\n"
     ]
    }
   ],
   "source": [
    "import pandas as pd\n",
    "from tablular_eval_util import combine_csv_files\n",
    "\n",
    "directory = '/home/hb/dataset_bgp/bgp_tab_dataset_test'\n",
    "combined_df = combine_csv_files(directory)\n",
    "combined_df = combined_df[['anomaly_status']]\n",
    "\n",
    "# Filter the rows with \"anomaly detected\" in the anomaly_status\n",
    "filtered_df = combined_df[combined_df['anomaly_status'].str.contains('anomaly detected', na=False)]\n",
    "filtered_df.to_csv('/home/hb/dataset_bgp/bgp_tab_dataset_test/test_true_label.csv', index=False)\n",
    "\n",
    "# Extract the date from the anomaly_status string\n",
    "true_label = filtered_df['anomaly_status'].str.extract(r'anomaly detected at (\\d{4}-\\d{2}-\\d{2} \\d{2}:\\d{2}:\\d{2})')\n",
    "\n",
    "# Convert the dates to a list\n",
    "true_label = true_label[0].tolist()\n",
    "\n",
    "print(true_label)"
   ]
  },
  {
   "cell_type": "code",
   "execution_count": 6,
   "metadata": {},
   "outputs": [
    {
     "name": "stdout",
     "output_type": "stream",
     "text": [
      "Evaluation Results:\n",
      "Precision: 0.73\n",
      "Recall: 0.38\n",
      "F1 Score: 0.50\n",
      "True Positives: 11\n",
      "False Positives: 4\n",
      "False Negatives: 18\n"
     ]
    }
   ],
   "source": [
    "import pandas as pd\n",
    "from tablular_eval_util import evaluate_llm_results\n",
    "\n",
    "evaluation_result = evaluate_llm_results(true_anomalies=true_label, llm_results=llama7b_outputs_timestamp)\n",
    "print(\"Evaluation Results:\")\n",
    "print(f\"Precision: {evaluation_result['precision']:.2f}\")\n",
    "print(f\"Recall: {evaluation_result['recall']:.2f}\")\n",
    "print(f\"F1 Score: {evaluation_result['f1_score']:.2f}\")\n",
    "print(f\"True Positives: {evaluation_result['true_positives']}\")\n",
    "print(f\"False Positives: {evaluation_result['false_positives']}\")\n",
    "print(f\"False Negatives: {evaluation_result['false_negatives']}\")"
   ]
  },
  {
   "cell_type": "code",
   "execution_count": 10,
   "metadata": {},
   "outputs": [
    {
     "name": "stdout",
     "output_type": "stream",
     "text": [
      "<s>[INST] \n",
      "The goal for this task is to identify the type of BGP anomaly based on the given data. The context, section, and table columns provide important information for identifying the correct anomaly type.. \n",
      "[TLE] The context is about BGP data analysis for detecting anomalies. The section is related to a specific time period of BGP monitoring. [TAB] col: | timestamp | asn | num_routes | num_new_routes | num_withdrawals | num_origin_changes | num_route_changes | max_path_length | avg_path_length | max_edit_distance | avg_edit_distance | num_announcements | num_unique_prefixes_announced | row 1: | 2024-06-10 12:00:00 | 12345 | 100 | 5 | 3 | 1 | 2 | 4 | 3.5 | 2 | 1.5 | 10 | 8 | [SEP] row 2: | 2024-06-10 12:05:00 | 12346 | 95 | 7 | 4 | 0 | 1 | 5 | 3.2 | 1 | 1.7 | 9 | 7 | [SEP] row 3: | 2024-06-10 12:10:00 | 12347 | 102 | 4 | 5 | 2 | 3 | 4.1 | 3 | 2.5 | 11 | 10 |\n",
      "Based on the data provided, identify the type of BGP anomaly. The possible anomaly types are: route_flapping, outage, prefix_hijacking, normal. The data contains various metrics such as num_routes, num_new_routes, num_withdrawals, etc.\n",
      " [/INST]  Based on the data provided, the most likely type of BGP anomaly is route flapping. This is because the data shows a rapid change in the number of routes (num_routes) and the number of new routes (num_new_routes) over a short period of time (less than 5 minutes). Specifically, the change in num_routes from row 1 to row 2 is 50 (100 - 50), and the change in num_new_routes is 7 (95 - 38). These changes are significant and indicate route flapping.\n",
      "\n",
      "Other possible types of BGP anomalies that could be observed in this data are:\n",
      "\n",
      "* Outage: A sudden drop in the number of routes (num_routes) or the number of new routes (num_new_routes) could indicate an outage. However, the data does not show a significant drop in either metric, which suggests that an outage is unlikely.\n",
      "* Prefix hijacking: A sudden change in the number of unique prefixes announced (num_unique_prefixes_announced) could indicate prefix hijacking. However, the data does not show a significant change in this metric, which suggests that prefix hijacking is unlikely.\n",
      "* Normal: The data does not show any significant changes in the other metrics, such as the number of withdrawals (num_withdrawals), origin changes (num_origin_changes), or route changes (num_route_changes). This suggests that the observed changes in num_routes and num_new_routes are likely due to normal BGP behavior rather than an anomaly.\n",
      "\n",
      "Therefore, based on the data provided, the most likely type of BGP anomaly is route flapping.\n"
     ]
    }
   ],
   "source": [
    "logging.set_verbosity(logging.CRITICAL)\n",
    "\n",
    "# Run text generation pipeline with our next model\n",
    "prompt = f\"\"\n",
    "pipe = pipeline(task=\"text-generation\", model=model, tokenizer=tokenizer, max_length=1528)\n",
    "result = pipe(f\"<s>[INST] {prompt} [/INST]\")\n",
    "print(result[0]['generated_text'])"
   ]
  },
  {
   "cell_type": "code",
   "execution_count": null,
   "metadata": {},
   "outputs": [],
   "source": [
    "import pandas as pd\n",
    "from tablular_eval_util import evaluate_llm_results\n",
    "\n",
    "evaluation_result = evaluate_llm_results(true_anomalies=true_label, llm_results=llama7b_outputs_timestamp)\n",
    "print(\"Evaluation Results:\")\n",
    "print(f\"Precision: {evaluation_result['precision']:.2f}\")\n",
    "print(f\"Recall: {evaluation_result['recall']:.2f}\")\n",
    "print(f\"F1 Score: {evaluation_result['f1_score']:.2f}\")\n",
    "print(f\"True Positives: {evaluation_result['true_positives']}\")\n",
    "print(f\"False Positives: {evaluation_result['false_positives']}\")\n",
    "print(f\"False Negatives: {evaluation_result['false_negatives']}\")"
   ]
  },
  {
   "cell_type": "markdown",
   "metadata": {},
   "source": [
    "## DDoS"
   ]
  },
  {
   "cell_type": "code",
   "execution_count": null,
   "metadata": {},
   "outputs": [],
   "source": [
    "logging.set_verbosity(logging.CRITICAL)\n",
    "\n",
    "# Run text generation pipeline with our next model\n",
    "prompt = \"Create a Python script with the Scapy library to detect DDoS attacks from a PCAP file. The script should read the file, analyze traffic patterns by monitoring packets per second against a set threshold within defined time windows, and reset counters for each time window. It should also log any potential attacks showing the source IP and packet rate. Include a final check for the last time window at the end of the file.\"\n",
    "pipe = pipeline(task=\"text-generation\", model=model, tokenizer=tokenizer, max_length=712)\n",
    "result = pipe(f\"<s>[INST] {prompt} [/INST]\")\n",
    "print(result[0]['generated_text'])"
   ]
  },
  {
   "cell_type": "code",
   "execution_count": null,
   "metadata": {},
   "outputs": [
    {
     "name": "stdout",
     "output_type": "stream",
     "text": [
      "<s>[INST] Generate Python code to calculate and visualize 5G network performance KPIs: Total Network Capacity, Capacity per Area, Capacity per Point, Cost per Capacity, Cost per Area, and Surplus per Area. Load data from '5G_Infrastructure/demand_driven_postcode_data_results.csv'. Use keywords: 'capacity', 'cost', 'area', 'numpoints' to identify relevant columns. [/INST]  Sure! Here is some Python code that can be used to calculate and visualize 5G network performance KPIs based on the provided CSV file:\n",
      "```\n",
      "import pandas as pd\n",
      "import matplotlib.pyplot as plt\n",
      "import seaborn as sns\n",
      "\n",
      "# Load the data from the CSV file\n",
      "df = pd.read_csv('5G_Infrastructure/demand_driven_postcode_data_results.csv')\n",
      "\n",
      "# Identify the relevant columns\n",
      "capacity = df['capacity']\n",
      "cost = df['cost']\n",
      "area = df['area']\n",
      "numpoints = df['numpoints']\n",
      "\n",
      "# Calculate the KPIs\n",
      "total_network_capacity = capacity.sum()\n",
      "capacity_per_area = capacity / area\n",
      "capacity_per_point = capacity / numpoints\n",
      "cost_per_capacity = cost / capacity\n",
      "cost_per_area = cost / area\n",
      "surplus_per_area = cost - (capacity * cost_per_point)\n",
      "\n",
      "# Visualize the results\n",
      "sns.barplot(x=range(len(capacity)), y=capacity, hue='numpoints')\n",
      "sns.lineplot(x=range(len(capacity)), y=capacity_per_point, label='Capacity per Point')\n",
      "sns.lineplot(x=range(len(area)), y=capacity_per_area, label='Capacity per Area')\n",
      "sns.lineplot(x=range(len(cost)), y=cost_per_capacity, label='Cost per Capacity')\n",
      "sns.lineplot(x=range(len(area)), y=cost_per_area, label='Cost per Area')\n",
      "sns.barplot(x=range(len(surplus)), y=surplus_per_area, label='Surplus per Area')\n",
      "\n",
      "# Add axis labels and titles\n",
      "plt.xlabel('Postcode')\n",
      "plt.ylabel('Capacity/Cost')\n",
      "plt.title('5G Network Performance KPIs')\n",
      "\n",
      "# Show the plot\n",
      "plt.show()\n",
      "```\n",
      "This code first loads the data from the `demand_driven_postcode_data_results.csv` file using the `pd.read_csv()` function. It then identifies the relevant columns in the data frame using the `capacity`, `cost`, `area`, and `numpoints` keywords.\n",
      "\n",
      "Next, the code calculates the KPIs using the identified columns. Specifically, it calculates the total network capacity by summing the `capacity` column, the capacity per area by dividing the `capacity` column by the `area` column, and the capacity per point by dividing the `capacity` column by the `\n"
     ]
    }
   ],
   "source": [
    "logging.set_verbosity(logging.CRITICAL)\n",
    "\n",
    "# Run text generation pipeline with our next model\n",
    "prompt = \"Generate Python code to calculate and visualize 5G network performance KPIs: Total Network Capacity, Capacity per Area, Capacity per Point, Cost per Capacity, Cost per Area, and Surplus per Area. Load data from '5G_Infrastructure/demand_driven_postcode_data_results.csv'. Use keywords: 'capacity', 'cost', 'area', 'numpoints' to identify relevant columns.\"\n",
    "pipe = pipeline(task=\"text-generation\", model=model, tokenizer=tokenizer, max_length=712)\n",
    "result = pipe(f\"<s>[INST] {prompt} [/INST]\")\n",
    "print(result[0]['generated_text'])"
   ]
  },
  {
   "cell_type": "markdown",
   "metadata": {},
   "source": [
    "## Multiple Choice\n",
    "`5G configuration analysis v1`:\n",
    "Accuracy: 66%\n",
    "Correct answers: 13 + 7 = 20\n",
    "Incorrect answers: 10\n",
    "\n",
    "`5G configuration analysis v2`:\n",
    "Accuracy: 56%\n",
    "Correct answers: 17\n",
    "Incorrect answers: 13"
   ]
  },
  {
   "cell_type": "markdown",
   "metadata": {},
   "source": []
  }
 ],
 "metadata": {
  "kernelspec": {
   "display_name": "myenv",
   "language": "python",
   "name": "python3"
  },
  "language_info": {
   "codemirror_mode": {
    "name": "ipython",
    "version": 3
   },
   "file_extension": ".py",
   "mimetype": "text/x-python",
   "name": "python",
   "nbconvert_exporter": "python",
   "pygments_lexer": "ipython3",
   "version": "3.9.5"
  },
  "orig_nbformat": 4
 },
 "nbformat": 4,
 "nbformat_minor": 2
}
