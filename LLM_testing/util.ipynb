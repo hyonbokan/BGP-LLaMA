{
 "cells": [
  {
   "cell_type": "code",
   "execution_count": 1,
   "metadata": {},
   "outputs": [
    {
     "name": "stdout",
     "output_type": "stream",
     "text": [
      "Combined JSON file saved as /home/hb/LLM-research/dataset/BGP/BGP_lift/lift_bgp_test1.json\n"
     ]
    }
   ],
   "source": [
    "import json\n",
    "import os\n",
    "from typing import List\n",
    "\n",
    "input_files = [\n",
    "    '/home/hb/dataset_bgp/bgp_nlp_dataset/google_leak_main_with_anomalies.json',\n",
    "    '/home/hb/dataset_bgp/bgp_nlp_dataset/amazon_enet_main.json',\n",
    "    '/home/hb/dataset_bgp/bgp_nlp_dataset/high_traffic_FANG_main.json',\n",
    "    '/home/hb/dataset_bgp/bgp_nlp_dataset/ros_italy.json',\n",
    "    '/home/hb/dataset_bgp/bgp_nlp_dataset/china_isp_hijack.json',\n",
    "    '/home/hb/dataset_bgp/bgp_nlp_dataset/iran_censor.json'\n",
    "    \n",
    "]\n",
    "\n",
    "# Output file name\n",
    "output_file = '/home/hb/LLM-research/dataset/BGP/BGP_lift/lift_bgp_test1.json'\n",
    "\n",
    "def combine_json_files(input_files: List[str], output_file: str):\n",
    "    combined_data = []\n",
    "\n",
    "    for file_name in input_files:\n",
    "        with open(file_name, 'r') as f:\n",
    "            data = json.load(f)\n",
    "            combined_data.extend(data)\n",
    "\n",
    "    with open(output_file, 'w') as f:\n",
    "        json.dump(combined_data, f, indent=4)\n",
    "    print(f\"Combined JSON file saved as {output_file}\")\n",
    "\n",
    "\n",
    "combine_json_files(input_files, output_file)"
   ]
  },
  {
   "cell_type": "code",
   "execution_count": null,
   "metadata": {},
   "outputs": [],
   "source": []
  }
 ],
 "metadata": {
  "kernelspec": {
   "display_name": "myenv",
   "language": "python",
   "name": "python3"
  },
  "language_info": {
   "codemirror_mode": {
    "name": "ipython",
    "version": 3
   },
   "file_extension": ".py",
   "mimetype": "text/x-python",
   "name": "python",
   "nbconvert_exporter": "python",
   "pygments_lexer": "ipython3",
   "version": "3.8.16"
  }
 },
 "nbformat": 4,
 "nbformat_minor": 2
}
