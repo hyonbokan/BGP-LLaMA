{
 "cells": [
  {
   "cell_type": "code",
   "execution_count": 6,
   "metadata": {},
   "outputs": [
    {
     "name": "stderr",
     "output_type": "stream",
     "text": [
      "Found cached dataset json (/home/hb/.cache/huggingface/datasets/json/default-1e6b1187799c8a31/0.0.0/0f7e3662623656454fcd2b650f34e886a7db4b9104504885bd462096cc7a9f51)\n"
     ]
    },
    {
     "data": {
      "application/vnd.jupyter.widget-view+json": {
       "model_id": "1d5b00a9d7524b1490c081a5c5ed0d33",
       "version_major": 2,
       "version_minor": 0
      },
      "text/plain": [
       "  0%|          | 0/1 [00:00<?, ?it/s]"
      ]
     },
     "metadata": {},
     "output_type": "display_data"
    },
    {
     "name": "stdout",
     "output_type": "stream",
     "text": [
      "Downloading and preparing dataset json/default to /home/hb/.cache/huggingface/datasets/json/default-a776424dddb4a5d2/0.0.0/0f7e3662623656454fcd2b650f34e886a7db4b9104504885bd462096cc7a9f51...\n"
     ]
    },
    {
     "data": {
      "application/vnd.jupyter.widget-view+json": {
       "model_id": "dc03b8a7097b48e894ab08430b4300cb",
       "version_major": 2,
       "version_minor": 0
      },
      "text/plain": [
       "Downloading data files:   0%|          | 0/1 [00:00<?, ?it/s]"
      ]
     },
     "metadata": {},
     "output_type": "display_data"
    },
    {
     "data": {
      "application/vnd.jupyter.widget-view+json": {
       "model_id": "1a0859a6de024cbaa3cd827e455e9c44",
       "version_major": 2,
       "version_minor": 0
      },
      "text/plain": [
       "Extracting data files:   0%|          | 0/1 [00:00<?, ?it/s]"
      ]
     },
     "metadata": {},
     "output_type": "display_data"
    },
    {
     "data": {
      "application/vnd.jupyter.widget-view+json": {
       "model_id": "7d7a8f05b132405a913f7f5fe2e59f2b",
       "version_major": 2,
       "version_minor": 0
      },
      "text/plain": [
       "Generating train split: 0 examples [00:00, ? examples/s]"
      ]
     },
     "metadata": {},
     "output_type": "display_data"
    },
    {
     "name": "stdout",
     "output_type": "stream",
     "text": [
      "Dataset json downloaded and prepared to /home/hb/.cache/huggingface/datasets/json/default-a776424dddb4a5d2/0.0.0/0f7e3662623656454fcd2b650f34e886a7db4b9104504885bd462096cc7a9f51. Subsequent calls will reuse this data.\n"
     ]
    },
    {
     "data": {
      "application/vnd.jupyter.widget-view+json": {
       "model_id": "99b1c25af1b6486f86b51e62911d41cc",
       "version_major": 2,
       "version_minor": 0
      },
      "text/plain": [
       "  0%|          | 0/1 [00:00<?, ?it/s]"
      ]
     },
     "metadata": {},
     "output_type": "display_data"
    },
    {
     "name": "stderr",
     "output_type": "stream",
     "text": [
      "Found cached dataset json (/home/hb/.cache/huggingface/datasets/json/default-a776424dddb4a5d2/0.0.0/0f7e3662623656454fcd2b650f34e886a7db4b9104504885bd462096cc7a9f51)\n"
     ]
    },
    {
     "data": {
      "application/vnd.jupyter.widget-view+json": {
       "model_id": "7f89f740303641e5999c76fb3ef5362b",
       "version_major": 2,
       "version_minor": 0
      },
      "text/plain": [
       "  0%|          | 0/1 [00:00<?, ?it/s]"
      ]
     },
     "metadata": {},
     "output_type": "display_data"
    },
    {
     "name": "stdout",
     "output_type": "stream",
     "text": [
      "Downloading and preparing dataset json/default to /home/hb/.cache/huggingface/datasets/json/default-a63ee92358d2bf07/0.0.0/0f7e3662623656454fcd2b650f34e886a7db4b9104504885bd462096cc7a9f51...\n"
     ]
    },
    {
     "data": {
      "application/vnd.jupyter.widget-view+json": {
       "model_id": "1173c97e0b7a41d7a62cf88226ab0019",
       "version_major": 2,
       "version_minor": 0
      },
      "text/plain": [
       "Downloading data files:   0%|          | 0/1 [00:00<?, ?it/s]"
      ]
     },
     "metadata": {},
     "output_type": "display_data"
    },
    {
     "data": {
      "application/vnd.jupyter.widget-view+json": {
       "model_id": "cc73ed6d9a1d40a59749c5f37a89d08b",
       "version_major": 2,
       "version_minor": 0
      },
      "text/plain": [
       "Extracting data files:   0%|          | 0/1 [00:00<?, ?it/s]"
      ]
     },
     "metadata": {},
     "output_type": "display_data"
    },
    {
     "data": {
      "application/vnd.jupyter.widget-view+json": {
       "model_id": "8db5bc4772c944f2b79e59a88273b1ad",
       "version_major": 2,
       "version_minor": 0
      },
      "text/plain": [
       "Generating train split: 0 examples [00:00, ? examples/s]"
      ]
     },
     "metadata": {},
     "output_type": "display_data"
    },
    {
     "name": "stdout",
     "output_type": "stream",
     "text": [
      "Dataset json downloaded and prepared to /home/hb/.cache/huggingface/datasets/json/default-a63ee92358d2bf07/0.0.0/0f7e3662623656454fcd2b650f34e886a7db4b9104504885bd462096cc7a9f51. Subsequent calls will reuse this data.\n"
     ]
    },
    {
     "data": {
      "application/vnd.jupyter.widget-view+json": {
       "model_id": "53dbff011b10449da0aa8442ebbc6a26",
       "version_major": 2,
       "version_minor": 0
      },
      "text/plain": [
       "  0%|          | 0/1 [00:00<?, ?it/s]"
      ]
     },
     "metadata": {},
     "output_type": "display_data"
    },
    {
     "name": "stdout",
     "output_type": "stream",
     "text": [
      "Downloading and preparing dataset json/default to /home/hb/.cache/huggingface/datasets/json/default-b41ac6916d1ed391/0.0.0/0f7e3662623656454fcd2b650f34e886a7db4b9104504885bd462096cc7a9f51...\n"
     ]
    },
    {
     "data": {
      "application/vnd.jupyter.widget-view+json": {
       "model_id": "a8eeae216ebc42d890d477419790b712",
       "version_major": 2,
       "version_minor": 0
      },
      "text/plain": [
       "Downloading data files:   0%|          | 0/1 [00:00<?, ?it/s]"
      ]
     },
     "metadata": {},
     "output_type": "display_data"
    },
    {
     "data": {
      "application/vnd.jupyter.widget-view+json": {
       "model_id": "3159800e657e4cce9c24ceaaffb4b959",
       "version_major": 2,
       "version_minor": 0
      },
      "text/plain": [
       "Extracting data files:   0%|          | 0/1 [00:00<?, ?it/s]"
      ]
     },
     "metadata": {},
     "output_type": "display_data"
    },
    {
     "data": {
      "application/vnd.jupyter.widget-view+json": {
       "model_id": "5cd704db9c5645acafbc29cef60aa949",
       "version_major": 2,
       "version_minor": 0
      },
      "text/plain": [
       "Generating train split: 0 examples [00:00, ? examples/s]"
      ]
     },
     "metadata": {},
     "output_type": "display_data"
    },
    {
     "name": "stdout",
     "output_type": "stream",
     "text": [
      "Dataset json downloaded and prepared to /home/hb/.cache/huggingface/datasets/json/default-b41ac6916d1ed391/0.0.0/0f7e3662623656454fcd2b650f34e886a7db4b9104504885bd462096cc7a9f51. Subsequent calls will reuse this data.\n"
     ]
    },
    {
     "data": {
      "application/vnd.jupyter.widget-view+json": {
       "model_id": "967aa6ff95c74646a325466078be037b",
       "version_major": 2,
       "version_minor": 0
      },
      "text/plain": [
       "  0%|          | 0/1 [00:00<?, ?it/s]"
      ]
     },
     "metadata": {},
     "output_type": "display_data"
    }
   ],
   "source": [
    "from datasets import load_dataset\n",
    "\n",
    "column_type = load_dataset(\"json\", data_files=\"/home/hb/TableLlama/dataset/col_type_train_628254.json\")\n",
    "entity_link = load_dataset(\"json\", data_files=\"/home/hb/TableLlama/dataset/ent_link_train_1264217.json\")\n",
    "row_population = load_dataset(\"json\", data_files=\"/home/hb/TableLlama/dataset/row_pop_train_286396.json\")\n",
    "hierarchical_qa = load_dataset(\"json\", data_files=\"/home/hb/TableLlama/dataset/hitab_train_7417.json\")\n",
    "relation_extraction = load_dataset(\"json\", data_files=\"/home/hb/TableLlama/dataset/rel_extraction_train_62954.json\")"
   ]
  },
  {
   "cell_type": "code",
   "execution_count": 15,
   "metadata": {},
   "outputs": [
    {
     "data": {
      "text/plain": [
       "{'instruction': 'This is a relation extraction task. The goal for this task is to choose correct relations between two selected columns of the table from the given candidates. The Wikipedia page, section and table caption (if any) provide important information for choosing the correct relation types.',\n",
       " 'input_seg': '[TLE] The Wikipedia page is about List of MPs for Welsh constituencies 2010–. The Wikipedia section is about MPs. [TAB] col: | mp | constituency | party | first elected | notes | row 1: | Guto Bebb Category:Articles with hCards | Aberconwy | Conservative Party | 2010 |  | [SEP] row 2: | Kevin Brennan Category:Articles with hCards | Cardiff West | Labour Party | 2001 |  | [SEP] row 3: | Chris Bryant Category:Articles with hCards | Rhondda | Labour Party | 2001 |  | [SEP] row 4: | Alun Cairns Category:Articles with hCards | Vale of Glamorgan | Conservative Party | 2010 |  | [SEP] row 5: | Martin Caton Category:Articles with hCards | Gower | Labour Party | 1997 |  | [SEP] row 6: | Ann Clwyd Category:Articles with hCards | Cynon Valley | Labour Party | 1984 |  | [SEP] row 7: | Stephen Crabb Category:Articles with hCards | Preseli Pembrokeshire | Conservative Party | 2005 |  | [SEP] row 8: | Wayne David Category:Articles with hCards | Caerphilly | Labour Party | 2001 |  | [SEP] row 9: | David Davies Category:Articles with hCards | Monmouth | Conservative Party | 2005 |  | [SEP] row 10: | Geraint Davies Category:Articles with hCards | Swansea West | Labour Party | 2010 |  | [SEP] row 11: | Glyn Davies Category:Articles with hCards | Montgomeryshire | Conservative Party | 2010 |  | [SEP] row 12: | Jonathan Edwards Category:Articles with hCards | Carmarthen East and Dinefwr | Plaid Cymru | 2010 |  | [SEP] row 13: | Chris Evans Category:Articles with hCards | Islwyn | Labour Party | 2010 |  | [SEP] row 14: | Jonathan Evans Category:Articles with hCards | Cardiff North | Conservative Party | 2010 |  | [SEP] row 15: | Paul Flynn Category:Articles with hCards | Newport West | Labour Party | 1987 |  | [SEP] row 16: | Hywel Francis Category:Articles with hCards | Aberavon | Labour Party | 2001 |  | [SEP] row 17: | Nia Griffith Category:Articles with hCards | Llanelli | Labour Party | 2005 |  | [SEP] row 18: | Peter Hain Category:Articles with hCards | Neath | Labour Party | 1991 |  | [SEP] row 19: | David Hanson Category:Articles with hCards | Delyn | Labour Party | 1992 |  | [SEP] row 20: | Simon Hart Category:Articles with hCards | Carmarthen West and Pembrokeshire South | Conservative Party | 2010 |  | [SEP] row 21: | Dai Havard Category:Articles with hCards | Merthyr Tydfil and Rhymney | Labour Party | 2001 |  | [SEP] row 22: | Huw Irranca-Davies Category:Articles with hCards | Ogmore | Labour Party | 2002 |  | [SEP] row 23: | Sian James Category:Articles with hCards | Swansea East | Labour Party | 2005 |  | [SEP] row 24: | David Jones Category:Articles with hCards | Clwyd West | Conservative Party | 2005 |  | [SEP] row 25: | Susan Jones Category:Articles with hCards | Clwyd South | Labour Party | 2010 |  | [SEP] row 26: | Elfyn Llwyd Category:Articles with hCards | Dwyfor Meirionnydd | Plaid Cymru | 1992 |  | [SEP] row 27: | Ian Lucas Category:Articles with hCards | Wrexham | Labour Party | 2001 |  | [SEP] row 28: | Stephen Doughty Category:Articles with hCards | Cardiff South and Penarth | Labour Party | 1987 |  | [SEP] row 29: | Madeleine Moon Category:Articles with hCards | Bridgend | Labour Party | 2005 |  | [SEP] row 30: | Jessica Morden Category:Articles with hCards | Newport East | Labour Party | 2005 |  | [SEP] row 31: | Paul Murphy Category:Articles with hCards | Torfaen | Labour Party | 1987 |  | [SEP] row 32: | Albert Owen Category:Articles with hCards | Ynys Môn | Labour Party | 2001 |  | [SEP] row 33: | Chris Ruane Category:Articles with hCards | Vale of Clwyd | Labour Party | 1997 |  | [SEP] row 34: | Nick Smith Category:Articles with hCards | Blaenau Gwent | Labour Party | 2010 |  | [SEP] row 35: | Owen Smith Category:Articles with hCards | Pontypridd | Labour Party | 2010 |  | [SEP] row 36: | Mark Tami Category:Articles with hCards | Alyn and Deeside | Labour Party | 2001 |  | [SEP] row 37: | Hywel Williams Category:Articles with hCards | Arfon | Plaid Cymru | 2001 |  | [SEP] row 38: | Mark Williams Category:Articles with hCards | Ceredigion | Liberal Democrats | 2005 |  | [SEP] row 39: | Roger Williams Category:Articles with hCards | Brecon and Radnorshire | Liberal Democrats | 2001 |  | [SEP] row 40: | Jenny Willott Category:Articles with hCards | Cardiff Central | Liberal Democrats | 2005 |  |',\n",
       " 'question': 'The two selected column names are: <(mp),(constituency)>. The entity pairs for these two columns are: <(Guto Bebb Category:Articles with hCards),(Aberconwy)>, <(Kevin Brennan Category:Articles with hCards),(Cardiff West)>, <(Chris Bryant Category:Articles with hCards),(Rhondda)>, <(Alun Cairns Category:Articles with hCards),(Vale of Glamorgan)>, <(Martin Caton Category:Articles with hCards),(Gower)>, <(Ann Clwyd Category:Articles with hCards),(Cynon Valley)>, <(Stephen Crabb Category:Articles with hCards),(Preseli Pembrokeshire)>, <(Wayne David Category:Articles with hCards),(Caerphilly)>, <(David Davies Category:Articles with hCards),(Monmouth)>, <(Geraint Davies Category:Articles with hCards),(Swansea West)>, <(Glyn Davies Category:Articles with hCards),(Montgomeryshire)>, <(Jonathan Edwards Category:Articles with hCards),(Carmarthen East and Dinefwr)>, <(Chris Evans Category:Articles with hCards),(Islwyn)>, <(Jonathan Evans Category:Articles with hCards),(Cardiff North)>, <(Paul Flynn Category:Articles with hCards),(Newport West)>, <(Hywel Francis Category:Articles with hCards),(Aberavon)>, <(Nia Griffith Category:Articles with hCards),(Llanelli)>, <(Peter Hain Category:Articles with hCards),(Neath)>, <(David Hanson Category:Articles with hCards),(Delyn)>, <(Simon Hart Category:Articles with hCards),(Carmarthen West and Pembrokeshire South)>, etc. The relation type candidates are: film.film.country, soccer.football_player.position_s, tv.tv_network.programs-tv.tv_network_duration.program, government.political_district.representatives-government.government_position_held.office_holder, government.politician.party-government.political_party_tenure.party, people.person.place_of_birth, film.film.produced_by, people.person.nationality, american_football.football_player.games-american_football.player_game_statistics.team, aviation.airline.hubs, film.director.film, sports.sports_position.players-sports.sports_team_roster.position, film.film.directed_by, location.administrative_division.country, award.award_ceremony.nominees-award.award_nomination.nominated_for, time.event.locations, base.aareas.schema.administrative_area.administrative_parent, sports.sports_championship_event.champion, sports.sports_position.players-sports.sports_team_roster.player, location.capital_of_administrative_division.capital_of-location.administrative_division_capital_relationship.administrative_division, film.actor.film-film.performance.character, film.film.starring-film.performance.character, film.film.production_companies, film.film.release_date_s-film.film_regional_release_date.film_release_region, sports.sports_team.league-sports.sports_league_participation.league, book.author.works_written, tv.tv_character.appeared_in_tv_program-tv.regular_tv_appearance.actor, base.wikipedia_infobox.video_game.developer, film.film.music, award.award_category.nominees-award.award_nomination.ceremony, music.composer.compositions, sports.sports_team.arena_stadium, sports.sports_team.roster-sports.sports_team_roster.player, music.artist.album, sports.sports_league_season.league, sports.sports_team.league-sports.sports_league_participation.from, award.award_category.category_of, baseball.baseball_player.batting_stats-baseball.batting_statistics.team, cvg.computer_videogame.publisher, sports.sports_facility.home_venue_for-sports.team_venue_relationship.team, soccer.football_team.player_statistics-soccer.football_player_stats.player, location.country.languages_spoken, film.film_character.portrayed_in_films-film.performance.actor, education.educational_institution.athletics_brand, organization.organization.headquarters-location.mailing_address.country, tv.tv_program.original_network-tv.tv_network_duration.network, award.award_ceremony.nominees-award.award_nomination.award_nominee, basketball.basketball_player.player_statistics-basketball.basketball_player_stats.team, award.award_ceremony.awards_presented-award.award_honor.award_winner, meteorology.tropical_cyclone.tropical_cyclone_season, olympics.olympic_athlete.medals_won-olympics.olympic_medal_honor.event, book.written_work.author, organization.organization.headquarters-location.mailing_address.state_province_region, award.award_nominated_work.award_nominations-award.award_nomination.ceremony, olympics.olympic_event_competition.medalists-olympics.olympic_medal_honor.medalist, film.film.story_by, film.film.language, film.film.starring-film.performance.actor, american_football.football_player.position_s, tv.tv_actor.starring_roles-tv.regular_tv_appearance.series, olympics.olympic_athlete.medals_won-olympics.olympic_medal_honor.country, film.actor.film-film.performance.film, government.political_party.politicians_in_this_party-government.political_party_tenure.politician, sports.sports_team.sport, cvg.computer_videogame.developer, military.military_person.service-military.military_service.military_force, military.military_combatant.military_conflicts-military.military_combatant_group.combatants, award.award_winner.awards_won-award.award_honor.honored_for, tv.tv_actor.starring_roles-tv.regular_tv_appearance.character, base.schemastaging.organization_extra.phone_number-base.schemastaging.phone_sandbox.service_location, location.hud_county_place.county, award.award_ceremony.awards_presented-award.award_honor.honored_for, people.person.places_lived-people.place_lived.location, music.composition.composer, film.film.genre, sports.sports_team.venue-sports.team_venue_relationship.venue, award.award_category.winners-award.award_honor.award_winner, ice_hockey.hockey_player.hockey_position, baseball.baseball_team.league, tv.tv_program.regular_cast-tv.regular_tv_appearance.actor, music.album.artist, sports.sports_team.location, location.location.containedby, base.culturalevent.event.entity_involved, location.country.capital, award.award_nominee.award_nominations-award.award_nomination.nominated_for, government.politician.government_positions_held-government.government_position_held.district_represented, people.person.parents, location.country.official_language, people.person.spouse_s-people.marriage.spouse, sports.pro_athlete.teams-sports.sports_team_roster.team, time.event.instance_of_recurring_event, sports.sports_league.teams-sports.sports_league_participation.team, award.award_category.nominees-award.award_nomination.award_nominee, tv.tv_program.country_of_origin, baseball.baseball_player.position_s, government.governmental_jurisdiction.governing_officials-government.government_position_held.office_holder, people.deceased_person.place_of_death, film.film.written_by, sports.pro_athlete.teams-sports.sports_team_roster.position, broadcast.broadcast.area_served, award.award_category.winners-award.award_honor.ceremony, olympics.olympic_participating_country.athletes-olympics.olympic_athlete_affiliation.athlete, base.wikipedia_infobox.video_game.platforms, olympics.olympic_participating_country.medals_won-olympics.olympic_medal_honor.medalist, location.location.street_address-location.mailing_address.citytown, organization.organization.headquarters-location.mailing_address.citytown, base.biblioness.bibs_location.country, film.film.distributors-film.film_film_distributor_relationship.distributor, sports.sports_award_winner.awards-sports.sports_award.team, location.location.contains, soccer.football_player.statistics-soccer.football_player_stats.team, location.administrative_division.capital-location.administrative_division_capital_relationship.capital, base.schemastaging.athlete_extra.salary-base.schemastaging.athlete_salary.team, award.award_nominated_work.award_nominations-award.award_nomination.award_nominee, people.person.education-education.education.institution, sports.sports_facility.teams, aviation.airport.serves, award.award_winning_work.awards_won-award.award_honor.award_winner, location.location.nearby_airports, olympics.olympic_athlete.country-olympics.olympic_athlete_affiliation.country. What are the correct relation types for the two selected columns (column names: <(mp),(constituency)>. entity pairs: <(Guto Bebb Category:Articles with hCards),(Aberconwy)>, <(Kevin Brennan Category:Articles with hCards),(Cardiff West)>, <(Chris Bryant Category:Articles with hCards),(Rhondda)>, <(Alun Cairns Category:Articles with hCards),(Vale of Glamorgan)>, <(Martin Caton Category:Articles with hCards),(Gower)>, <(Ann Clwyd Category:Articles with hCards),(Cynon Valley)>, <(Stephen Crabb Category:Articles with hCards),(Preseli Pembrokeshire)>, <(Wayne David Category:Articles with hCards),(Caerphilly)>, <(David Davies Category:Articles with hCards),(Monmouth)>, <(Geraint Davies Category:Articles with hCards),(Swansea West)>, <(Glyn Davies Category:Articles with hCards),(Montgomeryshire)>, <(Jonathan Edwards Category:Articles with hCards),(Carmarthen East and Dinefwr)>, <(Chris Evans Category:Articles with hCards),(Islwyn)>, <(Jonathan Evans Category:Articles with hCards),(Cardiff North)>, <(Paul Flynn Category:Articles with hCards),(Newport West)>, <(Hywel Francis Category:Articles with hCards),(Aberavon)>, <(Nia Griffith Category:Articles with hCards),(Llanelli)>, <(Peter Hain Category:Articles with hCards),(Neath)>, <(David Hanson Category:Articles with hCards),(Delyn)>, <(Simon Hart Category:Articles with hCards),(Carmarthen West and Pembrokeshire South)>, etc)?',\n",
       " 'output': 'government.politician.government_positions_held-government.government_position_held.district_represented'}"
      ]
     },
     "execution_count": 15,
     "metadata": {},
     "output_type": "execute_result"
    }
   ],
   "source": [
    "relation_extraction[\"train\"][0]"
   ]
  },
  {
   "cell_type": "markdown",
   "metadata": {},
   "source": [
    "# Table dataset example"
   ]
  },
  {
   "cell_type": "markdown",
   "metadata": {},
   "source": [
    "## column_type"
   ]
  },
  {
   "cell_type": "markdown",
   "metadata": {},
   "source": [
    "{'instruction': 'This is a column type annotation task. The goal for this task is to choose correct types for one selected column of the table from the given candidates. The Wikipedia page, section and table caption (if any) provide important information for choosing the correct column types.',\n",
    " 'input_seg': \"[TLE] The Wikipedia page is about Slovak parliamentary election, 1990. The Wikipedia section is about Results. [TAB] col: | party | votes | % | seats | row 1: | Public Against Violence | 991,285 | 29.35 | 48 | [SEP] row 2: | Christian Democratic Movement | 648,782 | 19.21 | 31 | [SEP] row 3: | Slovak National Party | 470,984 | 13.94 | 22 | [SEP] row 4: | Communist Party of Slovakia | 450,855 | 13.35 | 22 | [SEP] row 5: | Coexistence – Hungarian Christian Democratic Movement | 292,636 | 8.66 | 14 | [SEP] row 6: | Democratic Party | 148,567 | 4.40 | 7 | [SEP] row 7: | Party of Greens | 117,871 | 3.49 | 6 | [SEP] row 8: | Alliance of Farmers and the Countryside | 85,060 | 2.52 | 0 | [SEP] row 9: | Social Democracy | 61,401 | 1.82 | 0 | [SEP] row 10: | Freedom Party | 60,041 | 1.78 | 0 | [SEP] row 11: | Rómovia | 24,797 | 0.73 | 0 | [SEP] row 12: | Movement of Czechoslovakian Understanding | 13,417 | 0.40 | 0 | [SEP] row 13: | People's Democratic Party–Rally for the Republic | 7,023 | 0.21 | 0 | [SEP] row 14: | Free Bloc | 3,326 | 0.10 | 0 | [SEP] row 15: | Czechoslovakian Socialist Party | 1,166 | 0.03 | 0 | [SEP] row 16: | Czechoslovakian Democratic Forum | 515 | 0.02 | 0 | [SEP] row 17: | Invalid/blank votes | 77,925 | – | – | [SEP] row 18: | Total | 3,455,651 | 100 | 150 | [SEP] row 19: | Registered voters/turnout | 3,622,650 | 95.39 | – | [SEP] row 20: | Source: Statistics.sk | Source: Statistics.sk | Source: Statistics.sk | Source: Statistics.sk |\",\n",
    " 'question': \"The column 'party' contains following entities: <Public Against Violence>, <Christian Democratic Movement>, <Slovak National Party>, <Communist Party of Slovakia>, <Coexistence – Hungarian Christian Democratic Movement>, <Democratic Party>, <Party of Greens>, <Freedom Party>, <Czechoslovakian Socialist Party>, etc. The column type candidates are: american_football.football_conference, tv.tv_writer, education.school, location.capital_of_administrative_division, tv.tv_series_season, rail.locomotive_class, interests.collection_category, book.book, food.food, metropolitan_transit.transit_stop, language.human_language, sports.sports_championship_event, music.artist, royalty.monarch, tv.tv_director, film.writer, sports.tournament_event_competition, sports.sports_league_draft, book.periodical, tv.tv_program, royalty.chivalric_order_member, sports.sports_award_winner, award.competition, theater.theater_actor, architecture.venue, broadcast.tv_channel, business.product_category, music.performance_role, geography.mountain, religion.religion, location.country, cvg.cvg_publisher, royalty.kingdom, education.educational_degree, celebrities.celebrity, exhibitions.exhibition_sponsor, education.university, award.award_discipline, location.in_district, broadcast.genre, olympics.olympic_event_competition, business.business_operation, film.film, organization.membership_organization, ice_hockey.hockey_player, automotive.model, broadcast.tv_station, cricket.cricket_player, music.record_label, boats.ship_class, music.genre, computer.computer, boats.ship, visual_art.visual_artist, organization.organization, olympics.olympic_games, location.administrative_division, travel.accommodation, soccer.football_league, business.defunct_company, location.us_county, aviation.airport, music.musical_scale, business.consumer_product, royalty.noble_person, award.recurring_competition, fictional_universe.fictional_organization, ice_hockey.hockey_position, architecture.architectural_structure_owner, music.album, tv.tv_producer, sports.sports_facility, theater.play, sports.sports_position, people.ethnicity, business.consumer_company, amusement_parks.ride, tennis.tennis_player, location.uk_constituent_country, location.location, broadcast.artist, astronomy.celestial_object, government.governmental_body, education.educational_institution, military.military_post, film.music_contributor, government.election, religion.religious_leader, law.court, soccer.football_world_cup, meteorology.tropical_cyclone_season, government.legislative_session, tv.tv_actor, location.hud_county_place, tv.tv_character, cvg.cvg_platform, broadcast.radio_station, law.invention, military.military_person, basketball.basketball_conference, tv.tv_series_episode, government.u_s_congressperson, metropolitan_transit.transit_line, business.brand, location.us_state, award.award, military.military_unit, computer.software_license, location.province, medicine.muscle, business.customer, film.film_character, government.us_president, broadcast.radio_format, tv.tv_program_creator, music.writer, martial_arts.martial_artist, geography.body_of_water, law.legal_case, music.instrument, amusement_parks.park, comic_books.comic_book_character, astronomy.orbital_relationship, american_football.football_coach, sports.sports_league_season, film.film_festival_focus, film.actor, film.film_genre, computer.operating_system, chemistry.chemical_element, basketball.basketball_coach, sports.pro_athlete, fictional_universe.fictional_character, book.written_work, tennis.tennis_tournament_champion, basketball.basketball_player, medicine.anatomical_structure, book.author, astronomy.asteroid, biology.organism, location.citytown, american_football.football_team, sports.sports_league, aviation.aircraft_owner, award.hall_of_fame_inductee, cvg.cvg_developer, medicine.drug_ingredient, media_common.media_genre, automotive.company, music.producer, government.election_campaign, film.producer, military.rank, architecture.building, sports.sport, biology.animal, location.region, meteorology.tropical_cyclone, government.political_party, basketball.basketball_position, education.athletics_brand, book.periodical_publisher, architecture.structure, cvg.computer_videogame, soccer.fifa, award.award_presenting_organization, american_football.football_player, military.military_conflict, music.composition, location.jp_prefecture, boats.ship_type, location.australian_state, tv.tv_personality, baseball.baseball_position, chess.chess_player, sports.boxer, geography.island, basketball.basketball_team, baseball.baseball_player, cricket.cricket_bowler, sports.golfer, soccer.football_team_manager, people.family_member, sports.multi_event_tournament, metropolitan_transit.transit_system, military.armed_force, education.field_of_study, medicine.drug, government.general_election, soccer.football_team, education.fraternity_sorority, biology.organism_classification, tv.tv_network, music.composer, tv.tv_genre, geography.river, chemistry.chemical_compound, broadcast.broadcast, internet.website, soccer.football_award, music.musical_group, music.music_video_director, soccer.football_league_season, baseball.baseball_league, music.lyricist, film.production_company, book.periodical_subject, medicine.medical_treatment, finance.currency, music.group_member, astronomy.star_system_body, astronomy.astronomical_discovery, computer.software, government.politician, award.award_ceremony, business.job_title, people.person, tennis.tennis_tournament, cvg.cvg_genre, aviation.aircraft_model, location.australian_local_government_area, sports.professional_sports_team, astronomy.constellation, royalty.noble_title, soccer.football_player, government.government_agency, protected_sites.listed_site, spaceflight.astronaut, music.media_format, baseball.baseball_team, book.magazine, sports.sports_award_type, sports.sports_championship, cricket.cricket_stadium, business.industry, time.event, location.uk_statistical_location, internet.website_owner, sports.school_sports_team, transportation.road, medicine.disease, film.director, sports.cyclist, soccer.football_position, book.newspaper, government.government_office_or_title, organization.non_profit_organization, award.award_category, sports.sports_team, aviation.airline, location.in_state, cricket.cricket_team, ice_hockey.hockey_team, film.film_distributor, time.recurring_event. What are the correct column types for this column (column name: party; entities: <Public Against Violence>, <Christian Democratic Movement>, <Slovak National Party>, <Communist Party of Slovakia>, <Coexistence – Hungarian Christian Democratic Movement>, <Democratic Party>, <Party of Greens>, <Freedom Party>, <Czechoslovakian Socialist Party>, etc)?\",\n",
    " 'output': 'organization.organization'}"
   ]
  },
  {
   "cell_type": "markdown",
   "metadata": {},
   "source": [
    "## entity_link"
   ]
  },
  {
   "cell_type": "markdown",
   "metadata": {},
   "source": [
    "{'instruction': 'This is an entity linking task. The goal for this task is to link the selected entity mention in the table cells to the entity in the knowledge base. You will be given a list of referent entities, with each one composed of an entity name, its description and its type. Please choose the correct one from the referent entity candidates. Note that the Wikipedia page, Wikipedia section and table caption (if any) provide important information for choosing the correct referent entity.',\n",
    " 'input_seg': '[TLE] The Wikipedia page is about Gay Left. The Wikipedia section is about The Collective. [TAB] col: | issue/name | issue 1 autumn 1975 | issue 2 spring 1976 | issue 4 summer 1977 | issue 5 winter 1977/8 | issue 6 summer 1978 | issue 7 winter 1978/9 | issue 8 summer 1979 | issue 9 winter 1979/80 | row 1: | Keith Birch | • | • | • | • | • | • | • | • | [SEP] row 2: | Gregg Blachford | • | • | • | • |  |  |  |  | [SEP] row 3: | Bob Cant | • | • | • |  |  |  |  |  | [SEP] row 4: | Emmanuel Cooper | • | • | • | • | • | • | • | • | [SEP] row 5: | Ross Irwin | • |  |  |  |  |  |  |  | [SEP] row 6: | Randall Kincaid | • | • | • |  |  |  |  |  | [SEP] row 7: | Angus Suttie | • | • |  |  |  |  |  |  | [SEP] row 8: | Jeffrey Weeks | • | • | • | • | • | • | • | • | [SEP] row 9: | Nigel Young | • | • | • | • | • | • | • | • | [SEP] row 10: | Derek Cohen |  | • | • | • | • | • | • | • | [SEP] row 11: | Ron Peck |  | • |  |  |  |  |  |  | [SEP] row 12: | Richard Dyer |  |  |  |  |  | • |  |  | [SEP] row 13: | Simon Watney |  |  |  |  | • | • | • | • | [SEP] row 14: | Phil Derbyshire |  |  |  |  |  | • | • | • | [SEP] row 15: | Tom Woodhouse |  |  |  |  |  |  |  | • |',\n",
    " 'question': \"The selected entity mention in the table cell is: Richard Dyer. The column name for 'Richard Dyer' is issue/name. The referent entity candidates are: <Emmanuel Cooper [DESCRIPTION] Studio potter, writer [TYPE] owl#Thing>, <Emmanuel Cooper [DESCRIPTION] edition; published in 1992 [TYPE] None>, <Richard Dyer-Bennet [DESCRIPTION] American musician [TYPE] owl#Thing>, <Richard Dyer [DESCRIPTION] researcher ORCID ID = 0000-0002-0090-7580 [TYPE] None>, <Emmanuel Cooper OBE, 1938-2012 [DESCRIPTION] book (work) [TYPE] None>, <Richard Dyer [DESCRIPTION] None [TYPE] None>, <Emmanuel Cooper OBE, 1938-2012 [DESCRIPTION] edition; published in 2013 [TYPE] None>, <Richard Dyer [DESCRIPTION] fencer [TYPE] Athlete>, <Richard Dyer Mudd. [DESCRIPTION] scientific article [TYPE] None>, <Jeffrey Weeks [DESCRIPTION] Wikimedia disambiguation page [TYPE] None>, <Richard Dyer [DESCRIPTION] British academic [TYPE] owl#Thing>, <Richard Dyer [DESCRIPTION] None [TYPE] None>, <Emmanuel Cooper [DESCRIPTION] book (work) [TYPE] None>, <Richard Dyer [DESCRIPTION] Montserratian footballer [TYPE] None>, <Angus Suttie [DESCRIPTION] book (work) [TYPE] None>, <Angus Suttie [DESCRIPTION] British artist (1946-1993) [TYPE] owl#Thing>, <Jeffrey Weeks [DESCRIPTION] American mathematician [TYPE] owl#Thing>, <Jeffrey Weeks [DESCRIPTION] British historian and sociologist [TYPE] owl#Thing>, <Angus Suttie [DESCRIPTION] edition; published in 2018 [TYPE] None>, <Jeffrey Weeks and the History of Sexuality [DESCRIPTION] None [TYPE] None>, <Richard Dyer [DESCRIPTION] born 1634 [TYPE] None>. What is the correct referent entity for the entity mention 'Richard Dyer'?\",\n",
    " 'output': '<Richard Dyer [DESCRIPTION] British academic [TYPE] owl#Thing>'}"
   ]
  },
  {
   "cell_type": "markdown",
   "metadata": {},
   "source": [
    "## row_population "
   ]
  },
  {
   "cell_type": "markdown",
   "metadata": {},
   "source": [
    "{'instruction': 'This is a table row population task. The goal of this task is to populate the possible entities of the selected column for a table, given the Wikipedia page title, Wikipedia section title, table caption (if any) and table headers. You will be given a list of entity candidates. Please rank them so that the most likely entities come first.',\n",
    " 'input_seg': '[TLE] The Wikipedia page is about wetaskiwin (electoral district). The Wikipedia section is about election results. The table caption is about  canadian federal election, 1993. The table headers are: | party | party | candidate | votes | % | ± pp |  |. You need to populate the column: party. [SEED] The seed entity is <Reform_Party_of_Canada>.',\n",
    " 'question': 'The entity candidates are: <Canada_Party>, <Green_Party_of_Canada>, <Canadian_Action_Party>, <Liberal_Party_of_Canada>, <New_Democratic_Party_(Canada)>, <Reform_Party_of_Canada>, <Confederation_of_Regions_Party_of_Canada>, <Natural_Law_Party_of_Canada>, <Progressive_Conservative_Party_of_Canada>, <Social_Credit_Party_of_Canada>, <Christian_Heritage_Party_of_Canada>, <Independent_(politician)>. Please rank the entities in the entity candidates.',\n",
    " 'output': '<Liberal_Party_of_Canada>, <Progressive_Conservative_Party_of_Canada>, <New_Democratic_Party_(Canada)>, <Canada_Party>, <Natural_Law_Party_of_Canada>, <Green_Party_of_Canada>, <Canadian_Action_Party>, <Christian_Heritage_Party_of_Canada>, <Reform_Party_of_Canada>, <Confederation_of_Regions_Party_of_Canada>, <Independent_(politician)>, <Social_Credit_Party_of_Canada>'}"
   ]
  },
  {
   "cell_type": "markdown",
   "metadata": {},
   "source": [
    "## hierarchical_qa "
   ]
  },
  {
   "cell_type": "markdown",
   "metadata": {},
   "source": [
    "{'instruction': 'This is a hierarchical table question answering task. The goal for this task is to answer the given question based on the given table. The table might be hierarchical.',\n",
    " 'input_seg': ' [TLE] The table caption is career statistics. [TAB] | season | team | games | games | rushing | rushing | rushing | rushing | rushing | receiving | receiving | receiving | receiving | receiving | fumbles | fumbles | [SEP] | season | team | gp | gs | att | yds | avg | lng | td | rec | yds | avg | lng | td | fum | lost | [SEP] | 2014 | tampa bay buccaneers | 8 | 0 | 66 | 185 | 2.8 | 20 | 1 | 19 | 190 | 10.0 | 24 | 0 | 2 | 1 | [SEP] | 2015 | tampa bay buccaneers | 16 | 0 | 107 | 529 | 4.9 | 59 | 0 | 51 | 561 | 11.0 | 56 | 4 | 2 | 2 | [SEP] | 2016 | tampa bay buccaneers | 7 | 2 | 51 | 149 | 2.9 | 23 | 1 | 24 | 190 | 7.9 | 33 | 1 | 1 | 1 | [SEP] | 2017 | tampa bay buccaneers | 16 | 0 | 21 | 95 | 4.5 | 21 | 0 | 35 | 249 | 7.1 | 25 | 1 | 1 | 1 | [SEP] | total | total | 47 | 2 | 245 | 958 | 3.9 | 59 | 2 | 129 | 1,190 | 9.2 | 56 | 6 | 6 | 5 |',\n",
    " 'question': 'in 2016 season, how many rushes did charles sims finish for 149 yards?',\n",
    " 'output': '51.0'}"
   ]
  },
  {
   "cell_type": "markdown",
   "metadata": {},
   "source": [
    "## relation_extraction"
   ]
  },
  {
   "cell_type": "markdown",
   "metadata": {},
   "source": [
    "{'instruction': 'This is a relation extraction task. The goal for this task is to choose correct relations between two selected columns of the table from the given candidates. The Wikipedia page, section and table caption (if any) provide important information for choosing the correct relation types.',\n",
    " 'input_seg': '[TLE] The Wikipedia page is about List of MPs for Welsh constituencies 2010–. The Wikipedia section is about MPs. [TAB] col: | mp | constituency | party | first elected | notes | row 1: | Guto Bebb Category:Articles with hCards | Aberconwy | Conservative Party | 2010 |  | [SEP] row 2: | Kevin Brennan Category:Articles with hCards | Cardiff West | Labour Party | 2001 |  | [SEP] row 3: | Chris Bryant Category:Articles with hCards | Rhondda | Labour Party | 2001 |  | [SEP] row 4: | Alun Cairns Category:Articles with hCards | Vale of Glamorgan | Conservative Party | 2010 |  | [SEP] row 5: | Martin Caton Category:Articles with hCards | Gower | Labour Party | 1997 |  | [SEP] row 6: | Ann Clwyd Category:Articles with hCards | Cynon Valley | Labour Party | 1984 |  | [SEP] row 7: | Stephen Crabb Category:Articles with hCards | Preseli Pembrokeshire | Conservative Party | 2005 |  | [SEP] row 8: | Wayne David Category:Articles with hCards | Caerphilly | Labour Party | 2001 |  | [SEP] row 9: | David Davies Category:Articles with hCards | Monmouth | Conservative Party | 2005 |  | [SEP] row 10: | Geraint Davies Category:Articles with hCards | Swansea West | Labour Party | 2010 |  | [SEP] row 11: | Glyn Davies Category:Articles with hCards | Montgomeryshire | Conservative Party | 2010 |  | [SEP] row 12: | Jonathan Edwards Category:Articles with hCards | Carmarthen East and Dinefwr | Plaid Cymru | 2010 |  | [SEP] row 13: | Chris Evans Category:Articles with hCards | Islwyn | Labour Party | 2010 |  | [SEP] row 14: | Jonathan Evans Category:Articles with hCards | Cardiff North | Conservative Party | 2010 |  | [SEP] row 15: | Paul Flynn Category:Articles with hCards | Newport West | Labour Party | 1987 |  | [SEP] row 16: | Hywel Francis Category:Articles with hCards | Aberavon | Labour Party | 2001 |  | [SEP] row 17: | Nia Griffith Category:Articles with hCards | Llanelli | Labour Party | 2005 |  | [SEP] row 18: | Peter Hain Category:Articles with hCards | Neath | Labour Party | 1991 |  | [SEP] row 19: | David Hanson Category:Articles with hCards | Delyn | Labour Party | 1992 |  | [SEP] row 20: | Simon Hart Category:Articles with hCards | Carmarthen West and Pembrokeshire South | Conservative Party | 2010 |  | [SEP] row 21: | Dai Havard Category:Articles with hCards | Merthyr Tydfil and Rhymney | Labour Party | 2001 |  | [SEP] row 22: | Huw Irranca-Davies Category:Articles with hCards | Ogmore | Labour Party | 2002 |  | [SEP] row 23: | Sian James Category:Articles with hCards | Swansea East | Labour Party | 2005 |  | [SEP] row 24: | David Jones Category:Articles with hCards | Clwyd West | Conservative Party | 2005 |  | [SEP] row 25: | Susan Jones Category:Articles with hCards | Clwyd South | Labour Party | 2010 |  | [SEP] row 26: | Elfyn Llwyd Category:Articles with hCards | Dwyfor Meirionnydd | Plaid Cymru | 1992 |  | [SEP] row 27: | Ian Lucas Category:Articles with hCards | Wrexham | Labour Party | 2001 |  | [SEP] row 28: | Stephen Doughty Category:Articles with hCards | Cardiff South and Penarth | Labour Party | 1987 |  | [SEP] row 29: | Madeleine Moon Category:Articles with hCards | Bridgend | Labour Party | 2005 |  | [SEP] row 30: | Jessica Morden Category:Articles with hCards | Newport East | Labour Party | 2005 |  | [SEP] row 31: | Paul Murphy Category:Articles with hCards | Torfaen | Labour Party | 1987 |  | [SEP] row 32: | Albert Owen Category:Articles with hCards | Ynys Môn | Labour Party | 2001 |  | [SEP] row 33: | Chris Ruane Category:Articles with hCards | Vale of Clwyd | Labour Party | 1997 |  | [SEP] row 34: | Nick Smith Category:Articles with hCards | Blaenau Gwent | Labour Party | 2010 |  | [SEP] row 35: | Owen Smith Category:Articles with hCards | Pontypridd | Labour Party | 2010 |  | [SEP] row 36: | Mark Tami Category:Articles with hCards | Alyn and Deeside | Labour Party | 2001 |  | [SEP] row 37: | Hywel Williams Category:Articles with hCards | Arfon | Plaid Cymru | 2001 |  | [SEP] row 38: | Mark Williams Category:Articles with hCards | Ceredigion | Liberal Democrats | 2005 |  | [SEP] row 39: | Roger Williams Category:Articles with hCards | Brecon and Radnorshire | Liberal Democrats | 2001 |  | [SEP] row 40: | Jenny Willott Category:Articles with hCards | Cardiff Central | Liberal Democrats | 2005 |  |',\n",
    " 'question': 'The two selected column names are: <(mp),(constituency)>. The entity pairs for these two columns are: <(Guto Bebb Category:Articles with hCards),(Aberconwy)>, <(Kevin Brennan Category:Articles with hCards),(Cardiff West)>, <(Chris Bryant Category:Articles with hCards),(Rhondda)>, <(Alun Cairns Category:Articles with hCards),(Vale of Glamorgan)>, <(Martin Caton Category:Articles with hCards),(Gower)>, <(Ann Clwyd Category:Articles with hCards),(Cynon Valley)>, <(Stephen Crabb Category:Articles with hCards),(Preseli Pembrokeshire)>, <(Wayne David Category:Articles with hCards),(Caerphilly)>, <(David Davies Category:Articles with hCards),(Monmouth)>, <(Geraint Davies Category:Articles with hCards),(Swansea West)>, <(Glyn Davies Category:Articles with hCards),(Montgomeryshire)>, <(Jonathan Edwards Category:Articles with hCards),(Carmarthen East and Dinefwr)>, <(Chris Evans Category:Articles with hCards),(Islwyn)>, <(Jonathan Evans Category:Articles with hCards),(Cardiff North)>, <(Paul Flynn Category:Articles with hCards),(Newport West)>, <(Hywel Francis Category:Articles with hCards),(Aberavon)>, <(Nia Griffith Category:Articles with hCards),(Llanelli)>, <(Peter Hain Category:Articles with hCards),(Neath)>, <(David Hanson Category:Articles with hCards),(Delyn)>, <(Simon Hart Category:Articles with hCards),(Carmarthen West and Pembrokeshire South)>, etc. The relation type candidates are: film.film.country, soccer.football_player.position_s, tv.tv_network.programs-tv.tv_network_duration.program, government.political_district.representatives-government.government_position_held.office_holder, government.politician.party-government.political_party_tenure.party, people.person.place_of_birth, film.film.produced_by, people.person.nationality, american_football.football_player.games-american_football.player_game_statistics.team, aviation.airline.hubs, film.director.film, sports.sports_position.players-sports.sports_team_roster.position, film.film.directed_by, location.administrative_division.country, award.award_ceremony.nominees-award.award_nomination.nominated_for, time.event.locations, base.aareas.schema.administrative_area.administrative_parent, sports.sports_championship_event.champion, sports.sports_position.players-sports.sports_team_roster.player, location.capital_of_administrative_division.capital_of-location.administrative_division_capital_relationship.administrative_division, film.actor.film-film.performance.character, film.film.starring-film.performance.character, film.film.production_companies, film.film.release_date_s-film.film_regional_release_date.film_release_region, sports.sports_team.league-sports.sports_league_participation.league, book.author.works_written, tv.tv_character.appeared_in_tv_program-tv.regular_tv_appearance.actor, base.wikipedia_infobox.video_game.developer, film.film.music, award.award_category.nominees-award.award_nomination.ceremony, music.composer.compositions, sports.sports_team.arena_stadium, sports.sports_team.roster-sports.sports_team_roster.player, music.artist.album, sports.sports_league_season.league, sports.sports_team.league-sports.sports_league_participation.from, award.award_category.category_of, baseball.baseball_player.batting_stats-baseball.batting_statistics.team, cvg.computer_videogame.publisher, sports.sports_facility.home_venue_for-sports.team_venue_relationship.team, soccer.football_team.player_statistics-soccer.football_player_stats.player, location.country.languages_spoken, film.film_character.portrayed_in_films-film.performance.actor, education.educational_institution.athletics_brand, organization.organization.headquarters-location.mailing_address.country, tv.tv_program.original_network-tv.tv_network_duration.network, award.award_ceremony.nominees-award.award_nomination.award_nominee, basketball.basketball_player.player_statistics-basketball.basketball_player_stats.team, award.award_ceremony.awards_presented-award.award_honor.award_winner, meteorology.tropical_cyclone.tropical_cyclone_season, olympics.olympic_athlete.medals_won-olympics.olympic_medal_honor.event, book.written_work.author, organization.organization.headquarters-location.mailing_address.state_province_region, award.award_nominated_work.award_nominations-award.award_nomination.ceremony, olympics.olympic_event_competition.medalists-olympics.olympic_medal_honor.medalist, film.film.story_by, film.film.language, film.film.starring-film.performance.actor, american_football.football_player.position_s, tv.tv_actor.starring_roles-tv.regular_tv_appearance.series, olympics.olympic_athlete.medals_won-olympics.olympic_medal_honor.country, film.actor.film-film.performance.film, government.political_party.politicians_in_this_party-government.political_party_tenure.politician, sports.sports_team.sport, cvg.computer_videogame.developer, military.military_person.service-military.military_service.military_force, military.military_combatant.military_conflicts-military.military_combatant_group.combatants, award.award_winner.awards_won-award.award_honor.honored_for, tv.tv_actor.starring_roles-tv.regular_tv_appearance.character, base.schemastaging.organization_extra.phone_number-base.schemastaging.phone_sandbox.service_location, location.hud_county_place.county, award.award_ceremony.awards_presented-award.award_honor.honored_for, people.person.places_lived-people.place_lived.location, music.composition.composer, film.film.genre, sports.sports_team.venue-sports.team_venue_relationship.venue, award.award_category.winners-award.award_honor.award_winner, ice_hockey.hockey_player.hockey_position, baseball.baseball_team.league, tv.tv_program.regular_cast-tv.regular_tv_appearance.actor, music.album.artist, sports.sports_team.location, location.location.containedby, base.culturalevent.event.entity_involved, location.country.capital, award.award_nominee.award_nominations-award.award_nomination.nominated_for, government.politician.government_positions_held-government.government_position_held.district_represented, people.person.parents, location.country.official_language, people.person.spouse_s-people.marriage.spouse, sports.pro_athlete.teams-sports.sports_team_roster.team, time.event.instance_of_recurring_event, sports.sports_league.teams-sports.sports_league_participation.team, award.award_category.nominees-award.award_nomination.award_nominee, tv.tv_program.country_of_origin, baseball.baseball_player.position_s, government.governmental_jurisdiction.governing_officials-government.government_position_held.office_holder, people.deceased_person.place_of_death, film.film.written_by, sports.pro_athlete.teams-sports.sports_team_roster.position, broadcast.broadcast.area_served, award.award_category.winners-award.award_honor.ceremony, olympics.olympic_participating_country.athletes-olympics.olympic_athlete_affiliation.athlete, base.wikipedia_infobox.video_game.platforms, olympics.olympic_participating_country.medals_won-olympics.olympic_medal_honor.medalist, location.location.street_address-location.mailing_address.citytown, organization.organization.headquarters-location.mailing_address.citytown, base.biblioness.bibs_location.country, film.film.distributors-film.film_film_distributor_relationship.distributor, sports.sports_award_winner.awards-sports.sports_award.team, location.location.contains, soccer.football_player.statistics-soccer.football_player_stats.team, location.administrative_division.capital-location.administrative_division_capital_relationship.capital, base.schemastaging.athlete_extra.salary-base.schemastaging.athlete_salary.team, award.award_nominated_work.award_nominations-award.award_nomination.award_nominee, people.person.education-education.education.institution, sports.sports_facility.teams, aviation.airport.serves, award.award_winning_work.awards_won-award.award_honor.award_winner, location.location.nearby_airports, olympics.olympic_athlete.country-olympics.olympic_athlete_affiliation.country. What are the correct relation types for the two selected columns (column names: <(mp),(constituency)>. entity pairs: <(Guto Bebb Category:Articles with hCards),(Aberconwy)>, <(Kevin Brennan Category:Articles with hCards),(Cardiff West)>, <(Chris Bryant Category:Articles with hCards),(Rhondda)>, <(Alun Cairns Category:Articles with hCards),(Vale of Glamorgan)>, <(Martin Caton Category:Articles with hCards),(Gower)>, <(Ann Clwyd Category:Articles with hCards),(Cynon Valley)>, <(Stephen Crabb Category:Articles with hCards),(Preseli Pembrokeshire)>, <(Wayne David Category:Articles with hCards),(Caerphilly)>, <(David Davies Category:Articles with hCards),(Monmouth)>, <(Geraint Davies Category:Articles with hCards),(Swansea West)>, <(Glyn Davies Category:Articles with hCards),(Montgomeryshire)>, <(Jonathan Edwards Category:Articles with hCards),(Carmarthen East and Dinefwr)>, <(Chris Evans Category:Articles with hCards),(Islwyn)>, <(Jonathan Evans Category:Articles with hCards),(Cardiff North)>, <(Paul Flynn Category:Articles with hCards),(Newport West)>, <(Hywel Francis Category:Articles with hCards),(Aberavon)>, <(Nia Griffith Category:Articles with hCards),(Llanelli)>, <(Peter Hain Category:Articles with hCards),(Neath)>, <(David Hanson Category:Articles with hCards),(Delyn)>, <(Simon Hart Category:Articles with hCards),(Carmarthen West and Pembrokeshire South)>, etc)?',\n",
    " 'output': 'government.politician.government_positions_held-government.government_position_held.district_represented'}"
   ]
  },
  {
   "cell_type": "markdown",
   "metadata": {},
   "source": [
    "# BGP table dataset"
   ]
  },
  {
   "cell_type": "markdown",
   "metadata": {},
   "source": [
    "{\n",
    "    \"instruction\": \"The goal for this task is to identify the type of BGP anomaly based on the given data. The context, section, and table columns provide important information for identifying the correct anomaly type.\",\n",
    "    \"input_seg\": \"[TLE] The context is about BGP data analysis for detecting anomalies. The section is related to a specific time period of BGP monitoring. [TAB] col: | timestamp | asn | num_routes | num_new_routes | num_withdrawals | num_origin_changes | num_route_changes | max_path_length | avg_path_length | max_edit_distance | avg_edit_distance | num_announcements | num_unique_prefixes_announced | row 1: | 2024-06-10 12:00:00 | 12345 | 100 | 5 | 3 | 1 | 2 | 4 | 3.5 | 2 | 1.5 | 10 | 8 | [SEP] row 2: | 2024-06-10 12:05:00 | 12346 | 95 | 7 | 4 | 0 | 1 | 5 | 3.2 | 1 | 1.7 | 9 | 7 | [SEP] row 3: | 2024-06-10 12:10:00 | 12347 | 102 | 4 | 5 | 2 | 3 | 4.1 | 3 | 2.5 | 11 | 10 |\",\n",
    "    \"question\": \"Based on the data provided, identify the type of BGP anomaly. The possible anomaly types are: route_flapping, outage, prefix_hijacking, normal. The data contains various metrics such as num_routes, num_new_routes, num_withdrawals, etc.\",\n",
    "    'output': {anomaly_status},\n",
    "}\n"
   ]
  },
  {
   "cell_type": "code",
   "execution_count": 1,
   "metadata": {},
   "outputs": [],
   "source": [
    "import pandas as pd\n",
    "import json\n",
    "import os\n",
    "\n",
    "def combine_csv_files(directory):\n",
    "    \"\"\"\n",
    "    Load all CSV files from a directory and combine them into a single DataFrame.\n",
    "\n",
    "    Parameters:\n",
    "    directory (str): The directory containing the CSV files.\n",
    "\n",
    "    Returns:\n",
    "    pd.DataFrame: A DataFrame containing all the data from the CSV files.\n",
    "    \"\"\"\n",
    "    combined_df = pd.DataFrame()\n",
    "    for filename in os.listdir(directory):\n",
    "        if filename.endswith(\".csv\"):\n",
    "            file_path = os.path.join(directory, filename)\n",
    "            df = pd.read_csv(file_path)\n",
    "            combined_df = pd.concat([combined_df, df], ignore_index=True)\n",
    "    return combined_df\n",
    "\n",
    "def split_dataframe(df, split_size=10):\n",
    "    \"\"\"\n",
    "    Split a DataFrame into smaller DataFrames with a specified number of rows.\n",
    "\n",
    "    Parameters:\n",
    "    df (pd.DataFrame): The original DataFrame to split.\n",
    "    split_size (int): The number of rows in each chunk. Default is 10.\n",
    "\n",
    "    Returns:\n",
    "    list of pd.DataFrame: A list containing the smaller DataFrames.\n",
    "    \"\"\"\n",
    "    num_chunks = len(df) // split_size + (1 if len(df) % split_size > 0 else 0)\n",
    "    data_list = [df.iloc[i*split_size:(i+1)*split_size].reset_index(drop=True) for i in range(num_chunks)]\n",
    "    return data_list\n",
    "\n",
    "def preprocess_data(data):\n",
    "    \"\"\"\n",
    "    Convert a DataFrame chunk into the specified JSON format for LLM training.\n",
    "\n",
    "    Parameters:\n",
    "    data (pd.DataFrame): The DataFrame chunk to convert.\n",
    "\n",
    "    Returns:\n",
    "    dict: A dictionary in the specified JSON format.\n",
    "    \"\"\"\n",
    "    instruction = \"The goal for this task is to determine if the data indicates an anomaly. The context, section, and table columns provide important information for identifying the correct anomaly type.\"\n",
    "    input_seg = \"[TLE] The context is about BGP data analysis for detecting anomalies. The section is related to a specific time period of BGP monitoring. [TAB] col: | \" + \" | \".join(data.columns) + \" |\"\n",
    "    \n",
    "    for idx, row in data.iterrows():\n",
    "        input_seg += \" row {}: | \".format(idx+1) + \" | \".join([str(x) for x in row.values]) + \" | [SEP]\"\n",
    "    \n",
    "    question = \"Based on the data provided, determite the data indicates an anomaly. If an anomaly is detected, include the timestamp of the anomaly data and provide a reason explaining which values are anomalous and why. For example, 'anomaly detected at 2024-06-10 12:00:00 due to high value of num_routes=77'\"\n",
    "    \n",
    "    # Determine the output based on the anomaly_status column\n",
    "    if (data['anomaly_status'] == 'no anomalies detected').all():\n",
    "        output = \"no anomalies detected\"\n",
    "    else:\n",
    "        output = \"; \".join(data.loc[data['anomaly_status'] != 'no anomalies detected', 'anomaly_status'].unique())\n",
    "    \n",
    "    result = {\n",
    "        \"instruction\": instruction,\n",
    "        \"input_seg\": input_seg,\n",
    "        \"question\": question,\n",
    "        \"output\": output,\n",
    "    }\n",
    "    \n",
    "    return result"
   ]
  },
  {
   "cell_type": "code",
   "execution_count": 3,
   "metadata": {},
   "outputs": [],
   "source": [
    "def preprocess_data_instruct(data):\n",
    "    \"\"\"\n",
    "    Convert a DataFrame chunk into the specified JSON format for LLM training.\n",
    "\n",
    "    Parameters:\n",
    "    data (pd.DataFrame): The DataFrame chunk to convert.\n",
    "\n",
    "    Returns:\n",
    "    dict: A dictionary in the specified JSON format.\n",
    "    \"\"\"\n",
    "    instruction = \"The goal for this task is to determine if the data indicates an anomaly. Based on the context, section, and table columns provide important information for identifying the correct anomaly type. If an anomaly is detected, include the timestamp of the anomaly data and provide a reason explaining which values are anomalous and why. For example, 'anomaly detected at 2024-06-10 12:00:00 due to high value of num_routes=77'\"\n",
    "    input_seg = \"[TLE] The context is about BGP data analysis for detecting anomalies. The section is related to a specific time period of BGP monitoring. [TAB] col: | \" + \" | \".join(data.columns) + \" |\"\n",
    "    \n",
    "    for idx, row in data.iterrows():\n",
    "        input_seg += \" row {}: | \".format(idx+1) + \" | \".join([str(x) for x in row.values]) + \" | [SEP]\"\n",
    "    \n",
    "    \n",
    "    # Determine the output based on the anomaly_status column\n",
    "    anomaly_statuses = data.loc[data['anomaly_status'] != 'no anomalies detected', 'anomaly_status'].unique()\n",
    "    if len(anomaly_statuses) == 0:\n",
    "        output = \"no anomalies detected\"\n",
    "    else:\n",
    "        output = \"; \".join(anomaly_statuses)\n",
    "    \n",
    "    result = {\n",
    "        \"instruction\": instruction,\n",
    "        \"input\": input_seg,\n",
    "        \"output\": output,\n",
    "    }\n",
    "    \n",
    "    return result"
   ]
  },
  {
   "cell_type": "code",
   "execution_count": null,
   "metadata": {},
   "outputs": [],
   "source": [
    "def preprocess_data_to_doc(data):\n",
    "    \"\"\"\n",
    "    Convert a DataFrame chunk into the specified JSON format for LLM training.\n",
    "\n",
    "    Parameters:\n",
    "    data (pd.DataFrame): The DataFrame chunk to convert.\n",
    "\n",
    "    Returns:\n",
    "    dict: A dictionary in the specified JSON format.\n",
    "    \"\"\"\n",
    "    instruction = \"The goal for this task is to determine if the data indicates an anomaly. Based on the context, section, and table columns provide important information for identifying the correct anomaly type. If an anomaly is detected, include the timestamp of the anomaly data and provide a reason explaining which values are anomalous and why. For example, 'anomaly detected at 2024-06-10 12:00:00 due to high value of num_routes=77'\"\n",
    "    input_seg = \"[TLE] The context is about BGP data analysis for detecting anomalies. The section is related to a specific time period of BGP monitoring. [TAB] col: | \" + \" | \".join(data.columns) + \" |\"\n",
    "    \n",
    "    for idx, row in data.iterrows():\n",
    "        input_seg += \" row {}: | \".format(idx+1) + \" | \".join([str(x) for x in row.values]) + \" | [SEP]\"\n",
    "    \n",
    "    \n",
    "    # Determine the output based on the anomaly_status column\n",
    "    anomaly_statuses = data.loc[data['anomaly_status'] != 'no anomalies detected', 'anomaly_status'].unique()\n",
    "    if len(anomaly_statuses) == 0:\n",
    "        output = \"no anomalies detected\"\n",
    "    else:\n",
    "        output = \"; \".join(anomaly_statuses)\n",
    "    \n",
    "    result = {\n",
    "        \"instruction\": instruction,\n",
    "        \"input\": input_seg,\n",
    "        \"output\": output,\n",
    "    }\n",
    "    \n",
    "    return result"
   ]
  },
  {
   "cell_type": "code",
   "execution_count": 5,
   "metadata": {},
   "outputs": [],
   "source": [
    "def preprocess_data_to_txt(data, output_file='preprocessed_data.txt'):\n",
    "    \"\"\"\n",
    "    Convert a DataFrame into a text format for LLM training and save to a file.\n",
    "\n",
    "    Parameters:\n",
    "    data (pd.DataFrame): The DataFrame to convert.\n",
    "    output_file (str): The output file to save the text. Default is 'preprocessed_data.txt'.\n",
    "    \"\"\"\n",
    "    # Prepare the header with column names\n",
    "    input_seg = \"[TAB] col: | \" + \" | \".join(data.columns) + \" |\\n\"\n",
    "    \n",
    "    # Prepare the rows without splitting\n",
    "    for idx, row in data.iterrows():\n",
    "        input_seg += \" row {}: | \".format(idx + 1) + \" | \".join([str(x) for x in row.values]) + \" |\\n\"\n",
    "    \n",
    "    # Save the processed data to a text file\n",
    "    with open(output_file, 'w') as f:\n",
    "        f.write(input_seg)\n",
    "    \n",
    "    print(f\"Data successfully saved to {output_file}\")"
   ]
  },
  {
   "cell_type": "code",
   "execution_count": 8,
   "metadata": {},
   "outputs": [
    {
     "name": "stdout",
     "output_type": "stream",
     "text": [
      "Data successfully saved to bgp_test_dataset.txt\n"
     ]
    }
   ],
   "source": [
    "directory = \"/home/hb/dataset_bgp/bgp_tab_test\"\n",
    "combined_df = combine_csv_files(directory)\n",
    "if 'anomaly_status' in combined_df.columns:\n",
    "    combined_df = combined_df.drop(columns=['anomaly_status'])\n",
    "preprocess_data_to_txt(combined_df, output_file='bgp_test_dataset.txt')"
   ]
  },
  {
   "cell_type": "code",
   "execution_count": null,
   "metadata": {},
   "outputs": [],
   "source": [
    "import pandas as pd\n",
    "\n",
    "directory = \"/home/hb/dataset_bgp/bgp_tab_dataset_test\"\n",
    "combined_df = combine_csv_files(directory)\n",
    "if 'anomaly_status' in combined_df.columns:\n",
    "    combined_df = combined_df.drop(columns=['anomaly_status'])\n",
    "combined_df.to_csv(\"/home/hb/dataset_bgp/test_all.csv\")\n",
    "combined_df"
   ]
  },
  {
   "cell_type": "code",
   "execution_count": 10,
   "metadata": {},
   "outputs": [
    {
     "name": "stdout",
     "output_type": "stream",
     "text": [
      "{\n",
      "    \"instruction\": \"The goal for this task is to determine if the data indicates an anomaly. Based on the context, section, and table columns provide important information for identifying the correct anomaly type. If an anomaly is detected, include the timestamp of the anomaly data and provide a reason explaining which values are anomalous and why. For example, 'anomaly detected at 2024-06-10 12:00:00 due to high value of num_routes=77'\",\n",
      "    \"input\": \"[TLE] The context is about BGP data analysis for detecting anomalies. The section is related to a specific time period of BGP monitoring. [TAB] col: | timestamp | asn | num_routes | num_new_routes | num_withdrawals | num_origin_changes | num_route_changes | max_path_length | avg_path_length | max_edit_distance | avg_edit_distance | num_announcements | num_unique_prefixes_announced | anomaly_status | row 1: | 2018-11-12 07:00:00 | 4809 | 0 | 0 | 0 | 0 | 0 | 0 | 0.0 | 0 | 0.0 | 1 | 1 | no anomalies detected | [SEP] row 2: | 2018-11-12 07:05:00 | 4809 | 1 | 0 | 0 | 0 | 0 | 3 | 3.0 | 0 | 0.0 | 1 | 1 | no anomalies detected | [SEP] row 3: | 2018-11-12 07:10:00 | 4809 | 112 | 111 | 0 | 0 | 0 | 3 | 0.0267857142857142 | 0 | 0.0 | 114 | 112 | no anomalies detected | [SEP] row 4: | 2018-11-12 07:15:00 | 4809 | 1 | 0 | 111 | 0 | 0 | 3 | 3.0 | 0 | 0.0 | 1 | 1 | no anomalies detected | [SEP] row 5: | 2018-11-12 07:20:00 | 4809 | 14 | 13 | 9 | 0 | 0 | 3 | 0.2142857142857142 | 0 | 0.0 | 34 | 14 | no anomalies detected | [SEP] row 6: | 2018-11-12 07:25:00 | 4809 | 1 | 0 | 15 | 0 | 0 | 3 | 3.0 | 0 | 0.0 | 5 | 1 | no anomalies detected | [SEP] row 7: | 2018-11-12 07:30:00 | 4809 | 1 | 0 | 0 | 0 | 0 | 3 | 3.0 | 0 | 0.0 | 3 | 1 | no anomalies detected | [SEP] row 8: | 2018-11-12 07:35:00 | 4809 | 2 | 1 | 0 | 0 | 0 | 3 | 1.5 | 0 | 0.0 | 4 | 2 | no anomalies detected | [SEP] row 9: | 2018-11-12 07:40:00 | 4809 | 1 | 0 | 1 | 0 | 0 | 3 | 3.0 | 0 | 0.0 | 2 | 1 | no anomalies detected | [SEP] row 10: | 2018-11-12 07:45:00 | 4809 | 1 | 0 | 0 | 0 | 0 | 3 | 3.0 | 0 | 0.0 | 1 | 1 | no anomalies detected | [SEP] row 11: | 2018-11-12 07:50:00 | 4809 | 201 | 200 | 0 | 0 | 0 | 3 | 0.0149253731343283 | 0 | 0.0 | 203 | 201 | anomaly detected at 2018-11-12 07:50:00 due to high value of num_routes=201, num_new_routes=200, num_announcements=203, num_unique_prefixes_announced=201 | [SEP] row 12: | 2018-11-12 07:55:00 | 4809 | 203 | 2 | 0 | 0 | 90 | 9 | 4.985221674876847 | 4 | 1.206896551724138 | 284 | 203 | anomaly detected at 2018-11-12 07:55:00 due to high value of num_new_routes=2, num_route_changes=90, max_path_length=9, avg_path_length=4.985221674876847, max_edit_distance=4 | [SEP] row 13: | 2018-11-12 08:00:00 | 4809 | 203 | 0 | 0 | 0 | 78 | 9 | 5.187192118226601 | 4 | 1.0344827586206895 | 233 | 203 | no anomalies detected | [SEP] row 14: | 2018-11-12 08:05:00 | 4809 | 173 | 0 | 30 | 0 | 150 | 7 | 5.052023121387284 | 4 | 2.277456647398844 | 174 | 173 | anomaly detected at 2018-11-12 08:05:00 due to high value of num_route_changes=150 | [SEP] row 15: | 2018-11-12 08:10:00 | 4809 | 1 | 0 | 172 | 0 | 1 | 3 | 3.0 | 2 | 2.0 | 3 | 1 | anomaly detected at 2018-11-12 08:10:00 due to high value of num_routes=1, num_withdrawals=172, num_route_changes=1, max_path_length=3, num_unique_prefixes_announced=1 | [SEP] row 16: | 2018-11-12 08:15:00 | 4809 | 1 | 0 | 0 | 0 | 0 | 3 | 3.0 | 0 | 0.0 | 1 | 1 | no anomalies detected | [SEP] row 17: | 2018-11-12 08:20:00 | 4809 | 1 | 0 | 0 | 0 | 0 | 3 | 3.0 | 0 | 0.0 | 2 | 1 | no anomalies detected | [SEP] row 18: | 2018-11-12 08:25:00 | 4809 | 3 | 2 | 0 | 0 | 0 | 3 | 1.0 | 0 | 0.0 | 5 | 3 | no anomalies detected | [SEP] row 19: | 2018-11-12 08:30:00 | 4809 | 2 | 0 | 1 | 0 | 1 | 6 | 4.5 | 1 | 0.5 | 3 | 2 | no anomalies detected | [SEP] row 20: | 2018-11-12 08:35:00 | 4809 | 0 | 0 | 2 | 0 | 0 | 0 | 0.0 | 0 | 0.0 | 0 | 0 | no anomalies detected | [SEP]\",\n",
      "    \"output\": \"anomaly detected at 2018-11-12 07:50:00 due to high value of num_routes=201, num_new_routes=200, num_announcements=203, num_unique_prefixes_announced=201; anomaly detected at 2018-11-12 07:55:00 due to high value of num_new_routes=2, num_route_changes=90, max_path_length=9, avg_path_length=4.985221674876847, max_edit_distance=4; anomaly detected at 2018-11-12 08:05:00 due to high value of num_route_changes=150; anomaly detected at 2018-11-12 08:10:00 due to high value of num_routes=1, num_withdrawals=172, num_route_changes=1, max_path_length=3, num_unique_prefixes_announced=1\"\n",
      "}\n"
     ]
    }
   ],
   "source": [
    "import pandas as pd\n",
    "\n",
    "\n",
    "directory = \"/home/hb/dataset_bgp/bgp_tab_dataset\"\n",
    "combined_df = combine_csv_files(directory)\n",
    "\n",
    "# Split the combined DataFrame into chunks\n",
    "data_list = split_dataframe(combined_df, split_size=20)\n",
    "\n",
    "# Convert each split into the specified format\n",
    "formatted_data = [preprocess_data_instruct(chunk) for chunk in data_list]\n",
    "\n",
    "output_json_file = '/home/hb/LLM-research/dataset/BGP/BGP_tabular_analysis/llm_table_bgp_data_train_split20.json'\n",
    "with open(output_json_file, 'w') as f:\n",
    "    json.dump(formatted_data, f, indent=4)\n",
    "\n",
    "# Display one example to verify\n",
    "print(json.dumps(formatted_data[0], indent=4))"
   ]
  },
  {
   "cell_type": "code",
   "execution_count": null,
   "metadata": {},
   "outputs": [],
   "source": []
  }
 ],
 "metadata": {
  "kernelspec": {
   "display_name": "myenv",
   "language": "python",
   "name": "python3"
  },
  "language_info": {
   "codemirror_mode": {
    "name": "ipython",
    "version": 3
   },
   "file_extension": ".py",
   "mimetype": "text/x-python",
   "name": "python",
   "nbconvert_exporter": "python",
   "pygments_lexer": "ipython3",
   "version": "3.8.16"
  }
 },
 "nbformat": 4,
 "nbformat_minor": 2
}
