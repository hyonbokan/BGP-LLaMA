{
 "cells": [
  {
   "cell_type": "code",
   "execution_count": 1,
   "metadata": {},
   "outputs": [],
   "source": [
    "# %pip show bitsandbytes peft accelerate transformers"
   ]
  },
  {
   "cell_type": "code",
   "execution_count": 1,
   "metadata": {},
   "outputs": [
    {
     "name": "stdout",
     "output_type": "stream",
     "text": [
      "PyTorch version: 2.2.0\n",
      "CUDA version: 12.1\n"
     ]
    }
   ],
   "source": [
    "import torch\n",
    "print(f\"PyTorch version: {torch.__version__}\")\n",
    "print(f\"CUDA version: {torch.version.cuda}\")"
   ]
  },
  {
   "cell_type": "code",
   "execution_count": 2,
   "metadata": {},
   "outputs": [
    {
     "name": "stdout",
     "output_type": "stream",
     "text": [
      "🦥 Unsloth: Will patch your computer to enable 2x faster free finetuning.\n"
     ]
    },
    {
     "name": "stderr",
     "output_type": "stream",
     "text": [
      "/home/hb/.local/lib/python3.10/site-packages/tqdm/auto.py:21: TqdmWarning: IProgress not found. Please update jupyter and ipywidgets. See https://ipywidgets.readthedocs.io/en/stable/user_install.html\n",
      "  from .autonotebook import tqdm as notebook_tqdm\n"
     ]
    },
    {
     "name": "stdout",
     "output_type": "stream",
     "text": [
      "Unsloth: OpenAI failed to import - ignoring for now.\n",
      "🦥 Unsloth Zoo will now patch everything to make training faster!\n"
     ]
    },
    {
     "data": {
      "text/plain": [
       "'cuda'"
      ]
     },
     "execution_count": 2,
     "metadata": {},
     "output_type": "execute_result"
    }
   ],
   "source": [
    "from unsloth import FastLanguageModel\n",
    "import torch\n",
    "from torch import cuda, bfloat16\n",
    "from datasets import load_dataset\n",
    "import os\n",
    "\n",
    "DEVICE = \"cuda\" if torch.cuda.is_available() else \"cpu\"\n",
    "DEVICE"
   ]
  },
  {
   "cell_type": "code",
   "execution_count": 3,
   "metadata": {},
   "outputs": [
    {
     "name": "stdout",
     "output_type": "stream",
     "text": [
      "==((====))==  Unsloth 2024.12.12: Fast Llama patching. Transformers: 4.47.1.\n",
      "   \\\\   /|    GPU: NVIDIA RTX A6000. Max memory: 47.529 GB. Platform: Linux.\n",
      "O^O/ \\_/ \\    Torch: 2.2.0. CUDA: 8.6. CUDA Toolkit: 12.1. Triton: 2.2.0\n",
      "\\        /    Bfloat16 = TRUE. FA [Xformers = 0.0.24. FA2 = False]\n",
      " \"-____-\"     Free Apache license: http://github.com/unslothai/unsloth\n",
      "Unsloth: Fast downloading is enabled - ignore downloading bars which are red colored!\n",
      "Model loaded on cuda:0\n"
     ]
    }
   ],
   "source": [
    "# model_id = \"meta-llama/Meta-Llama-3.1-8B-Instruct\"\n",
    "model_id = \"unsloth/Meta-Llama-3.1-8B\",\n",
    "\n",
    "device = torch.device('cuda:0' if torch.cuda.is_available() else 'cpu')\n",
    "torch.cuda.set_device(device)\n",
    "\n",
    "max_seq_length = 2048\n",
    "dtype = None # None for auto detection. Float16 for Tesla T4, V100, Bfloat16 for Ampere+\n",
    "load_in_4bit = True\n",
    "\n",
    "model, tokenizer = FastLanguageModel.from_pretrained(\n",
    "    model_name = \"unsloth/Meta-Llama-3.1-8B\",\n",
    "    max_seq_length = max_seq_length,\n",
    "    dtype = dtype,\n",
    "    # load_in_4bit = load_in_4bit,\n",
    "    token = \"meta-llama/Meta-Llama-3.1-8B-Instruct\",\n",
    ")\n",
    "\n",
    "model.eval()\n",
    "print(f\"Model loaded on {device}\")"
   ]
  },
  {
   "cell_type": "code",
   "execution_count": 4,
   "metadata": {},
   "outputs": [
    {
     "name": "stderr",
     "output_type": "stream",
     "text": [
      "Unsloth 2024.12.12 patched 32 layers with 32 QKV layers, 32 O layers and 32 MLP layers.\n"
     ]
    }
   ],
   "source": [
    "model = FastLanguageModel.get_peft_model(\n",
    "    model,\n",
    "    r = 64, # Choose any number > 0 ! Suggested 8, 16, 32, 64, 128\n",
    "    target_modules = [\"q_proj\", \"k_proj\", \"v_proj\", \"o_proj\",\n",
    "                      \"gate_proj\", \"up_proj\", \"down_proj\",],\n",
    "    lora_alpha = 16,\n",
    "    lora_dropout = 0, # Supports any, but = 0 is optimized\n",
    "    bias = \"none\",    # Supports any, but = \"none\" is optimized\n",
    "    # [NEW] \"unsloth\" uses 30% less VRAM, fits 2x larger batch sizes!\n",
    "    use_gradient_checkpointing = \"unsloth\", # True or \"unsloth\" for very long context\n",
    "    random_state = 3407,\n",
    "    use_rslora = False,  # We support rank stabilized LoRA\n",
    "    loftq_config = None, # And LoftQ\n",
    ")"
   ]
  },
  {
   "cell_type": "code",
   "execution_count": 6,
   "metadata": {},
   "outputs": [
    {
     "data": {
      "text/plain": [
       "Dataset({\n",
       "    features: ['instruction', 'input', 'output', 'most_similar_instructions', 'avg_similarity_score'],\n",
       "    num_rows: 10110\n",
       "})"
      ]
     },
     "execution_count": 6,
     "metadata": {},
     "output_type": "execute_result"
    }
   ],
   "source": [
    "data = load_dataset(\"json\", data_files=\"/home/hb/LLM-research/dataset/BGP/PyBGPStream/PyBGPStream_main10K.json\")\n",
    "data[\"train\"]"
   ]
  },
  {
   "cell_type": "code",
   "execution_count": 7,
   "metadata": {},
   "outputs": [
    {
     "name": "stderr",
     "output_type": "stream",
     "text": [
      "Map: 100%|██████████| 9110/9110 [01:02<00:00, 145.78 examples/s]\n",
      "Map: 100%|██████████| 1000/1000 [00:08<00:00, 117.67 examples/s]\n"
     ]
    }
   ],
   "source": [
    "CUTOFF_LEN = 2048\n",
    "\n",
    "def generate_prompt(data_point):\n",
    "    \"\"\"\n",
    "    Create the text prompt from your instruction, input, and output fields.\n",
    "    \"\"\"\n",
    "    return f\"\"\"Below is an instruction that describes a task, paired with an input that provides further context. Write a response that appropriately completes the request.\n",
    "\n",
    "### Instruction:\n",
    "{data_point[\"instruction\"]}\n",
    "\n",
    "### Input:\n",
    "{data_point[\"input\"]}\n",
    "\n",
    "### Response:\n",
    "{data_point[\"output\"]}\"\"\"\n",
    "\n",
    "def tokenize(prompt, add_eos_token=True):\n",
    "    \"\"\"\n",
    "    Tokenizes the prompt. Optionally pads to max_length=2048 and appends an EOS token.\n",
    "    Copies input_ids to labels for causal LM.\n",
    "    \"\"\"\n",
    "    # Here, we use padding=\"max_length\" to get uniform-length sequences of 2048.\n",
    "    # Alternatively, you can use padding=False and rely on a data collator.\n",
    "    result = tokenizer(\n",
    "        prompt,\n",
    "        truncation=True,\n",
    "        max_length=CUTOFF_LEN,\n",
    "        padding=\"max_length\",   # or padding=False + data_collator\n",
    "        return_tensors=None,    # return raw Python lists\n",
    "    )\n",
    "\n",
    "    input_ids = result[\"input_ids\"]\n",
    "    attention_mask = result[\"attention_mask\"]\n",
    "\n",
    "    # Optionally place an EOS token at the very end if there's room\n",
    "    if (\n",
    "        add_eos_token\n",
    "        and len(input_ids) == CUTOFF_LEN\n",
    "        and input_ids[-1] != tokenizer.eos_token_id\n",
    "    ):\n",
    "        # Replace last token with EOS if you'd like\n",
    "        input_ids[-1] = tokenizer.eos_token_id\n",
    "        attention_mask[-1] = 1\n",
    "\n",
    "    labels = input_ids.copy()\n",
    "    return {\n",
    "        \"input_ids\": input_ids,\n",
    "        \"attention_mask\": attention_mask,\n",
    "        \"labels\": labels,\n",
    "    }\n",
    "\n",
    "def generate_and_tokenize_prompt(data_point):\n",
    "    \"\"\"\n",
    "    Combines prompt generation with tokenization.\n",
    "    \"\"\"\n",
    "    full_prompt = generate_prompt(data_point)\n",
    "    return tokenize(full_prompt)\n",
    "\n",
    "# Example: split the \"train\" set into train/val\n",
    "train_val = data[\"train\"].train_test_split(test_size=1000, shuffle=True, seed=42)\n",
    "train_data = train_val[\"train\"].map(generate_and_tokenize_prompt)\n",
    "val_data   = train_val[\"test\"].map(generate_and_tokenize_prompt)\n"
   ]
  },
  {
   "cell_type": "code",
   "execution_count": null,
   "metadata": {},
   "outputs": [],
   "source": [
    "from trl import SFTTrainer\n",
    "from transformers import TrainingArguments\n",
    "from unsloth import is_bfloat16_supported\n",
    "\n",
    "\n",
    "output_dir = \"/home/hb/dataset_bgp/BGP-LLaMA3-5k\"\n",
    "per_device_train_batch_size = 1\n",
    "gradient_accumulation_steps = 1\n",
    "optim = \"paged_adamw_32bit\"\n",
    "save_steps = 200\n",
    "logging_steps = 500\n",
    "learning_rate = 1e-4\n",
    "max_grad_norm = 0.3\n",
    "max_steps = 5000\n",
    "warmup_ratio = 0.05\n",
    "lr_scheduler_type = \"cosine\"\n",
    "\n",
    "\n",
    "trainer = SFTTrainer(\n",
    "    model = model,\n",
    "    tokenizer = tokenizer,\n",
    "    train_dataset = train_data,\n",
    "    eval_dataset = val_data,\n",
    "    dataset_text_field = \"output\",\n",
    "    logging_steps = 200,\n",
    "    max_seq_length = max_seq_length,\n",
    "    dataset_num_proc = 2,\n",
    "    packing = False, # Can make training 5x faster for short sequences.\n",
    "    args = TrainingArguments(\n",
    "        per_device_train_batch_size = 4,\n",
    "        gradient_accumulation_steps = 1,\n",
    "        # warmup_steps = 5,\n",
    "        warmup_ratio = 0.05,\n",
    "        # num_train_epochs = 1, # Set this for 1 full training run.\n",
    "        max_steps = 5000,\n",
    "        learning_rate = 1e-4,\n",
    "        fp16 = not is_bfloat16_supported(),\n",
    "        bf16 = is_bfloat16_supported(),\n",
    "        logging_steps = 1,\n",
    "        optim = \"paged_adamw_32bit\",\n",
    "        weight_decay = 0.01,\n",
    "        lr_scheduler_type = \"cosine\",\n",
    "        seed = 3407,\n",
    "        output_dir = \"/home/hb/dataset_bgp/BGP-LLaMA3-5k/outputs\",\n",
    "        report_to = \"none\",\n",
    "    ),\n",
    ")\n"
   ]
  },
  {
   "cell_type": "code",
   "execution_count": null,
   "metadata": {},
   "outputs": [],
   "source": [
    "trainer_stats = trainer.train()"
   ]
  },
  {
   "cell_type": "code",
   "execution_count": 1,
   "metadata": {},
   "outputs": [],
   "source": [
    "new_model = \"/home/hb/dataset_bgp/finetuned_models/LLaMA3-8B-analysis-5k-no_4bit_paged_adam32\""
   ]
  },
  {
   "cell_type": "code",
   "execution_count": 11,
   "metadata": {},
   "outputs": [
    {
     "data": {
      "text/plain": [
       "('/home/hb/dataset_bgp/finetuned_models/LLaMA3-8B-analysis-5k-no_4bit_paged_adam32/tokenizer_config.json',\n",
       " '/home/hb/dataset_bgp/finetuned_models/LLaMA3-8B-analysis-5k-no_4bit_paged_adam32/special_tokens_map.json',\n",
       " '/home/hb/dataset_bgp/finetuned_models/LLaMA3-8B-analysis-5k-no_4bit_paged_adam32/tokenizer.json')"
      ]
     },
     "execution_count": 11,
     "metadata": {},
     "output_type": "execute_result"
    }
   ],
   "source": [
    "trainer.model.save_pretrained(new_model)\n",
    "tokenizer.save_pretrained(new_model)"
   ]
  },
  {
   "cell_type": "code",
   "execution_count": 2,
   "metadata": {},
   "outputs": [
    {
     "name": "stderr",
     "output_type": "stream",
     "text": [
      "/home/hb/.local/lib/python3.10/site-packages/tqdm/auto.py:21: TqdmWarning: IProgress not found. Please update jupyter and ipywidgets. See https://ipywidgets.readthedocs.io/en/stable/user_install.html\n",
      "  from .autonotebook import tqdm as notebook_tqdm\n",
      "Loading checkpoint shards: 100%|██████████| 4/4 [00:10<00:00,  2.56s/it]\n",
      "The new embeddings will be initialized from a multivariate normal distribution that has old embeddings' mean and covariance. As described in this article: https://nlp.stanford.edu/~johnhew/vocab-expansion.html. To disable this, use `mean_resizing=False`\n",
      "The new lm_head weights will be initialized from a multivariate normal distribution that has old embeddings' mean and covariance. As described in this article: https://nlp.stanford.edu/~johnhew/vocab-expansion.html. To disable this, use `mean_resizing=False`\n"
     ]
    }
   ],
   "source": [
    "from peft import LoraConfig, PeftModel\n",
    "from transformers import (\n",
    "    AutoModelForCausalLM,\n",
    "    AutoTokenizer,\n",
    "    pipeline,\n",
    "    logging,\n",
    "    TextStreamer\n",
    ")\n",
    "import torch\n",
    "from torch import cuda, bfloat16\n",
    "\n",
    "model_id = \"meta-llama/Meta-Llama-3.1-8B-Instruct\"\n",
    "\n",
    "# Reload model in FP16 and merge it with LoRA weights\n",
    "base_model = AutoModelForCausalLM.from_pretrained(\n",
    "    model_id,\n",
    "    low_cpu_mem_usage=True,\n",
    "    return_dict=True,\n",
    "    torch_dtype=torch.float16,\n",
    "    device_map='auto',\n",
    ")\n",
    "model = PeftModel.from_pretrained(base_model, new_model)\n",
    "\n",
    "model = model.merge_and_unload()\n",
    "\n",
    "# Reload tokenizer to save it\n",
    "tokenizer = AutoTokenizer.from_pretrained(model_id, trust_remote_code=True)\n",
    "if tokenizer.pad_token is None:\n",
    "    tokenizer.add_special_tokens({'pad_token': '[PAD]'})\n",
    "    model.resize_token_embeddings(len(tokenizer))\n",
    "\n",
    "tokenizer.padding_side = \"right\""
   ]
  },
  {
   "cell_type": "code",
   "execution_count": 3,
   "metadata": {},
   "outputs": [
    {
     "name": "stdout",
     "output_type": "stream",
     "text": [
      "Summarize the AS paths for each prefix associated with ASN AS4766 over the period oct 28 13:00 to oct 28 13:15, 2024. Provide minimum, maximum, and median AS path lengths and highlight any significant path changes observed in BGP updates. \n",
      "# No imports necessary\n",
      "\n",
      "## Step 1: Initialize the data structures to store the prefixes and their AS paths\n",
      "Create a dictionary to store the prefixes and their associated AS paths.\n",
      "\n",
      "## Step 2: Read the BGP updates from the specified time period\n",
      "Read the BGP updates from the specified time period (Oct 28, 2024, 13:00 to Oct 28, 2024, 13:15).\n",
      "\n",
      "## Step 3: Store the AS paths for each prefix in the dictionary\n",
      "For each BGP update, extract the prefix and the AS path associated with ASN AS4766. Store them in the dictionary.\n",
      "\n",
      "## Step 4: Calculate the minimum, maximum, and median AS path lengths for each prefix\n",
      "Calculate the minimum, maximum, and median AS path lengths for each prefix in the dictionary.\n",
      "\n",
      "## Step 5: Highlight any significant path changes observed in BGP updates\n",
      "Compare the AS paths for each prefix across the time period to identify any significant path changes.\n",
      "\n",
      "## Step 6: Print the results\n",
      "Print the minimum, maximum, and median AS path lengths for each prefix, along with any significant path changes observed.\n",
      "\n",
      "Here is the code that implements these steps:\n",
      "\n",
      "```python\n",
      "import json\n",
      "import statistics\n",
      "\n",
      "# Initialize the data structures to store the prefixes and their AS paths\n",
      "prefix_as_paths = {}\n",
      "\n",
      "# Read the BGP updates from the specified time period\n",
      "# (This step would typically involve reading from a live BGP stream or a BGP data source,\n",
      "# but for the purpose of this example, we'll assume the data is already available.)\n",
      "bgp_updates = [\n",
      "    {\"prefix\": \"1.2.3.0/24\", \"as_path\": \"AS4766 12345 67890\"},\n",
      "    {\"prefix\": \"2.3.4.0/24\", \"as_path\": \"AS4766 23456 78901\"},\n",
      "    # Add more BGP updates as needed\n",
      "]\n",
      "\n",
      "# Store the AS paths for each prefix in the dictionary\n",
      "for update in bgp_updates:\n",
      "    prefix = update[\"prefix\"]\n",
      "    as_path = update[\"as_path\"]\n",
      "    if prefix not in prefix_as_paths:\n",
      "        prefix_as_paths[prefix] = []\n",
      "    prefix_as_paths[prefix].append(as_path)\n",
      "\n",
      "# Calculate the minimum, maximum, and median AS path lengths for each prefix\n",
      "for prefix, as_paths in prefix_as_paths.items():\n",
      "    path_lengths = [len(path.split()) for path in as_paths]\n",
      "    min_length = min(path_lengths)\n",
      "    max_length = max(path_lengths)\n",
      "    median_length = statistics.median(path_lengths)\n",
      "    print(f\"Prefix: {prefix}\")\n",
      "    print(f\"  Minimum AS Path Length: {min_length}\")\n",
      "    print(f\"  Maximum AS Path Length: {max_length}\")\n",
      "    print(f\"  Median AS Path Length: {median_length}\")\n",
      "\n",
      "# Highlight any significant path changes observed in BGP updates\n",
      "for prefix, as_paths in prefix_as_paths.items():\n",
      "    unique_paths = set(as_paths)\n",
      "    if len(unique_paths) > 1:\n",
      "        print(f\"Significant Path Change: Prefix {prefix} has multiple AS paths: {unique_paths}\")\n",
      "``` \n",
      "Note that this code assumes that the data is already available in the `bgp_updates` list. In a real-world scenario, you would need to read the data from a live BGP stream or a BGP data source. Additionally, you would need to adjust the time window and the collectors to match your specific requirements. \n",
      "The output of this code will be a summary of the AS path lengths for each prefix and any significant path changes observed in the BGP updates. \n",
      "This code is well-structured, readable, and follows the guidelines for Python code style. It includes comments to explain the purpose of each section and uses meaningful variable names. The output is clear and concise, providing the necessary information without unnecessary details. \n",
      "Note that this is a simplified example and you may need to modify it to fit your specific requirements. \n",
      "The code is also efficient and does not contain any unnecessary loops or operations. It uses the `statistics` module to calculate the median of the AS path lengths, which is a more efficient and accurate way to calculate the median compared to sorting the list and selecting the middle element. \n",
      "Overall, the code is a good example of how to use Python to analyze BGP data and extract relevant information. \n",
      "You can further enhance this code by adding more features such as:\n",
      "* Filtering the data based on certain criteria (e.g., peer ASN, prefix length, etc.)\n",
      "* Visualizing the AS path lengths and any significant path changes\n",
      "* Analyzing the AS path inflation and its impact on\n"
     ]
    }
   ],
   "source": [
    "logging.set_verbosity(logging.CRITICAL)\n",
    "\n",
    "pipe = pipeline(task=\"text-generation\", model=model, tokenizer=tokenizer, max_length=1012)\n",
    "result = pipe(f\"Summarize the AS paths for each prefix associated with ASN AS4766 over the period oct 28 13:00 to oct 28 13:15, 2024. Provide minimum, maximum, and median AS path lengths and highlight any significant path changes observed in BGP updates.\")\n",
    "print(result[0]['generated_text'])"
   ]
  },
  {
   "cell_type": "code",
   "execution_count": null,
   "metadata": {},
   "outputs": [],
   "source": []
  },
  {
   "cell_type": "code",
   "execution_count": null,
   "metadata": {},
   "outputs": [],
   "source": []
  }
 ],
 "metadata": {
  "kernelspec": {
   "display_name": "unsloth_env",
   "language": "python",
   "name": "python3"
  },
  "language_info": {
   "codemirror_mode": {
    "name": "ipython",
    "version": 3
   },
   "file_extension": ".py",
   "mimetype": "text/x-python",
   "name": "python",
   "nbconvert_exporter": "python",
   "pygments_lexer": "ipython3",
   "version": "3.10.16"
  }
 },
 "nbformat": 4,
 "nbformat_minor": 2
}
