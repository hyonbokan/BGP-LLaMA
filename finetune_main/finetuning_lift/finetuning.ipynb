{
 "cells": [
  {
   "cell_type": "code",
   "execution_count": 1,
   "metadata": {},
   "outputs": [
    {
     "data": {
      "text/plain": [
       "'cuda'"
      ]
     },
     "execution_count": 1,
     "metadata": {},
     "output_type": "execute_result"
    }
   ],
   "source": [
    "import transformers\n",
    "from transformers import (\n",
    "    AutoModelForCausalLM,\n",
    "    AutoTokenizer,\n",
    "    pipeline,\n",
    "    logging,\n",
    ")\n",
    "from typing import List\n",
    "import torch\n",
    "from torch import cuda, bfloat16\n",
    "from datasets import load_dataset\n",
    "import os\n",
    " \n",
    "import matplotlib.pyplot as plt\n",
    "import matplotlib as mpl\n",
    "# import seaborn as sns\n",
    "from pylab import rcParams\n",
    "# from trl import SFTTrainer\n",
    " \n",
    "DEVICE = \"cuda\" if torch.cuda.is_available() else \"cpu\"\n",
    "DEVICE"
   ]
  },
  {
   "cell_type": "code",
   "execution_count": 2,
   "metadata": {},
   "outputs": [
    {
     "name": "stderr",
     "output_type": "stream",
     "text": [
      "/home/hb/myenv/lib/python3.8/site-packages/huggingface_hub/file_download.py:1132: FutureWarning: `resume_download` is deprecated and will be removed in version 1.0.0. Downloads always resume when possible. If you want to force a new download, use `force_download=True`.\n",
      "  warnings.warn(\n"
     ]
    },
    {
     "data": {
      "application/vnd.jupyter.widget-view+json": {
       "model_id": "faab7a116a09410bb45c0fcea678ef6d",
       "version_major": 2,
       "version_minor": 0
      },
      "text/plain": [
       "Loading checkpoint shards:   0%|          | 0/2 [00:00<?, ?it/s]"
      ]
     },
     "metadata": {},
     "output_type": "display_data"
    },
    {
     "name": "stdout",
     "output_type": "stream",
     "text": [
      "Model loaded on cuda:0\n"
     ]
    }
   ],
   "source": [
    "model_id = 'meta-llama/Llama-2-7b-chat-hf'\n",
    "# model_id = 'codellama/CodeLlama-7b-hf'\n",
    "device = f'cuda:{cuda.current_device()}' if cuda.is_available() else 'cpu'\n",
    "\n",
    "bnb_config = transformers.BitsAndBytesConfig(\n",
    "    load_in_8bit=True,\n",
    ")\n",
    "\n",
    "\n",
    "# Need auth token for these\n",
    "hf_auth = os.environ.get('hf_token')\n",
    "model_config = transformers.AutoConfig.from_pretrained(\n",
    "    model_id,\n",
    "    use_auth_token=hf_auth\n",
    ")\n",
    "\n",
    "# device_map = {\"\": 0}\n",
    "\n",
    "model = transformers.AutoModelForCausalLM.from_pretrained(\n",
    "    model_id,\n",
    "    trust_remote_code=True,\n",
    "    config=model_config,\n",
    "    quantization_config=bnb_config,\n",
    "    device_map=\"auto\",\n",
    "    use_auth_token=hf_auth\n",
    ")\n",
    "\n",
    "model.eval()\n",
    "print(f\"Model loaded on {device}\")"
   ]
  },
  {
   "cell_type": "code",
   "execution_count": 3,
   "metadata": {},
   "outputs": [],
   "source": [
    "tokenizer = transformers.AutoTokenizer.from_pretrained(\n",
    "    model_id,\n",
    "    use_auth_token=hf_auth\n",
    ")\n",
    " \n",
    "tokenizer.pad_token = tokenizer.eos_token\n",
    "tokenizer.padding_side = \"right\""
   ]
  },
  {
   "cell_type": "code",
   "execution_count": 4,
   "metadata": {},
   "outputs": [
    {
     "name": "stdout",
     "output_type": "stream",
     "text": [
      "Downloading and preparing dataset json/default to /home/hb/.cache/huggingface/datasets/json/default-c0aa8670fe72e8e5/0.0.0/0f7e3662623656454fcd2b650f34e886a7db4b9104504885bd462096cc7a9f51...\n"
     ]
    },
    {
     "data": {
      "application/vnd.jupyter.widget-view+json": {
       "model_id": "0500aed4846546eb8baac8cfa4147f28",
       "version_major": 2,
       "version_minor": 0
      },
      "text/plain": [
       "Downloading data files:   0%|          | 0/1 [00:00<?, ?it/s]"
      ]
     },
     "metadata": {},
     "output_type": "display_data"
    },
    {
     "data": {
      "application/vnd.jupyter.widget-view+json": {
       "model_id": "6c01d853526d4edd91822aa6f4e9121f",
       "version_major": 2,
       "version_minor": 0
      },
      "text/plain": [
       "Extracting data files:   0%|          | 0/1 [00:00<?, ?it/s]"
      ]
     },
     "metadata": {},
     "output_type": "display_data"
    },
    {
     "data": {
      "application/vnd.jupyter.widget-view+json": {
       "model_id": "d1591d21c2dd4d8e9647f221dd14b16b",
       "version_major": 2,
       "version_minor": 0
      },
      "text/plain": [
       "Generating train split: 0 examples [00:00, ? examples/s]"
      ]
     },
     "metadata": {},
     "output_type": "display_data"
    },
    {
     "name": "stdout",
     "output_type": "stream",
     "text": [
      "Dataset json downloaded and prepared to /home/hb/.cache/huggingface/datasets/json/default-c0aa8670fe72e8e5/0.0.0/0f7e3662623656454fcd2b650f34e886a7db4b9104504885bd462096cc7a9f51. Subsequent calls will reuse this data.\n"
     ]
    },
    {
     "data": {
      "application/vnd.jupyter.widget-view+json": {
       "model_id": "b193487832db418288dc82b2c7cadf46",
       "version_major": 2,
       "version_minor": 0
      },
      "text/plain": [
       "  0%|          | 0/1 [00:00<?, ?it/s]"
      ]
     },
     "metadata": {},
     "output_type": "display_data"
    },
    {
     "data": {
      "text/plain": [
       "Dataset({\n",
       "    features: ['timestamp', 'nb_A', 'nb_W', 'nb_implicit_W', 'nb_dup_A', 'nb_dup_W', 'nb_A_prefix', 'nb_W_prefix', 'max_A_prefix', 'avg_A_prefix', 'max_A_AS', 'avg_A_AS', 'nb_orign_change', 'nb_new_A', 'nb_new_A_afterW', 'max_path_len', 'avg_path_len', 'max_editdist', 'avg_editdist', 'editdist_7', 'editdist_8', 'editdist_9', 'editdist_10', 'editdist_11', 'editdist_12', 'editdist_13', 'editdist_14', 'editdist_15', 'editdist_16', 'editdist_17', 'nb_tolonger', 'nb_toshorter', 'avg_interarrival', 'anomaly_status'],\n",
       "    num_rows: 545\n",
       "})"
      ]
     },
     "execution_count": 4,
     "metadata": {},
     "output_type": "execute_result"
    }
   ],
   "source": [
    "data = load_dataset(\"json\", data_files=\"/home/hb/LLM-research/dataset/BGP/BGP_lift/lift_bgp_test1.json\")\n",
    "data[\"train\"]"
   ]
  },
  {
   "cell_type": "code",
   "execution_count": 5,
   "metadata": {},
   "outputs": [],
   "source": [
    "CUTOFF_LEN = 3050\n",
    "\n",
    "def generate_prompt(data_point):\n",
    "    # Exclude the 'anomaly_status' from the input data_point\n",
    "    input_data = {key: value for key, value in data_point.items() if key != 'anomaly_status'}\n",
    "    ground_truth = data_point['anomaly_status']\n",
    "    \n",
    "    return f\"\"\"Below is an instruction that describes a task, paired with an input that provides further context. Write a response that appropriately completes the request.  # noqa: E501\n",
    "### Instruction:\n",
    "Your task is to determine the BGP anomaly status based on the data provided. If an anomaly is detected, specify the reason. If there are no anomalies then state that no anomalies detected. \n",
    "### BGP update message:\n",
    "{input_data}\n",
    "### Anomaly status:\n",
    "{ground_truth}\"\"\"\n",
    " \n",
    " \n",
    "def tokenize(prompt, add_eos_token=True):\n",
    "    result = tokenizer(\n",
    "        prompt,\n",
    "        truncation=True,\n",
    "        max_length=CUTOFF_LEN,\n",
    "        padding=False,\n",
    "        return_tensors=None,\n",
    "    )\n",
    "    if (\n",
    "        result[\"input_ids\"][-1] != tokenizer.eos_token_id\n",
    "        and len(result[\"input_ids\"]) < CUTOFF_LEN\n",
    "        and add_eos_token\n",
    "    ):\n",
    "        result[\"input_ids\"].append(tokenizer.eos_token_id)\n",
    "        result[\"attention_mask\"].append(1)\n",
    " \n",
    "    result[\"labels\"] = result[\"input_ids\"].copy()\n",
    " \n",
    "    return result\n",
    " \n",
    "def generate_and_tokenize_prompt(data_point):\n",
    "    full_prompt = generate_prompt(data_point)\n",
    "    tokenized_full_prompt = tokenize(full_prompt)\n",
    "    return tokenized_full_prompt"
   ]
  },
  {
   "cell_type": "code",
   "execution_count": 6,
   "metadata": {},
   "outputs": [
    {
     "data": {
      "application/vnd.jupyter.widget-view+json": {
       "model_id": "3f93365b58714a3cbc41a0cc74ebe9b6",
       "version_major": 2,
       "version_minor": 0
      },
      "text/plain": [
       "Map:   0%|          | 0/491 [00:00<?, ? examples/s]"
      ]
     },
     "metadata": {},
     "output_type": "display_data"
    },
    {
     "data": {
      "application/vnd.jupyter.widget-view+json": {
       "model_id": "67176226c2224ca9afcdcb9ec243b579",
       "version_major": 2,
       "version_minor": 0
      },
      "text/plain": [
       "Map:   0%|          | 0/54 [00:00<?, ? examples/s]"
      ]
     },
     "metadata": {},
     "output_type": "display_data"
    }
   ],
   "source": [
    "train_val = data[\"train\"].train_test_split(\n",
    "    test_size=54, shuffle=False, seed=42\n",
    ")\n",
    "train_data = (\n",
    "    train_val[\"train\"].map(generate_and_tokenize_prompt)\n",
    ")\n",
    "val_data = (\n",
    "    train_val[\"test\"].map(generate_and_tokenize_prompt)\n",
    ")"
   ]
  },
  {
   "cell_type": "code",
   "execution_count": 7,
   "metadata": {},
   "outputs": [
    {
     "name": "stdout",
     "output_type": "stream",
     "text": [
      "trainable params: 33,554,432 || all params: 6,771,970,048 || trainable%: 0.49548996469513035\n"
     ]
    }
   ],
   "source": [
    "from peft import LoraConfig, get_peft_model\n",
    "from transformers import TrainingArguments\n",
    "\n",
    "lora_alpha = 16\n",
    "lora_dropout = 0.1\n",
    "lora_r = 64\n",
    " \n",
    "peft_config = LoraConfig(\n",
    "    lora_alpha=lora_alpha,\n",
    "    lora_dropout=lora_dropout,\n",
    "    r=lora_r,\n",
    "    bias=\"none\",\n",
    "    task_type=\"CAUSAL_LM\"\n",
    ")\n",
    "\n",
    "output_dir = \"./hyonbo/NLP-BGP-LLaMA7b\"\n",
    "per_device_train_batch_size = 4\n",
    "gradient_accumulation_steps = 1\n",
    "optim = \"paged_adamw_32bit\"\n",
    "save_steps = 200\n",
    "logging_steps = 500\n",
    "learning_rate = 1e-4\n",
    "max_grad_norm = 0.3\n",
    "max_steps = 2000\n",
    "warmup_ratio = 0.05\n",
    "lr_scheduler_type = \"cosine\"\n",
    "\n",
    "training_arguments = TrainingArguments(\n",
    "    output_dir=output_dir,\n",
    "    per_device_train_batch_size=per_device_train_batch_size,\n",
    "    gradient_accumulation_steps=gradient_accumulation_steps,\n",
    "    optim=optim,\n",
    "    save_steps=save_steps,\n",
    "    logging_steps=logging_steps,\n",
    "    learning_rate=learning_rate,\n",
    "    fp16=True,\n",
    "    max_grad_norm=max_grad_norm,\n",
    "    max_steps=max_steps,\n",
    "    warmup_ratio=warmup_ratio,\n",
    "    group_by_length=True,\n",
    "    lr_scheduler_type=lr_scheduler_type,\n",
    "    num_train_epochs=3.0\n",
    ")\n",
    "\n",
    "model = get_peft_model(model, peft_config)\n",
    "model.print_trainable_parameters()"
   ]
  },
  {
   "cell_type": "code",
   "execution_count": 8,
   "metadata": {},
   "outputs": [],
   "source": [
    "data_collator = transformers.DataCollatorForSeq2Seq(\n",
    "    tokenizer, return_tensors=\"pt\", padding=True\n",
    ")"
   ]
  },
  {
   "cell_type": "code",
   "execution_count": 9,
   "metadata": {},
   "outputs": [
    {
     "data": {
      "application/vnd.jupyter.widget-view+json": {
       "model_id": "c0401d7fe62b4c3b854f95c808d84542",
       "version_major": 2,
       "version_minor": 0
      },
      "text/plain": [
       "Map:   0%|          | 0/491 [00:00<?, ? examples/s]"
      ]
     },
     "metadata": {},
     "output_type": "display_data"
    },
    {
     "data": {
      "application/vnd.jupyter.widget-view+json": {
       "model_id": "f7453204559c4ab7b84d546a1770ae29",
       "version_major": 2,
       "version_minor": 0
      },
      "text/plain": [
       "Map:   0%|          | 0/54 [00:00<?, ? examples/s]"
      ]
     },
     "metadata": {},
     "output_type": "display_data"
    },
    {
     "name": "stderr",
     "output_type": "stream",
     "text": [
      "huggingface/tokenizers: The current process just got forked, after parallelism has already been used. Disabling parallelism to avoid deadlocks...\n",
      "To disable this warning, you can either:\n",
      "\t- Avoid using `tokenizers` before the fork if possible\n",
      "\t- Explicitly set the environment variable TOKENIZERS_PARALLELISM=(true | false)\n",
      "huggingface/tokenizers: The current process just got forked, after parallelism has already been used. Disabling parallelism to avoid deadlocks...\n",
      "To disable this warning, you can either:\n",
      "\t- Avoid using `tokenizers` before the fork if possible\n",
      "\t- Explicitly set the environment variable TOKENIZERS_PARALLELISM=(true | false)\n",
      "huggingface/tokenizers: The current process just got forked, after parallelism has already been used. Disabling parallelism to avoid deadlocks...\n",
      "To disable this warning, you can either:\n",
      "\t- Avoid using `tokenizers` before the fork if possible\n",
      "\t- Explicitly set the environment variable TOKENIZERS_PARALLELISM=(true | false)\n",
      "You are using 8-bit optimizers with a version of `bitsandbytes` < 0.41.1. It is recommended to update your version as a major bug has been fixed in 8-bit optimizers.\n",
      "Failed to detect the name of this notebook, you can set it manually with the WANDB_NOTEBOOK_NAME environment variable to enable code saving.\n",
      "huggingface/tokenizers: The current process just got forked, after parallelism has already been used. Disabling parallelism to avoid deadlocks...\n",
      "To disable this warning, you can either:\n",
      "\t- Avoid using `tokenizers` before the fork if possible\n",
      "\t- Explicitly set the environment variable TOKENIZERS_PARALLELISM=(true | false)\n",
      "\u001b[34m\u001b[1mwandb\u001b[0m: Currently logged in as: \u001b[33mmkkanhb\u001b[0m (\u001b[33mdnlab_2023\u001b[0m). Use \u001b[1m`wandb login --relogin`\u001b[0m to force relogin\n",
      "huggingface/tokenizers: The current process just got forked, after parallelism has already been used. Disabling parallelism to avoid deadlocks...\n",
      "To disable this warning, you can either:\n",
      "\t- Avoid using `tokenizers` before the fork if possible\n",
      "\t- Explicitly set the environment variable TOKENIZERS_PARALLELISM=(true | false)\n",
      "huggingface/tokenizers: The current process just got forked, after parallelism has already been used. Disabling parallelism to avoid deadlocks...\n",
      "To disable this warning, you can either:\n",
      "\t- Avoid using `tokenizers` before the fork if possible\n",
      "\t- Explicitly set the environment variable TOKENIZERS_PARALLELISM=(true | false)\n"
     ]
    },
    {
     "data": {
      "text/html": [
       "wandb version 0.17.0 is available!  To upgrade, please run:\n",
       " $ pip install wandb --upgrade"
      ],
      "text/plain": [
       "<IPython.core.display.HTML object>"
      ]
     },
     "metadata": {},
     "output_type": "display_data"
    },
    {
     "data": {
      "text/html": [
       "Tracking run with wandb version 0.15.7"
      ],
      "text/plain": [
       "<IPython.core.display.HTML object>"
      ]
     },
     "metadata": {},
     "output_type": "display_data"
    },
    {
     "data": {
      "text/html": [
       "Run data is saved locally in <code>/home/hb/LLM-research/finetune_main/finetuning_lift/wandb/run-20240530_143529-mz89rfkd</code>"
      ],
      "text/plain": [
       "<IPython.core.display.HTML object>"
      ]
     },
     "metadata": {},
     "output_type": "display_data"
    },
    {
     "data": {
      "text/html": [
       "Syncing run <strong><a href='https://wandb.ai/dnlab_2023/huggingface/runs/mz89rfkd' target=\"_blank\">different-terrain-112</a></strong> to <a href='https://wandb.ai/dnlab_2023/huggingface' target=\"_blank\">Weights & Biases</a> (<a href='https://wandb.me/run' target=\"_blank\">docs</a>)<br/>"
      ],
      "text/plain": [
       "<IPython.core.display.HTML object>"
      ]
     },
     "metadata": {},
     "output_type": "display_data"
    },
    {
     "data": {
      "text/html": [
       " View project at <a href='https://wandb.ai/dnlab_2023/huggingface' target=\"_blank\">https://wandb.ai/dnlab_2023/huggingface</a>"
      ],
      "text/plain": [
       "<IPython.core.display.HTML object>"
      ]
     },
     "metadata": {},
     "output_type": "display_data"
    },
    {
     "data": {
      "text/html": [
       " View run at <a href='https://wandb.ai/dnlab_2023/huggingface/runs/mz89rfkd' target=\"_blank\">https://wandb.ai/dnlab_2023/huggingface/runs/mz89rfkd</a>"
      ],
      "text/plain": [
       "<IPython.core.display.HTML object>"
      ]
     },
     "metadata": {},
     "output_type": "display_data"
    },
    {
     "data": {
      "text/html": [
       "\n",
       "    <div>\n",
       "      \n",
       "      <progress value='2000' max='2000' style='width:300px; height:20px; vertical-align: middle;'></progress>\n",
       "      [2000/2000 32:40, Epoch 16/17]\n",
       "    </div>\n",
       "    <table border=\"1\" class=\"dataframe\">\n",
       "  <thead>\n",
       " <tr style=\"text-align: left;\">\n",
       "      <th>Step</th>\n",
       "      <th>Training Loss</th>\n",
       "    </tr>\n",
       "  </thead>\n",
       "  <tbody>\n",
       "    <tr>\n",
       "      <td>500</td>\n",
       "      <td>0.780000</td>\n",
       "    </tr>\n",
       "    <tr>\n",
       "      <td>1000</td>\n",
       "      <td>0.171700</td>\n",
       "    </tr>\n",
       "    <tr>\n",
       "      <td>1500</td>\n",
       "      <td>0.135200</td>\n",
       "    </tr>\n",
       "    <tr>\n",
       "      <td>2000</td>\n",
       "      <td>0.108700</td>\n",
       "    </tr>\n",
       "  </tbody>\n",
       "</table><p>"
      ],
      "text/plain": [
       "<IPython.core.display.HTML object>"
      ]
     },
     "metadata": {},
     "output_type": "display_data"
    },
    {
     "name": "stderr",
     "output_type": "stream",
     "text": [
      "Checkpoint destination directory ./hyonbo/NLP-BGP-LLaMA7b/checkpoint-200 already exists and is non-empty. Saving will proceed but saved results may be invalid.\n",
      "Checkpoint destination directory ./hyonbo/NLP-BGP-LLaMA7b/checkpoint-400 already exists and is non-empty. Saving will proceed but saved results may be invalid.\n",
      "Checkpoint destination directory ./hyonbo/NLP-BGP-LLaMA7b/checkpoint-600 already exists and is non-empty. Saving will proceed but saved results may be invalid.\n",
      "Checkpoint destination directory ./hyonbo/NLP-BGP-LLaMA7b/checkpoint-800 already exists and is non-empty. Saving will proceed but saved results may be invalid.\n",
      "Checkpoint destination directory ./hyonbo/NLP-BGP-LLaMA7b/checkpoint-1000 already exists and is non-empty. Saving will proceed but saved results may be invalid.\n",
      "Checkpoint destination directory ./hyonbo/NLP-BGP-LLaMA7b/checkpoint-1200 already exists and is non-empty. Saving will proceed but saved results may be invalid.\n",
      "Checkpoint destination directory ./hyonbo/NLP-BGP-LLaMA7b/checkpoint-1400 already exists and is non-empty. Saving will proceed but saved results may be invalid.\n",
      "Checkpoint destination directory ./hyonbo/NLP-BGP-LLaMA7b/checkpoint-1600 already exists and is non-empty. Saving will proceed but saved results may be invalid.\n",
      "Checkpoint destination directory ./hyonbo/NLP-BGP-LLaMA7b/checkpoint-1800 already exists and is non-empty. Saving will proceed but saved results may be invalid.\n",
      "Checkpoint destination directory ./hyonbo/NLP-BGP-LLaMA7b/checkpoint-2000 already exists and is non-empty. Saving will proceed but saved results may be invalid.\n"
     ]
    },
    {
     "data": {
      "text/plain": [
       "TrainOutput(global_step=2000, training_loss=0.29891363143920896, metrics={'train_runtime': 1965.5036, 'train_samples_per_second': 4.07, 'train_steps_per_second': 1.018, 'total_flos': 4283060477853696.0, 'train_loss': 0.29891363143920896, 'epoch': 16.26})"
      ]
     },
     "execution_count": 9,
     "metadata": {},
     "output_type": "execute_result"
    }
   ],
   "source": [
    "from trl import SFTTrainer\n",
    "\n",
    "max_seq_length = 3050\n",
    "\n",
    "trainer = SFTTrainer(\n",
    "    model=model,\n",
    "    train_dataset=train_data,\n",
    "    eval_dataset=val_data,\n",
    "    peft_config=peft_config,\n",
    "    dataset_text_field=\"anomaly_status\",\n",
    "    max_seq_length=max_seq_length,\n",
    "    tokenizer=tokenizer,\n",
    "    args=training_arguments,\n",
    ")\n",
    "\n",
    "trainer.train()"
   ]
  },
  {
   "cell_type": "code",
   "execution_count": 10,
   "metadata": {},
   "outputs": [
    {
     "data": {
      "text/plain": [
       "('nl-llama7b-2k/tokenizer_config.json',\n",
       " 'nl-llama7b-2k/special_tokens_map.json',\n",
       " 'nl-llama7b-2k/tokenizer.model',\n",
       " 'nl-llama7b-2k/added_tokens.json',\n",
       " 'nl-llama7b-2k/tokenizer.json')"
      ]
     },
     "execution_count": 10,
     "metadata": {},
     "output_type": "execute_result"
    }
   ],
   "source": [
    "new_model = \"nl-llama7b-2k\"\n",
    "\n",
    "trainer.model.save_pretrained(new_model)\n",
    "tokenizer.save_pretrained(new_model)"
   ]
  },
  {
   "cell_type": "code",
   "execution_count": 1,
   "metadata": {},
   "outputs": [
    {
     "name": "stderr",
     "output_type": "stream",
     "text": [
      "/home/hb/myenv/lib/python3.8/site-packages/huggingface_hub/file_download.py:1132: FutureWarning: `resume_download` is deprecated and will be removed in version 1.0.0. Downloads always resume when possible. If you want to force a new download, use `force_download=True`.\n",
      "  warnings.warn(\n"
     ]
    },
    {
     "data": {
      "application/vnd.jupyter.widget-view+json": {
       "model_id": "f85e47ab86d94ecf84598a6cd04eb510",
       "version_major": 2,
       "version_minor": 0
      },
      "text/plain": [
       "Loading checkpoint shards:   0%|          | 0/2 [00:00<?, ?it/s]"
      ]
     },
     "metadata": {},
     "output_type": "display_data"
    }
   ],
   "source": [
    "from peft import LoraConfig, PeftModel\n",
    "from transformers import (\n",
    "    AutoModelForCausalLM,\n",
    "    AutoTokenizer,\n",
    "    pipeline,\n",
    "    logging,\n",
    ")\n",
    "import transformers\n",
    "import torch\n",
    "from torch import cuda, bfloat16\n",
    "import os\n",
    "\n",
    "model_id = 'meta-llama/Llama-2-7b-chat-hf'\n",
    "# model_id = 'codellama/CodeLlama-7b-hf'\n",
    "new_model = \"nl-llama7b-2k\"\n",
    "\n",
    "hf_auth = os.environ.get('hf_token')\n",
    "model_config = transformers.AutoConfig.from_pretrained(\n",
    "    model_id,\n",
    "    use_auth_token=hf_auth\n",
    ")\n",
    "model = transformers.AutoModelForCausalLM.from_pretrained(\n",
    "    model_id,\n",
    "    trust_remote_code=True,\n",
    "    config=model_config,\n",
    "    # quantization_config=bnb_config,\n",
    "    device_map=\"auto\",\n",
    "    use_auth_token=hf_auth\n",
    ")\n",
    "\n",
    "\n",
    "# # Reload model in FP16 and merge it with LoRA weights\n",
    "# base_model = AutoModelForCausalLM.from_pretrained(\n",
    "#     model_id,\n",
    "#     low_cpu_mem_usage=True,\n",
    "#     return_dict=True,\n",
    "#     torch_dtype=torch.float16,\n",
    "#     device_map='auto',\n",
    "# )\n",
    "model = PeftModel.from_pretrained(model, new_model)\n",
    "model = model.merge_and_unload()\n",
    "\n",
    "# Reload tokenizer to save it\n",
    "tokenizer = AutoTokenizer.from_pretrained(model_id, trust_remote_code=True)\n",
    "tokenizer.pad_token = tokenizer.eos_token\n",
    "tokenizer.padding_side = \"right\""
   ]
  },
  {
   "cell_type": "code",
   "execution_count": null,
   "metadata": {},
   "outputs": [],
   "source": [
    "import pandas as pd\n",
    "data = pd.read_json('/home/hb/dataset_bgp/bgp_nlp_dataset/test_taiwan.json')\n",
    "\n",
    "test_data = data.iloc[0:9]\n",
    "\n",
    "ground_truth = test_data[\"anomaly_status\"]\n",
    "\n",
    "test_data = test_data.drop(columns=['anomaly_status'])"
   ]
  },
  {
   "cell_type": "code",
   "execution_count": 20,
   "metadata": {},
   "outputs": [],
   "source": [
    "import pandas as pd\n",
    "data = pd.read_json('/home/hb/dataset_bgp/bgp_nlp_dataset/google_leak_main_with_anomalies.json')\n",
    "\n",
    "test_data = data\n",
    "\n",
    "ground_truth = test_data[\"anomaly_status\"]\n",
    "\n",
    "test_data = test_data.drop(columns=['anomaly_status'])\n"
   ]
  },
  {
   "cell_type": "code",
   "execution_count": 21,
   "metadata": {},
   "outputs": [
    {
     "data": {
      "text/plain": [
       "0                                 no anomalies detected\n",
       "1                                 no anomalies detected\n",
       "2                                 no anomalies detected\n",
       "3     anomaly due to high value of avg_interarrival=...\n",
       "4     anomaly due to high value of nb_A=86458, nb_A_...\n",
       "5     anomaly due to high value of avg_A_AS=20, nb_n...\n",
       "6     anomaly due to high value of nb_W=93395, nb_W_...\n",
       "7     anomaly due to high value of nb_W=344, nb_impl...\n",
       "8     anomaly due to high value of max_A_prefix=51, ...\n",
       "9                                 no anomalies detected\n",
       "10                                no anomalies detected\n",
       "11          anomaly due to high value of avg_editdist=4\n",
       "Name: anomaly_status, dtype: object"
      ]
     },
     "execution_count": 21,
     "metadata": {},
     "output_type": "execute_result"
    }
   ],
   "source": [
    "ground_truth"
   ]
  },
  {
   "cell_type": "code",
   "execution_count": 22,
   "metadata": {},
   "outputs": [
    {
     "name": "stdout",
     "output_type": "stream",
     "text": [
      "Result for instance 1:\n",
      "<s>[INST] \n",
      "   Below is BGP update message data. Your task is to determine the BGP anomaly status based on the data provided. If an anomaly is detected, specify the reason. If there are no anomalies then state that no anomalies detected. Keep your answers short.\n",
      "    {'timestamp': Timestamp('2017-08-25 03:15:00'), 'nb_A': 2727, 'nb_W': 275, 'nb_implicit_W': 1963, 'nb_dup_A': 378, 'nb_dup_W': 0, 'nb_A_prefix': 571, 'nb_W_prefix': 123, 'max_A_prefix': 54, 'avg_A_prefix': 5, 'max_A_AS': 256, 'avg_A_AS': 20, 'nb_orign_change': 184, 'nb_new_A': 220, 'nb_new_A_afterW': 166, 'max_path_len': 12, 'avg_path_len': 5, 'max_editdist': 9, 'avg_editdist': 3, 'editdist_7': 212, 'editdist_8': 18, 'editdist_9': 42, 'editdist_10': 0, 'editdist_11': 0, 'editdist_12': 0, 'editdist_13': 0, 'editdist_14': 0, 'editdist_15': 0, 'editdist_16': 0, 'editdist_17': 0, 'nb_tolonger': 674, 'nb_toshorter': 1289, 'avg_interarrival': 1103} [/INST]\n",
      "Based on the provided BGP update message data, the following anomalies are detected:\n",
      "\n",
      "1. Duplicate ACKs: The value of 'nb_dup_A' is 378, which is higher than the expected value of around 100-200. This could indicate a problem with the BGP peerings or the route reflectors.\n",
      "2. Large path length: The maximum path length'max_path_len' is 12, which is higher than the expected value of around 5-7. This could indicate a problem with the route propagation or the BGP filtering.\n",
      "3. High edit distance: The value of'max_editdist' is 9, which is higher than the expected value of around 3-5. This could indicate a problem with the route filtering or the BGP peering.\n",
      "4. High number of origin changes: The value of 'nb_orign_change' is 184, which is higher than the expected value of around 50-100. This could indicate a problem with the BGP peerings or the route propagation.\n",
      "\n",
      "Reason for each anomaly:\n",
      "\n",
      "1. Duplicate ACKs: The high number of duplicate ACKs could be caused by a problem with the BGP peerings, such as a misconfigured BGP filter or a wrongly configured route reflector.\n",
      "2. Large path length: A path length of 12 could indicate a problem with the route propagation, such as a slow or unreliable network path.\n",
      "3. High edit distance: A high edit distance could indicate a problem with the BGP filtering, such as a misconfigured BGP filter or a wrongly configured route map.\n",
      "4. High number of origin changes: A high number of origin changes could indicate a problem with the BGP peerings, such as a misconfigured BGP filter or a wrongly configured route reflector.\n",
      "\n",
      "No other anomalies were detected in the provided data.\n",
      "\n",
      "\n",
      "Result for instance 2:\n",
      "<s>[INST] \n",
      "   Below is BGP update message data. Your task is to determine the BGP anomaly status based on the data provided. If an anomaly is detected, specify the reason. If there are no anomalies then state that no anomalies detected. Keep your answers short.\n",
      "    {'timestamp': Timestamp('2017-08-25 03:20:00'), 'nb_A': 2462, 'nb_W': 148, 'nb_implicit_W': 1721, 'nb_dup_A': 347, 'nb_dup_W': 0, 'nb_A_prefix': 434, 'nb_W_prefix': 66, 'max_A_prefix': 51, 'avg_A_prefix': 6, 'max_A_AS': 188, 'avg_A_AS': 16, 'nb_orign_change': 172, 'nb_new_A': 285, 'nb_new_A_afterW': 109, 'max_path_len': 13, 'avg_path_len': 6, 'max_editdist': 11, 'avg_editdist': 3, 'editdist_7': 165, 'editdist_8': 36, 'editdist_9': 37, 'editdist_10': 0, 'editdist_11': 1, 'editdist_12': 0, 'editdist_13': 0, 'editdist_14': 0, 'editdist_15': 0, 'editdist_16': 0, 'editdist_17': 0, 'nb_tolonger': 738, 'nb_toshorter': 983, 'avg_interarrival': 1133} [/INST]\n",
      "Based on the provided BGP update message data, the following anomalies are detected:\n",
      "\n",
      "1. NB_DUP_A: The number of duplicate AS paths (347) is higher than the expected value (less than 100).\n",
      "2. NB_ORIG_CHANGE: The number of origin changes (172) is higher than the expected value (less than 100).\n",
      "3. MAX_PATH_LEN: The maximum path length (13) is longer than the expected value (less than 10).\n",
      "4. AVG_PATH_LEN: The average path length (6) is higher than the expected value (less than 4).\n",
      "5. MAX_EDITDIST: The maximum edit distance (11) is higher than the expected value (less than 8).\n",
      "\n",
      "Reason for each anomaly:\n",
      "\n",
      "1. NB_DUP_A: The number of duplicate AS paths is higher than expected due to the high volume of routing changes, which can lead to increased memory usage and decreased performance in the BGP process.\n",
      "2. NB_ORIG_CHANGE: The number of origin changes is higher than expected due to network topology changes, prefix updates, or other reasons that can cause BGP to recalculate and update the routing table.\n",
      "3. MAX_PATH_LEN: The maximum path length is longer than expected due to the complexity of the network topology, which can lead to increased memory usage and decreased performance in the BGP process.\n",
      "4. AVG_PATH_LEN: The average path length is higher than expected due to the complexity of the network topology, which can lead to increased memory usage and decreased performance in the BGP process.\n",
      "5. MAX_EDITDIST: The maximum edit distance is higher than expected due to the complexity of the network topology, which can lead to increased memory usage and decreased performance in the BGP process.\n",
      "\n",
      "No anomalies were detected in the remaining fields.\n",
      "\n",
      "\n",
      "Result for instance 3:\n",
      "<s>[INST] \n",
      "   Below is BGP update message data. Your task is to determine the BGP anomaly status based on the data provided. If an anomaly is detected, specify the reason. If there are no anomalies then state that no anomalies detected. Keep your answers short.\n",
      "    {'timestamp': Timestamp('2017-08-25 03:25:00'), 'nb_A': 3080, 'nb_W': 309, 'nb_implicit_W': 2199, 'nb_dup_A': 320, 'nb_dup_W': 0, 'nb_A_prefix': 686, 'nb_W_prefix': 181, 'max_A_prefix': 55, 'avg_A_prefix': 4, 'max_A_AS': 314, 'avg_A_AS': 16, 'nb_orign_change': 210, 'nb_new_A': 391, 'nb_new_A_afterW': 170, 'max_path_len': 15, 'avg_path_len': 6, 'max_editdist': 11, 'avg_editdist': 3, 'editdist_7': 250, 'editdist_8': 25, 'editdist_9': 44, 'editdist_10': 1, 'editdist_11': 1, 'editdist_12': 0, 'editdist_13': 0, 'editdist_14': 0, 'editdist_15': 0, 'editdist_16': 0, 'editdist_17': 0, 'nb_tolonger': 889, 'nb_toshorter': 1310, 'avg_interarrival': 1116} [/INST]\n",
      "Based on the provided BGP update message data, the following anomalies are detected:\n",
      "\n",
      "1. NB_DUP_A: 320 (high value, should be around 100-200)\n",
      "2. NB_ORIG_CHANGE: 210 (high value, should be around 50-150)\n",
      "3. NB_NEW_A: 391 (high value, should be around 200-300)\n",
      "4. NB_NEW_A_AFTER_W: 170 (high value, should be around 100-200)\n",
      "5. MAX_PATH_LEN: 15 (high value, should be around 10-12)\n",
      "6. AVG_PATH_LEN: 6 (high value, should be around 4-5)\n",
      "7. MAX_EDITDIST: 11 (high value, should be around 8-10)\n",
      "8. AVG_EDITDIST: 3 (high value, should be around 2-3)\n",
      "\n",
      "These anomalies indicate that there are issues with BGP path selection, prefix aggregation, and routing table size. It is recommended to investigate these issues and take corrective actions to maintain a healthy and efficient BGP network.\n",
      "\n",
      "\n",
      "Result for instance 4:\n",
      "<s>[INST] \n",
      "   Below is BGP update message data. Your task is to determine the BGP anomaly status based on the data provided. If an anomaly is detected, specify the reason. If there are no anomalies then state that no anomalies detected. Keep your answers short.\n",
      "    {'timestamp': Timestamp('2017-08-25 03:30:00'), 'nb_A': 3558, 'nb_W': 396, 'nb_implicit_W': 2489, 'nb_dup_A': 595, 'nb_dup_W': 0, 'nb_A_prefix': 677, 'nb_W_prefix': 263, 'max_A_prefix': 56, 'avg_A_prefix': 5, 'max_A_AS': 360, 'avg_A_AS': 20, 'nb_orign_change': 175, 'nb_new_A': 359, 'nb_new_A_afterW': 115, 'max_path_len': 15, 'avg_path_len': 6, 'max_editdist': 10, 'avg_editdist': 3, 'editdist_7': 241, 'editdist_8': 25, 'editdist_9': 23, 'editdist_10': 6, 'editdist_11': 0, 'editdist_12': 0, 'editdist_13': 0, 'editdist_14': 0, 'editdist_15': 0, 'editdist_16': 0, 'editdist_17': 0, 'nb_tolonger': 968, 'nb_toshorter': 1521, 'avg_interarrival': 1068} [/INST]\n",
      "\n",
      "Based on the provided BGP update message data, the following anomalies are detected:\n",
      "\n",
      "1. NB_DUP_A: 595 (high value, may indicate excessive route duplication).\n",
      "2. NB_ORIG_CHANGE: 175 (high value, may indicate frequent changes in the BGP network).\n",
      "3. NB_NEW_A: 359 (high value, may indicate a large number of new routes being added to the network).\n",
      "4. NB_NEW_A_AFTER_W: 115 (high value, may indicate a large number of new routes being added after a WHOLESALE change).\n",
      "5. MAX_PATH_LEN: 15 (high value, may indicate a large number of routes with long path lengths, which can impact network performance).\n",
      "6. AVG_PATH_LEN: 6 (low value, may indicate a high variability in route path lengths, which can impact network performance).\n",
      "7. MAX_EDITDIST: 10 (high value, may indicate a large number of routes with high edit distances, which can impact network performance).\n",
      "8. AVG_EDITDIST: 3 (low value, may indicate a high variability in edit distances, which can impact network performance).\n",
      "9. EDITDIST_7: 241 (high value, may indicate a large number of routes with edit distance 7, which can impact network performance).\n",
      "10. EDITDIST_8: 25 (high value, may indicate a large number of routes with edit distance 8, which can impact network performance).\n",
      "\n",
      "Reason for each anomaly:\n",
      "\n",
      "1. NB_DUP_A: Excessive route duplication can lead to route leaks and reduce network performance.\n",
      "2. NB_ORIG_CHANGE: Frequent changes in the BGP network can indicate network instability or high churn.\n",
      "3. NB_NEW_A: A large number of new routes being added to the network can indicate network growth or expansion.\n",
      "4. NB_NEW_A_AFTER_W: A large number of new routes being added after a WHOLESALE change can indicate a high volume of updates in the network.\n",
      "5. MAX_PATH_LEN: Long route path lengths can impact network performance by increasing the number of hops required for traffic to reach its destination.\n",
      "6. AVG_PATH_LEN: A low value may indicate a high variability in route path lengths, which can impact network performance.\n",
      "7. MAX_EDIT\n",
      "\n",
      "\n",
      "Result for instance 5:\n",
      "<s>[INST] \n",
      "   Below is BGP update message data. Your task is to determine the BGP anomaly status based on the data provided. If an anomaly is detected, specify the reason. If there are no anomalies then state that no anomalies detected. Keep your answers short.\n",
      "    {'timestamp': Timestamp('2017-08-25 03:35:00'), 'nb_A': 86458, 'nb_W': 356, 'nb_implicit_W': 3790, 'nb_dup_A': 7500, 'nb_dup_W': 0, 'nb_A_prefix': 75578, 'nb_W_prefix': 203, 'max_A_prefix': 46, 'avg_A_prefix': 1, 'max_A_AS': 19182, 'avg_A_AS': 38, 'nb_orign_change': 182, 'nb_new_A': 75028, 'nb_new_A_afterW': 140, 'max_path_len': 21, 'avg_path_len': 4, 'max_editdist': 14, 'avg_editdist': 3, 'editdist_7': 243, 'editdist_8': 58, 'editdist_9': 75, 'editdist_10': 69, 'editdist_11': 9, 'editdist_12': 13, 'editdist_13': 0, 'editdist_14': 1, 'editdist_15': 0, 'editdist_16': 0, 'editdist_17': 0, 'nb_tolonger': 1180, 'nb_toshorter': 2610, 'avg_interarrival': 1087} [/INST]\n",
      "Based on the provided BGP update message data, the following anomalies are detected:\n",
      "\n",
      "1. Nb_dup_A: 7500 (high value, should be around 100-200)\n",
      "2. Nb_dup_W: 0 (should be non-zero)\n",
      "3. Nb_A_prefix: 75578 (high value, should be around 50000-70000)\n",
      "4. Nb_W_prefix: 203 (low value, should be around 500-1000)\n",
      "5. Max_A_prefix: 46 (high value, should be around 20-30)\n",
      "6. Avg_A_AS: 38 (high value, should be around 10-20)\n",
      "7. Nb_orign_change: 182 (high value, should be around 50-100)\n",
      "8. Nb_new_A: 75028 (high value, should be around 20000-30000)\n",
      "9. Max_path_len: 21 (high value, should be around 10-15)\n",
      "10. Editdist_7: 243 (high value, should be around 50-100)\n",
      "\n",
      "Reason for each anomaly:\n",
      "\n",
      "1. Nb_dup_A: The value is much higher than expected, indicating that there may be a problem with the BGP update mechanism or the network topology.\n",
      "2. Nb_dup_W: The value is zero, which is unexpected and may indicate a problem with the W prefixes.\n",
      "3. Nb_A_prefix: The value is much higher than expected, indicating that there may be a problem with the A prefixes.\n",
      "4. Nb_W_prefix: The value is too low, indicating that there may be a problem with the W prefixes.\n",
      "5. Max_A_prefix: The value is too high, indicating that there may be a problem with the A prefixes.\n",
      "6. Avg_A_AS: The value is too high, indicating that there may be a problem with the A prefixes.\n",
      "7. Nb_orign_change: The value is too high, indicating that there may be a problem with the BGP update mechanism or the network topology.\n",
      "8. Nb_new_A: The value is too high, indicating that there\n",
      "\n",
      "\n",
      "Result for instance 6:\n",
      "<s>[INST] \n",
      "   Below is BGP update message data. Your task is to determine the BGP anomaly status based on the data provided. If an anomaly is detected, specify the reason. If there are no anomalies then state that no anomalies detected. Keep your answers short.\n",
      "    {'timestamp': Timestamp('2017-08-25 03:40:00'), 'nb_A': 72353, 'nb_W': 2120, 'nb_implicit_W': 13534, 'nb_dup_A': 13980, 'nb_dup_W': 0, 'nb_A_prefix': 44697, 'nb_W_prefix': 1211, 'max_A_prefix': 56, 'avg_A_prefix': 2, 'max_A_AS': 8135, 'avg_A_AS': 20, 'nb_orign_change': 190, 'nb_new_A': 43660, 'nb_new_A_afterW': 1179, 'max_path_len': 23, 'avg_path_len': 5, 'max_editdist': 21, 'avg_editdist': 3, 'editdist_7': 388, 'editdist_8': 418, 'editdist_9': 91, 'editdist_10': 14, 'editdist_11': 14, 'editdist_12': 11, 'editdist_13': 5, 'editdist_14': 3, 'editdist_15': 0, 'editdist_16': 1, 'editdist_17': 13, 'nb_tolonger': 4793, 'nb_toshorter': 8741, 'avg_interarrival': 1038} [/INST]\n",
      "Based on the provided BGP update message data, the following anomalies are detected:\n",
      "\n",
      "1. Nb_dup_A: 13980 (high value, expected to be around 1000-2000)\n",
      "2. Nb_dup_W: 0 (anomaly, expected to be non-zero)\n",
      "3. Nb_A_prefix: 44697 (high value, expected to be around 3000-4000)\n",
      "4. Nb_W_prefix: 1211 (low value, expected to be around 2000-3000)\n",
      "5. Max_A_prefix: 56 (high value, expected to be around 20-30)\n",
      "6. Avg_A_AS: 20 (high value, expected to be around 5-10)\n",
      "7. Nb_orign_change: 190 (high value, expected to be around 100-200)\n",
      "8. Nb_new_A: 43660 (high value, expected to be around 3000-4000)\n",
      "\n",
      "Reason for each anomaly:\n",
      "\n",
      "1. Nb_dup_A: The number of duplicate announcements is high, indicating possible routing table pollution or misconfiguration.\n",
      "2. Nb_dup_W: The number of duplicate withdrawals is zero, which is unexpected and could indicate a misconfiguration or failure in the system.\n",
      "3. Nb_A_prefix: The number of unique IP prefixes advertised is high, which could indicate a high rate of prefix changes or a large number of autonomous systems.\n",
      "4. Nb_W_prefix: The number of unique IP prefixes withdrawn is low, which could indicate a lack of effective prefix management or a high rate of prefix changes.\n",
      "5. Max_A_prefix: The maximum number of prefixes per autonomous system is high, which could indicate a high level of prefix fragmentation or a large number of small autonomous systems.\n",
      "6. Avg_A_AS: The average number of prefixes per autonomous system is high, which could indicate a large number of small autonomous systems or a high level of prefix fragmentation.\n",
      "7. Nb_orign_change: The number of original changes is high, which could indicate a high rate of prefix changes or a large number of new prefixes being advertised.\n",
      "\n",
      "\n",
      "\n",
      "Result for instance 7:\n",
      "<s>[INST] \n",
      "   Below is BGP update message data. Your task is to determine the BGP anomaly status based on the data provided. If an anomaly is detected, specify the reason. If there are no anomalies then state that no anomalies detected. Keep your answers short.\n",
      "    {'timestamp': Timestamp('2017-08-25 03:45:00'), 'nb_A': 39806, 'nb_W': 93395, 'nb_implicit_W': 25632, 'nb_dup_A': 13416, 'nb_dup_W': 0, 'nb_A_prefix': 31186, 'nb_W_prefix': 93115, 'max_A_prefix': 58, 'avg_A_prefix': 1, 'max_A_AS': 3037, 'avg_A_AS': 12, 'nb_orign_change': 336, 'nb_new_A': 557, 'nb_new_A_afterW': 201, 'max_path_len': 36, 'avg_path_len': 5, 'max_editdist': 31, 'avg_editdist': 3, 'editdist_7': 626, 'editdist_8': 331, 'editdist_9': 92, 'editdist_10': 75, 'editdist_11': 105, 'editdist_12': 26, 'editdist_13': 37, 'editdist_14': 3, 'editdist_15': 0, 'editdist_16': 5, 'editdist_17': 45, 'nb_tolonger': 10925, 'nb_toshorter': 14707, 'avg_interarrival': 1046} [/INST]\n",
      "Based on the provided BGP update message data, the following anomalies are detected:\n",
      "\n",
      "1. NB_DUP_A: 13416 (high value, indicates possible route flapping or misconfiguration)\n",
      "2. NB_DUP_W: 0 (anomaly, as there are many duplicate W routes but no corresponding A routes)\n",
      "3. NB_A_PREFIX: 31186 (high value, indicates possible misconfiguration or route leaks)\n",
      "4. NB_W_PREFIX: 93115 (high value, indicates possible misconfiguration or route leaks)\n",
      "5. MAX_A_PREFIX: 58 (low value, indicates possible misconfiguration or route leaks)\n",
      "6. AVG_A_PREFIX: 1 (high value, indicates possible misconfiguration or route leaks)\n",
      "7. AVG_A_AS: 12 (low value, indicates possible misconfiguration or route leaks)\n",
      "\n",
      "No other anomalies are detected based on the provided data.\n",
      "\n",
      "\n",
      "Result for instance 8:\n",
      "<s>[INST] \n",
      "   Below is BGP update message data. Your task is to determine the BGP anomaly status based on the data provided. If an anomaly is detected, specify the reason. If there are no anomalies then state that no anomalies detected. Keep your answers short.\n",
      "    {'timestamp': Timestamp('2017-08-25 03:50:00'), 'nb_A': 5813, 'nb_W': 344, 'nb_implicit_W': 4184, 'nb_dup_A': 647, 'nb_dup_W': 0, 'nb_A_prefix': 1947, 'nb_W_prefix': 219, 'max_A_prefix': 63, 'avg_A_prefix': 3, 'max_A_AS': 427, 'avg_A_AS': 13, 'nb_orign_change': 214, 'nb_new_A': 783, 'nb_new_A_afterW': 199, 'max_path_len': 20, 'avg_path_len': 6, 'max_editdist': 17, 'avg_editdist': 3, 'editdist_7': 270, 'editdist_8': 75, 'editdist_9': 95, 'editdist_10': 18, 'editdist_11': 9, 'editdist_12': 23, 'editdist_13': 5, 'editdist_14': 1, 'editdist_15': 0, 'editdist_16': 1, 'editdist_17': 63, 'nb_tolonger': 1412, 'nb_toshorter': 2772, 'avg_interarrival': 1072} [/INST]\n",
      "Based on the provided BGP update message data, the following anomalies are detected:\n",
      "\n",
      "1. NB_DUP_A: 647 (high value, should be around 100-200)\n",
      "2. NB_DUP_W: 0 (should be non-zero)\n",
      "3. NB_ORIGIN_CHANGE: 214 (high value, should be around 100-200)\n",
      "4. NB_NEW_A: 783 (high value, should be around 500-700)\n",
      "5. NB_NEW_A_AFTERW: 199 (high value, should be around 100-300)\n",
      "6. MAX_PATH_LEN: 20 (should be around 10-15)\n",
      "7. AVG_PATH_LEN: 6 (should be around 3-5)\n",
      "8. MAX_EDITDIST: 17 (high value, should be around 10-15)\n",
      "9. AVG_EDITDIST: 3 (should be around 2-3)\n",
      "\n",
      "Reason for each anomaly:\n",
      "\n",
      "1. NB_DUP_A: Too many duplicate A messages, which can indicate a misconfigured BGP peer or a routing loop.\n",
      "2. NB_DUP_W: Zero value indicates a lack of duplicate W messages, which can indicate a lack of routing convergence.\n",
      "3. NB_ORIGIN_CHANGE: High value indicates frequent changes in the origin of A messages, which can indicate a high rate of prefix updates.\n",
      "4. NB_NEW_A: High value indicates a high rate of new A messages, which can indicate a high rate of prefix updates.\n",
      "5. NB_NEW_A_AFTERW: High value indicates a high rate of new A messages after a W message, which can indicate a high rate of prefix updates.\n",
      "6. MAX_PATH_LEN: Maximum path length is too high, which can indicate a complex network topology.\n",
      "7. AVG_PATH_LEN: Average path length is too low, which can indicate a lack of routing convergence.\n",
      "8. MAX_EDITDIST: Maximum edit distance is too high, which can indicate a complex network topology.\n",
      "9. AVG_EDITDIST: Average edit distance is too low, which can indicate a lack of routing convergence.\n",
      "\n",
      "No anomalies are detected in the remaining fields.\n",
      "\n",
      "\n",
      "Result for instance 9:\n",
      "<s>[INST] \n",
      "   Below is BGP update message data. Your task is to determine the BGP anomaly status based on the data provided. If an anomaly is detected, specify the reason. If there are no anomalies then state that no anomalies detected. Keep your answers short.\n",
      "    {'timestamp': Timestamp('2017-08-25 03:55:00'), 'nb_A': 5381, 'nb_W': 958, 'nb_implicit_W': 3448, 'nb_dup_A': 391, 'nb_dup_W': 0, 'nb_A_prefix': 1245, 'nb_W_prefix': 508, 'max_A_prefix': 51, 'avg_A_prefix': 4, 'max_A_AS': 1222, 'avg_A_AS': 26, 'nb_orign_change': 195, 'nb_new_A': 1302, 'nb_new_A_afterW': 240, 'max_path_len': 22, 'avg_path_len': 8, 'max_editdist': 19, 'avg_editdist': 3, 'editdist_7': 153, 'editdist_8': 19, 'editdist_9': 41, 'editdist_10': 6, 'editdist_11': 2, 'editdist_12': 6, 'editdist_13': 2, 'editdist_14': 0, 'editdist_15': 0, 'editdist_16': 0, 'editdist_17': 70, 'nb_tolonger': 1270, 'nb_toshorter': 2178, 'avg_interarrival': 1099} [/INST]\n",
      "Based on the provided BGP update message data, the following anomalies are detected:\n",
      "\n",
      "1. NB_DUP_A: 391 (high value, should be around 100-200)\n",
      "2. NB_DUP_W: 0 (should be non-zero, as there are incoming W messages)\n",
      "3. NB_ORIGIN_CHANGE: 195 (high value, may indicate network instability)\n",
      "4. MAX_PATH_LEN: 22 (should be around 15-18)\n",
      "5. AVG_PATH_LEN: 8 (should be around 4-6)\n",
      "6. MAX_EDITDIST: 19 (should be around 10-15)\n",
      "7. EDITDIST_7: 153 (high value, may indicate memory usage issue)\n",
      "8. EDITDIST_8: 19 (should be around 10-15)\n",
      "9. EDITDIST_9: 41 (high value, may indicate memory usage issue)\n",
      "10. EDITDIST_15: 0 (should be non-zero, as there are incoming W messages)\n",
      "\n",
      "Reason for each anomaly:\n",
      "\n",
      "1. NB_DUP_A: High value may indicate that the router is receiving too many incoming updates, which can cause memory usage issues.\n",
      "2. NB_DUP_W: Zero value may indicate that the router is not processing incoming W messages properly, which can cause routing instability.\n",
      "3. NB_ORIGIN_CHANGE: High value may indicate network instability or misconfiguration.\n",
      "4. MAX_PATH_LEN: High value may indicate that the router is using too many prefixes, which can cause memory usage issues.\n",
      "5. AVG_PATH_LEN: Low value may indicate that the router is using too many prefixes, which can cause memory usage issues.\n",
      "6. MAX_EDITDIST: High value may indicate that the router is using too many routing tables, which can cause memory usage issues.\n",
      "7. EDITDIST_7: High value may indicate that the router is using too many routing tables, which can cause memory usage issues.\n",
      "8. EDITDIST_8: Low value may indicate that the router is not using enough routing tables, which can cause routing instability.\n",
      "9. EDITDIST_9: High value may indicate that the router is using too many routing tables, which can cause memory usage issues.\n",
      "10. EDITDIST_15:\n",
      "\n",
      "\n",
      "Result for instance 10:\n",
      "<s>[INST] \n",
      "   Below is BGP update message data. Your task is to determine the BGP anomaly status based on the data provided. If an anomaly is detected, specify the reason. If there are no anomalies then state that no anomalies detected. Keep your answers short.\n",
      "    {'timestamp': Timestamp('2017-08-25 04:00:00'), 'nb_A': 4311, 'nb_W': 401, 'nb_implicit_W': 3069, 'nb_dup_A': 625, 'nb_dup_W': 0, 'nb_A_prefix': 1030, 'nb_W_prefix': 165, 'max_A_prefix': 54, 'avg_A_prefix': 4, 'max_A_AS': 305, 'avg_A_AS': 20, 'nb_orign_change': 206, 'nb_new_A': 367, 'nb_new_A_afterW': 250, 'max_path_len': 19, 'avg_path_len': 6, 'max_editdist': 17, 'avg_editdist': 3, 'editdist_7': 202, 'editdist_8': 23, 'editdist_9': 36, 'editdist_10': 2, 'editdist_11': 5, 'editdist_12': 7, 'editdist_13': 1, 'editdist_14': 1, 'editdist_15': 0, 'editdist_16': 0, 'editdist_17': 56, 'nb_tolonger': 1318, 'nb_toshorter': 1751, 'avg_interarrival': 1112} [/INST]\n",
      "Based on the provided BGP update message data, the following anomalies are detected:\n",
      "\n",
      "1. Duplicate Acks (nb_dup_A): 625, which is higher than the expected value of 0. This could indicate a problem with the BGP peer relationship or the routing table synchronization.\n",
      "2. Maximum Acknowledged Path Length (max_A_prefix): 54, which is higher than the expected value of 40. This could indicate a problem with the routing table size or the BGP peer relationship.\n",
      "3. Maximum Edit Distance (max_editdist): 17, which is higher than the expected value of 10. This could indicate a problem with the routing table size or the BGP peer relationship.\n",
      "4. Number of Orign Changes (nb_orign_change): 206, which is higher than the expected value of 100. This could indicate a high rate of routing table changes, which could be a sign of instability in the network.\n",
      "\n",
      "Overall, these anomalies suggest that there may be issues with the BGP peer relationship, routing table synchronization, or the stability of the network.\n",
      "\n",
      "\n"
     ]
    },
    {
     "name": "stderr",
     "output_type": "stream",
     "text": [
      "/home/hb/myenv/lib/python3.8/site-packages/transformers/pipelines/base.py:1157: UserWarning: You seem to be using the pipelines sequentially on GPU. In order to maximize efficiency please use a dataset\n",
      "  warnings.warn(\n"
     ]
    },
    {
     "name": "stdout",
     "output_type": "stream",
     "text": [
      "Result for instance 11:\n",
      "<s>[INST] \n",
      "   Below is BGP update message data. Your task is to determine the BGP anomaly status based on the data provided. If an anomaly is detected, specify the reason. If there are no anomalies then state that no anomalies detected. Keep your answers short.\n",
      "    {'timestamp': Timestamp('2017-08-25 04:05:00'), 'nb_A': 4585, 'nb_W': 354, 'nb_implicit_W': 3625, 'nb_dup_A': 532, 'nb_dup_W': 0, 'nb_A_prefix': 1140, 'nb_W_prefix': 217, 'max_A_prefix': 49, 'avg_A_prefix': 4, 'max_A_AS': 296, 'avg_A_AS': 21, 'nb_orign_change': 162, 'nb_new_A': 271, 'nb_new_A_afterW': 157, 'max_path_len': 19, 'avg_path_len': 6, 'max_editdist': 17, 'avg_editdist': 3, 'editdist_7': 146, 'editdist_8': 13, 'editdist_9': 22, 'editdist_10': 0, 'editdist_11': 0, 'editdist_12': 0, 'editdist_13': 0, 'editdist_14': 0, 'editdist_15': 0, 'editdist_16': 0, 'editdist_17': 63, 'nb_tolonger': 1071, 'nb_toshorter': 2554, 'avg_interarrival': 1083} [/INST]\n",
      "\n",
      "Based on the provided BGP update message data, the following anomalies are detected:\n",
      "\n",
      "1. NB_DUP_A: 532 (higher than expected value, indicates possible routing table pollution)\n",
      "2. NB_W_PREFIX: 217 (lower than expected value, indicates possible underutilization of BGP withdrawals)\n",
      "3. MAX_A_PREFIX: 49 (higher than expected value, indicates possible large routing table sizes)\n",
      "4. AVG_A_PREFIX: 4 (higher than expected value, indicates possible routing table growth)\n",
      "5. NB_ORIGIN_CHANGE: 162 (higher than expected value, indicates possible network topology changes)\n",
      "6. NB_NEW_A: 271 (higher than expected value, indicates possible network reconfiguration)\n",
      "7. NB_NEW_A_AFTER_W: 157 (higher than expected value, indicates possible network reconfiguration)\n",
      "\n",
      "No other anomalies were detected in the provided data.\n",
      "\n",
      "\n",
      "Result for instance 12:\n",
      "<s>[INST] \n",
      "   Below is BGP update message data. Your task is to determine the BGP anomaly status based on the data provided. If an anomaly is detected, specify the reason. If there are no anomalies then state that no anomalies detected. Keep your answers short.\n",
      "    {'timestamp': Timestamp('2017-08-25 04:10:00'), 'nb_A': 2800, 'nb_W': 260, 'nb_implicit_W': 2002, 'nb_dup_A': 436, 'nb_dup_W': 0, 'nb_A_prefix': 480, 'nb_W_prefix': 163, 'max_A_prefix': 60, 'avg_A_prefix': 6, 'max_A_AS': 335, 'avg_A_AS': 18, 'nb_orign_change': 197, 'nb_new_A': 191, 'nb_new_A_afterW': 171, 'max_path_len': 19, 'avg_path_len': 6, 'max_editdist': 17, 'avg_editdist': 4, 'editdist_7': 257, 'editdist_8': 30, 'editdist_9': 55, 'editdist_10': 8, 'editdist_11': 3, 'editdist_12': 2, 'editdist_13': 0, 'editdist_14': 0, 'editdist_15': 0, 'editdist_16': 0, 'editdist_17': 63, 'nb_tolonger': 731, 'nb_toshorter': 1271, 'avg_interarrival': 1116} [/INST]\n",
      "Based on the provided BGP update message data, the following anomalies are detected:\n",
      "\n",
      "1. High number of duplicate A records (nb_dup_A = 436) compared to the number of new A records (nb_new_A = 191). This may indicate a problem with the BGP update process or the way the router is handling the updates.\n",
      "2. Large difference between the maximum number of A prefixes (max_A_prefix = 60) and the average number of A prefixes (avg_A_prefix = 18). This may indicate that the router is receiving a large number of A updates, which can cause performance issues.\n",
      "3. High number of orphaned A records (nb_orign_change = 197) compared to the number of changes made to existing A records (nb_new_A = 191). This may indicate a problem with the way the router is handling the A updates.\n",
      "4. Large edit distance between the maximum path length (max_path_len = 19) and the average path length (avg_path_len = 6). This may indicate that the router is experiencing issues with path length manipulation.\n",
      "5. High number of edit distances greater than 16 (editdist_8 = 30, editdist_9 = 55, editdist_10 = 8, editdist_11 = 3, editdist_12 = 2, editdist_13 = 0, editdist_14 = 0, editdist_15 = 0, editdist_16 = 0), which may indicate issues with route propagation or path computation.\n",
      "\n",
      "Overall, the high number of duplicate A records and large edit distances suggest that the router may be experiencing issues with the BGP update process and route propagation.\n",
      "\n",
      "\n"
     ]
    }
   ],
   "source": [
    "# Initialize the text generation pipeline\n",
    "pipe = pipeline(task=\"text-generation\", model=model, tokenizer=tokenizer, max_length=1024)\n",
    "\n",
    "# Loop through each instance in the dataset\n",
    "for i, row in test_data.iterrows():\n",
    "    # Convert the row to a dictionary\n",
    "    instance = row.to_dict()\n",
    "    \n",
    "    # Create the prompt\n",
    "    prompt = f\"\"\"\n",
    "   Below is BGP update message data. Your task is to determine the BGP anomaly status based on the data provided. If an anomaly is detected, specify the reason. If there are no anomalies then state that no anomalies detected. Keep your answers short.\n",
    "    {instance}\"\"\"\n",
    "    \n",
    "    # Generate text\n",
    "    result = pipe(f\"<s>[INST] {prompt} [/INST]\\n\")\n",
    "    \n",
    "    # Print the result\n",
    "    print(f\"Result for instance {i+1}:\")\n",
    "    print(result[0]['generated_text'])\n",
    "    print(\"\\n\")"
   ]
  },
  {
   "cell_type": "code",
   "execution_count": null,
   "metadata": {},
   "outputs": [
    {
     "name": "stdout",
     "output_type": "stream",
     "text": [
      "<s>[INST] \n",
      "Below is BGP update message data. Your task is to determine the BGP anomaly status based on the data provided. If an anomaly is detected, specify the reason. If there are no amomalies then state that no anomalies detected. Keep your answers short.\n",
      "{'timestamp': '2017-08-25T03:25:00.000', 'nb_A': 3080, 'nb_W': 309, 'nb_implicit_W': 2199, 'nb_dup_A': 320, 'nb_dup_W': 0, 'nb_A_prefix': 686, 'nb_W_prefix': 181, 'max_A_prefix': 55, 'avg_A_prefix': 4, 'max_A_AS': 314, 'avg_A_AS': 16, 'nb_orign_change': 210, 'nb_new_A': 391, 'nb_new_A_afterW': 170, 'max_path_len': 15, 'avg_path_len': 6, 'max_editdist': 11, 'avg_editdist': 3, 'editdist_7': 250, 'editdist_8': 25, 'editdist_9': 44, 'editdist_10': 1, 'editdist_11': 1, 'editdist_12': 0, 'editdist_13': 0, 'editdist_14': 0, 'editdist_15': 0, 'editdist_16': 0, 'editdist_17': 0, 'nb_tolonger': 889, 'nb_toshorter': 1310, 'avg_interarrival': 1116} [/INST]  Based on the provided BGP update message data, the following anomalies are detected:\n",
      "\n",
      "1. Duplicate Acks (nb_dup_A): 320, should be less than 100.\n",
      "2. Maximum Acknowledged Path Length (max_A_prefix): 55, should be less than 40.\n",
      "3. Average Acknowledged Path Length (avg_A_AS): 16, should be less than 20.\n",
      "4. Maximum Edit Distance (max_editdist): 11, should be less than 8.\n",
      "5. Number of prefixes with edit distance 7 (editdist_7): 250, should be less than 200.\n",
      "6. Number of prefixes with edit distance 8 (editdist_8): 25, should be less than 15.\n",
      "7. Number of prefixes with edit distance 9 (editdist_9): 44, should be less than 30.\n",
      "8. Number of prefixes with edit distance 10 (editdist_10): 1, should be less than 5.\n",
      "9. Number of prefixes with edit distance 11 (editdist_11): 1, should be less than 1.\n",
      "10. Number of prefixes with edit distance 12 (editdist_12): 0, should be greater than 0.\n",
      "\n",
      "Reason for these anomalies:\n",
      "\n",
      "1. Duplicate Acks: This can cause issues with route propagation and stability.\n",
      "2. Maximum Acknowledged Path Length: This can indicate a lack of route aggregation, leading to increased routing table size and decreased routing table performance.\n",
      "3. Average Acknowledged Path Length: This can indicate a lack of route aggregation, leading to increased routing table size and decreased routing table performance.\n",
      "4. Maximum Edit Distance: This can indicate a lack of route aggregation, leading to increased routing table size and decreased routing table performance.\n",
      "5. Number of prefixes with edit distance 7: This can indicate a lack of route aggregation, leading to increased routing table size and decreased routing table performance.\n",
      "6. Number of prefixes with edit distance 8: This can indicate a lack of route aggregation, leading to increased routing table size and decreased routing table performance.\n",
      "7. Number of prefixes with edit distance 9: This can indicate a lack of route aggregation, leading to increased routing table size and decreased routing table performance.\n",
      "8. Number of prefixes with edit distance 10: This can indicate a lack of route aggregation, leading to increased routing table size and decreased routing table performance.\n",
      "9. Number of prefixes with edit distance 11: This can indicate a lack of route aggregation, leading to increased routing table size and decreased routing table performance.\n",
      "10. Number of prefixes with edit distance 12: This can indicate a lack of route aggregation, leading to increased routing table size and decreased routing table performance.\n",
      "\n",
      "No anomalies detected in other fields.\n"
     ]
    }
   ],
   "source": [
    "logging.set_verbosity(logging.CRITICAL)\n",
    "\n",
    "# Run text generation pipeline with our next model\n",
    "prompt = f\"\"\"\n",
    "Below is BGP update message data. Your task is to determine the BGP anomaly status based on the data provided. If an anomaly is detected, specify the reason. If there are no amomalies then state that no anomalies detected. Keep your answers short.\n",
    "{test_data[0]}\"\"\"\n",
    "pipe = pipeline(task=\"text-generation\", model=model, tokenizer=tokenizer, max_length=2056)\n",
    "result = pipe(f\"<s>[INST] {prompt} [/INST]\")\n",
    "print(result[0]['generated_text'])"
   ]
  },
  {
   "cell_type": "code",
   "execution_count": null,
   "metadata": {},
   "outputs": [],
   "source": []
  }
 ],
 "metadata": {
  "kernelspec": {
   "display_name": "Python 3",
   "language": "python",
   "name": "python3"
  },
  "language_info": {
   "codemirror_mode": {
    "name": "ipython",
    "version": 3
   },
   "file_extension": ".py",
   "mimetype": "text/x-python",
   "name": "python",
   "nbconvert_exporter": "python",
   "pygments_lexer": "ipython3",
   "version": "3.8.16"
  }
 },
 "nbformat": 4,
 "nbformat_minor": 2
}
