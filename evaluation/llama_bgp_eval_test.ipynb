{
 "cells": [
  {
   "cell_type": "code",
   "execution_count": 1,
   "metadata": {},
   "outputs": [],
   "source": [
    "import transformers\n",
    "from transformers import (\n",
    "    pipeline,\n",
    "    logging,\n",
    ")\n",
    "from typing import List\n",
    "import torch\n",
    "from torch import cuda, bfloat16\n",
    "from datasets import load_dataset\n",
    "import pandas as pd\n",
    "import matplotlib.pyplot as plt\n",
    "import matplotlib as mpl\n",
    "# import seaborn as sns\n",
    "from pylab import rcParams\n",
    "import os"
   ]
  },
  {
   "cell_type": "code",
   "execution_count": 2,
   "metadata": {},
   "outputs": [
    {
     "data": {
      "application/vnd.jupyter.widget-view+json": {
       "model_id": "f8bbda641e464c8182356b8019d5259f",
       "version_major": 2,
       "version_minor": 0
      },
      "text/plain": [
       "Downloading config.json:   0%|          | 0.00/615 [00:00<?, ?B/s]"
      ]
     },
     "metadata": {},
     "output_type": "display_data"
    },
    {
     "data": {
      "application/vnd.jupyter.widget-view+json": {
       "model_id": "ef889afbfd27458891966a3f72225e23",
       "version_major": 2,
       "version_minor": 0
      },
      "text/plain": [
       "Downloading (…)model.bin.index.json:   0%|          | 0.00/33.4k [00:00<?, ?B/s]"
      ]
     },
     "metadata": {},
     "output_type": "display_data"
    },
    {
     "data": {
      "application/vnd.jupyter.widget-view+json": {
       "model_id": "ee1f1b67afa1409bbf64e40a88e9b13d",
       "version_major": 2,
       "version_minor": 0
      },
      "text/plain": [
       "Downloading shards:   0%|          | 0/3 [00:00<?, ?it/s]"
      ]
     },
     "metadata": {},
     "output_type": "display_data"
    },
    {
     "data": {
      "application/vnd.jupyter.widget-view+json": {
       "model_id": "46854acee70b4edcbfbb5d118e1ae25f",
       "version_major": 2,
       "version_minor": 0
      },
      "text/plain": [
       "Downloading (…)l-00001-of-00003.bin:   0%|          | 0.00/9.95G [00:00<?, ?B/s]"
      ]
     },
     "metadata": {},
     "output_type": "display_data"
    },
    {
     "data": {
      "application/vnd.jupyter.widget-view+json": {
       "model_id": "28370dac1b8d488f86c5a46a51e0fc36",
       "version_major": 2,
       "version_minor": 0
      },
      "text/plain": [
       "Downloading (…)l-00002-of-00003.bin:   0%|          | 0.00/9.90G [00:00<?, ?B/s]"
      ]
     },
     "metadata": {},
     "output_type": "display_data"
    },
    {
     "data": {
      "application/vnd.jupyter.widget-view+json": {
       "model_id": "52e3dc18d8044d45bc585cb74dc75f8f",
       "version_major": 2,
       "version_minor": 0
      },
      "text/plain": [
       "Downloading (…)l-00003-of-00003.bin:   0%|          | 0.00/6.18G [00:00<?, ?B/s]"
      ]
     },
     "metadata": {},
     "output_type": "display_data"
    },
    {
     "name": "stderr",
     "output_type": "stream",
     "text": [
      "The model weights are not tied. Please use the `tie_weights` method before using the `infer_auto_device` function.\n"
     ]
    },
    {
     "data": {
      "application/vnd.jupyter.widget-view+json": {
       "model_id": "fb88a8aa0aa74e54a3672ad6ab68920a",
       "version_major": 2,
       "version_minor": 0
      },
      "text/plain": [
       "Loading checkpoint shards:   0%|          | 0/3 [00:00<?, ?it/s]"
      ]
     },
     "metadata": {},
     "output_type": "display_data"
    },
    {
     "data": {
      "application/vnd.jupyter.widget-view+json": {
       "model_id": "dee99a0d670f400698303604130e5514",
       "version_major": 2,
       "version_minor": 0
      },
      "text/plain": [
       "Downloading generation_config.json:   0%|          | 0.00/116 [00:00<?, ?B/s]"
      ]
     },
     "metadata": {},
     "output_type": "display_data"
    },
    {
     "name": "stdout",
     "output_type": "stream",
     "text": [
      "Model loaded on cuda:0\n"
     ]
    }
   ],
   "source": [
    "model_id = 'hyonbokan/BGPStream13-10k-cutoff-1024-max-2048'\n",
    "\n",
    "device = f'cuda:{cuda.current_device()}' if cuda.is_available() else 'cpu'\n",
    "\n",
    "# bnb_config = transformers.BitsAndBytesConfig(\n",
    "#     load_in_8bit=True,\n",
    "# )\n",
    "\n",
    "# Need auth token for these\n",
    "hf_auth = os.environ.get('hf_token')\n",
    "\n",
    "model_config = transformers.AutoConfig.from_pretrained(\n",
    "    model_id,\n",
    "    use_auth_token=hf_auth\n",
    ")\n",
    "\n",
    "model = transformers.AutoModelForCausalLM.from_pretrained(\n",
    "    model_id,\n",
    "    trust_remote_code=True,\n",
    "    config=model_config,\n",
    "    # quantization_config=bnb_config,\n",
    "    device_map='auto',\n",
    "    use_auth_token=hf_auth\n",
    ")\n",
    "\n",
    "\n",
    "model.eval()\n",
    "print(f\"Model loaded on {device}\")"
   ]
  },
  {
   "cell_type": "code",
   "execution_count": 3,
   "metadata": {},
   "outputs": [
    {
     "data": {
      "application/vnd.jupyter.widget-view+json": {
       "model_id": "af1f949ccc71495a9b211de8774106c6",
       "version_major": 2,
       "version_minor": 0
      },
      "text/plain": [
       "Downloading tokenizer_config.json:   0%|          | 0.00/1.57k [00:00<?, ?B/s]"
      ]
     },
     "metadata": {},
     "output_type": "display_data"
    },
    {
     "data": {
      "application/vnd.jupyter.widget-view+json": {
       "model_id": "76b0725c7fc04d369994a899e8b831b6",
       "version_major": 2,
       "version_minor": 0
      },
      "text/plain": [
       "Downloading tokenizer.model:   0%|          | 0.00/500k [00:00<?, ?B/s]"
      ]
     },
     "metadata": {},
     "output_type": "display_data"
    },
    {
     "data": {
      "application/vnd.jupyter.widget-view+json": {
       "model_id": "591827e9716640df909fed2ac5781ead",
       "version_major": 2,
       "version_minor": 0
      },
      "text/plain": [
       "Downloading tokenizer.json:   0%|          | 0.00/1.84M [00:00<?, ?B/s]"
      ]
     },
     "metadata": {},
     "output_type": "display_data"
    },
    {
     "data": {
      "application/vnd.jupyter.widget-view+json": {
       "model_id": "bb391beb194e40a38d6584c8144fe4ca",
       "version_major": 2,
       "version_minor": 0
      },
      "text/plain": [
       "Downloading (…)cial_tokens_map.json:   0%|          | 0.00/437 [00:00<?, ?B/s]"
      ]
     },
     "metadata": {},
     "output_type": "display_data"
    }
   ],
   "source": [
    "tokenizer = transformers.AutoTokenizer.from_pretrained(\n",
    "    model_id,\n",
    "    use_auth_token=hf_auth\n",
    ")\n",
    "\n",
    "tokenizer.pad_token = tokenizer.eos_token\n",
    "# tokenizer.pad_token_id = tokenizer.eos_token_id\n",
    "tokenizer.padding_side = \"right\""
   ]
  },
  {
   "cell_type": "markdown",
   "metadata": {},
   "source": [
    "# Model: BGPStream13-10k-cutoff-1024-max-2048"
   ]
  },
  {
   "cell_type": "markdown",
   "metadata": {},
   "source": [
    "## Task 1: Analysis of BGP Table Statistics\n",
    "Use PyBGPStream to analyze the BGP table statistics for AS131072, focusing on the characteristics of advertisements. Print the metrics evaluating the degree of similarity of the AS paths of these specific advertisements to their encompassing aggregate."
   ]
  },
  {
   "cell_type": "code",
   "execution_count": null,
   "metadata": {},
   "outputs": [],
   "source": [
    "logging.set_verbosity(logging.CRITICAL)\n",
    "\n",
    "# Run text generation pipeline with our next model\n",
    "prompt = \"Use PyBGPStream to analyze the BGP table statistics for AS131072, focusing on the characteristics of advertisements. Print the metrics evaluating the degree of similarity of the AS paths of these specific advertisements to their encompassing aggregate.\"\n",
    "pipe = pipeline(task=\"text-generation\", model=model, tokenizer=tokenizer, max_length=718)\n",
    "result = pipe(f\"<s>[INST] {prompt} [/INST]\")\n",
    "print(result[0]['generated_text'])"
   ]
  },
  {
   "cell_type": "code",
   "execution_count": 1,
   "metadata": {},
   "outputs": [],
   "source": [
    "from pybgpstream import BGPStream\n",
    "\n",
    "# Initialize BGPStream\n",
    "stream = BGPStream(\n",
    "    from_time=\"2021-01-01 00:00:00\", until_time=\"2021-01-02 01:00:00\",\n",
    "    # collectors=[\"route-views\"], # specify the collectors\n",
    "    record_type=\"updates\"\n",
    ")\n",
    "\n",
    "# Dictionary to store the AS paths and their corresponding aggregates\n",
    "as_paths = {}\n",
    "\n",
    "# Loop through the stream records\n",
    "for rec in stream.records():\n",
    "    for elem in rec:\n",
    "        if elem.type == \"A\":\n",
    "            as_path = elem.fields[\"as-path\"].split()\n",
    "            origin_as = as_path[-1]\n",
    "            if origin_as == \"131072\":\n",
    "                # Store the AS path and its corresponding aggregate\n",
    "                as_paths[elem.fields[\"prefix\"]] = elem.fields[\"as-path\"]\n",
    "\n",
    "# Calculate the degree of similarity of the AS paths\n",
    "for prefix, as_path in as_paths.items():\n",
    "    # Calculate the degree of similarity\n",
    "    degree_of_similarity = len(set(as_path.split())) / len(as_path.split())\n",
    "    print(f\"Prefix: {prefix}, Degree of Similarity: {degree_of_similarity}\")"
   ]
  },
  {
   "cell_type": "markdown",
   "metadata": {},
   "source": [
    "## Task 2: Peering Relationships Analysis\n",
    "Use PyBGPStream to examine the list of AS numbers that AS131072 peers with, including any known policy attributes or tags. Determine the types of peering relationships (transit, peer, customer) present and discuss the implications of these relationships for AS131072's network reachability and performance. Highlight how these peering arrangements influence traffic flow and the strategic importance of each peering type in the broader network ecosystem."
   ]
  },
  {
   "cell_type": "code",
   "execution_count": 6,
   "metadata": {},
   "outputs": [
    {
     "name": "stdout",
     "output_type": "stream",
     "text": [
      "<s>[INST] Use PyBGPStream to examine the list of AS numbers that AS131072 peers with, including any known policy attributes or tags. Determine the types of peering relationships (transit, peer, customer) present and discuss the implications of these relationships for AS131072's network reachability and performance. Highlight how these peering arrangements influence traffic flow and the strategic importance of each peering type in the broader network ecosystem. [/INST]  To examine the list of AS numbers that AS131072 peers with, including any known policy attributes or tags, and to determine the types of peering relationships present, we can use PyBGPStream to collect BGP data from the RouteViews collector. We can then use the BGPStream library to analyze the data and extract the required information.\n",
      "\n",
      "Here is an example of how to do this:\n",
      "```\n",
      "import pybgpstream\n",
      "\n",
      "# Initialize BGPStream\n",
      "stream = pybgpstream.BGPStream(\n",
      "    from_time=\"2023-03-10 00:00:00\", until_time=\"2023-03-10 23:59:59\",\n",
      "    collectors=[\"route-views\"],\n",
      "    record_type=\"updates\"\n",
      ")\n",
      "\n",
      "# Collect data\n",
      "for rec in stream.records():\n",
      "    for elem in rec:\n",
      "        if elem.type == \"A\":\n",
      "            as_path = elem.fields[\"as-path\"].split()\n",
      "            origin_as = as_path[-1]\n",
      "            if origin_as == \"131072\":\n",
      "                print(f\"Peer ASN: {elem.peer_asn}, Policy Attributes: {elem.policy_attributes}, Tag: {elem.tag}\")\n",
      "\n",
      "# Determine the types of peering relationships\n",
      "#... (rest of the code to determine the types of peering relationships)\n",
      "\n",
      "# Discuss the implications of these relationships\n",
      "#... (rest of the code to discuss the implications of these relationships)\n",
      "\n",
      "# Highlight how these peering arrangements influence traffic flow\n",
      "#... (rest of the code to highlight how these peering arrangements influence traffic flow)\n",
      "\n",
      "# Discuss the strategic importance of each peering type in the broader network ecosystem\n",
      "#... (rest of the code to discuss the strategic importance of each peering type in the broader network ecosystem)\n",
      "```\n",
      "The output of the code will be a list of peers of AS131072, along with their policy attributes and tags. The types of peering relationships present can be determined by analyzing the AS paths and the origin ASNs. The implications of these relationships can be discussed in terms of network reachability and performance. The strategic importance of each peering type can be discussed in terms of traffic flow and the broader network ecosystem.\n",
      "\n",
      "For example, if AS131072 has a transit relationship with another AS, it means that it is a transit AS and is responsible for forwarding traffic to other ASes. This can affect its network reachability and performance, as it needs to maintain a reliable and high-speed connection to the\n"
     ]
    }
   ],
   "source": [
    "logging.set_verbosity(logging.CRITICAL)\n",
    "\n",
    "# Run text generation pipeline with our next model\n",
    "prompt = \"Use PyBGPStream to examine the list of AS numbers that AS131072 peers with, including any known policy attributes or tags. Determine the types of peering relationships (transit, peer, customer) present and discuss the implications of these relationships for AS131072's network reachability and performance. Highlight how these peering arrangements influence traffic flow and the strategic importance of each peering type in the broader network ecosystem.\"\n",
    "pipe = pipeline(task=\"text-generation\", model=model, tokenizer=tokenizer, max_length=718)\n",
    "result = pipe(f\"<s>[INST] {prompt} [/INST]\")\n",
    "print(result[0]['generated_text'])"
   ]
  },
  {
   "cell_type": "code",
   "execution_count": null,
   "metadata": {},
   "outputs": [],
   "source": [
    "import pybgpstream\n",
    "\n",
    "# Initialize BGPStream\n",
    "stream = pybgpstream.BGPStream(\n",
    "    from_time=\"2023-03-10 00:00:00\", until_time=\"2023-03-10 23:59:59\",\n",
    "    collectors=[\"route-views\"],\n",
    "    record_type=\"updates\"\n",
    ")\n",
    "\n",
    "# Collect data\n",
    "for rec in stream.records():\n",
    "    for elem in rec:\n",
    "        if elem.type == \"A\":\n",
    "            as_path = elem.fields[\"as-path\"].split()\n",
    "            origin_as = as_path[-1]\n",
    "            if origin_as == \"131072\":\n",
    "                print(f\"Peer ASN: {elem.peer_asn}, Policy Attributes: {elem.policy_attributes}, Tag: {elem.tag}\")"
   ]
  },
  {
   "cell_type": "markdown",
   "metadata": {},
   "source": [
    "## Task 3: Identification of Anomalies\n",
    "Use PyBGPStream to identify and analyze any anomalies in the BGP announcements from AS131072 over a specified period. Look for unusual patterns such as sudden increases in the number of prefixes, withdrawal of significant routes, or shifts in AS_PATHs and alert if such anomalies are detected."
   ]
  },
  {
   "cell_type": "code",
   "execution_count": 7,
   "metadata": {},
   "outputs": [
    {
     "name": "stdout",
     "output_type": "stream",
     "text": [
      "<s>[INST] Use PyBGPStream to identify and analyze any anomalies in the BGP announcements from AS131072 over a specified period. Look for unusual patterns such as sudden increases in the number of prefixes, withdrawal of significant routes, or shifts in AS_PATHs and alert if such anomalies are detected. [/INST]  Sure! Here's an example code that uses PyBGPStream to identify and analyze any anomalies in the BGP announcements from AS131072 over a specified period:\n",
      "```\n",
      "import pybgpstream\n",
      "\n",
      "# Initialize the BGPStream\n",
      "stream = pybgpstream.BGPStream(\n",
      "    from_time=\"2021-01-01 00:00:00\", until_time=\"2021-01-01 01:00:00 UTC\",\n",
      "    collectors=[\"route-views.jinx\"],\n",
      "    record_type=\"updates\",\n",
      "    filter=\"peer 131072\"\n",
      ")\n",
      "\n",
      "# Loop through the stream records\n",
      "for rec in stream.records():\n",
      "    for elem in rec:\n",
      "        # Check for unusual patterns\n",
      "        if elem.type == \"A\":\n",
      "            as_path = elem.fields[\"as-path\"].split()\n",
      "            prefix = elem.fields[\"prefix\"]\n",
      "            if len(as_path) > 10 or len(as_path) < 2:\n",
      "                print(f\"Anomaly detected! AS Path length for prefix {prefix} is {len(as_path)}\")\n",
      "            elif elem.fields[\"withdrawn\"]:\n",
      "                print(f\"Anomaly detected! Prefix {prefix} withdrawn\")\n",
      "            elif elem.fields[\"as-path\"]!= elem.fields[\"prev-as-path\"]:\n",
      "                print(f\"Anomaly detected! AS Path shift for prefix {prefix}\")\n",
      "\n",
      "# If no anomalies are detected, print a message\n",
      "if not any(rec.fields[\"as-path\"] for rec in stream.records()):\n",
      "    print(\"No anomalies detected.\")\n",
      "```\n",
      "This code uses the `pybgpstream` library to collect BGP records from the specified collector and filter for records from AS131072. It then loops through the records and checks for unusual patterns such as long or short AS paths, withdrawal of significant routes, or shifts in AS paths. If any anomalies are detected, it prints a message. If no anomalies are detected, it prints a message indicating that no anomalies were found.\n",
      "\n",
      "You can modify the code to specify a different time period or collector. Additionally, you can modify the filter to include other criteria such as specific prefixes or AS paths.\n",
      "\n",
      "Note that this code is just an example and may not detect all anomalies. It's important to carefully analyze the results and consider other factors such as network configuration changes or security incidents that may cause unusual patterns in the BGP announcements.\n"
     ]
    }
   ],
   "source": [
    "logging.set_verbosity(logging.CRITICAL)\n",
    "\n",
    "# Run text generation pipeline with our next model\n",
    "prompt = \"Use PyBGPStream to identify and analyze any anomalies in the BGP announcements from AS131072 over a specified period. Look for unusual patterns such as sudden increases in the number of prefixes, withdrawal of significant routes, or shifts in AS_PATHs and alert if such anomalies are detected.\"\n",
    "pipe = pipeline(task=\"text-generation\", model=model, tokenizer=tokenizer, max_length=718)\n",
    "result = pipe(f\"<s>[INST] {prompt} [/INST]\")\n",
    "print(result[0]['generated_text'])"
   ]
  },
  {
   "cell_type": "code",
   "execution_count": null,
   "metadata": {},
   "outputs": [],
   "source": [
    "import pybgpstream\n",
    "\n",
    "# Initialize the BGPStream\n",
    "stream = pybgpstream.BGPStream(\n",
    "    from_time=\"2021-01-01 00:00:00\", until_time=\"2021-01-02 01:00:00 UTC\",\n",
    "    collectors=[\"route-views.jinx\"],\n",
    "    record_type=\"updates\",\n",
    "    filter=\"peer 131072\"\n",
    ")\n",
    "\n",
    "# Loop through the stream records\n",
    "for rec in stream.records():\n",
    "    for elem in rec:\n",
    "        # Check for unusual patterns\n",
    "        if elem.type == \"A\":\n",
    "            as_path = elem.fields[\"as-path\"].split()\n",
    "            prefix = elem.fields[\"prefix\"]\n",
    "            if len(as_path) > 10 or len(as_path) < 2:\n",
    "                print(f\"Anomaly detected! AS Path length for prefix {prefix} is {len(as_path)}\")\n",
    "            elif elem.fields[\"withdrawn\"]:\n",
    "                print(f\"Anomaly detected! Prefix {prefix} withdrawn\")\n",
    "            elif elem.fields[\"as-path\"]!= elem.fields[\"prev-as-path\"]:\n",
    "                print(f\"Anomaly detected! AS Path shift for prefix {prefix}\")"
   ]
  },
  {
   "cell_type": "markdown",
   "metadata": {},
   "source": [
    "# BGP Path Changes\n",
    "Use PyBGPStream to review a series of BGP update messages that show alterations in the AS_PATH attribute for key routes managed by AS131072."
   ]
  },
  {
   "cell_type": "markdown",
   "metadata": {},
   "source": [
    "# Knowledge Test"
   ]
  },
  {
   "cell_type": "code",
   "execution_count": 6,
   "metadata": {},
   "outputs": [
    {
     "name": "stderr",
     "output_type": "stream",
     "text": [
      "Setting `pad_token_id` to `eos_token_id`:2 for open-end generation.\n"
     ]
    },
    {
     "name": "stderr",
     "output_type": "stream",
     "text": [
      "Setting `pad_token_id` to `eos_token_id`:2 for open-end generation.\n"
     ]
    },
    {
     "name": "stdout",
     "output_type": "stream",
     "text": [
      "Generated Answer: Choose the correct answer: When analyzing BGP route propagation, which attribute provides information about the path that the BGP update has traversed?\n",
      "a) AS-Path\n",
      "b) MED (Multi-Exit Discriminator)\n",
      "c) Local Preference\n",
      "d) Next Hop\n",
      "\n",
      "Answer: a) AS-Path\n",
      "\n",
      "Explanation: The AS-Path attribute is used to track the path that a BGP update has traversed. It is a list of Autonomous System (AS) numbers that the update has passed through. This attribute helps in identifying the path that the update has\n",
      "Parsed_answer: a\n",
      "----------------1-----------------\n"
     ]
    },
    {
     "name": "stderr",
     "output_type": "stream",
     "text": [
      "Setting `pad_token_id` to `eos_token_id`:2 for open-end generation.\n"
     ]
    },
    {
     "name": "stdout",
     "output_type": "stream",
     "text": [
      "Generated Answer: Choose the correct answer: Which of the following is a primary purpose of BGP?\n",
      "a) Establishing communication between devices within a LAN\n",
      "b) Exchanging routing information between autonomous systems\n",
      "c) Optimizing local network traffic\n",
      "d) Assigning IP addresses to devices\n",
      "\n",
      "Answer: b) Exchanging routing information between autonomous systems.\n",
      "\n",
      "Explanation: BGP (Border Gateway Protocol) is a protocol used to exchange routing information between autonomous systems. It is used to establish communication between devices within a LAN, optimize local network traffic, and assign IP\n",
      "Parsed_answer: b\n",
      "----------------2-----------------\n"
     ]
    },
    {
     "name": "stderr",
     "output_type": "stream",
     "text": [
      "Setting `pad_token_id` to `eos_token_id`:2 for open-end generation.\n"
     ]
    },
    {
     "name": "stdout",
     "output_type": "stream",
     "text": [
      "Generated Answer: Choose the correct answer: What is the main function of the AS-Path attribute in BGP?\n",
      "a) Identifying the IP address of the next hop\n",
      "b) Preventing route hijacking\n",
      "c) Specifying the exit point from an AS\n",
      "d) Tracking the ASes a route has traversed\n",
      "\n",
      "Answer: d) Tracking the ASes a route has traversed. The AS-Path attribute is used to track the ASes a route has traversed, allowing BGP routers to determine the best path to a destination. It is not used to identify the IP address of the next\n",
      "Parsed_answer: d\n",
      "----------------3-----------------\n"
     ]
    },
    {
     "name": "stderr",
     "output_type": "stream",
     "text": [
      "Setting `pad_token_id` to `eos_token_id`:2 for open-end generation.\n"
     ]
    },
    {
     "name": "stdout",
     "output_type": "stream",
     "text": [
      "Generated Answer: Choose the correct answer: Which BGP attribute indicates the preferred exit point from an AS?\n",
      "a) ORIGIN\n",
      "b) LOCAL-PREF\n",
      "c) NEXT-HOP\n",
      "d) AS-PATH\n",
      "\n",
      "Answer: c) NEXT-HOP\n",
      "\n",
      "Explanation: The NEXT-HOP attribute indicates the IP address of the next-hop router for a particular route. This attribute is used to determine the preferred exit point from an Autonomous System (AS). The NEXT-HOP attribute is used by BGP routers to determine the best path to a\n",
      "Parsed_answer: c\n",
      "----------------4-----------------\n"
     ]
    },
    {
     "name": "stderr",
     "output_type": "stream",
     "text": [
      "Setting `pad_token_id` to `eos_token_id`:2 for open-end generation.\n"
     ]
    },
    {
     "name": "stdout",
     "output_type": "stream",
     "text": [
      "Generated Answer: Choose the correct answer: Which BGP message is used to establish a BGP session?\n",
      "a) KEEPALIVE\n",
      "b) OPEN\n",
      "c) UPDATE\n",
      "d) NOTIFICATION\n",
      "\n",
      "Answer: b) OPEN\n",
      "\n",
      "Explanation: The OPEN message is used to establish a BGP session between two BGP peers. It is sent by the initiator of the session and contains information about the BGP version, the BGP identifier, and the BGP hold timer. The OPEN message is used to establish a BGP session and is the first message exchanged between two B\n",
      "Parsed_answer: b\n",
      "----------------5-----------------\n"
     ]
    },
    {
     "name": "stderr",
     "output_type": "stream",
     "text": [
      "Setting `pad_token_id` to `eos_token_id`:2 for open-end generation.\n"
     ]
    },
    {
     "name": "stdout",
     "output_type": "stream",
     "text": [
      "Generated Answer: Choose the correct answer: What is the primary purpose of the BGP NEXT-HOP attribute?\n",
      "a) Specifies the IP address of the sender\n",
      "b) Indicates the preferred exit point from an AS\n",
      "c) Defines the next router in the path\n",
      "d) Specifies the route's origin\n",
      "\n",
      "Answer: c) Defines the next router in the path\n",
      "\n",
      "Explanation: The BGP NEXT-HOP attribute is used to specify the next router in the path of a BGP route. It is used to indicate the IP address of the next router in the path,\n",
      "Parsed_answer: c\n",
      "----------------6-----------------\n"
     ]
    },
    {
     "name": "stderr",
     "output_type": "stream",
     "text": [
      "Setting `pad_token_id` to `eos_token_id`:2 for open-end generation.\n"
     ]
    },
    {
     "name": "stdout",
     "output_type": "stream",
     "text": [
      "Generated Answer: Choose the correct answer: Which BGP message is used to advertise new or withdrawn routes?\n",
      "a) KEEPALIVE\n",
      "b) OPEN\n",
      "c) UPDATE\n",
      "d) NOTIFICATION\n",
      "\n",
      "Answer: c) UPDATE\n",
      "\n",
      "Explanation: The UPDATE message is used to advertise new or withdrawn routes. It is sent by a router to its peers to inform them of changes in the network. The KEEPALIVE message is used to maintain the connection between BGP peers, the OPEN message is used to establish a BGP session, and the NOTIF\n",
      "Parsed_answer: c\n",
      "----------------7-----------------\n"
     ]
    },
    {
     "name": "stderr",
     "output_type": "stream",
     "text": [
      "Setting `pad_token_id` to `eos_token_id`:2 for open-end generation.\n"
     ]
    },
    {
     "name": "stdout",
     "output_type": "stream",
     "text": [
      "Generated Answer: Choose the correct answer: What is the purpose of BGP route aggregation?\n",
      "a) Breaking down large routes into smaller subnets\n",
      "b) Combining multiple routes into a single summarized route\n",
      "c) Assigning priority to specific routes\n",
      "d) Applying policies to routes\n",
      "\n",
      "Answer: b) Combining multiple routes into a single summarized route.\n",
      "\n",
      "Explanation: BGP route aggregation is the process of combining multiple routes into a single summarized route. This helps reduce the size of the routing table and improve network performance. By combining multiple routes into a single summarized\n",
      "Parsed_answer: b\n",
      "----------------8-----------------\n"
     ]
    },
    {
     "name": "stderr",
     "output_type": "stream",
     "text": [
      "Setting `pad_token_id` to `eos_token_id`:2 for open-end generation.\n"
     ]
    },
    {
     "name": "stdout",
     "output_type": "stream",
     "text": [
      "Generated Answer: Choose the correct answer: What is the term for maliciously advertising IP prefixes an AS doesn't own?\n",
      "a) BGP Route Hijacking\n",
      "b) BGP Anomaly Detection\n",
      "c) BGP Route Flap\n",
      "d) BGP Route Aggregation\n",
      "\n",
      "Answer: a) BGP Route Hijacking.\n",
      "\n",
      "Explanation: BGP Route Hijacking is the term used to describe the malicious advertisement of IP prefixes an AS does not own. This can be done by an attacker to redirect traffic away from its intended destination, or\n",
      "Parsed_answer: a\n",
      "----------------9-----------------\n"
     ]
    },
    {
     "name": "stderr",
     "output_type": "stream",
     "text": [
      "Setting `pad_token_id` to `eos_token_id`:2 for open-end generation.\n"
     ]
    },
    {
     "name": "stdout",
     "output_type": "stream",
     "text": [
      "Generated Answer: Choose the correct answer: BGP Prefix Origin Validation (ROV) is primarily aimed at preventing:\n",
      "a) BGP route damping\n",
      "b) BGP session establishment\n",
      "c) BGP route leaks and hijacks\n",
      "d) BGP route aggregation\n",
      "\n",
      "Answer: c) BGP route leaks and hijacks.\n",
      "\n",
      "Explanation: BGP Prefix Origin Validation (ROV) is a security feature that helps prevent route leaks and hijacks by verifying the origin of BGP routes. It ensures that routes are not propagated from an unexpected source\n",
      "Parsed_answer: c\n",
      "----------------10-----------------\n"
     ]
    },
    {
     "name": "stderr",
     "output_type": "stream",
     "text": [
      "Setting `pad_token_id` to `eos_token_id`:2 for open-end generation.\n"
     ]
    },
    {
     "name": "stdout",
     "output_type": "stream",
     "text": [
      "Generated Answer: Choose the correct answer: Which BGP attribute is used to group routes into categories?\n",
      "a) LOCAL-PREF\n",
      "b) MED\n",
      "c) AS-PATH\n",
      "d) COMMUNITY\n",
      "\n",
      "Answer: d) COMMUNITY\n",
      "\n",
      "Explanation: The COMMUNITY attribute is used to group routes into categories. It is used to identify routes that are part of a specific community, such as a specific AS or a specific group of ASes. This attribute is used to influence route selection and to control the propagation of routes within a network.\n",
      "\n",
      "Note: The other\n",
      "Parsed_answer: d\n",
      "----------------11-----------------\n"
     ]
    },
    {
     "name": "stderr",
     "output_type": "stream",
     "text": [
      "Setting `pad_token_id` to `eos_token_id`:2 for open-end generation.\n"
     ]
    },
    {
     "name": "stdout",
     "output_type": "stream",
     "text": [
      "Generated Answer: Choose the correct answer: BGP confederations are used to:\n",
      "a) Optimize local network traffic\n",
      "b) Divide an AS into sub-ASes for scalability\n",
      "c) Group routes into categories\n",
      "d) Handle BGP session establishment\n",
      "\n",
      "Answer: b) Divide an AS into sub-ASes for scalability. BGP confederations are used to divide an Autonomous System (AS) into sub-ASes, allowing for better scalability and improved performance. This is done by grouping multiple ASes into a single confederation, allowing them to share a single BGP\n",
      "Parsed_answer: b\n",
      "----------------12-----------------\n"
     ]
    },
    {
     "name": "stderr",
     "output_type": "stream",
     "text": [
      "Setting `pad_token_id` to `eos_token_id`:2 for open-end generation.\n"
     ]
    },
    {
     "name": "stdout",
     "output_type": "stream",
     "text": [
      "Generated Answer: Choose the correct answer: Which BGP attribute is used to influence route selection by assigning a value to the route?\n",
      "a) ORIGIN\n",
      "b) MED\n",
      "c) AS-PATH\n",
      "d) LOCAL-PREF\n",
      "\n",
      "Answer: d) LOCAL-PREF\n",
      "\n",
      "Explanation: The LOCAL-PREF attribute is used to influence route selection by assigning a value to the route. This attribute is used to indicate the preference of a route within a single autonomous system. The higher the value, the more preferred the route is. This attribute is used to influence route selection\n",
      "Parsed_answer: d\n",
      "----------------13-----------------\n"
     ]
    },
    {
     "name": "stderr",
     "output_type": "stream",
     "text": [
      "Setting `pad_token_id` to `eos_token_id`:2 for open-end generation.\n"
     ]
    },
    {
     "name": "stdout",
     "output_type": "stream",
     "text": [
      "Generated Answer: Choose the correct answer: What is the purpose of the BGP NOTIFICATION message?\n",
      "a) Establish a BGP session\n",
      "b) Advertise new routes\n",
      "c) Signal an error or event in the BGP session\n",
      "d) Request a route refresh\n",
      "\n",
      "Answer: c) Signal an error or event in the BGP session.\n",
      "\n",
      "Explanation: The BGP NOTIFICATION message is used to signal an error or event in the BGP session. It is used to inform the other BGP peer of an error or event that has occurred in the session, such as a\n",
      "Parsed_answer: c\n",
      "----------------14-----------------\n"
     ]
    },
    {
     "name": "stderr",
     "output_type": "stream",
     "text": [
      "Setting `pad_token_id` to `eos_token_id`:2 for open-end generation.\n"
     ]
    },
    {
     "name": "stdout",
     "output_type": "stream",
     "text": [
      "Generated Answer: Choose the correct answer: What is the primary purpose of the BGP Community attribute?\n",
      "a) Indicate the preferred exit point\n",
      "b) Prevent route flapping\n",
      "c) Define route policies based on grouping\n",
      "d) Determine the AS-Path length\n",
      "\n",
      "Answer: c) Define route policies based on grouping. The BGP Community attribute is used to group routes and define policies based on those groups. It allows for more granular control over route selection and can be used to influence the path taken by traffic. The other options are incorrect because the primary purpose of the BGP Community attribute is not to indicate the\n",
      "Parsed_answer: c\n",
      "----------------15-----------------\n"
     ]
    },
    {
     "name": "stderr",
     "output_type": "stream",
     "text": [
      "Setting `pad_token_id` to `eos_token_id`:2 for open-end generation.\n"
     ]
    },
    {
     "name": "stdout",
     "output_type": "stream",
     "text": [
      "Generated Answer: Choose the correct answer: BGP Route Reflectors are used to address the scalability issues associated with:\n",
      "a) Excessive route dampening\n",
      "b) Route summarization\n",
      "c) Full mesh BGP peering\n",
      "d) BGP prefix hijacking\n",
      "\n",
      "Answer: b) Route summarization. BGP Route Reflectors are used to address the scalability issues associated with route summarization. They reduce the number of BGP updates by summarizing routes and propagating them to other BGP peers. This helps to reduce the number of BGP updates and improve scalability.\n",
      "\n",
      "Question\n",
      "Parsed_answer: b\n",
      "----------------16-----------------\n"
     ]
    },
    {
     "name": "stderr",
     "output_type": "stream",
     "text": [
      "Setting `pad_token_id` to `eos_token_id`:2 for open-end generation.\n"
     ]
    },
    {
     "name": "stdout",
     "output_type": "stream",
     "text": [
      "Generated Answer: Choose the correct answer: What is the primary purpose of the BGP Path Attribute?\n",
      "a) Identify the exit point from an AS\n",
      "b) Indicate the origin of a route\n",
      "c) Determine the optimal route\n",
      "d) Filter BGP routes\n",
      "\n",
      "Answer: c) Determine the optimal route\n",
      "\n",
      "Explanation: The primary purpose of the BGP Path Attribute is to determine the optimal route for a given destination. It contains information about the route, such as the origin AS, the AS path, the next hop, and the local preference. This information is used by BGP routers\n",
      "Parsed_answer: c\n",
      "----------------17-----------------\n"
     ]
    },
    {
     "name": "stderr",
     "output_type": "stream",
     "text": [
      "Setting `pad_token_id` to `eos_token_id`:2 for open-end generation.\n"
     ]
    },
    {
     "name": "stdout",
     "output_type": "stream",
     "text": [
      "Generated Answer: Choose the correct answer: BGP Prefix Filtering is used to:\n",
      "a) Prevent route hijacking\n",
      "b) Optimize route propagation\n",
      "c) Establish BGP sessions\n",
      "d) Calculate BGP AS-Paths\n",
      "\n",
      "Answer: a) Prevent route hijacking\n",
      "\n",
      "Explanation: BGP Prefix Filtering is used to prevent route hijacking by allowing an administrator to filter out routes that are not desired. This is done by configuring a prefix list that specifies which routes should be accepted or rejected. By using prefix filtering, an administrator can prevent\n",
      "Parsed_answer: a\n",
      "----------------18-----------------\n"
     ]
    },
    {
     "name": "stderr",
     "output_type": "stream",
     "text": [
      "Setting `pad_token_id` to `eos_token_id`:2 for open-end generation.\n"
     ]
    },
    {
     "name": "stdout",
     "output_type": "stream",
     "text": [
      "Generated Answer: Choose the correct answer: In BGP, what is the primary purpose of the ORIGIN attribute?\n",
      "a) Identify the exit point from an AS\n",
      "b) Determine the preferred route within an AS\n",
      "c) Indicate the origin of a route\n",
      "d) Assign values for path selection\n",
      "\n",
      "Answer: c) Indicate the origin of a route. The ORIGIN attribute is used to indicate the origin of a route, such as an IGP or an EGP. It is used to identify the source of a route and to determine the preferred route within an AS. It is not used to\n",
      "Parsed_answer: c\n",
      "----------------19-----------------\n"
     ]
    },
    {
     "name": "stderr",
     "output_type": "stream",
     "text": [
      "Setting `pad_token_id` to `eos_token_id`:2 for open-end generation.\n"
     ]
    },
    {
     "name": "stdout",
     "output_type": "stream",
     "text": [
      "Generated Answer: Choose the correct answer: What does the BGP Maximum Prefix Limit control?\n",
      "a) The number of BGP routes that can be aggregated\n",
      "b) The maximum length of the AS-Path attribute\n",
      "c) The number of prefixes a BGP router will accept\n",
      "d) The BGP route redistribution process\n",
      "\n",
      "Answer: c) The number of prefixes a BGP router will accept. The BGP Maximum Prefix Limit controls the number of prefixes a BGP router will accept from its peers. This limit is used to prevent the router from accepting too many prefixes\n",
      "Parsed_answer: c\n",
      "----------------20-----------------\n"
     ]
    },
    {
     "name": "stderr",
     "output_type": "stream",
     "text": [
      "Setting `pad_token_id` to `eos_token_id`:2 for open-end generation.\n"
     ]
    },
    {
     "name": "stdout",
     "output_type": "stream",
     "text": [
      "Generated Answer: Choose the correct answer: What is the purpose of the BGP Large Communities attribute?\n",
      "a) Determine the optimal route path\n",
      "b) Prevent BGP session timeouts\n",
      "c) Provide more efficient route summarization\n",
      "d) Group routes into categories based on policies\n",
      "\n",
      "Answer: c) Provide more efficient route summarization. The BGP Large Communities attribute is used to group routes into categories based on policies, allowing for more efficient route summarization. It is not used to determine the optimal route path, prevent BGP session timeouts, or group routes into categories based on policies.\n",
      "Parsed_answer: c\n",
      "----------------21-----------------\n"
     ]
    },
    {
     "name": "stderr",
     "output_type": "stream",
     "text": [
      "Setting `pad_token_id` to `eos_token_id`:2 for open-end generation.\n"
     ]
    },
    {
     "name": "stdout",
     "output_type": "stream",
     "text": [
      "Generated Answer: Choose the correct answer: In BGP, what is the significance of the BGP Weight attribute?\n",
      "a) It determines the exit point from an AS\n",
      "b) It influences the route selection within an AS\n",
      "c) It specifies the BGP session timeout value\n",
      "d) It defines the route origin\n",
      "\n",
      "Answer: b) It influences the route selection within an AS\n",
      "\n",
      "Explanation: The BGP Weight attribute is used to influence the route selection within an Autonomous System (AS). It is used to prioritize routes within an AS, allowing the network administrator to control the\n",
      "Parsed_answer: b\n",
      "----------------22-----------------\n"
     ]
    },
    {
     "name": "stderr",
     "output_type": "stream",
     "text": [
      "Setting `pad_token_id` to `eos_token_id`:2 for open-end generation.\n"
     ]
    },
    {
     "name": "stdout",
     "output_type": "stream",
     "text": [
      "Generated Answer: Choose the correct answer: How does the BGP AS Confederation help address the full mesh peering challenge?\n",
      "a) It reduces the number of AS-Path segments\n",
      "b) It introduces hierarchical routing within a single AS\n",
      "c) It increases the number of BGP sessions between routers\n",
      "d) It optimizes the BGP Weight attribute\n",
      "\n",
      "Answer: b) It introduces hierarchical routing within a single AS.\n",
      "\n",
      "Explanation: BGP AS Confederation is a technique used to address the full mesh peering challenge by introducing hierarchical routing within a single AS.\n",
      "Parsed_answer: b\n",
      "----------------23-----------------\n"
     ]
    },
    {
     "name": "stderr",
     "output_type": "stream",
     "text": [
      "Setting `pad_token_id` to `eos_token_id`:2 for open-end generation.\n"
     ]
    },
    {
     "name": "stdout",
     "output_type": "stream",
     "text": [
      "Generated Answer: Choose the correct answer: What is BGPsec and how does it enhance BGP security?\n",
      "a) BGPsec is a protocol for secure BGP session establishment\n",
      "b) BGPsec is an extension to BGP that adds cryptographic verification to BGP route announcements\n",
      "c) BGPsec is a mechanism for prefix aggregation in BGP\n",
      "d) BGPsec is used to prevent BGP route leaks\n",
      "\n",
      "Answer: b) BGPsec is an extension to BGP that adds cryptographic verification to BGP route announcements. BGPsec is a protocol that\n",
      "Parsed_answer: b\n",
      "----------------24-----------------\n"
     ]
    },
    {
     "name": "stderr",
     "output_type": "stream",
     "text": [
      "Setting `pad_token_id` to `eos_token_id`:2 for open-end generation.\n"
     ]
    },
    {
     "name": "stdout",
     "output_type": "stream",
     "text": [
      "Generated Answer: Choose the correct answer: When is the BGP Extended Community attribute used, and what information does it convey?\n",
      "a) It is used for route summarization within a single AS\n",
      "b) It conveys policy information and inter-domain actions associated with a route\n",
      "c) It determines the local preference of a BGP route\n",
      "d) It specifies the AS-Path segment of a route\n",
      "\n",
      "Answer: b) It conveys policy information and inter-domain actions associated with a route.\n",
      "\n",
      "Explanation: The BGP Extended Community attribute is used to convey policy information and inter-\n",
      "Parsed_answer: b\n",
      "----------------25-----------------\n"
     ]
    },
    {
     "name": "stderr",
     "output_type": "stream",
     "text": [
      "Setting `pad_token_id` to `eos_token_id`:2 for open-end generation.\n",
      "Input length of input_ids is 141, but `max_length` is set to 128. This can lead to unexpected behavior. You should consider increasing `max_new_tokens`.\n"
     ]
    },
    {
     "name": "stdout",
     "output_type": "stream",
     "text": [
      "Generated Answer: Choose the correct answer: What is the concept of BGP Flowspec, and how does it enhance BGP routing control?\n",
      "a) BGP Flowspec is a mechanism to advertise real-time network traffic statistics\n",
      "b) BGP Flowspec is used for route aggregation in large networks\n",
      "c) BGP Flowspec allows the dissemination of traffic filtering rules using BGP updates\n",
      "d) BGP Flowspec determines the AS-Path of a route\n",
      "\n",
      "Answer: c) BGP Flowspec allows the dissemination of traffic filtering rules using BGP updates. BGP Flowspec is a\n",
      "Parsed_answer: c\n",
      "----------------26-----------------\n"
     ]
    },
    {
     "name": "stderr",
     "output_type": "stream",
     "text": [
      "Setting `pad_token_id` to `eos_token_id`:2 for open-end generation.\n"
     ]
    },
    {
     "name": "stdout",
     "output_type": "stream",
     "text": [
      "Generated Answer: Choose the correct answer: Explain the difference between BGP Route Reflection and BGP Confederations.\n",
      "a) BGP Route Reflection optimizes BGP sessions within an AS, while BGP Confederations divide an AS into smaller sub-ASes for scalability\n",
      "b) BGP Route Reflection is used to group BGP routes, while BGP Confederations enhance BGP security\n",
      "c) BGP Route Reflection is a method to prevent BGP route hijacking, while BGP Confederations manage BGP community attributes\n",
      "d) BGP Route Reflection establishes BGP sessions between ASes, while BGP Confederations control the BGP Weight attribute\n",
      "\n",
      "----------------27-----------------\n"
     ]
    },
    {
     "name": "stderr",
     "output_type": "stream",
     "text": [
      "Setting `pad_token_id` to `eos_token_id`:2 for open-end generation.\n"
     ]
    },
    {
     "name": "stdout",
     "output_type": "stream",
     "text": [
      "Generated Answer: Choose the correct answer: What is BGP Route Damping, and how does it impact BGP routing stability?\n",
      "a) BGP Route Damping is a mechanism to prevent BGP prefix aggregation, ensuring route granularity\n",
      "b) BGP Route Damping is a technique to mitigate the impact of BGP prefix hijacking\n",
      "c) BGP Route Damping is used to reduce the rate of BGP route updates in response to route flapping\n",
      "d) BGP Route Damping is a security feature that encrypts BGP updates to prevent eavesdropping\n",
      "\n",
      "----------------28-----------------\n"
     ]
    },
    {
     "name": "stderr",
     "output_type": "stream",
     "text": [
      "Setting `pad_token_id` to `eos_token_id`:2 for open-end generation.\n",
      "Input length of input_ids is 133, but `max_length` is set to 128. This can lead to unexpected behavior. You should consider increasing `max_new_tokens`.\n"
     ]
    },
    {
     "name": "stdout",
     "output_type": "stream",
     "text": [
      "Generated Answer: Choose the correct answer: How does BGP Prefix Hijacking occur, and what are the potential consequences?\n",
      "a) BGP Prefix Hijacking occurs when BGP sessions are established without proper authentication, leading to data leaks\n",
      "b) BGP Prefix Hijacking involves advertising IP prefixes an AS doesn't own, potentially redirecting traffic to unauthorized paths\n",
      "c) BGP Prefix Hijacking is a result of BGP session timeouts causing route instability\n",
      "d) BGP Prefix Hijacking is a technique to achieve BGP route summarization\n",
      "\n",
      "\n",
      "----------------29-----------------\n"
     ]
    },
    {
     "name": "stderr",
     "output_type": "stream",
     "text": [
      "Setting `pad_token_id` to `eos_token_id`:2 for open-end generation.\n"
     ]
    },
    {
     "name": "stdout",
     "output_type": "stream",
     "text": [
      "Generated Answer: Choose the correct answer: What is the purpose of the BGP RPKI (Resource Public Key Infrastructure) framework, and how does it enhance BGP security?\n",
      "a) BGP RPKI is used for route reflection in BGP Confederations, enhancing scalability\n",
      "b) BGP RPKI provides cryptographic verification of BGP route announcements, preventing prefix hijacking\n",
      "c) BGP RPKI optimizes the BGP Local Preference attribute for route selection\n",
      "d) BGP RPKI is a mechanism for BGP prefix aggregation, reducing the number of routes exchanged\n",
      "\n",
      "----------------30-----------------\n"
     ]
    },
    {
     "name": "stderr",
     "output_type": "stream",
     "text": [
      "Setting `pad_token_id` to `eos_token_id`:2 for open-end generation.\n",
      "Input length of input_ids is 140, but `max_length` is set to 128. This can lead to unexpected behavior. You should consider increasing `max_new_tokens`.\n"
     ]
    },
    {
     "name": "stdout",
     "output_type": "stream",
     "text": [
      "Generated Answer: Choose the correct answer: Describe the purpose of the BGP FlowSpec Redirect action and how it affects network traffic.\n",
      "a) BGP FlowSpec Redirect is used to filter incoming BGP routes based on their AS-Path\n",
      "b) BGP FlowSpec Redirect redirects incoming network traffic matching specified criteria to a designated next-hop\n",
      "c) BGP FlowSpec Redirect increases the BGP session timeout value, reducing BGP convergence time\n",
      "d) BGP FlowSpec Redirect optimizes the BGP Weight attribute for route selection\n",
      "\n",
      "Answer: b) BGP FlowSpec Redirect redirects\n",
      "Parsed_answer: b\n",
      "----------------31-----------------\n"
     ]
    },
    {
     "name": "stderr",
     "output_type": "stream",
     "text": [
      "Setting `pad_token_id` to `eos_token_id`:2 for open-end generation.\n"
     ]
    },
    {
     "name": "stdout",
     "output_type": "stream",
     "text": [
      "Generated Answer: Choose the correct answer: What is the difference between BGP Route Refresh and BGP Full Withdraw?\n",
      "a) BGP Route Refresh is used to advertise new routes, while BGP Full Withdraw indicates route errors\n",
      "b) BGP Route Refresh is a mechanism for re-advertising BGP routes, while BGP Full Withdraw removes all prefixes associated with a peer\n",
      "c) BGP Route Refresh is used for BGP prefix aggregation, while BGP Full Withdraw triggers route convergence\n",
      "d) BGP Route Refresh optimizes the BGP LOCAL-PREF attribute, while BGP Full Withdraw prevents route flapping\n",
      "\n",
      "----------------32-----------------\n"
     ]
    },
    {
     "name": "stderr",
     "output_type": "stream",
     "text": [
      "Setting `pad_token_id` to `eos_token_id`:2 for open-end generation.\n",
      "Input length of input_ids is 128, but `max_length` is set to 128. This can lead to unexpected behavior. You should consider increasing `max_new_tokens`.\n"
     ]
    },
    {
     "name": "stdout",
     "output_type": "stream",
     "text": [
      "Generated Answer: Choose the correct answer: How does the BGP Add-Path feature enhance BGP route selection and convergence?\n",
      "a) BGP Add-Path enables BGP routers to advertise multiple alternate paths for a given prefix\n",
      "b) BGP Add-Path decreases the BGP session establishment time, enhancing route convergence\n",
      "c) BGP Add-Path optimizes the BGP Weight attribute for route selection\n",
      "d) BGP Add-Path prevents BGP prefix hijacking by adding cryptographic signatures to BGP updates\n",
      "\n",
      "Answer: a) BGP Add-Path enables BGP rou\n",
      "Parsed_answer: a\n",
      "----------------33-----------------\n"
     ]
    },
    {
     "name": "stderr",
     "output_type": "stream",
     "text": [
      "Setting `pad_token_id` to `eos_token_id`:2 for open-end generation.\n"
     ]
    },
    {
     "name": "stdout",
     "output_type": "stream",
     "text": [
      "Generated Answer: Choose the correct answer: What are BGP Route Reflection Clusters, and how do they contribute to BGP scalability?\n",
      "a) BGP Route Reflection Clusters are used to enhance BGP security by encrypting BGP updates\n",
      "b) BGP Route Reflection Clusters group routers within an AS, reducing the number of BGP sessions needed for route reflection\n",
      "c) BGP Route Reflection Clusters prevent BGP prefix hijacking by using cryptographic verification\n",
      "d) BGP Route Reflection Clusters optimize the BGP MED attribute for efficient route selection\n",
      "\n",
      "----------------34-----------------\n",
      "Generated Answer: Choose the correct answer: Explain the concept of BGP PIC (Prefix Independent Convergence) and its significance in enhancing network reliability.\n",
      "a) BGP PIC ensures that BGP routers converge to the same routing table in the event of network failures\n",
      "b) BGP PIC introduces route summarization to improve BGP scalability\n",
      "c) BGP PIC reduces the BGP session establishment time, enhancing route convergence\n",
      "d) BGP PIC optimizes the BGP AS-Path attribute for efficient route selection\n",
      "\n",
      "Answer: a) BGP P\n",
      "Parsed_answer: a\n",
      "----------------35-----------------\n",
      "['a', 'b', 'd', 'c', 'b', 'c', 'c', 'b', 'a', 'c', 'd', 'b', 'd', 'c', 'c', 'b', 'c', 'a', 'c', 'c', 'c', 'b', 'b', 'b', 'b', 'c', '', '', '', '', 'b', '', 'a', '', 'a']\n",
      "Correct\n",
      "Correct\n",
      "Correct\n",
      "GPT answer: c. Correct answer: b\n",
      "Incorrect\n",
      "Correct\n",
      "Correct\n",
      "Correct\n",
      "Correct\n",
      "Correct\n",
      "Correct\n",
      "Correct\n",
      "Correct\n",
      "GPT answer: d. Correct answer: b\n",
      "Incorrect\n",
      "Correct\n",
      "Correct\n",
      "GPT answer: b. Correct answer: c\n",
      "Incorrect\n",
      "Correct\n",
      "Correct\n",
      "Correct\n",
      "Correct\n",
      "GPT answer: c. Correct answer: d\n",
      "Incorrect\n",
      "Correct\n",
      "Correct\n",
      "Correct\n",
      "Correct\n",
      "Correct\n",
      "GPT answer: . Correct answer: a\n",
      "Incorrect\n",
      "GPT answer: . Correct answer: c\n",
      "Incorrect\n",
      "GPT answer: . Correct answer: b\n",
      "Incorrect\n",
      "GPT answer: . Correct answer: b\n",
      "Incorrect\n",
      "Correct\n",
      "GPT answer: . Correct answer: b\n",
      "Incorrect\n",
      "Correct\n",
      "GPT answer: . Correct answer: b\n",
      "Incorrect\n",
      "Correct\n",
      "Accuracy: 71.43%\n",
      "Correct answers: 25\n",
      "Incorrect answers: 10\n"
     ]
    }
   ],
   "source": [
    "import json\n",
    "import re\n",
    "\n",
    "input_file_path = \"/home/hb/LLM-research/evaluation/BGP/bgp_test_multiple_choice_v2.json\" \n",
    "\n",
    "with open(input_file_path, \"r\") as input_file:\n",
    "    questions_data = json.load(input_file)\n",
    "\n",
    "pipe = pipeline(task=\"text-generation\", model=model, tokenizer=tokenizer, max_length=128)\n",
    "\n",
    "generated_answers = []\n",
    "ground_truth = [q_dict[\"answer\"] for q_dict in questions_data]\n",
    "n_question = 0\n",
    "\n",
    "for q_dict in questions_data:\n",
    "    question = q_dict[\"question\"]\n",
    "    options = q_dict[\"options\"]\n",
    "    \n",
    "    # Construct prompt with question and options\n",
    "    prompt = f\"Choose the correct answer: {question}\\n\" + \"\\n\".join(options)\n",
    "    # print(prompt)\n",
    "    \n",
    "    # Generate answer using the language model\n",
    "    generated_answer = pipe(prompt)[0]['generated_text']\n",
    "    print(f\"Generated Answer: {generated_answer}\")\n",
    "    \n",
    "    # Parse the generated answer\n",
    "    answer_lines = generated_answer.splitlines()\n",
    "    parsed_answer = \"\"\n",
    "    for line in answer_lines:\n",
    "            if line.startswith(\"Answer: \") or line.startswith(\"Correct answer: \"):\n",
    "                parsed_answer = re.search(r'\\b(\\w)\\)', line).group(1)\n",
    "                print(f\"Parsed_answer: {parsed_answer}\")\n",
    "                break\n",
    "    generated_answers.append(parsed_answer)\n",
    "    n_question += 1\n",
    "    print(f\"----------------{n_question}-----------------\")\n",
    "print(generated_answers)\n",
    "\n",
    "\n",
    "total_questions = len(questions_data)\n",
    "correct_answers = 0\n",
    "\n",
    "for ground_answer, generated_answer in zip(ground_truth, generated_answers):\n",
    "    if generated_answer.lower() == ground_answer.lower():\n",
    "        print(\"Correct\")\n",
    "        correct_answers += 1\n",
    "    else:\n",
    "        print(f\"GPT answer: {generated_answer}. Correct answer: {ground_answer}\")\n",
    "        print(\"Incorrect\")\n",
    "\n",
    "accuracy = (correct_answers / total_questions) * 100\n",
    "\n",
    "print(f\"Accuracy: {accuracy:.2f}%\")\n",
    "print(f\"Correct answers: {correct_answers}\")\n",
    "print(f\"Incorrect answers: {total_questions - correct_answers}\")"
   ]
  },
  {
   "cell_type": "code",
   "execution_count": null,
   "metadata": {},
   "outputs": [],
   "source": [
    "import json\n",
    "import re\n",
    "\n",
    "input_file_path = \"/home/hb/LLM-research/evaluation/bgp_test_fill_the_blank.json\" \n",
    "\n",
    "with open(input_file_path, \"r\") as input_file:\n",
    "    questions_data = json.load(input_file)\n",
    "\n",
    "pipe = pipeline(task=\"text-generation\", model=model, tokenizer=tokenizer, max_length=128)\n",
    "\n",
    "generated_answers_fb = []\n",
    "filled_answers = []\n",
    "\n",
    "n_question = 0\n",
    "for q_dict in questions_data:\n",
    "    question = q_dict[\"question\"]\n",
    "    answer = q_dict[\"answer\"]\n",
    "\n",
    "    # Generate answer using the language model\n",
    "    prompt = f\"[INST]{question} \\n Fill the blank: \\n [/INST]\"\n",
    "    generated_answer = pipe(prompt)[0]['generated_text']\n",
    "    print(f\"Output: {generated_answer}\")\n",
    "    generated_answers_fb.append(generated_answer)\n",
    "    \n",
    "    generated_answer = re.search(r'\\[/INST\\]\\s+(.*)', generated_answer).group(1).strip()\n",
    "    if \"Sure\" in generated_answer:\n",
    "        generated_lines = generated_answer.split('\\n')\n",
    "        if len(generated_lines) > 1:\n",
    "            generated_answer = '\\n'.join(generated_lines[1:])  # Skip the first line\n",
    "    # generated_answers_fb.append(generated_answer)\n",
    "    # print(f\"Generated answer: {generated_answer}\")\n",
    "    # Find the position of the placeholder in the first string\n",
    "    placeholder_position = question.find(\"________\")\n",
    "\n",
    "    # Extract the content filled in the placeholder\n",
    "    filled_content = generated_answer[placeholder_position:placeholder_position + len(\"autonomous systems (ASes)\")]\n",
    "    filled_answers.append(filled_content)\n",
    "    n_question += 1\n",
    "    print(f\"Filled content: {filled_content}\")\n",
    "    print(f\"---------------------{n_question}-----------------------------\")"
   ]
  },
  {
   "cell_type": "code",
   "execution_count": null,
   "metadata": {},
   "outputs": [],
   "source": [
    "input_file_path = \"/home/hb/LLM-research/evaluation/bgp_test_QA_val.json\" \n",
    "\n",
    "with open(input_file_path, \"r\") as input_file:\n",
    "    questions_data = json.load(input_file)\n",
    "\n",
    "pipe = pipeline(task=\"text-generation\", model=model, tokenizer=tokenizer, max_length=512)\n",
    "\n",
    "generated_answers_qa = []\n",
    "\n",
    "n_question = 0\n",
    "for q_dict in questions_data:\n",
    "    n_question += 1\n",
    "    question = q_dict[\"question\"]\n",
    "    # Generate answer using the language model\n",
    "    prompt = f\"[INST]{question}[/INST]\"\n",
    "    generated_answer = pipe(prompt)[0]['generated_text']\n",
    "    print(f\"Output: {generated_answer}\")\n",
    "    generated_answers_qa.append(generated_answer)\n",
    "    print(f\"---------------------{n_question}-----------------------------\")"
   ]
  },
  {
   "cell_type": "markdown",
   "metadata": {},
   "source": [
    "### LLaMA2-7B:\n",
    "`Multiple Choice v2`:\n",
    "    Accuracy: 48.57%\n",
    "    Correct answers: 17\n",
    "    Incorrect answers: 18\n",
    "\n",
    "`Multiple Choice v1`:\n",
    "    Accuracy: 51.43%\n",
    "    Correct answers: 18\n",
    "    Incorrect answers: 17\n",
    "\n",
    "### LLaMA2-13B:\n",
    "`Multiple Choice v2`:\n",
    "    Accuracy: 60.00%\n",
    "    Correct answers: 21\n",
    "    Incorrect answers: 14\n",
    "\n",
    "`Multiple Choice v1`:\n",
    "    Accuracy: 71.43%\n",
    "    Correct answers: 25\n",
    "    Incorrect answers: 10\n",
    "\n",
    "### BGPtest9- cosine - `Best`:\n",
    "`Multiple Choice v2`:\n",
    "    Accuracy: 68.57%\n",
    "    Correct answers: 24\n",
    "    Incorrect answers: 11\n",
    "\n",
    "`Multiple Choice v1`:\n",
    "    - Accuracy: 82.86%\n",
    "    - Correct answers: 29\n",
    "    - Incorrect answers: 6\n",
    "\n",
    "### BGPtest10- constant:\n",
    "`Multiple Choice v2`:\n",
    "    Accuracy: 62.86%\n",
    "    Correct answers: 22\n",
    "    Incorrect answers: 13\n",
    "\n",
    "`Multiple Choice v1`:\n",
    "    - Accuracy: 71.43%\n",
    "    - Correct answers: 25\n",
    "    - Incorrect answers: 10\n",
    "\n",
    "`Fill the blank v1`:\n",
    "    - Accuracy: 88.57%\n",
    "    - Correct answers: 31\n",
    "    - Incorrect answers: 4\n",
    "\n",
    "`Fill the blank v2`:\n",
    "    - Accuracy: 91.42%\n",
    "    - Correct answers: 33\n",
    "    - Incorrect answers: 2\n"
   ]
  },
  {
   "cell_type": "markdown",
   "metadata": {},
   "source": [
    "### BGP-LLaMA-1-cosine-2k-alpha64:\n",
    "`Multiple Choice v2`:\n",
    "    Accuracy: 51.43%\n",
    "    Correct answers: 18\n",
    "    Incorrect answers: 17\n",
    "\n",
    "`Multiple Choice v1`:\n",
    "    Accuracy: 68.57%\n",
    "    Correct answers: 24\n",
    "    Incorrect answers: 11\n",
    "\n",
    "### BGP-LLaMA-2-cosine-20k-alpha16:\n",
    "`Multiple Choice v1`:\n",
    "    Accuracy: 68.57%\n",
    "    Correct answers: 24\n",
    "    Incorrect answers: 11\n",
    "\n",
    "`Multiple Choice v2`:\n",
    "    Accuracy: 54.29%\n",
    "    Correct answers: 19\n",
    "    Incorrect answers: 16\n",
    "\n",
    "\n",
    "### BGP-LLaMA-2(combined)-cosine-20k-alpha16:\n",
    "`Multiple Choice v1`:\n",
    "    Accuracy: 80.00%\n",
    "    Correct answers: 28\n",
    "    Incorrect answers: 7\n",
    "\n",
    "`Multiple Choice v2`:\n",
    "\n",
    "    Accuracy: 65.71%\n",
    "    Correct answers: 23\n",
    "    Incorrect answers: 12\n",
    "\n",
    "### BGP-LLaMA-13b-2iter-40k-cutoff-max-2048: ??\n",
    "`Multiple Choice v1`:\n",
    "    Accuracy: 77.14%\n",
    "    Correct answers: 27\n",
    "    Incorrect answers: 8\n",
    "\n",
    "    \n",
    "`Multiple Choice v2`:\n",
    "    Accuracy: 62.86%\n",
    "    Correct answers: 22\n",
    "    Incorrect answers: 13\n",
    "\n",
    "`PyBGPStream`: not pass\n",
    "\n",
    "### BGP-LLaMA-13b-3-30k-cutoff-max-2048:\n",
    "`Multiple Choice v1`:\n",
    "    Accuracy: 57.14%\n",
    "    Correct answers: 20\n",
    "    Incorrect answers: 15\n",
    "\n",
    "`Multiple Choice v2`:\n",
    "    Accuracy: 54%\n",
    "\n",
    "`PyBGPStream`: pass\n",
    "\n",
    "### BGP-LLaMA-13b-50k-cutoff-max-2048: \n",
    "`Multiple Choice v1`:\n",
    "    Accuracy: 60.00%\n",
    "    Correct answers: 21\n",
    "    Incorrect answers: 14\n",
    "`PyBGPStream`: pass\n",
    "\n",
    "### BGP-LLaMA-13b-20k-cutoff-max-2048: \n",
    "`Multiple Choice v1`\n",
    "    Accuracy: 48.57%\n",
    "    Correct answers: 17\n",
    "    Incorrect answers: 18\n",
    "`PyBGPStream`: pass\n",
    "\n",
    "\n",
    "### BGP-LLaMA-13b-20k-cutoff-1024-max-none:\n",
    "`Multiple Choice v1`\n",
    "    Accuracy: 45.71%\n",
    "    Correct answers: 16\n",
    "    Incorrect answers: 19\n",
    "`PyBGPStream`: pass\n",
    "\n",
    "\n",
    "### BGP-LLaMA-13b-30k-cutoff-1024-max-none:\n",
    "`Multiple Choice v1`\n",
    "Accuracy: 62.86%\n",
    "Correct answers: 22\n",
    "Incorrect answers: 13\n",
    "\n",
    "`PyBGPStream`: pass\n",
    "\n",
    "\n",
    "### BGP-LLaMA-13b-40k-cutoff-1024-max-none:\n",
    "`Multiple Choice v1`\n",
    "    Accuracy: 48.57%\n",
    "    Correct answers: 17\n",
    "    Incorrect answers: 18\n",
    "`PyBGPStream`: not pass\n",
    "\n",
    "### BGP-LLaMA-13b-50k-cutoff-1024-max-none:\n",
    "`Multiple Choice v1`\n",
    "    Accuracy: 40.00%\n",
    "    Correct answers: 14\n",
    "    Incorrect answers: 21\n",
    "`PyBGPStream`: not pass\n",
    "\n",
    "\n",
    "### BGP-LLaMA26k-13b-30k-cutoff-1024-max-None:\n",
    "`Multiple Choice v1`: not pass\n",
    "\n",
    "`PyBGPStream`: pass\n",
    "\n",
    "### BGP-LLaMA26k-13b-20k-cutoff-1024-max-None:\n",
    "`Multiple Choice v1`:\n",
    "Incorrect\n",
    "Accuracy: 37.14%\n",
    "Correct answers: 13\n",
    "Incorrect answers: 22\n",
    "`PyBGPStream`: pass\n",
    "\n",
    "### BGP-LLaMA26k-13b-10k-cutoff-1024-max-2048\n",
    "`Multiple Choice v1`:\n",
    "Accuracy: 62.86%\n",
    "Correct answers: 22\n",
    "Incorrect answers: 13\n",
    "`PyBGPStream`: pass (better than previous)\n",
    "\n",
    "\n",
    "### BGP-LLaMA26k-13b-5k-cutoff-1024-max-2048 - `Best Combined`\n",
    "`Multiple Choice v1`:\n",
    "Accuracy: 82.86%\n",
    "Correct answers: 29\n",
    "Incorrect answers: 6\n",
    "\n",
    "`Multiple Choice v2`:\n",
    "Accuracy: 71.43%\n",
    "Correct answers: 25\n",
    "Incorrect answers: 10"
   ]
  },
  {
   "cell_type": "markdown",
   "metadata": {},
   "source": [
    "### BGP-LLaMA-knowledge-20k-cutoff-1024-max-2048\n",
    "`Multiple Choice v1`:\n",
    "Accuracy: 62.86%\n",
    "Correct answers: 22\n",
    "Incorrect answers: 13\n",
    "\n",
    "`Multiple Choice v2`:\n",
    "Accuracy: 48.57%\n",
    "Correct answers: 17\n",
    "Incorrect answers: 18\n",
    "\n",
    "### BGP-LLaMA-knowledge-5k-cutoff-1024-max-2048 `best knowledge`\n",
    "`Multiple Choice v1`:\n",
    "Accuracy: 85.71%\n",
    "Correct answers: 30\n",
    "Incorrect answers: 5\n",
    "\n",
    "`Multiple Choice v2`:\n",
    "Accuracy: 71.43%\n",
    "Correct answers: 25\n",
    "Incorrect answers: 10\n",
    "\n",
    "### BGP-LLaMA-knowledge-3k-cutoff-1024-max-2048\n",
    "`Multiple Choice v1`:\n",
    "Accuracy: 82.86%\n",
    "Correct answers: 29\n",
    "Incorrect answers: 6\n",
    "\n",
    "`Multiple Choice v2`:\n",
    "Accuracy: 74.29%\n",
    "Correct answers: 26\n",
    "Incorrect answers: 9\n",
    "\n",
    "### BGP-LLaMA-knowledge-2k-cutoff-1024-max-2048\n",
    "`Multiple Choice v1`:\n",
    "Accuracy: 82.86%\n",
    "Correct answers: 29\n",
    "Incorrect answers: 6\n",
    "\n",
    "`Multiple Choice v2`:\n",
    "Accuracy: 71.43%\n",
    "Correct answers: 25\n",
    "Incorrect answers: 10"
   ]
  },
  {
   "cell_type": "code",
   "execution_count": null,
   "metadata": {},
   "outputs": [],
   "source": []
  }
 ],
 "metadata": {
  "kernelspec": {
   "display_name": "myenv",
   "language": "python",
   "name": "python3"
  },
  "language_info": {
   "codemirror_mode": {
    "name": "ipython",
    "version": 3
   },
   "file_extension": ".py",
   "mimetype": "text/x-python",
   "name": "python",
   "nbconvert_exporter": "python",
   "pygments_lexer": "ipython3",
   "version": "3.8.10"
  },
  "orig_nbformat": 4
 },
 "nbformat": 4,
 "nbformat_minor": 2
}
