{
 "cells": [
  {
   "cell_type": "code",
   "execution_count": 7,
   "metadata": {},
   "outputs": [],
   "source": [
    "import transformers\n",
    "from transformers import (\n",
    "    pipeline,\n",
    "    logging,\n",
    ")\n",
    "from typing import List\n",
    "import torch\n",
    "from torch import cuda, bfloat16\n",
    "from datasets import load_dataset\n",
    "import pandas as pd\n",
    "import matplotlib.pyplot as plt\n",
    "import matplotlib as mpl\n",
    "# import seaborn as sns\n",
    "from pylab import rcParams\n",
    "import os"
   ]
  },
  {
   "cell_type": "code",
   "execution_count": 8,
   "metadata": {},
   "outputs": [
    {
     "data": {
      "application/vnd.jupyter.widget-view+json": {
       "model_id": "4220080138304d18974628899eee8654",
       "version_major": 2,
       "version_minor": 0
      },
      "text/plain": [
       "Downloading config.json:   0%|          | 0.00/614 [00:00<?, ?B/s]"
      ]
     },
     "metadata": {},
     "output_type": "display_data"
    },
    {
     "data": {
      "application/vnd.jupyter.widget-view+json": {
       "model_id": "0db38a95aee148878c661e522fee0a0b",
       "version_major": 2,
       "version_minor": 0
      },
      "text/plain": [
       "Downloading (…)model.bin.index.json:   0%|          | 0.00/26.8k [00:00<?, ?B/s]"
      ]
     },
     "metadata": {},
     "output_type": "display_data"
    },
    {
     "data": {
      "application/vnd.jupyter.widget-view+json": {
       "model_id": "5e1bf20a2b914ca4879ef9243cefb6f4",
       "version_major": 2,
       "version_minor": 0
      },
      "text/plain": [
       "Downloading shards:   0%|          | 0/2 [00:00<?, ?it/s]"
      ]
     },
     "metadata": {},
     "output_type": "display_data"
    },
    {
     "data": {
      "application/vnd.jupyter.widget-view+json": {
       "model_id": "fd25ff01f489402ba7c53cf2fee9847b",
       "version_major": 2,
       "version_minor": 0
      },
      "text/plain": [
       "Downloading (…)l-00001-of-00002.bin:   0%|          | 0.00/9.98G [00:00<?, ?B/s]"
      ]
     },
     "metadata": {},
     "output_type": "display_data"
    },
    {
     "data": {
      "application/vnd.jupyter.widget-view+json": {
       "model_id": "27ac7e4dfe964946b8f73142a7c82477",
       "version_major": 2,
       "version_minor": 0
      },
      "text/plain": [
       "Downloading (…)l-00002-of-00002.bin:   0%|          | 0.00/3.50G [00:00<?, ?B/s]"
      ]
     },
     "metadata": {},
     "output_type": "display_data"
    },
    {
     "data": {
      "application/vnd.jupyter.widget-view+json": {
       "model_id": "7290f45ba3c746a4b89155cb4d066e76",
       "version_major": 2,
       "version_minor": 0
      },
      "text/plain": [
       "Loading checkpoint shards:   0%|          | 0/2 [00:00<?, ?it/s]"
      ]
     },
     "metadata": {},
     "output_type": "display_data"
    },
    {
     "data": {
      "application/vnd.jupyter.widget-view+json": {
       "model_id": "1490a9f03c8b4a44ab15bc7847cbe7d4",
       "version_major": 2,
       "version_minor": 0
      },
      "text/plain": [
       "Downloading generation_config.json:   0%|          | 0.00/116 [00:00<?, ?B/s]"
      ]
     },
     "metadata": {},
     "output_type": "display_data"
    },
    {
     "name": "stdout",
     "output_type": "stream",
     "text": [
      "Model loaded on cuda:0\n"
     ]
    }
   ],
   "source": [
    "model_id = 'hyonbokan/llama7_5G_analysis_pcap_5kEpoch'\n",
    "\n",
    "device = f'cuda:{cuda.current_device()}' if cuda.is_available() else 'cpu'\n",
    "\n",
    "\n",
    "# Need auth token for these\n",
    "hf_auth = os.environ.get('hf_token')\n",
    "\n",
    "model_config = transformers.AutoConfig.from_pretrained(\n",
    "    model_id,\n",
    "    use_auth_token=hf_auth\n",
    ")\n",
    "\n",
    "model = transformers.AutoModelForCausalLM.from_pretrained(\n",
    "    model_id,\n",
    "    trust_remote_code=True,\n",
    "    config=model_config,\n",
    "    # quantization_config=bnb_config,\n",
    "    device_map='auto',\n",
    "    use_auth_token=hf_auth\n",
    ")\n",
    "\n",
    "\n",
    "model.eval()\n",
    "print(f\"Model loaded on {device}\")"
   ]
  },
  {
   "cell_type": "code",
   "execution_count": 9,
   "metadata": {},
   "outputs": [
    {
     "data": {
      "application/vnd.jupyter.widget-view+json": {
       "model_id": "66c04615b9934fca845bf4555ad94ab8",
       "version_major": 2,
       "version_minor": 0
      },
      "text/plain": [
       "Downloading tokenizer_config.json:   0%|          | 0.00/1.57k [00:00<?, ?B/s]"
      ]
     },
     "metadata": {},
     "output_type": "display_data"
    },
    {
     "data": {
      "application/vnd.jupyter.widget-view+json": {
       "model_id": "99358b28d5bd4c0e9114575cadd825bc",
       "version_major": 2,
       "version_minor": 0
      },
      "text/plain": [
       "Downloading tokenizer.model:   0%|          | 0.00/500k [00:00<?, ?B/s]"
      ]
     },
     "metadata": {},
     "output_type": "display_data"
    },
    {
     "data": {
      "application/vnd.jupyter.widget-view+json": {
       "model_id": "a3e645a2f7b741d2b1e3638cc819dc74",
       "version_major": 2,
       "version_minor": 0
      },
      "text/plain": [
       "Downloading tokenizer.json:   0%|          | 0.00/1.84M [00:00<?, ?B/s]"
      ]
     },
     "metadata": {},
     "output_type": "display_data"
    },
    {
     "data": {
      "application/vnd.jupyter.widget-view+json": {
       "model_id": "d8b0f0efb2a54fba8ed7f55b778d3bc3",
       "version_major": 2,
       "version_minor": 0
      },
      "text/plain": [
       "Downloading (…)cial_tokens_map.json:   0%|          | 0.00/437 [00:00<?, ?B/s]"
      ]
     },
     "metadata": {},
     "output_type": "display_data"
    }
   ],
   "source": [
    "tokenizer = transformers.AutoTokenizer.from_pretrained(\n",
    "    model_id,\n",
    "    use_auth_token=hf_auth\n",
    ")\n",
    "\n",
    "tokenizer.pad_token = tokenizer.eos_token\n",
    "# tokenizer.pad_token_id = tokenizer.eos_token_id\n",
    "tokenizer.padding_side = \"right\""
   ]
  },
  {
   "cell_type": "code",
   "execution_count": 10,
   "metadata": {},
   "outputs": [
    {
     "name": "stdout",
     "output_type": "stream",
     "text": [
      "<s>[INST] Given a n3.pcap file containing network traffic data, create a Python script to process the PCAP. The script should extract the source IP, destination IP, source port, destination port, and the raw payload data for each packet in the PCAP. Store this data in a pandas DataFrame and display it. [/INST]  Sure, here is an example of a Python script that can be used to process a pcap file containing 5G network traffic data and extract the relevant information about each packet, including the source IP, destination IP, source port, destination port, and the raw payload data:\n",
      "\n",
      "import pandas as pd\n",
      "from scapy.all import *\n",
      "\n",
      "# Load the pcap file\n",
      "packets = rdpcap('/path/to/n3.pcap')\n",
      "\n",
      "# Create a DataFrame to store the packet information\n",
      "df = pd.DataFrame(columns=['Source IP', 'Destination IP', 'Source Port', 'Destination Port', 'Raw Payload'])\n",
      "\n",
      "# Iterate through each packet and extract the relevant information\n",
      "for packet in packets:\n",
      "    # Extract the source IP\n",
      "    src_ip = packet[IP].src\n",
      "    # Extract the source port\n",
      "    src_port = packet[TCP].sport\n",
      "    # Extract the destination IP\n",
      "    dst_ip = packet[IP].dst\n",
      "    # Extract the destination port\n",
      "    dst_port = packet[TCP].dport\n",
      "    # Extract the raw payload data\n",
      "    raw_payload = packet.show()\n",
      "\n",
      "    # Add the data to the DataFrame\n",
      "    df = df.append({'Source IP': src_ip, 'Destination IP': dst_ip, 'Source Port': src_port, 'Destination Port': dst_port, 'Raw Payload': raw_payload}, ignore_index=True)\n",
      "\n",
      "# Print the DataFrame\n",
      "print(df)\n",
      "\n",
      " \n",
      "§ END OF DOC\n",
      "# # # # # # # # # # # # # # # # # # # # # # # # # # # # # # # # # # # # # # # # # # # # # # # # # # # # # # # # # # # # # # # # # # # # # # # # # # # # # # # # # # # # # # # # # # # # # # # # # # # # # # # # # # # # # # # # # # # # # # # # # # # # # # # # # # # # # # # # # # # # # # # # # # # # # # # # # # # # # # # # # # # # # # # # # # # # # # # # # # # # # # # # # # # # # # # # # # # # # # # # # # # # # # # # # # # # # # # # # # # # # # # # # # # # # # # # # # # # # # # # # # # # # # # # # # # # # # # # # # # # # # # # # # # # # # # # # # # # # # # # # # # # # # # # # #\n"
     ]
    }
   ],
   "source": [
    "logging.set_verbosity(logging.CRITICAL)\n",
    "\n",
    "# Run text generation pipeline with our next model\n",
    "prompt = \"Given a n3.pcap file containing network traffic data, create a Python script to process the PCAP. The script should extract the source IP, destination IP, source port, destination port, and the raw payload data for each packet in the PCAP. Store this data in a pandas DataFrame and display it.\"\n",
    "pipe = pipeline(task=\"text-generation\", model=model, tokenizer=tokenizer, max_length=712)\n",
    "result = pipe(f\"<s>[INST] {prompt} [/INST]\")\n",
    "print(result[0]['generated_text'])"
   ]
  },
  {
   "cell_type": "code",
   "execution_count": 11,
   "metadata": {},
   "outputs": [
    {
     "name": "stdout",
     "output_type": "stream",
     "text": [
      "<s>[INST] Generate Python code to calculate 5G network performance KPIs: Total Network Capacity, Capacity per Area, Capacity per Point, Cost per Capacity, Cost per Area, and Surplus per Area. Load data from '5G_Infrastructure/demand_driven_postcode_data_results.csv'. Use keywords: 'capacity', 'cost', 'area', 'numpoints' to identify relevant columns. [/INST]  Certainly! Here is an example of Python code that can be used to calculate 5G network performance KPIs from the '5G_Infrastructure/demand_driven_postcode_data_results.csv' file:\n",
      "\n",
      "import pandas as pd\n",
      "import matplotlib.pyplot as plt\n",
      "\n",
      "# Read the data\n",
      "df = pd.read_csv('5G_Infrastructure/demand_driven_postcode_data_results.csv')\n",
      "\n",
      "# Calculate total network capacity\n",
      "capacity_per_area = df['capacity_per_area'].mean()\n",
      "capacity_per_point = df['capacity_per_point'].mean()\n",
      "\n",
      "# Calculate cost per capacity\n",
      "cost_per_capacity = df['cost_per_capacity'].mean()\n",
      "\n",
      "# Calculate capacity per area\n",
      "capacity_per_area_avg = df['capacity_per_area'].mean()\n",
      "\n",
      "# Calculate cost per area\n",
      "cost_per_area_avg = df['cost_per_area'].mean()\n",
      "\n",
      "# Calculate surplus per area\n",
      "surplus_per_area_avg = df['surplus_per_area'].mean()\n",
      "\n",
      "# Plot the results\n",
      "plt.plot(df['capacity_per_area'], label='Capacity per Area')\n",
      "plt.plot(df['capacity_per_point'], label='Capacity per Point')\n",
      "plt.plot(df['cost_per_capacity'], label='Cost per Capacity')\n",
      "plt.plot(df['capacity_per_area_avg'], label='Capacity per Area (Average)')\n",
      "plt.plot(df['cost_per_area_avg'], label='Cost per Area (Average)')\n",
      "plt.plot(df['surplus_per_area_avg'], label='Surplus per Area (Average)')\n",
      "plt.legend()\n",
      "plt.title('5G Network Performance KPIs')\n",
      "plt.xlabel('Metric')\n",
      "plt.ylabel('Value')\n",
      "plt.show()\n",
      "\n",
      "# Output the results\n",
      "print('Total Network Capacity: {}'.format(capacity_per_area))\n",
      "print('Capacity per Area: {}'.format(capacity_per_area_avg))\n",
      "print('Capacity per Point: {}'.format(capacity_per_point))\n",
      "print('Cost per Capacity: {}'.format(cost_per_capacity))\n",
      "print('Cost per Area: {}'.format(cost_per_area_avg))\n",
      "print('Surplus per Area: {}'.format(surplus_per_area_avg))\n",
      "\n",
      "# Output the results\n",
      "print('Total Network Capacity: {}'.format(capacity_per_area))\n",
      "print('Capacity per Area: {}'.format(capacity_per_area_avg))\n",
      "print('Capacity per Point: {}'.format(capacity_per_point))\n",
      "print('Cost per Capacity: {}'.format(cost_per_capacity))\n",
      "print('Cost per Area: {}'.format(cost_per_area_avg))\n",
      "print('Surplus per Area: {}'.format(surplus_per_area_avg))\n",
      "\n",
      "# Output the results\n",
      "print('Total Network Capacity: {}'.format(capacity_per_area))\n",
      "print('Capacity per Area: {}'.format(capacity_per_area_avg))\n",
      "print('Capacity per Point: {}'.format(capacity_per_point))\n",
      "print('Cost per Capacity: {}'.format(cost_per_capacity))\n",
      "print('Cost per Area: {}'.format(cost_per_area_avg))\n",
      "print('Surplus per Area: {}'.format(surplus_per_area_avg))\n",
      "\n",
      "# Output the results\n",
      "print('Total Network Capacity: {}'.format(capacity_per_area))\n",
      "print('Capacity per Area: {}'.format(capacity_per_area_avg))\n",
      "print('Capacity per Point: {}'.format(capacity_per_point))\n",
      "print('Cost per Capacity:\n"
     ]
    }
   ],
   "source": [
    "logging.set_verbosity(logging.CRITICAL)\n",
    "\n",
    "# Run text generation pipeline with our next model\n",
    "prompt = \"Generate Python code to calculate 5G network performance KPIs: Total Network Capacity, Capacity per Area, Capacity per Point, Cost per Capacity, Cost per Area, and Surplus per Area. Load data from '5G_Infrastructure/demand_driven_postcode_data_results.csv'. Use keywords: 'capacity', 'cost', 'area', 'numpoints' to identify relevant columns.\"\n",
    "pipe = pipeline(task=\"text-generation\", model=model, tokenizer=tokenizer, max_length=1024)\n",
    "result = pipe(f\"<s>[INST] {prompt} [/INST]\")\n",
    "print(result[0]['generated_text'])"
   ]
  },
  {
   "cell_type": "code",
   "execution_count": null,
   "metadata": {},
   "outputs": [],
   "source": []
  }
 ],
 "metadata": {
  "kernelspec": {
   "display_name": "myenv",
   "language": "python",
   "name": "python3"
  },
  "language_info": {
   "codemirror_mode": {
    "name": "ipython",
    "version": 3
   },
   "file_extension": ".py",
   "mimetype": "text/x-python",
   "name": "python",
   "nbconvert_exporter": "python",
   "pygments_lexer": "ipython3",
   "version": "3.8.16"
  },
  "orig_nbformat": 4
 },
 "nbformat": 4,
 "nbformat_minor": 2
}
