{
 "cells": [
  {
   "cell_type": "code",
   "execution_count": 1,
   "metadata": {},
   "outputs": [],
   "source": [
    "import transformers\n",
    "from transformers import (\n",
    "    pipeline,\n",
    "    logging,\n",
    ")\n",
    "from typing import List\n",
    "import torch\n",
    "from torch import cuda, bfloat16\n",
    "from datasets import load_dataset\n",
    "import pandas as pd\n",
    "import matplotlib.pyplot as plt\n",
    "import matplotlib as mpl\n",
    "# import seaborn as sns\n",
    "from pylab import rcParams\n",
    "import os"
   ]
  },
  {
   "cell_type": "code",
   "execution_count": 2,
   "metadata": {},
   "outputs": [
    {
     "data": {
      "application/vnd.jupyter.widget-view+json": {
       "model_id": "f14fc82b175a4981ae0eded593b20285",
       "version_major": 2,
       "version_minor": 0
      },
      "text/plain": [
       "Downloading (…)model.bin.index.json:   0%|          | 0.00/33.4k [00:00<?, ?B/s]"
      ]
     },
     "metadata": {},
     "output_type": "display_data"
    },
    {
     "data": {
      "application/vnd.jupyter.widget-view+json": {
       "model_id": "6c482cf8c2114414b82a6a464bf4c97b",
       "version_major": 2,
       "version_minor": 0
      },
      "text/plain": [
       "Downloading shards:   0%|          | 0/3 [00:00<?, ?it/s]"
      ]
     },
     "metadata": {},
     "output_type": "display_data"
    },
    {
     "data": {
      "application/vnd.jupyter.widget-view+json": {
       "model_id": "e6c93c249f134b40ade520b504d5b2e7",
       "version_major": 2,
       "version_minor": 0
      },
      "text/plain": [
       "Downloading (…)l-00001-of-00003.bin:   0%|          | 0.00/9.95G [00:00<?, ?B/s]"
      ]
     },
     "metadata": {},
     "output_type": "display_data"
    },
    {
     "data": {
      "application/vnd.jupyter.widget-view+json": {
       "model_id": "315d2b8d3f824631b992fe48936f657e",
       "version_major": 2,
       "version_minor": 0
      },
      "text/plain": [
       "Downloading (…)l-00002-of-00003.bin:   0%|          | 0.00/9.90G [00:00<?, ?B/s]"
      ]
     },
     "metadata": {},
     "output_type": "display_data"
    },
    {
     "data": {
      "application/vnd.jupyter.widget-view+json": {
       "model_id": "cd7f9141735746c792fe21cc595b219e",
       "version_major": 2,
       "version_minor": 0
      },
      "text/plain": [
       "Downloading (…)l-00003-of-00003.bin:   0%|          | 0.00/6.18G [00:00<?, ?B/s]"
      ]
     },
     "metadata": {},
     "output_type": "display_data"
    },
    {
     "data": {
      "application/vnd.jupyter.widget-view+json": {
       "model_id": "411c6ab0965c43d3b987c73fc37b85ae",
       "version_major": 2,
       "version_minor": 0
      },
      "text/plain": [
       "Loading checkpoint shards:   0%|          | 0/3 [00:00<?, ?it/s]"
      ]
     },
     "metadata": {},
     "output_type": "display_data"
    },
    {
     "data": {
      "application/vnd.jupyter.widget-view+json": {
       "model_id": "7b851270932e47e3aba6a81a2ec3612a",
       "version_major": 2,
       "version_minor": 0
      },
      "text/plain": [
       "Downloading generation_config.json:   0%|          | 0.00/116 [00:00<?, ?B/s]"
      ]
     },
     "metadata": {},
     "output_type": "display_data"
    },
    {
     "name": "stdout",
     "output_type": "stream",
     "text": [
      "Model loaded on cuda:0\n"
     ]
    }
   ],
   "source": [
    "model_id = 'hyonbokan/mobile_llama_2kEpoch'\n",
    "\n",
    "device = f'cuda:{cuda.current_device()}' if cuda.is_available() else 'cpu'\n",
    "\n",
    "\n",
    "# Need auth token for these\n",
    "hf_auth = os.environ.get('hf_token')\n",
    "\n",
    "model_config = transformers.AutoConfig.from_pretrained(\n",
    "    model_id,\n",
    "    use_auth_token=hf_auth\n",
    ")\n",
    "\n",
    "model = transformers.AutoModelForCausalLM.from_pretrained(\n",
    "    model_id,\n",
    "    trust_remote_code=True,\n",
    "    config=model_config,\n",
    "    # quantization_config=bnb_config,\n",
    "    device_map='auto',\n",
    "    use_auth_token=hf_auth\n",
    ")\n",
    "\n",
    "\n",
    "model.eval()\n",
    "print(f\"Model loaded on {device}\")"
   ]
  },
  {
   "cell_type": "code",
   "execution_count": 3,
   "metadata": {},
   "outputs": [
    {
     "data": {
      "application/vnd.jupyter.widget-view+json": {
       "model_id": "a8f967439ada4f5d93cd95413915c7d8",
       "version_major": 2,
       "version_minor": 0
      },
      "text/plain": [
       "Downloading tokenizer_config.json:   0%|          | 0.00/1.57k [00:00<?, ?B/s]"
      ]
     },
     "metadata": {},
     "output_type": "display_data"
    },
    {
     "data": {
      "application/vnd.jupyter.widget-view+json": {
       "model_id": "f3329d2ed7174d118bd5d4093848911f",
       "version_major": 2,
       "version_minor": 0
      },
      "text/plain": [
       "Downloading tokenizer.model:   0%|          | 0.00/500k [00:00<?, ?B/s]"
      ]
     },
     "metadata": {},
     "output_type": "display_data"
    },
    {
     "data": {
      "application/vnd.jupyter.widget-view+json": {
       "model_id": "5641479ba341425e8f19932aa78a3b2c",
       "version_major": 2,
       "version_minor": 0
      },
      "text/plain": [
       "Downloading tokenizer.json:   0%|          | 0.00/1.84M [00:00<?, ?B/s]"
      ]
     },
     "metadata": {},
     "output_type": "display_data"
    },
    {
     "data": {
      "application/vnd.jupyter.widget-view+json": {
       "model_id": "7adc2a6a57ef46be8b48a1afb874cb49",
       "version_major": 2,
       "version_minor": 0
      },
      "text/plain": [
       "Downloading (…)cial_tokens_map.json:   0%|          | 0.00/437 [00:00<?, ?B/s]"
      ]
     },
     "metadata": {},
     "output_type": "display_data"
    }
   ],
   "source": [
    "tokenizer = transformers.AutoTokenizer.from_pretrained(\n",
    "    model_id,\n",
    "    use_auth_token=hf_auth\n",
    ")\n",
    "\n",
    "tokenizer.pad_token = tokenizer.eos_token\n",
    "# tokenizer.pad_token_id = tokenizer.eos_token_id\n",
    "tokenizer.padding_side = \"right\""
   ]
  },
  {
   "cell_type": "code",
   "execution_count": 4,
   "metadata": {},
   "outputs": [
    {
     "name": "stdout",
     "output_type": "stream",
     "text": [
      "<s>[INST] Given a n3.pcap file containing network traffic data, create a Python script using Scapy to process the PCAP. The script should extract the source IP, destination IP, source port, destination port, and the raw payload data for each packet in the PCAP. Store this data in a pandas DataFrame and display it. [/INST]  Sure! Here is a Python script using Scapy to process a n3.pcap file and extract the source IP, destination IP, source port, destination port, and the raw payload data for each packet in the PCAP. The script stores this data in a pandas DataFrame and displays it.\n",
      "```\n",
      "import pandas as pd\n",
      "import scapy.all as scapy\n",
      "\n",
      "# Specify the PCAP file path\n",
      "pcap_file = '/path/to/n3.pcap'\n",
      "\n",
      "try:\n",
      "    packets = scapy.rdpcap(pcap_file)  # Read the PCAP file\n",
      "\n",
      "    # Initialize an empty DataFrame\n",
      "    df = pd.DataFrame(columns=['Source IP', 'Destination IP', 'Source Port', 'Destination Port', 'Raw Payload'])\n",
      "\n",
      "    for packet in packets:\n",
      "        # Extract the source IP and destination IP\n",
      "        source_ip = packet[IP].src\n",
      "        destination_ip = packet[IP].dst\n",
      "\n",
      "        # Extract the source port and destination port\n",
      "        source_port = packet[TCP].sport\n",
      "        destination_port = packet[TCP].dport\n",
      "\n",
      "        # Extract the raw payload data\n",
      "        payload = packet.show()\n",
      "\n",
      "        # Add the data to the DataFrame\n",
      "        df = df.append({'Source IP': source_ip, 'Destination IP': destination_ip, 'Source Port': source_port, 'Destination Port': destination_port, 'Raw Payload': payload}, ignore_index=True)\n",
      "\n",
      "    # Display the DataFrame\n",
      "    print(df)\n",
      "\n",
      "except Exception as e:\n",
      "    print(f\"An error occurred: {str(e)}\")\n",
      "```\n",
      "Here's an explanation of the code:\n",
      "\n",
      "1. `import pandas as pd`: Import the pandas library.\n",
      "2. `import scapy.all as scapy`: Import the Scapy library.\n",
      "3. `import scapy.rdpcap(pcap_file)`: Read the PCAP file.\n",
      "4. `packets = scapy.rdpcap(pcap_file)`: Read the PCAP file.\n",
      "5. `df = pd.DataFrame(columns=['Source IP', 'Destination IP', 'Source Port', 'Destination Port', 'Raw Payload'])`: Initialize an empty DataFrame.\n",
      "6. `for packet in packets:` : Loop through each packet in the PCAP.\n",
      "7. `source_ip = packet[IP].src`: Extract the source IP.\n",
      "8. `destination_ip = packet[IP].dst`: Extract the destination IP.\n",
      "9. `source_port = packet[TCP].sport`: Extract the source port.\n",
      "10. `destination_port = packet[TCP].dport`: Extract the destination port.\n",
      "11. `payload = packet.show()`: Extract the raw payload data.\n"
     ]
    }
   ],
   "source": [
    "logging.set_verbosity(logging.CRITICAL)\n",
    "\n",
    "# Run text generation pipeline with our next model\n",
    "prompt = \"Given a n3.pcap file containing network traffic data, create a Python script using Scapy to process the PCAP. The script should extract the source IP, destination IP, source port, destination port, and the raw payload data for each packet in the PCAP. Store this data in a pandas DataFrame and display it.\"\n",
    "pipe = pipeline(task=\"text-generation\", model=model, tokenizer=tokenizer, max_length=712)\n",
    "result = pipe(f\"<s>[INST] {prompt} [/INST]\")\n",
    "print(result[0]['generated_text'])"
   ]
  },
  {
   "cell_type": "code",
   "execution_count": 7,
   "metadata": {},
   "outputs": [
    {
     "name": "stdout",
     "output_type": "stream",
     "text": [
      "An error occurred: Layer [TCP] not found\n"
     ]
    }
   ],
   "source": [
    "import pandas as pd\n",
    "import scapy.all as scapy\n",
    "\n",
    "# Specify the PCAP file path\n",
    "pcap_file = '/home/hb/5G_dataset/n3_example.pcap'\n",
    "\n",
    "try:\n",
    "    packets = scapy.rdpcap(pcap_file)  # Read the PCAP file\n",
    "\n",
    "    # Initialize an empty DataFrame\n",
    "    df = pd.DataFrame(columns=['Source IP', 'Destination IP', 'Source Port', 'Destination Port', 'Raw Payload'])\n",
    "\n",
    "    for packet in packets:\n",
    "        # Extract the source IP and destination IP\n",
    "        source_ip = packet[IP].src\n",
    "        destination_ip = packet[IP].dst\n",
    "\n",
    "        # Extract the source port and destination port\n",
    "        source_port = packet[TCP].sport\n",
    "        destination_port = packet[TCP].dport\n",
    "\n",
    "        # Extract the raw payload data\n",
    "        payload = packet.show()\n",
    "\n",
    "        # Add the data to the DataFrame\n",
    "        df = df.append({'Source IP': source_ip, 'Destination IP': destination_ip, 'Source Port': source_port, 'Destination Port': destination_port, 'Raw Payload': payload}, ignore_index=True)\n",
    "\n",
    "    # Display the DataFrame\n",
    "    print(df)\n",
    "\n",
    "except Exception as e:\n",
    "    print(f\"An error occurred: {str(e)}\")"
   ]
  },
  {
   "cell_type": "code",
   "execution_count": 8,
   "metadata": {},
   "outputs": [
    {
     "name": "stdout",
     "output_type": "stream",
     "text": [
      "<s>[INST] Generate Python code to calculate 5G network performance KPIs: Total Network Capacity, Capacity per Area, Capacity per Point, Cost per Capacity, Cost per Area, and Surplus per Area. Load data from '5G_Infrastructure/demand_driven_postcode_data_results.csv'. Use keywords: 'capacity', 'cost', 'area', 'numpoints' to identify relevant columns. [/INST]  Sure! Here is the Python code to calculate 5G network performance KPIs from the '5G_Infrastructure/demand_driven_postcode_data_results.csv' file:\n",
      "```\n",
      "import pandas as pd\n",
      "import numpy as np\n",
      "\n",
      "# Load the CSV file\n",
      "df = pd.read_csv('5G_Infrastructure/demand_driven_postcode_data_results.csv')\n",
      "\n",
      "# Calculate total network capacity\n",
      "total_capacity = df['Capacity'].sum()\n",
      "\n",
      "# Calculate capacity per area\n",
      "capacity_per_area = df['Capacity'].div(df['Area'], axis=0)\n",
      "\n",
      "# Calculate capacity per point\n",
      "capacity_per_point = df['Capacity'].div(df['NumPoints'], axis=0)\n",
      "\n",
      "# Calculate cost per capacity\n",
      "cost_per_capacity = df['Cost'].div(df['Capacity'], axis=0)\n",
      "\n",
      "# Calculate cost per area\n",
      "cost_per_area = df['Cost'].div(df['Area'], axis=0)\n",
      "\n",
      "# Calculate surplus per area\n",
      "surplus_per_area = df['Capacity'].sub(df['Cost'], axis=0)\n",
      "\n",
      "# Print the results\n",
      "print(\"Total Network Capacity:\", total_capacity)\n",
      "print(\"Capacity per Area:\", capacity_per_area)\n",
      "print(\"Capacity per Point:\", capacity_per_point)\n",
      "print(\"Cost per Capacity:\", cost_per_capacity)\n",
      "print(\"Cost per Area:\", cost_per_area)\n",
      "print(\"Surplus per Area:\", surplus_per_area)\n",
      "```\n",
      "This code calculates the following KPIs:\n",
      "\n",
      "1. Total Network Capacity: The total capacity of the 5G network.\n",
      "2. Capacity per Area: The capacity of the 5G network per area.\n",
      "3. Capacity per Point: The capacity of the 5G network per point.\n",
      "4. Cost per Capacity: The cost of the 5G network per capacity.\n",
      "5. Cost per Area: The cost of the 5G network per area.\n",
      "6. Surplus per Area: The surplus of the 5G network per area.\n",
      "\n",
      "The code uses the pandas library to load the CSV file and perform the calculations. The 'df' variable contains the data from the CSV file. The 'total_capacity', 'capacity_per_area', 'capacity_per_point', 'cost_per_capacity', 'cost_per_area', and'surplus_per_area' variables are calculated using the pandas library's'sum', 'div', and'sub' functions. Finally, the results are printed using the print() function.\n",
      "\n",
      "Note that the code assumes that the CSV file contains the following columns: 'Capacity', 'Cost', 'Area', and 'NumPoints'. If the CSV file contains additional columns, you may need to modify the code to exclude those columns.\n"
     ]
    }
   ],
   "source": [
    "# Run text generation pipeline with our next model\n",
    "prompt = \"Generate Python code to calculate 5G network performance KPIs: Total Network Capacity, Capacity per Area, Capacity per Point, Cost per Capacity, Cost per Area, and Surplus per Area. Load data from '5G_Infrastructure/demand_driven_postcode_data_results.csv'. Use keywords: 'capacity', 'cost', 'area', 'numpoints' to identify relevant columns.\"\n",
    "pipe = pipeline(task=\"text-generation\", model=model, tokenizer=tokenizer, max_length=1024)\n",
    "result = pipe(f\"<s>[INST] {prompt} [/INST]\")\n",
    "print(result[0]['generated_text'])"
   ]
  },
  {
   "cell_type": "code",
   "execution_count": 9,
   "metadata": {},
   "outputs": [
    {
     "name": "stdout",
     "output_type": "stream",
     "text": [
      "<s>[INST] Perform BGP analysis using PyBGPStream and detect anomalies in AS path lengths for IPv4 prefixes over two time periods: from January 15, 2020, 15:00 to January 15, 2020, 17:00, and January 18, 2020, 12:00 to January 18, 2020, 13:00. [/INST]  Sure! Here's an example of how you could perform BGP analysis using PyBGPStream and detect anomalies in AS path lengths for IPv4 prefixes over two time periods:\n",
      "\n",
      "1. Install PyBGPStream:\n",
      "```\n",
      "pip install pybgpstream\n",
      "```\n",
      "2. Initialize PyBGPStream:\n",
      "```\n",
      "stream = pybgpstream.BGPStream(\n",
      "    from_time=\"2020-01-15 15:00:00\",\n",
      "    until_time=\"2020-01-15 17:00:00\",\n",
      "    collectors=[\"rrc00\"],\n",
      "    record_type=\"updates\",\n",
      "    filter=\"ipversion 4\"\n",
      ")\n",
      "```\n",
      "3. Initialize a list to store the AS path lengths:\n",
      "```\n",
      "as_path_lengths = []\n",
      "```\n",
      "4. Loop through the stream records:\n",
      "```\n",
      "for rec in stream.records():\n",
      "    for elem in rec:\n",
      "        if elem.type == \"A\":\n",
      "            as_path = elem.fields[\"as-path\"].split()\n",
      "            as_path_length = len(as_path)\n",
      "            as_path_lengths.append(as_path_length)\n",
      "```\n",
      "5. Calculate the average AS path length for each time period:\n",
      "```\n",
      "avg_as_path_length_15_17 = sum(as_path_lengths) / len(as_path_lengths)\n",
      "avg_as_path_length_18_13 = sum(as_path_lengths) / len(as_path_lengths)\n",
      "```\n",
      "6. Detect anomalies in AS path lengths:\n",
      "```\n",
      "anomalies_15_17 = []\n",
      "for i in range(len(as_path_lengths)):\n",
      "    if as_path_lengths[i] > avg_as_path_length_15_17 + 2:\n",
      "        anomalies_15_17.append(as_path_lengths[i])\n",
      "\n",
      "anomalies_18_13 = []\n",
      "for i in range(len(as_path_lengths)):\n",
      "    if as_path_lengths[i] > avg_as_path_length_18_13 + 2:\n",
      "        anomalies_18_13.append(as_path_lengths[i])\n",
      "```\n",
      "7. Visualize the results:\n",
      "```\n",
      "import matplotlib.pyplot as plt\n",
      "\n",
      "plt.plot(as_path_lengths, label=\"Average AS Path Length\")\n",
      "plt.scatter(anomalies_1\n"
     ]
    }
   ],
   "source": [
    "# Run text generation pipeline with our next model\n",
    "prompt = \"Perform BGP analysis using PyBGPStream and detect anomalies in AS path lengths for IPv4 prefixes over two time periods: from January 15, 2020, 15:00 to January 15, 2020, 17:00, and January 18, 2020, 12:00 to January 18, 2020, 13:00.\"\n",
    "pipe = pipeline(task=\"text-generation\", model=model, tokenizer=tokenizer, max_length=718)\n",
    "result = pipe(f\"<s>[INST] {prompt} [/INST]\")\n",
    "print(result[0]['generated_text'])"
   ]
  },
  {
   "cell_type": "markdown",
   "metadata": {},
   "source": [
    "# Examples of Pcap"
   ]
  },
  {
   "cell_type": "code",
   "execution_count": null,
   "metadata": {},
   "outputs": [],
   "source": [
    "import pandas as pd\n",
    "from scapy.all import *\n",
    "\n",
    "# Specify the PCAP file path\n",
    "pcap_file = '5G_data/n3_example.pcap'\n",
    "\n",
    "try:\n",
    "    packets = rdpcap(pcap_file)  # Read the PCAP file\n",
    "    print(f\"Total packets in the capture: {len(packets)}\\n\")\n",
    "\n",
    "    # Create a list to store packet data\n",
    "    packet_data = []\n",
    "\n",
    "    for packet in packets:\n",
    "        src_ip, dst_ip, src_port, dst_port, raw_data = '', '', '', '', ''\n",
    "        \n",
    "        if IP in packet:\n",
    "            print(\"IP found\")\n",
    "            # Extract IP information\n",
    "            src_ip = packet[IP].src\n",
    "            dst_ip = packet[IP].dst\n",
    "\n",
    "        if TCP in packet:\n",
    "            print(\"TCP found\")\n",
    "            # Extract TCP information\n",
    "            src_port = packet[TCP].sport\n",
    "            dst_port = packet[TCP].dport\n",
    "\n",
    "        if Raw in packet:\n",
    "            print(\"Raw found\")\n",
    "            # Extract and append raw data (payload)\n",
    "            raw_data = packet[Raw].load\n",
    "        packet_data.append([src_ip, dst_ip, src_port, dst_port, raw_data])\n",
    "    \n",
    "    # Create a DataFrame from the packet data\n",
    "    df = pd.DataFrame(packet_data, columns=['Source IP', 'Destination IP', 'Source Port', 'Destination Port', 'Raw Data'])\n",
    "    \n",
    "    # Display the DataFrame\n",
    "    display(df)\n",
    "\n",
    "except Exception as e:\n",
    "    print(f\"An error occurred: {str(e)}\")"
   ]
  },
  {
   "cell_type": "code",
   "execution_count": 2,
   "metadata": {},
   "outputs": [
    {
     "name": "stdout",
     "output_type": "stream",
     "text": [
      "Total packets in the capture: 92\n",
      "\n"
     ]
    },
    {
     "data": {
      "text/html": [
       "<div>\n",
       "<style scoped>\n",
       "    .dataframe tbody tr th:only-of-type {\n",
       "        vertical-align: middle;\n",
       "    }\n",
       "\n",
       "    .dataframe tbody tr th {\n",
       "        vertical-align: top;\n",
       "    }\n",
       "\n",
       "    .dataframe thead th {\n",
       "        text-align: right;\n",
       "    }\n",
       "</style>\n",
       "<table border=\"1\" class=\"dataframe\">\n",
       "  <thead>\n",
       "    <tr style=\"text-align: right;\">\n",
       "      <th></th>\n",
       "      <th>Timestamp</th>\n",
       "      <th>Source MAC</th>\n",
       "      <th>Destination MAC</th>\n",
       "      <th>Source IP</th>\n",
       "      <th>Destination IP</th>\n",
       "      <th>Source Port</th>\n",
       "      <th>Destination Port</th>\n",
       "      <th>Protocol</th>\n",
       "      <th>Packet Type</th>\n",
       "      <th>Length</th>\n",
       "      <th>Raw Data</th>\n",
       "    </tr>\n",
       "  </thead>\n",
       "  <tbody>\n",
       "    <tr>\n",
       "      <th>0</th>\n",
       "      <td>1615905754.602072</td>\n",
       "      <td>52:54:00:e2:36:87</td>\n",
       "      <td>40:de:ad:d9:ed:d9</td>\n",
       "      <td>172.16.12.2</td>\n",
       "      <td>10.200.11.70</td>\n",
       "      <td>2152</td>\n",
       "      <td>2152</td>\n",
       "      <td>17</td>\n",
       "      <td>&lt;class 'scapy.layers.l2.Ether'&gt;</td>\n",
       "      <td>936</td>\n",
       "      <td>b'4\\xff\\x03v@\\x02\\x01%\\x00\\x00\\x00\\x85\\x01\\x10...</td>\n",
       "    </tr>\n",
       "    <tr>\n",
       "      <th>1</th>\n",
       "      <td>1615905754.603009</td>\n",
       "      <td>52:54:00:e2:36:87</td>\n",
       "      <td>40:de:ad:d9:ed:d9</td>\n",
       "      <td>172.16.12.2</td>\n",
       "      <td>10.200.11.70</td>\n",
       "      <td>2152</td>\n",
       "      <td>2152</td>\n",
       "      <td>17</td>\n",
       "      <td>&lt;class 'scapy.layers.l2.Ether'&gt;</td>\n",
       "      <td>936</td>\n",
       "      <td>b'4\\xff\\x03v@\\x02\\x01%RT\\x00\\x85\\x01\\x10\\x05\\x...</td>\n",
       "    </tr>\n",
       "    <tr>\n",
       "      <th>2</th>\n",
       "      <td>1615905754.604011</td>\n",
       "      <td>52:54:00:e2:36:87</td>\n",
       "      <td>40:de:ad:d9:ed:d9</td>\n",
       "      <td>172.16.12.2</td>\n",
       "      <td>10.200.11.70</td>\n",
       "      <td>2152</td>\n",
       "      <td>2152</td>\n",
       "      <td>17</td>\n",
       "      <td>&lt;class 'scapy.layers.l2.Ether'&gt;</td>\n",
       "      <td>936</td>\n",
       "      <td>b'4\\xff\\x03v@\\x02\\x01%RT\\x00\\x85\\x01\\x10\\x05\\x...</td>\n",
       "    </tr>\n",
       "    <tr>\n",
       "      <th>3</th>\n",
       "      <td>1615905754.605010</td>\n",
       "      <td>52:54:00:e2:36:87</td>\n",
       "      <td>40:de:ad:d9:ed:d9</td>\n",
       "      <td>172.16.12.2</td>\n",
       "      <td>10.200.11.70</td>\n",
       "      <td>2152</td>\n",
       "      <td>2152</td>\n",
       "      <td>17</td>\n",
       "      <td>&lt;class 'scapy.layers.l2.Ether'&gt;</td>\n",
       "      <td>936</td>\n",
       "      <td>b'4\\xff\\x03v@\\x02\\x01%\\x00\\x00\\x00\\x85\\x01\\x10...</td>\n",
       "    </tr>\n",
       "    <tr>\n",
       "      <th>4</th>\n",
       "      <td>1615905754.606004</td>\n",
       "      <td>52:54:00:e2:36:87</td>\n",
       "      <td>40:de:ad:d9:ed:d9</td>\n",
       "      <td>172.16.12.2</td>\n",
       "      <td>10.200.11.70</td>\n",
       "      <td>2152</td>\n",
       "      <td>2152</td>\n",
       "      <td>17</td>\n",
       "      <td>&lt;class 'scapy.layers.l2.Ether'&gt;</td>\n",
       "      <td>936</td>\n",
       "      <td>b'4\\xff\\x03v@\\x02\\x01%\\x00\\x00\\x00\\x85\\x01\\x10...</td>\n",
       "    </tr>\n",
       "    <tr>\n",
       "      <th>...</th>\n",
       "      <td>...</td>\n",
       "      <td>...</td>\n",
       "      <td>...</td>\n",
       "      <td>...</td>\n",
       "      <td>...</td>\n",
       "      <td>...</td>\n",
       "      <td>...</td>\n",
       "      <td>...</td>\n",
       "      <td>...</td>\n",
       "      <td>...</td>\n",
       "      <td>...</td>\n",
       "    </tr>\n",
       "    <tr>\n",
       "      <th>87</th>\n",
       "      <td>1615905754.653013</td>\n",
       "      <td>52:54:00:e2:36:87</td>\n",
       "      <td>40:de:ad:d9:ed:d9</td>\n",
       "      <td>172.16.12.2</td>\n",
       "      <td>10.200.11.70</td>\n",
       "      <td>2152</td>\n",
       "      <td>2152</td>\n",
       "      <td>17</td>\n",
       "      <td>&lt;class 'scapy.layers.l2.Ether'&gt;</td>\n",
       "      <td>936</td>\n",
       "      <td>b'4\\xff\\x03v@\\x02\\x01%\\x07\\x17\\x00\\x85\\x01\\x10...</td>\n",
       "    </tr>\n",
       "    <tr>\n",
       "      <th>88</th>\n",
       "      <td>1615905754.653530</td>\n",
       "      <td>40:de:ad:d9:ed:d9</td>\n",
       "      <td>52:54:00:e2:36:87</td>\n",
       "      <td>10.200.11.70</td>\n",
       "      <td>172.16.12.2</td>\n",
       "      <td>61458</td>\n",
       "      <td>2152</td>\n",
       "      <td>17</td>\n",
       "      <td>&lt;class 'scapy.layers.l2.Ether'&gt;</td>\n",
       "      <td>936</td>\n",
       "      <td>b'4\\xff\\x03v\\x00\\x00\\x00\\x01\\x00\\x00\\x00\\x85\\x...</td>\n",
       "    </tr>\n",
       "    <tr>\n",
       "      <th>89</th>\n",
       "      <td>1615905754.654010</td>\n",
       "      <td>52:54:00:e2:36:87</td>\n",
       "      <td>40:de:ad:d9:ed:d9</td>\n",
       "      <td>172.16.12.2</td>\n",
       "      <td>10.200.11.70</td>\n",
       "      <td>2152</td>\n",
       "      <td>2152</td>\n",
       "      <td>17</td>\n",
       "      <td>&lt;class 'scapy.layers.l2.Ether'&gt;</td>\n",
       "      <td>936</td>\n",
       "      <td>b'4\\xff\\x03v@\\x02\\x01%\\x00\\x00\\x00\\x85\\x01\\x10...</td>\n",
       "    </tr>\n",
       "    <tr>\n",
       "      <th>90</th>\n",
       "      <td>1615905754.654535</td>\n",
       "      <td>40:de:ad:d9:ed:d9</td>\n",
       "      <td>52:54:00:e2:36:87</td>\n",
       "      <td>10.200.11.70</td>\n",
       "      <td>172.16.12.2</td>\n",
       "      <td>61458</td>\n",
       "      <td>2152</td>\n",
       "      <td>17</td>\n",
       "      <td>&lt;class 'scapy.layers.l2.Ether'&gt;</td>\n",
       "      <td>936</td>\n",
       "      <td>b'4\\xff\\x03v\\x00\\x00\\x00\\x01\\x00\\x00\\x00\\x85\\x...</td>\n",
       "    </tr>\n",
       "    <tr>\n",
       "      <th>91</th>\n",
       "      <td>1615905754.655008</td>\n",
       "      <td>52:54:00:e2:36:87</td>\n",
       "      <td>40:de:ad:d9:ed:d9</td>\n",
       "      <td>172.16.12.2</td>\n",
       "      <td>10.200.11.70</td>\n",
       "      <td>2152</td>\n",
       "      <td>2152</td>\n",
       "      <td>17</td>\n",
       "      <td>&lt;class 'scapy.layers.l2.Ether'&gt;</td>\n",
       "      <td>936</td>\n",
       "      <td>b'4\\xff\\x03v@\\x02\\x01%\\x00\\x00\\x00\\x85\\x01\\x10...</td>\n",
       "    </tr>\n",
       "  </tbody>\n",
       "</table>\n",
       "<p>92 rows × 11 columns</p>\n",
       "</div>"
      ],
      "text/plain": [
       "            Timestamp         Source MAC    Destination MAC     Source IP  \\\n",
       "0   1615905754.602072  52:54:00:e2:36:87  40:de:ad:d9:ed:d9   172.16.12.2   \n",
       "1   1615905754.603009  52:54:00:e2:36:87  40:de:ad:d9:ed:d9   172.16.12.2   \n",
       "2   1615905754.604011  52:54:00:e2:36:87  40:de:ad:d9:ed:d9   172.16.12.2   \n",
       "3   1615905754.605010  52:54:00:e2:36:87  40:de:ad:d9:ed:d9   172.16.12.2   \n",
       "4   1615905754.606004  52:54:00:e2:36:87  40:de:ad:d9:ed:d9   172.16.12.2   \n",
       "..                ...                ...                ...           ...   \n",
       "87  1615905754.653013  52:54:00:e2:36:87  40:de:ad:d9:ed:d9   172.16.12.2   \n",
       "88  1615905754.653530  40:de:ad:d9:ed:d9  52:54:00:e2:36:87  10.200.11.70   \n",
       "89  1615905754.654010  52:54:00:e2:36:87  40:de:ad:d9:ed:d9   172.16.12.2   \n",
       "90  1615905754.654535  40:de:ad:d9:ed:d9  52:54:00:e2:36:87  10.200.11.70   \n",
       "91  1615905754.655008  52:54:00:e2:36:87  40:de:ad:d9:ed:d9   172.16.12.2   \n",
       "\n",
       "   Destination IP  Source Port  Destination Port  Protocol  \\\n",
       "0    10.200.11.70         2152              2152        17   \n",
       "1    10.200.11.70         2152              2152        17   \n",
       "2    10.200.11.70         2152              2152        17   \n",
       "3    10.200.11.70         2152              2152        17   \n",
       "4    10.200.11.70         2152              2152        17   \n",
       "..            ...          ...               ...       ...   \n",
       "87   10.200.11.70         2152              2152        17   \n",
       "88    172.16.12.2        61458              2152        17   \n",
       "89   10.200.11.70         2152              2152        17   \n",
       "90    172.16.12.2        61458              2152        17   \n",
       "91   10.200.11.70         2152              2152        17   \n",
       "\n",
       "                        Packet Type  Length  \\\n",
       "0   <class 'scapy.layers.l2.Ether'>     936   \n",
       "1   <class 'scapy.layers.l2.Ether'>     936   \n",
       "2   <class 'scapy.layers.l2.Ether'>     936   \n",
       "3   <class 'scapy.layers.l2.Ether'>     936   \n",
       "4   <class 'scapy.layers.l2.Ether'>     936   \n",
       "..                              ...     ...   \n",
       "87  <class 'scapy.layers.l2.Ether'>     936   \n",
       "88  <class 'scapy.layers.l2.Ether'>     936   \n",
       "89  <class 'scapy.layers.l2.Ether'>     936   \n",
       "90  <class 'scapy.layers.l2.Ether'>     936   \n",
       "91  <class 'scapy.layers.l2.Ether'>     936   \n",
       "\n",
       "                                             Raw Data  \n",
       "0   b'4\\xff\\x03v@\\x02\\x01%\\x00\\x00\\x00\\x85\\x01\\x10...  \n",
       "1   b'4\\xff\\x03v@\\x02\\x01%RT\\x00\\x85\\x01\\x10\\x05\\x...  \n",
       "2   b'4\\xff\\x03v@\\x02\\x01%RT\\x00\\x85\\x01\\x10\\x05\\x...  \n",
       "3   b'4\\xff\\x03v@\\x02\\x01%\\x00\\x00\\x00\\x85\\x01\\x10...  \n",
       "4   b'4\\xff\\x03v@\\x02\\x01%\\x00\\x00\\x00\\x85\\x01\\x10...  \n",
       "..                                                ...  \n",
       "87  b'4\\xff\\x03v@\\x02\\x01%\\x07\\x17\\x00\\x85\\x01\\x10...  \n",
       "88  b'4\\xff\\x03v\\x00\\x00\\x00\\x01\\x00\\x00\\x00\\x85\\x...  \n",
       "89  b'4\\xff\\x03v@\\x02\\x01%\\x00\\x00\\x00\\x85\\x01\\x10...  \n",
       "90  b'4\\xff\\x03v\\x00\\x00\\x00\\x01\\x00\\x00\\x00\\x85\\x...  \n",
       "91  b'4\\xff\\x03v@\\x02\\x01%\\x00\\x00\\x00\\x85\\x01\\x10...  \n",
       "\n",
       "[92 rows x 11 columns]"
      ]
     },
     "metadata": {},
     "output_type": "display_data"
    }
   ],
   "source": [
    "import pandas as pd\n",
    "from scapy.all import *\n",
    "\n",
    "# Specify the PCAP file path\n",
    "pcap_file = '/home/hb/5G_dataset/n3_example.pcap'\n",
    "\n",
    "try:\n",
    "    packets = rdpcap(pcap_file)  # Read the PCAP file\n",
    "    print(f\"Total packets in the capture: {len(packets)}\\n\")\n",
    "\n",
    "    # Create a list to store packet data\n",
    "    packet_data = []\n",
    "\n",
    "    for packet in packets:\n",
    "        # Initialize all fields to extract\n",
    "        timestamp = packet.time\n",
    "        src_ip, dst_ip, src_port, dst_port, proto, length = '', '', '', '', '', len(packet)\n",
    "        src_mac, dst_mac, raw_data = '', '', ''\n",
    "        pkt_type = type(packet)\n",
    "        \n",
    "        # Ethernet Layer\n",
    "        if Ether in packet:\n",
    "            src_mac = packet[Ether].src\n",
    "            dst_mac = packet[Ether].dst\n",
    "\n",
    "        # IP Layer\n",
    "        if IP in packet:\n",
    "            src_ip = packet[IP].src\n",
    "            dst_ip = packet[IP].dst\n",
    "            proto = packet[IP].proto\n",
    "\n",
    "        # Transport Layer\n",
    "        if TCP in packet:\n",
    "            src_port = packet[TCP].sport\n",
    "            dst_port = packet[TCP].dport\n",
    "        elif UDP in packet:\n",
    "            src_port = packet[UDP].sport\n",
    "            dst_port = packet[UDP].dport\n",
    "        elif ICMP in packet:\n",
    "            src_port = 'N/A'\n",
    "            dst_port = 'N/A'\n",
    "            icmp_type = packet[ICMP].type\n",
    "            icmp_code = packet[ICMP].code\n",
    "        \n",
    "        # Raw Payload\n",
    "        if Raw in packet:\n",
    "            raw_data = packet[Raw].load\n",
    "\n",
    "        packet_data.append([timestamp, src_mac, dst_mac, src_ip, dst_ip, src_port, dst_port, proto, pkt_type, length, raw_data])\n",
    "    \n",
    "    # Create a DataFrame from the packet data\n",
    "    df = pd.DataFrame(packet_data, columns=['Timestamp', 'Source MAC', 'Destination MAC', 'Source IP', 'Destination IP', \n",
    "                                            'Source Port', 'Destination Port', 'Protocol', 'Packet Type', 'Length', 'Raw Data'])\n",
    "    \n",
    "    # Display the DataFrame\n",
    "    display(df)\n",
    "\n",
    "except Exception as e:\n",
    "    print(f\"An error occurred: {str(e)}\")\n"
   ]
  }
 ],
 "metadata": {
  "kernelspec": {
   "display_name": "myenv",
   "language": "python",
   "name": "python3"
  },
  "language_info": {
   "codemirror_mode": {
    "name": "ipython",
    "version": 3
   },
   "file_extension": ".py",
   "mimetype": "text/x-python",
   "name": "python",
   "nbconvert_exporter": "python",
   "pygments_lexer": "ipython3",
   "version": "3.8.16"
  },
  "orig_nbformat": 4
 },
 "nbformat": 4,
 "nbformat_minor": 2
}
