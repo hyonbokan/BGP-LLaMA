{
 "cells": [
  {
   "cell_type": "code",
   "execution_count": 2,
   "metadata": {},
   "outputs": [],
   "source": [
    "import transformers\n",
    "from transformers import (\n",
    "    pipeline,\n",
    "    logging,\n",
    ")\n",
    "from typing import List\n",
    "import torch\n",
    "from torch import cuda, bfloat16\n",
    "from datasets import load_dataset\n",
    "import pandas as pd\n",
    "import matplotlib.pyplot as plt\n",
    "import matplotlib as mpl\n",
    "# import seaborn as sns\n",
    "from pylab import rcParams\n",
    "import os"
   ]
  },
  {
   "cell_type": "code",
   "execution_count": 6,
   "metadata": {},
   "outputs": [
    {
     "data": {
      "application/vnd.jupyter.widget-view+json": {
       "model_id": "d1e90bf9cd2d4b2da0f517ec388f6702",
       "version_major": 2,
       "version_minor": 0
      },
      "text/plain": [
       "Downloading (…)lve/main/config.json:   0%|          | 0.00/614 [00:00<?, ?B/s]"
      ]
     },
     "metadata": {},
     "output_type": "display_data"
    },
    {
     "data": {
      "application/vnd.jupyter.widget-view+json": {
       "model_id": "4c2413060ff14d6fa21c536aa4fee97a",
       "version_major": 2,
       "version_minor": 0
      },
      "text/plain": [
       "Downloading (…)model.bin.index.json:   0%|          | 0.00/26.8k [00:00<?, ?B/s]"
      ]
     },
     "metadata": {},
     "output_type": "display_data"
    },
    {
     "data": {
      "application/vnd.jupyter.widget-view+json": {
       "model_id": "6fe421a1a71545f48329a64b3684160a",
       "version_major": 2,
       "version_minor": 0
      },
      "text/plain": [
       "Downloading shards:   0%|          | 0/2 [00:00<?, ?it/s]"
      ]
     },
     "metadata": {},
     "output_type": "display_data"
    },
    {
     "data": {
      "application/vnd.jupyter.widget-view+json": {
       "model_id": "423c39011efe46e7a920e71c87c5ae0e",
       "version_major": 2,
       "version_minor": 0
      },
      "text/plain": [
       "Downloading (…)l-00001-of-00002.bin:   0%|          | 0.00/9.98G [00:00<?, ?B/s]"
      ]
     },
     "metadata": {},
     "output_type": "display_data"
    },
    {
     "data": {
      "application/vnd.jupyter.widget-view+json": {
       "model_id": "e9e51f72bfb0429bb684b610f74e334b",
       "version_major": 2,
       "version_minor": 0
      },
      "text/plain": [
       "Downloading (…)l-00002-of-00002.bin:   0%|          | 0.00/3.50G [00:00<?, ?B/s]"
      ]
     },
     "metadata": {},
     "output_type": "display_data"
    },
    {
     "data": {
      "application/vnd.jupyter.widget-view+json": {
       "model_id": "1446138e6c08426487414685f035cf0f",
       "version_major": 2,
       "version_minor": 0
      },
      "text/plain": [
       "Loading checkpoint shards:   0%|          | 0/2 [00:00<?, ?it/s]"
      ]
     },
     "metadata": {},
     "output_type": "display_data"
    },
    {
     "data": {
      "application/vnd.jupyter.widget-view+json": {
       "model_id": "1e597ec9f3a14865be28d6d99a544bc3",
       "version_major": 2,
       "version_minor": 0
      },
      "text/plain": [
       "Downloading (…)neration_config.json:   0%|          | 0.00/116 [00:00<?, ?B/s]"
      ]
     },
     "metadata": {},
     "output_type": "display_data"
    },
    {
     "name": "stdout",
     "output_type": "stream",
     "text": [
      "Model loaded on cuda:0\n"
     ]
    }
   ],
   "source": [
    "model_id = 'hyonbokan/llama_5G_spec_2K'\n",
    "\n",
    "device = f'cuda:{cuda.current_device()}' if cuda.is_available() else 'cpu'\n",
    "\n",
    "# bnb_config = transformers.BitsAndBytesConfig(\n",
    "#     load_in_8bit=True,\n",
    "# )\n",
    "\n",
    "# Need auth token for these\n",
    "hf_auth = os.environ.get('hf_token')\n",
    "\n",
    "model_config = transformers.AutoConfig.from_pretrained(\n",
    "    model_id,\n",
    "    use_auth_token=hf_auth\n",
    ")\n",
    "\n",
    "model = transformers.AutoModelForCausalLM.from_pretrained(\n",
    "    model_id,\n",
    "    trust_remote_code=True,\n",
    "    config=model_config,\n",
    "    # quantization_config=bnb_config,\n",
    "    device_map='auto',\n",
    "    use_auth_token=hf_auth\n",
    ")\n",
    "\n",
    "\n",
    "model.eval()\n",
    "print(f\"Model loaded on {device}\")"
   ]
  },
  {
   "cell_type": "code",
   "execution_count": 7,
   "metadata": {},
   "outputs": [
    {
     "data": {
      "application/vnd.jupyter.widget-view+json": {
       "model_id": "3e3c5aeafb464bd4b87b85824f460720",
       "version_major": 2,
       "version_minor": 0
      },
      "text/plain": [
       "Downloading (…)okenizer_config.json:   0%|          | 0.00/1.57k [00:00<?, ?B/s]"
      ]
     },
     "metadata": {},
     "output_type": "display_data"
    },
    {
     "data": {
      "application/vnd.jupyter.widget-view+json": {
       "model_id": "4de26c3b29a54fc88012237909d083f6",
       "version_major": 2,
       "version_minor": 0
      },
      "text/plain": [
       "Downloading tokenizer.model:   0%|          | 0.00/500k [00:00<?, ?B/s]"
      ]
     },
     "metadata": {},
     "output_type": "display_data"
    },
    {
     "data": {
      "application/vnd.jupyter.widget-view+json": {
       "model_id": "fa8e538044fd4d96bc41195ff0734ea9",
       "version_major": 2,
       "version_minor": 0
      },
      "text/plain": [
       "Downloading (…)/main/tokenizer.json:   0%|          | 0.00/1.84M [00:00<?, ?B/s]"
      ]
     },
     "metadata": {},
     "output_type": "display_data"
    },
    {
     "data": {
      "application/vnd.jupyter.widget-view+json": {
       "model_id": "53fec7e9ef3549b1a6d5486d114945da",
       "version_major": 2,
       "version_minor": 0
      },
      "text/plain": [
       "Downloading (…)cial_tokens_map.json:   0%|          | 0.00/437 [00:00<?, ?B/s]"
      ]
     },
     "metadata": {},
     "output_type": "display_data"
    }
   ],
   "source": [
    "tokenizer = transformers.AutoTokenizer.from_pretrained(\n",
    "    model_id,\n",
    "    use_auth_token=hf_auth\n",
    ")\n",
    "\n",
    "tokenizer.pad_token = tokenizer.eos_token\n",
    "# tokenizer.pad_token_id = tokenizer.eos_token_id\n",
    "tokenizer.padding_side = \"right\""
   ]
  },
  {
   "cell_type": "code",
   "execution_count": 8,
   "metadata": {},
   "outputs": [
    {
     "name": "stderr",
     "output_type": "stream",
     "text": [
      "Setting `pad_token_id` to `eos_token_id`:2 for open-end generation.\n"
     ]
    },
    {
     "name": "stderr",
     "output_type": "stream",
     "text": [
      "Setting `pad_token_id` to `eos_token_id`:2 for open-end generation.\n"
     ]
    },
    {
     "name": "stdout",
     "output_type": "stream",
     "text": [
      "Generated Answer: Choose the correct answer. What happens to packets larger than the Maximum SDU size in the network?\n",
      "a) Always dropped\n",
      "b) Forwarded with increased QoS\n",
      "c) Implementation specific\n",
      "d) Always forwarded with no changes to QoS.\n",
      "Answer: b) Forwarded with increased QoS.\n",
      "What happens to packets larger than the Maximum SDU size in the network?\n",
      "a) Always dropped\n",
      "b) Forwarded with increased QoS\n",
      "c) Implementation specific\n",
      "d) Always forwarded with no changes to QoS.\n",
      "Answer:\n",
      "Parsed_answer: b\n",
      "----------------1-----------------\n"
     ]
    },
    {
     "name": "stderr",
     "output_type": "stream",
     "text": [
      "Setting `pad_token_id` to `eos_token_id`:2 for open-end generation.\n"
     ]
    },
    {
     "name": "stdout",
     "output_type": "stream",
     "text": [
      "Generated Answer: Choose the correct answer. The Maximum Transfer Unit (MTU) of the IP layer and the Maximum SDU Size:\n",
      "a) Are directly related\n",
      "b) Have no relationship\n",
      "c) Are the same\n",
      "d) Depend on the GGSN.\n",
      "Answer: b. Have no relationship.\n",
      "The Maximum Transfer Unit (MTU) of the IP layer and the Maximum SDU Size are independent parameters. The Maximum SDU Size is the maximum size of an IP packet that can be transmitted over the radio interface. The Maximum Transfer Unit (MTU) of the IP layer is\n",
      "Parsed_answer: Couldn't parse the answer\n",
      "----------------2-----------------\n"
     ]
    },
    {
     "name": "stderr",
     "output_type": "stream",
     "text": [
      "Setting `pad_token_id` to `eos_token_id`:2 for open-end generation.\n"
     ]
    },
    {
     "name": "stdout",
     "output_type": "stream",
     "text": [
      "Generated Answer: Choose the correct answer. Why does RAN need SDU size information?\n",
      "a) For IP fragmentation\n",
      "b) For efficient use of the radio spectrum\n",
      "c) To operate in transparent RLC protocol mode\n",
      "d) For GGSN optimization\n",
      "Answer: b) For efficient use of the radio spectrum.\n",
      "RAN needs SDU size information to optimize the use of the radio spectrum.\n",
      "The RAN needs to know the size of the SDU to determine the number of bits that can be transmitted in one frame.\n",
      "This information is used to calculate the number of bits that can be transmitted in one\n",
      "Parsed_answer: b\n",
      "----------------3-----------------\n"
     ]
    },
    {
     "name": "stderr",
     "output_type": "stream",
     "text": [
      "Setting `pad_token_id` to `eos_token_id`:2 for open-end generation.\n"
     ]
    },
    {
     "name": "stdout",
     "output_type": "stream",
     "text": [
      "Generated Answer: Choose the correct answer. What does SDU error ratio indicate?\n",
      "a) Fraction of SDUs dropped\n",
      "b) Fraction of SDUs forwarded with decreased QoS\n",
      "c) Fraction of SDUs lost or detected as erroneous\n",
      "d) Efficiency of the RLC protocol.\n",
      "Answer: b) Fraction of SDUs forwarded with decreased QoS.\n",
      "What is the purpose of the RLC retransmission timer?\n",
      "a) To retransmit lost SDUs\n",
      "b) To retransmit SDUs with decreased QoS\n",
      "c) To\n",
      "Parsed_answer: b\n",
      "----------------4-----------------\n"
     ]
    },
    {
     "name": "stderr",
     "output_type": "stream",
     "text": [
      "Setting `pad_token_id` to `eos_token_id`:2 for open-end generation.\n"
     ]
    },
    {
     "name": "stdout",
     "output_type": "stream",
     "text": [
      "Generated Answer: Choose the correct answer. Which attribute specifies the relative importance of the UMTS bearer compared to other bearers?\n",
      "a) Maximum bitrate\n",
      "b) Traffic handling priority\n",
      "c) Allocation/Retention Priority\n",
      "d) Guaranteed bitrate\n",
      "Answer: b) Traffic handling priority.\n",
      "Which attribute specifies the relative importance of the UMTS bearer compared to other bearers?\n",
      "a) Maximum bitrate\n",
      "b) Traffic handling priority\n",
      "c) Allocation/Retention Priority\n",
      "d) Guaranteed bitrate\n",
      "Answer: b) Tra\n",
      "Parsed_answer: b\n",
      "----------------5-----------------\n"
     ]
    },
    {
     "name": "stderr",
     "output_type": "stream",
     "text": [
      "Setting `pad_token_id` to `eos_token_id`:2 for open-end generation.\n"
     ]
    },
    {
     "name": "stdout",
     "output_type": "stream",
     "text": [
      "Generated Answer: Choose the correct answer. What happens to packets larger than the Maximum SDU size in the network?\n",
      "a) Always dropped\n",
      "b) Forwarded with increased QoS\n",
      "c) Implementation specific\n",
      "d) Always forwarded with no changes to QoS.\n",
      "Answer: b) Forwarded with increased QoS.\n",
      "What happens to packets larger than the Maximum SDU size in the network?\n",
      "a) Always dropped\n",
      "b) Forwarded with increased QoS\n",
      "c) Implementation specific\n",
      "d) Always forwarded with no changes to QoS.\n",
      "Answer:\n",
      "Parsed_answer: b\n",
      "----------------6-----------------\n"
     ]
    },
    {
     "name": "stderr",
     "output_type": "stream",
     "text": [
      "Setting `pad_token_id` to `eos_token_id`:2 for open-end generation.\n"
     ]
    },
    {
     "name": "stdout",
     "output_type": "stream",
     "text": [
      "Generated Answer: Choose the correct answer. The Maximum Transfer Unit (MTU) of the IP layer and the Maximum SDU Size:\n",
      "a) Are directly related\n",
      "b) Have no relationship\n",
      "c) Are the same\n",
      "d) Depend on the GGSN.\n",
      "Answer: b. Have no relationship.\n",
      "The Maximum Transfer Unit (MTU) of the IP layer and the Maximum SDU Size are independent parameters. The Maximum SDU Size is the maximum size of an IP packet that can be transmitted over the radio interface. The Maximum Transfer Unit (MTU) of the IP layer is\n",
      "Parsed_answer: Couldn't parse the answer\n",
      "----------------7-----------------\n"
     ]
    },
    {
     "name": "stderr",
     "output_type": "stream",
     "text": [
      "Setting `pad_token_id` to `eos_token_id`:2 for open-end generation.\n"
     ]
    },
    {
     "name": "stdout",
     "output_type": "stream",
     "text": [
      "Generated Answer: Choose the correct answer. Why does RAN need SDU size information?\n",
      "a) For IP fragmentation\n",
      "b) For efficient use of the radio spectrum\n",
      "c) To operate in transparent RLC protocol mode\n",
      "d) For GGSN optimization\n",
      "Answer: b) For efficient use of the radio spectrum.\n",
      "RAN needs SDU size information to optimize the use of the radio spectrum.\n",
      "The RAN needs to know the size of the SDU to determine the number of bits that can be transmitted in one frame.\n",
      "This information is used to calculate the number of bits that can be transmitted in one\n",
      "Parsed_answer: b\n",
      "----------------8-----------------\n"
     ]
    },
    {
     "name": "stderr",
     "output_type": "stream",
     "text": [
      "Setting `pad_token_id` to `eos_token_id`:2 for open-end generation.\n"
     ]
    },
    {
     "name": "stdout",
     "output_type": "stream",
     "text": [
      "Generated Answer: Choose the correct answer. What does SDU error ratio indicate?\n",
      "a) Fraction of SDUs dropped\n",
      "b) Fraction of SDUs forwarded with decreased QoS\n",
      "c) Fraction of SDUs lost or detected as erroneous\n",
      "d) Efficiency of the RLC protocol.\n",
      "Answer: b) Fraction of SDUs forwarded with decreased QoS.\n",
      "What is the purpose of the RLC retransmission timer?\n",
      "a) To retransmit lost SDUs\n",
      "b) To retransmit SDUs with decreased QoS\n",
      "c) To\n",
      "Parsed_answer: b\n",
      "----------------9-----------------\n"
     ]
    },
    {
     "name": "stderr",
     "output_type": "stream",
     "text": [
      "Setting `pad_token_id` to `eos_token_id`:2 for open-end generation.\n"
     ]
    },
    {
     "name": "stdout",
     "output_type": "stream",
     "text": [
      "Generated Answer: Choose the correct answer. Which attribute specifies the relative importance of the UMTS bearer compared to other bearers?\n",
      "a) Maximum bitrate\n",
      "b) Traffic handling priority\n",
      "c) Allocation/Retention Priority\n",
      "d) Guaranteed bitrate\n",
      "Answer: b) Traffic handling priority.\n",
      "Which attribute specifies the relative importance of the UMTS bearer compared to other bearers?\n",
      "a) Maximum bitrate\n",
      "b) Traffic handling priority\n",
      "c) Allocation/Retention Priority\n",
      "d) Guaranteed bitrate\n",
      "Answer: b) Tra\n",
      "Parsed_answer: b\n",
      "----------------10-----------------\n"
     ]
    },
    {
     "name": "stderr",
     "output_type": "stream",
     "text": [
      "Setting `pad_token_id` to `eos_token_id`:2 for open-end generation.\n"
     ]
    },
    {
     "name": "stdout",
     "output_type": "stream",
     "text": [
      "Generated Answer: Choose the correct answer. What is the purpose of including the traffic class itself as an attribute in Radio Access Bearer Service Attributes?\n",
      "a) To standardize the attributes across different network components\n",
      "b) RAN can make assumptions about the traffic source and optimise the transport for that traffic type\n",
      "c) To enhance the security of transmitted data\n",
      "d) To synchronize traffic flows across different bearers.\n",
      "Answer: a) To standardize the attributes across different network components.\n",
      "What is the purpose of including the traffic class itself as an attribute in Radio Access Bearer Service Attributes?\n",
      "a) To\n",
      "Parsed_answer: a\n",
      "----------------11-----------------\n"
     ]
    },
    {
     "name": "stderr",
     "output_type": "stream",
     "text": [
      "Setting `pad_token_id` to `eos_token_id`:2 for open-end generation.\n"
     ]
    },
    {
     "name": "stdout",
     "output_type": "stream",
     "text": [
      "Generated Answer: Choose the correct answer. For what purpose might the Guaranteed bitrate be used?\n",
      "a) To ensure consistent connection speed across devices\n",
      "b) To facilitate admission control and for resource allocation within RAN\n",
      "c) To prioritize certain traffic types over others\n",
      "d) To maintain the QoS for high-priority services\n",
      "Answer: b) To facilitate admission control and for resource allocation within RAN.\n",
      "The Guaranteed bitrate is used to ensure that the minimum required bitrate is delivered to the user.\n",
      "This is used for admission control and resource allocation within the R\n",
      "Parsed_answer: b\n",
      "----------------12-----------------\n"
     ]
    },
    {
     "name": "stderr",
     "output_type": "stream",
     "text": [
      "Setting `pad_token_id` to `eos_token_id`:2 for open-end generation.\n"
     ]
    },
    {
     "name": "stdout",
     "output_type": "stream",
     "text": [
      "Generated Answer: Choose the correct answer. What is the use of the SDU format information?\n",
      "a) To assist in efficient packet fragmentation and reassembly\n",
      "b) To assist in route optimization for transmitted data\n",
      "c) To define which bits of the payload belong to each subflow\n",
      "d) To assist in load balancing across multiple links.\n",
      "Answer: a) To assist in efficient packet fragmentation and reassembly.\n",
      "The SDU format information is used to assist in efficient packet fragmentation and reassembly.\n",
      "The SDU format information is used to define which bits of the payload belong to each subflow.\n",
      "The\n",
      "Parsed_answer: a\n",
      "----------------13-----------------\n"
     ]
    },
    {
     "name": "stderr",
     "output_type": "stream",
     "text": [
      "Setting `pad_token_id` to `eos_token_id`:2 for open-end generation.\n"
     ]
    },
    {
     "name": "stdout",
     "output_type": "stream",
     "text": [
      "Generated Answer: Choose the correct answer. The Residual bit error ratio is used to?\n",
      "a) Configure radio interface protocols, algorithms, and error detection coding\n",
      "b) Enhance the overall QoS for end users\n",
      "c) Improve the handover process between different network nodes\n",
      "d) Adjust the power levels in the transmitting device\n",
      "Answer: b.\n",
      "The Residual bit error ratio is used to enhance the overall QoS for end users.\n",
      "The Residual bit error ratio is used to?\n",
      "a) Configure radio interface protocols, algorithms, and error detection\n",
      "Parsed_answer: Couldn't parse the answer\n",
      "----------------14-----------------\n"
     ]
    },
    {
     "name": "stderr",
     "output_type": "stream",
     "text": [
      "Setting `pad_token_id` to `eos_token_id`:2 for open-end generation.\n"
     ]
    },
    {
     "name": "stdout",
     "output_type": "stream",
     "text": [
      "Generated Answer: Choose the correct answer. What shall the PDN GW modify if the subscribed ARP parameter has been changed?\n",
      "a) All dedicated S2a bearers with the new ARP value\n",
      "b) All dedicated S2a bearers with the previously subscribed ARP value\n",
      "c) Only the default bearer\n",
      "d) None of the above.\n",
      "Answer: b) All dedicated S2a bearers with the previously subscribed ARP value.\n",
      "The PDN GW shall modify all dedicated S2a bearers with the previously subscribed ARP value.\n",
      "The PDN GW shall not\n",
      "Parsed_answer: b\n",
      "----------------15-----------------\n"
     ]
    },
    {
     "name": "stderr",
     "output_type": "stream",
     "text": [
      "Setting `pad_token_id` to `eos_token_id`:2 for open-end generation.\n"
     ]
    },
    {
     "name": "stdout",
     "output_type": "stream",
     "text": [
      "Generated Answer: Choose the correct answer. What message does the trusted non-3GPP IP access send to acknowledge the bearer modification to the PDN GW?\n",
      "a) Update Bearer Request\n",
      "b) Update Bearer Response\n",
      "c) Create Session Request\n",
      "d) Delete Bearer Request.\n",
      "Answer: b) Update Bearer Response.\n",
      "What is the purpose of the \"Update Bearer Response\" message?\n",
      "a) To acknowledge the bearer modification to the PDN GW.\n",
      "b) To request the PDN GW to update the bearer to the PDN GW.\n",
      "c\n",
      "Parsed_answer: b\n",
      "----------------16-----------------\n"
     ]
    },
    {
     "name": "stderr",
     "output_type": "stream",
     "text": [
      "Setting `pad_token_id` to `eos_token_id`:2 for open-end generation.\n"
     ]
    },
    {
     "name": "stdout",
     "output_type": "stream",
     "text": [
      "Generated Answer: Choose the correct answer. What happens if the default bearer belonging to a PDN connection is deactivated?\n",
      "a) Only the default bearer is deactivated\n",
      "b) All bearers belonging to the PDN connection are deactivated\n",
      "c) The PDN GW retains the PDN address\n",
      "d) The PDN GW releases the PDN address.\n",
      "Answer: b) All bearers belonging to the PDN connection are deactivated.\n",
      "What happens if the default bearer belonging to a PDN connection is modified?\n",
      "a) Only the default bearer is modified\n",
      "b\n",
      "Parsed_answer: b\n",
      "----------------17-----------------\n"
     ]
    },
    {
     "name": "stderr",
     "output_type": "stream",
     "text": [
      "Setting `pad_token_id` to `eos_token_id`:2 for open-end generation.\n"
     ]
    },
    {
     "name": "stdout",
     "output_type": "stream",
     "text": [
      "Generated Answer: Choose the correct answer. In the Local Breakout case, which entities are responsible for forwarding messages?\n",
      "a) PDN GW and hPCRF\n",
      "b) vPCRF and hPCRF\n",
      "c) PDN GW and vPCRF\n",
      "d) None of the above.\n",
      "Answer: a) PDN GW and hPCRF.\n",
      "In the Local Breakout case, the PDN GW and the hPCRF are responsible for forwarding messages. The vPCRF does not forward any messages in this case.\n",
      "Which of the following is\n",
      "Parsed_answer: a\n",
      "----------------18-----------------\n"
     ]
    },
    {
     "name": "stderr",
     "output_type": "stream",
     "text": [
      "Setting `pad_token_id` to `eos_token_id`:2 for open-end generation.\n"
     ]
    },
    {
     "name": "stdout",
     "output_type": "stream",
     "text": [
      "Generated Answer: Choose the correct answer. What does the RAT type indicate?\n",
      "a) The 3GPP IP access technology type\n",
      "b) The non-3GPP IP access technology type\n",
      "c) Both 3GPP and non-3GPP IP access technology types\n",
      "d) Neither 3GPP nor non-3GPP IP access technology types.\n",
      "Answer: b) The non-3GPP IP access technology type.\n",
      "RAT type indicates the non-3GPP IP access technology type.\n",
      "The RAT type field is defined in the RAT Capability IE and indicates the non\n",
      "Parsed_answer: b\n",
      "----------------19-----------------\n"
     ]
    },
    {
     "name": "stderr",
     "output_type": "stream",
     "text": [
      "Setting `pad_token_id` to `eos_token_id`:2 for open-end generation.\n"
     ]
    },
    {
     "name": "stdout",
     "output_type": "stream",
     "text": [
      "Generated Answer: Choose the correct answer. When the WLAN is considered trusted by the operator, how is it interfaced?\n",
      "a) Via STa to the 3GPP AAA to EPC through S2a\n",
      "b) Only via S2a\n",
      "c) Only via 3GPP AAA\n",
      "d) None of the above.\n",
      "Answer: b) Only via S2a.\n",
      "When the WLAN is considered trusted by the operator, it is interfaced to the EPC through S2a. The WLAN is not interfaced to the EPC through \n",
      "Parsed_answer: b\n",
      "----------------20-----------------\n"
     ]
    },
    {
     "name": "stderr",
     "output_type": "stream",
     "text": [
      "Setting `pad_token_id` to `eos_token_id`:2 for open-end generation.\n"
     ]
    },
    {
     "name": "stdout",
     "output_type": "stream",
     "text": [
      "Generated Answer: Choose the correct answer. What might STa need to be enhanced to support?\n",
      "a) An indication on whether the Trusted WLAN AN supports S2a\n",
      "b) The SSID selected by the UE\n",
      "c) The APN the user is to be associated with for EPC access\n",
      "d) All of the above.\n",
      "Answer: d) All of the above.\n",
      "STa needs to be enhanced to support the S2a feature.\n",
      "The S2a feature requires the Trusted WLAN AN to support the S2a.\n",
      "The S2a feature requires the Tr\n",
      "Parsed_answer: d\n",
      "----------------21-----------------\n"
     ]
    },
    {
     "name": "stderr",
     "output_type": "stream",
     "text": [
      "Setting `pad_token_id` to `eos_token_id`:2 for open-end generation.\n"
     ]
    },
    {
     "name": "stdout",
     "output_type": "stream",
     "text": [
      "Generated Answer: Choose the correct answer. Which entity is associated with the SWw reference point?\n",
      "a) WLAN UE's connection to EPC for data transfer\n",
      "b) Link between 3GPP AAA Server and WLAN AN for EAP messages\n",
      "c) Communication interface between UE and HSS\n",
      "d) Pathway from TNAN to AAA server over STa for authentication.\n",
      "Answer: b) Link between 3GPP AAA Server and WLAN AN for EAP messages.\n",
      "Which entity is associated with the SWa reference point?\n",
      "a) WLAN UE\n",
      "Parsed_answer: b\n",
      "----------------22-----------------\n"
     ]
    },
    {
     "name": "stderr",
     "output_type": "stream",
     "text": [
      "Setting `pad_token_id` to `eos_token_id`:2 for open-end generation.\n"
     ]
    },
    {
     "name": "stdout",
     "output_type": "stream",
     "text": [
      "Generated Answer: Choose the correct answer. What capability might the TNAN indicate to the AAA server via STa?\n",
      "a) Ability to support IPv6 addressing exclusively\n",
      "b) Capacity to handle both S2a and non-seamless offload\n",
      "c) Bandwidth allocation per UE for data traffic\n",
      "d) Selection logic for PDN Gateway for routing of data traffic.\n",
      "Answer: b) Capacity to handle both S2a and non-seamless offload.\n",
      "The TNAN may indicate to the AAA server via STa that the UE supports both S2\n",
      "Parsed_answer: b\n",
      "----------------23-----------------\n"
     ]
    },
    {
     "name": "stderr",
     "output_type": "stream",
     "text": [
      "Setting `pad_token_id` to `eos_token_id`:2 for open-end generation.\n"
     ]
    },
    {
     "name": "stdout",
     "output_type": "stream",
     "text": [
      "Generated Answer: Choose the correct answer. What consequence follows when a UE dispatches a DHCPv4 message for IPv4 address release?\n",
      "a) UE's migration from IPv4 to IPv6 addressing\n",
      "b) Initiation of Bearer Modification by the PDN GW\n",
      "c) Severance of PDN connection when the connection type is IPv4\n",
      "d) Sustainment of the existing PDN connection without interruption.\n",
      "Answer: b) Initiation of Bearer Modification by the PDN GW.\n",
      "What is the purpose of the \"IPv6 Address\n",
      "Parsed_answer: b\n",
      "----------------24-----------------\n"
     ]
    },
    {
     "name": "stderr",
     "output_type": "stream",
     "text": [
      "Setting `pad_token_id` to `eos_token_id`:2 for open-end generation.\n"
     ]
    },
    {
     "name": "stdout",
     "output_type": "stream",
     "text": [
      "Generated Answer: Choose the correct answer. What should the source MME/SSGSN do if the target MME/SSGSN doesn't support the SGW restoration procedure?\n",
      "a) Transfer the PDN connection to a different SGW\n",
      "b) Continue with the standard SGW relocation procedure\n",
      "c) Reject the Handover Required/Relocation Required message and release the S1/Iu/radio resources\n",
      "d) Wait for the target MME/SSGSN to update its SGW restoration support status.\n",
      "Answer: b) Continue with the standard S\n",
      "Parsed_answer: b\n",
      "----------------25-----------------\n"
     ]
    },
    {
     "name": "stderr",
     "output_type": "stream",
     "text": [
      "Setting `pad_token_id` to `eos_token_id`:2 for open-end generation.\n"
     ]
    },
    {
     "name": "stdout",
     "output_type": "stream",
     "text": [
      "Generated Answer: Choose the correct answer. What happens when the T-Release-GBR timer expires in the PGW?\n",
      "a) The PGW initiates a new SGW restoration process\n",
      "b) The PGW releases GBR bearers that haven't been restored yet and informs the PCRF\n",
      "c) The PGW maintains the PDN connections without any change\n",
      "d) The PGW attempts to restore the PDN connection with the MME/SSGSN.\n",
      "Answer: b) The PGW releases GBR bearers that haven't been restored yet\n",
      "Parsed_answer: b\n",
      "----------------26-----------------\n"
     ]
    },
    {
     "name": "stderr",
     "output_type": "stream",
     "text": [
      "Setting `pad_token_id` to `eos_token_id`:2 for open-end generation.\n"
     ]
    },
    {
     "name": "stdout",
     "output_type": "stream",
     "text": [
      "Generated Answer: Choose the correct answer. For which reason might the PGW reject an IP-CAN session modification procedure after an SGW failure?\n",
      "a) If the request includes changing the PDN connection route\n",
      "b) If the request includes the installation/modification of PCC rules\n",
      "c) If the PGW has already initiated a new SGW restoration process\n",
      "d) If the MME/SSGSN has already restored the PDN connection.\n",
      "Answer: b) If the request includes the installation/modification of PCC rules.\n",
      "Choose the correct answer. For which reason might\n",
      "Parsed_answer: b\n",
      "----------------27-----------------\n"
     ]
    },
    {
     "name": "stderr",
     "output_type": "stream",
     "text": [
      "Setting `pad_token_id` to `eos_token_id`:2 for open-end generation.\n"
     ]
    },
    {
     "name": "stdout",
     "output_type": "stream",
     "text": [
      "Generated Answer: Choose the correct answer. What does OMR stand for in the context of the provided text?\n",
      "Optimized Media Routeing\n",
      "Operational Management Review\n",
      "Online Music Recorder\n",
      "Optical Message Reading\n",
      "Answer: B. Operational Management Review.\n",
      "OMR stands for Operational Management Review.\n",
      "OMR is a process of reviewing the performance of the network and identifying areas for improvement.\n",
      "OMR is a periodic review of the network performance and identifying areas for improvement.\n",
      "OMR is a process of reviewing the performance of the network and identifying areas for improvement.\n",
      "Answer: B.\n",
      "Parsed_answer: Couldn't parse the answer\n",
      "Parsed_answer: Couldn't parse the answer\n",
      "----------------28-----------------\n"
     ]
    },
    {
     "name": "stderr",
     "output_type": "stream",
     "text": [
      "Setting `pad_token_id` to `eos_token_id`:2 for open-end generation.\n"
     ]
    },
    {
     "name": "stdout",
     "output_type": "stream",
     "text": [
      "Generated Answer: Choose the correct answer. What protocol is mentioned alongside SIP for OMR based signaling flows?\n",
      "HTTP\n",
      "SMTP\n",
      "SDP\n",
      "UDP\n",
      "Answer: SDP.\n",
      "\n",
      "Which of the following is not an OMR based signaling flow?\n",
      "SIP/2400 to SCCP/2400 to OMR/2400 to HTTP/2400 to SIP/2400.\n",
      "SIP/2400 to SCCP/2400 to OMR/2400 to HTTP/2400\n",
      "Parsed_answer: Couldn't parse the answer\n",
      "----------------29-----------------\n",
      "Generated Answer: Choose the correct answer. What is the role of IBCF in the provided context?\n",
      "Allocating MR context\n",
      "Decoding audio files\n",
      "Compressing video streams\n",
      "Routing email traffic\n",
      "Issuing IPsec security associations\n",
      "Issuing IPsec security associations.\n",
      "Issuing IPsec security associations.\n",
      "Issuing IPsec security associations.\n",
      "Issuing IPsec security associations.\n",
      "Issuing IPsec security associations.\n",
      "Issuing IPsec security associations.\n",
      "Issuing IPsec security associations.\n",
      "Issuing IPsec security associations.\n",
      "Issuing IPsec security\n",
      "----------------30-----------------\n",
      "['b', \"Couldn't parse the answer\", 'b', 'b', 'b', 'b', \"Couldn't parse the answer\", 'b', 'b', 'b', 'a', 'b', 'a', \"Couldn't parse the answer\", 'b', 'b', 'b', 'a', 'b', 'b', 'd', 'b', 'b', 'b', 'b', 'b', 'b', \"Couldn't parse the answer\", \"Couldn't parse the answer\", '']\n",
      "GPT answer: b. Correct answer: c\n",
      "Incorrect\n",
      "GPT answer: Couldn't parse the answer. Correct answer: b\n",
      "Incorrect\n",
      "GPT answer: b. Correct answer: c\n",
      "Incorrect\n",
      "GPT answer: b. Correct answer: c\n",
      "Incorrect\n",
      "Correct\n",
      "GPT answer: b. Correct answer: c\n",
      "Incorrect\n",
      "GPT answer: Couldn't parse the answer. Correct answer: b\n",
      "Incorrect\n",
      "GPT answer: b. Correct answer: c\n",
      "Incorrect\n",
      "GPT answer: b. Correct answer: c\n",
      "Incorrect\n",
      "Correct\n",
      "GPT answer: a. Correct answer: b\n",
      "Incorrect\n",
      "Correct\n",
      "GPT answer: a. Correct answer: c\n",
      "Incorrect\n",
      "GPT answer: Couldn't parse the answer. Correct answer: a\n",
      "Incorrect\n",
      "Correct\n",
      "Correct\n",
      "Correct\n",
      "GPT answer: a. Correct answer: b\n",
      "Incorrect\n",
      "Correct\n",
      "GPT answer: b. Correct answer: a\n",
      "Incorrect\n",
      "Correct\n",
      "Correct\n",
      "Correct\n",
      "GPT answer: b. Correct answer: c\n",
      "Incorrect\n",
      "GPT answer: b. Correct answer: c\n",
      "Incorrect\n",
      "Correct\n",
      "Correct\n",
      "GPT answer: Couldn't parse the answer. Correct answer: Optimized Media Routeing\n",
      "Incorrect\n",
      "GPT answer: Couldn't parse the answer. Correct answer: SDP\n",
      "Incorrect\n",
      "GPT answer: . Correct answer: Allocating MR context\n",
      "Incorrect\n",
      "Accuracy: 40.00%\n",
      "Correct answers: 12\n",
      "Incorrect answers: 18\n"
     ]
    }
   ],
   "source": [
    "import json\n",
    "import re\n",
    "\n",
    "input_file_path = \"/home/hb/LLM-research/evaluation/5G/5G_analysis_multi_choice_v2.json\" \n",
    "\n",
    "with open(input_file_path, \"r\") as input_file:\n",
    "    questions_data = json.load(input_file)\n",
    "\n",
    "pipe = pipeline(task=\"text-generation\", model=model, tokenizer=tokenizer, max_length=128)\n",
    "\n",
    "generated_answers = []\n",
    "ground_truth = [q_dict[\"answer\"] for q_dict in questions_data]\n",
    "n_question = 0\n",
    "\n",
    "for q_dict in questions_data:\n",
    "    question = q_dict[\"question\"]\n",
    "    options = q_dict[\"options\"]\n",
    "    \n",
    "    # Construct prompt with question and options\n",
    "    prompt = f\"Choose the correct answer. {question}\\n\" + \"\\n\".join(options)\n",
    "    # print(prompt)\n",
    "    \n",
    "    # Generate answer using the language model\n",
    "    generated_answer = pipe(prompt)[0]['generated_text']\n",
    "    print(f\"Generated Answer: {generated_answer}\")\n",
    "    \n",
    "    # Parse the generated answer\n",
    "    answer_lines = generated_answer.splitlines()\n",
    "    parsed_answer = \"\"\n",
    "    for line in answer_lines:\n",
    "            if line.startswith(\"Answer: \") or line.startswith(\"Correct answer: \"):\n",
    "                match = re.search(r'\\b(\\w)[\\)-]', line)\n",
    "                if match is not None:\n",
    "                    parsed_answer = match.group(1)\n",
    "                    print(f\"Parsed_answer: {parsed_answer}\")\n",
    "                    break\n",
    "                else:\n",
    "                    parsed_answer = \"Couldn't parse the answer\"\n",
    "                    print(f\"Parsed_answer: {parsed_answer}\")\n",
    "    generated_answers.append(parsed_answer)\n",
    "    n_question += 1\n",
    "    print(f\"----------------{n_question}-----------------\")\n",
    "print(generated_answers)\n",
    "\n",
    "\n",
    "total_questions = len(questions_data)\n",
    "correct_answers = 0\n",
    "\n",
    "for ground_answer, generated_answer in zip(ground_truth, generated_answers):\n",
    "    if generated_answer.lower() == ground_answer.lower():\n",
    "        print(\"Correct\")\n",
    "        correct_answers += 1\n",
    "    else:\n",
    "        print(f\"GPT answer: {generated_answer}. Correct answer: {ground_answer}\")\n",
    "        print(\"Incorrect\")\n",
    "\n",
    "accuracy = (correct_answers / total_questions) * 100\n",
    "\n",
    "print(f\"Accuracy: {accuracy:.2f}%\")\n",
    "print(f\"Correct answers: {correct_answers}\")\n",
    "print(f\"Incorrect answers: {total_questions - correct_answers}\")"
   ]
  },
  {
   "cell_type": "code",
   "execution_count": null,
   "metadata": {},
   "outputs": [],
   "source": []
  }
 ],
 "metadata": {
  "kernelspec": {
   "display_name": "myenv",
   "language": "python",
   "name": "python3"
  },
  "language_info": {
   "codemirror_mode": {
    "name": "ipython",
    "version": 3
   },
   "file_extension": ".py",
   "mimetype": "text/x-python",
   "name": "python",
   "nbconvert_exporter": "python",
   "pygments_lexer": "ipython3",
   "version": "3.8.16"
  },
  "orig_nbformat": 4
 },
 "nbformat": 4,
 "nbformat_minor": 2
}
