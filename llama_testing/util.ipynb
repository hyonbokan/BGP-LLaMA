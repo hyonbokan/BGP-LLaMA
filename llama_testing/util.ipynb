{
 "cells": [
  {
   "cell_type": "code",
   "execution_count": 1,
   "metadata": {},
   "outputs": [
    {
     "name": "stdout",
     "output_type": "stream",
     "text": [
      "Combined JSON file saved as /home/hb/LLM-research/dataset/BGP/BGP_tabular_analysis/knowledge_tabular20.json\n"
     ]
    }
   ],
   "source": [
    "import json\n",
    "import os\n",
    "from typing import List\n",
    "\n",
    "input_files = [\n",
    "    '/home/hb/LLM-research/dataset/BGP/BGP_tabular_analysis/llm_table_bgp_data_train_split20.json',\n",
    "    '/home/hb/LLM-research/dataset/BGP/BGPKnowledge/BGP_knowledge_main.json',\n",
    "    \n",
    "]\n",
    "\n",
    "# Output file name\n",
    "output_file = '/home/hb/LLM-research/dataset/BGP/BGP_tabular_analysis/knowledge_tabular20.json'\n",
    "\n",
    "def combine_json_files(input_files: List[str], output_file: str):\n",
    "    combined_data = []\n",
    "\n",
    "    for file_name in input_files:\n",
    "        with open(file_name, 'r') as f:\n",
    "            data = json.load(f)\n",
    "            combined_data.extend(data)\n",
    "\n",
    "    with open(output_file, 'w') as f:\n",
    "        json.dump(combined_data, f, indent=4)\n",
    "    print(f\"Combined JSON file saved as {output_file}\")\n",
    "\n",
    "\n",
    "combine_json_files(input_files, output_file)"
   ]
  },
  {
   "cell_type": "code",
   "execution_count": 5,
   "metadata": {},
   "outputs": [
    {
     "name": "stdout",
     "output_type": "stream",
     "text": [
      "The number of instruction-input-output sets is: 5134\n"
     ]
    }
   ],
   "source": [
    "import json\n",
    "\n",
    "with open('/home/hb/LLM-research/dataset/BGP/BGPKnowledge/BGP_knowledge_v2.json', 'r') as file:\n",
    "    data = json.load(file)\n",
    "\n",
    "count = len(data)\n",
    "\n",
    "print(f'The number of instruction-input-output sets is: {count}')"
   ]
  },
  {
   "cell_type": "code",
   "execution_count": null,
   "metadata": {},
   "outputs": [],
   "source": []
  }
 ],
 "metadata": {
  "kernelspec": {
   "display_name": "myenv",
   "language": "python",
   "name": "python3"
  },
  "language_info": {
   "codemirror_mode": {
    "name": "ipython",
    "version": 3
   },
   "file_extension": ".py",
   "mimetype": "text/x-python",
   "name": "python",
   "nbconvert_exporter": "python",
   "pygments_lexer": "ipython3",
   "version": "3.9.5"
  }
 },
 "nbformat": 4,
 "nbformat_minor": 2
}
