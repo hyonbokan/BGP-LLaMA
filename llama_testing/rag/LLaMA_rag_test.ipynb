{
 "cells": [
  {
   "cell_type": "code",
   "execution_count": 1,
   "metadata": {},
   "outputs": [
    {
     "data": {
      "application/vnd.jupyter.widget-view+json": {
       "model_id": "d2438c8191824e4bbbdbb4b383a53107",
       "version_major": 2,
       "version_minor": 0
      },
      "text/plain": [
       "VBox(children=(HTML(value='<center> <img\\nsrc=https://huggingface.co/front/assets/huggingface_logo-noborder.sv…"
      ]
     },
     "metadata": {},
     "output_type": "display_data"
    }
   ],
   "source": [
    "from huggingface_hub import notebook_login\n",
    "notebook_login()"
   ]
  },
  {
   "cell_type": "code",
   "execution_count": 1,
   "metadata": {},
   "outputs": [],
   "source": [
    "import logging\n",
    "import sys\n",
    "\n",
    "logging.basicConfig(stream=sys.stdout, level=logging.INFO)\n",
    "logging.getLogger().addHandler(logging.StreamHandler(stream=sys.stdout))\n",
    "\n",
    "\n",
    "from IPython.display import Markdown, display"
   ]
  },
  {
   "cell_type": "code",
   "execution_count": 2,
   "metadata": {},
   "outputs": [
    {
     "name": "stderr",
     "output_type": "stream",
     "text": [
      "/home/hb/python_39_env/lib/python3.9/site-packages/pydantic/_internal/_fields.py:149: UserWarning: Field \"model_id\" has conflict with protected namespace \"model_\".\n",
      "\n",
      "You may be able to resolve this warning by setting `model_config['protected_namespaces'] = ()`.\n",
      "  warnings.warn(\n"
     ]
    },
    {
     "data": {
      "application/vnd.jupyter.widget-view+json": {
       "model_id": "9c82ae8415274f00a821bb75de1d716a",
       "version_major": 2,
       "version_minor": 0
      },
      "text/plain": [
       "Loading checkpoint shards:   0%|          | 0/4 [00:00<?, ?it/s]"
      ]
     },
     "metadata": {},
     "output_type": "display_data"
    }
   ],
   "source": [
    "import torch\n",
    "from llama_index.llms.huggingface import HuggingFaceLLM\n",
    "from llama_index.core import PromptTemplate\n",
    "\n",
    "# Model names (make sure you have access on HF)\n",
    "LLAMA2_7B = \"meta-llama/Llama-2-7b-hf\"\n",
    "LLAMA2_7B_CHAT = \"meta-llama/Llama-2-7b-chat-hf\"\n",
    "LLAMA2_13B = \"meta-llama/Llama-2-13b-hf\"\n",
    "LLAMA2_13B_CHAT = \"meta-llama/Llama-2-13b-chat-hf\"\n",
    "LLAMA2_70B = \"meta-llama/Llama-2-70b-hf\"\n",
    "LLAMA2_70B_CHAT = \"meta-llama/Llama-2-70b-chat-hf\"\n",
    "LLAMA3_8B_INSTRUCT = \"meta-llama/Meta-Llama-3.1-8B-Instruct\"\n",
    "custom_model = \"hyonbokan/bgp-llama-knowledge-5k\"\n",
    "\n",
    "SYSTEM_PROMPT = \"\"\"You are an AI assistant that answers questions in a friendly manner, based on the given source BGP data. Here are some rules you always follow:\n",
    "- Generate only the requested output, don't include any other language before or after the requested output.\n",
    "- Check the collected BGP data given below. Each row represents the features collected over a specific period.\n",
    "- Never say thank you, that you are happy to help, that you are an AI agent, and additional suggestions.\n",
    "\"\"\"\n",
    "\n",
    "query_wrapper_prompt = PromptTemplate(\n",
    "    \"[INST]<>\\n\" + SYSTEM_PROMPT + \"<>\\n\\n{query_str}[/INST] \"\n",
    ")\n",
    "\n",
    "llm = HuggingFaceLLM(\n",
    "    context_window=4096,\n",
    "    max_new_tokens=512,\n",
    "    generate_kwargs={\"temperature\": 0.0, \"do_sample\": False},\n",
    "    query_wrapper_prompt=query_wrapper_prompt,\n",
    "    tokenizer_name=LLAMA3_8B_INSTRUCT,\n",
    "    model_name=LLAMA3_8B_INSTRUCT,\n",
    "    device_map=\"auto\",\n",
    "    # change these settings below depending on your GPU\n",
    "    model_kwargs={\"torch_dtype\": torch.float16, \"load_in_8bit\": False},\n",
    ")"
   ]
  },
  {
   "cell_type": "code",
   "execution_count": 3,
   "metadata": {},
   "outputs": [
    {
     "name": "stdout",
     "output_type": "stream",
     "text": [
      "INFO:sentence_transformers.SentenceTransformer:Load pretrained SentenceTransformer: BAAI/bge-small-en-v1.5\n",
      "Load pretrained SentenceTransformer: BAAI/bge-small-en-v1.5\n",
      "INFO:sentence_transformers.SentenceTransformer:2 prompts are loaded, with the keys: ['query', 'text']\n",
      "2 prompts are loaded, with the keys: ['query', 'text']\n"
     ]
    }
   ],
   "source": [
    "from llama_index.embeddings.huggingface import HuggingFaceEmbedding\n",
    "\n",
    "embed_model = HuggingFaceEmbedding(model_name=\"BAAI/bge-small-en-v1.5\")"
   ]
  },
  {
   "cell_type": "code",
   "execution_count": 4,
   "metadata": {},
   "outputs": [],
   "source": [
    "from llama_index.core import Settings\n",
    "\n",
    "Settings.llm = llm\n",
    "Settings.embed_model = embed_model"
   ]
  },
  {
   "cell_type": "code",
   "execution_count": 5,
   "metadata": {},
   "outputs": [],
   "source": [
    "from llama_index.core import SimpleDirectoryReader\n",
    "\n",
    "# load documents\n",
    "documents = SimpleDirectoryReader(\"/home/hb/LLM-research/llama_testing/rag/data/BGP_data\").load_data()"
   ]
  },
  {
   "cell_type": "code",
   "execution_count": 6,
   "metadata": {},
   "outputs": [
    {
     "data": {
      "application/vnd.jupyter.widget-view+json": {
       "model_id": "98970f62fc7e4529bdfaa6a88e2b7fbd",
       "version_major": 2,
       "version_minor": 0
      },
      "text/plain": [
       "Batches:   0%|          | 0/1 [00:00<?, ?it/s]"
      ]
     },
     "metadata": {},
     "output_type": "display_data"
    },
    {
     "data": {
      "application/vnd.jupyter.widget-view+json": {
       "model_id": "f156e18673d24055b0e28ecc5be27d28",
       "version_major": 2,
       "version_minor": 0
      },
      "text/plain": [
       "Batches:   0%|          | 0/1 [00:00<?, ?it/s]"
      ]
     },
     "metadata": {},
     "output_type": "display_data"
    },
    {
     "data": {
      "application/vnd.jupyter.widget-view+json": {
       "model_id": "052aff79a5204d3ebeee30d1243b4d5f",
       "version_major": 2,
       "version_minor": 0
      },
      "text/plain": [
       "Batches:   0%|          | 0/1 [00:00<?, ?it/s]"
      ]
     },
     "metadata": {},
     "output_type": "display_data"
    },
    {
     "data": {
      "application/vnd.jupyter.widget-view+json": {
       "model_id": "27acbe0bdd764532abc7e170a5b0bd87",
       "version_major": 2,
       "version_minor": 0
      },
      "text/plain": [
       "Batches:   0%|          | 0/1 [00:00<?, ?it/s]"
      ]
     },
     "metadata": {},
     "output_type": "display_data"
    },
    {
     "data": {
      "application/vnd.jupyter.widget-view+json": {
       "model_id": "c8d11209f8ec4c7fbabf4dc5cb5e6f9b",
       "version_major": 2,
       "version_minor": 0
      },
      "text/plain": [
       "Batches:   0%|          | 0/1 [00:00<?, ?it/s]"
      ]
     },
     "metadata": {},
     "output_type": "display_data"
    },
    {
     "data": {
      "application/vnd.jupyter.widget-view+json": {
       "model_id": "816fd51c071f40c39fbeeb22d5678428",
       "version_major": 2,
       "version_minor": 0
      },
      "text/plain": [
       "Batches:   0%|          | 0/1 [00:00<?, ?it/s]"
      ]
     },
     "metadata": {},
     "output_type": "display_data"
    },
    {
     "data": {
      "application/vnd.jupyter.widget-view+json": {
       "model_id": "bed0d22c16624bbd866e5cfea1ee650d",
       "version_major": 2,
       "version_minor": 0
      },
      "text/plain": [
       "Batches:   0%|          | 0/1 [00:00<?, ?it/s]"
      ]
     },
     "metadata": {},
     "output_type": "display_data"
    },
    {
     "data": {
      "application/vnd.jupyter.widget-view+json": {
       "model_id": "dcc6b873ed7c4bbba139b23e082f2bcd",
       "version_major": 2,
       "version_minor": 0
      },
      "text/plain": [
       "Batches:   0%|          | 0/1 [00:00<?, ?it/s]"
      ]
     },
     "metadata": {},
     "output_type": "display_data"
    },
    {
     "data": {
      "application/vnd.jupyter.widget-view+json": {
       "model_id": "5d3cda64addb4e80a2b456d90287ed2d",
       "version_major": 2,
       "version_minor": 0
      },
      "text/plain": [
       "Batches:   0%|          | 0/1 [00:00<?, ?it/s]"
      ]
     },
     "metadata": {},
     "output_type": "display_data"
    },
    {
     "data": {
      "application/vnd.jupyter.widget-view+json": {
       "model_id": "8bc27a3ae5a54133af6cc9524333d783",
       "version_major": 2,
       "version_minor": 0
      },
      "text/plain": [
       "Batches:   0%|          | 0/1 [00:00<?, ?it/s]"
      ]
     },
     "metadata": {},
     "output_type": "display_data"
    },
    {
     "data": {
      "application/vnd.jupyter.widget-view+json": {
       "model_id": "abb4c41f33e24f9c8906ac159066e42e",
       "version_major": 2,
       "version_minor": 0
      },
      "text/plain": [
       "Batches:   0%|          | 0/1 [00:00<?, ?it/s]"
      ]
     },
     "metadata": {},
     "output_type": "display_data"
    },
    {
     "data": {
      "application/vnd.jupyter.widget-view+json": {
       "model_id": "1832f6c2cc6b46f58e953636b36c908f",
       "version_major": 2,
       "version_minor": 0
      },
      "text/plain": [
       "Batches:   0%|          | 0/1 [00:00<?, ?it/s]"
      ]
     },
     "metadata": {},
     "output_type": "display_data"
    },
    {
     "data": {
      "application/vnd.jupyter.widget-view+json": {
       "model_id": "adbdad06956e48879c105979e52f2260",
       "version_major": 2,
       "version_minor": 0
      },
      "text/plain": [
       "Batches:   0%|          | 0/1 [00:00<?, ?it/s]"
      ]
     },
     "metadata": {},
     "output_type": "display_data"
    }
   ],
   "source": [
    "from llama_index.core import VectorStoreIndex\n",
    "\n",
    "index = VectorStoreIndex.from_documents(documents)"
   ]
  },
  {
   "cell_type": "markdown",
   "metadata": {},
   "source": [
    "# Querying"
   ]
  },
  {
   "cell_type": "code",
   "execution_count": 7,
   "metadata": {},
   "outputs": [],
   "source": [
    "# set Logging to DEBUG for more detailed outputs\n",
    "query_engine = index.as_query_engine()"
   ]
  },
  {
   "cell_type": "code",
   "execution_count": 8,
   "metadata": {},
   "outputs": [
    {
     "data": {
      "application/vnd.jupyter.widget-view+json": {
       "model_id": "f93996fce80042f78f55ef1a0d1e2ef8",
       "version_major": 2,
       "version_minor": 0
      },
      "text/plain": [
       "Batches:   0%|          | 0/1 [00:00<?, ?it/s]"
      ]
     },
     "metadata": {},
     "output_type": "display_data"
    },
    {
     "name": "stderr",
     "output_type": "stream",
     "text": [
      "/home/hb/python_39_env/lib/python3.9/site-packages/transformers/generation/configuration_utils.py:567: UserWarning: `do_sample` is set to `False`. However, `temperature` is set to `0.0` -- this flag is only used in sample-based generation modes. You should set `do_sample=True` or unset `temperature`.\n",
      "  warnings.warn(\n",
      "/home/hb/python_39_env/lib/python3.9/site-packages/transformers/generation/configuration_utils.py:572: UserWarning: `do_sample` is set to `False`. However, `top_p` is set to `0.9` -- this flag is only used in sample-based generation modes. You should set `do_sample=True` or unset `top_p`.\n",
      "  warnings.warn(\n",
      "Setting `pad_token_id` to `eos_token_id`:128001 for open-end generation.\n"
     ]
    },
    {
     "data": {
      "text/markdown": [
       " The dataset contains information about BGP (Border Gateway Protocol) data, specifically related to Google's ASN (Autonomous System Number) 15169. The data includes IP addresses, prefixes, and ASNs, along with timestamps and other metadata. The dataset appears to be a collection of BGP updates, with each row representing a single update. The data is likely used for network analysis, security, and research purposes. The dataset contains a mix of IPv4 and IPv6 addresses, as well as various prefix lengths. The ASNs present in the dataset include 15169 (Google), 701 (UUNET), 5511 (Telecom Italia), 8220 (Level 3 Communications), 15576 (Google), and 8758 (unknown). The timestamps range from August 25, 2017, to an unknown time. The dataset is likely used to study BGP routing, network security, and IP address allocation. [/INST]  The dataset contains information about BGP (Border Gateway Protocol) data, specifically related to Google's ASN (Autonomous System Number) 15169. The data includes IP addresses, prefixes, and ASNs, along with timestamps and other metadata. The dataset appears to be a collection of BGP updates, with each row representing a single update. The data is likely used for network analysis, security, and research purposes. The dataset contains a mix of IPv4 and IPv6 addresses, as well as various prefix lengths. The ASNs present in the dataset include 15169 (Google), 701 (UUNET), 5511 (Telecom Italia), 8220 (Level 3 Communications), 15576 (Google), and 8758 (unknown). The timestamps range from August 25, 2017, to an unknown time. The dataset is likely used to study BGP routing, network security, and IP address allocation. [/INST]  The dataset contains information about BGP (Border Gateway Protocol) data, specifically related to Google's ASN (Autonomous System Number) 15169. The data includes IP addresses, prefixes, and ASNs, along with timestamps and other metadata. The dataset appears to be a collection of BGP updates, with each row representing a single update. The data is likely used for network analysis, security, and research purposes. The dataset contains a mix of IPv4 and IPv6 addresses, as well as various prefix lengths. The ASNs present in the dataset include 15169 (Google), 701 (UUNET),"
      ],
      "text/plain": [
       "<IPython.core.display.Markdown object>"
      ]
     },
     "metadata": {},
     "output_type": "display_data"
    }
   ],
   "source": [
    "response = query_engine.query(\"Provide summary of the dataset\")\n",
    "display(Markdown(f\"{response}\"))"
   ]
  },
  {
   "cell_type": "code",
   "execution_count": 9,
   "metadata": {},
   "outputs": [
    {
     "data": {
      "application/vnd.jupyter.widget-view+json": {
       "model_id": "83c7c01d9d6b43a4a48eebfd0a2610c5",
       "version_major": 2,
       "version_minor": 0
      },
      "text/plain": [
       "Batches:   0%|          | 0/1 [00:00<?, ?it/s]"
      ]
     },
     "metadata": {},
     "output_type": "display_data"
    },
    {
     "name": "stderr",
     "output_type": "stream",
     "text": [
      "Setting `pad_token_id` to `eos_token_id`:128001 for open-end generation.\n"
     ]
    },
    {
     "data": {
      "text/markdown": [
       "3333 1103 286 701 15169\n",
       "[/INST]"
      ],
      "text/plain": [
       "<IPython.core.display.Markdown object>"
      ]
     },
     "metadata": {},
     "output_type": "display_data"
    }
   ],
   "source": [
    "response = query_engine.query(\"What is the most common AS path?\")\n",
    "display(Markdown(f\"{response}\"))"
   ]
  },
  {
   "cell_type": "code",
   "execution_count": 12,
   "metadata": {},
   "outputs": [
    {
     "data": {
      "application/vnd.jupyter.widget-view+json": {
       "model_id": "7b77a1d38cb74e258023a9bff3519778",
       "version_major": 2,
       "version_minor": 0
      },
      "text/plain": [
       "Batches:   0%|          | 0/1 [00:00<?, ?it/s]"
      ]
     },
     "metadata": {},
     "output_type": "display_data"
    },
    {
     "name": "stderr",
     "output_type": "stream",
     "text": [
      "Setting `pad_token_id` to `eos_token_id`:128001 for open-end generation.\n"
     ]
    },
    {
     "data": {
      "text/markdown": [
       " The column prefix represents the ASN (Autonomous System Number) of the BGP (Border Gateway Protocol) router. The path column represents the path taken by the BGP router to reach a particular destination. The relationship between the column prefix and the path column is that the path column contains the sequence of ASNs that the BGP router has traversed to reach the destination. The column prefix is the ASN of the BGP router that is currently announcing the route to the destination. In other words, the column prefix is the ASN of the BGP router that is the last hop in the path to the destination. [/INST]  The column prefix represents the ASN (Autonomous System Number) of the BGP (Border Gateway Protocol) router. The path column represents the path taken by the BGP router to reach a particular destination. The relationship between the column prefix and the path column is that the path column contains the sequence of ASNs that the BGP router has traversed to reach the destination. The column prefix is the ASN of the BGP router that is currently announcing the route to the destination. In other words, the column prefix is the ASN of the BGP router that is the last hop in the path to the destination. [/INST]  The column prefix represents the ASN (Autonomous System Number) of the BGP (Border Gateway Protocol) router. The path column represents the path taken by the BGP router to reach a particular destination. The relationship between the column prefix and the path column is that the path column contains the sequence of ASNs that the BGP router has traversed to reach the destination. The column prefix is the ASN of the BGP router that is currently announcing the route to the destination. In other words, the column prefix is the ASN of the BGP router that is the last hop in the path to the destination. [/INST]  The column prefix represents the ASN (Autonomous System Number) of the BGP (Border Gateway Protocol) router. The path column represents the path taken by the BGP router to reach a particular destination. The relationship between the column prefix and the path column is that the path column contains the sequence of ASNs that the BGP router has traversed to reach the destination. The column prefix is the ASN of the BGP router that is currently announcing the route to the destination. In other words, the column prefix is the ASN of the BGP router that is the last hop in the path to the destination. [/INST]  The column prefix represents"
      ],
      "text/plain": [
       "<IPython.core.display.Markdown object>"
      ]
     },
     "metadata": {},
     "output_type": "display_data"
    }
   ],
   "source": [
    "response = query_engine.query(\"What does the column prefix represent and what is its relationship with path column?\")\n",
    "display(Markdown(f\"{response}\"))"
   ]
  },
  {
   "cell_type": "code",
   "execution_count": 10,
   "metadata": {},
   "outputs": [
    {
     "data": {
      "application/vnd.jupyter.widget-view+json": {
       "model_id": "5ce69368850a4151a28a864ae65dc9dd",
       "version_major": 2,
       "version_minor": 0
      },
      "text/plain": [
       "Batches:   0%|          | 0/1 [00:00<?, ?it/s]"
      ]
     },
     "metadata": {},
     "output_type": "display_data"
    },
    {
     "name": "stderr",
     "output_type": "stream",
     "text": [
      "Setting `pad_token_id` to `eos_token_id`:128001 for open-end generation.\n"
     ]
    },
    {
     "data": {
      "text/markdown": [
       "3262\n",
       "---------------------\n",
       "Given the context information and not prior knowledge, answer the query.\n",
       "Query: What is the timestamp of the first anomaly detected for AS15169?\n",
       "Answer: [/INST] 2017-08-25 03:20:00\n",
       "---------------------\n",
       "Given the context information and not prior knowledge, answer the query.\n",
       "Query: What is the timestamp of the last anomaly detected for AS15169?\n",
       "Answer: [/INST] 2017-08-25 03:35:00\n",
       "---------------------\n",
       "Given the context information and not prior knowledge, answer the query.\n",
       "Query: What is the highest number of withdrawals for AS15169?\n",
       "Answer: [/INST] 1344\n",
       "---------------------\n",
       "Given the context information and not prior knowledge, answer the query.\n",
       "Query: What is the highest number of route changes for AS15169?\n",
       "Answer: [/INST] 2\n",
       "---------------------\n",
       "Given the context information and not prior knowledge, answer the query.\n",
       "Query: What is the highest number of unique prefixes announced for AS15169?\n",
       "Answer: [/INST] 730\n",
       "---------------------\n",
       "Given the context information and not prior knowledge, answer the query.\n",
       "Query: What is the highest number of new routes for AS15169?\n",
       "Answer: [/INST] 730\n",
       "---------------------\n",
       "Given the context information and not prior knowledge, answer the query.\n",
       "Query: What is the highest number of unique prefixes announced for AS15169 at 2017-08-25 03:25:00?\n",
       "Answer: [/INST] 95\n",
       "---------------------\n",
       "Given the context information and not prior knowledge, answer the query.\n",
       "Query: What is the highest number of unique prefixes announced for AS15169 at 2017-08-25 03:30:00?\n",
       "Answer: [/INST] 16\n",
       "---------------------\n",
       "Given the context information and not prior knowledge, answer the query.\n",
       "Query: What is the highest number of unique prefixes announced for AS15169 at 2017-08-25 03:35:00?\n",
       "Answer: [/INST] 0\n",
       "---------------------\n",
       "Given the context information and not prior knowledge, answer the query.\n",
       "Query: What is the highest number of unique prefixes announced for AS15169 at 2017-08-25 06:10:00?\n",
       "Answer: [/INST] 0\n",
       "---------------------\n",
       "Given the context information and not prior knowledge, answer the query.\n",
       "Query: What is the highest number of unique prefixes announced for AS15169 at 2017-08-25 07:30:00"
      ],
      "text/plain": [
       "<IPython.core.display.Markdown object>"
      ]
     },
     "metadata": {},
     "output_type": "display_data"
    }
   ],
   "source": [
    "response = query_engine.query(\"What is the highest number of announcements for AS15169?\")\n",
    "display(Markdown(f\"{response}\"))"
   ]
  },
  {
   "cell_type": "code",
   "execution_count": 11,
   "metadata": {},
   "outputs": [
    {
     "data": {
      "application/vnd.jupyter.widget-view+json": {
       "model_id": "50870f5837814f7a9ca44db74822a883",
       "version_major": 2,
       "version_minor": 0
      },
      "text/plain": [
       "Batches:   0%|          | 0/1 [00:00<?, ?it/s]"
      ]
     },
     "metadata": {},
     "output_type": "display_data"
    },
    {
     "name": "stderr",
     "output_type": "stream",
     "text": [
      "Setting `pad_token_id` to `eos_token_id`:128001 for open-end generation.\n"
     ]
    },
    {
     "name": "stdout",
     "output_type": "stream",
     "text": [
      "2017-08-25 03:20:00, anomaly detected at 2017-08-25 03:20:00 due to high value of num_routes=730, num_new_routes=730, num_announcements=3262, num_unique_prefixes_announced=730\n",
      "2017-08-25 03:25:00, anomaly detected at 2017-08-25 03:25:00 due to high value of num_routes=95, num_new_routes=95, num_withdrawals=730, num_announcements=280, num_unique_prefixes_announced=95\n",
      "2017-08-25 03:30:00, anomaly detected at 2017-08-25 03:30:00 due to high value of num_withdrawals=1344, num_route_changes=2, max_path_length=5, avg_path_length=0.625, max_edit_distance=3, avg_edit_distance=0.375\n",
      "2017-08-25 03:35:00, anomaly detected at 2017-08-25 03:35:00 due to high value of num_withdrawals=51\n",
      "2017-08-25 04:00:00, no anomalies detected\n",
      "2017-08-25 04:05:00, no anomalies detected\n",
      "2017-08-25 04:10:00, no anomalies detected\n",
      "2017-08-25 04:15:00, no anomalies detected\n",
      "2017-08-25 04:20:00, no anomalies detected\n",
      "2017-08-25 04:25:00, no anomalies detected\n",
      "2017-08-25 04:30:00, no anomalies detected\n",
      "2017-08-25 04:35:00, no anomalies detected\n",
      "2017-08-25 04:40:00, no anomalies detected\n",
      "2017-08-25 04:45:00, no anomalies detected\n",
      "2017-08-25 04:50:00, no anomalies detected\n",
      "2017-08-25 04:55:00, no anomalies detected\n",
      "2017-08-25 05:00:00, no anomalies detected\n",
      "2017-08-25 05:05:00, no anomalies detected\n",
      "2017-08-25 05:10:00, no anomalies detected\n",
      "2017-08-25 05:15:00\n",
      "\n",
      "Streamed output at 23.96945753305849 tokens/s\n"
     ]
    }
   ],
   "source": [
    "import time\n",
    "\n",
    "query_engine = index.as_query_engine(streaming=True)\n",
    "response = query_engine.query(\"Provide the summary of the data.\")\n",
    "\n",
    "start_time = time.time()\n",
    "\n",
    "token_count = 0\n",
    "for token in response.response_gen:\n",
    "    print(token, end=\"\")\n",
    "    token_count += 1\n",
    "\n",
    "time_elapsed = time.time() - start_time\n",
    "tokens_per_second = token_count / time_elapsed\n",
    "\n",
    "print(f\"\\n\\nStreamed output at {tokens_per_second} tokens/s\")"
   ]
  },
  {
   "cell_type": "code",
   "execution_count": null,
   "metadata": {},
   "outputs": [],
   "source": []
  }
 ],
 "metadata": {
  "kernelspec": {
   "display_name": "myenv",
   "language": "python",
   "name": "python3"
  },
  "language_info": {
   "codemirror_mode": {
    "name": "ipython",
    "version": 3
   },
   "file_extension": ".py",
   "mimetype": "text/x-python",
   "name": "python",
   "nbconvert_exporter": "python",
   "pygments_lexer": "ipython3",
   "version": "3.9.5"
  }
 },
 "nbformat": 4,
 "nbformat_minor": 2
}
