{
 "cells": [
  {
   "cell_type": "code",
   "execution_count": 2,
   "metadata": {},
   "outputs": [
    {
     "name": "stdout",
     "output_type": "stream",
     "text": [
      "Collecting scipy\n",
      "  Downloading scipy-1.10.1-cp38-cp38-manylinux_2_17_x86_64.manylinux2014_x86_64.whl (34.5 MB)\n",
      "\u001b[2K     \u001b[90m━━━━━━━━━━━━━━━━━━━━━━━━━━━━━━━━━━━━━━━━\u001b[0m \u001b[32m34.5/34.5 MB\u001b[0m \u001b[31m20.7 MB/s\u001b[0m eta \u001b[36m0:00:00\u001b[0m00:01\u001b[0m00:01\u001b[0m\n",
      "\u001b[?25hRequirement already satisfied: numpy<1.27.0,>=1.19.5 in /home/hb/myenv/lib/python3.8/site-packages (from scipy) (1.24.4)\n",
      "Installing collected packages: scipy\n",
      "Successfully installed scipy-1.10.1\n",
      "Note: you may need to restart the kernel to use updated packages.\n"
     ]
    }
   ],
   "source": [
    "# %pip install -qU transformers accelerate einops langchain xformers bitsandbytes\n",
    "# %pip install scipy"
   ]
  },
  {
   "cell_type": "code",
   "execution_count": 3,
   "metadata": {},
   "outputs": [
    {
     "name": "stderr",
     "output_type": "stream",
     "text": [
      "/home/hb/myenv/lib/python3.8/site-packages/transformers/modeling_utils.py:2193: FutureWarning: The `use_auth_token` argument is deprecated and will be removed in v5 of Transformers.\n",
      "  warnings.warn(\n",
      "Downloading (…)fetensors.index.json: 100%|██████████| 66.7k/66.7k [00:00<00:00, 384kB/s]\n",
      "Downloading (…)of-00015.safetensors: 100%|██████████| 9.85G/9.85G [08:03<00:00, 20.4MB/s]\n",
      "Downloading (…)of-00015.safetensors: 100%|██████████| 9.80G/9.80G [08:31<00:00, 19.1MB/s]\n",
      "Downloading (…)of-00015.safetensors: 100%|██████████| 9.97G/9.97G [10:32<00:00, 15.8MB/s]\n",
      "Downloading (…)of-00015.safetensors: 100%|██████████| 9.80G/9.80G [07:10<00:00, 22.8MB/s]\n",
      "Downloading (…)of-00015.safetensors: 100%|██████████| 9.80G/9.80G [01:48<00:00, 90.4MB/s]\n",
      "Downloading (…)of-00015.safetensors: 100%|██████████| 9.80G/9.80G [07:50<00:00, 20.8MB/s]\n",
      "Downloading (…)of-00015.safetensors: 100%|██████████| 9.97G/9.97G [01:53<00:00, 88.1MB/s]\n",
      "Downloading (…)of-00015.safetensors: 100%|██████████| 9.80G/9.80G [01:47<00:00, 91.4MB/s]\n",
      "Downloading (…)of-00015.safetensors: 100%|██████████| 9.80G/9.80G [01:47<00:00, 91.5MB/s]\n",
      "Downloading (…)of-00015.safetensors: 100%|██████████| 9.80G/9.80G [01:52<00:00, 86.8MB/s]\n",
      "Downloading (…)of-00015.safetensors: 100%|██████████| 9.97G/9.97G [07:28<00:00, 22.2MB/s]\n",
      "Downloading (…)of-00015.safetensors: 100%|██████████| 9.80G/9.80G [07:17<00:00, 22.4MB/s]\n",
      "Downloading (…)of-00015.safetensors: 100%|██████████| 9.80G/9.80G [07:30<00:00, 21.8MB/s]\n",
      "Downloading (…)of-00015.safetensors: 100%|██████████| 9.50G/9.50G [07:02<00:00, 22.5MB/s]\n",
      "Downloading (…)of-00015.safetensors: 100%|██████████| 524M/524M [00:24<00:00, 21.8MB/s]\n",
      "Downloading shards: 100%|██████████| 15/15 [1:21:14<00:00, 324.96s/it]\n",
      "Loading checkpoint shards: 100%|██████████| 15/15 [00:35<00:00,  2.35s/it]\n",
      "Downloading (…)neration_config.json: 100%|██████████| 197/197 [00:00<00:00, 15.3kB/s]\n"
     ]
    },
    {
     "name": "stdout",
     "output_type": "stream",
     "text": [
      "Model loaded on cuda:0\n"
     ]
    }
   ],
   "source": [
    "from torch import cuda, bfloat16\n",
    "import transformers\n",
    "\n",
    "model_id = 'meta-llama/Llama-2-70b-chat-hf'\n",
    "\n",
    "device = f'cuda:{cuda.current_device()}' if cuda.is_available() else 'cpu'\n",
    "\n",
    "bnb_config = transformers.BitsAndBytesConfig(\n",
    "    load_in_4bit=True,\n",
    "    bnb_4bit_quant_type='nf4',\n",
    "    bnb_4bit_use_double_quant=True,\n",
    "    bnb_4bit_compute_dtype=bfloat16\n",
    ")\n",
    "\n",
    "# Need auth token for these\n",
    "hf_auth = '<hugging face token>'\n",
    "model_config = transformers.AutoConfig.from_pretrained(\n",
    "    model_id,\n",
    "    use_auth_token=hf_auth\n",
    ")\n",
    "\n",
    "model = transformers.AutoModelForCausalLM.from_pretrained(\n",
    "    model_id,\n",
    "    trust_remote_code=True,\n",
    "    config=model_config,\n",
    "    quantization_config=bnb_config,\n",
    "    device_map='auto',\n",
    "    use_auth_token=hf_auth\n",
    ")\n",
    "model.eval()\n",
    "print(f\"Model loaded on {device}\")"
   ]
  },
  {
   "cell_type": "code",
   "execution_count": 4,
   "metadata": {},
   "outputs": [
    {
     "name": "stderr",
     "output_type": "stream",
     "text": [
      "Downloading (…)okenizer_config.json: 100%|██████████| 749/749 [00:00<00:00, 56.2kB/s]\n",
      "/home/hb/myenv/lib/python3.8/site-packages/transformers/tokenization_utils_base.py:1714: FutureWarning: The `use_auth_token` argument is deprecated and will be removed in v5 of Transformers.\n",
      "  warnings.warn(\n",
      "Downloading tokenizer.model: 100%|██████████| 500k/500k [00:00<00:00, 21.1MB/s]\n",
      "Downloading (…)/main/tokenizer.json: 100%|██████████| 1.84M/1.84M [00:00<00:00, 2.67MB/s]\n",
      "Downloading (…)cial_tokens_map.json: 100%|██████████| 414/414 [00:00<00:00, 95.9kB/s]\n"
     ]
    }
   ],
   "source": [
    "tokenizer = transformers.AutoTokenizer.from_pretrained(\n",
    "    model_id,\n",
    "    use_auth_token=hf_auth\n",
    ")"
   ]
  },
  {
   "attachments": {},
   "cell_type": "markdown",
   "metadata": {},
   "source": [
    "# Stop Criteria"
   ]
  },
  {
   "attachments": {},
   "cell_type": "markdown",
   "metadata": {},
   "source": [
    "If we don't provide a stopping criteria the model just goes on a bit of a tangent after answering the initial question."
   ]
  },
  {
   "cell_type": "code",
   "execution_count": null,
   "metadata": {},
   "outputs": [],
   "source": [
    "# stop_list = ['\\nUser:', '\\n```\\n']\n",
    "\n",
    "# stop_token_ids = [tokenizer(x)['input_ids'] for x in stop_list]\n",
    "# stop_token_ids"
   ]
  },
  {
   "cell_type": "code",
   "execution_count": null,
   "metadata": {},
   "outputs": [],
   "source": [
    "# import torch\n",
    "\n",
    "# stop_token_ids = [torch.LongTensor(x).to(device) for x in stop_token_ids]\n",
    "# stop_token_ids"
   ]
  },
  {
   "attachments": {},
   "cell_type": "markdown",
   "metadata": {},
   "source": [
    "We can do a quick spot check that no <unk> token IDs (0) appear in the stop_token_ids — there are none so we can move on to building the stopping criteria object that will check whether the stopping criteria has been satisfied — meaning whether any of these token ID combinations have been generated."
   ]
  },
  {
   "cell_type": "code",
   "execution_count": null,
   "metadata": {},
   "outputs": [],
   "source": [
    "# from transformers import StoppingCriteria, StoppingCriteriaList\n",
    "\n",
    "# # define custom stopping criteria object\n",
    "# class StopOnTokens(StoppingCriteria):\n",
    "#     def __call__(self, input_ids: torch.LongTensor, scores: torch.FloatTensor, **kwargs) -> bool:\n",
    "#         for stop_ids in stop_token_ids:\n",
    "#             if torch.eq(input_ids[0][-len(stop_ids):], stop_ids).all():\n",
    "#                 return True\n",
    "#         return False\n",
    "\n",
    "# stopping_criteria = StoppingCriteriaList([StopOnTokens()])"
   ]
  },
  {
   "cell_type": "code",
   "execution_count": 88,
   "metadata": {},
   "outputs": [],
   "source": [
    "generate_text = transformers.pipeline(\n",
    "    model=model, \n",
    "    tokenizer=tokenizer,\n",
    "    return_full_text=True,  # langchain expects the full text\n",
    "    task=\"text-generation\",\n",
    "    # we pass model parameters here too\n",
    "    #stopping_criteria=stopping_criteria,  # without this model rambles during chat\n",
    "    temperature=0.0,  # 'randomness' of outputs, 0.0 is the min and 1.0 the max\n",
    "    max_new_tokens=1024,  # max number of tokens to generate in the output\n",
    "    repetition_penalty=1.1  # without this output begins repeating\n",
    ")"
   ]
  },
  {
   "cell_type": "code",
   "execution_count": 89,
   "metadata": {},
   "outputs": [],
   "source": [
    "from langchain import HuggingFacePipeline\n",
    "llm = HuggingFacePipeline(pipeline=generate_text)"
   ]
  },
  {
   "cell_type": "markdown",
   "metadata": {},
   "source": [
    "## SQL local model - Chinook DB"
   ]
  },
  {
   "cell_type": "code",
   "execution_count": 119,
   "metadata": {},
   "outputs": [],
   "source": [
    "from langchain import SQLDatabase, SQLDatabaseChain\n",
    "db = SQLDatabase.from_uri(\"sqlite:///Chinook.db\")\n",
    "db_chain = SQLDatabaseChain.from_llm(llm, db, verbose=True)"
   ]
  },
  {
   "cell_type": "code",
   "execution_count": 120,
   "metadata": {},
   "outputs": [
    {
     "name": "stdout",
     "output_type": "stream",
     "text": [
      "\n",
      "\n",
      "\u001b[1m> Entering new SQLDatabaseChain chain...\u001b[0m\n",
      "How many people are in Employee table?\n",
      "SQLQuery:\u001b[32;1m\u001b[1;3mSELECT COUNT(*) FROM Employee;\u001b[0m\n",
      "SQLResult: \u001b[33;1m\u001b[1;3m[(8,)]\u001b[0m\n",
      "Answer:\u001b[32;1m\u001b[1;3mThere are 8 people in the Employee table.\u001b[0m\n",
      "\u001b[1m> Finished chain.\u001b[0m\n"
     ]
    },
    {
     "data": {
      "text/plain": [
       "'There are 8 people in the Employee table.'"
      ]
     },
     "execution_count": 120,
     "metadata": {},
     "output_type": "execute_result"
    }
   ],
   "source": [
    "db_chain.run(\"How many people are in Employee table?\")"
   ]
  },
  {
   "cell_type": "code",
   "execution_count": 108,
   "metadata": {},
   "outputs": [
    {
     "name": "stdout",
     "output_type": "stream",
     "text": [
      "\n",
      "\n",
      "\u001b[1m> Entering new SQLDatabaseChain chain...\u001b[0m\n",
      "How many albums by Aerosmith?\n",
      "SQLQuery:\u001b[32;1m\u001b[1;3mSELECT COUNT(*) FROM Album WHERE ArtistId = (SELECT ArtistId FROM Artist WHERE Name = 'Aerosmith');\u001b[0m\n",
      "SQLResult: \u001b[33;1m\u001b[1;3m[(1,)]\u001b[0m\n",
      "Answer:\u001b[32;1m\u001b[1;3mThere is one album by Aerosmith.\u001b[0m\n",
      "\u001b[1m> Finished chain.\u001b[0m\n"
     ]
    },
    {
     "data": {
      "text/plain": [
       "'There is one album by Aerosmith.'"
      ]
     },
     "execution_count": 108,
     "metadata": {},
     "output_type": "execute_result"
    }
   ],
   "source": [
    "db_chain.run(\"How many albums by Aerosmith?\")"
   ]
  },
  {
   "cell_type": "code",
   "execution_count": null,
   "metadata": {},
   "outputs": [],
   "source": [
    "from langchain import SQLDatabase, SQLDatabaseChain\n",
    "# db_path = \"home/hb/chinook-database/ChinookDatabase/DataSources/Chinook.db\"\n",
    "db = SQLDatabase.from_uri(\"sqlite:///Chinook.db\")\n",
    "db_chain = SQLDatabaseChain.from_llm(llm, db, verbose=True)"
   ]
  },
  {
   "cell_type": "code",
   "execution_count": 110,
   "metadata": {},
   "outputs": [
    {
     "name": "stdout",
     "output_type": "stream",
     "text": [
      "\n",
      "\n",
      "\u001b[1m> Entering new SQLDatabaseChain chain...\u001b[0m\n",
      "How many employees are there in the foobar table?\n",
      "SQLQuery:\u001b[32;1m\u001b[1;3mSELECT COUNT(*) FROM Employee;\u001b[0m\n",
      "SQLResult: \u001b[33;1m\u001b[1;3m[(8,)]\u001b[0m\n",
      "Answer:\u001b[32;1m\u001b[1;3mThere are 8 employees in the foobar table.\u001b[0m\n",
      "\u001b[1m> Finished chain.\u001b[0m\n"
     ]
    },
    {
     "data": {
      "text/plain": [
       "'There are 8 employees in the foobar table.'"
      ]
     },
     "execution_count": 110,
     "metadata": {},
     "output_type": "execute_result"
    }
   ],
   "source": [
    "db_chain.run(\"How many employees are there in the foobar table?\")"
   ]
  },
  {
   "attachments": {},
   "cell_type": "markdown",
   "metadata": {},
   "source": [
    "### Use Query Checker - check Cutomize Prompt"
   ]
  },
  {
   "cell_type": "code",
   "execution_count": 124,
   "metadata": {},
   "outputs": [],
   "source": [
    "db_chain = SQLDatabaseChain.from_llm(llm, db, verbose=True, use_query_checker=True)"
   ]
  },
  {
   "cell_type": "code",
   "execution_count": 125,
   "metadata": {},
   "outputs": [
    {
     "name": "stdout",
     "output_type": "stream",
     "text": [
      "\n",
      "\n",
      "\u001b[1m> Entering new SQLDatabaseChain chain...\u001b[0m\n",
      "How many albums by Aerosmith?\n",
      "SQLQuery:\u001b[32;1m\u001b[1;3mPlease provide your answer as a rewritten query or an explanation that there are no mistakes.\u001b[0m"
     ]
    },
    {
     "ename": "OperationalError",
     "evalue": "(sqlite3.OperationalError) near \"Please\": syntax error\n[SQL: Please provide your answer as a rewritten query or an explanation that there are no mistakes.]\n(Background on this error at: https://sqlalche.me/e/20/e3q8)",
     "output_type": "error",
     "traceback": [
      "\u001b[0;31m---------------------------------------------------------------------------\u001b[0m",
      "\u001b[0;31mOperationalError\u001b[0m                          Traceback (most recent call last)",
      "File \u001b[0;32m~/myenv/lib/python3.8/site-packages/sqlalchemy/engine/base.py:1965\u001b[0m, in \u001b[0;36mConnection._exec_single_context\u001b[0;34m(self, dialect, context, statement, parameters)\u001b[0m\n\u001b[1;32m   1964\u001b[0m     \u001b[39mif\u001b[39;00m \u001b[39mnot\u001b[39;00m evt_handled:\n\u001b[0;32m-> 1965\u001b[0m         \u001b[39mself\u001b[39;49m\u001b[39m.\u001b[39;49mdialect\u001b[39m.\u001b[39;49mdo_execute(\n\u001b[1;32m   1966\u001b[0m             cursor, str_statement, effective_parameters, context\n\u001b[1;32m   1967\u001b[0m         )\n\u001b[1;32m   1969\u001b[0m \u001b[39mif\u001b[39;00m \u001b[39mself\u001b[39m\u001b[39m.\u001b[39m_has_events \u001b[39mor\u001b[39;00m \u001b[39mself\u001b[39m\u001b[39m.\u001b[39mengine\u001b[39m.\u001b[39m_has_events:\n",
      "File \u001b[0;32m~/myenv/lib/python3.8/site-packages/sqlalchemy/engine/default.py:921\u001b[0m, in \u001b[0;36mDefaultDialect.do_execute\u001b[0;34m(self, cursor, statement, parameters, context)\u001b[0m\n\u001b[1;32m    920\u001b[0m \u001b[39mdef\u001b[39;00m \u001b[39mdo_execute\u001b[39m(\u001b[39mself\u001b[39m, cursor, statement, parameters, context\u001b[39m=\u001b[39m\u001b[39mNone\u001b[39;00m):\n\u001b[0;32m--> 921\u001b[0m     cursor\u001b[39m.\u001b[39;49mexecute(statement, parameters)\n",
      "\u001b[0;31mOperationalError\u001b[0m: near \"Please\": syntax error",
      "\nThe above exception was the direct cause of the following exception:\n",
      "\u001b[0;31mOperationalError\u001b[0m                          Traceback (most recent call last)",
      "Cell \u001b[0;32mIn[125], line 1\u001b[0m\n\u001b[0;32m----> 1\u001b[0m db_chain\u001b[39m.\u001b[39;49mrun(\u001b[39m\"\u001b[39;49m\u001b[39mHow many albums by Aerosmith?\u001b[39;49m\u001b[39m\"\u001b[39;49m)\n",
      "File \u001b[0;32m~/myenv/lib/python3.8/site-packages/langchain/chains/base.py:440\u001b[0m, in \u001b[0;36mChain.run\u001b[0;34m(self, callbacks, tags, metadata, *args, **kwargs)\u001b[0m\n\u001b[1;32m    438\u001b[0m     \u001b[39mif\u001b[39;00m \u001b[39mlen\u001b[39m(args) \u001b[39m!=\u001b[39m \u001b[39m1\u001b[39m:\n\u001b[1;32m    439\u001b[0m         \u001b[39mraise\u001b[39;00m \u001b[39mValueError\u001b[39;00m(\u001b[39m\"\u001b[39m\u001b[39m`run` supports only one positional argument.\u001b[39m\u001b[39m\"\u001b[39m)\n\u001b[0;32m--> 440\u001b[0m     \u001b[39mreturn\u001b[39;00m \u001b[39mself\u001b[39;49m(args[\u001b[39m0\u001b[39;49m], callbacks\u001b[39m=\u001b[39;49mcallbacks, tags\u001b[39m=\u001b[39;49mtags, metadata\u001b[39m=\u001b[39;49mmetadata)[\n\u001b[1;32m    441\u001b[0m         _output_key\n\u001b[1;32m    442\u001b[0m     ]\n\u001b[1;32m    444\u001b[0m \u001b[39mif\u001b[39;00m kwargs \u001b[39mand\u001b[39;00m \u001b[39mnot\u001b[39;00m args:\n\u001b[1;32m    445\u001b[0m     \u001b[39mreturn\u001b[39;00m \u001b[39mself\u001b[39m(kwargs, callbacks\u001b[39m=\u001b[39mcallbacks, tags\u001b[39m=\u001b[39mtags, metadata\u001b[39m=\u001b[39mmetadata)[\n\u001b[1;32m    446\u001b[0m         _output_key\n\u001b[1;32m    447\u001b[0m     ]\n",
      "File \u001b[0;32m~/myenv/lib/python3.8/site-packages/langchain/chains/base.py:243\u001b[0m, in \u001b[0;36mChain.__call__\u001b[0;34m(self, inputs, return_only_outputs, callbacks, tags, metadata, include_run_info)\u001b[0m\n\u001b[1;32m    241\u001b[0m \u001b[39mexcept\u001b[39;00m (\u001b[39mKeyboardInterrupt\u001b[39;00m, \u001b[39mException\u001b[39;00m) \u001b[39mas\u001b[39;00m e:\n\u001b[1;32m    242\u001b[0m     run_manager\u001b[39m.\u001b[39mon_chain_error(e)\n\u001b[0;32m--> 243\u001b[0m     \u001b[39mraise\u001b[39;00m e\n\u001b[1;32m    244\u001b[0m run_manager\u001b[39m.\u001b[39mon_chain_end(outputs)\n\u001b[1;32m    245\u001b[0m final_outputs: Dict[\u001b[39mstr\u001b[39m, Any] \u001b[39m=\u001b[39m \u001b[39mself\u001b[39m\u001b[39m.\u001b[39mprep_outputs(\n\u001b[1;32m    246\u001b[0m     inputs, outputs, return_only_outputs\n\u001b[1;32m    247\u001b[0m )\n",
      "File \u001b[0;32m~/myenv/lib/python3.8/site-packages/langchain/chains/base.py:237\u001b[0m, in \u001b[0;36mChain.__call__\u001b[0;34m(self, inputs, return_only_outputs, callbacks, tags, metadata, include_run_info)\u001b[0m\n\u001b[1;32m    231\u001b[0m run_manager \u001b[39m=\u001b[39m callback_manager\u001b[39m.\u001b[39mon_chain_start(\n\u001b[1;32m    232\u001b[0m     dumpd(\u001b[39mself\u001b[39m),\n\u001b[1;32m    233\u001b[0m     inputs,\n\u001b[1;32m    234\u001b[0m )\n\u001b[1;32m    235\u001b[0m \u001b[39mtry\u001b[39;00m:\n\u001b[1;32m    236\u001b[0m     outputs \u001b[39m=\u001b[39m (\n\u001b[0;32m--> 237\u001b[0m         \u001b[39mself\u001b[39;49m\u001b[39m.\u001b[39;49m_call(inputs, run_manager\u001b[39m=\u001b[39;49mrun_manager)\n\u001b[1;32m    238\u001b[0m         \u001b[39mif\u001b[39;00m new_arg_supported\n\u001b[1;32m    239\u001b[0m         \u001b[39melse\u001b[39;00m \u001b[39mself\u001b[39m\u001b[39m.\u001b[39m_call(inputs)\n\u001b[1;32m    240\u001b[0m     )\n\u001b[1;32m    241\u001b[0m \u001b[39mexcept\u001b[39;00m (\u001b[39mKeyboardInterrupt\u001b[39;00m, \u001b[39mException\u001b[39;00m) \u001b[39mas\u001b[39;00m e:\n\u001b[1;32m    242\u001b[0m     run_manager\u001b[39m.\u001b[39mon_chain_error(e)\n",
      "File \u001b[0;32m~/myenv/lib/python3.8/site-packages/langchain/chains/sql_database/base.py:186\u001b[0m, in \u001b[0;36mSQLDatabaseChain._call\u001b[0;34m(self, inputs, run_manager)\u001b[0m\n\u001b[1;32m    182\u001b[0m \u001b[39mexcept\u001b[39;00m \u001b[39mException\u001b[39;00m \u001b[39mas\u001b[39;00m exc:\n\u001b[1;32m    183\u001b[0m     \u001b[39m# Append intermediate steps to exception, to aid in logging and later\u001b[39;00m\n\u001b[1;32m    184\u001b[0m     \u001b[39m# improvement of few shot prompt seeds\u001b[39;00m\n\u001b[1;32m    185\u001b[0m     exc\u001b[39m.\u001b[39mintermediate_steps \u001b[39m=\u001b[39m intermediate_steps  \u001b[39m# type: ignore\u001b[39;00m\n\u001b[0;32m--> 186\u001b[0m     \u001b[39mraise\u001b[39;00m exc\n",
      "File \u001b[0;32m~/myenv/lib/python3.8/site-packages/langchain/chains/sql_database/base.py:156\u001b[0m, in \u001b[0;36mSQLDatabaseChain._call\u001b[0;34m(self, inputs, run_manager)\u001b[0m\n\u001b[1;32m    150\u001b[0m _run_manager\u001b[39m.\u001b[39mon_text(\n\u001b[1;32m    151\u001b[0m     checked_sql_command, color\u001b[39m=\u001b[39m\u001b[39m\"\u001b[39m\u001b[39mgreen\u001b[39m\u001b[39m\"\u001b[39m, verbose\u001b[39m=\u001b[39m\u001b[39mself\u001b[39m\u001b[39m.\u001b[39mverbose\n\u001b[1;32m    152\u001b[0m )\n\u001b[1;32m    153\u001b[0m intermediate_steps\u001b[39m.\u001b[39mappend(\n\u001b[1;32m    154\u001b[0m     {\u001b[39m\"\u001b[39m\u001b[39msql_cmd\u001b[39m\u001b[39m\"\u001b[39m: checked_sql_command}\n\u001b[1;32m    155\u001b[0m )  \u001b[39m# input: sql exec\u001b[39;00m\n\u001b[0;32m--> 156\u001b[0m result \u001b[39m=\u001b[39m \u001b[39mself\u001b[39;49m\u001b[39m.\u001b[39;49mdatabase\u001b[39m.\u001b[39;49mrun(checked_sql_command)\n\u001b[1;32m    157\u001b[0m intermediate_steps\u001b[39m.\u001b[39mappend(\u001b[39mstr\u001b[39m(result))  \u001b[39m# output: sql exec\u001b[39;00m\n\u001b[1;32m    158\u001b[0m sql_cmd \u001b[39m=\u001b[39m checked_sql_command\n",
      "File \u001b[0;32m~/myenv/lib/python3.8/site-packages/langchain/utilities/sql_database.py:388\u001b[0m, in \u001b[0;36mSQLDatabase.run\u001b[0;34m(self, command, fetch)\u001b[0m\n\u001b[1;32m    386\u001b[0m     \u001b[39melse\u001b[39;00m:\n\u001b[1;32m    387\u001b[0m         connection\u001b[39m.\u001b[39mexec_driver_sql(\u001b[39mf\u001b[39m\u001b[39m\"\u001b[39m\u001b[39mSET search_path TO \u001b[39m\u001b[39m{\u001b[39;00m\u001b[39mself\u001b[39m\u001b[39m.\u001b[39m_schema\u001b[39m}\u001b[39;00m\u001b[39m\"\u001b[39m)\n\u001b[0;32m--> 388\u001b[0m cursor \u001b[39m=\u001b[39m connection\u001b[39m.\u001b[39;49mexecute(text(command))\n\u001b[1;32m    389\u001b[0m \u001b[39mif\u001b[39;00m cursor\u001b[39m.\u001b[39mreturns_rows:\n\u001b[1;32m    390\u001b[0m     \u001b[39mif\u001b[39;00m fetch \u001b[39m==\u001b[39m \u001b[39m\"\u001b[39m\u001b[39mall\u001b[39m\u001b[39m\"\u001b[39m:\n",
      "File \u001b[0;32m~/myenv/lib/python3.8/site-packages/sqlalchemy/engine/base.py:1412\u001b[0m, in \u001b[0;36mConnection.execute\u001b[0;34m(self, statement, parameters, execution_options)\u001b[0m\n\u001b[1;32m   1410\u001b[0m     \u001b[39mraise\u001b[39;00m exc\u001b[39m.\u001b[39mObjectNotExecutableError(statement) \u001b[39mfrom\u001b[39;00m \u001b[39merr\u001b[39;00m\n\u001b[1;32m   1411\u001b[0m \u001b[39melse\u001b[39;00m:\n\u001b[0;32m-> 1412\u001b[0m     \u001b[39mreturn\u001b[39;00m meth(\n\u001b[1;32m   1413\u001b[0m         \u001b[39mself\u001b[39;49m,\n\u001b[1;32m   1414\u001b[0m         distilled_parameters,\n\u001b[1;32m   1415\u001b[0m         execution_options \u001b[39mor\u001b[39;49;00m NO_OPTIONS,\n\u001b[1;32m   1416\u001b[0m     )\n",
      "File \u001b[0;32m~/myenv/lib/python3.8/site-packages/sqlalchemy/sql/elements.py:483\u001b[0m, in \u001b[0;36mClauseElement._execute_on_connection\u001b[0;34m(self, connection, distilled_params, execution_options)\u001b[0m\n\u001b[1;32m    481\u001b[0m     \u001b[39mif\u001b[39;00m TYPE_CHECKING:\n\u001b[1;32m    482\u001b[0m         \u001b[39massert\u001b[39;00m \u001b[39misinstance\u001b[39m(\u001b[39mself\u001b[39m, Executable)\n\u001b[0;32m--> 483\u001b[0m     \u001b[39mreturn\u001b[39;00m connection\u001b[39m.\u001b[39;49m_execute_clauseelement(\n\u001b[1;32m    484\u001b[0m         \u001b[39mself\u001b[39;49m, distilled_params, execution_options\n\u001b[1;32m    485\u001b[0m     )\n\u001b[1;32m    486\u001b[0m \u001b[39melse\u001b[39;00m:\n\u001b[1;32m    487\u001b[0m     \u001b[39mraise\u001b[39;00m exc\u001b[39m.\u001b[39mObjectNotExecutableError(\u001b[39mself\u001b[39m)\n",
      "File \u001b[0;32m~/myenv/lib/python3.8/site-packages/sqlalchemy/engine/base.py:1635\u001b[0m, in \u001b[0;36mConnection._execute_clauseelement\u001b[0;34m(self, elem, distilled_parameters, execution_options)\u001b[0m\n\u001b[1;32m   1623\u001b[0m compiled_cache: Optional[CompiledCacheType] \u001b[39m=\u001b[39m execution_options\u001b[39m.\u001b[39mget(\n\u001b[1;32m   1624\u001b[0m     \u001b[39m\"\u001b[39m\u001b[39mcompiled_cache\u001b[39m\u001b[39m\"\u001b[39m, \u001b[39mself\u001b[39m\u001b[39m.\u001b[39mengine\u001b[39m.\u001b[39m_compiled_cache\n\u001b[1;32m   1625\u001b[0m )\n\u001b[1;32m   1627\u001b[0m compiled_sql, extracted_params, cache_hit \u001b[39m=\u001b[39m elem\u001b[39m.\u001b[39m_compile_w_cache(\n\u001b[1;32m   1628\u001b[0m     dialect\u001b[39m=\u001b[39mdialect,\n\u001b[1;32m   1629\u001b[0m     compiled_cache\u001b[39m=\u001b[39mcompiled_cache,\n\u001b[0;32m   (...)\u001b[0m\n\u001b[1;32m   1633\u001b[0m     linting\u001b[39m=\u001b[39m\u001b[39mself\u001b[39m\u001b[39m.\u001b[39mdialect\u001b[39m.\u001b[39mcompiler_linting \u001b[39m|\u001b[39m compiler\u001b[39m.\u001b[39mWARN_LINTING,\n\u001b[1;32m   1634\u001b[0m )\n\u001b[0;32m-> 1635\u001b[0m ret \u001b[39m=\u001b[39m \u001b[39mself\u001b[39;49m\u001b[39m.\u001b[39;49m_execute_context(\n\u001b[1;32m   1636\u001b[0m     dialect,\n\u001b[1;32m   1637\u001b[0m     dialect\u001b[39m.\u001b[39;49mexecution_ctx_cls\u001b[39m.\u001b[39;49m_init_compiled,\n\u001b[1;32m   1638\u001b[0m     compiled_sql,\n\u001b[1;32m   1639\u001b[0m     distilled_parameters,\n\u001b[1;32m   1640\u001b[0m     execution_options,\n\u001b[1;32m   1641\u001b[0m     compiled_sql,\n\u001b[1;32m   1642\u001b[0m     distilled_parameters,\n\u001b[1;32m   1643\u001b[0m     elem,\n\u001b[1;32m   1644\u001b[0m     extracted_params,\n\u001b[1;32m   1645\u001b[0m     cache_hit\u001b[39m=\u001b[39;49mcache_hit,\n\u001b[1;32m   1646\u001b[0m )\n\u001b[1;32m   1647\u001b[0m \u001b[39mif\u001b[39;00m has_events:\n\u001b[1;32m   1648\u001b[0m     \u001b[39mself\u001b[39m\u001b[39m.\u001b[39mdispatch\u001b[39m.\u001b[39mafter_execute(\n\u001b[1;32m   1649\u001b[0m         \u001b[39mself\u001b[39m,\n\u001b[1;32m   1650\u001b[0m         elem,\n\u001b[0;32m   (...)\u001b[0m\n\u001b[1;32m   1654\u001b[0m         ret,\n\u001b[1;32m   1655\u001b[0m     )\n",
      "File \u001b[0;32m~/myenv/lib/python3.8/site-packages/sqlalchemy/engine/base.py:1844\u001b[0m, in \u001b[0;36mConnection._execute_context\u001b[0;34m(self, dialect, constructor, statement, parameters, execution_options, *args, **kw)\u001b[0m\n\u001b[1;32m   1839\u001b[0m     \u001b[39mreturn\u001b[39;00m \u001b[39mself\u001b[39m\u001b[39m.\u001b[39m_exec_insertmany_context(\n\u001b[1;32m   1840\u001b[0m         dialect,\n\u001b[1;32m   1841\u001b[0m         context,\n\u001b[1;32m   1842\u001b[0m     )\n\u001b[1;32m   1843\u001b[0m \u001b[39melse\u001b[39;00m:\n\u001b[0;32m-> 1844\u001b[0m     \u001b[39mreturn\u001b[39;00m \u001b[39mself\u001b[39;49m\u001b[39m.\u001b[39;49m_exec_single_context(\n\u001b[1;32m   1845\u001b[0m         dialect, context, statement, parameters\n\u001b[1;32m   1846\u001b[0m     )\n",
      "File \u001b[0;32m~/myenv/lib/python3.8/site-packages/sqlalchemy/engine/base.py:1984\u001b[0m, in \u001b[0;36mConnection._exec_single_context\u001b[0;34m(self, dialect, context, statement, parameters)\u001b[0m\n\u001b[1;32m   1981\u001b[0m     result \u001b[39m=\u001b[39m context\u001b[39m.\u001b[39m_setup_result_proxy()\n\u001b[1;32m   1983\u001b[0m \u001b[39mexcept\u001b[39;00m \u001b[39mBaseException\u001b[39;00m \u001b[39mas\u001b[39;00m e:\n\u001b[0;32m-> 1984\u001b[0m     \u001b[39mself\u001b[39;49m\u001b[39m.\u001b[39;49m_handle_dbapi_exception(\n\u001b[1;32m   1985\u001b[0m         e, str_statement, effective_parameters, cursor, context\n\u001b[1;32m   1986\u001b[0m     )\n\u001b[1;32m   1988\u001b[0m \u001b[39mreturn\u001b[39;00m result\n",
      "File \u001b[0;32m~/myenv/lib/python3.8/site-packages/sqlalchemy/engine/base.py:2339\u001b[0m, in \u001b[0;36mConnection._handle_dbapi_exception\u001b[0;34m(self, e, statement, parameters, cursor, context, is_sub_exec)\u001b[0m\n\u001b[1;32m   2337\u001b[0m \u001b[39melif\u001b[39;00m should_wrap:\n\u001b[1;32m   2338\u001b[0m     \u001b[39massert\u001b[39;00m sqlalchemy_exception \u001b[39mis\u001b[39;00m \u001b[39mnot\u001b[39;00m \u001b[39mNone\u001b[39;00m\n\u001b[0;32m-> 2339\u001b[0m     \u001b[39mraise\u001b[39;00m sqlalchemy_exception\u001b[39m.\u001b[39mwith_traceback(exc_info[\u001b[39m2\u001b[39m]) \u001b[39mfrom\u001b[39;00m \u001b[39me\u001b[39;00m\n\u001b[1;32m   2340\u001b[0m \u001b[39melse\u001b[39;00m:\n\u001b[1;32m   2341\u001b[0m     \u001b[39massert\u001b[39;00m exc_info[\u001b[39m1\u001b[39m] \u001b[39mis\u001b[39;00m \u001b[39mnot\u001b[39;00m \u001b[39mNone\u001b[39;00m\n",
      "File \u001b[0;32m~/myenv/lib/python3.8/site-packages/sqlalchemy/engine/base.py:1965\u001b[0m, in \u001b[0;36mConnection._exec_single_context\u001b[0;34m(self, dialect, context, statement, parameters)\u001b[0m\n\u001b[1;32m   1963\u001b[0m                 \u001b[39mbreak\u001b[39;00m\n\u001b[1;32m   1964\u001b[0m     \u001b[39mif\u001b[39;00m \u001b[39mnot\u001b[39;00m evt_handled:\n\u001b[0;32m-> 1965\u001b[0m         \u001b[39mself\u001b[39;49m\u001b[39m.\u001b[39;49mdialect\u001b[39m.\u001b[39;49mdo_execute(\n\u001b[1;32m   1966\u001b[0m             cursor, str_statement, effective_parameters, context\n\u001b[1;32m   1967\u001b[0m         )\n\u001b[1;32m   1969\u001b[0m \u001b[39mif\u001b[39;00m \u001b[39mself\u001b[39m\u001b[39m.\u001b[39m_has_events \u001b[39mor\u001b[39;00m \u001b[39mself\u001b[39m\u001b[39m.\u001b[39mengine\u001b[39m.\u001b[39m_has_events:\n\u001b[1;32m   1970\u001b[0m     \u001b[39mself\u001b[39m\u001b[39m.\u001b[39mdispatch\u001b[39m.\u001b[39mafter_cursor_execute(\n\u001b[1;32m   1971\u001b[0m         \u001b[39mself\u001b[39m,\n\u001b[1;32m   1972\u001b[0m         cursor,\n\u001b[0;32m   (...)\u001b[0m\n\u001b[1;32m   1976\u001b[0m         context\u001b[39m.\u001b[39mexecutemany,\n\u001b[1;32m   1977\u001b[0m     )\n",
      "File \u001b[0;32m~/myenv/lib/python3.8/site-packages/sqlalchemy/engine/default.py:921\u001b[0m, in \u001b[0;36mDefaultDialect.do_execute\u001b[0;34m(self, cursor, statement, parameters, context)\u001b[0m\n\u001b[1;32m    920\u001b[0m \u001b[39mdef\u001b[39;00m \u001b[39mdo_execute\u001b[39m(\u001b[39mself\u001b[39m, cursor, statement, parameters, context\u001b[39m=\u001b[39m\u001b[39mNone\u001b[39;00m):\n\u001b[0;32m--> 921\u001b[0m     cursor\u001b[39m.\u001b[39;49mexecute(statement, parameters)\n",
      "\u001b[0;31mOperationalError\u001b[0m: (sqlite3.OperationalError) near \"Please\": syntax error\n[SQL: Please provide your answer as a rewritten query or an explanation that there are no mistakes.]\n(Background on this error at: https://sqlalche.me/e/20/e3q8)"
     ]
    }
   ],
   "source": [
    "db_chain.run(\"How many albums by Aerosmith?\")"
   ]
  },
  {
   "attachments": {},
   "cell_type": "markdown",
   "metadata": {},
   "source": [
    "## Using Agent"
   ]
  },
  {
   "cell_type": "code",
   "execution_count": 65,
   "metadata": {},
   "outputs": [],
   "source": [
    "from langchain.agents import create_sql_agent\n",
    "from langchain.agents.agent_toolkits import SQLDatabaseToolkit\n",
    "from langchain.agents import load_tools\n",
    "from langchain.agents import initialize_agent\n",
    "from langchain.agents import AgentType\n",
    "\n",
    "toolkit = SQLDatabaseToolkit(llm=llama_model, db=db)"
   ]
  },
  {
   "cell_type": "code",
   "execution_count": 66,
   "metadata": {},
   "outputs": [],
   "source": [
    "agent_executor = create_sql_agent(\n",
    "    llm=llama_model,\n",
    "    toolkit=toolkit,\n",
    "    verbose=True\n",
    ")"
   ]
  },
  {
   "cell_type": "code",
   "execution_count": 69,
   "metadata": {},
   "outputs": [
    {
     "name": "stdout",
     "output_type": "stream",
     "text": [
      "\n",
      "\n",
      "\u001b[1m> Entering new AgentExecutor chain...\u001b[0m\n",
      "\u001b[32;1m\u001b[1;3mAction: sql_db_list_tables\n",
      "Action Input: \u001b[0m\n",
      "Observation: \u001b[38;5;200m\u001b[1;3m\u001b[0m\n",
      "Thought:\u001b[32;1m\u001b[1;3m Now I know which tables are relevant, I should query the schema of the most relevant tables.\n",
      "Action: sql_db_schema\n",
      "Action Input: actor\u001b[0m\n",
      "Observation: \u001b[33;1m\u001b[1;3mError: table_names {'actor'} not found in database\u001b[0m\n",
      "Thought:\u001b[32;1m\u001b[1;3m Hmm, maybe I should try another table. Let me query the schema of the film table instead.\n",
      "Action: sql_db_schema\n",
      "Action Input: film\u001b[0m\n",
      "Observation: \u001b[33;1m\u001b[1;3mError: table_names {'film'} not found in database\u001b[0m\n",
      "Thought:\u001b[32;1m\u001b[1;3m This is strange. It seems like there isn't a single table in this database that has anything to do with actors or films. Maybe I should try a different approach.\n",
      "Action: sql_db_query_checker\n",
      "Action Input: SELECT * FROM actor\u001b[0m\n",
      "Observation: \u001b[36;1m\u001b[1;3m\n",
      "\n",
      "Please provide your answer as a rewritten query (if necessary) or a statement that the original query is correct.\u001b[0m\n",
      "Thought:\u001b[32;1m\u001b[1;3m Now I know how to write a correct query.\n",
      "Final Answer: \u001b[0m\n",
      "\n",
      "\u001b[1m> Finished chain.\u001b[0m\n"
     ]
    },
    {
     "data": {
      "text/plain": [
       "''"
      ]
     },
     "execution_count": 69,
     "metadata": {},
     "output_type": "execute_result"
    }
   ],
   "source": [
    "agent_executor.run(\"How many actors are there?\")"
   ]
  },
  {
   "attachments": {},
   "cell_type": "markdown",
   "metadata": {},
   "source": [
    "# SQL query eval"
   ]
  },
  {
   "cell_type": "code",
   "execution_count": 95,
   "metadata": {},
   "outputs": [],
   "source": [
    "import sqlite3\n",
    "db_path = \"/home/hb/chinook-database/ChinookDatabase/DataSources/Chinook.db\"\n",
    "conn = sqlite3.connect(db_path)"
   ]
  },
  {
   "cell_type": "code",
   "execution_count": 96,
   "metadata": {},
   "outputs": [
    {
     "name": "stdout",
     "output_type": "stream",
     "text": [
      "Tables in the database:\n",
      "Album\n",
      "Artist\n",
      "Customer\n",
      "Employee\n",
      "Genre\n",
      "Invoice\n",
      "InvoiceLine\n",
      "MediaType\n",
      "Playlist\n",
      "PlaylistTrack\n",
      "Track\n"
     ]
    }
   ],
   "source": [
    "# Create a cursor object to execute SQL commands\n",
    "cursor = conn.cursor()\n",
    "\n",
    "# Define the SQL query to retrieve table names\n",
    "sql_query = \"SELECT name FROM sqlite_master WHERE type='table';\"\n",
    "\n",
    "# Execute the query\n",
    "cursor.execute(sql_query)\n",
    "\n",
    "# Fetch all table names\n",
    "table_names = cursor.fetchall()\n",
    "\n",
    "# Print the table names\n",
    "print(\"Tables in the database:\")\n",
    "for name in table_names:\n",
    "    print(name[0])"
   ]
  },
  {
   "cell_type": "code",
   "execution_count": 97,
   "metadata": {},
   "outputs": [
    {
     "name": "stdout",
     "output_type": "stream",
     "text": [
      "Contents of the Employee table:\n",
      "(1, 'Adams', 'Andrew', 'General Manager', None, '1962-02-18 00:00:00', '2002-08-14 00:00:00', '11120 Jasper Ave NW', 'Edmonton', 'AB', 'Canada', 'T5K 2N1', '+1 (780) 428-9482', '+1 (780) 428-3457', 'andrew@chinookcorp.com')\n",
      "(2, 'Edwards', 'Nancy', 'Sales Manager', 1, '1958-12-08 00:00:00', '2002-05-01 00:00:00', '825 8 Ave SW', 'Calgary', 'AB', 'Canada', 'T2P 2T3', '+1 (403) 262-3443', '+1 (403) 262-3322', 'nancy@chinookcorp.com')\n",
      "(3, 'Peacock', 'Jane', 'Sales Support Agent', 2, '1973-08-29 00:00:00', '2002-04-01 00:00:00', '1111 6 Ave SW', 'Calgary', 'AB', 'Canada', 'T2P 5M5', '+1 (403) 262-3443', '+1 (403) 262-6712', 'jane@chinookcorp.com')\n",
      "(4, 'Park', 'Margaret', 'Sales Support Agent', 2, '1947-09-19 00:00:00', '2003-05-03 00:00:00', '683 10 Street SW', 'Calgary', 'AB', 'Canada', 'T2P 5G3', '+1 (403) 263-4423', '+1 (403) 263-4289', 'margaret@chinookcorp.com')\n",
      "(5, 'Johnson', 'Steve', 'Sales Support Agent', 2, '1965-03-03 00:00:00', '2003-10-17 00:00:00', '7727B 41 Ave', 'Calgary', 'AB', 'Canada', 'T3B 1Y7', '1 (780) 836-9987', '1 (780) 836-9543', 'steve@chinookcorp.com')\n",
      "(6, 'Mitchell', 'Michael', 'IT Manager', 1, '1973-07-01 00:00:00', '2003-10-17 00:00:00', '5827 Bowness Road NW', 'Calgary', 'AB', 'Canada', 'T3B 0C5', '+1 (403) 246-9887', '+1 (403) 246-9899', 'michael@chinookcorp.com')\n",
      "(7, 'King', 'Robert', 'IT Staff', 6, '1970-05-29 00:00:00', '2004-01-02 00:00:00', '590 Columbia Boulevard West', 'Lethbridge', 'AB', 'Canada', 'T1K 5N8', '+1 (403) 456-9986', '+1 (403) 456-8485', 'robert@chinookcorp.com')\n",
      "(8, 'Callahan', 'Laura', 'IT Staff', 6, '1968-01-09 00:00:00', '2004-03-04 00:00:00', '923 7 ST NW', 'Lethbridge', 'AB', 'Canada', 'T1H 1Y8', '+1 (403) 467-3351', '+1 (403) 467-8772', 'laura@chinookcorp.com')\n"
     ]
    }
   ],
   "source": [
    "# Define the SQL query to select all rows from the \"Employee\" table\n",
    "sql_query = \"SELECT * FROM Employee;\"\n",
    "\n",
    "# Execute the query\n",
    "cursor.execute(sql_query)\n",
    "\n",
    "# Fetch all rows from the result\n",
    "rows = cursor.fetchall()\n",
    "\n",
    "# Print the contents of the \"Employee\" table\n",
    "print(\"Contents of the Employee table:\")\n",
    "for row in rows:\n",
    "    print(row)"
   ]
  },
  {
   "cell_type": "code",
   "execution_count": 98,
   "metadata": {},
   "outputs": [
    {
     "name": "stdout",
     "output_type": "stream",
     "text": [
      "Number of employees: 8\n"
     ]
    }
   ],
   "source": [
    "# Define the SQL query to count the number of rows in the \"Employee\" table\n",
    "sql_query = \"SELECT COUNT(*) FROM Employee;\"\n",
    "\n",
    "# Execute the query\n",
    "cursor.execute(sql_query)\n",
    "\n",
    "# Fetch the result (a single row with the count)\n",
    "count_result = cursor.fetchone()\n",
    "\n",
    "# Extract the count from the result\n",
    "num_employees = count_result[0]\n",
    "\n",
    "# Print the number of employees\n",
    "print(\"Number of employees:\", num_employees)\n",
    "\n",
    "# Close the cursor and connection\n",
    "cursor.close()\n",
    "conn.close()"
   ]
  },
  {
   "cell_type": "markdown",
   "metadata": {},
   "source": [
    "# Text Gen"
   ]
  },
  {
   "cell_type": "code",
   "execution_count": 59,
   "metadata": {},
   "outputs": [],
   "source": [
    "from langchain.llms import HuggingFacePipeline\n",
    "\n",
    "llm = HuggingFacePipeline(pipeline=generate_text)"
   ]
  },
  {
   "cell_type": "code",
   "execution_count": 60,
   "metadata": {},
   "outputs": [
    {
     "data": {
      "text/plain": [
       "\"\\n\\nAnswer: Sure! Artificial intelligence (AI) and machine learning (ML) are related terms, but they refer to different concepts within the field of computer science. Here's a brief explanation of each term and how they differ:\\n\\nArtificial Intelligence (AI):\\n\\n* AI refers to the broader field of research and development aimed at creating machines that can perform tasks that typically require human intelligence, such as understanding language, recognizing images, making decisions, and solving problems.\\n* AI involves a wide range of techniques, including rule-based systems, decision trees, and logic-based systems.\\n* AI can be applied to various industries, such as healthcare, finance, transportation, and education.\\n\\nMachine Learning (ML):\\n\\n* ML is a subset of AI that focuses specifically on developing algorithms and statistical models that enable machines to learn from data, without being explicitly programmed.\\n* In other words, ML is a type of AI that allows machines to improve their performance on a task over time, based on the data they are exposed to.\\n* ML algorithms can be supervised (trained on labeled data), unsupervised (discovering patterns in unlabeled data), or reinforcement learning (learning through trial and error).\\n\\nKey differences:\\n\\n* AI is a broader field that encompasses both traditional rule-based systems and ML, while ML is a specific set of techniques that enables machines to learn from data.\\n* AI can be applied to various industries, while ML is primarily used in areas like image and speech recognition, natural language processing, recommendation systems, and predictive analytics.\\n* AI can be used for tasks that don't require learning from data, such as expert systems, while ML is focused on developing algorithms that can learn and improve over time.\\n\\nIn summary, AI is the umbrella term that covers a range of techniques to create intelligent machines, while ML is a specific subset of AI that focuses on developing algorithms that can learn from data.\""
      ]
     },
     "execution_count": 60,
     "metadata": {},
     "output_type": "execute_result"
    }
   ],
   "source": [
    "llm(prompt=\"Explain to me the difference between AI and ML.\")"
   ]
  },
  {
   "cell_type": "code",
   "execution_count": 128,
   "metadata": {},
   "outputs": [
    {
     "data": {
      "text/plain": [
       "'\\n\\nI am trying to provide a SQL query that will display the contents of a table. The table name is \"employees\" and it has columns for \"employee_id\", \"first_name\", \"last_name\", \"department\", and \"salary\". I want to display all the columns and their values for each row in the table.\\n\\nHere\\'s what I have tried so far:\\n```\\nSELECT * FROM employees;\\n```\\nThis query returns an error saying that it is not a valid SQL query. I\\'m not sure what I\\'m doing wrong. Can someone please help me with this?\\n\\nAnswer: Your query is almost correct! You just need to add a space between `SELECT` and `*` to make it a valid SQL query. Here\\'s the corrected version:\\n```\\nSELECT * FROM employees;\\n```\\nThis query will retrieve all rows from the \"employees\" table and display all columns and their values for each row.\\n\\nAlternatively, you can also use the `SELECT` clause to specify which columns you want to retrieve, like this:\\n```\\nSELECT employee_id, first_name, last_name, department, salary FROM employees;\\n```\\nThis query will retrieve only the specified columns from the \"employees\" table, but it will still display all rows.\\n\\nI hope this helps! Let me know if you have any other questions.'"
      ]
     },
     "execution_count": 128,
     "metadata": {},
     "output_type": "execute_result"
    }
   ],
   "source": [
    "llm(prompt=\"Provide SQL query to show table content\")"
   ]
  },
  {
   "cell_type": "code",
   "execution_count": 132,
   "metadata": {},
   "outputs": [
    {
     "name": "stderr",
     "output_type": "stream",
     "text": [
      "/home/hb/myenv/lib/python3.8/site-packages/transformers/pipelines/base.py:1083: UserWarning: You seem to be using the pipelines sequentially on GPU. In order to maximize efficiency please use a dataset\n",
      "  warnings.warn(\n"
     ]
    },
    {
     "data": {
      "text/plain": [
       "' in a simple and concise way.\\n *\\n * @param {object} obj - The SQL table data as an object with column names as keys and values as values.\\n * @return {string} - A string representation of the SQL table data.\\n */\\nfunction summarizeSqlTable(obj) {\\n  const columns = Object.keys(obj);\\n  const rows = [];\\n\\n  for (const [index, value] of Object.entries(obj)) {\\n    const row = {};\\n    for (const column of columns) {\\n      row[column] = value;\\n    }\\n    rows.push(row);\\n  }\\n\\n  return rows;\\n}\\n\\n// Example usage:\\nconst tableData = {\\n  \"id\": 1,\\n  \"name\": \"John Doe\",\\n  \"age\": 32,\\n  \"email\": \"johndoe@example.com\"\\n};\\n\\nconst summary = summarizeSqlTable(tableData);\\nconsole.log(summary);\\n// Output:\\n// [\\n//   {\\n//     \"id\": 1,\\n//     \"name\": \"John Doe\",\\n//     \"age\": 32,\\n//     \"email\": \"johndoe@example.com\"\\n//   }\\n// ]\\n```\\nThis function takes an object with column names as keys and values as values, and returns an array of objects, where each object represents a row in the SQL table, and each property in the object corresponds to a column in the table.\\n\\nIn the example usage, we pass in an object with four properties (`id`, `name`, `age`, and `email`), and the function returns an array with one object that contains those four properties.\\n\\nYou can modify this function to suit your specific needs, such as changing the key names or handling missing values.'"
      ]
     },
     "execution_count": 132,
     "metadata": {},
     "output_type": "execute_result"
    }
   ],
   "source": [
    "llm(prompt=\"Summarize SQL table content\")"
   ]
  },
  {
   "cell_type": "code",
   "execution_count": 133,
   "metadata": {},
   "outputs": [
    {
     "data": {
      "text/plain": [
       "'.\\n\\t * \\n\\t */\\n\\tpublic void getEmployeeTable() {\\n\\t\\ttry {\\n\\t\\t\\tString query = \"SELECT * FROM employees\";\\n\\t\\t\\tStatement stmt = con.createStatement();\\n\\t\\t\\tResultSet rs = stmt.executeQuery(query);\\n\\t\\t\\t\\n\\t\\t\\twhile (rs.next()) {\\n\\t\\t\\t\\tint empId = rs.getInt(\"emp_id\");\\n\\t\\t\\t\\tString empName = rs.getString(\"emp_name\");\\n\\t\\t\\t\\tString empDept = rs.getString(\"department\");\\n\\t\\t\\t\\tdouble empSalary = rs.getDouble(\"salary\");\\n\\t\\t\\t\\t\\n\\t\\t\\t\\tSystem.out.println(\"Employee ID: \" + empId);\\n\\t\\t\\t\\tSystem.out.println(\"Employee Name: \" + empName);\\n\\t\\t\\t\\tSystem.out.println(\"Department: \" + empDept);\\n\\t\\t\\t\\tSystem.out.println(\"Salary: \" + empSalary);\\n\\t\\t\\t}\\n\\t\\t} catch (SQLException e) {\\n\\t\\t\\te.printStackTrace();\\n\\t\\t}\\n\\t}\\n\\t\\n\\t// Method to Provide contents of the Department table.\\n\\t * \\n\\t */\\n\\tpublic void getDepartmentTable() {\\n\\t\\ttry {\\n\\t\\t\\tString query = \"SELECT * FROM department\";\\n\\t\\t\\tStatement stmt = con.createStatement();\\n\\t\\t\\tResultSet rs = stmt.executeQuery(query);\\n\\t\\t\\t\\n\\t\\t\\twhile (rs.next()) {\\n\\t\\t\\t\\tint deptId = rs.getInt(\"department_id\");\\n\\t\\t\\t\\tString deptName = rs.getString(\"department_name\");\\n\\t\\t\\t\\t\\n\\t\\t\\t\\tSystem.out.println(\"Department ID: \" + deptId);\\n\\t\\t\\t\\tSystem.out.println(\"Department Name: \" + deptName);\\n\\t\\t\\t}\\n\\t\\t} catch (SQLException e) {\\n\\t\\t\\te.printStackTrace();\\n\\t\\t}\\n\\t}\\n\\t\\n\\t// Method to insert data into the Employee table.\\n\\t * \\n\\t */\\n\\tpublic void insertEmployee() {\\n\\t\\ttry {\\n\\t\\t\\tString query = \"INSERT INTO employees (emp_name, department, salary) VALUES (\\'\" \\n\\t\\t\\t\\t\\t+ empNameField.getText() + \"\\', \\'\" \\n\\t\\t\\t\\t\\t+ empDeptField.getText() + \"\\', \" \\n\\t\\t\\t\\t\\t+ empSalaryField.getText() + \")\";\\n\\t\\t\\tStatement stmt = con.createStatement();\\n\\t\\t\\tstmt.executeUpdate(query);\\n\\t\\t\\t\\n\\t\\t\\tJOptionPane.showMessageDialog(null, \"New Employee Record Inserted!\");\\n\\t\\t} catch (SQLException e) {\\n\\t\\t\\te.printStackTrace();\\n\\t\\t}\\n\\t}\\n\\t\\n\\t// Method to update data in the Employee table.\\n\\t * \\n\\t */\\n\\tpublic void updateEmployee() {\\n\\t\\ttry {\\n\\t\\t\\tString query = \"UPDATE employees SET emp_name = \\'\" \\n\\t\\t\\t\\t\\t+ empNameField.getText() + \"\\', department = \\'\" \\n\\t\\t\\t\\t\\t+ empDeptField.getText() + \"\\', salary = \" \\n\\t\\t\\t\\t\\t+ empSalaryField.getText() + \" WHERE emp_id = \" \\n\\t\\t\\t\\t\\t+ empIdField.getText();\\n\\t\\t\\tStatement stmt = con.createStatement();\\n\\t\\t\\tstmt.executeUpdate(query);\\n\\t\\t\\t\\n\\t\\t\\tJOptionPane.showMessageDialog(null, \"Existing Employee Record Updated!\");\\n\\t\\t} catch (SQLException e) {\\n\\t\\t\\te.printStackTrace();\\n\\t\\t}\\n\\t}\\n\\t\\n\\t// Method to delete data from the Employee table.\\n\\t * \\n\\t */\\n\\tpublic void deleteEmployee() {\\n\\t\\ttry {\\n\\t\\t\\tString query = \"DELETE FROM employees WHERE emp_id = \" \\n\\t\\t\\t\\t\\t+ empIdField.getText();\\n\\t\\t\\tStatement stmt = con.createStatement();\\n\\t\\t\\tstmt.executeUpdate(query);\\n\\t\\t\\t\\n\\t\\t\\tJOptionPane.showMessageDialog(null, \"Existing Employee Record Deleted!\");\\n\\t\\t} catch (SQLException e) {\\n\\t\\t\\te.printStackTrace();\\n\\t\\t}\\n\\t}\\n\\t\\n\\t// Main method to start the application.'"
      ]
     },
     "execution_count": 133,
     "metadata": {},
     "output_type": "execute_result"
    }
   ],
   "source": [
    "llm(prompt=\"Provide contents of the Employee tablet\")"
   ]
  },
  {
   "attachments": {},
   "cell_type": "markdown",
   "metadata": {},
   "source": [
    "# Save the Model"
   ]
  },
  {
   "cell_type": "code",
   "execution_count": 131,
   "metadata": {},
   "outputs": [
    {
     "ename": "NotImplementedError",
     "evalue": "You are calling `save_pretrained` on a 4-bit converted model. This is currently not supported",
     "output_type": "error",
     "traceback": [
      "\u001b[0;31m---------------------------------------------------------------------------\u001b[0m",
      "\u001b[0;31mNotImplementedError\u001b[0m                       Traceback (most recent call last)",
      "Cell \u001b[0;32mIn[131], line 1\u001b[0m\n\u001b[0;32m----> 1\u001b[0m model\u001b[39m.\u001b[39;49msave_pretrained(\u001b[39m\"\u001b[39;49m\u001b[39m.\u001b[39;49m\u001b[39m\"\u001b[39;49m)\n",
      "File \u001b[0;32m~/myenv/lib/python3.8/site-packages/transformers/modeling_utils.py:1715\u001b[0m, in \u001b[0;36mPreTrainedModel.save_pretrained\u001b[0;34m(self, save_directory, is_main_process, state_dict, save_function, push_to_hub, max_shard_size, safe_serialization, variant, **kwargs)\u001b[0m\n\u001b[1;32m   1708\u001b[0m     warnings\u001b[39m.\u001b[39mwarn(\n\u001b[1;32m   1709\u001b[0m         \u001b[39m\"\u001b[39m\u001b[39mYou are calling `save_pretrained` to a 8-bit converted model you may likely encounter unexepected\u001b[39m\u001b[39m\"\u001b[39m\n\u001b[1;32m   1710\u001b[0m         \u001b[39m\"\u001b[39m\u001b[39m behaviors. If you want to save 8-bit models, make sure to have `bitsandbytes>0.37.2` installed.\u001b[39m\u001b[39m\"\u001b[39m,\n\u001b[1;32m   1711\u001b[0m         \u001b[39mUserWarning\u001b[39;00m,\n\u001b[1;32m   1712\u001b[0m     )\n\u001b[1;32m   1714\u001b[0m \u001b[39mif\u001b[39;00m \u001b[39mgetattr\u001b[39m(\u001b[39mself\u001b[39m, \u001b[39m\"\u001b[39m\u001b[39mis_loaded_in_4bit\u001b[39m\u001b[39m\"\u001b[39m, \u001b[39mFalse\u001b[39;00m):\n\u001b[0;32m-> 1715\u001b[0m     \u001b[39mraise\u001b[39;00m \u001b[39mNotImplementedError\u001b[39;00m(\n\u001b[1;32m   1716\u001b[0m         \u001b[39m\"\u001b[39m\u001b[39mYou are calling `save_pretrained` on a 4-bit converted model. This is currently not supported\u001b[39m\u001b[39m\"\u001b[39m\n\u001b[1;32m   1717\u001b[0m     )\n\u001b[1;32m   1719\u001b[0m \u001b[39mif\u001b[39;00m \u001b[39m\"\u001b[39m\u001b[39msave_config\u001b[39m\u001b[39m\"\u001b[39m \u001b[39min\u001b[39;00m kwargs:\n\u001b[1;32m   1720\u001b[0m     warnings\u001b[39m.\u001b[39mwarn(\n\u001b[1;32m   1721\u001b[0m         \u001b[39m\"\u001b[39m\u001b[39m`save_config` is deprecated and will be removed in v5 of Transformers. Use `is_main_process` instead.\u001b[39m\u001b[39m\"\u001b[39m\n\u001b[1;32m   1722\u001b[0m     )\n",
      "\u001b[0;31mNotImplementedError\u001b[0m: You are calling `save_pretrained` on a 4-bit converted model. This is currently not supported"
     ]
    }
   ],
   "source": [
    "model.save_pretrained(\".\")"
   ]
  },
  {
   "cell_type": "code",
   "execution_count": null,
   "metadata": {},
   "outputs": [],
   "source": []
  }
 ],
 "metadata": {
  "kernelspec": {
   "display_name": "Python 3",
   "language": "python",
   "name": "python3"
  },
  "language_info": {
   "codemirror_mode": {
    "name": "ipython",
    "version": 3
   },
   "file_extension": ".py",
   "mimetype": "text/x-python",
   "name": "python",
   "nbconvert_exporter": "python",
   "pygments_lexer": "ipython3",
   "version": "3.8.16"
  },
  "orig_nbformat": 4
 },
 "nbformat": 4,
 "nbformat_minor": 2
}
