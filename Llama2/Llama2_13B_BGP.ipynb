{
 "cells": [
  {
   "cell_type": "code",
   "execution_count": 1,
   "metadata": {},
   "outputs": [
    {
     "data": {
      "application/vnd.jupyter.widget-view+json": {
       "model_id": "8199cf5e7ba24e82bcb98141b883d76c",
       "version_major": 2,
       "version_minor": 0
      },
      "text/plain": [
       "Loading checkpoint shards:   0%|          | 0/3 [00:00<?, ?it/s]"
      ]
     },
     "metadata": {},
     "output_type": "display_data"
    },
    {
     "name": "stdout",
     "output_type": "stream",
     "text": [
      "Model loaded on cuda:0\n"
     ]
    }
   ],
   "source": [
    "from torch import cuda, bfloat16\n",
    "import transformers\n",
    "from transformers import (\n",
    "    AutoModelForCausalLM,\n",
    "    AutoTokenizer,\n",
    "    BitsAndBytesConfig,\n",
    "    HfArgumentParser,\n",
    "    TrainingArguments,\n",
    "    pipeline,\n",
    "    logging,\n",
    ")\n",
    "import pandas as pd\n",
    "import os\n",
    "\n",
    "model_id = 'meta-llama/Llama-2-13b-chat-hf'\n",
    "\n",
    "device = f'cuda:{cuda.current_device()}' if cuda.is_available() else 'cpu'\n",
    "\n",
    "\n",
    "hf_token = os.environ.get('hf_token')\n",
    "\n",
    "# Need auth token for these\n",
    "hf_auth = hf_token\n",
    "model_config = transformers.AutoConfig.from_pretrained(\n",
    "    model_id,\n",
    "    use_auth_token=hf_auth\n",
    ")\n",
    "\n",
    "model = transformers.AutoModelForCausalLM.from_pretrained(\n",
    "    model_id,\n",
    "    trust_remote_code=True,\n",
    "    config=model_config,\n",
    "    # quantization_config=bnb_config,\n",
    "    device_map='auto',\n",
    "    use_auth_token=hf_auth\n",
    ")\n",
    "model.eval()\n",
    "print(f\"Model loaded on {device}\")"
   ]
  },
  {
   "cell_type": "code",
   "execution_count": 2,
   "metadata": {},
   "outputs": [],
   "source": [
    "tokenizer = transformers.AutoTokenizer.from_pretrained(\n",
    "    model_id,\n",
    "    use_auth_token=hf_auth\n",
    ")"
   ]
  },
  {
   "cell_type": "code",
   "execution_count": 3,
   "metadata": {},
   "outputs": [
    {
     "name": "stdout",
     "output_type": "stream",
     "text": [
      "<s>[INST] What is the purpose of the BGP community attribute, and how is it used? [/INST]  The Border Gateway Protocol (BGP) community attribute is a feature that allows network operators to assign a specific value to BGP updates, which can be used to control the propagation of routing information within the Internet. The purpose of the BGP community attribute is to provide a way to group BGP updates based on specific criteria, such as the type of network or the origin of the update, and to apply specific policies to these groups.\n",
      "\n",
      "The BGP community attribute is a 16\n"
     ]
    }
   ],
   "source": [
    "logging.set_verbosity(logging.CRITICAL)\n",
    "\n",
    "# Run text generation pipeline with our next model\n",
    "prompt = \"What is the purpose of the BGP community attribute, and how is it used?\"\n",
    "pipe = pipeline(task=\"text-generation\", model=model, tokenizer=tokenizer, max_length=128)\n",
    "result = pipe(f\"<s>[INST] {prompt} [/INST]\")\n",
    "print(result[0]['generated_text'])"
   ]
  },
  {
   "cell_type": "code",
   "execution_count": 4,
   "metadata": {},
   "outputs": [
    {
     "name": "stdout",
     "output_type": "stream",
     "text": [
      "[INST] True or False: BGP is a standardized exterior gateway protocol used for routing between autonomous systems (ASes). [/INST]  True. BGP (Border Gateway Protocol) is a standardized exterior gateway protocol used for routing between autonomous systems (ASes).\n",
      "[INST] True or False: BGP routers exchange their entire routing tables during the BGP peering process. [/INST]  False.\n",
      "\n",
      "BGP routers do not exchange their entire routing tables during the BGP peering process. Instead, they exchange only the changes to their routing tables, known as \"updates,\" which contain information about the networks that the router can reach.\n",
      "\n",
      "When two BGP routers establish a peering relationship, they exchange their initial routing tables, but then they only exchange updates as their understanding of the network topology changes. This allows BGP routers to maintain a minimal\n",
      "[INST] True or False: BGP is a distance-vector routing protocol. [/INST]  False. BGP (Border Gateway Protocol) is a path vector routing protocol, not a distance-vector protocol.\n",
      "\n",
      "In a distance-vector protocol, each router advertises its own distance (or vector) to each destination network, based on the number of hops required to reach that network. In contrast, BGP uses a path vector approach, where each router advertises the best path it has learned from its neighboring routers, along with the AS path (Autonomous System path) that the\n",
      "[INST] True or False: BGP path attributes are used to provide information about the path a route has traversed. [/INST]  True. BGP path attributes are used to provide information about the path a route has traversed. BGP path attributes are used to carry information about the AS path, which is the sequence of ASes that a route has traversed. This information is used to determine the best path for a particular route based on factors such as distance, latency, and reliability.\n",
      "[INST] True or False: The AS-PATH attribute in BGP lists the ASes that a route has traversed in reverse order. [/INST]  False.\n",
      "\n",
      "The AS-PATH attribute in BGP lists the ASes that a route has traversed in forward order, not in reverse order. The AS-PATH attribute is a list of AS numbers that the route has passed through, in the order that they were encountered. Each AS number in the list represents a hop that the route has taken, and the list is used to help determine the origin of the route and to prevent loops in the network.\n",
      "[INST] True or False: The LOCAL-PREF attribute in BGP is used to indicate the preferred exit point from an AS. [/INST]  True.\n",
      "\n",
      "The LOCAL-PREF attribute in BGP is used to indicate the preferred exit point from an Autonomous System (AS) for a particular network or set of networks. The LOCAL-PREF attribute is set by the originating AS and is used by the receiving AS to determine the best path for forwarding traffic to the destination network. A higher LOCAL-PREF value indicates a more preferred exit point,\n",
      "[INST] True or False: BGP MED (Multi-Exit Discriminator) attribute is used to compare routes from different ASes. [/INST]  True.\n",
      "\n",
      "The BGP MED (Multi-Exit Discriminator) attribute is used to compare routes from different Autonomous Systems (ASes) and to select the best path based on the MED value. The MED value is a decimal value that represents the number of exits (i.e., the number of AS hops) required to reach the destination network from the originating AS.\n",
      "\n",
      "When BGP routes are compared\n",
      "[INST] True or False: BGP uses the EIGRP (Enhanced Interior Gateway Routing Protocol) algorithm for route selection. [/INST]  False.\n",
      "\n",
      "BGP (Border Gateway Protocol) uses a different algorithm for route selection, called the \"best path selection\" algorithm, which selects the best path based on factors such as the origin AS number, the length of the AS path, and the router ID.\n",
      "\n",
      "EIGRP (Enhanced Interior Gateway Routing Protocol) is a different routing protocol that is used for interior routing within an AS, and\n",
      "[INST] True or False: The BGP NOTIFICATION message is used to establish a BGP session between peers. [/INST]  False.\n",
      "\n",
      "The BGP NOTIFICATION message is used to notify the recipient of certain events or changes related to the BGP session, such as a change in the autonomous system number or the IP address of the BGP peer. It is not used to establish a BGP session between peers.\n",
      "\n",
      "To establish a BGP session, the BGP OPEN message is used. This message is sent by one peer to another to initiate the establishment of\n",
      "[INST] True or False: Route hijacking in BGP occurs when a malicious AS falsely advertises IP prefixes it doesn't own. [/INST]  True. Route hijacking in BGP occurs when a malicious Autonomous System (AS) falsely advertises IP prefixes it doesn't own, with the intention of redirecting traffic to a different location or network. This can be done by announcing a false route to a network or prefix that the malicious AS does not actually own, or by modifying the attributes of an existing route to make it more attractive\n"
     ]
    },
    {
     "name": "stderr",
     "output_type": "stream",
     "text": [
      "/home/hb/myenv/lib/python3.8/site-packages/transformers/pipelines/base.py:1083: UserWarning: You seem to be using the pipelines sequentially on GPU. In order to maximize efficiency please use a dataset\n",
      "  warnings.warn(\n"
     ]
    },
    {
     "name": "stdout",
     "output_type": "stream",
     "text": [
      "[INST] True or False: BGP route aggregation involves combining multiple IP prefixes into a single, summarized route. [/INST]  True. BGP route aggregation involves combining multiple IP prefixes into a single, summarized route, which is known as route aggregation or prefix aggregation. This allows for more efficient routing and reduces the number of routes that need to be exchanged between BGP peers.\n",
      "[INST] True or False: BGP route reflectors help alleviate the full mesh requirement in BGP peerings. [/INST]  True. BGP route reflectors help alleviate the full mesh requirement in BGP peerings by allowing a subset of BGP peers to exchange routing information with each other, rather than requiring a full mesh of peerings between all BGP speakers. This can significantly reduce the number of peerings required and improve the scalability of the BGP system.\n",
      "[INST] True or False: BGP confederations are used to divide an AS into multiple sub-ASes for better scalability. [/INST]  True. BGP confederations are used to divide an Autonomous System (AS) into multiple sub-ASes for better scalability. A BGP confederation is a group of ASes that share a common routing policy and exchange routing information among themselves. By dividing an AS into smaller sub-ASes, each sub-AS can have its own unique routing policy and exchange routing information only with other sub-ASes in the same confeder\n",
      "[INST] True or False: BGP communities are used to group routes into categories and apply policies to specific routes. [/INST]  True. BGP communities are used to group routes into categories and apply policies to specific routes. BGP communities are a way to tag routes with a specific value that can be used to apply policies to those routes. For example, a network operator might use a BGP community to tag routes that originate from a specific AS or that have a specific prefix. Once a route is tagged with a community, routers in the network can apply policies to that route based on the community value.\n",
      "[INST] True or False: BGP path attributes include NEXT-HOP, MED, and COMMUNITY. [/INST]  True.\n",
      "\n",
      "BGP path attributes include:\n",
      "\n",
      "* NEXT-HOP: specifies the IP address of the next hop to which the packet should be forwarded.\n",
      "* MED: specifies the medium value of the path, which is used to determine the best path based on the distance to the destination network.\n",
      "* COMMUNITY: specifies a set of communities to which the path belongs, which can be used to group paths based on\n",
      "[INST] True or False: BGP UPDATE messages are used to advertise new or withdrawn routes to BGP peers. [/INST]  True. BGP UPDATE messages are used to advertise new or withdrawn routes to BGP peers. When a BGP speaker wants to advertise a new route or withdraw an existing route to its peers, it sends an UPDATE message to the peers. The UPDATE message includes the new or withdrawn route information, and the peers then update their own routing tables accordingly.\n",
      "[INST] True or False: BGP KEEPALIVE messages are used to ensure that the BGP session between peers remains active. [/INST]  True. BGP KEEPALIVE messages are used to ensure that the BGP session between peers remains active.\n",
      "\n",
      "BGP KEEPALIVE messages are sent periodically by both peers to keep the session active and prevent the session from being closed due to inactivity. If a peer does not receive a KEEPALIVE message within a certain time period (usually 30 seconds), it assumes that the other peer has\n",
      "[INST] True or False: BGP routers use TCP port 80 for communication. [/INST]  False.\n",
      "\n",
      "BGP (Border Gateway Protocol) routers use TCP port 179 for communication. TCP port 80 is used for HTTP traffic, and BGP routers do not use it for communication.\n",
      "[INST] True or False: BGP convergence refers to the process of exchanging BGP route updates and achieving a consistent routing table. [/INST]  True. BGP convergence refers to the process of exchanging BGP route updates and achieving a consistent routing table among BGP peers. This process involves the exchange of routing information, the evaluation of the best path to a destination network, and the selection of the shortest path based on the BGP decision process. The goal of BGP convergence is to ensure that all BGP peers have the same view of the network and can forward packets to\n",
      "[INST] True or False: BGP routers typically use OSPF (Open Shortest Path First) as their underlying routing protocol. [/INST]  False.\n",
      "\n",
      "BGP (Border Gateway Protocol) is a distance-vector routing protocol that is commonly used to exchange routing information among autonomous systems (AS) on the internet. BGP does not use OSPF (Open Shortest Path First) as its underlying routing protocol. Instead, BGP uses its own routing algorithm to determine the shortest path to each destination network.\n",
      "\n",
      "OSPF, on the other hand, is a link-\n",
      "[INST] True or False: BGP monitoring and analysis tools help network administrators detect route leaks and hijacks. [/INST]  True. BGP monitoring and analysis tools can help network administrators detect route leaks and hijacks by providing visibility into BGP updates and allowing them to monitor and analyze BGP activity on their network. These tools can help administrators identify when routes are being advertised or withdrawn incorrectly, and take action to prevent or mitigate the impact of route leaks and hijacks.\n",
      "[INST] True or False: The BGP NEXT-HOP attribute indicates the IP address of the router that should be used as the next hop for the advertised route. [/INST]  True.\n",
      "\n",
      "The BGP NEXT-HOP attribute specifies the IP address of the router that should be used as the next hop for the advertised route. This attribute is used to specify the router that should be used to forward traffic for the advertised route, and is typically set to the IP address of the router that has the best path to the destination network.\n",
      "[INST] True or False: BGP routers do not consider the MED attribute when selecting the best path for routing. [/INST]  False. BGP routers do consider the MED (Multi-Exit Discrimination) attribute when selecting the best path for routing.\n",
      "\n",
      "The MED attribute is used to indicate the number of exits from a autonomous system (AS) that a particular route can take. A lower MED value indicates that the route has fewer exits from the AS, which can make it a more desirable path. BGP routers can use the MED attribute to prefer\n",
      "[INST] True or False: BGP route dampening is a mechanism used to reduce the impact of route flapping on the network. [/INST]  True. BGP route dampening is a mechanism used to reduce the impact of route flapping on the network by slowing down the propagation of routing updates and preventing unnecessary routing changes.\n",
      "[INST] True or False: BGP route dampening can cause routes to be temporarily suppressed if they are unstable. [/INST]  True. BGP route dampening can cause routes to be temporarily suppressed if they are unstable.\n",
      "\n",
      "Route dampening is a technique used in BGP to prevent the propagation of incomplete or unstable routing information. When a BGP speaker receives a new route from a peer, it will not immediately advertise that route to its own peers. Instead, it will wait for a certain amount of time (known as the dampening time\n",
      "[INST] True or False: BGP routers use TTL (Time-to-Live) values to prevent routing loops. [/INST]  True.\n",
      "\n",
      "BGP routers do use TTL (Time-to-Live) values to prevent routing loops. When a BGP router receives a BGP update from a neighbor, it checks the TTL value associated with the update. If the TTL value is zero or less than the value configured on the router, the update is discarded and an error message is generated. This helps to prevent routing loops by ensuring that the same route is not advertised\n",
      "[INST] True or False: BGP is commonly used for routing within a single autonomous system (AS). [/INST]  False. BGP (Border Gateway Protocol) is commonly used for routing between autonomous systems (AS), but it is not commonly used for routing within a single AS.\n",
      "\n",
      "BGP is a distance-vector routing protocol that is used to exchange routing information between autonomous systems. It is typically used to establish and maintain routing paths between different ASes, and it is not well-suited for routing within a single AS.\n",
      "\n",
      "For routing within a single AS, a different\n",
      "[INST] True or False: BGP protocol uses UDP as its transport protocol for communication. [/INST]  True. The Border Gateway Protocol (BGP) uses UDP (User Datagram Protocol) as its transport protocol for communication between BGP peers.\n",
      "[INST] True or False: BGP routers can use route filtering to prevent the propagation of specific routes to certain peers. [/INST]  True. BGP routers can use route filtering to prevent the propagation of specific routes to certain peers. This is done by using the \"filter\" command in the BGP configuration, which allows the administrator to specify which routes should not be advertised to certain peers. When a route is filtered, it will not be advertised to the specified peer, even if it is a directly connected network or a network that is reachable through a different peer.\n",
      "[INST] True or False: BGP routers prioritize shortest AS-PATH lengths when selecting the best route. [/INST]  False.\n",
      "\n",
      "BGP routers do not prioritize shortest AS-PATH lengths when selecting the best route. Instead, BGP uses a variety of factors to determine the best route, including:\n",
      "\n",
      "1. Lowest originated AS-PATH length: BGP prefers routes with the shortest AS-PATH length, but only if the route is originated from the same AS as the router.\n",
      "2. Shortest AS-PATH length: BGP\n",
      "['True', 'False', 'False', 'True', 'True', 'True', 'True', 'False', 'False', 'True', 'True', 'True', 'True', 'True', 'True', 'True', 'True', 'False', 'True', 'False', 'True', 'True', 'False', 'True', 'True', 'True', 'False', 'False', 'True', 'False']\n",
      "Generated Answer: True\n",
      "Correct\n",
      "Generated Answer: False\n",
      "Correct\n",
      "Generated Answer: False\n",
      "Correct\n",
      "Generated Answer: True\n",
      "Correct\n",
      "Generated Answer: False\n",
      "Incorrect\n",
      "Generated Answer: True\n",
      "Correct\n",
      "Generated Answer: True\n",
      "Correct\n",
      "Generated Answer: False\n",
      "Correct\n",
      "Generated Answer: False\n",
      "Correct\n",
      "Generated Answer: True\n",
      "Correct\n",
      "Generated Answer: True\n",
      "Correct\n",
      "Generated Answer: True\n",
      "Correct\n",
      "Generated Answer: True\n",
      "Correct\n",
      "Generated Answer: True\n",
      "Correct\n",
      "Generated Answer: True\n",
      "Correct\n",
      "Generated Answer: True\n",
      "Correct\n",
      "Generated Answer: True\n",
      "Correct\n",
      "Generated Answer: False\n",
      "Correct\n",
      "Generated Answer: True\n",
      "Correct\n",
      "Generated Answer: False\n",
      "Correct\n",
      "Generated Answer: True\n",
      "Correct\n",
      "Generated Answer: True\n",
      "Correct\n",
      "Generated Answer: False\n",
      "Correct\n",
      "Generated Answer: True\n",
      "Correct\n",
      "Generated Answer: True\n",
      "Correct\n",
      "Generated Answer: True\n",
      "Correct\n",
      "Generated Answer: False\n",
      "Correct\n",
      "Generated Answer: True\n",
      "Incorrect\n",
      "Generated Answer: True\n",
      "Correct\n",
      "Generated Answer: False\n",
      "Correct\n",
      "Accuracy: 93.33%\n",
      "Correct answers: 28\n",
      "Incorrect answers: 2\n"
     ]
    }
   ],
   "source": [
    "import json\n",
    "import re\n",
    "from transformers import pipeline\n",
    "\n",
    "input_file_path = \"/home/hb/fine-tuning-alpaca/evaluation/bgp_test_true_false.json\" \n",
    "\n",
    "# Load questions and answers from JSON file\n",
    "with open(input_file_path, \"r\") as input_file:\n",
    "    questions_data = json.load(input_file)\n",
    "\n",
    "# Initialize text generation pipeline\n",
    "pipe = pipeline(task=\"text-generation\", model=model, tokenizer=tokenizer, max_length=128)\n",
    "\n",
    "llama2_answers = []\n",
    "\n",
    "# Evaluate generated answers\n",
    "correct_answers = 0\n",
    "total_questions = len(questions_data)\n",
    "\n",
    "for q_dict in questions_data:\n",
    "    question = q_dict[\"question\"]\n",
    "    answer = q_dict[\"answer\"]\n",
    "\n",
    "    # Generate answer using the language model\n",
    "    prompt = f\"[INST] {question} [/INST]\"\n",
    "    generated_answer = pipe(prompt)[0]['generated_text']\n",
    "    print(generated_answer)\n",
    "    llama2_answers.append(generated_answer)\n",
    "\n",
    "# Extract ground truth answers\n",
    "ground_truth = [q_dict[\"answer\"] for q_dict in questions_data]\n",
    "\n",
    "print(ground_truth)\n",
    "\n",
    "for ground_answer, generated_answer in zip(ground_truth, llama2_answers):\n",
    "    generated_answer = re.search(r'\\[/INST\\]\\s+(.*?)\\.', generated_answer).group(1).strip()\n",
    "    print(f\"Generated Answer: {generated_answer}\")\n",
    "    \n",
    "    if generated_answer.lower() == ground_answer.lower():\n",
    "        print(\"Correct\")\n",
    "        correct_answers += 1\n",
    "    else:\n",
    "        print(\"Incorrect\")\n",
    "\n",
    "accuracy = (correct_answers / total_questions) * 100\n",
    "\n",
    "print(f\"Accuracy: {accuracy:.2f}%\")\n",
    "print(f\"Correct answers: {correct_answers}\")\n",
    "print(f\"Incorrect answers: {total_questions - correct_answers}\")\n"
   ]
  },
  {
   "cell_type": "code",
   "execution_count": 5,
   "metadata": {},
   "outputs": [
    {
     "name": "stdout",
     "output_type": "stream",
     "text": [
      "Generated Answer: When analyzing BGP route propagation, which attribute provides information about the path that the BGP update has traversed?\n",
      "Choose the correct answer:\n",
      "a) AS-Path\n",
      "b) MED (Multi-Exit Discriminator)\n",
      "c) Local Preference\n",
      "d) Next Hop\n",
      "\n",
      "Answer: a) AS-Path\n",
      "\n",
      "Explanation:\n",
      "\n",
      "The AS-Path attribute in BGP updates contains a list of autonomous systems (ASes) that the update has traversed. This attribute provides information about the path that the BGP update has taken from the originating AS to the receiving\n",
      "Parsed_answer: a\n",
      "----------------1-----------------\n",
      "Generated Answer: Which of the following is a primary purpose of BGP?\n",
      "Choose the correct answer:\n",
      "a) Establishing communication between devices within a LAN\n",
      "b) Exchanging routing information between autonomous systems\n",
      "c) Optimizing local network traffic\n",
      "d) Assigning IP addresses to devices\n",
      "\n",
      "Answer: b) Exchanging routing information between autonomous systems\n",
      "\n",
      "Explanation:\n",
      "\n",
      "BGP (Border Gateway Protocol) is a routing protocol used to exchange routing information between autonomous systems (AS) over the internet. It is responsible for advertising and maintaining the best path\n",
      "Parsed_answer: b\n",
      "----------------1-----------------\n",
      "Generated Answer: Which BGP attribute is used to prevent routing loops?\n",
      "Choose the correct answer:\n",
      "a) AS-PATH\n",
      "b) NEXT-HOP\n",
      "c) ORIGIN\n",
      "d) MED\n",
      "\n",
      "Answer: a) AS-PATH\n",
      "\n",
      "Explanation: The AS-PATH attribute is used to prevent routing loops by specifying the sequence of autonomous systems (ASes) that a packet has passed through to reach the current router. The AS-PATH attribute helps routers to determine whether a packet has already been through a particular AS, and thus prevents loops.\n",
      "\n",
      "The other attributes mentioned in the question\n",
      "Parsed_answer: a\n",
      "----------------1-----------------\n",
      "Generated Answer: Which BGP attribute indicates the exit point from an AS?\n",
      "Choose the correct answer:\n",
      "a) ORIGIN\n",
      "b) LOCAL-PREF\n",
      "c) NEXT-HOP\n",
      "d) AS-PATH\n",
      "\n",
      "Answer: c) NEXT-HOP\n",
      "\n",
      "Explanation: The NEXT-HOP attribute indicates the IP address of the next hop for a particular route. This attribute is used to specify the exit point from an Autonomous System (AS) to the next AS or the destination network. The NEXT-HOP attribute is important in BGP because it helps determine\n",
      "Parsed_answer: c\n",
      "----------------1-----------------\n",
      "Generated Answer: Which BGP message is used to establish a BGP session?\n",
      "Choose the correct answer:\n",
      "a) KEEPALIVE\n",
      "b) OPEN\n",
      "c) UPDATE\n",
      "d) NOTIFICATION\n",
      "\n",
      "Answer: b) OPEN\n",
      "\n",
      "Explanation:\n",
      "\n",
      "The BGP OPEN message is used to establish a BGP session between two autonomous systems (AS). The OPEN message is sent by the BGP speaker of one AS to the BGP speaker of another AS to initiate the session. The OPEN message includes information such as the BGP version number, the AS number, and\n",
      "Parsed_answer: b\n",
      "----------------1-----------------\n",
      "Generated Answer: What is the purpose of the BGP NEXT-HOP attribute?\n",
      "Choose the correct answer:\n",
      "a) Specifies the IP address of the sender\n",
      "b) Indicates the preferred exit point from an AS\n",
      "c) Defines the next router in the path\n",
      "d) Specifies the route's originator\n",
      "\n",
      "Answer: c) Defines the next router in the path\n",
      "\n",
      "Explanation:\n",
      "The BGP NEXT-HOP attribute specifies the IP address of the next router in the path of the advertised route. This attribute helps BGP peers determine the shortest path\n",
      "Parsed_answer: c\n",
      "----------------1-----------------\n",
      "Generated Answer: Which BGP message is used to advertise new or withdrawn routes?\n",
      "Choose the correct answer:\n",
      "a) KEEPALIVE\n",
      "b) OPEN\n",
      "c) UPDATE\n",
      "d) NOTIFICATION\n",
      "\n",
      "Answer: c) UPDATE\n",
      "\n",
      "Explanation:\n",
      "\n",
      "BGP uses the UPDATE message to advertise new or withdrawn routes to neighboring BGP peers. The UPDATE message is used to exchange routing information between BGP peers and to maintain the consistency of the routing table.\n",
      "\n",
      "The KEEPALIVE message is used to maintain the BGP session between pe\n",
      "Parsed_answer: c\n",
      "----------------1-----------------\n",
      "Generated Answer: What is the purpose of BGP route aggregation?\n",
      "Choose the correct answer:\n",
      "a) Breaking down large routes into smaller subnets\n",
      "b) Combining multiple routes into a single summarized route\n",
      "c) Assigning priority to specific routes\n",
      "d) Applying policies to routes based on their origin\n",
      "\n",
      "Answer: b) Combining multiple routes into a single summarized route\n",
      "\n",
      "Explanation: BGP route aggregation is the process of combining multiple routes into a single summarized route. This is useful for reducing the number of routes that need to be advertised and maintained, and\n",
      "Parsed_answer: b\n",
      "----------------1-----------------\n",
      "Generated Answer: Route hijacking in BGP occurs when:\n",
      "Choose the correct answer:\n",
      "a) A router becomes congested\n",
      "b) A malicious AS advertises IP prefixes it doesn't own\n",
      "c) BGP messages are not propagated correctly\n",
      "d) The BGP session is terminated\n",
      "\n",
      "Answer: b) A malicious AS advertises IP prefixes it doesn't own\n",
      "\n",
      "Explanation: BGP hijacking occurs when a malicious AS advertises IP prefixes it doesn't own, effectively redirecting traffic intended for those prefixes to a different location. This can be\n",
      "Parsed_answer: b\n",
      "----------------1-----------------\n",
      "Generated Answer: What is the primary goal of BGP monitoring and analysis tools?\n",
      "Choose the correct answer:\n",
      "a) Assigning IP addresses to devices\n",
      "b) Optimizing local network traffic\n",
      "c) Detecting and preventing route leaks and hijacks\n",
      "d) Analyzing application performance\n",
      "\n",
      "Answer: c) Detecting and preventing route leaks and hijacks\n",
      "\n",
      "Explanation: BGP monitoring and analysis tools are designed to detect and prevent route leaks and hijacks, which can cause network instability and security issues. These tools help network operators to monitor BGP updates, identify any\n",
      "Parsed_answer: c\n",
      "----------------1-----------------\n",
      "Generated Answer: Which BGP attribute is used to group routes into categories?\n",
      "Choose the correct answer:\n",
      "a) LOCAL-PREF\n",
      "b) MED\n",
      "c) AS-PATH\n",
      "d) COMMUNITY\n",
      "\n",
      "Answer: d) COMMUNITY\n",
      "\n",
      "Explanation:\n",
      "\n",
      "The COMMUNITY attribute is used in BGP to group routes into categories based on the value of the attribute. The COMMUNITY attribute is a 32-bit value that is assigned by the originator of the route and is used to identify the type of route or the group of routes that the\n",
      "Parsed_answer: d\n",
      "----------------1-----------------\n",
      "Generated Answer: BGP confederations are used to:\n",
      "Choose the correct answer:\n",
      "a) Optimize local network traffic\n",
      "b) Divide an AS into sub-ASes for scalability\n",
      "c) Group routes into categories\n",
      "d) Handle BGP session establishment\n",
      "\n",
      "Answer: c) Group routes into categories\n",
      "\n",
      "Explanation: BGP confederations are used to group routes into categories based on their origin, preference, or other attributes. This helps BGP speakers to make more informed decisions about which routes to accept and propagate. Confederations do not affect local network traffic, scalability, or\n",
      "Parsed_answer: c\n",
      "----------------1-----------------\n",
      "Generated Answer: What is the purpose of the BGP MED attribute?\n",
      "Choose the correct answer:\n",
      "a) Indicate the exit point from an AS\n",
      "b) Prevent routing loops\n",
      "c) Compare routes from different ASes\n",
      "d) Group routes into categories\n",
      "\n",
      "Answer: b) Prevent routing loops\n",
      "\n",
      "Explanation: The BGP MED (Multi-Exit Discrimination) attribute is used to prevent routing loops in BGP. It is used to discriminate between different paths to the same destination network based on the origin AS number. The MED attribute is set by the originating AS and\n",
      "Parsed_answer: b\n",
      "----------------1-----------------\n",
      "Generated Answer: Which BGP path attribute indicates the preferred exit point from an AS?\n",
      "Choose the correct answer:\n",
      "a) NEXT-HOP\n",
      "b) ORIGIN\n",
      "c) LOCAL-PREF\n",
      "d) AS-PATH\n",
      "\n",
      "Answer: a) NEXT-HOP\n",
      "\n",
      "Explanation:\n",
      "\n",
      "The NEXT-HOP attribute in BGP indicates the IP address of the next hop to which the traffic should be forwarded. The next hop is the router that is closest to the destination network, and it is the preferred exit point from the AS.\n",
      "\n",
      "The ORIGIN attribute\n",
      "Parsed_answer: a\n",
      "----------------1-----------------\n",
      "Generated Answer: BGP routers use which transport protocol for communication?\n",
      "Choose the correct answer:\n",
      "a) UDP\n",
      "b) TCP\n",
      "c) ICMP\n",
      "d) HTTP\n",
      "\n",
      "Answer: a) UDP\n",
      "\n",
      "Explanation: BGP (Border Gateway Protocol) is a distance-vector routing protocol that is used to exchange routing information between autonomous systems (AS) on the internet. BGP routers use UDP (User Datagram Protocol) as the transport protocol for communication. UDP is a connectionless protocol that provides best-effort delivery of packets, which is suitable for the dynamic\n",
      "Parsed_answer: a\n",
      "----------------1-----------------\n",
      "Generated Answer: BGP route dampening is used to:\n",
      "Choose the correct answer:\n",
      "a) Prevent BGP session establishment\n",
      "b) Optimize local network traffic\n",
      "c) Reduce the impact of route flapping\n",
      "d) Handle BGP updates more efficiently\n",
      "\n",
      "Answer: c) Reduce the impact of route flapping.\n",
      "\n",
      "Explanation: BGP route dampening is a technique used to reduce the impact of route flapping, which occurs when BGP peers continuously exchange updates for the same route. Route dampening works by introducing a small delay between the receipt of a\n",
      "Parsed_answer: c\n",
      "----------------1-----------------\n",
      "Generated Answer: Which BGP message is used to ensure that the BGP session remains active?\n",
      "Choose the correct answer:\n",
      "a) KEEPALIVE\n",
      "b) UPDATE\n",
      "c) NOTIFICATION\n",
      "d) OPEN\n",
      "\n",
      "Answer: a) KEEPALIVE\n",
      "\n",
      "Explanation:\n",
      "\n",
      "BGP uses the KEEPALIVE message to ensure that the BGP session remains active. The KEEPALIVE message is sent periodically by both peers to maintain the session. If the session is inactive for a certain period, the peers will exchange KEEPALIVE messages to\n",
      "Parsed_answer: a\n",
      "----------------1-----------------\n",
      "Generated Answer: BGP routers use the AS-PATH attribute to:\n",
      "Choose the correct answer:\n",
      "a) Identify the origin of a route\n",
      "b) Prevent route hijacking\n",
      "c) Determine the preferred exit point\n",
      "d) Identify the autonomous systems traversed by a route\n",
      "\n",
      "Answer: d) Identify the autonomous systems traversed by a route\n",
      "\n",
      "Explanation: The AS-PATH attribute in BGP routers is used to identify the autonomous systems (ASes) that a route has traversed. The AS-PATH attribute is a list of AS numbers that the route\n",
      "Parsed_answer: d\n",
      "----------------1-----------------\n",
      "Generated Answer: Which BGP attribute indicates the origin of a route?\n",
      "Choose the correct answer:\n",
      "a) NEXT-HOP\n",
      "b) AS-PATH\n",
      "c) ORIGIN\n",
      "d) MED\n",
      "\n",
      "Answer: c) ORIGIN\n",
      "\n",
      "Explanation: The ORIGIN attribute in BGP indicates the origin of a route. It specifies the autonomous system (AS) number of the AS that originated the route. This attribute is used to determine the trustworthiness of a route and to prevent routing loops.\n",
      "Parsed_answer: c\n",
      "----------------1-----------------\n",
      "Generated Answer: BGP routers prioritize routes with:\n",
      "Choose the correct answer:\n",
      "a) Longer AS-PATH lengths\n",
      "b) Shorter AS-PATH lengths\n",
      "c) Higher NEXT-HOP values\n",
      "d) Lower MED values\n",
      "\n",
      "Answer: b) Shorter AS-PATH lengths\n",
      "\n",
      "Explanation:\n",
      "\n",
      "When BGP routers receive updates from multiple peers, they need to determine which routes to install in the routing table. One way they do this is by examining the AS-PATH attribute of each update. The AS-PATH attribute specifies the sequence of AS numbers\n",
      "Parsed_answer: b\n",
      "----------------1-----------------\n",
      "Generated Answer: BGP route dampening can cause routes to be:\n",
      "Choose the correct answer:\n",
      "a) Summarized\n",
      "b) Withdrawn\n",
      "c) Temporarily suppressed\n",
      "d) Propagated to all BGP peers\n",
      "\n",
      "Answer: c) Temporarily suppressed\n",
      "\n",
      "Explanation: BGP route dampening is a mechanism that temporarily suppresses the propagation of new routes to all BGP peers. This can cause routes to be temporarily unavailable to other BGP peers, which can help prevent routing loops and instability in the network.\n",
      "\n",
      "Reference\n",
      "Parsed_answer: c\n",
      "----------------1-----------------\n",
      "Generated Answer: Which attribute is used to compare routes from different ASes in BGP?\n",
      "Choose the correct answer:\n",
      "a) NEXT-HOP\n",
      "b) ORIGIN\n",
      "c) MED\n",
      "d) LOCAL-PREF\n",
      "\n",
      "Answer: a) NEXT-HOP\n",
      "\n",
      "Explanation:\n",
      "\n",
      "In BGP, the NEXT-HOP attribute is used to compare routes from different Autonomous Systems (ASes). The NEXT-HOP attribute specifies the IP address of the next hop for a particular route. By comparing the NEXT-HOP attributes of different routes\n",
      "Parsed_answer: a\n",
      "----------------1-----------------\n",
      "Generated Answer: BGP communities are used for:\n",
      "Choose the correct answer:\n",
      "a) Assigning IP addresses\n",
      "b) Route aggregation\n",
      "c) Grouping routes into categories\n",
      "d) Preventing routing loops\n",
      "\n",
      "Answer: c) Grouping routes into categories\n",
      "\n",
      "Explanation: BGP communities are used to group routes into categories based on certain criteria, such as the type of traffic or the origin of the route. This allows BGP speakers to filter out routes that do not meet certain criteria, reducing the number of routes that need to be advertised and improving network performance.\n",
      "\n",
      "2. Which\n",
      "Parsed_answer: c\n",
      "----------------1-----------------\n",
      "Generated Answer: The BGP LOCAL-PREF attribute indicates:\n",
      "Choose the correct answer:\n",
      "a) The IP address of the next hop\n",
      "b) The exit point from an AS\n",
      "c) The preferred route to a destination\n",
      "d) The ASes traversed by a route\n",
      "\n",
      "Answer: c) The preferred route to a destination\n",
      "\n",
      "Explanation: The BGP LOCAL-PREF attribute specifies the local preference value for a particular route. The local preference value is used to determine the preferred route to a destination. The higher the local preference value, the more preferred the route is.\n",
      "\n",
      "\n",
      "Parsed_answer: c\n",
      "----------------1-----------------\n",
      "Generated Answer: BGP routers use which value to prevent routing loops?\n",
      "Choose the correct answer:\n",
      "a) MED\n",
      "b) TTL (Time-to-Live)\n",
      "c) NEXT-HOP\n",
      "d) AS-PATH\n",
      "\n",
      "Answer: d) AS-PATH\n",
      "\n",
      "Explanation:\n",
      "\n",
      "When a BGP router receives a routing update from a neighboring BGP router, it uses the AS-PATH attribute to determine whether the update is valid and whether it should be installed in the local routing table. The AS-PATH attribute contains a list of autonomous systems (ASes) that the\n",
      "Parsed_answer: d\n",
      "----------------1-----------------\n",
      "Generated Answer: BGP is commonly used for routing between:\n",
      "Choose the correct answer:\n",
      "a) Routers within a LAN\n",
      "b) Devices within a single AS\n",
      "c) Autonomous systems (ASes)\n",
      "d) Devices on the same subnet\n",
      "\n",
      "Answer: c) Autonomous systems (ASes)\n",
      "\n",
      "Explanation: BGP is a protocol used for routing between autonomous systems (ASes). It is commonly used for routing between different networks, such as between an ISP and its customers, or between different ISPs. BGP is not used for routing within a single\n",
      "Parsed_answer: c\n",
      "----------------1-----------------\n",
      "Generated Answer: BGP route reflectors help alleviate the need for:\n",
      "Choose the correct answer:\n",
      "a) AS-PATH attributes\n",
      "b) BGP route aggregation\n",
      "c) Full mesh BGP peerings\n",
      "d) BGP monitoring tools\n",
      "\n",
      "Answer: b) BGP route aggregation\n",
      "\n",
      "Explanation: BGP route reflectors help alleviate the need for full mesh BGP peerings by allowing multiple BGP speakers to exchange routes with a single peer, reducing the number of peerings required. This helps simplify network topology and reduce the number of BGP sessions that need to be established and\n",
      "Parsed_answer: b\n",
      "----------------1-----------------\n",
      "Generated Answer: The BGP MED attribute is used to:\n",
      "Choose the correct answer:\n",
      "a) Influence the preferred exit point\n",
      "b) Prevent routing loops\n",
      "c) Determine the origin of a route\n",
      "d) Summarize routes\n",
      "\n",
      "Answer: b) Prevent routing loops\n",
      "\n",
      "Explanation: The BGP MED attribute is used to prevent routing loops by specifying the minimum exit point (MED) for a particular route. The MED attribute is used to ensure that a route is not advertised to a neighbor that is not the best exit point for that route. By using the M\n",
      "Parsed_answer: b\n",
      "----------------1-----------------\n",
      "Generated Answer: The primary purpose of BGP route aggregation is to:\n",
      "Choose the correct answer:\n",
      "a) Reduce the number of BGP peers\n",
      "b) Combine routes into a single summarized route\n",
      "c) Assign different NEXT-HOP values\n",
      "d) Determine the preferred exit point for traffic\n",
      "\n",
      "Answer: b) Combine routes into a single summarized route\n",
      "\n",
      "Explanation: BGP route aggregation is used to combine multiple routes into a single summarized route, which helps reduce the number of BGP peers and improve routing table efficiency. This process involves grouping multiple routes\n",
      "Parsed_answer: b\n",
      "----------------1-----------------\n",
      "Generated Answer: BGP route dampening is designed to mitigate the impact of:\n",
      "Choose the correct answer:\n",
      "a) Route aggregation\n",
      "b) IP address conflicts\n",
      "c) Route flapping\n",
      "d) AS-PATH inconsistencies\n",
      "\n",
      "Answer: c) Route flapping\n",
      "\n",
      "Explanation: Route flapping occurs when a router repeatedly advertises the same route with different attributes, such as different AS paths or MED values. This can cause instability in the BGP network and lead to route oscillations. BGP route dampening helps to mitigate the impact of route flapping by suppress\n",
      "Parsed_answer: c\n",
      "----------------1-----------------\n",
      "Generated Answer: BGP monitoring and analysis tools are used to detect and prevent:\n",
      "Choose the correct answer:\n",
      "a) Route dampening\n",
      "b) Local network congestion\n",
      "c) BGP session establishment\n",
      "d) Route leaks and hijacks\n",
      "\n",
      "Answer: d) Route leaks and hijacks\n",
      "\n",
      "Explanation: BGP monitoring and analysis tools are used to detect and prevent route leaks and hijacks, which can cause traffic to be misrouted through unauthorized paths. These tools can help network operators identify and correct issues with BGP updates, such as incorrect or incomplete routing information, and\n",
      "Parsed_answer: d\n",
      "----------------1-----------------\n",
      "Generated Answer: BGP routers use which transport protocol for communication?\n",
      "Choose the correct answer:\n",
      "a) UDP\n",
      "b) TCP\n",
      "c) ICMP\n",
      "d) HTTP\n",
      "\n",
      "Answer: a) UDP\n",
      "\n",
      "Explanation: BGP (Border Gateway Protocol) is a distance-vector routing protocol that is used to exchange routing information between autonomous systems (AS) on the internet. BGP routers use UDP (User Datagram Protocol) as the transport protocol for communication. UDP is a connectionless protocol that provides best-effort delivery of packets, which is suitable for the dynamic\n",
      "Parsed_answer: a\n",
      "----------------1-----------------\n",
      "Generated Answer: BGP communities are used to:\n",
      "Choose the correct answer:\n",
      "a) Assign IP addresses\n",
      "b) Optimize local network traffic\n",
      "c) Group routes into categories\n",
      "d) Determine the preferred exit point for traffic\n",
      "\n",
      "Answer: c) Group routes into categories\n",
      "\n",
      "Explanation: BGP communities are used to group routes into categories based on certain criteria, such as the origin of the route or the type of traffic. This allows routers to make more informed decisions about how to handle traffic and can help improve network performance and security.\n",
      "\n",
      "2. Which of the following is a benefit\n",
      "Parsed_answer: c\n",
      "----------------1-----------------\n",
      "Generated Answer: Which attribute is used to indicate the exit point from an AS in BGP?\n",
      "Choose the correct answer:\n",
      "a) MED\n",
      "b) ORIGIN\n",
      "c) NEXT-HOP\n",
      "d) AS-PATH\n",
      "\n",
      "Answer: c) NEXT-HOP\n",
      "\n",
      "Explanation:\n",
      "\n",
      "The NEXT-HOP attribute is used to indicate the exit point from an Autonomous System (AS) in BGP. It specifies the IP address of the next hop for the advertised route, which is typically the border router of the AS that the route is leaving. This attribute helps\n",
      "Parsed_answer: c\n",
      "----------------1-----------------\n",
      "Generated Answer: BGP route hijacking occurs when:\n",
      "Choose the correct answer:\n",
      "a) A router experiences an outage\n",
      "b) A BGP session is established\n",
      "c) A malicious AS advertises IP prefixes it doesn't own\n",
      "d) BGP messages are not propagated to all peers\n",
      "e) A BGP peer is shut down\n",
      "\n",
      "Answer: c) A malicious AS advertises IP prefixes it doesn't own\n",
      "\n",
      "Explanation: BGP route hijacking occurs when a malicious AS advertises IP prefixes it doesn't own to other BGP pe\n",
      "Parsed_answer: c\n",
      "----------------1-----------------\n",
      "['a', 'b', 'a', 'c', 'b', 'c', 'c', 'b', 'b', 'c', 'd', 'c', 'b', 'a', 'a', 'c', 'a', 'd', 'c', 'b', 'c', 'a', 'c', 'c', 'd', 'c', 'b', 'b', 'b', 'c', 'd', 'a', 'c', 'c', 'c']\n",
      "Correct\n",
      "Correct\n",
      "Correct\n",
      "Incorrect\n",
      "Correct\n",
      "Correct\n",
      "Correct\n",
      "Correct\n",
      "Correct\n",
      "Correct\n",
      "Correct\n",
      "Incorrect\n",
      "Incorrect\n",
      "Incorrect\n",
      "Incorrect\n",
      "Correct\n",
      "Correct\n",
      "Correct\n",
      "Correct\n",
      "Correct\n",
      "Correct\n",
      "Incorrect\n",
      "Correct\n",
      "Correct\n",
      "Incorrect\n",
      "Correct\n",
      "Incorrect\n",
      "Incorrect\n",
      "Correct\n",
      "Correct\n",
      "Correct\n",
      "Incorrect\n",
      "Correct\n",
      "Correct\n",
      "Correct\n",
      "Accuracy: 71.43%\n",
      "Correct answers: 25\n",
      "Incorrect answers: 10\n"
     ]
    }
   ],
   "source": [
    "import json\n",
    "\n",
    "input_file_path = \"/home/hb/fine-tuning-alpaca/evaluation/bgp_test_multiple_choice.json\" \n",
    "\n",
    "with open(input_file_path, \"r\") as input_file:\n",
    "    questions_data = json.load(input_file)\n",
    "\n",
    "pipe = pipeline(task=\"text-generation\", model=model, tokenizer=tokenizer, max_length=128)\n",
    "\n",
    "generated_answers = []\n",
    "ground_truth = [q_dict[\"answer\"] for q_dict in questions_data]\n",
    "\n",
    "n_question = 0\n",
    "for q_dict in questions_data:\n",
    "    question = q_dict[\"question\"]\n",
    "    options = q_dict[\"options\"]\n",
    "    \n",
    "    # Construct prompt with question and options\n",
    "    prompt = f\"{question}\\nChoose the correct answer:\\n\" + \"\\n\".join(options)\n",
    "    # print(prompt)\n",
    "    \n",
    "    # Generate answer using the language model\n",
    "    generated_answer = pipe(prompt)[0]['generated_text']\n",
    "    print(f\"Generated Answer: {generated_answer}\")\n",
    "    \n",
    "        # Parse the generated answer\n",
    "    answer_lines = generated_answer.splitlines()\n",
    "    parsed_answer = \"\"\n",
    "    for line in answer_lines:\n",
    "        if line.startswith(\"Answer: \"):\n",
    "            parsed_answer = re.search(r'\\b(\\w)\\)', line).group(1)\n",
    "            print(f\"Parsed_answer: {parsed_answer}\")\n",
    "            break\n",
    "    generated_answers.append(parsed_answer)\n",
    "    n_question += 1\n",
    "    print(f\"----------------{n_question}-----------------\")\n",
    "print(generated_answers)\n",
    "\n",
    "\n",
    "total_questions = len(questions_data)\n",
    "correct_answers = 0\n",
    "\n",
    "for ground_answer, generated_answer in zip(ground_truth, generated_answers):\n",
    "    if generated_answer.lower() == ground_answer.lower():\n",
    "        print(\"Correct\")\n",
    "        correct_answers += 1\n",
    "    else:\n",
    "        print(\"Incorrect\")\n",
    "\n",
    "accuracy = (correct_answers / total_questions) * 100\n",
    "\n",
    "print(f\"Accuracy: {accuracy:.2f}%\")\n",
    "print(f\"Correct answers: {correct_answers}\")\n",
    "print(f\"Incorrect answers: {total_questions - correct_answers}\")"
   ]
  },
  {
   "cell_type": "code",
   "execution_count": 3,
   "metadata": {},
   "outputs": [
    {
     "name": "stderr",
     "output_type": "stream",
     "text": [
      "Setting `pad_token_id` to `eos_token_id`:2 for open-end generation.\n",
      "Setting `pad_token_id` to `eos_token_id`:2 for open-end generation.\n"
     ]
    },
    {
     "name": "stdout",
     "output_type": "stream",
     "text": [
      "Generated Answer: \n",
      "BGP (Border Gateway Protocol) is a standardized exterior gateway protocol used to exchange routing and reachability information between Autonomous Systems (AS) on the Internet. It enables the selection of paths and routes for data to flow efficiently between networks.\n",
      "Filled content:  Autonomous Systems (AS) \n",
      "---------------------1-----------------------------\n"
     ]
    },
    {
     "name": "stderr",
     "output_type": "stream",
     "text": [
      "Setting `pad_token_id` to `eos_token_id`:2 for open-end generation.\n"
     ]
    },
    {
     "name": "stdout",
     "output_type": "stream",
     "text": [
      "Generated Answer: \n",
      "In BGP, the AS-Path attribute represents the sequence of autonomous systems (ASes) that a route has traversed.\n",
      "\n",
      "So, the correct answer is:\n",
      "\n",
      "\"sequence of autonomous systems (ASes)\"\n",
      "Filled content:  sequence of autonomous s\n",
      "---------------------2-----------------------------\n"
     ]
    },
    {
     "name": "stderr",
     "output_type": "stream",
     "text": [
      "Setting `pad_token_id` to `eos_token_id`:2 for open-end generation.\n"
     ]
    },
    {
     "name": "stdout",
     "output_type": "stream",
     "text": [
      "Generated Answer: \n",
      "BGP routers exchange routing information using Open Message (OPEN) messages, which contain information about reachable destinations.\n",
      "Filled content:  Open Message (OPEN) mess\n",
      "---------------------3-----------------------------\n"
     ]
    },
    {
     "name": "stderr",
     "output_type": "stream",
     "text": [
      "Setting `pad_token_id` to `eos_token_id`:2 for open-end generation.\n"
     ]
    },
    {
     "name": "stdout",
     "output_type": "stream",
     "text": [
      "Generated Answer: \n",
      "BGP route aggregation is the process of combining multiple smaller IP prefixes into a single aggregated prefix.\n",
      "Filled content:  aggregation is the proce\n",
      "---------------------4-----------------------------\n"
     ]
    },
    {
     "name": "stderr",
     "output_type": "stream",
     "text": [
      "Setting `pad_token_id` to `eos_token_id`:2 for open-end generation.\n"
     ]
    },
    {
     "name": "stdout",
     "output_type": "stream",
     "text": [
      "Generated Answer: \n",
      "BGP hijacking refers to the malicious act of diverting traffic from its intended path to an attacker-controlled network.\n",
      "\n",
      "Correct! BGP hijacking is a type of cyber attack where an attacker exploits the Border Gate Protocol (BGP) to divert traffic from its intended path to an attack\n",
      "Filled content:  network.\n",
      "\n",
      "Correct! BGP h\n",
      "---------------------5-----------------------------\n"
     ]
    },
    {
     "name": "stderr",
     "output_type": "stream",
     "text": [
      "Setting `pad_token_id` to `eos_token_id`:2 for open-end generation.\n"
     ]
    },
    {
     "name": "stdout",
     "output_type": "stream",
     "text": [
      "Generated Answer: To reduce the number of BGP peers required for full mesh connectivity, BGP route aggregation can be implemented to consolidate updates.\n",
      "\n",
      "Route aggregation is a technique used in BGP to group multiple routes into a single route, allowing for more efficient updates and reducing the number of BGP peers required. By aggregating routes, a network can reduce the number of B\n",
      "Filled content: aggregation can be implem\n",
      "---------------------6-----------------------------\n"
     ]
    },
    {
     "name": "stderr",
     "output_type": "stream",
     "text": [
      "Setting `pad_token_id` to `eos_token_id`:2 for open-end generation.\n"
     ]
    },
    {
     "name": "stdout",
     "output_type": "stream",
     "text": [
      "Generated Answer: \n",
      "BGP monitoring tools can help identify unusual \"route leaks\" or \"route hijacks\" in BGP updates, indicating potential hijacking or misconfigurations.\n",
      "Filled content:  \"route leaks\" or \"route \n",
      "---------------------7-----------------------------\n"
     ]
    },
    {
     "name": "stderr",
     "output_type": "stream",
     "text": [
      "Setting `pad_token_id` to `eos_token_id`:2 for open-end generation.\n"
     ]
    },
    {
     "name": "stdout",
     "output_type": "stream",
     "text": [
      "Generated Answer: The attribute in BGP that allows routers to group routes into categories for applying specific policies is called \"Community.\"\n",
      "\n",
      "In BGP, a community is a set of routes that share a common attribute, such as a specific prefix or AS path. Communities can be used to group routes based on various criteria, such as origin, destination, or path characteristics. Once routes are grouped into communities, specific policies can be applied to\n",
      "Filled content: called \"Community.\"\n",
      "\n",
      "In B\n",
      "---------------------8-----------------------------\n"
     ]
    },
    {
     "name": "stderr",
     "output_type": "stream",
     "text": [
      "Setting `pad_token_id` to `eos_token_id`:2 for open-end generation.\n"
     ]
    },
    {
     "name": "stdout",
     "output_type": "stream",
     "text": [
      "Generated Answer: The BGP message used to establish a connection between BGP routers and exchange routing information is the \"Open Message\".\n",
      "\n",
      "The Open Message is a type of BGP message that is used to establish a connection between two BGP routers and exchange routing information. It is sent by one router to another to initiate the exchange of routing information and to establish a peering relationship between the two routers. The Open Message includes information\n",
      "Filled content: the \"Open Message\".\n",
      "\n",
      "The \n",
      "---------------------9-----------------------------\n"
     ]
    },
    {
     "name": "stderr",
     "output_type": "stream",
     "text": [
      "/home/hb/myenv/lib/python3.8/site-packages/transformers/pipelines/base.py:1083: UserWarning: You seem to be using the pipelines sequentially on GPU. In order to maximize efficiency please use a dataset\n",
      "  warnings.warn(\n",
      "Setting `pad_token_id` to `eos_token_id`:2 for open-end generation.\n"
     ]
    },
    {
     "name": "stdout",
     "output_type": "stream",
     "text": [
      "Generated Answer: The process of selecting the best route from multiple available routes based on various attributes in BGP is called route selection or route preference.\n",
      "Filled content: called route selection or\n",
      "---------------------10-----------------------------\n"
     ]
    },
    {
     "name": "stderr",
     "output_type": "stream",
     "text": [
      "Setting `pad_token_id` to `eos_token_id`:2 for open-end generation.\n"
     ]
    },
    {
     "name": "stdout",
     "output_type": "stream",
     "text": [
      "Generated Answer: The BGP attribute that influences the route selection process and can be used to prefer certain paths over others is the \"weight\" attribute.\n",
      "\n",
      "The weight attribute is a value that is associated with each BGP route and represents the relative preference of that route. The weight attribute can be used to influence the route selection process by giving higher weights to certain paths that are considered more desirable or stable. This can help to\n",
      "Filled content: the \"weight\" attribute.\n",
      "\n",
      "\n",
      "---------------------11-----------------------------\n"
     ]
    },
    {
     "name": "stderr",
     "output_type": "stream",
     "text": [
      "Setting `pad_token_id` to `eos_token_id`:2 for open-end generation.\n"
     ]
    },
    {
     "name": "stdout",
     "output_type": "stream",
     "text": [
      "Generated Answer: \n",
      "The attribute in BGP that indicates the preference of exit point for a route, often used in traffic engineering, is called \"Originator ID\" or \"Origin IP\".\n",
      "\n",
      "Originator ID is a field in the BGP update message that specifies the IP address of the router that originated the route. This field can be used to indicate the preferred exit point\n",
      "Filled content:  called \"Originator ID\" o\n",
      "---------------------12-----------------------------\n"
     ]
    },
    {
     "name": "stderr",
     "output_type": "stream",
     "text": [
      "Setting `pad_token_id` to `eos_token_id`:2 for open-end generation.\n"
     ]
    },
    {
     "name": "stdout",
     "output_type": "stream",
     "text": [
      "Generated Answer: \n",
      "BGP route advertisement allows an Autonomous System (AS) to advertise a route to a neighboring AS, causing traffic to be routed through that AS.\n",
      "Filled content:  advertisement allows an \n",
      "---------------------13-----------------------------\n"
     ]
    },
    {
     "name": "stderr",
     "output_type": "stream",
     "text": [
      "Setting `pad_token_id` to `eos_token_id`:2 for open-end generation.\n"
     ]
    },
    {
     "name": "stdout",
     "output_type": "stream",
     "text": [
      "Generated Answer: \n",
      "In BGP, networks use the Border Gateway Protocol (BGP) to exchange their reachability information and establish optimal routes for traffic flow.\n",
      "Filled content: the Border Gateway Protoc\n",
      "---------------------14-----------------------------\n"
     ]
    },
    {
     "name": "stderr",
     "output_type": "stream",
     "text": [
      "Setting `pad_token_id` to `eos_token_id`:2 for open-end generation.\n"
     ]
    },
    {
     "name": "stdout",
     "output_type": "stream",
     "text": [
      "Generated Answer: The phenomenon where the MED value of a route frequently changes, leading to instability, refers to BGP route churn.\n",
      "\n",
      "Therefore, the correct answer is:\n",
      "\n",
      "BGP route churn.\n",
      "Filled content: churn.\n",
      "\n",
      "Therefore, the co\n",
      "---------------------15-----------------------------\n"
     ]
    },
    {
     "name": "stderr",
     "output_type": "stream",
     "text": [
      "Setting `pad_token_id` to `eos_token_id`:2 for open-end generation.\n"
     ]
    },
    {
     "name": "stdout",
     "output_type": "stream",
     "text": [
      "Generated Answer: Route filtering in BGP involves detecting invalid or unauthorized BGP updates and filtering them to prevent their propagation.\n",
      "Filled content: filtering in BGP involves\n",
      "---------------------16-----------------------------\n"
     ]
    },
    {
     "name": "stderr",
     "output_type": "stream",
     "text": [
      "Setting `pad_token_id` to `eos_token_id`:2 for open-end generation.\n"
     ]
    },
    {
     "name": "stdout",
     "output_type": "stream",
     "text": [
      "Generated Answer: \n",
      "BGP routers establish a \"peer\" connection with their peers to exchange routing information.\n",
      "Filled content:  \"peer\" connection with t\n",
      "---------------------17-----------------------------\n"
     ]
    },
    {
     "name": "stderr",
     "output_type": "stream",
     "text": [
      "Setting `pad_token_id` to `eos_token_id`:2 for open-end generation.\n"
     ]
    },
    {
     "name": "stdout",
     "output_type": "stream",
     "text": [
      "Generated Answer: \n",
      "In BGP, the \"next hop\" attribute is used to indicate the next hop IP address for a route.\n",
      "\n",
      "So, the correct answer is:\n",
      "\n",
      "Next Hop\n",
      "Filled content:  \"next hop\" attribute is \n",
      "---------------------18-----------------------------\n"
     ]
    },
    {
     "name": "stderr",
     "output_type": "stream",
     "text": [
      "Setting `pad_token_id` to `eos_token_id`:2 for open-end generation.\n"
     ]
    },
    {
     "name": "stdout",
     "output_type": "stream",
     "text": [
      "Generated Answer: The advertisement of a more specific IP prefix to override a less specific prefix in BGP route involves \"route reflection.\"\n",
      "\n",
      "Therefore, the correct answer is:\n",
      "\n",
      "Route Reflection.\n",
      "Filled content: \"route reflection.\"\n",
      "\n",
      "Ther\n",
      "---------------------19-----------------------------\n"
     ]
    },
    {
     "name": "stderr",
     "output_type": "stream",
     "text": [
      "Setting `pad_token_id` to `eos_token_id`:2 for open-end generation.\n"
     ]
    },
    {
     "name": "stdout",
     "output_type": "stream",
     "text": [
      "Generated Answer: \n",
      "A type of BGP message used to establish a BGP session between routers and exchange information is the \"Open message\".\n",
      "\n",
      "So the correct answer is:\n",
      "\n",
      "Open message.\n",
      "Filled content:  the \"Open message\".\n",
      "\n",
      "So \n",
      "---------------------20-----------------------------\n"
     ]
    },
    {
     "name": "stderr",
     "output_type": "stream",
     "text": [
      "Setting `pad_token_id` to `eos_token_id`:2 for open-end generation.\n"
     ]
    },
    {
     "name": "stdout",
     "output_type": "stream",
     "text": [
      "Generated Answer: The process of optimizing the selection of routes based on factors like AS path length and local preference in BGP is called \"route reflection.\"\n",
      "\n",
      "Route reflection is a technique used by BGP speakers to select the best route based on factors such as AS path length, local preference, and origin validation. The goal of route reflection is to ensure that the shortest and most efficient path to a destination network is selected\n",
      "Filled content: called \"route reflection.\n",
      "---------------------21-----------------------------\n"
     ]
    },
    {
     "name": "stderr",
     "output_type": "stream",
     "text": [
      "Setting `pad_token_id` to `eos_token_id`:2 for open-end generation.\n"
     ]
    },
    {
     "name": "stdout",
     "output_type": "stream",
     "text": [
      "Generated Answer: The BGP message, used to confirm the establishment of a BGP session and synchronize routing information, plays a crucial role in maintaining the stability of network connections is BGP's OPEN message.\n",
      "\n",
      "The BGP OPEN message is used to establish a BGP session between two border routers and to exchange information about their respective networks\n",
      "Filled content: BGP's OPEN message.\n",
      "\n",
      "The \n",
      "---------------------22-----------------------------\n"
     ]
    },
    {
     "name": "stderr",
     "output_type": "stream",
     "text": [
      "Setting `pad_token_id` to `eos_token_id`:2 for open-end generation.\n"
     ]
    },
    {
     "name": "stdout",
     "output_type": "stream",
     "text": [
      "Generated Answer: \n",
      "A widely used technique, safeguards network integrity by selectively controlling the dissemination of specific routes across the network, thus ensuring controlled routing is BGP ________.\n",
      "\n",
      "The correct answer is: BGP route filtering.\n",
      "Filled content:  ________.\n",
      "\n",
      "The correct a\n",
      "---------------------23-----------------------------\n"
     ]
    },
    {
     "name": "stderr",
     "output_type": "stream",
     "text": [
      "Setting `pad_token_id` to `eos_token_id`:2 for open-end generation.\n"
     ]
    },
    {
     "name": "stdout",
     "output_type": "stream",
     "text": [
      "Generated Answer: \n",
      "An alarming security concern that involves unauthorized entities advertising IP prefixes they do not own, causing network traffic to be redirected to potentially malicious destinations is BGP hijacking.\n",
      "Filled content:  hijacking.\n",
      "---------------------24-----------------------------\n"
     ]
    },
    {
     "name": "stderr",
     "output_type": "stream",
     "text": [
      "Setting `pad_token_id` to `eos_token_id`:2 for open-end generation.\n"
     ]
    },
    {
     "name": "stdout",
     "output_type": "stream",
     "text": [
      "Generated Answer: A strategic practice within network administration, optimizes routing efficiency by merging several smaller IP prefixes into a singular, more streamlined aggregated prefix is BGP route _aggregation_.\n",
      "Filled content: _aggregation_.\n",
      "---------------------25-----------------------------\n"
     ]
    },
    {
     "name": "stderr",
     "output_type": "stream",
     "text": [
      "Setting `pad_token_id` to `eos_token_id`:2 for open-end generation.\n"
     ]
    },
    {
     "name": "stdout",
     "output_type": "stream",
     "text": [
      "Generated Answer: \n",
      "A process whereby a more specific IP prefix is deliberately advertised to take precedence over a broader one, thus influencing the route selection process is BGP route __________.\n",
      "\n",
      "The correct answer is: BGP route \"preference\".\n",
      "Filled content:  __________.\n",
      "\n",
      "The correct\n",
      "---------------------26-----------------------------\n"
     ]
    },
    {
     "name": "stderr",
     "output_type": "stream",
     "text": [
      "Setting `pad_token_id` to `eos_token_id`:2 for open-end generation.\n"
     ]
    },
    {
     "name": "stdout",
     "output_type": "stream",
     "text": [
      "Generated Answer: \n",
      "An attribute in BGP path that indicates the sequence of autonomous systems (ASes) that a route has traversed is _MULTI_EXIT_DISCRIMINATOR_.\n",
      "\n",
      "Fill the blank!\n",
      "Filled content:  _MULTI_EXIT_DISCRIMINATO\n",
      "---------------------27-----------------------------\n"
     ]
    },
    {
     "name": "stderr",
     "output_type": "stream",
     "text": [
      "Setting `pad_token_id` to `eos_token_id`:2 for open-end generation.\n"
     ]
    },
    {
     "name": "stdout",
     "output_type": "stream",
     "text": [
      "Generated Answer: \n",
      "BGP attribute employed to express the network's preferred exit point for a given route and often leveraged for efficient traffic engineering is MULTI-EXIT PERMITTING (MEP).\n",
      "\n",
      "MEP is a BGP attribute that allows a network to specify multiple exit points for a given route, indicating the network's preferred exit point\n",
      "Filled content:  MULTI-EXIT PERMITTING (M\n",
      "---------------------28-----------------------------\n"
     ]
    },
    {
     "name": "stderr",
     "output_type": "stream",
     "text": [
      "Setting `pad_token_id` to `eos_token_id`:2 for open-end generation.\n"
     ]
    },
    {
     "name": "stdout",
     "output_type": "stream",
     "text": [
      "Generated Answer: \n",
      "Tools designed to enhance network oversight, empower network administrators to promptly detect and respond to anomalies, potential hijacking attempts, and misconfigurations in routing called BGP route ________ tools.\n",
      "\n",
      "The correct answer\n",
      "Filled content:  ________ tools.\n",
      "\n",
      "The cor\n",
      "---------------------29-----------------------------\n"
     ]
    },
    {
     "name": "stderr",
     "output_type": "stream",
     "text": [
      "Setting `pad_token_id` to `eos_token_id`:2 for open-end generation.\n"
     ]
    },
    {
     "name": "stdout",
     "output_type": "stream",
     "text": [
      "Generated Answer: BGP suppression refers to the process of configuring routers to prevent the propagation of specific routes.\n",
      "Filled content: suppression refers to the\n",
      "---------------------30-----------------------------\n"
     ]
    },
    {
     "name": "stderr",
     "output_type": "stream",
     "text": [
      "Setting `pad_token_id` to `eos_token_id`:2 for open-end generation.\n"
     ]
    },
    {
     "name": "stdout",
     "output_type": "stream",
     "text": [
      "Generated Answer: BGP OPEN message is used for confirming BGP session establishment and synchronization.\n",
      "Filled content: OPEN message is used for \n",
      "---------------------31-----------------------------\n"
     ]
    },
    {
     "name": "stderr",
     "output_type": "stream",
     "text": [
      "Setting `pad_token_id` to `eos_token_id`:2 for open-end generation.\n"
     ]
    },
    {
     "name": "stdout",
     "output_type": "stream",
     "text": [
      "Generated Answer: \n",
      "BGP multi-exit routing helps reduce the need for full mesh connectivity by allowing a router to reflect routes to multiple peers.\n",
      "Filled content:  multi-exit routing helps\n",
      "---------------------32-----------------------------\n"
     ]
    },
    {
     "name": "stderr",
     "output_type": "stream",
     "text": [
      "Setting `pad_token_id` to `eos_token_id`:2 for open-end generation.\n"
     ]
    },
    {
     "name": "stdout",
     "output_type": "stream",
     "text": [
      "Generated Answer: BGP route selection ______________ involves manipulating the BGP attributes to control the selection of routes.\n",
      "\n",
      "The correct answer is: BGP route selection ______________ involves manipulating the BGP attributes to control the selection of routes.\n",
      "\n",
      "Explanation:\n",
      "\n",
      "BGP (Border Gateway Protocol) is a routing protocol used to exchange routing information among autonomous systems (AS) on the internet. BGP route\n",
      "Filled content: selection ______________ \n",
      "---------------------33-----------------------------\n"
     ]
    },
    {
     "name": "stderr",
     "output_type": "stream",
     "text": [
      "Setting `pad_token_id` to `eos_token_id`:2 for open-end generation.\n"
     ]
    },
    {
     "name": "stdout",
     "output_type": "stream",
     "text": [
      "Generated Answer: \n",
      "BGP peering is used for establishing BGP session connections and exchanging routing information.\n",
      "Filled content:  peering is used for esta\n",
      "---------------------34-----------------------------\n",
      "Generated Answer: The phenomenon where the Multi-Exit Discriminator (MED) value of a route frequently changes is referred to as \"MED oscillations.\"\n",
      "\n",
      "Therefore, the correct answer is:\n",
      "\n",
      "MED oscillations.\n",
      "Filled content:  as \"MED oscillations.\"\n",
      "\n",
      "\n",
      "---------------------35-----------------------------\n"
     ]
    },
    {
     "ename": "",
     "evalue": "",
     "output_type": "error",
     "traceback": [
      "\u001b[1;31mThe Kernel crashed while executing code in the the current cell or a previous cell. Please review the code in the cell(s) to identify a possible cause of the failure. Click <a href='https://aka.ms/vscodeJupyterKernelCrash'>here</a> for more info. View Jupyter <a href='command:jupyter.viewOutput'>log</a> for further details."
     ]
    }
   ],
   "source": [
    "import json\n",
    "import re\n",
    "\n",
    "input_file_path = \"/home/hb/fine-tuning-alpaca/evaluation/bgp_test_fill_the_blank.json\" \n",
    "\n",
    "with open(input_file_path, \"r\") as input_file:\n",
    "    questions_data = json.load(input_file)\n",
    "\n",
    "pipe = pipeline(task=\"text-generation\", model=model, tokenizer=tokenizer, max_length=128)\n",
    "\n",
    "generated_answers = []\n",
    "filled_answers = []\n",
    "\n",
    "n_question = 0\n",
    "for q_dict in questions_data:\n",
    "    question = q_dict[\"question\"]\n",
    "    answer = q_dict[\"answer\"]\n",
    "\n",
    "    # Generate answer using the language model\n",
    "    prompt = f\"[INST]{question} \\n Fill the blank: \\n [/INST]\"\n",
    "    generated_answer = pipe(prompt)[0]['generated_text']\n",
    "    # print(f\"Output: {generated_answer}\")\n",
    "    \n",
    "    generated_answer = re.search(r'\\[/INST\\]\\s+(.*)', generated_answer, re.DOTALL).group(1).strip()\n",
    "    if \"Sure\" in generated_answer:\n",
    "        generated_answer = generated_answer.split('\\n', 1)[1]  # Skip the first line\n",
    "    print(f\"Generated Answer: {generated_answer}\")\n",
    "    generated_answers.append(generated_answer)\n",
    "    \n",
    "    # Find the position of the placeholder in the first string\n",
    "    placeholder_position = question.find(\"________\")\n",
    "\n",
    "    # Extract the content filled in the placeholder\n",
    "    filled_content = generated_answer[placeholder_position:placeholder_position + len(\"autonomous systems (ASes)\")]\n",
    "    filled_answers.append(filled_content)\n",
    "    n_question += 1\n",
    "    print(f\"Filled content: {filled_content}\")\n",
    "    print(f\"---------------------{n_question}-----------------------------\")\n"
   ]
  },
  {
   "cell_type": "code",
   "execution_count": null,
   "metadata": {},
   "outputs": [],
   "source": []
  }
 ],
 "metadata": {
  "kernelspec": {
   "display_name": "myenv",
   "language": "python",
   "name": "python3"
  },
  "language_info": {
   "codemirror_mode": {
    "name": "ipython",
    "version": 3
   },
   "file_extension": ".py",
   "mimetype": "text/x-python",
   "name": "python",
   "nbconvert_exporter": "python",
   "pygments_lexer": "ipython3",
   "version": "3.8.16"
  },
  "orig_nbformat": 4
 },
 "nbformat": 4,
 "nbformat_minor": 2
}
