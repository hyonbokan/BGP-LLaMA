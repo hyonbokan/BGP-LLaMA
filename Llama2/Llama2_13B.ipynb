{
 "cells": [
  {
   "cell_type": "code",
   "execution_count": 2,
   "metadata": {},
   "outputs": [
    {
     "data": {
      "application/vnd.jupyter.widget-view+json": {
       "model_id": "6515fe2139db44db891ad9eae041eee9",
       "version_major": 2,
       "version_minor": 0
      },
      "text/plain": [
       "VBox(children=(HTML(value='<center> <img\\nsrc=https://huggingface.co/front/assets/huggingface_logo-noborder.sv…"
      ]
     },
     "metadata": {},
     "output_type": "display_data"
    }
   ],
   "source": [
    "from huggingface_hub import notebook_login\n",
    "notebook_login()"
   ]
  },
  {
   "cell_type": "code",
   "execution_count": 3,
   "metadata": {},
   "outputs": [
    {
     "name": "stderr",
     "output_type": "stream",
     "text": [
      "The model weights are not tied. Please use the `tie_weights` method before using the `infer_auto_device` function.\n"
     ]
    },
    {
     "data": {
      "application/vnd.jupyter.widget-view+json": {
       "model_id": "b74a023484eb43a1a716d4089e46de83",
       "version_major": 2,
       "version_minor": 0
      },
      "text/plain": [
       "Loading checkpoint shards:   0%|          | 0/3 [00:00<?, ?it/s]"
      ]
     },
     "metadata": {},
     "output_type": "display_data"
    },
    {
     "name": "stdout",
     "output_type": "stream",
     "text": [
      "Model loaded on cuda:0\n"
     ]
    }
   ],
   "source": [
    "from torch import cuda, bfloat16\n",
    "import transformers\n",
    "from transformers import (\n",
    "    AutoModelForCausalLM,\n",
    "    AutoTokenizer,\n",
    "    BitsAndBytesConfig,\n",
    "    HfArgumentParser,\n",
    "    TrainingArguments,\n",
    "    pipeline,\n",
    "    logging,\n",
    ")\n",
    "import pandas as pd\n",
    "import os\n",
    "\n",
    "model_id = 'meta-llama/Llama-2-13b-chat-hf'\n",
    "\n",
    "device = f'cuda:{cuda.current_device()}' if cuda.is_available() else 'cpu'\n",
    "\n",
    "# bnb_config = transformers.BitsAndBytesConfig(\n",
    "#     load_in_4bit=True,\n",
    "#     bnb_4bit_quant_type='nf4',\n",
    "#     bnb_4bit_use_double_quant=True,\n",
    "#     bnb_4bit_compute_dtype=bfloat16\n",
    "# )\n",
    "\n",
    "hf_token = os.environ.get('hf_token')\n",
    "\n",
    "# Need auth token for these\n",
    "hf_auth = hf_token\n",
    "model_config = transformers.AutoConfig.from_pretrained(\n",
    "    model_id,\n",
    "    use_auth_token=hf_auth\n",
    ")\n",
    "\n",
    "model = transformers.AutoModelForCausalLM.from_pretrained(\n",
    "    model_id,\n",
    "    trust_remote_code=True,\n",
    "    config=model_config,\n",
    "    # quantization_config=bnb_config,\n",
    "    device_map='auto',\n",
    "    use_auth_token=hf_auth\n",
    ")\n",
    "model.eval()\n",
    "print(f\"Model loaded on {device}\")"
   ]
  },
  {
   "cell_type": "code",
   "execution_count": 4,
   "metadata": {},
   "outputs": [],
   "source": [
    "tokenizer = transformers.AutoTokenizer.from_pretrained(\n",
    "    model_id,\n",
    "    use_auth_token=hf_auth\n",
    ")\n",
    "\n",
    "tokenizer.pad_token = tokenizer.eos_token\n",
    "tokenizer.pad_token_id = tokenizer.eos_token_id\n",
    "tokenizer.padding_side = \"right\""
   ]
  },
  {
   "cell_type": "code",
   "execution_count": 5,
   "metadata": {},
   "outputs": [
    {
     "name": "stdout",
     "output_type": "stream",
     "text": [
      "<s>[INST] Given a n3.pcap file containing network traffic data, create a Python script using scapy library to process the PCAP. The script should extract the source IP, destination IP, source port, destination port, and the raw payload data for each packet in the PCAP. Store this data in a pandas DataFrame and display it. [/INST]  Sure! Here is a Python script using the Scapy library to process a PCAP file and extract the source IP, destination IP, source port, destination port, and raw payload data for each packet. The data is then stored in a pandas DataFrame and displayed.\n",
      "```\n",
      "import scapy\n",
      "import pandas as pd\n",
      "\n",
      "# Open the PCAP file\n",
      "pcap = scapy.open(\"n3.pcap\")\n",
      "\n",
      "# Create a list to store the packet data\n",
      "packet_data = []\n",
      "\n",
      "# Iterate over each packet in the PCAP file\n",
      "for packet in pcap:\n",
      "    # Extract the source IP, destination IP, source port, and destination port\n",
      "    src_ip = packet.src_ip\n",
      "    dst_ip = packet.dst_ip\n",
      "    src_port = packet.sport\n",
      "    dst_port = packet.dport\n",
      "    \n",
      "    # Extract the raw payload data\n",
      "    payload = packet.payload\n",
      "    \n",
      "    # Add the packet data to the list\n",
      "    packet_data.append((src_ip, dst_ip, src_port, dst_port, payload))\n",
      "\n",
      "# Convert the list to a pandas DataFrame\n",
      "df = pd.DataFrame(packet_data, columns=[\"Source IP\", \"Destination IP\", \"Source Port\", \"Destination Port\", \"Payload\"])\n",
      "\n",
      "# Display the DataFrame\n",
      "print(df)\n",
      "```\n",
      "This script uses the `scapy` library to open the PCAP file and iterate over each packet. For each packet, it extracts the source IP, destination IP, source port, destination port, and raw payload data using the `sport`, `dport`, and `payload` attributes of the `packet` object.\n",
      "\n",
      "The extracted data is then stored in a list, which is converted to a pandas DataFrame using the `pd.DataFrame` function. Finally, the DataFrame is displayed using the `print` function.\n",
      "\n",
      "Note that this script assumes that the PCAP file contains only Ethernet frames. If the PCAP file contains other types of frames (e.g., IPv6, ARP), you may need to modify the script accordingly.\n"
     ]
    }
   ],
   "source": [
    "logging.set_verbosity(logging.CRITICAL)\n",
    "\n",
    "# Run text generation pipeline with our next model\n",
    "prompt = \"Given a n3.pcap file containing network traffic data, create a Python script using scapy library to process the PCAP. The script should extract the source IP, destination IP, source port, destination port, and the raw payload data for each packet in the PCAP. Store this data in a pandas DataFrame and display it.\"\n",
    "pipe = pipeline(task=\"text-generation\", model=model, tokenizer=tokenizer, max_length=1012)\n",
    "result = pipe(f\"<s>[INST] {prompt} [/INST]\")\n",
    "print(result[0]['generated_text'])"
   ]
  },
  {
   "cell_type": "code",
   "execution_count": 6,
   "metadata": {},
   "outputs": [
    {
     "name": "stdout",
     "output_type": "stream",
     "text": [
      "<s>[INST] Perform BGP analysis using PyBGPStream and detect anomalies in AS path lengths for IPv4 prefixes over two time periods: from January 15, 2020, 15:00 to January 15, 2020, 17:00, and January 18, 2020, 12:00 to January 18, 2020, 13:00. [/INST]  Sure, here's an example of how you could use PyBGPStream to perform BGP analysis and detect anomalies in AS path lengths for IPv4 prefixes over two time periods:\n",
      "\n",
      "First, you'll need to install PyBGPStream using pip:\n",
      "```\n",
      "pip install pypbgpstream\n",
      "```\n",
      "Next, you can use the following code to load the BGP data and perform the analysis:\n",
      "```\n",
      "import pypbgpstream\n",
      "\n",
      "# Load the BGP data for the two time periods\n",
      "bgp_data_15_17 = pypbgpstream.load_bgp_data('2020-01-15T15:00:00/2020-01-15T17:00:00')\n",
      "bgp_data_18_13 = pypbgpstream.load_bgp_data('2020-01-18T12:00:00/2020-01-18T13:00:00')\n",
      "\n",
      "# Extract the IPv4 prefixes and their AS path lengths\n",
      "ipv4_prefixes = bgp_data_15_17['prefixes']\n",
      "as_path_lengths_15_17 = [len(prefix['as_path']) for prefix in ipv4_prefixes]\n",
      "\n",
      "ipv4_prefixes = bgp_data_18_13['prefixes']\n",
      "as_path_lengths_18_13 = [len(prefix['as_path']) for prefix in ipv4_prefixes]\n",
      "\n",
      "# Detect anomalies in AS path lengths\n",
      "anomaly_threshold = 3  # adjust this threshold as needed\n",
      "\n",
      "anomalies_15_17 = [prefix for prefix in as_path_lengths_15_17 if prefix > anomaly_threshold]\n",
      "anomalies_18_13 = [prefix for prefix in as_path_lengths_18_13 if prefix > anomaly_threshold]\n",
      "\n",
      "# Print the anomalies\n",
      "print('Anomalies in AS path lengths for IPv4 prefixes on January 15, 2020:')\n",
      "print(anomalies_15_17)\n",
      "\n",
      "print('Anomalies in AS path lengths for IPv4 prefixes on January 18, 2020:')\n",
      "print(anomalies_18_13)\n",
      "```\n",
      "This code will load the BGP data for the two time periods, extract the IPv4 prefixes and their AS path lengths, and then detect anom\n"
     ]
    }
   ],
   "source": [
    "# Run text generation pipeline with our next model\n",
    "prompt = \"Perform BGP analysis using PyBGPStream and detect anomalies in AS path lengths for IPv4 prefixes over two time periods: from January 15, 2020, 15:00 to January 15, 2020, 17:00, and January 18, 2020, 12:00 to January 18, 2020, 13:00.\"\n",
    "pipe = pipeline(task=\"text-generation\", model=model, tokenizer=tokenizer, max_length=718)\n",
    "result = pipe(f\"<s>[INST] {prompt} [/INST]\")\n",
    "print(result[0]['generated_text'])"
   ]
  },
  {
   "cell_type": "code",
   "execution_count": 2,
   "metadata": {},
   "outputs": [
    {
     "ename": "NameError",
     "evalue": "name 'pypbgpstream' is not defined",
     "output_type": "error",
     "traceback": [
      "\u001b[0;31m---------------------------------------------------------------------------\u001b[0m",
      "\u001b[0;31mNameError\u001b[0m                                 Traceback (most recent call last)",
      "Cell \u001b[0;32mIn[2], line 4\u001b[0m\n\u001b[1;32m      1\u001b[0m \u001b[38;5;28;01mimport\u001b[39;00m \u001b[38;5;21;01mpybgpstream\u001b[39;00m\n\u001b[1;32m      3\u001b[0m \u001b[38;5;66;03m# Load the BGP data for the two time periods\u001b[39;00m\n\u001b[0;32m----> 4\u001b[0m bgp_data_15_17 \u001b[38;5;241m=\u001b[39m \u001b[43mpypbgpstream\u001b[49m\u001b[38;5;241m.\u001b[39mload_bgp_data(\u001b[38;5;124m'\u001b[39m\u001b[38;5;124m2020-01-15T15:00:00/2020-01-15T17:00:00\u001b[39m\u001b[38;5;124m'\u001b[39m)\n\u001b[1;32m      5\u001b[0m bgp_data_18_13 \u001b[38;5;241m=\u001b[39m pypbgpstream\u001b[38;5;241m.\u001b[39mload_bgp_data(\u001b[38;5;124m'\u001b[39m\u001b[38;5;124m2020-01-18T12:00:00/2020-01-18T13:00:00\u001b[39m\u001b[38;5;124m'\u001b[39m)\n\u001b[1;32m      7\u001b[0m \u001b[38;5;66;03m# Extract the IPv4 prefixes and their AS path lengths\u001b[39;00m\n",
      "\u001b[0;31mNameError\u001b[0m: name 'pypbgpstream' is not defined"
     ]
    }
   ],
   "source": [
    "import pypbgpstream\n",
    "\n",
    "# Load the BGP data for the two time periods\n",
    "bgp_data_15_17 = pypbgpstream.load_bgp_data('2020-01-15T15:00:00/2020-01-15T17:00:00')\n",
    "bgp_data_18_13 = pypbgpstream.load_bgp_data('2020-01-18T12:00:00/2020-01-18T13:00:00')\n",
    "\n",
    "# Extract the IPv4 prefixes and their AS path lengths\n",
    "ipv4_prefixes = bgp_data_15_17['prefixes']\n",
    "as_path_lengths_15_17 = [len(prefix['as_path']) for prefix in ipv4_prefixes]\n",
    "\n",
    "ipv4_prefixes = bgp_data_18_13['prefixes']\n",
    "as_path_lengths_18_13 = [len(prefix['as_path']) for prefix in ipv4_prefixes]\n",
    "\n",
    "# Detect anomalies in AS path lengths\n",
    "anomaly_threshold = 3  # adjust this threshold as needed\n",
    "\n",
    "anomalies_15_17 = [prefix for prefix in as_path_lengths_15_17 if prefix > anomaly_threshold]\n",
    "anomalies_18_13 = [prefix for prefix in as_path_lengths_18_13 if prefix > anomaly_threshold]\n",
    "\n",
    "# Print the anomalies\n",
    "print('Anomalies in AS path lengths for IPv4 prefixes on January 15, 2020:')\n",
    "print(anomalies_15_17)\n",
    "\n",
    "print('Anomalies in AS path lengths for IPv4 prefixes on January 18, 2020:')\n",
    "print(anomalies_18_13)"
   ]
  },
  {
   "cell_type": "markdown",
   "metadata": {},
   "source": [
    "# 5G General Knowledge"
   ]
  },
  {
   "cell_type": "code",
   "execution_count": 3,
   "metadata": {},
   "outputs": [
    {
     "name": "stderr",
     "output_type": "stream",
     "text": [
      "Setting `pad_token_id` to `eos_token_id`:2 for open-end generation.\n",
      "Setting `pad_token_id` to `eos_token_id`:2 for open-end generation.\n"
     ]
    },
    {
     "name": "stdout",
     "output_type": "stream",
     "text": [
      "Generated Answer: Choose the correct answer. What happens to packets larger than the Maximum SDU size in the network?\n",
      "a) Always dropped\n",
      "b) Forwarded with increased QoS\n",
      "c) Implementation specific\n",
      "d) Always forwarded with no changes\n",
      "\n",
      "Answer: c) Implementation specific\n",
      "\n",
      "Explanation: The behavior of packets larger than the Maximum SDU size in the network depends on the specific implementation of the network devices and protocols. Some devices may drop such packets, while others may fragment them or drop them with an error message. Therefore, the correct answer is (c) Implementation specific\n",
      "Parsed_answer: c\n",
      "----------------1-----------------\n"
     ]
    },
    {
     "name": "stderr",
     "output_type": "stream",
     "text": [
      "Setting `pad_token_id` to `eos_token_id`:2 for open-end generation.\n"
     ]
    },
    {
     "name": "stdout",
     "output_type": "stream",
     "text": [
      "Generated Answer: Choose the correct answer. The Maximum Transfer Unit (MTU) of the IP layer and the Maximum SDU Size:\n",
      "a) Are directly related\n",
      "b) Have no relationship\n",
      "c) Are the same\n",
      "d) Depend on the GGSN\n",
      "\n",
      "Answer: b) Have no relationship\n",
      "\n",
      "Explanation: The Maximum Transfer Unit (MTU) of the IP layer and the Maximum SDU Size (Maximum Service Data Unit) are not directly related. The MTU is a parameter that determines the maximum size of a single IP packet, while the Maximum SDU Size\n",
      "Parsed_answer: b\n",
      "----------------2-----------------\n"
     ]
    },
    {
     "name": "stderr",
     "output_type": "stream",
     "text": [
      "Setting `pad_token_id` to `eos_token_id`:2 for open-end generation.\n"
     ]
    },
    {
     "name": "stdout",
     "output_type": "stream",
     "text": [
      "Generated Answer: Choose the correct answer. Why does RAN need SDU size information?\n",
      "a) For IP fragmentation\n",
      "b) For efficient use of the radio spectrum\n",
      "c) To operate in transparent RLC protocol mode\n",
      "d) For GGSN optimization\n",
      "\n",
      "Answer: b) For efficient use of the radio spectrum\n",
      "\n",
      "Explanation: RAN (Radio Access Network) needs SDU (Service Data Unit) size information to efficiently use the radio spectrum. This information is used to determine the maximum size of the SDU that can be transmitted over the air interface, taking into account the available bandwidth and the overhead\n",
      "Parsed_answer: b\n",
      "----------------3-----------------\n"
     ]
    },
    {
     "name": "stderr",
     "output_type": "stream",
     "text": [
      "Setting `pad_token_id` to `eos_token_id`:2 for open-end generation.\n"
     ]
    },
    {
     "name": "stdout",
     "output_type": "stream",
     "text": [
      "Generated Answer: Choose the correct answer. What does SDU error ratio indicate?\n",
      "a) Fraction of SDUs dropped\n",
      "b) Fraction of SDUs forwarded with decreased QoS\n",
      "c) Fraction of SDUs lost or detected as erroneous\n",
      "d) Efficiency of the RLC protocol\n",
      "\n",
      "Answer: c) Fraction of SDUs lost or detected as erroneous\n",
      "\n",
      "Explanation: The SDU error ratio is a metric that measures the percentage of SDUs that are lost or detected as erroneous. It is calculated by dividing the number of SDUs lost or detected\n",
      "Parsed_answer: c\n",
      "----------------4-----------------\n"
     ]
    },
    {
     "name": "stderr",
     "output_type": "stream",
     "text": [
      "Setting `pad_token_id` to `eos_token_id`:2 for open-end generation.\n"
     ]
    },
    {
     "name": "stdout",
     "output_type": "stream",
     "text": [
      "Generated Answer: Choose the correct answer. Which attribute specifies the relative importance of the UMTS bearer compared to other bearers?\n",
      "a) Maximum bitrate\n",
      "b) Traffic handling priority\n",
      "c) Allocation/Retention Priority\n",
      "d) Guaranteed bitrate\n",
      "\n",
      "Answer: c) Allocation/Retention Priority\n",
      "\n",
      "Explanation: The Allocation/Retention Priority attribute specifies the relative importance of the UMTS bearer compared to other bearers. It determines the order in which bearers are allocated or released when there are competing demands for resources. A\n",
      "Parsed_answer: c\n",
      "----------------5-----------------\n"
     ]
    },
    {
     "name": "stderr",
     "output_type": "stream",
     "text": [
      "Setting `pad_token_id` to `eos_token_id`:2 for open-end generation.\n"
     ]
    },
    {
     "name": "stdout",
     "output_type": "stream",
     "text": [
      "Generated Answer: Choose the correct answer. What happens to packets larger than the Maximum SDU size in the network?\n",
      "a) Always dropped\n",
      "b) Forwarded with increased QoS\n",
      "c) Implementation specific\n",
      "d) Always forwarded with no changes\n",
      "\n",
      "Answer: c) Implementation specific\n",
      "\n",
      "Explanation: The behavior of packets larger than the Maximum SDU size in the network depends on the specific implementation of the network devices and protocols. Some devices may drop such packets, while others may fragment them or drop them with an error message. Therefore, the correct answer is (c) Implementation specific\n",
      "Parsed_answer: c\n",
      "----------------6-----------------\n"
     ]
    },
    {
     "name": "stderr",
     "output_type": "stream",
     "text": [
      "Setting `pad_token_id` to `eos_token_id`:2 for open-end generation.\n"
     ]
    },
    {
     "name": "stdout",
     "output_type": "stream",
     "text": [
      "Generated Answer: Choose the correct answer. The Maximum Transfer Unit (MTU) of the IP layer and the Maximum SDU Size:\n",
      "a) Are directly related\n",
      "b) Have no relationship\n",
      "c) Are the same\n",
      "d) Depend on the GGSN\n",
      "\n",
      "Answer: b) Have no relationship\n",
      "\n",
      "Explanation: The Maximum Transfer Unit (MTU) of the IP layer and the Maximum SDU Size (Maximum Service Data Unit) are not directly related. The MTU is a parameter that determines the maximum size of a single IP packet, while the Maximum SDU Size\n",
      "Parsed_answer: b\n",
      "----------------7-----------------\n"
     ]
    },
    {
     "name": "stderr",
     "output_type": "stream",
     "text": [
      "Setting `pad_token_id` to `eos_token_id`:2 for open-end generation.\n"
     ]
    },
    {
     "name": "stdout",
     "output_type": "stream",
     "text": [
      "Generated Answer: Choose the correct answer. Why does RAN need SDU size information?\n",
      "a) For IP fragmentation\n",
      "b) For efficient use of the radio spectrum\n",
      "c) To operate in transparent RLC protocol mode\n",
      "d) For GGSN optimization\n",
      "\n",
      "Answer: b) For efficient use of the radio spectrum\n",
      "\n",
      "Explanation: RAN (Radio Access Network) needs SDU (Service Data Unit) size information to efficiently use the radio spectrum. This information is used to determine the maximum size of the SDU that can be transmitted over the air interface, taking into account the available bandwidth and the overhead\n",
      "Parsed_answer: b\n",
      "----------------8-----------------\n"
     ]
    },
    {
     "name": "stderr",
     "output_type": "stream",
     "text": [
      "Setting `pad_token_id` to `eos_token_id`:2 for open-end generation.\n"
     ]
    },
    {
     "name": "stdout",
     "output_type": "stream",
     "text": [
      "Generated Answer: Choose the correct answer. What does SDU error ratio indicate?\n",
      "a) Fraction of SDUs dropped\n",
      "b) Fraction of SDUs forwarded with decreased QoS\n",
      "c) Fraction of SDUs lost or detected as erroneous\n",
      "d) Efficiency of the RLC protocol\n",
      "\n",
      "Answer: c) Fraction of SDUs lost or detected as erroneous\n",
      "\n",
      "Explanation: The SDU error ratio is a metric that measures the percentage of SDUs that are lost or detected as erroneous. It is calculated by dividing the number of SDUs lost or detected\n",
      "Parsed_answer: c\n",
      "----------------9-----------------\n"
     ]
    },
    {
     "name": "stderr",
     "output_type": "stream",
     "text": [
      "/home/hb/myenv/lib/python3.8/site-packages/transformers/pipelines/base.py:1083: UserWarning: You seem to be using the pipelines sequentially on GPU. In order to maximize efficiency please use a dataset\n",
      "  warnings.warn(\n",
      "Setting `pad_token_id` to `eos_token_id`:2 for open-end generation.\n"
     ]
    },
    {
     "name": "stdout",
     "output_type": "stream",
     "text": [
      "Generated Answer: Choose the correct answer. Which attribute specifies the relative importance of the UMTS bearer compared to other bearers?\n",
      "a) Maximum bitrate\n",
      "b) Traffic handling priority\n",
      "c) Allocation/Retention Priority\n",
      "d) Guaranteed bitrate\n",
      "\n",
      "Answer: c) Allocation/Retention Priority\n",
      "\n",
      "Explanation: The Allocation/Retention Priority attribute specifies the relative importance of the UMTS bearer compared to other bearers. It determines the order in which bearers are allocated or released when there are competing demands for resources. A\n",
      "Parsed_answer: c\n",
      "----------------10-----------------\n"
     ]
    },
    {
     "name": "stderr",
     "output_type": "stream",
     "text": [
      "Setting `pad_token_id` to `eos_token_id`:2 for open-end generation.\n"
     ]
    },
    {
     "name": "stdout",
     "output_type": "stream",
     "text": [
      "Generated Answer: Choose the correct answer. What is the purpose of including the traffic class itself as an attribute in Radio Access Bearer Service Attributes?\n",
      "a) To standardize the attributes across different network components\n",
      "b) RAN can make assumptions about the traffic source and optimise the transport for that traffic type\n",
      "c) To enhance the security of transmitted data\n",
      "d) To synchronize traffic flows across different bearers\n",
      "\n",
      "Answer: b) RAN can make assumptions about the traffic source and optimise the transport for that traffic type.\n",
      "\n",
      "Explanation: The purpose of including the traffic class itself as an attribute in\n",
      "Parsed_answer: b\n",
      "----------------11-----------------\n"
     ]
    },
    {
     "name": "stderr",
     "output_type": "stream",
     "text": [
      "Setting `pad_token_id` to `eos_token_id`:2 for open-end generation.\n"
     ]
    },
    {
     "name": "stdout",
     "output_type": "stream",
     "text": [
      "Generated Answer: Choose the correct answer. For what purpose might the Guaranteed bitrate be used?\n",
      "a) To ensure consistent connection speed across devices\n",
      "b) To facilitate admission control and for resource allocation within RAN\n",
      "c) To prioritize certain traffic types over others\n",
      "d) To maintain the QoS for high-priority services\n",
      "\n",
      "Answer: d) To maintain the QoS for high-priority services\n",
      "\n",
      "Explanation: The Guaranteed bitrate is used to maintain the Quality of Service (QoS) for high-priority services, such as voice and video\n",
      "Parsed_answer: d\n",
      "----------------12-----------------\n"
     ]
    },
    {
     "name": "stderr",
     "output_type": "stream",
     "text": [
      "Setting `pad_token_id` to `eos_token_id`:2 for open-end generation.\n"
     ]
    },
    {
     "name": "stdout",
     "output_type": "stream",
     "text": [
      "Generated Answer: Choose the correct answer. What is the use of the SDU format information?\n",
      "a) To assist in efficient packet fragmentation and reassembly\n",
      "b) To assist in route optimization for transmitted data\n",
      "c) To define which bits of the payload belong to each subflow\n",
      "d) To assist in load balancing across multiple links\n",
      "\n",
      "Answer: c) To define which bits of the payload belong to each subflow.\n",
      "\n",
      "Explanation: The SDU format information is used to define which bits of the payload belong to each subflow. This information is necessary for efficient packet fragmentation and reassembly, as\n",
      "Parsed_answer: c\n",
      "----------------13-----------------\n"
     ]
    },
    {
     "name": "stderr",
     "output_type": "stream",
     "text": [
      "Setting `pad_token_id` to `eos_token_id`:2 for open-end generation.\n"
     ]
    },
    {
     "name": "stdout",
     "output_type": "stream",
     "text": [
      "Generated Answer: Choose the correct answer. The Residual bit error ratio is used to?\n",
      "a) Configure radio interface protocols, algorithms, and error detection coding\n",
      "b) Enhance the overall QoS for end users\n",
      "c) Improve the handover process between different network nodes\n",
      "d) Adjust the power levels in the transmitting device\n",
      "\n",
      "Answer: a) Configure radio interface protocols, algorithms, and error detection coding\n",
      "\n",
      "Explanation: The Residual bit error ratio (RBER) is a metric used to evaluate the performance of wireless communication systems. It is defined as the\n",
      "Parsed_answer: a\n",
      "----------------14-----------------\n"
     ]
    },
    {
     "name": "stderr",
     "output_type": "stream",
     "text": [
      "Setting `pad_token_id` to `eos_token_id`:2 for open-end generation.\n"
     ]
    },
    {
     "name": "stdout",
     "output_type": "stream",
     "text": [
      "Generated Answer: Choose the correct answer. What shall the PDN GW modify if the subscribed ARP parameter has been changed?\n",
      "a) All dedicated S2a bearers with the new ARP value\n",
      "b) All dedicated S2a bearers with the previously subscribed ARP value\n",
      "c) Only the default bearer\n",
      "d) None of the above\n",
      "\n",
      "Answer: b) All dedicated S2a bearers with the previously subscribed ARP value\n",
      "\n",
      "Explanation: When the subscribed ARP parameter has been changed, the PDN GW should modify all dedicated S2a bearers with the\n",
      "Parsed_answer: b\n",
      "----------------15-----------------\n"
     ]
    },
    {
     "name": "stderr",
     "output_type": "stream",
     "text": [
      "Setting `pad_token_id` to `eos_token_id`:2 for open-end generation.\n"
     ]
    },
    {
     "name": "stdout",
     "output_type": "stream",
     "text": [
      "Generated Answer: Choose the correct answer. What message does the trusted non-3GPP IP access send to acknowledge the bearer modification to the PDN GW?\n",
      "a) Update Bearer Request\n",
      "b) Update Bearer Response\n",
      "c) Create Session Request\n",
      "d) Delete Bearer Request\n",
      "\n",
      "Answer: b) Update Bearer Response\n",
      "\n",
      "Explanation: When the trusted non-3GPP IP access sends a bearer modification to the PDN GW, the PDN GW responds with an Update Bearer Response message to acknowledge the modification.\n",
      "\n",
      "Reference: 3GPP\n",
      "Parsed_answer: b\n",
      "----------------16-----------------\n"
     ]
    },
    {
     "name": "stderr",
     "output_type": "stream",
     "text": [
      "Setting `pad_token_id` to `eos_token_id`:2 for open-end generation.\n"
     ]
    },
    {
     "name": "stdout",
     "output_type": "stream",
     "text": [
      "Generated Answer: Choose the correct answer. What happens if the default bearer belonging to a PDN connection is deactivated?\n",
      "a) Only the default bearer is deactivated\n",
      "b) All bearers belonging to the PDN connection are deactivated\n",
      "c) The PDN GW retains the PDN address\n",
      "d) The PDN GW releases the PDN address\n",
      "\n",
      "Answer: b) All bearers belonging to the PDN connection are deactivated\n",
      "\n",
      "Explanation: When the default bearer belonging to a PDN connection is deactivated, all bearers belonging to the same P\n",
      "Parsed_answer: b\n",
      "----------------17-----------------\n"
     ]
    },
    {
     "name": "stderr",
     "output_type": "stream",
     "text": [
      "Setting `pad_token_id` to `eos_token_id`:2 for open-end generation.\n"
     ]
    },
    {
     "name": "stdout",
     "output_type": "stream",
     "text": [
      "Generated Answer: Choose the correct answer. In the Local Breakout case, which entities are responsible for forwarding messages?\n",
      "a) PDN GW and hPCRF\n",
      "b) vPCRF and hPCRF\n",
      "c) PDN GW and vPCRF\n",
      "d) None of the above\n",
      "\n",
      "Answer: b) vPCRF and hPCRF\n",
      "\n",
      "Explanation: In the Local Breakout case, the vPCRF and hPCRF entities are responsible for forwarding messages. The vPCRF is responsible for forwarding the message to the PDN G\n",
      "Parsed_answer: b\n",
      "----------------18-----------------\n"
     ]
    },
    {
     "name": "stderr",
     "output_type": "stream",
     "text": [
      "Setting `pad_token_id` to `eos_token_id`:2 for open-end generation.\n"
     ]
    },
    {
     "name": "stdout",
     "output_type": "stream",
     "text": [
      "Generated Answer: Choose the correct answer. What does the RAT type indicate?\n",
      "a) The 3GPP IP access technology type\n",
      "b) The non-3GPP IP access technology type\n",
      "c) Both 3GPP and non-3GPP IP access technology types\n",
      "d) Neither 3GPP nor non-3GPP IP access technology types\n",
      "\n",
      "Answer: c) Both 3GPP and non-3GPP IP access technology types\n",
      "\n",
      "Explanation: The RAT type indicates the type of radio access technology used by the device to access the network. The RAT type can\n",
      "Parsed_answer: c\n",
      "----------------19-----------------\n"
     ]
    },
    {
     "name": "stderr",
     "output_type": "stream",
     "text": [
      "Setting `pad_token_id` to `eos_token_id`:2 for open-end generation.\n"
     ]
    },
    {
     "name": "stdout",
     "output_type": "stream",
     "text": [
      "Generated Answer: Choose the correct answer. When the WLAN is considered trusted by the operator, how is it interfaced?\n",
      "a) Via STa to the 3GPP AAA to EPC through S2a\n",
      "b) Only via S2a\n",
      "c) Only via 3GPP AAA\n",
      "d) None of the above\n",
      "\n",
      "Answer: b) Only via S2a\n",
      "\n",
      "Explanation: When the WLAN is considered trusted by the operator, it is interfaced only via S2a. This is because the WLAN is not subject to the same level\n",
      "Parsed_answer: b\n",
      "----------------20-----------------\n"
     ]
    },
    {
     "name": "stderr",
     "output_type": "stream",
     "text": [
      "Setting `pad_token_id` to `eos_token_id`:2 for open-end generation.\n"
     ]
    },
    {
     "name": "stdout",
     "output_type": "stream",
     "text": [
      "Generated Answer: Choose the correct answer. What might STa need to be enhanced to support?\n",
      "a) An indication on whether the Trusted WLAN AN supports S2a\n",
      "b) The SSID selected by the UE\n",
      "c) The APN the user is to be associated with for EPC access\n",
      "d) All of the above\n",
      "\n",
      "Answer: d) All of the above\n",
      "\n",
      "Explanation: STa needs to be enhanced to support all of the above information to ensure seamless handover between Wi-Fi and LTE networks. The information includes:\n",
      "\n",
      "* An indication on\n",
      "Parsed_answer: d\n",
      "----------------21-----------------\n"
     ]
    },
    {
     "name": "stderr",
     "output_type": "stream",
     "text": [
      "Setting `pad_token_id` to `eos_token_id`:2 for open-end generation.\n"
     ]
    },
    {
     "name": "stdout",
     "output_type": "stream",
     "text": [
      "Generated Answer: Choose the correct answer. Which entity is associated with the SWw reference point?\n",
      "a) WLAN UE's connection to EPC for data transfer\n",
      "b) Link between 3GPP AAA Server and WLAN AN for EAP messages\n",
      "c) Communication interface between UE and HSS\n",
      "d) Pathway from TNAN to AAA server over STa for authentication\n",
      "\n",
      "Answer: b) Link between 3GPP AAA Server and WLAN AN for EAP messages.\n",
      "\n",
      "Explanation: The SWw reference point is used for the authentication of WLAN\n",
      "Parsed_answer: b\n",
      "----------------22-----------------\n"
     ]
    },
    {
     "name": "stderr",
     "output_type": "stream",
     "text": [
      "Setting `pad_token_id` to `eos_token_id`:2 for open-end generation.\n"
     ]
    },
    {
     "name": "stdout",
     "output_type": "stream",
     "text": [
      "Generated Answer: Choose the correct answer. What capability might the TNAN indicate to the AAA server via STa?\n",
      "a) Ability to support IPv6 addressing exclusively\n",
      "b) Capacity to handle both S2a and non-seamless offload\n",
      "c) Bandwidth allocation per UE for data traffic\n",
      "d) Selection logic for PDN Gateway for routing data traffic\n",
      "e) Support for both IPv4 and IPv6 addressing\n",
      "\n",
      "Answer: e) Support for both IPv4 and IPv6 addressing\n",
      "\n",
      "Explanation: The TNAN (Tracking\n",
      "Parsed_answer: e\n",
      "----------------23-----------------\n"
     ]
    },
    {
     "name": "stderr",
     "output_type": "stream",
     "text": [
      "Setting `pad_token_id` to `eos_token_id`:2 for open-end generation.\n"
     ]
    },
    {
     "name": "stdout",
     "output_type": "stream",
     "text": [
      "Generated Answer: Choose the correct answer. What consequence follows when a UE dispatches a DHCPv4 message for IPv4 address release?\n",
      "a) UE's migration from IPv4 to IPv6 addressing\n",
      "b) Initiation of Bearer Modification by the PDN GW\n",
      "c) Severance of PDN connection when the connection type is IPv4\n",
      "d) Sustainment of the existing PDN connection without interruption\n",
      "\n",
      "Answer: c) Severance of PDN connection when the connection type is IPv4\n",
      "\n",
      "Explanation: When a UE dispatches a D\n",
      "Parsed_answer: c\n",
      "----------------24-----------------\n"
     ]
    },
    {
     "name": "stderr",
     "output_type": "stream",
     "text": [
      "Setting `pad_token_id` to `eos_token_id`:2 for open-end generation.\n"
     ]
    },
    {
     "name": "stdout",
     "output_type": "stream",
     "text": [
      "Generated Answer: Choose the correct answer. What should the source MME/SSGSN do if the target MME/SSGSN doesn't support the SGW restoration procedure?\n",
      "a) Transfer the PDN connection to a different SGW\n",
      "b) Continue with the standard SGW relocation procedure\n",
      "c) Reject the Handover Required/Relocation Required message and release the S1/Iu/radio resources\n",
      "d) Wait for the target MME/SSGSN to update its SGW restoration support\n",
      "\n",
      "Answer: b) Continue with the standard SG\n",
      "Parsed_answer: b\n",
      "----------------25-----------------\n"
     ]
    },
    {
     "name": "stderr",
     "output_type": "stream",
     "text": [
      "Setting `pad_token_id` to `eos_token_id`:2 for open-end generation.\n"
     ]
    },
    {
     "name": "stdout",
     "output_type": "stream",
     "text": [
      "Generated Answer: Choose the correct answer. What happens when the T-Release-GBR timer expires in the PGW?\n",
      "a) The PGW initiates a new SGW restoration process\n",
      "b) The PGW releases GBR bearers that haven't been restored yet and informs the PCRF\n",
      "c) The PGW maintains the PDN connections without any change\n",
      "d) The PGW attempts to restore the PDN connection with the MME/SSGSN\n",
      "\n",
      "Answer: b) The PGW releases GBR bearers that haven't been restored yet\n",
      "Parsed_answer: b\n",
      "----------------26-----------------\n"
     ]
    },
    {
     "name": "stderr",
     "output_type": "stream",
     "text": [
      "Setting `pad_token_id` to `eos_token_id`:2 for open-end generation.\n"
     ]
    },
    {
     "name": "stdout",
     "output_type": "stream",
     "text": [
      "Generated Answer: Choose the correct answer. For which reason might the PGW reject an IP-CAN session modification procedure after an SGW failure?\n",
      "a) If the request includes changing the PDN connection route\n",
      "b) If the request includes the installation/modification of PCC rules\n",
      "c) If the PGW has already initiated a new SGW restoration process\n",
      "d) If the MME/SSGSN has already restored the PDN connection\n",
      "\n",
      "Answer: b) If the request includes the installation/modification of PCC rules.\n",
      "\n",
      "Explanation: The PGW might\n",
      "Parsed_answer: b\n",
      "----------------27-----------------\n"
     ]
    },
    {
     "name": "stderr",
     "output_type": "stream",
     "text": [
      "Setting `pad_token_id` to `eos_token_id`:2 for open-end generation.\n"
     ]
    },
    {
     "name": "stdout",
     "output_type": "stream",
     "text": [
      "Generated Answer: Choose the correct answer. What does OMR stand for in the context of the provided text?\n",
      "Optimized Media Routeing\n",
      "Operational Management Review\n",
      "Online Music Recorder\n",
      "Optical Message Reading\n",
      "OMR stands for Optimized Media Routeing.\n",
      "----------------28-----------------\n"
     ]
    },
    {
     "name": "stderr",
     "output_type": "stream",
     "text": [
      "Setting `pad_token_id` to `eos_token_id`:2 for open-end generation.\n"
     ]
    },
    {
     "name": "stdout",
     "output_type": "stream",
     "text": [
      "Generated Answer: Choose the correct answer. What protocol is mentioned alongside SIP for OMR based signaling flows?\n",
      "HTTP\n",
      "SMTP\n",
      "SDP\n",
      "UDP\n",
      "\n",
      "Answer: B. SDP\n",
      "\n",
      "Explanation: SIP (Session Initiation Protocol) is a signaling protocol used for initiating, modifying, and terminating sessions in an IP network. OMR (Online Media Resource) based signaling flows use SIP along with SDP (Session Description Protocol) for describing and negotiating the media sessions. HTTP and SMTP are not related to OMR based signaling flows. UDP\n",
      "Parsed_answer: Couldn't parse the answer\n",
      "----------------29-----------------\n",
      "Generated Answer: Choose the correct answer. What is the role of IBCF in the provided context?\n",
      "Allocating MR context\n",
      "Decoding audio files\n",
      "Compressing video streams\n",
      "Routing email traffic\n",
      "IBCF (Intelligent Buffer Control Function) is responsible for allocating MR (Multi-Rate) contexts in the provided context. Therefore, the correct answer is:\n",
      "Allocating MR context.\n",
      "----------------30-----------------\n",
      "['c', 'b', 'b', 'c', 'c', 'c', 'b', 'b', 'c', 'c', 'b', 'd', 'c', 'a', 'b', 'b', 'b', 'b', 'c', 'b', 'd', 'b', 'e', 'c', 'b', 'b', 'b', '', \"Couldn't parse the answer\", '']\n",
      "Correct\n",
      "Correct\n",
      "GPT answer: b. Correct answer: c\n",
      "Incorrect\n",
      "Correct\n",
      "GPT answer: c. Correct answer: b\n",
      "Incorrect\n",
      "Correct\n",
      "Correct\n",
      "GPT answer: b. Correct answer: c\n",
      "Incorrect\n",
      "Correct\n",
      "GPT answer: c. Correct answer: b\n",
      "Incorrect\n",
      "Correct\n",
      "GPT answer: d. Correct answer: b\n",
      "Incorrect\n",
      "Correct\n",
      "Correct\n",
      "Correct\n",
      "Correct\n",
      "Correct\n",
      "Correct\n",
      "GPT answer: c. Correct answer: b\n",
      "Incorrect\n",
      "GPT answer: b. Correct answer: a\n",
      "Incorrect\n",
      "Correct\n",
      "Correct\n",
      "GPT answer: e. Correct answer: b\n",
      "Incorrect\n",
      "Correct\n",
      "GPT answer: b. Correct answer: c\n",
      "Incorrect\n",
      "Correct\n",
      "Correct\n",
      "GPT answer: . Correct answer: Optimized Media Routeing\n",
      "Incorrect\n",
      "GPT answer: Couldn't parse the answer. Correct answer: SDP\n",
      "Incorrect\n",
      "GPT answer: . Correct answer: Allocating MR context\n",
      "Incorrect\n",
      "Accuracy: 60.00%\n",
      "Correct answers: 18\n",
      "Incorrect answers: 12\n"
     ]
    }
   ],
   "source": [
    "import json\n",
    "import re\n",
    "\n",
    "input_file_path = \"/home/hb/LLM-research/evaluation/5G/5G_analysis_multi_choice_v2.json\" \n",
    "\n",
    "with open(input_file_path, \"r\") as input_file:\n",
    "    questions_data = json.load(input_file)\n",
    "\n",
    "pipe = pipeline(task=\"text-generation\", model=model, tokenizer=tokenizer, max_length=128)\n",
    "\n",
    "generated_answers = []\n",
    "ground_truth = [q_dict[\"answer\"] for q_dict in questions_data]\n",
    "n_question = 0\n",
    "\n",
    "for q_dict in questions_data:\n",
    "    question = q_dict[\"question\"]\n",
    "    options = q_dict[\"options\"]\n",
    "    \n",
    "    # Construct prompt with question and options\n",
    "    prompt = f\"Choose the correct answer. {question}\\n\" + \"\\n\".join(options)\n",
    "    # print(prompt)\n",
    "    \n",
    "    # Generate answer using the language model\n",
    "    generated_answer = pipe(prompt)[0]['generated_text']\n",
    "    print(f\"Generated Answer: {generated_answer}\")\n",
    "    \n",
    "    # Parse the generated answer\n",
    "    answer_lines = generated_answer.splitlines()\n",
    "    parsed_answer = \"\"\n",
    "    for line in answer_lines:\n",
    "            if line.startswith(\"Answer: \") or line.startswith(\"Correct answer: \"):\n",
    "                match = re.search(r'\\b(\\w)[\\)-]', line)\n",
    "                if match is not None:\n",
    "                    parsed_answer = match.group(1)\n",
    "                    print(f\"Parsed_answer: {parsed_answer}\")\n",
    "                    break\n",
    "                else:\n",
    "                    parsed_answer = \"Couldn't parse the answer\"\n",
    "                    print(f\"Parsed_answer: {parsed_answer}\")\n",
    "    generated_answers.append(parsed_answer)\n",
    "    n_question += 1\n",
    "    print(f\"----------------{n_question}-----------------\")\n",
    "print(generated_answers)\n",
    "\n",
    "\n",
    "total_questions = len(questions_data)\n",
    "correct_answers = 0\n",
    "\n",
    "for ground_answer, generated_answer in zip(ground_truth, generated_answers):\n",
    "    if generated_answer.lower() == ground_answer.lower():\n",
    "        print(\"Correct\")\n",
    "        correct_answers += 1\n",
    "    else:\n",
    "        print(f\"GPT answer: {generated_answer}. Correct answer: {ground_answer}\")\n",
    "        print(\"Incorrect\")\n",
    "\n",
    "accuracy = (correct_answers / total_questions) * 100\n",
    "\n",
    "print(f\"Accuracy: {accuracy:.2f}%\")\n",
    "print(f\"Correct answers: {correct_answers}\")\n",
    "print(f\"Incorrect answers: {total_questions - correct_answers}\")"
   ]
  },
  {
   "cell_type": "code",
   "execution_count": null,
   "metadata": {},
   "outputs": [],
   "source": [
    "import json\n",
    "input_file_path = \"/home/hb/LLM-research/evaluation/5G_SPEC/5G_SPEC_QA.json\" \n",
    "\n",
    "with open(input_file_path, \"r\") as input_file:\n",
    "    questions_data = json.load(input_file)\n",
    "\n",
    "pipe = pipeline(task=\"text-generation\", model=model, tokenizer=tokenizer, max_length=512)\n",
    "\n",
    "generated_answers_qa = []\n",
    "\n",
    "n_question = 0\n",
    "for q_dict in questions_data:\n",
    "    n_question += 1\n",
    "    question = q_dict[\"question\"]\n",
    "    # Generate answer using the language model\n",
    "    prompt = f\"[INST]{question}[/INST]\"\n",
    "    generated_answer = pipe(prompt)[0]['generated_text']\n",
    "    print(f\"Output: {generated_answer}\")\n",
    "    generated_answers_qa.append(generated_answer)\n",
    "    print(f\"---------------------{n_question}-----------------------------\")"
   ]
  },
  {
   "cell_type": "markdown",
   "metadata": {},
   "source": [
    "# 5G analysis knowledge"
   ]
  },
  {
   "cell_type": "markdown",
   "metadata": {},
   "source": [
    "## Multiple Choice\n",
    "`5G configuration analysis v1`:\n",
    "Accuracy: 90%\n",
    "Correct answers: 21 + 7 = 28\n",
    "Incorrect answers: 2\n",
    "\n",
    "`5G configuration analysis v2`:\n",
    "Accuracy: 70.00%\n",
    "Correct answers: 21\n",
    "Incorrect answers: 12"
   ]
  },
  {
   "cell_type": "markdown",
   "metadata": {},
   "source": []
  }
 ],
 "metadata": {
  "kernelspec": {
   "display_name": "myenv",
   "language": "python",
   "name": "python3"
  },
  "language_info": {
   "codemirror_mode": {
    "name": "ipython",
    "version": 3
   },
   "file_extension": ".py",
   "mimetype": "text/x-python",
   "name": "python",
   "nbconvert_exporter": "python",
   "pygments_lexer": "ipython3",
   "version": "3.8.10"
  },
  "orig_nbformat": 4
 },
 "nbformat": 4,
 "nbformat_minor": 2
}
