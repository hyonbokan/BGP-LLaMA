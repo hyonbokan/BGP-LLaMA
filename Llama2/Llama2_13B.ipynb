{
 "cells": [
  {
   "cell_type": "code",
   "execution_count": 2,
   "metadata": {},
   "outputs": [
    {
     "data": {
      "application/vnd.jupyter.widget-view+json": {
       "model_id": "6515fe2139db44db891ad9eae041eee9",
       "version_major": 2,
       "version_minor": 0
      },
      "text/plain": [
       "VBox(children=(HTML(value='<center> <img\\nsrc=https://huggingface.co/front/assets/huggingface_logo-noborder.sv…"
      ]
     },
     "metadata": {},
     "output_type": "display_data"
    }
   ],
   "source": [
    "from huggingface_hub import notebook_login\n",
    "notebook_login()"
   ]
  },
  {
   "cell_type": "code",
   "execution_count": 1,
   "metadata": {},
   "outputs": [
    {
     "data": {
      "application/vnd.jupyter.widget-view+json": {
       "model_id": "a351936991cf48d5bfc0635c1297d396",
       "version_major": 2,
       "version_minor": 0
      },
      "text/plain": [
       "Loading checkpoint shards:   0%|          | 0/3 [00:00<?, ?it/s]"
      ]
     },
     "metadata": {},
     "output_type": "display_data"
    },
    {
     "name": "stdout",
     "output_type": "stream",
     "text": [
      "Model loaded on cuda:0\n"
     ]
    }
   ],
   "source": [
    "from torch import cuda, bfloat16\n",
    "import transformers\n",
    "from transformers import (\n",
    "    AutoModelForCausalLM,\n",
    "    AutoTokenizer,\n",
    "    BitsAndBytesConfig,\n",
    "    HfArgumentParser,\n",
    "    TrainingArguments,\n",
    "    pipeline,\n",
    "    logging,\n",
    ")\n",
    "import pandas as pd\n",
    "import os\n",
    "\n",
    "model_id = 'meta-llama/Llama-2-13b-chat-hf'\n",
    "\n",
    "device = f'cuda:{cuda.current_device()}' if cuda.is_available() else 'cpu'\n",
    "\n",
    "\n",
    "hf_token = os.environ.get('hf_token')\n",
    "\n",
    "# Need auth token for these\n",
    "hf_auth = hf_token\n",
    "model_config = transformers.AutoConfig.from_pretrained(\n",
    "    model_id,\n",
    "    use_auth_token=hf_auth\n",
    ")\n",
    "\n",
    "model = transformers.AutoModelForCausalLM.from_pretrained(\n",
    "    model_id,\n",
    "    trust_remote_code=True,\n",
    "    config=model_config,\n",
    "    # quantization_config=bnb_config,\n",
    "    device_map='auto',\n",
    "    use_auth_token=hf_auth\n",
    ")\n",
    "model.eval()\n",
    "print(f\"Model loaded on {device}\")"
   ]
  },
  {
   "cell_type": "code",
   "execution_count": 2,
   "metadata": {},
   "outputs": [],
   "source": [
    "tokenizer = transformers.AutoTokenizer.from_pretrained(\n",
    "    model_id,\n",
    "    use_auth_token=hf_auth\n",
    ")\n",
    "\n",
    "tokenizer.pad_token = tokenizer.eos_token\n",
    "tokenizer.pad_token_id = tokenizer.eos_token_id\n",
    "tokenizer.padding_side = \"right\""
   ]
  },
  {
   "cell_type": "code",
   "execution_count": 6,
   "metadata": {},
   "outputs": [
    {
     "name": "stdout",
     "output_type": "stream",
     "text": [
      "<s>[INST] Given a CSV dataset named 'ue-lte-network-traffic-stats.csv' with columns UE1: web-rtc\tUE1: sipp\tUE1: web-server\tUE2: web-rtc\tUE2: sipp\tUE2: web-server\tUE3: web-rtc\tUE3: sipp\tUE3: web-server\tUE1-Jitter\tUE2-Jitter\tUE3-Jitter\tUE1-CQI\tUE2-CQI\tUE3-CQI, produce Python code to perform Traffic analysis by calculating the total traffic for each UE and generate plot of the total traffic [/INST]  Sure, here's an example of how you could perform traffic analysis on the given CSV dataset and generate plots of the total traffic for each UE:\n",
      "```python\n",
      "import pandas as pd\n",
      "import numpy as np\n",
      "import matplotlib.pyplot as plt\n",
      "\n",
      "# Load the CSV dataset\n",
      "df = pd.read_csv('ue-lte-network-traffic-stats.csv')\n",
      "\n",
      "# Calculate the total traffic for each UE\n",
      "df['Total Traffic'] = df['UE1: web-rtc'] + df['UE1: sipp'] + df['UE1: web-server'] + \\\n",
      "                      df['UE2: web-rtc'] + df['UE2: sipp'] + df['UE2: web-server'] + \\\n",
      "                      df['UE3: web-rtc'] + df['UE3: sipp'] + df['UE3: web-server']\n",
      "\n",
      "# Plot the total traffic for each UE\n",
      "fig, ax = plt.subplots(3, 1, figsize=(10, 6))\n",
      "ax[0].bar(df['UE1']['Total Traffic'], label='UE1')\n",
      "ax[1].bar(df['UE2']['Total Traffic'], label='UE2')\n",
      "ax[2].bar(df['UE3']['Total Traffic'], label='UE3')\n",
      "ax[0].set_ylabel('Total Traffic (MB)')\n",
      "ax[1].set_ylabel('Total Traffic (MB)')\n",
      "ax[2].set_ylabel('Total Traffic (MB)')\n",
      "ax[0].set_title('UE1 Traffic')\n",
      "ax[1].set_title('UE2 Traffic')\n",
      "ax[2].set_title('UE3 Traffic')\n",
      "plt.show()\n",
      "```\n",
      "This code first loads the CSV dataset into a Pandas DataFrame object called `df`. It then calculates the total traffic for each UE by summing the values in the 'UE1: web-rtc', 'UE1: sipp', 'UE1: web-server', 'UE2: web-rtc', 'UE2: sipp', and 'UE2: web-server' columns.\n",
      "\n",
      "Next, the code creates a subplot for each UE using Matplotlib's `subplots` function, and plots the total traffic for each UE using the `bar` function. The `set_ylabel` and `set_title` functions are used to set the y-label and title for each subplot, respectively.\n",
      "\n",
      "Finally, the code uses the `show` function to display the plots.\n",
      "\n",
      "Note that you can customize the plot as per your requirement by using various parameters of the `bar` function, such as the color, width, and orientation of the bars. You can also add more subplots to the figure to plot other metrics or combine multiple metrics in a single subplot.\n"
     ]
    }
   ],
   "source": [
    "logging.set_verbosity(logging.CRITICAL)\n",
    "\n",
    "# Run text generation pipeline with our next model\n",
    "prompt = \"Given a CSV dataset named 'ue-lte-network-traffic-stats.csv' with columns UE1: web-rtc\tUE1: sipp\tUE1: web-server\tUE2: web-rtc\tUE2: sipp\tUE2: web-server\tUE3: web-rtc\tUE3: sipp\tUE3: web-server\tUE1-Jitter\tUE2-Jitter\tUE3-Jitter\tUE1-CQI\tUE2-CQI\tUE3-CQI, produce Python code to perform Traffic analysis by calculating the total traffic for each UE and generate plot of the total traffic\"\n",
    "pipe = pipeline(task=\"text-generation\", model=model, tokenizer=tokenizer, max_length=1012)\n",
    "result = pipe(f\"<s>[INST] {prompt} [/INST]\")\n",
    "print(result[0]['generated_text'])"
   ]
  },
  {
   "cell_type": "code",
   "execution_count": 8,
   "metadata": {},
   "outputs": [
    {
     "name": "stdout",
     "output_type": "stream",
     "text": [
      "<s>[INST] Given a CSV dataset named 'ue-lte-network-traffic-stats.csv' with columns UE1: web-rtc\tUE1: sipp\tUE1: web-server\tUE2: web-rtc\tUE2: sipp\tUE2: web-server\tUE3: web-rtc\tUE3: sipp\tUE3: web-server\tUE1-Jitter\tUE2-Jitter\tUE3-Jitter\tUE1-CQI\tUE2-CQI\tUE3-CQI, produce Python code to perform Traffic analysis by calculating the total traffic for each UE and plot the traffic [/INST]  Sure! Here's the Python code to perform traffic analysis on the given CSV dataset and plot the traffic for each UE:\n",
      "```python\n",
      "import pandas as pd\n",
      "import numpy as np\n",
      "import matplotlib.pyplot as plt\n",
      "\n",
      "# Load the CSV dataset\n",
      "df = pd.read_csv('ue-lte-network-traffic-stats.csv')\n",
      "\n",
      "# Calculate the total traffic for each UE\n",
      "UE1_traffic = df['UE1: web-rtc'] + df['UE1: sipp'] + df['UE1: web-server']\n",
      "UE2_traffic = df['UE2: web-rtc'] + df['UE2: sipp'] + df['UE2: web-server']\n",
      "UE3_traffic = df['UE3: web-rtc'] + df['UE3: sipp'] + df['UE3: web-server']\n",
      "\n",
      "# Calculate the jitter for each UE\n",
      "UE1_jitter = df['UE1-Jitter']\n",
      "UE2_jitter = df['UE2-Jitter']\n",
      "UE3_jitter = df['UE3-Jitter']\n",
      "\n",
      "# Calculate the CQI for each UE\n",
      "UE1_cqi = df['UE1-CQI']\n",
      "UE2_cqi = df['UE2-CQI']\n",
      "UE3_cqi = df['UE3-CQI']\n",
      "\n",
      "# Plot the traffic for each UE\n",
      "fig, ax = plt.subplots(3, 1, figsize=(10, 6))\n",
      "ax[0].plot(UE1_traffic, label='UE1')\n",
      "ax[1].plot(UE2_traffic, label='UE2')\n",
      "ax[2].plot(UE3_traffic, label='UE3')\n",
      "\n",
      "# Add axis labels and titles\n",
      "ax[0].set_xlabel('Time (s)')\n",
      "ax[0].set_ylabel('Traffic (bytes)')\n",
      "ax[1].set_xlabel('Time (s)')\n",
      "ax[1].set_ylabel('Traffic (bytes)')\n",
      "ax[2].set_xlabel('Time (s)')\n",
      "ax[2].set_ylabel('Traffic (bytes)')\n",
      "ax[0].set_title('UE1 Traffic')\n",
      "ax[1].set_title('UE2 Traffic')\n",
      "ax[2].set_title('UE3 Traffic')\n",
      "\n",
      "# Add legends\n",
      "ax[0].legend()\n",
      "ax[1].legend()\n",
      "ax[2].legend()\n",
      "\n",
      "# Add jitter and CQI plots\n",
      "ax[0].plot(UE1_jitter, label='Jitter')\n",
      "ax[1].plot(UE2_jitter, label='Jitter')\n",
      "ax[2].plot(UE3_jitter, label='Jitter')\n",
      "ax[0].plot(UE1_cqi, label='CQI')\n",
      "ax[1].plot(UE2_cqi, label='CQI')\n",
      "ax[2].plot(UE3_cqi, label='CQI')\n",
      "\n",
      "# Add axis labels and titles for jitter and CQI plots\n",
      "ax[0].set_ylabel('Jitter (ms)')\n",
      "ax[1].set_ylabel('Jitter (ms)')\n",
      "ax[2].set_ylabel('Jitter (ms)')\n",
      "ax[0].set_title('UE1 Jitter')\n",
      "ax[1].set_title('UE2 Jitter')\n",
      "ax[2].set_title('UE3 Jitter')\n",
      "ax[0].set_ylabel('CQI')\n",
      "ax[1].set_ylabel('CQI')\n",
      "ax[2].set_ylabel('CQI')\n",
      "ax[0].set_title('UE1 CQI')\n",
      "ax[1].set\n"
     ]
    }
   ],
   "source": [
    "logging.set_verbosity(logging.CRITICAL)\n",
    "\n",
    "# Run text generation pipeline with our next model\n",
    "prompt = \"Given a CSV dataset named 'ue-lte-network-traffic-stats.csv' with columns UE1: web-rtc\tUE1: sipp\tUE1: web-server\tUE2: web-rtc\tUE2: sipp\tUE2: web-server\tUE3: web-rtc\tUE3: sipp\tUE3: web-server\tUE1-Jitter\tUE2-Jitter\tUE3-Jitter\tUE1-CQI\tUE2-CQI\tUE3-CQI, produce Python code to perform Traffic analysis by calculating the total traffic for each UE and plot the traffic\"\n",
    "pipe = pipeline(task=\"text-generation\", model=model, tokenizer=tokenizer, max_length=1012)\n",
    "result = pipe(f\"<s>[INST] {prompt} [/INST]\")\n",
    "print(result[0]['generated_text'])"
   ]
  },
  {
   "cell_type": "code",
   "execution_count": null,
   "metadata": {},
   "outputs": [],
   "source": [
    "import json\n",
    "import re\n",
    "\n",
    "input_file_path = \"/home/hb/LLM-research/evaluation/5G_SPEC/5G_multi_choice.json\" \n",
    "\n",
    "with open(input_file_path, \"r\") as input_file:\n",
    "    questions_data = json.load(input_file)\n",
    "\n",
    "pipe = pipeline(task=\"text-generation\", model=model, tokenizer=tokenizer, max_length=128)\n",
    "\n",
    "generated_answers = []\n",
    "ground_truth = [q_dict[\"answer\"] for q_dict in questions_data]\n",
    "n_question = 0\n",
    "\n",
    "for q_dict in questions_data:\n",
    "    question = q_dict[\"question\"]\n",
    "    options = q_dict[\"choices\"]\n",
    "    \n",
    "    # Construct prompt with question and options\n",
    "    prompt = f\"Choose the correct answer: {question}\\n\" + \"\\n\".join(options)\n",
    "    # print(prompt)\n",
    "    \n",
    "    # Generate answer using the language model\n",
    "    generated_answer = pipe(prompt)[0]['generated_text']\n",
    "    print(f\"Generated Answer: {generated_answer}\")\n",
    "    \n",
    "    match = re.search(r'(Answer:|Correct answer:)\\s*((?:[A-D]\\)\\s*)?[\\w\\s()\\-/]+)', generated_answer)\n",
    "    if match:\n",
    "        parsed_answer = match.group(2).strip()\n",
    "        \n",
    "        # Exclude the \"Explanation\" part from the parsed answer if present\n",
    "        explanation_start = parsed_answer.find(\"\\nExplanation\")\n",
    "        if explanation_start != -1:\n",
    "            parsed_answer = parsed_answer[:explanation_start].strip()\n",
    "        \n",
    "        print(f\"Parsed_answer: {parsed_answer}\")\n",
    "        generated_answers.append(parsed_answer)\n",
    "    else:\n",
    "        print(\"No answer detected.\")\n",
    "        generated_answers.append(\"N/A\")\n",
    "    \n",
    "    n_question += 1\n",
    "    print(f\"----------------{n_question}-----------------\")\n",
    "print(generated_answers)\n",
    "\n",
    "\n",
    "total_questions = len(questions_data)\n",
    "correct_answers = 0\n",
    "\n",
    "for ground_answer, generated_answer in zip(ground_truth, generated_answers):\n",
    "    if generated_answer.lower() == ground_answer.lower():\n",
    "        print(\"Correct\")\n",
    "        correct_answers += 1\n",
    "    else:\n",
    "        print(f\"GPT answer: {generated_answer}. Correct answer: {ground_answer}\")\n",
    "        print(\"Incorrect\")\n",
    "\n",
    "accuracy = (correct_answers / total_questions) * 100\n",
    "\n",
    "print(f\"Accuracy: {accuracy:.2f}%\")\n",
    "print(f\"Correct answers: {correct_answers}\")\n",
    "print(f\"Incorrect answers: {total_questions - correct_answers}\")"
   ]
  },
  {
   "cell_type": "code",
   "execution_count": 4,
   "metadata": {},
   "outputs": [
    {
     "name": "stdout",
     "output_type": "stream",
     "text": [
      "<s>[INST] Generate a Python script that analyzes packet captures from N3 and N6 network interfaces. Use Wireshark to process these captures into PDML format. Parse the PDMLs to determine packet delay based on timestamps and classify packets by source and destination IPs. [/INST]  Sure! Here is a Python script that analyzes packet captures from N3 and N6 network interfaces, uses Wireshark to process the captures into PDML format, and then parses the PDMLs to determine packet delay based on timestamps and classifies packets by source and destination IPs:\n",
      "```\n",
      "import subprocess\n",
      "import re\n",
      "import pandas as pd\n",
      "\n",
      "# Set the capture files\n",
      "n3_capture = 'n3_capture.pcap'\n",
      "n6_capture = 'n6_capture.pcap'\n",
      "\n",
      "# Run Wireshark to convert the captures to PDML format\n",
      "subprocess.run(['wireshark', '-i', 'n3', '-o', 'n3_pdml.txt', n3_capture])\n",
      "subprocess.run(['wireshark', '-i', 'n6', '-o', 'n6_pdml.txt', n6_capture])\n",
      "\n",
      "# Read the PDML files\n",
      "n3_pdml = open('n3_pdml.txt', 'r')\n",
      "n6_pdml = open('n6_pdml.txt', 'r')\n",
      "\n",
      "# Parse the PDML files to extract packet timestamps and IP addresses\n",
      "def parse_pdml(pdml_file):\n",
      "    packets = []\n",
      "    for line in pdml_file:\n",
      "        if line.startswith('packet'):\n",
      "            packets.append({\n",
      "                'timestamp': line.split(':')[1].strip(),\n",
      "               'src_ip': line.split(':')[3].strip(),\n",
      "                'dst_ip': line.split(':')[5].strip()\n",
      "            })\n",
      "    return packets\n",
      "\n",
      "n3_packets = parse_pdml(n3_pdml)\n",
      "n6_packets = parse_pdml(n6_pdml)\n",
      "\n",
      "# Calculate the packet delay for each packet\n",
      "def calculate_delay(packet):\n",
      "    return packet['timestamp'] - packet['src_ip'] + packet['dst_ip']\n",
      "\n",
      "n3_delay = [calculate_delay(packet) for packet in n3_packets]\n",
      "n6_delay = [calculate_delay(packet) for packet in n6_packets]\n",
      "\n",
      "# Classify packets by source and destination IPs\n",
      "def classify_packets(packets):\n",
      "    src_ip_to_dst_ip = {}\n",
      "    for packet in packets:\n",
      "        src_ip = packet['src_ip']\n",
      "        dst_ip = packet['dst_ip']\n",
      "        if src_ip not in src_ip_to_dst_ip:\n",
      "            src_ip_to_dst_ip[src_ip] = set()\n",
      "        src_ip_to_dst_ip[src_ip].add(dst_ip)\n",
      "    return src_ip_to_dst_ip\n",
      "\n",
      "n3_classification = classify_packets(n3_packets)\n",
      "n6_classification = classify_packets(n6_packets)\n",
      "\n",
      "# Print the results\n",
      "print('N3 Packet Delay:')\n",
      "print(pd.DataFrame(n3_delay, columns=['Delay (ms)']))\n",
      "print('N6 Packet Delay:')\n",
      "print(pd.DataFrame(n6_delay, columns=['Delay (ms)']))\n",
      "print('N3 Packet Classification:')\n",
      "print(pd.DataFrame(n3_classification, columns=['Source IP', 'Destination IP']))\n",
      "print('N6 Packet Classification:')\n",
      "print(pd.DataFrame(n6_classification, columns=['Source IP', 'Destination IP']))\n",
      "```\n",
      "Here's how the script works:\n",
      "\n",
      "1. The script first sets the capture files to be analyzed: `n3_capture` and `n6_capture`.\n",
      "2. The script then runs Wireshark to convert the captures to PDML format using the following command:\n",
      "```\n",
      "wireshark -i <interface> -o <output_file> <capture_file>\n",
      "```\n",
      "Here, `<interface>` is the network interface that the capture is being captured from (e.g. `n3` or `n6`), and `<output_file>` is the file where the PDML output will be written.\n",
      "3. The script then reads the PDML files using the `open()` function in read mode (`'r'`) and parses the files to extract packet timestamps and IP addresses. The `parse_pdml()` function takes a PDML file as input and returns a list of packets, where each packet is represented as a dictionary with the following keys: `timestamp`, `src_ip`, and `dst_ip`.\n",
      "4. The script then calculates the packet delay for each packet using the `calculate_delay()` function, which takes a packet as input and returns the delay (in milliseconds) between the packet's timestamp and the timestamp of the previous packet.\n",
      "5. Finally, the script classifies the packets by source and destination IPs using the `classify_packets()` function, which takes a list of packets as input and returns a dictionary where the keys are the source IP addresses and the values are the sets of destination IP addresses.\n",
      "6. The script then prints the results, including the packet delay and packet classification, for both the N3 and N6 interfaces.\n",
      "\n",
      "Note that this script assumes that the PDML files are in the same directory as the script, and that the capture files are in the format of `capture_file.pcap`. You may need to modify the script to match your specific use case.\n"
     ]
    }
   ],
   "source": [
    "logging.set_verbosity(logging.CRITICAL)\n",
    "\n",
    "# Run text generation pipeline with our next model\n",
    "prompt = \"Generate a Python script that analyzes packet captures from N3 and N6 network interfaces. Use Wireshark to process these captures into PDML format. Parse the PDMLs to determine packet delay based on timestamps and classify packets by source and destination IPs.\"\n",
    "pipe = pipeline(task=\"text-generation\", model=model, tokenizer=tokenizer, max_length=2048)\n",
    "result = pipe(f\"<s>[INST] {prompt} [/INST]\")\n",
    "print(result[0]['generated_text'])"
   ]
  },
  {
   "cell_type": "code",
   "execution_count": 3,
   "metadata": {},
   "outputs": [
    {
     "name": "stderr",
     "output_type": "stream",
     "text": [
      "Setting `pad_token_id` to `eos_token_id`:2 for open-end generation.\n",
      "Setting `pad_token_id` to `eos_token_id`:2 for open-end generation.\n"
     ]
    },
    {
     "name": "stdout",
     "output_type": "stream",
     "text": [
      "Output: [INST]What are the key objectives and goals of 5G network specifications, and how do they differ from previous generations of wireless networks?[/INST]  The key objectives and goals of 5G network specifications are to provide a high-speed, low-latency, and highly reliable wireless communication infrastructure that supports a wide range of new and innovative services and applications. Some of the key objectives and goals of 5G networks include:\n",
      "\n",
      "1. Higher speeds: 5G networks are designed to provide much higher speeds than previous generations of wireless networks. The International Telecommunication Union (ITU) has set a goal of providing speeds of up to 20 Gbps in 5G networks.\n",
      "2. Lower latency: 5G networks are designed to provide much lower latency than previous generations of wireless networks. The ITU has set a goal of providing latency of less than 1 ms in 5G networks.\n",
      "3. Increased capacity: 5G networks are designed to provide much higher capacity than previous generations of wireless networks. The ITU has set a goal of providing capacity of up to 1 million devices per square kilometer in 5G networks.\n",
      "4. Improved reliability: 5G networks are designed to be more reliable than previous generations of wireless networks. The ITU has set a goal of providing 99.999% reliability in 5G networks.\n",
      "5. Support for new services and applications: 5G networks are designed to support a wide range of new and innovative services and applications, such as augmented and virtual reality, autonomous vehicles, and smart cities.\n",
      "6. Spectrum flexibility: 5G networks are designed to be more flexible in terms of the spectrum they use, with the ability to use a wide range of frequency bands, including low-band, mid-band, and high-band frequencies.\n",
      "7. Network slicing: 5G networks are designed to allow for network slicing, which allows multiple independent networks to be created on top of a single physical network, allowing for customized services and applications.\n",
      "8. Edge computing: 5G networks are designed to support edge computing, which allows data processing and analysis to be performed at the edge of the network, closer to the user, rather than in a central data center.\n",
      "9. Security\n",
      "---------------------1-----------------------------\n"
     ]
    },
    {
     "name": "stderr",
     "output_type": "stream",
     "text": [
      "Setting `pad_token_id` to `eos_token_id`:2 for open-end generation.\n"
     ]
    },
    {
     "name": "stdout",
     "output_type": "stream",
     "text": [
      "Output: [INST]Explain the architectural components of a typical 5G network, including the roles of gNodeBs, Core Network, and Edge Computing.[/INST]  A typical 5G network consists of several architectural components that work together to provide high-speed, low-latency, and highly reliable wireless connectivity. The key components of a 5G network include:\n",
      "\n",
      "1. gNodeBs (Next-generation NodeBs): These are the base stations that provide wireless connectivity to mobile devices. gNodeBs are the equivalent of the eNodeBs in 4G networks, but they are designed to support the higher frequency bands and the more complex radio protocols required for 5G.\n",
      "2. Core Network: This is the central part of the network that manages the communication between gNodeBs and other network elements. The core network includes the following components:\n",
      "\n",
      "a. MME (Mobility Management Entity): This entity manages the mobility of mobile devices, including the tracking of device locations and the handling of handovers between gNodeBs.\n",
      "\n",
      "b. S-GW (Serving Gateway): This entity manages the data traffic between gNodeBs and the core network.\n",
      "\n",
      "c. P-GW (Packet Data Network Gateway): This entity manages the data traffic between the core network and the internet.\n",
      "\n",
      "d. NF (Network Function) Virtualization Infrastructure: This entity provides a software-based infrastructure for deploying and managing network functions, such as firewalls and load balancers.\n",
      "3. Edge Computing: This is a network architecture that brings computing resources closer to the edge of the network, reducing latency and improving the performance of applications that require real-time processing. Edge computing can be deployed in a variety of locations, including gNodeBs, data centers, and cloud computing environments.\n",
      "\n",
      "The roles of these architectural components in a typical 5G network are as follows:\n",
      "\n",
      "1. gNodeBs: These base stations provide wireless connectivity to mobile devices and act as the interface between the devices and the core network.\n",
      "2. Core Network: This entity manages the communication between gNodeBs and other network elements, and provides the necessary signaling and control plane functions to support the 5G radio protocols.\n",
      "3. Edge Computing: This\n",
      "---------------------2-----------------------------\n"
     ]
    },
    {
     "name": "stderr",
     "output_type": "stream",
     "text": [
      "Setting `pad_token_id` to `eos_token_id`:2 for open-end generation.\n"
     ]
    },
    {
     "name": "stdout",
     "output_type": "stream",
     "text": [
      "Output: [INST]What is the significance of mmWave frequencies in 5G, and how do they impact network coverage and capacity?[/INST]  Millimeter wave (mmWave) frequencies are a key component of 5G wireless networks, offering significant improvements in network coverage and capacity compared to previous generations of wireless technology. Here are some key aspects of mmWave frequencies in 5G and their impact on network coverage and capacity:\n",
      "\n",
      "1. High frequency bands: mmWave frequencies are typically defined as frequencies above 24 GHz, which are much higher than the frequencies used in 4G networks (typically below 6 GHz). These high frequencies offer several advantages, including:\n",
      "\n",
      "a. Larger bandwidth: mmWave frequencies have much larger bandwidths than lower frequency bands, which allows for more data to be transmitted in the same amount of time.\n",
      "\n",
      "b. Lower latency: The shorter wavelengths of mmWave frequencies result in lower latency, which is essential for applications that require real-time communication, such as virtual reality and autonomous vehicles.\n",
      "\n",
      "c. Increased capacity: The large bandwidth and low latency of mmWave frequencies enable more devices to be connected to the network, increasing overall network capacity.\n",
      "2. Line of sight: One of the challenges of mmWave frequencies is that they require line of sight between the transmitter and receiver. This means that obstructions such as buildings, trees, and hills can block the signal, reducing network coverage. To overcome this challenge, 5G networks using mmWave frequencies often employ multiple antennas and beamforming techniques to focus the signal on specific devices and improve coverage.\n",
      "3. Small cell deployment: To provide reliable coverage and capacity, 5G networks using mmWave frequencies often rely on small cells, which are smaller and more numerous than traditional macro cells. Small cells can be placed in a variety of locations, such as on street lights, buildings, or other structures, to provide coverage in specific areas.\n",
      "4. Network densification: The high frequency and short wavelength of mmWave frequencies require more dense network deployments to ensure reliable coverage and capacity. This means that 5G networks using mmWave frequencies will have more cell sites and antennas than 4G networks, leading to increased network density.\n",
      "5. Multi-band deployment: To ensure seamless connectivity and roaming\n",
      "---------------------3-----------------------------\n"
     ]
    },
    {
     "name": "stderr",
     "output_type": "stream",
     "text": [
      "Setting `pad_token_id` to `eos_token_id`:2 for open-end generation.\n"
     ]
    },
    {
     "name": "stdout",
     "output_type": "stream",
     "text": [
      "Output: [INST]Describe the concept of network slicing in 5G, and provide examples of how it benefits different industries and applications.[/INST]  Network slicing is a key feature of 5G networks that allows multiple independent network slices to coexist on the same physical infrastructure. Each slice can be customized to meet the specific needs of a particular application or industry, such as IoT, autonomous vehicles, or smart cities. This concept enables the creation of dedicated networks for specific use cases, providing better performance, security, and resource allocation.\n",
      "\n",
      "Here are some examples of how network slicing benefits different industries and applications:\n",
      "\n",
      "1. IoT (Internet of Things): Network slicing allows for the creation of a dedicated network for IoT devices, ensuring low latency and high reliability for applications such as smart home systems, industrial automation, and smart cities.\n",
      "2. Autonomous vehicles: A network slice can be dedicated to autonomous vehicles, providing low latency and high bandwidth for vehicle-to-everything (V2X) communication, improving safety and efficiency.\n",
      "3. Smart cities: Network slicing enables the creation of a dedicated network for smart city applications, such as traffic management, public safety, and energy management, ensuring high reliability and low latency.\n",
      "4. Entertainment: Network slicing can be used to create a dedicated network for high-bandwidth, low-latency applications such as virtual reality and augmented reality, providing an enhanced user experience.\n",
      "5. Healthcare: A network slice can be dedicated to healthcare applications, such as telemedicine and remote patient monitoring, ensuring high security and privacy for sensitive medical data.\n",
      "6. Critical infrastructure: Network slicing can be used to create a dedicated network for critical infrastructure, such as power grids and transportation systems, ensuring high reliability and low latency for these mission-critical applications.\n",
      "7. Financial services: A network slice can be dedicated to financial services, providing high security and low latency for sensitive financial transactions and data.\n",
      "8. Retail: Network slicing can be used to create a dedicated network for retail applications, such as in-store Wi-Fi and digital signage, improving the customer experience and providing insights into customer behavior.\n",
      "9. Manufacturing: Network slicing can\n",
      "---------------------4-----------------------------\n",
      "Output: [INST]What security measures and protocols are integral to 5G networks, and how do they address potential vulnerabilities?[/INST]  Security is a critical aspect of 5G networks, and various security measures and protocols have been integrated into the design and implementation of these networks to address potential vulnerabilities. Here are some of the key security measures and protocols that are integral to 5G networks:\n",
      "\n",
      "1. Authentication and Authorization: 5G networks use advanced authentication and authorization protocols to ensure that only authorized users and devices can access the network. This includes the use of secure authentication and key exchange (SAKE) protocols, which provide secure and efficient authentication and key exchange for 5G networks.\n",
      "2. Encryption: 5G networks use end-to-end encryption to protect data transmitted over the network. This includes the use of advanced encryption standards, such as elliptic curve encryption, to ensure that data is protected from unauthorized access.\n",
      "3. Integrity and Replay Protection: 5G networks use integrity and replay protection mechanisms to prevent unauthorized modification or replay of data transmitted over the network. This includes the use of message authentication codes (MACs) and sequence numbers to ensure the integrity and authenticity of data.\n",
      "4. Access Control: 5G networks use access control mechanisms to restrict access to network resources and prevent unauthorized access to sensitive information. This includes the use of firewalls, intrusion detection and prevention systems, and other access control mechanisms.\n",
      "5. Network Segmentation: 5G networks use network segmentation to isolate sensitive information and limit the spread of malware and other security threats. This includes the use of virtual private networks (VPNs) and other segmentation techniques.\n",
      "6. Distributed Denial of Service (DDoS) Protection: 5G networks use DDoS protection mechanisms to prevent malicious actors from overwhelming the network with traffic. This includes the use of traffic filtering and other DDoS protection techniques.\n",
      "7. Software-Defined Networking (SDN) and Network Functions Virtualization (NFV): 5G networks use SDN and NFV to provide greater flexibility and scalability in network architecture. These technologies also provide greater control over network resources and can help to improve network security.\n",
      "8. Secure Data Management\n",
      "---------------------5-----------------------------\n"
     ]
    }
   ],
   "source": [
    "import json\n",
    "input_file_path = \"/home/hb/LLM-research/evaluation/5G_SPEC/5G_SPEC_QA.json\" \n",
    "\n",
    "with open(input_file_path, \"r\") as input_file:\n",
    "    questions_data = json.load(input_file)\n",
    "\n",
    "pipe = pipeline(task=\"text-generation\", model=model, tokenizer=tokenizer, max_length=512)\n",
    "\n",
    "generated_answers_qa = []\n",
    "\n",
    "n_question = 0\n",
    "for q_dict in questions_data:\n",
    "    n_question += 1\n",
    "    question = q_dict[\"question\"]\n",
    "    # Generate answer using the language model\n",
    "    prompt = f\"[INST]{question}[/INST]\"\n",
    "    generated_answer = pipe(prompt)[0]['generated_text']\n",
    "    print(f\"Output: {generated_answer}\")\n",
    "    generated_answers_qa.append(generated_answer)\n",
    "    print(f\"---------------------{n_question}-----------------------------\")"
   ]
  },
  {
   "cell_type": "markdown",
   "metadata": {},
   "source": [
    "`Network config QA`: Pass"
   ]
  },
  {
   "cell_type": "code",
   "execution_count": null,
   "metadata": {},
   "outputs": [],
   "source": [
    "import json\n",
    "import re\n",
    "\n",
    "input_file_path = \"/home/hb/fine-tuning-alpaca/evaluation/bgp_test_multiple_choice.json\" \n",
    "\n",
    "with open(input_file_path, \"r\") as input_file:\n",
    "    questions_data = json.load(input_file)\n",
    "\n",
    "pipe = pipeline(task=\"text-generation\", model=model, tokenizer=tokenizer, max_length=128)\n",
    "\n",
    "generated_answers = []\n",
    "ground_truth = [q_dict[\"answer\"] for q_dict in questions_data]\n",
    "\n",
    "n_question = 0\n",
    "for q_dict in questions_data:\n",
    "    question = q_dict[\"question\"]\n",
    "    options = q_dict[\"options\"]\n",
    "    \n",
    "    # Construct prompt with question and options\n",
    "    prompt = f\"{question}\\nChoose the correct answer:\\n\" + \"\\n\".join(options)\n",
    "    # print(prompt)\n",
    "    \n",
    "    # Generate answer using the language model\n",
    "    generated_answer = pipe(prompt)[0]['generated_text']\n",
    "    print(f\"Generated Answer: {generated_answer}\")\n",
    "    \n",
    "        # Parse the generated answer\n",
    "    answer_lines = generated_answer.splitlines()\n",
    "    parsed_answer = \"\"\n",
    "    for line in answer_lines:\n",
    "        if line.startswith(\"Answer: \"):\n",
    "            parsed_answer = re.search(r'\\b(\\w)\\)', line).group(1)\n",
    "            print(f\"Parsed_answer: {parsed_answer}\")\n",
    "            break\n",
    "    generated_answers.append(parsed_answer)\n",
    "    n_question += 1\n",
    "    print(f\"----------------{n_question}-----------------\")\n",
    "print(generated_answers)\n",
    "\n",
    "\n",
    "total_questions = len(questions_data)\n",
    "correct_answers = 0\n",
    "\n",
    "for ground_answer, generated_answer in zip(ground_truth, generated_answers):\n",
    "    if generated_answer.lower() == ground_answer.lower():\n",
    "        print(\"Correct\")\n",
    "        correct_answers += 1\n",
    "    else:\n",
    "        print(\"Incorrect\")\n",
    "        print(f\"GPT answer: {generated_answer}. Correct answer: {ground_answer}\")\n",
    "\n",
    "accuracy = (correct_answers / total_questions) * 100\n",
    "\n",
    "print(f\"Accuracy: {accuracy:.2f}%\")\n",
    "print(f\"Correct answers: {correct_answers}\")\n",
    "print(f\"Incorrect answers: {total_questions - correct_answers}\")"
   ]
  },
  {
   "cell_type": "code",
   "execution_count": 11,
   "metadata": {},
   "outputs": [
    {
     "name": "stdout",
     "output_type": "stream",
     "text": [
      "Generated Answer: When analyzing BGP route propagation, which attribute provides information about the path that the BGP update has traversed?\n",
      "Choose the correct answer:\n",
      "a) AS-Path\n",
      "b) MED (Multi-Exit Discriminator)\n",
      "c) Local Preference\n",
      "d) Next Hop\n",
      "\n",
      "Answer: a) AS-Path\n",
      "\n",
      "Explanation:\n",
      "\n",
      "The AS-Path attribute in BGP updates contains a list of autonomous systems (ASes) that the update has traversed. This attribute provides information about the path that the BGP update has taken from the originating AS to the receiving\n",
      "Parsed_answer: a\n",
      "----------------1-----------------\n",
      "Generated Answer: Which of the following is a primary purpose of BGP?\n",
      "Choose the correct answer:\n",
      "a) Establishing communication between devices within a LAN\n",
      "b) Exchanging routing information between autonomous systems\n",
      "c) Optimizing local network traffic\n",
      "d) Assigning IP addresses to devices\n",
      "\n",
      "Answer: b) Exchanging routing information between autonomous systems\n",
      "\n",
      "Explanation:\n",
      "\n",
      "BGP (Border Gateway Protocol) is a routing protocol used to exchange routing information between autonomous systems (AS) over the internet. It is responsible for advertising and maintaining the best path\n",
      "Parsed_answer: b\n",
      "----------------2-----------------\n",
      "Generated Answer: What is the main function of the AS-Path attribute in BGP?\n",
      "Choose the correct answer:\n",
      "a) Identifying the IP address of the next hop\n",
      "b) Preventing route hijacking\n",
      "c) Specifying the exit point from an AS\n",
      "d) Tracking the ASes a route has traversed\n",
      "\n",
      "Answer: d) Tracking the ASes a route has traversed\n",
      "\n",
      "Explanation: The AS-Path attribute in BGP is used to track the ASes a route has traversed. It contains a list of AS numbers that the route has passed through, in the order\n",
      "Parsed_answer: d\n",
      "----------------3-----------------\n",
      "Generated Answer: Which BGP attribute indicates the preferred exit point from an AS?\n",
      "Choose the correct answer:\n",
      "a) ORIGIN\n",
      "b) LOCAL-PREF\n",
      "c) NEXT-HOP\n",
      "d) AS-PATH\n",
      "\n",
      "Answer: c) NEXT-HOP\n",
      "\n",
      "Explanation: The NEXT-HOP attribute indicates the IP address of the next hop for a particular route. The next hop is the router that the packet should be forwarded to in order to reach the destination network. The NEXT-HOP attribute is used to determine the preferred exit point from an AS, as\n",
      "Parsed_answer: c\n",
      "----------------4-----------------\n",
      "Generated Answer: Which BGP message is used to establish a BGP session?\n",
      "Choose the correct answer:\n",
      "a) KEEPALIVE\n",
      "b) OPEN\n",
      "c) UPDATE\n",
      "d) NOTIFICATION\n",
      "\n",
      "Answer: b) OPEN\n",
      "\n",
      "Explanation:\n",
      "\n",
      "The BGP OPEN message is used to establish a BGP session between two autonomous systems (AS). The OPEN message is sent by the BGP speaker of one AS to the BGP speaker of another AS to initiate the session. The OPEN message includes information such as the BGP version number, the AS number, and\n",
      "Parsed_answer: b\n",
      "----------------5-----------------\n",
      "Generated Answer: What is the primary purpose of the BGP NEXT-HOP attribute?\n",
      "Choose the correct answer:\n",
      "a) Specifies the IP address of the sender\n",
      "b) Indicates the preferred exit point from an AS\n",
      "c) Defines the next router in the path\n",
      "d) Specifies the route's originator\n",
      "\n",
      "Answer: c) Defines the next router in the path\n",
      "\n",
      "Explanation: The BGP NEXT-HOP attribute specifies the IP address of the next router in the path of the advertised route. It helps BGP peers determine the shortest path to\n",
      "Parsed_answer: c\n",
      "----------------6-----------------\n",
      "Generated Answer: Which BGP message is used to advertise new or withdrawn routes?\n",
      "Choose the correct answer:\n",
      "a) KEEPALIVE\n",
      "b) OPEN\n",
      "c) UPDATE\n",
      "d) NOTIFICATION\n",
      "\n",
      "Answer: c) UPDATE\n",
      "\n",
      "Explanation:\n",
      "\n",
      "BGP uses the UPDATE message to advertise new or withdrawn routes to neighboring BGP peers. The UPDATE message is used to exchange routing information between BGP peers and to maintain the consistency of the routing table.\n",
      "\n",
      "The KEEPALIVE message is used to maintain the BGP session between pe\n",
      "Parsed_answer: c\n",
      "----------------7-----------------\n",
      "Generated Answer: What is the purpose of BGP route aggregation?\n",
      "Choose the correct answer:\n",
      "a) Breaking down large routes into smaller subnets\n",
      "b) Combining multiple routes into a single summarized route\n",
      "c) Assigning priority to specific routes\n",
      "d) Applying policies to routes based on their origin\n",
      "\n",
      "Answer: b) Combining multiple routes into a single summarized route\n",
      "\n",
      "Explanation: BGP route aggregation is the process of combining multiple routes into a single summarized route. This is useful for reducing the number of routes that need to be advertised and maintained, and\n",
      "Parsed_answer: b\n",
      "----------------8-----------------\n",
      "Generated Answer: What is the term for maliciously advertising IP prefixes an AS doesn't own?\n",
      "Choose the correct answer:\n",
      "a) BGP Route Hijacking\n",
      "b) BGP Anomaly Detection\n",
      "c) BGP Route Flap\n",
      "d) BGP Route Aggregation\n",
      "\n",
      "Answer: a) BGP Route Hijacking\n",
      "\n",
      "Explanation: BGP Route Hijacking is the term used to describe the malicious advertisement of IP prefixes that an Autonomous System (AS) does not own. This can be done to divert traffic through the hij\n",
      "Parsed_answer: a\n",
      "----------------9-----------------\n",
      "Generated Answer: BGP Prefix Origin Validation (ROV) is primarily aimed at preventing:\n",
      "Choose the correct answer:\n",
      "a) BGP route damping\n",
      "b) BGP session establishment\n",
      "c) BGP route leaks and hijacks\n",
      "d) BGP route aggregation\n",
      "\n",
      "Answer: c) BGP route leaks and hijacks\n",
      "\n",
      "Explanation: BGP Prefix Origin Validation (ROV) is a security feature that helps prevent BGP route leaks and hijacks by verifying the origin of BGP prefixes. It does this by comparing the originating AS number\n",
      "Parsed_answer: c\n",
      "----------------10-----------------\n",
      "Generated Answer: Which BGP attribute is used to group routes into categories?\n",
      "Choose the correct answer:\n",
      "a) LOCAL-PREF\n",
      "b) MED\n",
      "c) AS-PATH\n",
      "d) COMMUNITY\n",
      "\n",
      "Answer: d) COMMUNITY\n",
      "\n",
      "Explanation:\n",
      "\n",
      "The COMMUNITY attribute is used in BGP to group routes into categories based on the value of the attribute. The COMMUNITY attribute is a 32-bit value that is assigned by the originator of the route and is used to identify the type of route or the group of routes that the\n",
      "Parsed_answer: d\n",
      "----------------11-----------------\n",
      "Generated Answer: BGP confederations are used to:\n",
      "Choose the correct answer:\n",
      "a) Optimize local network traffic\n",
      "b) Divide an AS into sub-ASes for scalability\n",
      "c) Group routes into categories\n",
      "d) Handle BGP session establishment\n",
      "\n",
      "Answer: c) Group routes into categories\n",
      "\n",
      "Explanation: BGP confederations are used to group routes into categories based on their origin, preference, or other attributes. This helps BGP speakers to make more informed decisions about which routes to accept and propagate. Confederations do not affect local network traffic, scalability, or\n",
      "Parsed_answer: c\n",
      "----------------12-----------------\n",
      "Generated Answer: Which BGP attribute is used to influence route selection by assigning a value to the route?\n",
      "Choose the correct answer:\n",
      "a) ORIGIN\n",
      "b) MED\n",
      "c) AS-PATH\n",
      "d) LOCAL-PREF\n",
      "\n",
      "Answer: d) LOCAL-PREF\n",
      "\n",
      "Explanation:\n",
      "\n",
      "The LOCAL-PREF attribute is used to influence route selection by assigning a value to the route. The LOCAL-PREF attribute specifies the local preference of a route, which is a measure of how much the originating router prefers the route. A higher\n",
      "Parsed_answer: d\n",
      "----------------13-----------------\n",
      "Generated Answer: What is the purpose of the BGP NOTIFICATION message?\n",
      "Choose the correct answer:\n",
      "a) Establish a BGP session\n",
      "b) Advertise new routes\n",
      "c) Signal an error or event in the BGP session\n",
      "d) Request a route refresh\n",
      "\n",
      "Answer: c) Signal an error or event in the BGP session\n",
      "\n",
      "Explanation: The BGP NOTIFICATION message is used to signal an error or event in the BGP session. It can be used to notify the peer of a change in the network, such as a routing table update, a network failure\n",
      "Parsed_answer: c\n",
      "----------------14-----------------\n",
      "Generated Answer: What is the primary purpose of the BGP Community attribute?\n",
      "Choose the correct answer:\n",
      "a) Indicate the preferred exit point\n",
      "b) Prevent route flapping\n",
      "c) Define route policies based on grouping\n",
      "d) Determine the AS-Path length\n",
      "\n",
      "Answer: c) Define route policies based on grouping\n",
      "\n",
      "Explanation: The BGP Community attribute is used to group routes based on specific criteria, such as prefixes or AS numbers. This allows BGP speakers to apply specific route policies to these groups, such as filtering or blocking certain routes. The Community attribute is not used to indicate\n",
      "Parsed_answer: c\n",
      "----------------15-----------------\n",
      "Generated Answer: BGP Route Reflectors are used to address the scalability issues associated with:\n",
      "Choose the correct answer:\n",
      "a) Excessive route dampening\n",
      "b) Route summarization\n",
      "c) Full mesh BGP peering\n",
      "d) BGP prefix hijacking\n",
      "Answer: b) Route summarization\n",
      "\n",
      "Explanation: Route summarization is used to reduce the number of routes that need to be advertised between BGP peers, which helps to improve the scalability of the BGP protocol. Route reflectors are used to address the scalability issues associated with route summarization by providing a way\n",
      "Parsed_answer: b\n",
      "----------------16-----------------\n",
      "Generated Answer: What is the primary purpose of the BGP Path Attribute?\n",
      "Choose the correct answer:\n",
      "a) Identify the exit point from an AS\n",
      "b) Indicate the origin of a route\n",
      "c) Determine the optimal route\n",
      "d) Filter BGP routes\n",
      "\n",
      "Answer: b) Indicate the origin of a route\n",
      "\n",
      "Explanation: The BGP Path Attribute is used to indicate the origin of a route. It contains information about the autonomous system (AS) that originated the route, which helps BGP routers determine the best path for forwarding the traffic. The primary purpose of the\n",
      "Parsed_answer: b\n",
      "----------------17-----------------\n",
      "Generated Answer: BGP Prefix Filtering is used to:\n",
      "Choose the correct answer:\n",
      "a) Prevent route hijacking\n",
      "b) Optimize route propagation\n",
      "c) Establish BGP sessions\n",
      "d) Calculate BGP AS-Path length\n",
      "\n",
      "Answer: a) Prevent route hijacking\n",
      "\n",
      "Explanation: BGP Prefix Filtering is used to prevent route hijacking by allowing the network administrator to filter out unwanted or malicious routes that may be advertised by other ASes. By filtering out these routes, the network administrator can prevent them from being propagated throughout\n",
      "Parsed_answer: a\n",
      "----------------18-----------------\n",
      "Generated Answer: In BGP, what is the primary purpose of the ORIGIN attribute?\n",
      "Choose the correct answer:\n",
      "a) Identify the exit point from an AS\n",
      "b) Determine the preferred route within an AS\n",
      "c) Indicate the origin of a route\n",
      "d) Assign values for path selection\n",
      "\n",
      "Answer: c) Indicate the origin of a route\n",
      "\n",
      "Explanation:\n",
      "\n",
      "The ORIGIN attribute in BGP is used to indicate the origin of a route. It specifies the autonomous system (AS) number where the route was learned. This information is important for route filtering\n",
      "Parsed_answer: c\n",
      "----------------19-----------------\n",
      "Generated Answer: What does the BGP Maximum Prefix Limit control?\n",
      "Choose the correct answer:\n",
      "a) The number of BGP routes that can be aggregated\n",
      "b) The maximum length of the AS-Path attribute\n",
      "c) The number of prefixes a BGP router will accept\n",
      "d) The BGP route redistribution process\n",
      "\n",
      "Answer: c) The number of prefixes a BGP router will accept\n",
      "\n",
      "Explanation: The BGP Maximum Prefix Limit controls the number of prefixes a BGP router will accept from its peers. This limit is set by the administrator and\n",
      "Parsed_answer: c\n",
      "----------------20-----------------\n",
      "Generated Answer: What is the purpose of the BGP Large Communities attribute?\n",
      "Choose the correct answer:\n",
      "a) Determine the optimal route path\n",
      "b) Prevent BGP session timeouts\n",
      "c) Provide more efficient route summarization\n",
      "d) Group routes into categories based on policies\n",
      "\n",
      "Answer: c) Provide more efficient route summarization\n",
      "\n",
      "Explanation: The BGP Large Communities attribute is used to group routes into categories based on policies, rather than relying on the traditional route aggregation techniques such as route summarization. This allows for more efficient route summarization and can help reduce\n",
      "Parsed_answer: c\n",
      "----------------21-----------------\n",
      "Generated Answer: In BGP, what is the significance of the BGP Weight attribute?\n",
      "Choose the correct answer:\n",
      "a) It determines the exit point from an AS\n",
      "b) It influences the route selection within an AS\n",
      "c) It specifies the BGP session timeout value\n",
      "d) It defines the route origin type\n",
      "\n",
      "Answer: b) It influences the route selection within an AS\n",
      "\n",
      "Explanation: The BGP Weight attribute is used to influence the route selection within an Autonomous System (AS). It is a local preference value that is assigned to each BGP peer by the B\n",
      "Parsed_answer: b\n",
      "----------------22-----------------\n",
      "Generated Answer: How does the BGP AS Confederation help address the full mesh peering challenge?\n",
      "Choose the correct answer:\n",
      "a) It reduces the number of AS-Path segments\n",
      "b) It introduces hierarchical routing within a single AS\n",
      "c) It increases the number of BGP sessions between routers\n",
      "d) It optimizes the BGP Weight attribute\n",
      "\n",
      "Answer: a) It reduces the number of AS-Path segments\n",
      "\n",
      "Explanation:\n",
      "\n",
      "The BGP AS Confederation is a technique that helps address the full mesh peering challenge by reducing the number of AS-Path segments. In\n",
      "Parsed_answer: a\n",
      "----------------23-----------------\n",
      "Generated Answer: What is BGPsec and how does it enhance BGP security?\n",
      "Choose the correct answer:\n",
      "a) BGPsec is a protocol for secure BGP session establishment\n",
      "b) BGPsec is an extension to BGP that adds cryptographic verification to BGP route announcements\n",
      "c) BGPsec is a mechanism for prefix aggregation in BGP\n",
      "d) BGPsec is used to prevent BGP route leaks\n",
      "\n",
      "Answer: b) BGPsec is an extension to BGP that adds cryptographic verification to BGP route announcements.\n",
      "\n",
      "Explanation:\n",
      "Parsed_answer: b\n",
      "----------------24-----------------\n",
      "Generated Answer: When is the BGP Extended Community attribute used, and what information does it convey?\n",
      "Choose the correct answer:\n",
      "a) It is used for route summarization within a single AS\n",
      "b) It conveys policy information and inter-domain actions associated with a route\n",
      "c) It determines the local preference of a BGP route\n",
      "d) It specifies the AS-Path segment that is used to reach the advertising AS\n",
      "\n",
      "Answer: b) It conveys policy information and inter-domain actions associated with a route\n",
      "\n",
      "Explanation:\n",
      "\n",
      "The BGP Extended Community attribute is\n",
      "Parsed_answer: b\n",
      "----------------25-----------------\n",
      "Generated Answer: What is the concept of BGP Flowspec, and how does it enhance BGP routing control?\n",
      "Choose the correct answer:\n",
      "a) BGP Flowspec is a mechanism to advertise real-time network traffic statistics\n",
      "b) BGP Flowspec is used for route aggregation in large networks\n",
      "c) BGP Flowspec allows the dissemination of traffic filtering rules using BGP updates\n",
      "d) BGP Flowspec determines the AS-Path of a route\n",
      "\n",
      "Answer: c) BGP Flowspec allows the dissemination of traffic filtering rules using BGP updates.\n",
      "\n",
      "Explanation\n",
      "Parsed_answer: c\n",
      "----------------26-----------------\n",
      "Generated Answer: Explain the difference between BGP Route Reflection and BGP Confederations.\n",
      "Choose the correct answer:\n",
      "a) BGP Route Reflection optimizes BGP sessions within an AS, while BGP Confederations divide an AS into smaller sub-ASes for scalability\n",
      "b) BGP Route Reflection is used to group BGP routes, while BGP Confederations enhance BGP security\n",
      "c) BGP Route Reflection is a method to prevent BGP route hijacking, while BGP Confederations manage BGP community attributes\n",
      "d) BGP Route Reflection establishes BGP sessions between ASes, while BGP Confederations control the BGP Weight attribute\n",
      "\n",
      "----------------27-----------------\n",
      "Generated Answer: What is BGP Route Damping, and how does it impact BGP routing stability?\n",
      "Choose the correct answer:\n",
      "a) BGP Route Damping is a mechanism to prevent BGP prefix aggregation, ensuring route granularity\n",
      "b) BGP Route Damping is a technique to mitigate the impact of BGP prefix hijacking\n",
      "c) BGP Route Damping is used to reduce the rate of BGP route updates in response to route flapping\n",
      "d) BGP Route Damping is a security feature that encrypts BGP updates to prevent eavesdropping\n",
      "\n",
      "----------------28-----------------\n",
      "Generated Answer: How does BGP Prefix Hijacking occur, and what are the potential consequences?\n",
      "Choose the correct answer:\n",
      "a) BGP Prefix Hijacking occurs when BGP sessions are established without proper authentication, leading to data leaks\n",
      "b) BGP Prefix Hijacking involves advertising IP prefixes an AS doesn't own, potentially redirecting traffic to unauthorized paths\n",
      "c) BGP Prefix Hijacking is a result of BGP session timeouts causing route instability\n",
      "d) BGP Prefix Hijacking is a technique to achieve BGP route summarization\n",
      "\n",
      "----------------29-----------------\n",
      "Generated Answer: What is the purpose of the BGP RPKI (Resource Public Key Infrastructure) framework, and how does it enhance BGP security?\n",
      "Choose the correct answer:\n",
      "a) BGP RPKI is used for route reflection in BGP Confederations, enhancing scalability\n",
      "b) BGP RPKI provides cryptographic verification of BGP route announcements, preventing prefix hijacking\n",
      "c) BGP RPKI optimizes the BGP Local Preference attribute for route selection\n",
      "d) BGP RPKI is a mechanism for BGP prefix aggregation, reducing the number of routes exchanged\n",
      "\n",
      "----------------30-----------------\n",
      "Generated Answer: Describe the purpose of the BGP FlowSpec Redirect action and how it affects network traffic.\n",
      "Choose the correct answer:\n",
      "a) BGP FlowSpec Redirect is used to filter incoming BGP routes based on their AS-Path\n",
      "b) BGP FlowSpec Redirect redirects incoming network traffic matching specified criteria to a designated next-hop\n",
      "c) BGP FlowSpec Redirect increases the BGP session timeout value, reducing BGP convergence time\n",
      "d) BGP FlowSpec Redirect optimizes the BGP Weight attribute for route selection\n",
      "\n",
      "Correct answer: b) BGP FlowSpec\n",
      "----------------31-----------------\n",
      "Generated Answer: What is the difference between BGP Route Refresh and BGP Full Withdraw?\n",
      "Choose the correct answer:\n",
      "a) BGP Route Refresh is used to advertise new routes, while BGP Full Withdraw indicates route errors\n",
      "b) BGP Route Refresh is a mechanism for re-advertising BGP routes, while BGP Full Withdraw removes all prefixes associated with a peer\n",
      "c) BGP Route Refresh is used for BGP prefix aggregation, while BGP Full Withdraw triggers route convergence\n",
      "d) BGP Route Refresh optimizes the BGP LOCAL-PREF attribute, while BGP Full Withdraw prevents route flapping\n",
      "\n",
      "----------------32-----------------\n",
      "Generated Answer: How does the BGP Add-Path feature enhance BGP route selection and convergence?\n",
      "Choose the correct answer:\n",
      "a) BGP Add-Path enables BGP routers to advertise multiple alternate paths for a given prefix\n",
      "b) BGP Add-Path decreases the BGP session establishment time, enhancing route convergence\n",
      "c) BGP Add-Path optimizes the BGP Weight attribute for route selection\n",
      "d) BGP Add-Path prevents BGP prefix hijacking by adding cryptographic signatures to BGP updates\n",
      "\n",
      "Answer: a) BGP Add-Path enables BGP\n",
      "Parsed_answer: a\n",
      "----------------33-----------------\n",
      "Generated Answer: What are BGP Route Reflection Clusters, and how do they contribute to BGP scalability?\n",
      "Choose the correct answer:\n",
      "a) BGP Route Reflection Clusters are used to enhance BGP security by encrypting BGP updates\n",
      "b) BGP Route Reflection Clusters group routers within an AS, reducing the number of BGP sessions needed for route reflection\n",
      "c) BGP Route Reflection Clusters prevent BGP prefix hijacking by using cryptographic verification\n",
      "d) BGP Route Reflection Clusters optimize the BGP MED attribute for efficient route selection\n",
      "\n",
      "----------------34-----------------\n",
      "Generated Answer: Explain the concept of BGP PIC (Prefix Independent Convergence) and its significance in enhancing network reliability.\n",
      "Choose the correct answer:\n",
      "a) BGP PIC ensures that BGP routers converge to the same routing table in the event of network failures\n",
      "b) BGP PIC introduces route summarization to improve BGP scalability\n",
      "c) BGP PIC reduces the BGP session establishment time, enhancing route convergence\n",
      "d) BGP PIC optimizes the BGP AS-Path attribute for efficient route selection\n",
      "\n",
      "Answer: a) BGP\n",
      "Parsed_answer: a\n",
      "----------------35-----------------\n",
      "['a', 'b', 'd', 'c', 'b', 'c', 'c', 'b', 'a', 'c', 'd', 'c', 'd', 'c', 'c', 'b', 'b', 'a', 'c', 'c', 'c', 'b', 'a', 'b', 'b', 'c', '', '', '', '', '', '', 'a', '', 'a']\n",
      "Correct\n",
      "Correct\n",
      "Correct\n",
      "Incorrect\n",
      "GPT answer: c. Correct answer: b\n",
      "Correct\n",
      "Correct\n",
      "Correct\n",
      "Correct\n",
      "Correct\n",
      "Correct\n",
      "Correct\n",
      "Incorrect\n",
      "GPT answer: c. Correct answer: b\n",
      "Incorrect\n",
      "GPT answer: d. Correct answer: b\n",
      "Correct\n",
      "Correct\n",
      "Incorrect\n",
      "GPT answer: b. Correct answer: c\n",
      "Incorrect\n",
      "GPT answer: b. Correct answer: c\n",
      "Correct\n",
      "Correct\n",
      "Correct\n",
      "Incorrect\n",
      "GPT answer: c. Correct answer: d\n",
      "Correct\n",
      "Incorrect\n",
      "GPT answer: a. Correct answer: b\n",
      "Correct\n",
      "Correct\n",
      "Correct\n",
      "Incorrect\n",
      "GPT answer: . Correct answer: a\n",
      "Incorrect\n",
      "GPT answer: . Correct answer: c\n",
      "Incorrect\n",
      "GPT answer: . Correct answer: b\n",
      "Incorrect\n",
      "GPT answer: . Correct answer: b\n",
      "Incorrect\n",
      "GPT answer: . Correct answer: b\n",
      "Incorrect\n",
      "GPT answer: . Correct answer: b\n",
      "Correct\n",
      "Incorrect\n",
      "GPT answer: . Correct answer: b\n",
      "Correct\n",
      "Accuracy: 60.00%\n",
      "Correct answers: 21\n",
      "Incorrect answers: 14\n"
     ]
    }
   ],
   "source": [
    "import json\n",
    "import re\n",
    "\n",
    "input_file_path = \"/home/hb/LLM-research/evaluation/bgp_test_multiple_choice_v2.json\" \n",
    "\n",
    "with open(input_file_path, \"r\") as input_file:\n",
    "    questions_data = json.load(input_file)\n",
    "\n",
    "pipe = pipeline(task=\"text-generation\", model=model, tokenizer=tokenizer, max_length=128)\n",
    "\n",
    "generated_answers = []\n",
    "ground_truth = [q_dict[\"answer\"] for q_dict in questions_data]\n",
    "\n",
    "n_question = 0\n",
    "for q_dict in questions_data:\n",
    "    question = q_dict[\"question\"]\n",
    "    options = q_dict[\"options\"]\n",
    "    \n",
    "    # Construct prompt with question and options\n",
    "    prompt = f\"{question}\\nChoose the correct answer:\\n\" + \"\\n\".join(options)\n",
    "    # print(prompt)\n",
    "    \n",
    "    # Generate answer using the language model\n",
    "    generated_answer = pipe(prompt)[0]['generated_text']\n",
    "    print(f\"Generated Answer: {generated_answer}\")\n",
    "    \n",
    "        # Parse the generated answer\n",
    "    answer_lines = generated_answer.splitlines()\n",
    "    parsed_answer = \"\"\n",
    "    for line in answer_lines:\n",
    "        if line.startswith(\"Answer: \"):\n",
    "            parsed_answer = re.search(r'\\b(\\w)\\)', line).group(1)\n",
    "            print(f\"Parsed_answer: {parsed_answer}\")\n",
    "            break\n",
    "    generated_answers.append(parsed_answer)\n",
    "    n_question += 1\n",
    "    print(f\"----------------{n_question}-----------------\")\n",
    "print(generated_answers)\n",
    "\n",
    "\n",
    "total_questions = len(questions_data)\n",
    "correct_answers = 0\n",
    "\n",
    "for ground_answer, generated_answer in zip(ground_truth, generated_answers):\n",
    "    if generated_answer.lower() == ground_answer.lower():\n",
    "        print(\"Correct\")\n",
    "        correct_answers += 1\n",
    "    else:\n",
    "        print(\"Incorrect\")\n",
    "        print(f\"GPT answer: {generated_answer}. Correct answer: {ground_answer}\")\n",
    "\n",
    "accuracy = (correct_answers / total_questions) * 100\n",
    "\n",
    "print(f\"Accuracy: {accuracy:.2f}%\")\n",
    "print(f\"Correct answers: {correct_answers}\")\n",
    "print(f\"Incorrect answers: {total_questions - correct_answers}\")"
   ]
  },
  {
   "cell_type": "code",
   "execution_count": 3,
   "metadata": {},
   "outputs": [
    {
     "name": "stderr",
     "output_type": "stream",
     "text": [
      "Setting `pad_token_id` to `eos_token_id`:2 for open-end generation.\n",
      "Setting `pad_token_id` to `eos_token_id`:2 for open-end generation.\n"
     ]
    },
    {
     "name": "stdout",
     "output_type": "stream",
     "text": [
      "Generated Answer: \n",
      "BGP (Border Gateway Protocol) is a standardized exterior gateway protocol used to exchange routing and reachability information between Autonomous Systems (AS) on the Internet. It enables the selection of paths and routes for data to flow efficiently between networks.\n",
      "Filled content:  Autonomous Systems (AS) \n",
      "---------------------1-----------------------------\n"
     ]
    },
    {
     "name": "stderr",
     "output_type": "stream",
     "text": [
      "Setting `pad_token_id` to `eos_token_id`:2 for open-end generation.\n"
     ]
    },
    {
     "name": "stdout",
     "output_type": "stream",
     "text": [
      "Generated Answer: \n",
      "In BGP, the AS-Path attribute represents the sequence of autonomous systems (ASes) that a route has traversed.\n",
      "\n",
      "So, the correct answer is:\n",
      "\n",
      "\"sequence of autonomous systems (ASes)\"\n",
      "Filled content:  sequence of autonomous s\n",
      "---------------------2-----------------------------\n"
     ]
    },
    {
     "name": "stderr",
     "output_type": "stream",
     "text": [
      "Setting `pad_token_id` to `eos_token_id`:2 for open-end generation.\n"
     ]
    },
    {
     "name": "stdout",
     "output_type": "stream",
     "text": [
      "Generated Answer: \n",
      "BGP routers exchange routing information using Open Message (OPEN) messages, which contain information about reachable destinations.\n",
      "Filled content:  Open Message (OPEN) mess\n",
      "---------------------3-----------------------------\n"
     ]
    },
    {
     "name": "stderr",
     "output_type": "stream",
     "text": [
      "Setting `pad_token_id` to `eos_token_id`:2 for open-end generation.\n"
     ]
    },
    {
     "name": "stdout",
     "output_type": "stream",
     "text": [
      "Generated Answer: \n",
      "BGP route aggregation is the process of combining multiple smaller IP prefixes into a single aggregated prefix.\n",
      "Filled content:  aggregation is the proce\n",
      "---------------------4-----------------------------\n"
     ]
    },
    {
     "name": "stderr",
     "output_type": "stream",
     "text": [
      "Setting `pad_token_id` to `eos_token_id`:2 for open-end generation.\n"
     ]
    },
    {
     "name": "stdout",
     "output_type": "stream",
     "text": [
      "Generated Answer: \n",
      "BGP hijacking refers to the malicious act of diverting traffic from its intended path to an attacker-controlled network.\n",
      "\n",
      "Correct! BGP hijacking is a type of cyber attack where an attacker exploits the Border Gate Protocol (BGP) to divert traffic from its intended path to an attack\n",
      "Filled content:  network.\n",
      "\n",
      "Correct! BGP h\n",
      "---------------------5-----------------------------\n"
     ]
    },
    {
     "name": "stderr",
     "output_type": "stream",
     "text": [
      "Setting `pad_token_id` to `eos_token_id`:2 for open-end generation.\n"
     ]
    },
    {
     "name": "stdout",
     "output_type": "stream",
     "text": [
      "Generated Answer: To reduce the number of BGP peers required for full mesh connectivity, BGP route aggregation can be implemented to consolidate updates.\n",
      "\n",
      "Route aggregation is a technique used in BGP to group multiple routes into a single route, allowing for more efficient updates and reducing the number of BGP peers required. By aggregating routes, a network can reduce the number of B\n",
      "Filled content: aggregation can be implem\n",
      "---------------------6-----------------------------\n"
     ]
    },
    {
     "name": "stderr",
     "output_type": "stream",
     "text": [
      "Setting `pad_token_id` to `eos_token_id`:2 for open-end generation.\n"
     ]
    },
    {
     "name": "stdout",
     "output_type": "stream",
     "text": [
      "Generated Answer: \n",
      "BGP monitoring tools can help identify unusual \"route leaks\" or \"route hijacks\" in BGP updates, indicating potential hijacking or misconfigurations.\n",
      "Filled content:  \"route leaks\" or \"route \n",
      "---------------------7-----------------------------\n"
     ]
    },
    {
     "name": "stderr",
     "output_type": "stream",
     "text": [
      "Setting `pad_token_id` to `eos_token_id`:2 for open-end generation.\n"
     ]
    },
    {
     "name": "stdout",
     "output_type": "stream",
     "text": [
      "Generated Answer: The attribute in BGP that allows routers to group routes into categories for applying specific policies is called \"Community.\"\n",
      "\n",
      "In BGP, a community is a set of routes that share a common attribute, such as a specific prefix or AS path. Communities can be used to group routes based on various criteria, such as origin, destination, or path characteristics. Once routes are grouped into communities, specific policies can be applied to\n",
      "Filled content: called \"Community.\"\n",
      "\n",
      "In B\n",
      "---------------------8-----------------------------\n"
     ]
    },
    {
     "name": "stderr",
     "output_type": "stream",
     "text": [
      "Setting `pad_token_id` to `eos_token_id`:2 for open-end generation.\n"
     ]
    },
    {
     "name": "stdout",
     "output_type": "stream",
     "text": [
      "Generated Answer: The BGP message used to establish a connection between BGP routers and exchange routing information is the \"Open Message\".\n",
      "\n",
      "The Open Message is a type of BGP message that is used to establish a connection between two BGP routers and exchange routing information. It is sent by one router to another to initiate the exchange of routing information and to establish a peering relationship between the two routers. The Open Message includes information\n",
      "Filled content: the \"Open Message\".\n",
      "\n",
      "The \n",
      "---------------------9-----------------------------\n"
     ]
    },
    {
     "name": "stderr",
     "output_type": "stream",
     "text": [
      "/home/hb/myenv/lib/python3.8/site-packages/transformers/pipelines/base.py:1083: UserWarning: You seem to be using the pipelines sequentially on GPU. In order to maximize efficiency please use a dataset\n",
      "  warnings.warn(\n",
      "Setting `pad_token_id` to `eos_token_id`:2 for open-end generation.\n"
     ]
    },
    {
     "name": "stdout",
     "output_type": "stream",
     "text": [
      "Generated Answer: The process of selecting the best route from multiple available routes based on various attributes in BGP is called route selection or route preference.\n",
      "Filled content: called route selection or\n",
      "---------------------10-----------------------------\n"
     ]
    },
    {
     "name": "stderr",
     "output_type": "stream",
     "text": [
      "Setting `pad_token_id` to `eos_token_id`:2 for open-end generation.\n"
     ]
    },
    {
     "name": "stdout",
     "output_type": "stream",
     "text": [
      "Generated Answer: The BGP attribute that influences the route selection process and can be used to prefer certain paths over others is the \"weight\" attribute.\n",
      "\n",
      "The weight attribute is a value that is associated with each BGP route and represents the relative preference of that route. The weight attribute can be used to influence the route selection process by giving higher weights to certain paths that are considered more desirable or stable. This can help to\n",
      "Filled content: the \"weight\" attribute.\n",
      "\n",
      "\n",
      "---------------------11-----------------------------\n"
     ]
    },
    {
     "name": "stderr",
     "output_type": "stream",
     "text": [
      "Setting `pad_token_id` to `eos_token_id`:2 for open-end generation.\n"
     ]
    },
    {
     "name": "stdout",
     "output_type": "stream",
     "text": [
      "Generated Answer: \n",
      "The attribute in BGP that indicates the preference of exit point for a route, often used in traffic engineering, is called \"Originator ID\" or \"Origin IP\".\n",
      "\n",
      "Originator ID is a field in the BGP update message that specifies the IP address of the router that originated the route. This field can be used to indicate the preferred exit point\n",
      "Filled content:  called \"Originator ID\" o\n",
      "---------------------12-----------------------------\n"
     ]
    },
    {
     "name": "stderr",
     "output_type": "stream",
     "text": [
      "Setting `pad_token_id` to `eos_token_id`:2 for open-end generation.\n"
     ]
    },
    {
     "name": "stdout",
     "output_type": "stream",
     "text": [
      "Generated Answer: \n",
      "BGP route advertisement allows an Autonomous System (AS) to advertise a route to a neighboring AS, causing traffic to be routed through that AS.\n",
      "Filled content:  advertisement allows an \n",
      "---------------------13-----------------------------\n"
     ]
    },
    {
     "name": "stderr",
     "output_type": "stream",
     "text": [
      "Setting `pad_token_id` to `eos_token_id`:2 for open-end generation.\n"
     ]
    },
    {
     "name": "stdout",
     "output_type": "stream",
     "text": [
      "Generated Answer: \n",
      "In BGP, networks use the Border Gateway Protocol (BGP) to exchange their reachability information and establish optimal routes for traffic flow.\n",
      "Filled content: the Border Gateway Protoc\n",
      "---------------------14-----------------------------\n"
     ]
    },
    {
     "name": "stderr",
     "output_type": "stream",
     "text": [
      "Setting `pad_token_id` to `eos_token_id`:2 for open-end generation.\n"
     ]
    },
    {
     "name": "stdout",
     "output_type": "stream",
     "text": [
      "Generated Answer: The phenomenon where the MED value of a route frequently changes, leading to instability, refers to BGP route churn.\n",
      "\n",
      "Therefore, the correct answer is:\n",
      "\n",
      "BGP route churn.\n",
      "Filled content: churn.\n",
      "\n",
      "Therefore, the co\n",
      "---------------------15-----------------------------\n"
     ]
    },
    {
     "name": "stderr",
     "output_type": "stream",
     "text": [
      "Setting `pad_token_id` to `eos_token_id`:2 for open-end generation.\n"
     ]
    },
    {
     "name": "stdout",
     "output_type": "stream",
     "text": [
      "Generated Answer: Route filtering in BGP involves detecting invalid or unauthorized BGP updates and filtering them to prevent their propagation.\n",
      "Filled content: filtering in BGP involves\n",
      "---------------------16-----------------------------\n"
     ]
    },
    {
     "name": "stderr",
     "output_type": "stream",
     "text": [
      "Setting `pad_token_id` to `eos_token_id`:2 for open-end generation.\n"
     ]
    },
    {
     "name": "stdout",
     "output_type": "stream",
     "text": [
      "Generated Answer: \n",
      "BGP routers establish a \"peer\" connection with their peers to exchange routing information.\n",
      "Filled content:  \"peer\" connection with t\n",
      "---------------------17-----------------------------\n"
     ]
    },
    {
     "name": "stderr",
     "output_type": "stream",
     "text": [
      "Setting `pad_token_id` to `eos_token_id`:2 for open-end generation.\n"
     ]
    },
    {
     "name": "stdout",
     "output_type": "stream",
     "text": [
      "Generated Answer: \n",
      "In BGP, the \"next hop\" attribute is used to indicate the next hop IP address for a route.\n",
      "\n",
      "So, the correct answer is:\n",
      "\n",
      "Next Hop\n",
      "Filled content:  \"next hop\" attribute is \n",
      "---------------------18-----------------------------\n"
     ]
    },
    {
     "name": "stderr",
     "output_type": "stream",
     "text": [
      "Setting `pad_token_id` to `eos_token_id`:2 for open-end generation.\n"
     ]
    },
    {
     "name": "stdout",
     "output_type": "stream",
     "text": [
      "Generated Answer: The advertisement of a more specific IP prefix to override a less specific prefix in BGP route involves \"route reflection.\"\n",
      "\n",
      "Therefore, the correct answer is:\n",
      "\n",
      "Route Reflection.\n",
      "Filled content: \"route reflection.\"\n",
      "\n",
      "Ther\n",
      "---------------------19-----------------------------\n"
     ]
    },
    {
     "name": "stderr",
     "output_type": "stream",
     "text": [
      "Setting `pad_token_id` to `eos_token_id`:2 for open-end generation.\n"
     ]
    },
    {
     "name": "stdout",
     "output_type": "stream",
     "text": [
      "Generated Answer: \n",
      "A type of BGP message used to establish a BGP session between routers and exchange information is the \"Open message\".\n",
      "\n",
      "So the correct answer is:\n",
      "\n",
      "Open message.\n",
      "Filled content:  the \"Open message\".\n",
      "\n",
      "So \n",
      "---------------------20-----------------------------\n"
     ]
    },
    {
     "name": "stderr",
     "output_type": "stream",
     "text": [
      "Setting `pad_token_id` to `eos_token_id`:2 for open-end generation.\n"
     ]
    },
    {
     "name": "stdout",
     "output_type": "stream",
     "text": [
      "Generated Answer: The process of optimizing the selection of routes based on factors like AS path length and local preference in BGP is called \"route reflection.\"\n",
      "\n",
      "Route reflection is a technique used by BGP speakers to select the best route based on factors such as AS path length, local preference, and origin validation. The goal of route reflection is to ensure that the shortest and most efficient path to a destination network is selected\n",
      "Filled content: called \"route reflection.\n",
      "---------------------21-----------------------------\n"
     ]
    },
    {
     "name": "stderr",
     "output_type": "stream",
     "text": [
      "Setting `pad_token_id` to `eos_token_id`:2 for open-end generation.\n"
     ]
    },
    {
     "name": "stdout",
     "output_type": "stream",
     "text": [
      "Generated Answer: The BGP message, used to confirm the establishment of a BGP session and synchronize routing information, plays a crucial role in maintaining the stability of network connections is BGP's OPEN message.\n",
      "\n",
      "The BGP OPEN message is used to establish a BGP session between two border routers and to exchange information about their respective networks\n",
      "Filled content: BGP's OPEN message.\n",
      "\n",
      "The \n",
      "---------------------22-----------------------------\n"
     ]
    },
    {
     "name": "stderr",
     "output_type": "stream",
     "text": [
      "Setting `pad_token_id` to `eos_token_id`:2 for open-end generation.\n"
     ]
    },
    {
     "name": "stdout",
     "output_type": "stream",
     "text": [
      "Generated Answer: \n",
      "A widely used technique, safeguards network integrity by selectively controlling the dissemination of specific routes across the network, thus ensuring controlled routing is BGP ________.\n",
      "\n",
      "The correct answer is: BGP route filtering.\n",
      "Filled content:  ________.\n",
      "\n",
      "The correct a\n",
      "---------------------23-----------------------------\n"
     ]
    },
    {
     "name": "stderr",
     "output_type": "stream",
     "text": [
      "Setting `pad_token_id` to `eos_token_id`:2 for open-end generation.\n"
     ]
    },
    {
     "name": "stdout",
     "output_type": "stream",
     "text": [
      "Generated Answer: \n",
      "An alarming security concern that involves unauthorized entities advertising IP prefixes they do not own, causing network traffic to be redirected to potentially malicious destinations is BGP hijacking.\n",
      "Filled content:  hijacking.\n",
      "---------------------24-----------------------------\n"
     ]
    },
    {
     "name": "stderr",
     "output_type": "stream",
     "text": [
      "Setting `pad_token_id` to `eos_token_id`:2 for open-end generation.\n"
     ]
    },
    {
     "name": "stdout",
     "output_type": "stream",
     "text": [
      "Generated Answer: A strategic practice within network administration, optimizes routing efficiency by merging several smaller IP prefixes into a singular, more streamlined aggregated prefix is BGP route _aggregation_.\n",
      "Filled content: _aggregation_.\n",
      "---------------------25-----------------------------\n"
     ]
    },
    {
     "name": "stderr",
     "output_type": "stream",
     "text": [
      "Setting `pad_token_id` to `eos_token_id`:2 for open-end generation.\n"
     ]
    },
    {
     "name": "stdout",
     "output_type": "stream",
     "text": [
      "Generated Answer: \n",
      "A process whereby a more specific IP prefix is deliberately advertised to take precedence over a broader one, thus influencing the route selection process is BGP route __________.\n",
      "\n",
      "The correct answer is: BGP route \"preference\".\n",
      "Filled content:  __________.\n",
      "\n",
      "The correct\n",
      "---------------------26-----------------------------\n"
     ]
    },
    {
     "name": "stderr",
     "output_type": "stream",
     "text": [
      "Setting `pad_token_id` to `eos_token_id`:2 for open-end generation.\n"
     ]
    },
    {
     "name": "stdout",
     "output_type": "stream",
     "text": [
      "Generated Answer: \n",
      "An attribute in BGP path that indicates the sequence of autonomous systems (ASes) that a route has traversed is _MULTI_EXIT_DISCRIMINATOR_.\n",
      "\n",
      "Fill the blank!\n",
      "Filled content:  _MULTI_EXIT_DISCRIMINATO\n",
      "---------------------27-----------------------------\n"
     ]
    },
    {
     "name": "stderr",
     "output_type": "stream",
     "text": [
      "Setting `pad_token_id` to `eos_token_id`:2 for open-end generation.\n"
     ]
    },
    {
     "name": "stdout",
     "output_type": "stream",
     "text": [
      "Generated Answer: \n",
      "BGP attribute employed to express the network's preferred exit point for a given route and often leveraged for efficient traffic engineering is MULTI-EXIT PERMITTING (MEP).\n",
      "\n",
      "MEP is a BGP attribute that allows a network to specify multiple exit points for a given route, indicating the network's preferred exit point\n",
      "Filled content:  MULTI-EXIT PERMITTING (M\n",
      "---------------------28-----------------------------\n"
     ]
    },
    {
     "name": "stderr",
     "output_type": "stream",
     "text": [
      "Setting `pad_token_id` to `eos_token_id`:2 for open-end generation.\n"
     ]
    },
    {
     "name": "stdout",
     "output_type": "stream",
     "text": [
      "Generated Answer: \n",
      "Tools designed to enhance network oversight, empower network administrators to promptly detect and respond to anomalies, potential hijacking attempts, and misconfigurations in routing called BGP route ________ tools.\n",
      "\n",
      "The correct answer\n",
      "Filled content:  ________ tools.\n",
      "\n",
      "The cor\n",
      "---------------------29-----------------------------\n"
     ]
    },
    {
     "name": "stderr",
     "output_type": "stream",
     "text": [
      "Setting `pad_token_id` to `eos_token_id`:2 for open-end generation.\n"
     ]
    },
    {
     "name": "stdout",
     "output_type": "stream",
     "text": [
      "Generated Answer: BGP suppression refers to the process of configuring routers to prevent the propagation of specific routes.\n",
      "Filled content: suppression refers to the\n",
      "---------------------30-----------------------------\n"
     ]
    },
    {
     "name": "stderr",
     "output_type": "stream",
     "text": [
      "Setting `pad_token_id` to `eos_token_id`:2 for open-end generation.\n"
     ]
    },
    {
     "name": "stdout",
     "output_type": "stream",
     "text": [
      "Generated Answer: BGP OPEN message is used for confirming BGP session establishment and synchronization.\n",
      "Filled content: OPEN message is used for \n",
      "---------------------31-----------------------------\n"
     ]
    },
    {
     "name": "stderr",
     "output_type": "stream",
     "text": [
      "Setting `pad_token_id` to `eos_token_id`:2 for open-end generation.\n"
     ]
    },
    {
     "name": "stdout",
     "output_type": "stream",
     "text": [
      "Generated Answer: \n",
      "BGP multi-exit routing helps reduce the need for full mesh connectivity by allowing a router to reflect routes to multiple peers.\n",
      "Filled content:  multi-exit routing helps\n",
      "---------------------32-----------------------------\n"
     ]
    },
    {
     "name": "stderr",
     "output_type": "stream",
     "text": [
      "Setting `pad_token_id` to `eos_token_id`:2 for open-end generation.\n"
     ]
    },
    {
     "name": "stdout",
     "output_type": "stream",
     "text": [
      "Generated Answer: BGP route selection ______________ involves manipulating the BGP attributes to control the selection of routes.\n",
      "\n",
      "The correct answer is: BGP route selection ______________ involves manipulating the BGP attributes to control the selection of routes.\n",
      "\n",
      "Explanation:\n",
      "\n",
      "BGP (Border Gateway Protocol) is a routing protocol used to exchange routing information among autonomous systems (AS) on the internet. BGP route\n",
      "Filled content: selection ______________ \n",
      "---------------------33-----------------------------\n"
     ]
    },
    {
     "name": "stderr",
     "output_type": "stream",
     "text": [
      "Setting `pad_token_id` to `eos_token_id`:2 for open-end generation.\n"
     ]
    },
    {
     "name": "stdout",
     "output_type": "stream",
     "text": [
      "Generated Answer: \n",
      "BGP peering is used for establishing BGP session connections and exchanging routing information.\n",
      "Filled content:  peering is used for esta\n",
      "---------------------34-----------------------------\n",
      "Generated Answer: The phenomenon where the Multi-Exit Discriminator (MED) value of a route frequently changes is referred to as \"MED oscillations.\"\n",
      "\n",
      "Therefore, the correct answer is:\n",
      "\n",
      "MED oscillations.\n",
      "Filled content:  as \"MED oscillations.\"\n",
      "\n",
      "\n",
      "---------------------35-----------------------------\n"
     ]
    },
    {
     "ename": "",
     "evalue": "",
     "output_type": "error",
     "traceback": [
      "\u001b[1;31mThe Kernel crashed while executing code in the the current cell or a previous cell. Please review the code in the cell(s) to identify a possible cause of the failure. Click <a href='https://aka.ms/vscodeJupyterKernelCrash'>here</a> for more info. View Jupyter <a href='command:jupyter.viewOutput'>log</a> for further details."
     ]
    }
   ],
   "source": [
    "import json\n",
    "import re\n",
    "\n",
    "input_file_path = \"/home/hb/fine-tuning-alpaca/evaluation/bgp_test_fill_the_blank.json\" \n",
    "\n",
    "with open(input_file_path, \"r\") as input_file:\n",
    "    questions_data = json.load(input_file)\n",
    "\n",
    "pipe = pipeline(task=\"text-generation\", model=model, tokenizer=tokenizer, max_length=128)\n",
    "\n",
    "generated_answers = []\n",
    "filled_answers = []\n",
    "\n",
    "n_question = 0\n",
    "for q_dict in questions_data:\n",
    "    question = q_dict[\"question\"]\n",
    "    answer = q_dict[\"answer\"]\n",
    "\n",
    "    # Generate answer using the language model\n",
    "    prompt = f\"[INST]{question} \\n Fill the blank: \\n [/INST]\"\n",
    "    generated_answer = pipe(prompt)[0]['generated_text']\n",
    "    # print(f\"Output: {generated_answer}\")\n",
    "    \n",
    "    generated_answer = re.search(r'\\[/INST\\]\\s+(.*)', generated_answer, re.DOTALL).group(1).strip()\n",
    "    if \"Sure\" in generated_answer:\n",
    "        generated_answer = generated_answer.split('\\n', 1)[1]  # Skip the first line\n",
    "    print(f\"Generated Answer: {generated_answer}\")\n",
    "    generated_answers.append(generated_answer)\n",
    "    \n",
    "    # Find the position of the placeholder in the first string\n",
    "    placeholder_position = question.find(\"________\")\n",
    "\n",
    "    # Extract the content filled in the placeholder\n",
    "    filled_content = generated_answer[placeholder_position:placeholder_position + len(\"autonomous systems (ASes)\")]\n",
    "    filled_answers.append(filled_content)\n",
    "    n_question += 1\n",
    "    print(f\"Filled content: {filled_content}\")\n",
    "    print(f\"---------------------{n_question}-----------------------------\")\n"
   ]
  },
  {
   "cell_type": "code",
   "execution_count": null,
   "metadata": {},
   "outputs": [],
   "source": []
  }
 ],
 "metadata": {
  "kernelspec": {
   "display_name": "myenv",
   "language": "python",
   "name": "python3"
  },
  "language_info": {
   "codemirror_mode": {
    "name": "ipython",
    "version": 3
   },
   "file_extension": ".py",
   "mimetype": "text/x-python",
   "name": "python",
   "nbconvert_exporter": "python",
   "pygments_lexer": "ipython3",
   "version": "3.8.16"
  },
  "orig_nbformat": 4
 },
 "nbformat": 4,
 "nbformat_minor": 2
}
