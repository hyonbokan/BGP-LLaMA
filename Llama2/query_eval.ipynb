{
 "cells": [
  {
   "cell_type": "code",
   "execution_count": 1,
   "metadata": {},
   "outputs": [],
   "source": [
    "import sqlite3\n",
    "concert_singer = \"../database/concert_singer.db\""
   ]
  },
  {
   "cell_type": "code",
   "execution_count": 3,
   "metadata": {},
   "outputs": [],
   "source": [
    "def read_query(db, sql):\n",
    "    conn = sqlite3.connect(db)\n",
    "    cur = conn.cursor()\n",
    "    cur.execute(sql)\n",
    "    rows = cur.fetchall()\n",
    "    for row in rows:\n",
    "        print(row)\n",
    "    conn.close()\n",
    "    "
   ]
  },
  {
   "cell_type": "code",
   "execution_count": 4,
   "metadata": {},
   "outputs": [
    {
     "name": "stdout",
     "output_type": "stream",
     "text": [
      "(6,)\n"
     ]
    }
   ],
   "source": [
    "read_query(db=concert_singer, sql=\"SELECT count(*) FROM singer\")"
   ]
  },
  {
   "cell_type": "code",
   "execution_count": 5,
   "metadata": {},
   "outputs": [
    {
     "name": "stdout",
     "output_type": "stream",
     "text": [
      "(34.5, 25, 43)\n"
     ]
    }
   ],
   "source": [
    "read_query(db=concert_singer, sql=\"Select AVG(age), MIN(age), MAX(age) from singer where country = 'France'\")"
   ]
  },
  {
   "cell_type": "code",
   "execution_count": 7,
   "metadata": {},
   "outputs": [],
   "source": [
    "read_query(db=concert_singer, sql=\"SELECT LOCATION, name FROM stadium WHERE capacity BETWEEN 5000 AND 10000\")"
   ]
  },
  {
   "cell_type": "code",
   "execution_count": 8,
   "metadata": {},
   "outputs": [
    {
     "name": "stdout",
     "output_type": "stream",
     "text": [
      "('France', 4)\n",
      "('Netherlands', 1)\n",
      "('United States', 1)\n"
     ]
    }
   ],
   "source": [
    "read_query(db=concert_singer, sql=\"SELECT country ,  count(*) FROM singer GROUP BY country\")"
   ]
  },
  {
   "cell_type": "code",
   "execution_count": 9,
   "metadata": {},
   "outputs": [
    {
     "name": "stdout",
     "output_type": "stream",
     "text": [
      "('Somerset Park', 11998)\n"
     ]
    }
   ],
   "source": [
    "read_query(db=concert_singer, sql=\"SELECT T2.name ,  T2.capacity FROM concert AS T1 JOIN stadium AS T2 ON T1.stadium_id  =  T2.stadium_id WHERE T1.year  >=  2014 GROUP BY T2.stadium_id ORDER BY count(*) DESC LIMIT 1\")"
   ]
  },
  {
   "cell_type": "code",
   "execution_count": 10,
   "metadata": {},
   "outputs": [
    {
     "name": "stdout",
     "output_type": "stream",
     "text": [
      "('Joe Sharp', 'Netherlands', 52)\n",
      "('John Nizinik', 'France', 43)\n",
      "('Rose White', 'France', 41)\n",
      "('Timbaland', 'United States', 32)\n",
      "('Justin Brown', 'France', 29)\n",
      "('Tribal King', 'France', 25)\n"
     ]
    }
   ],
   "source": [
    "read_query(db=concert_singer, sql=\"SELECT name ,  country ,  age FROM singer ORDER BY age DESC\")"
   ]
  },
  {
   "cell_type": "code",
   "execution_count": 1,
   "metadata": {},
   "outputs": [
    {
     "name": "stdout",
     "output_type": "stream",
     "text": [
      "Extracted data saved to 'extracted_data.json'\n"
     ]
    }
   ],
   "source": [
    "import json\n",
    "\n",
    "# Load the JSON data from a file\n",
    "with open('/home/hb/LLM-research/finetuning_dataset/BGP_knowledge_regen_v2.json', 'r') as file:\n",
    "    data = json.load(file)\n",
    "\n",
    "# Create a new list to store the extracted fields\n",
    "extracted_data = []\n",
    "\n",
    "# Loop through each object in the JSON data\n",
    "for item in data:\n",
    "    if \"instruction\" in item and \"input\" in item and \"output\" in item:\n",
    "        extracted_item = {\n",
    "            \"instruction\": item[\"instruction\"],\n",
    "            \"input\": item[\"input\"],\n",
    "            \"output\": item[\"output\"]\n",
    "        }\n",
    "        extracted_data.append(extracted_item)\n",
    "\n",
    "# Save the extracted data into a new JSON file\n",
    "with open('BGP_knowledge_v2.json', 'w') as output_file:\n",
    "    json.dump(extracted_data, output_file, indent=4)\n",
    "\n",
    "print(\"Extracted data saved to 'extracted_data.json'\")\n"
   ]
  },
  {
   "cell_type": "code",
   "execution_count": 10,
   "metadata": {},
   "outputs": [
    {
     "name": "stdout",
     "output_type": "stream",
     "text": [
      "Data from file1.json and file2.json merged and saved to merged.json.\n"
     ]
    }
   ],
   "source": [
    "import json\n",
    "\n",
    "# Load data from the first JSON file\n",
    "with open('/home/hb/LLM-research/finetuning_dataset/BGP_knowledge_all.json', 'r') as file1:\n",
    "    data1 = json.load(file1)\n",
    "\n",
    "# Load data from the second JSON file\n",
    "with open('/home/hb/LLM-research/finetuning_dataset/PyBGPStream/BGPStream_data_main.json', 'r') as file2:\n",
    "    data2 = json.load(file2)\n",
    "\n",
    "# Merge the data from both files\n",
    "merged_data = data1 + data2  # Assuming both files contain lists of objects\n",
    "\n",
    "# Save the merged data into a new JSON file\n",
    "with open('BGP_knowledge_pybgpstream.json', 'w') as merged_file:\n",
    "    json.dump(merged_data, merged_file, indent=4)\n",
    "\n",
    "print(\"Data from file1.json and file2.json merged and saved to merged.json.\")\n"
   ]
  },
  {
   "cell_type": "code",
   "execution_count": 11,
   "metadata": {},
   "outputs": [
    {
     "name": "stdout",
     "output_type": "stream",
     "text": [
      "Number of elements in the JSON object: 26578\n"
     ]
    }
   ],
   "source": [
    "import json\n",
    "\n",
    "jsonfile = \"/home/hb/LLM-research/Llama2/BGP_knowledge_pybgpstream.json\"\n",
    "\n",
    "# Load JSON data from file\n",
    "with open(jsonfile, \"r\") as f:\n",
    "    json_data = json.load(f)\n",
    "\n",
    "# Calculate the number of elements in the JSON object\n",
    "num_elements = len(json_data)\n",
    "\n",
    "print(\"Number of elements in the JSON object:\", num_elements)"
   ]
  },
  {
   "cell_type": "code",
   "execution_count": null,
   "metadata": {},
   "outputs": [],
   "source": []
  }
 ],
 "metadata": {
  "kernelspec": {
   "display_name": "myenv",
   "language": "python",
   "name": "python3"
  },
  "language_info": {
   "codemirror_mode": {
    "name": "ipython",
    "version": 3
   },
   "file_extension": ".py",
   "mimetype": "text/x-python",
   "name": "python",
   "nbconvert_exporter": "python",
   "pygments_lexer": "ipython3",
   "version": "3.8.16"
  },
  "orig_nbformat": 4
 },
 "nbformat": 4,
 "nbformat_minor": 2
}
