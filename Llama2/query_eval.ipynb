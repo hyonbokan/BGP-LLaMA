{
 "cells": [
  {
   "cell_type": "code",
   "execution_count": 3,
   "metadata": {},
   "outputs": [],
   "source": [
    "import sqlite3\n",
    "chinook = \"./Chinook.db\"\n",
    "concert_singer = \"/home/hb/spider/database/concert_singer/schema.sql\""
   ]
  },
  {
   "cell_type": "code",
   "execution_count": 2,
   "metadata": {},
   "outputs": [],
   "source": [
    "def read_query(db, sql):\n",
    "    conn = sqlite3.connect(db)\n",
    "    cur = conn.cursor()\n",
    "    cur.execute(sql)\n",
    "    rows = cur.fetchall()\n",
    "    for row in rows:\n",
    "        print(row)\n",
    "    conn.close()\n",
    "    "
   ]
  },
  {
   "cell_type": "code",
   "execution_count": 28,
   "metadata": {},
   "outputs": [
    {
     "name": "stdout",
     "output_type": "stream",
     "text": [
      "('Album',)\n",
      "('Artist',)\n",
      "('Customer',)\n",
      "('Employee',)\n",
      "('Genre',)\n",
      "('Invoice',)\n",
      "('InvoiceLine',)\n",
      "('MediaType',)\n",
      "('Playlist',)\n",
      "('PlaylistTrack',)\n",
      "('Track',)\n"
     ]
    }
   ],
   "source": [
    "read_query(\"SELECT name FROM sqlite_master WHERE type='table';\")"
   ]
  },
  {
   "cell_type": "code",
   "execution_count": 29,
   "metadata": {},
   "outputs": [
    {
     "name": "stdout",
     "output_type": "stream",
     "text": [
      "(1,)\n"
     ]
    }
   ],
   "source": [
    "read_query(\"SELECT COUNT(*) FROM Album WHERE ArtistId = (SELECT ArtistId FROM Artist WHERE Name = 'Aerosmith')\")"
   ]
  },
  {
   "cell_type": "code",
   "execution_count": 30,
   "metadata": {},
   "outputs": [
    {
     "name": "stdout",
     "output_type": "stream",
     "text": [
      "(8,)\n"
     ]
    }
   ],
   "source": [
    "read_query(\"SELECT COUNT(*) FROM Employee\")"
   ]
  },
  {
   "cell_type": "code",
   "execution_count": 31,
   "metadata": {},
   "outputs": [
    {
     "name": "stdout",
     "output_type": "stream",
     "text": [
      "('You Shook Me',)\n",
      "(\"I Can't Quit You Baby\",)\n",
      "('Communication Breakdown',)\n",
      "('Dazed and Confused',)\n",
      "('The Girl I Love She Got Long Black Wavy Hair',)\n",
      "('What is and Should Never Be',)\n",
      "('Communication Breakdown(2)',)\n",
      "('Travelling Riverside Blues',)\n",
      "('Whole Lotta Love',)\n",
      "(\"Somethin' Else\",)\n"
     ]
    }
   ],
   "source": [
    "sql_query = f\"\"\"\n",
    "    SELECT Track.Name\n",
    "    FROM Track\n",
    "    INNER JOIN Album ON Track.AlbumId = Album.AlbumId\n",
    "    INNER JOIN Artist ON Album.ArtistId = Artist.ArtistId\n",
    "    WHERE Artist.Name = 'Led Zeppelin'\n",
    "    LIMIT 10\n",
    "\"\"\"\n",
    "\n",
    "read_query(sql_query)"
   ]
  },
  {
   "cell_type": "code",
   "execution_count": 1,
   "metadata": {},
   "outputs": [],
   "source": [
    "import sqlite3\n",
    "conn = sqlite3.connect(\"/home/hb/spider/database/concert_singer/schema.sql\")\n",
    "cursor = conn.cursor()"
   ]
  },
  {
   "cell_type": "code",
   "execution_count": null,
   "metadata": {},
   "outputs": [],
   "source": []
  }
 ],
 "metadata": {
  "kernelspec": {
   "display_name": "myenv",
   "language": "python",
   "name": "python3"
  },
  "language_info": {
   "codemirror_mode": {
    "name": "ipython",
    "version": 3
   },
   "file_extension": ".py",
   "mimetype": "text/x-python",
   "name": "python",
   "nbconvert_exporter": "python",
   "pygments_lexer": "ipython3",
   "version": "3.8.16"
  },
  "orig_nbformat": 4
 },
 "nbformat": 4,
 "nbformat_minor": 2
}
