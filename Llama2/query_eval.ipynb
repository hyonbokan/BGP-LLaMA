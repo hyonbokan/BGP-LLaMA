{
 "cells": [
  {
   "cell_type": "code",
   "execution_count": 14,
   "metadata": {},
   "outputs": [],
   "source": [
    "import sqlite3\n",
    "conn = sqlite3.connect(\"./Chinook.db\")\n",
    "cursor = conn.cursor()"
   ]
  },
  {
   "cell_type": "code",
   "execution_count": 10,
   "metadata": {},
   "outputs": [
    {
     "name": "stdout",
     "output_type": "stream",
     "text": [
      "List of tables:\n",
      "Album\n",
      "Artist\n",
      "Customer\n",
      "Employee\n",
      "Genre\n",
      "Invoice\n",
      "InvoiceLine\n",
      "MediaType\n",
      "Playlist\n",
      "PlaylistTrack\n",
      "Track\n"
     ]
    }
   ],
   "source": [
    "sql_query = \"SELECT name FROM sqlite_master WHERE type='table';\"\n",
    "\n",
    "cursor.execute(sql_query)\n",
    "tables = cursor.fetchall()\n",
    "\n",
    "\n",
    "print(\"List of tables:\")\n",
    "for table in tables:\n",
    "    print(table[0])"
   ]
  },
  {
   "cell_type": "code",
   "execution_count": 12,
   "metadata": {},
   "outputs": [
    {
     "name": "stdout",
     "output_type": "stream",
     "text": [
      "Number of albums by Aerosmith: 1\n"
     ]
    }
   ],
   "source": [
    "sql_query = f\"\"\"\n",
    "    SELECT COUNT(*) \n",
    "    FROM Album \n",
    "    WHERE ArtistId = (\n",
    "        SELECT ArtistId \n",
    "        FROM Artist \n",
    "        WHERE Name = 'Aerosmith' \n",
    "    )\n",
    "\"\"\"\n",
    "\n",
    "cursor.execute(sql_query)\n",
    "result = cursor.fetchone()\n",
    "num_albums = result[0]\n",
    "\n",
    "print(f\"Number of albums by Aerosmith: {num_albums}\")"
   ]
  },
  {
   "cell_type": "code",
   "execution_count": 18,
   "metadata": {},
   "outputs": [
    {
     "name": "stdout",
     "output_type": "stream",
     "text": [
      "Number of employees in the employees table: 8\n"
     ]
    }
   ],
   "source": [
    "sql_query = \"SELECT COUNT(*) FROM Employee\"\n",
    "\n",
    "# Execute the query and fetch the result\n",
    "cursor.execute(sql_query)\n",
    "result = cursor.fetchone()\n",
    "num_employees = result[0]\n",
    "\n",
    "print(f\"Number of employees in the employees table: {num_employees}\")"
   ]
  },
  {
   "cell_type": "code",
   "execution_count": 21,
   "metadata": {},
   "outputs": [
    {
     "ename": "OperationalError",
     "evalue": "no such table: tracks",
     "output_type": "error",
     "traceback": [
      "\u001b[0;31m---------------------------------------------------------------------------\u001b[0m",
      "\u001b[0;31mOperationalError\u001b[0m                          Traceback (most recent call last)",
      "Cell \u001b[0;32mIn[21], line 10\u001b[0m\n\u001b[1;32m      1\u001b[0m sql_query \u001b[39m=\u001b[39m \u001b[39mf\u001b[39m\u001b[39m\"\"\"\u001b[39m\n\u001b[1;32m      2\u001b[0m \u001b[39m    SELECT Track.Name, Album.Title, Artist.Name\u001b[39m\n\u001b[1;32m      3\u001b[0m \u001b[39m    FROM tracks\u001b[39m\n\u001b[0;32m   (...)\u001b[0m\n\u001b[1;32m      7\u001b[0m \u001b[39m    LIMIT 10\u001b[39m\n\u001b[1;32m      8\u001b[0m \u001b[39m\"\"\"\u001b[39m\n\u001b[0;32m---> 10\u001b[0m cursor\u001b[39m.\u001b[39;49mexecute(sql_query)\n\u001b[1;32m     11\u001b[0m results \u001b[39m=\u001b[39m cursor\u001b[39m.\u001b[39mfetchall()\n\u001b[1;32m     13\u001b[0m \u001b[39mprint\u001b[39m(\u001b[39m\"\u001b[39m\u001b[39mExample tracks by Johann Sebastian Bach:\u001b[39m\u001b[39m\"\u001b[39m)\n",
      "\u001b[0;31mOperationalError\u001b[0m: no such table: tracks"
     ]
    }
   ],
   "source": [
    "sql_query = f\"\"\"\n",
    "    SELECT Track.Name, Album.Title, Artist.Name\n",
    "    FROM tracks\n",
    "    INNER JOIN Album ON Track.AlbumId = Album.AlbumId\n",
    "    INNER JOIN Artist ON Album.ArtistId = Artist.ArtistId\n",
    "    WHERE Artist.Name = 'Johann Sebastian Bach'\n",
    "    LIMIT 10\n",
    "\"\"\"\n",
    "\n",
    "cursor.execute(sql_query)\n",
    "results = cursor.fetchall()\n",
    "\n",
    "print(\"Example tracks by Johann Sebastian Bach:\")\n",
    "for track_name, album_title, artist_name in results:\n",
    "    print(f\"Track: {track_name} | Album: {album_title} | Artist: {artist_name}\")"
   ]
  },
  {
   "cell_type": "code",
   "execution_count": null,
   "metadata": {},
   "outputs": [],
   "source": []
  }
 ],
 "metadata": {
  "kernelspec": {
   "display_name": "myenv",
   "language": "python",
   "name": "python3"
  },
  "language_info": {
   "codemirror_mode": {
    "name": "ipython",
    "version": 3
   },
   "file_extension": ".py",
   "mimetype": "text/x-python",
   "name": "python",
   "nbconvert_exporter": "python",
   "pygments_lexer": "ipython3",
   "version": "3.8.16"
  },
  "orig_nbformat": 4
 },
 "nbformat": 4,
 "nbformat_minor": 2
}
