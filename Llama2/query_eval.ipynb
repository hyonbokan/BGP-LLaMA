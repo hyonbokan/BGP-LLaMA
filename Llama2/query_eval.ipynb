{
 "cells": [
  {
   "cell_type": "code",
   "execution_count": 1,
   "metadata": {},
   "outputs": [],
   "source": [
    "import sqlite3\n",
    "concert_singer = \"../database/concert_singer.db\""
   ]
  },
  {
   "cell_type": "code",
   "execution_count": 3,
   "metadata": {},
   "outputs": [],
   "source": [
    "def read_query(db, sql):\n",
    "    conn = sqlite3.connect(db)\n",
    "    cur = conn.cursor()\n",
    "    cur.execute(sql)\n",
    "    rows = cur.fetchall()\n",
    "    for row in rows:\n",
    "        print(row)\n",
    "    conn.close()\n",
    "    "
   ]
  },
  {
   "cell_type": "code",
   "execution_count": 4,
   "metadata": {},
   "outputs": [
    {
     "name": "stdout",
     "output_type": "stream",
     "text": [
      "(6,)\n"
     ]
    }
   ],
   "source": [
    "read_query(db=concert_singer, sql=\"SELECT count(*) FROM singer\")"
   ]
  },
  {
   "cell_type": "code",
   "execution_count": 5,
   "metadata": {},
   "outputs": [
    {
     "name": "stdout",
     "output_type": "stream",
     "text": [
      "(34.5, 25, 43)\n"
     ]
    }
   ],
   "source": [
    "read_query(db=concert_singer, sql=\"Select AVG(age), MIN(age), MAX(age) from singer where country = 'France'\")"
   ]
  },
  {
   "cell_type": "code",
   "execution_count": 7,
   "metadata": {},
   "outputs": [],
   "source": [
    "read_query(db=concert_singer, sql=\"SELECT LOCATION, name FROM stadium WHERE capacity BETWEEN 5000 AND 10000\")"
   ]
  },
  {
   "cell_type": "code",
   "execution_count": 8,
   "metadata": {},
   "outputs": [
    {
     "name": "stdout",
     "output_type": "stream",
     "text": [
      "('France', 4)\n",
      "('Netherlands', 1)\n",
      "('United States', 1)\n"
     ]
    }
   ],
   "source": [
    "read_query(db=concert_singer, sql=\"SELECT country ,  count(*) FROM singer GROUP BY country\")"
   ]
  },
  {
   "cell_type": "code",
   "execution_count": 9,
   "metadata": {},
   "outputs": [
    {
     "name": "stdout",
     "output_type": "stream",
     "text": [
      "('Somerset Park', 11998)\n"
     ]
    }
   ],
   "source": [
    "read_query(db=concert_singer, sql=\"SELECT T2.name ,  T2.capacity FROM concert AS T1 JOIN stadium AS T2 ON T1.stadium_id  =  T2.stadium_id WHERE T1.year  >=  2014 GROUP BY T2.stadium_id ORDER BY count(*) DESC LIMIT 1\")"
   ]
  },
  {
   "cell_type": "code",
   "execution_count": 10,
   "metadata": {},
   "outputs": [
    {
     "name": "stdout",
     "output_type": "stream",
     "text": [
      "('Joe Sharp', 'Netherlands', 52)\n",
      "('John Nizinik', 'France', 43)\n",
      "('Rose White', 'France', 41)\n",
      "('Timbaland', 'United States', 32)\n",
      "('Justin Brown', 'France', 29)\n",
      "('Tribal King', 'France', 25)\n"
     ]
    }
   ],
   "source": [
    "read_query(db=concert_singer, sql=\"SELECT name ,  country ,  age FROM singer ORDER BY age DESC\")"
   ]
  },
  {
   "cell_type": "code",
   "execution_count": null,
   "metadata": {},
   "outputs": [],
   "source": []
  }
 ],
 "metadata": {
  "kernelspec": {
   "display_name": "myenv",
   "language": "python",
   "name": "python3"
  },
  "language_info": {
   "codemirror_mode": {
    "name": "ipython",
    "version": 3
   },
   "file_extension": ".py",
   "mimetype": "text/x-python",
   "name": "python",
   "nbconvert_exporter": "python",
   "pygments_lexer": "ipython3",
   "version": "3.8.16"
  },
  "orig_nbformat": 4
 },
 "nbformat": 4,
 "nbformat_minor": 2
}
