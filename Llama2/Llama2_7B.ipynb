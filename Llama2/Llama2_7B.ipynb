{
 "cells": [
  {
   "cell_type": "code",
   "execution_count": 8,
   "metadata": {},
   "outputs": [
    {
     "data": {
      "application/vnd.jupyter.widget-view+json": {
       "model_id": "c57c4be9003d4a2c891c8c0ec7275321",
       "version_major": 2,
       "version_minor": 0
      },
      "text/plain": [
       "VBox(children=(HTML(value='<center> <img\\nsrc=https://huggingface.co/front/assets/huggingface_logo-noborder.sv…"
      ]
     },
     "metadata": {},
     "output_type": "display_data"
    }
   ],
   "source": [
    "from huggingface_hub import notebook_login\n",
    "notebook_login()"
   ]
  },
  {
   "cell_type": "code",
   "execution_count": 1,
   "metadata": {},
   "outputs": [
    {
     "data": {
      "application/vnd.jupyter.widget-view+json": {
       "model_id": "e4faab10a2a4486ab244e18ab18aedef",
       "version_major": 2,
       "version_minor": 0
      },
      "text/plain": [
       "Loading checkpoint shards:   0%|          | 0/2 [00:00<?, ?it/s]"
      ]
     },
     "metadata": {},
     "output_type": "display_data"
    },
    {
     "name": "stdout",
     "output_type": "stream",
     "text": [
      "Model loaded on cuda:0\n"
     ]
    }
   ],
   "source": [
    "from torch import cuda, bfloat16\n",
    "import transformers\n",
    "import os\n",
    "from torch import cuda, bfloat16\n",
    "import transformers\n",
    "from transformers import (\n",
    "    AutoModelForCausalLM,\n",
    "    AutoTokenizer,\n",
    "    BitsAndBytesConfig,\n",
    "    HfArgumentParser,\n",
    "    TrainingArguments,\n",
    "    pipeline,\n",
    "    logging,\n",
    ")\n",
    "# bnb_config = transformers.BitsAndBytesConfig(\n",
    "#     load_in_4bit=True,\n",
    "#     bnb_4bit_quant_type='nf4',\n",
    "#     bnb_4bit_use_double_quant=True,\n",
    "#     bnb_4bit_compute_dtype=bfloat16\n",
    "# )\n",
    "\n",
    "model_id = 'meta-llama/Llama-2-7b-chat-hf'\n",
    "\n",
    "device = f'cuda:{cuda.current_device()}' if cuda.is_available() else 'cpu'\n",
    "\n",
    "# Need auth token for these\n",
    "hf_auth = os.environ.get('hf_token')\n",
    "model_config = transformers.AutoConfig.from_pretrained(\n",
    "    model_id,\n",
    "    use_auth_token=hf_auth\n",
    ")\n",
    "\n",
    "model = transformers.AutoModelForCausalLM.from_pretrained(\n",
    "    model_id,\n",
    "    trust_remote_code=True,\n",
    "    config=model_config,\n",
    "    # quantization_config=bnb_config,\n",
    "    device_map='auto',\n",
    "    use_auth_token=hf_auth\n",
    ")\n",
    "model.eval()\n",
    "print(f\"Model loaded on {device}\")"
   ]
  },
  {
   "cell_type": "code",
   "execution_count": 2,
   "metadata": {},
   "outputs": [],
   "source": [
    "tokenizer = transformers.AutoTokenizer.from_pretrained(\n",
    "    model_id,\n",
    "    use_auth_token=hf_auth\n",
    ")\n",
    "tokenizer.pad_token = tokenizer.eos_token\n",
    "tokenizer.pad_token_id = tokenizer.eos_token_id\n",
    "tokenizer.padding_side = \"right\""
   ]
  },
  {
   "cell_type": "code",
   "execution_count": 3,
   "metadata": {},
   "outputs": [
    {
     "name": "stdout",
     "output_type": "stream",
     "text": [
      "<s>[INST] Given a n3.pcap file containing network traffic data, create a Python script using scapy library to process the PCAP. The script should extract the source IP, destination IP, source port, destination port, and the raw payload data for each packet in the PCAP. Store this data in a pandas DataFrame and display it. [/INST]  Sure! Here is an example of how you can use the `scapy` library to process a PCAP file and extract the desired information in Python:\n",
      "```\n",
      "import scapy\n",
      "import pandas as pd\n",
      "\n",
      "# Load the PCAP file\n",
      "pcap = scapy.load(\"n3.pcap\")\n",
      "\n",
      "# Extract the source IP, destination IP, source port, destination port, and payload data for each packet\n",
      "packets = [pcap.packet for p in pcap.packets]\n",
      "source_ips = [p.src for p in packets]\n",
      "destination_ips = [p.dst for p in packets]\n",
      "source_ports = [p.srcport for p in packets]\n",
      "destination_ports = [p.dstport for p in packets]\n",
      "payloads = [p.payload for p in packets]\n",
      "\n",
      "# Create a pandas DataFrame with the extracted information\n",
      "df = pd.DataFrame({\"Source IP\": source_ips, \"Destination IP\": destination_ips, \"Source Port\": source_ports, \"Destination Port\": destination_ports, \"Payload\": payloads})\n",
      "\n",
      "# Display the DataFrame\n",
      "print(df)\n",
      "```\n",
      "This script first loads the PCAP file using the `scapy.load()` function. Then, it iterates over each packet in the PCAP using the `scapy.packet` list, and extracts the source IP, destination IP, source port, destination port, and payload data for each packet using the `src`, `dst`, `srcport`, `dstport`, and `payload` attributes, respectively.\n",
      "\n",
      "Finally, the script creates a pandas DataFrame with the extracted information using the `pd.DataFrame()` function, and displays the DataFrame using the `print()` function.\n",
      "\n",
      "Note that the `scapy` library provides many other functions and methods that can be used to process and analyze network traffic data. For example, you can use the `scapy.packet.show()` function to display the raw packet data, or the `scapy.packet.decode()` function to decode the payload data of a packet.\n"
     ]
    }
   ],
   "source": [
    "logging.set_verbosity(logging.CRITICAL)\n",
    "\n",
    "# Run text generation pipeline with our next model\n",
    "prompt = \"Given a n3.pcap file containing network traffic data, create a Python script using scapy library to process the PCAP. The script should extract the source IP, destination IP, source port, destination port, and the raw payload data for each packet in the PCAP. Store this data in a pandas DataFrame and display it.\"\n",
    "pipe = pipeline(task=\"text-generation\", model=model, tokenizer=tokenizer, max_length=1012)\n",
    "result = pipe(f\"<s>[INST] {prompt} [/INST]\")\n",
    "print(result[0]['generated_text'])"
   ]
  },
  {
   "cell_type": "markdown",
   "metadata": {},
   "source": [
    "# 5G General Knowledge"
   ]
  },
  {
   "cell_type": "code",
   "execution_count": null,
   "metadata": {},
   "outputs": [],
   "source": [
    "import json\n",
    "import re\n",
    "\n",
    "input_file_path = \"/home/hb/LLM-research/evaluation/5G_SPEC/5G_multi_choice.json\" \n",
    "\n",
    "with open(input_file_path, \"r\") as input_file:\n",
    "    questions_data = json.load(input_file)\n",
    "\n",
    "pipe = pipeline(task=\"text-generation\", model=model, tokenizer=tokenizer, max_length=128)\n",
    "\n",
    "generated_answers = []\n",
    "ground_truth = [q_dict[\"answer\"] for q_dict in questions_data]\n",
    "n_question = 0\n",
    "\n",
    "for q_dict in questions_data:\n",
    "    question = q_dict[\"question\"]\n",
    "    options = q_dict[\"choices\"]\n",
    "    \n",
    "    # Construct prompt with question and options\n",
    "    prompt = f\"Choose the correct answer: {question}\\n\" + \"\\n\".join(options)\n",
    "    # print(prompt)\n",
    "    \n",
    "    # Generate answer using the language model\n",
    "    generated_answer = pipe(prompt)[0]['generated_text']\n",
    "    print(f\"Generated Answer: {generated_answer}\")\n",
    "    \n",
    "    match = re.search(r'(Answer:|Correct answer:)\\s*((?:[A-D]\\)\\s*)?[\\w\\s()\\-/]+)', generated_answer)\n",
    "    if match:\n",
    "        parsed_answer = match.group(2).strip()\n",
    "        \n",
    "        # Exclude the \"Explanation\" part from the parsed answer if present\n",
    "        explanation_start = parsed_answer.find(\"\\nExplanation\")\n",
    "        if explanation_start != -1:\n",
    "            parsed_answer = parsed_answer[:explanation_start].strip()\n",
    "        \n",
    "        print(f\"Parsed_answer: {parsed_answer}\")\n",
    "        generated_answers.append(parsed_answer)\n",
    "    else:\n",
    "        print(\"No answer detected.\")\n",
    "        generated_answers.append(\"N/A\")\n",
    "    \n",
    "    n_question += 1\n",
    "    print(f\"----------------{n_question}-----------------\")\n",
    "print(generated_answers)\n",
    "\n",
    "\n",
    "total_questions = len(questions_data)\n",
    "correct_answers = 0\n",
    "\n",
    "for ground_answer, generated_answer in zip(ground_truth, generated_answers):\n",
    "    if generated_answer.lower() == ground_answer.lower():\n",
    "        print(\"Correct\")\n",
    "        correct_answers += 1\n",
    "    else:\n",
    "        print(f\"GPT answer: {generated_answer}. Correct answer: {ground_answer}\")\n",
    "        print(\"Incorrect\")\n",
    "\n",
    "accuracy = (correct_answers / total_questions) * 100\n",
    "\n",
    "print(f\"Accuracy: {accuracy:.2f}%\")\n",
    "print(f\"Correct answers: {correct_answers}\")\n",
    "print(f\"Incorrect answers: {total_questions - correct_answers}\")"
   ]
  },
  {
   "cell_type": "code",
   "execution_count": null,
   "metadata": {},
   "outputs": [],
   "source": [
    "import json\n",
    "\n",
    "input_file_path = \"/home/hb/LLM-research/evaluation/5G_SPEC/5G_SPEC_QA.json\" \n",
    "\n",
    "with open(input_file_path, \"r\") as input_file:\n",
    "    questions_data = json.load(input_file)\n",
    "\n",
    "pipe = pipeline(task=\"text-generation\", model=model, tokenizer=tokenizer, max_length=512)\n",
    "\n",
    "generated_answers_qa = []\n",
    "\n",
    "n_question = 0\n",
    "for q_dict in questions_data:\n",
    "    n_question += 1\n",
    "    question = q_dict[\"question\"]\n",
    "    # Generate answer using the language model\n",
    "    prompt = f\"[INST]{question}[/INST]\"\n",
    "    generated_answer = pipe(prompt)[0]['generated_text']\n",
    "    print(f\"Output: {generated_answer}\")\n",
    "    generated_answers_qa.append(generated_answer)\n",
    "    print(f\"---------------------{n_question}-----------------------------\")"
   ]
  },
  {
   "cell_type": "markdown",
   "metadata": {},
   "source": [
    "`Network config QA`: Pass"
   ]
  },
  {
   "cell_type": "markdown",
   "metadata": {},
   "source": [
    "# 5G analysis knowledge"
   ]
  },
  {
   "cell_type": "code",
   "execution_count": 11,
   "metadata": {},
   "outputs": [
    {
     "name": "stderr",
     "output_type": "stream",
     "text": [
      "Setting `pad_token_id` to `eos_token_id`:2 for open-end generation.\n"
     ]
    },
    {
     "name": "stderr",
     "output_type": "stream",
     "text": [
      "Setting `pad_token_id` to `eos_token_id`:2 for open-end generation.\n"
     ]
    },
    {
     "name": "stdout",
     "output_type": "stream",
     "text": [
      "Generated Answer: Choose the correct answer. What happens to packets larger than the Maximum SDU size in the network?\n",
      "a) Always dropped\n",
      "b) Forwarded with increased QoS\n",
      "c) Implementation specific\n",
      "d) Always forwarded with no changes\n",
      "\n",
      "Answer: b) Forwarded with increased QoS\n",
      "\n",
      "Explanation: When a packet is larger than the Maximum SDU size, it is broken down into smaller packets called PDUs (Packet Data Units). These PDUs are then forwarded through the network with increased QoS (Quality of Service) to ensure that\n",
      "Parsed_answer: b\n",
      "----------------1-----------------\n"
     ]
    },
    {
     "name": "stderr",
     "output_type": "stream",
     "text": [
      "Setting `pad_token_id` to `eos_token_id`:2 for open-end generation.\n"
     ]
    },
    {
     "name": "stdout",
     "output_type": "stream",
     "text": [
      "Generated Answer: Choose the correct answer. The Maximum Transfer Unit (MTU) of the IP layer and the Maximum SDU Size:\n",
      "a) Are directly related\n",
      "b) Have no relationship\n",
      "c) Are the same\n",
      "d) Depend on the GGSN\n",
      "\n",
      "Answer: a) Are directly related\n",
      "\n",
      "Explanation: The Maximum Transfer Unit (MTU) of the IP layer and the Maximum SDU Size are directly related. The MTU of the IP layer determines the maximum size of the Segmentation Data Unit (SDU) that can be transmitted over an IP network.\n",
      "Parsed_answer: a\n",
      "----------------2-----------------\n"
     ]
    },
    {
     "name": "stderr",
     "output_type": "stream",
     "text": [
      "Setting `pad_token_id` to `eos_token_id`:2 for open-end generation.\n"
     ]
    },
    {
     "name": "stdout",
     "output_type": "stream",
     "text": [
      "Generated Answer: Choose the correct answer. Why does RAN need SDU size information?\n",
      "a) For IP fragmentation\n",
      "b) For efficient use of the radio spectrum\n",
      "c) To operate in transparent RLC protocol mode\n",
      "d) For GGSN optimization\n",
      "\n",
      "Answer: b) For efficient use of the radio spectrum\n",
      "\n",
      "Explanation: RAN (Radio Access Network) needs SDU (Service Data Unit) size information to efficiently use the radio spectrum. The SDU size determines the maximum amount of data that can be transmitted in a single radio transmission. By knowing the SDU size, the RAN can\n",
      "Parsed_answer: b\n",
      "----------------3-----------------\n"
     ]
    },
    {
     "name": "stderr",
     "output_type": "stream",
     "text": [
      "Setting `pad_token_id` to `eos_token_id`:2 for open-end generation.\n"
     ]
    },
    {
     "name": "stdout",
     "output_type": "stream",
     "text": [
      "Generated Answer: Choose the correct answer. What does SDU error ratio indicate?\n",
      "a) Fraction of SDUs dropped\n",
      "b) Fraction of SDUs forwarded with decreased QoS\n",
      "c) Fraction of SDUs lost or detected as erroneous\n",
      "d) Efficiency of the RLC protocol\n",
      "\n",
      "Answer: c) Fraction of SDUs lost or detected as erroneous\n",
      "\n",
      "Explanation: SDU error ratio is a measure of the number of lost or erroneous SDUs divided by the total number of SDUs transmitted. It indicates the level of error detection and correction in\n",
      "Parsed_answer: c\n",
      "----------------4-----------------\n"
     ]
    },
    {
     "name": "stderr",
     "output_type": "stream",
     "text": [
      "Setting `pad_token_id` to `eos_token_id`:2 for open-end generation.\n"
     ]
    },
    {
     "name": "stdout",
     "output_type": "stream",
     "text": [
      "Generated Answer: Choose the correct answer. Which attribute specifies the relative importance of the UMTS bearer compared to other bearers?\n",
      "a) Maximum bitrate\n",
      "b) Traffic handling priority\n",
      "c) Allocation/Retention Priority\n",
      "d) Guaranteed bitrate\n",
      "Answer: b) Traffic handling priority\n",
      "\n",
      "Which of the following is a characteristic of the UMTS bearer?\n",
      "a) It is a dedicated bearer\n",
      "b) It is a shared bearer\n",
      "c) It is a best-effort bearer\n",
      "d) It is a guaranteed bearer\n",
      "Answer: b\n",
      "Parsed_answer: b\n",
      "----------------5-----------------\n"
     ]
    },
    {
     "name": "stderr",
     "output_type": "stream",
     "text": [
      "Setting `pad_token_id` to `eos_token_id`:2 for open-end generation.\n"
     ]
    },
    {
     "name": "stdout",
     "output_type": "stream",
     "text": [
      "Generated Answer: Choose the correct answer. What happens to packets larger than the Maximum SDU size in the network?\n",
      "a) Always dropped\n",
      "b) Forwarded with increased QoS\n",
      "c) Implementation specific\n",
      "d) Always forwarded with no changes\n",
      "\n",
      "Answer: b) Forwarded with increased QoS\n",
      "\n",
      "Explanation: When a packet is larger than the Maximum SDU size, it is broken down into smaller packets called PDUs (Packet Data Units). These PDUs are then forwarded through the network with increased QoS (Quality of Service) to ensure that\n",
      "Parsed_answer: b\n",
      "----------------6-----------------\n"
     ]
    },
    {
     "name": "stderr",
     "output_type": "stream",
     "text": [
      "Setting `pad_token_id` to `eos_token_id`:2 for open-end generation.\n"
     ]
    },
    {
     "name": "stdout",
     "output_type": "stream",
     "text": [
      "Generated Answer: Choose the correct answer. The Maximum Transfer Unit (MTU) of the IP layer and the Maximum SDU Size:\n",
      "a) Are directly related\n",
      "b) Have no relationship\n",
      "c) Are the same\n",
      "d) Depend on the GGSN\n",
      "\n",
      "Answer: a) Are directly related\n",
      "\n",
      "Explanation: The Maximum Transfer Unit (MTU) of the IP layer and the Maximum SDU Size are directly related. The MTU of the IP layer determines the maximum size of the Segmentation Data Unit (SDU) that can be transmitted over an IP network.\n",
      "Parsed_answer: a\n",
      "----------------7-----------------\n"
     ]
    },
    {
     "name": "stderr",
     "output_type": "stream",
     "text": [
      "Setting `pad_token_id` to `eos_token_id`:2 for open-end generation.\n"
     ]
    },
    {
     "name": "stdout",
     "output_type": "stream",
     "text": [
      "Generated Answer: Choose the correct answer. Why does RAN need SDU size information?\n",
      "a) For IP fragmentation\n",
      "b) For efficient use of the radio spectrum\n",
      "c) To operate in transparent RLC protocol mode\n",
      "d) For GGSN optimization\n",
      "\n",
      "Answer: b) For efficient use of the radio spectrum\n",
      "\n",
      "Explanation: RAN (Radio Access Network) needs SDU (Service Data Unit) size information to efficiently use the radio spectrum. The SDU size determines the maximum amount of data that can be transmitted in a single radio transmission. By knowing the SDU size, the RAN can\n",
      "Parsed_answer: b\n",
      "----------------8-----------------\n"
     ]
    },
    {
     "name": "stderr",
     "output_type": "stream",
     "text": [
      "Setting `pad_token_id` to `eos_token_id`:2 for open-end generation.\n"
     ]
    },
    {
     "name": "stdout",
     "output_type": "stream",
     "text": [
      "Generated Answer: Choose the correct answer. What does SDU error ratio indicate?\n",
      "a) Fraction of SDUs dropped\n",
      "b) Fraction of SDUs forwarded with decreased QoS\n",
      "c) Fraction of SDUs lost or detected as erroneous\n",
      "d) Efficiency of the RLC protocol\n",
      "\n",
      "Answer: c) Fraction of SDUs lost or detected as erroneous\n",
      "\n",
      "Explanation: SDU error ratio is a measure of the number of lost or erroneous SDUs divided by the total number of SDUs transmitted. It indicates the level of error detection and correction in\n",
      "Parsed_answer: c\n",
      "----------------9-----------------\n"
     ]
    },
    {
     "name": "stderr",
     "output_type": "stream",
     "text": [
      "/home/hb/myenv/lib/python3.8/site-packages/transformers/pipelines/base.py:1083: UserWarning: You seem to be using the pipelines sequentially on GPU. In order to maximize efficiency please use a dataset\n",
      "  warnings.warn(\n",
      "Setting `pad_token_id` to `eos_token_id`:2 for open-end generation.\n"
     ]
    },
    {
     "name": "stdout",
     "output_type": "stream",
     "text": [
      "Generated Answer: Choose the correct answer. Which attribute specifies the relative importance of the UMTS bearer compared to other bearers?\n",
      "a) Maximum bitrate\n",
      "b) Traffic handling priority\n",
      "c) Allocation/Retention Priority\n",
      "d) Guaranteed bitrate\n",
      "Answer: b) Traffic handling priority\n",
      "\n",
      "Which of the following is a characteristic of the UMTS bearer?\n",
      "a) It is a dedicated bearer\n",
      "b) It is a shared bearer\n",
      "c) It is a best-effort bearer\n",
      "d) It is a guaranteed bearer\n",
      "Answer: b\n",
      "Parsed_answer: b\n",
      "----------------10-----------------\n"
     ]
    },
    {
     "name": "stderr",
     "output_type": "stream",
     "text": [
      "Setting `pad_token_id` to `eos_token_id`:2 for open-end generation.\n"
     ]
    },
    {
     "name": "stdout",
     "output_type": "stream",
     "text": [
      "Generated Answer: Choose the correct answer. What is the purpose of including the traffic class itself as an attribute in Radio Access Bearer Service Attributes?\n",
      "a) To standardize the attributes across different network components\n",
      "b) RAN can make assumptions about the traffic source and optimise the transport for that traffic type\n",
      "c) To enhance the security of transmitted data\n",
      "d) To synchronize traffic flows across different bearers\n",
      "\n",
      "Answer: a) To standardize the attributes across different network components.\n",
      "\n",
      "Explanation: Including the traffic class as an attribute in Radio Access Bearer Service Attributes helps standardize the attributes\n",
      "Parsed_answer: a\n",
      "----------------11-----------------\n"
     ]
    },
    {
     "name": "stderr",
     "output_type": "stream",
     "text": [
      "Setting `pad_token_id` to `eos_token_id`:2 for open-end generation.\n"
     ]
    },
    {
     "name": "stdout",
     "output_type": "stream",
     "text": [
      "Generated Answer: Choose the correct answer. For what purpose might the Guaranteed bitrate be used?\n",
      "a) To ensure consistent connection speed across devices\n",
      "b) To facilitate admission control and for resource allocation within RAN\n",
      "c) To prioritize certain traffic types over others\n",
      "d) To maintain the QoS for high-priority services\n",
      "\n",
      "Answer: b) To facilitate admission control and for resource allocation within RAN.\n",
      "\n",
      "Explanation: The Guaranteed bitrate is used to facilitate admission control and resource allocation within the Radio Access Network (RAN). It is used to\n",
      "Parsed_answer: b\n",
      "----------------12-----------------\n"
     ]
    },
    {
     "name": "stderr",
     "output_type": "stream",
     "text": [
      "Setting `pad_token_id` to `eos_token_id`:2 for open-end generation.\n"
     ]
    },
    {
     "name": "stdout",
     "output_type": "stream",
     "text": [
      "Generated Answer: Choose the correct answer. What is the use of the SDU format information?\n",
      "a) To assist in efficient packet fragmentation and reassembly\n",
      "b) To assist in route optimization for transmitted data\n",
      "c) To define which bits of the payload belong to each subflow\n",
      "d) To assist in load balancing across multiple links\n",
      "\n",
      "Answer: a) To assist in efficient packet fragmentation and reassembly\n",
      "\n",
      "Explanation: The SDU (Service Data Unit) format information is used to assist in efficient packet fragmentation and reassembly. This is because the SDU format information includes information about the length of\n",
      "Parsed_answer: a\n",
      "----------------13-----------------\n"
     ]
    },
    {
     "name": "stderr",
     "output_type": "stream",
     "text": [
      "Setting `pad_token_id` to `eos_token_id`:2 for open-end generation.\n"
     ]
    },
    {
     "name": "stdout",
     "output_type": "stream",
     "text": [
      "Generated Answer: Choose the correct answer. The Residual bit error ratio is used to?\n",
      "a) Configure radio interface protocols, algorithms, and error detection coding\n",
      "b) Enhance the overall QoS for end users\n",
      "c) Improve the handover process between different network nodes\n",
      "d) Adjust the power levels in the transmitting device\n",
      "\n",
      "Answer: a) Configure radio interface protocols, algorithms, and error detection coding\n",
      "\n",
      "Explanation: The Residual Bit Error Ratio (RBER) is a measure of the error rate in a digital communication system after the forward error correction\n",
      "Parsed_answer: a\n",
      "----------------14-----------------\n"
     ]
    },
    {
     "name": "stderr",
     "output_type": "stream",
     "text": [
      "Setting `pad_token_id` to `eos_token_id`:2 for open-end generation.\n"
     ]
    },
    {
     "name": "stdout",
     "output_type": "stream",
     "text": [
      "Generated Answer: Choose the correct answer. What shall the PDN GW modify if the subscribed ARP parameter has been changed?\n",
      "a) All dedicated S2a bearers with the new ARP value\n",
      "b) All dedicated S2a bearers with the previously subscribed ARP value\n",
      "c) Only the default bearer\n",
      "d) None of the above\n",
      "\n",
      "Answer: b) All dedicated S2a bearers with the previously subscried ARP value\n",
      "\n",
      "Explanation: If the subscribed ARP parameter has been changed, the PDN GW needs to modify all dedicated S2a bearers with\n",
      "Parsed_answer: b\n",
      "----------------15-----------------\n"
     ]
    },
    {
     "name": "stderr",
     "output_type": "stream",
     "text": [
      "Setting `pad_token_id` to `eos_token_id`:2 for open-end generation.\n"
     ]
    },
    {
     "name": "stdout",
     "output_type": "stream",
     "text": [
      "Generated Answer: Choose the correct answer. What message does the trusted non-3GPP IP access send to acknowledge the bearer modification to the PDN GW?\n",
      "a) Update Bearer Request\n",
      "b) Update Bearer Response\n",
      "c) Create Session Request\n",
      "d) Delete Bearer Request\n",
      "\n",
      "Answer: b) Update Bearer Response\n",
      "\n",
      "Explanation: When the PDN GW receives a bearer modification request from the trusted non-3GPP IP access, it sends an Update Bearer Response message to acknowledge the request. This message contains the updated bearer context for the PDN connection\n",
      "Parsed_answer: b\n",
      "----------------16-----------------\n"
     ]
    },
    {
     "name": "stderr",
     "output_type": "stream",
     "text": [
      "Setting `pad_token_id` to `eos_token_id`:2 for open-end generation.\n"
     ]
    },
    {
     "name": "stdout",
     "output_type": "stream",
     "text": [
      "Generated Answer: Choose the correct answer. What happens if the default bearer belonging to a PDN connection is deactivated?\n",
      "a) Only the default bearer is deactivated\n",
      "b) All bearers belonging to the PDN connection are deactivated\n",
      "c) The PDN GW retains the PDN address\n",
      "d) The PDN GW releases the PDN address\n",
      "\n",
      "Answer: b) All bearers belonging to the PDN connection are deactivated\n",
      "\n",
      "Explanation: When the default bearer belonging to a PDN connection is deactivated, all bearers belonging to the PDN\n",
      "Parsed_answer: b\n",
      "----------------17-----------------\n"
     ]
    },
    {
     "name": "stderr",
     "output_type": "stream",
     "text": [
      "Setting `pad_token_id` to `eos_token_id`:2 for open-end generation.\n"
     ]
    },
    {
     "name": "stdout",
     "output_type": "stream",
     "text": [
      "Generated Answer: Choose the correct answer. In the Local Breakout case, which entities are responsible for forwarding messages?\n",
      "a) PDN GW and hPCRF\n",
      "b) vPCRF and hPCRF\n",
      "c) PDN GW and vPCRF\n",
      "d) None of the above\n",
      "\n",
      "Answer: b) vPCRF and hPCRF\n",
      "\n",
      "Explanation: In the Local Breakout case, the vPCRF and hPCRF are responsible for forwarding messages. The PDN GW is not involved in message forwarding in this case.\n",
      "Parsed_answer: b\n",
      "----------------18-----------------\n"
     ]
    },
    {
     "name": "stderr",
     "output_type": "stream",
     "text": [
      "Setting `pad_token_id` to `eos_token_id`:2 for open-end generation.\n"
     ]
    },
    {
     "name": "stdout",
     "output_type": "stream",
     "text": [
      "Generated Answer: Choose the correct answer. What does the RAT type indicate?\n",
      "a) The 3GPP IP access technology type\n",
      "b) The non-3GPP IP access technology type\n",
      "c) Both 3GPP and non-3GPP IP access technology types\n",
      "d) Neither 3GPP nor non-3GPP IP access technology types\n",
      "\n",
      "Answer: b) The non-3GPP IP access technology type\n",
      "\n",
      "Explanation: The RAT (Radio Access Technology) type indicates the type of non-3GPP IP access technology used by the device. In this case,\n",
      "Parsed_answer: b\n",
      "----------------19-----------------\n"
     ]
    },
    {
     "name": "stderr",
     "output_type": "stream",
     "text": [
      "Setting `pad_token_id` to `eos_token_id`:2 for open-end generation.\n"
     ]
    },
    {
     "name": "stdout",
     "output_type": "stream",
     "text": [
      "Generated Answer: Choose the correct answer. When the WLAN is considered trusted by the operator, how is it interfaced?\n",
      "a) Via STa to the 3GPP AAA to EPC through S2a\n",
      "b) Only via S2a\n",
      "c) Only via 3GPP AAA\n",
      "d) None of the above\n",
      "Answer: b) Only via S2a\n",
      "\n",
      "Explanation: When the WLAN is considered trusted by the operator, it is interfaced with the EPC through S2a. This is the only option that is correct.\n",
      "\n",
      "Reference\n",
      "Parsed_answer: b\n",
      "----------------20-----------------\n"
     ]
    },
    {
     "name": "stderr",
     "output_type": "stream",
     "text": [
      "Setting `pad_token_id` to `eos_token_id`:2 for open-end generation.\n"
     ]
    },
    {
     "name": "stdout",
     "output_type": "stream",
     "text": [
      "Generated Answer: Choose the correct answer. What might STa need to be enhanced to support?\n",
      "a) An indication on whether the Trusted WLAN AN supports S2a\n",
      "b) The SSID selected by the UE\n",
      "c) The APN the user is to be associated with for EPC access\n",
      "d) All of the above\n",
      "\n",
      "Answer: d) All of the above\n",
      "\n",
      "Explanation:\n",
      "\n",
      "STa (System Information) message is used to convey information about the cell and the network to the UE. The message includes information such as the cell ID, the MCC and MNC of\n",
      "Parsed_answer: d\n",
      "----------------21-----------------\n"
     ]
    },
    {
     "name": "stderr",
     "output_type": "stream",
     "text": [
      "Setting `pad_token_id` to `eos_token_id`:2 for open-end generation.\n"
     ]
    },
    {
     "name": "stdout",
     "output_type": "stream",
     "text": [
      "Generated Answer: Choose the correct answer. Which entity is associated with the SWw reference point?\n",
      "a) WLAN UE's connection to EPC for data transfer\n",
      "b) Link between 3GPP AAA Server and WLAN AN for EAP messages\n",
      "c) Communication interface between UE and HSS\n",
      "d) Pathway from TNAN to AAA server over STa for authentication\n",
      "\n",
      "Answer: b) Link between 3GPP AAA Server and WLAN AN for EAP messages\n",
      "\n",
      "Explanation: The SWw reference point is associated with the link between the 3G\n",
      "Parsed_answer: b\n",
      "----------------22-----------------\n"
     ]
    },
    {
     "name": "stderr",
     "output_type": "stream",
     "text": [
      "Setting `pad_token_id` to `eos_token_id`:2 for open-end generation.\n"
     ]
    },
    {
     "name": "stdout",
     "output_type": "stream",
     "text": [
      "Generated Answer: Choose the correct answer. What capability might the TNAN indicate to the AAA server via STa?\n",
      "a) Ability to support IPv6 addressing exclusively\n",
      "b) Capacity to handle both S2a and non-seamless offload\n",
      "c) Bandwidth allocation per UE for data traffic\n",
      "d) Selection logic for PDN Gateway for routing data traffic\n",
      "\n",
      "Answer: b) Capacity to handle both S2a and non-seamless offload\n",
      "\n",
      "Explanation:\n",
      "The TNAN (Tracking Area Identity) is a value that identifies a\n",
      "Parsed_answer: b\n",
      "----------------23-----------------\n"
     ]
    },
    {
     "name": "stderr",
     "output_type": "stream",
     "text": [
      "Setting `pad_token_id` to `eos_token_id`:2 for open-end generation.\n"
     ]
    },
    {
     "name": "stdout",
     "output_type": "stream",
     "text": [
      "Generated Answer: Choose the correct answer. What consequence follows when a UE dispatches a DHCPv4 message for IPv4 address release?\n",
      "a) UE's migration from IPv4 to IPv6 addressing\n",
      "b) Initiation of Bearer Modification by the PDN GW\n",
      "c) Severance of PDN connection when the connection type is IPv4\n",
      "d) Sustainment of the existing PDN connection without interruption\n",
      "\n",
      "Answer: c) Severance of PDN connection when the connection type is IPv4\n",
      "\n",
      "Explanation: When a UE dispatches a D\n",
      "Parsed_answer: c\n",
      "----------------24-----------------\n"
     ]
    },
    {
     "name": "stderr",
     "output_type": "stream",
     "text": [
      "Setting `pad_token_id` to `eos_token_id`:2 for open-end generation.\n"
     ]
    },
    {
     "name": "stdout",
     "output_type": "stream",
     "text": [
      "Generated Answer: Choose the correct answer. What should the source MME/SSGSN do if the target MME/SSGSN doesn't support the SGW restoration procedure?\n",
      "a) Transfer the PDN connection to a different SGW\n",
      "b) Continue with the standard SGW relocation procedure\n",
      "c) Reject the Handover Required/Relocation Required message and release the S1/Iu/radio resources\n",
      "d) Wait for the target MME/SSGSN to update its SGW restoration support\n",
      "\n",
      "Answer: b) Continue with the standard SG\n",
      "Parsed_answer: b\n",
      "----------------25-----------------\n"
     ]
    },
    {
     "name": "stderr",
     "output_type": "stream",
     "text": [
      "Setting `pad_token_id` to `eos_token_id`:2 for open-end generation.\n"
     ]
    },
    {
     "name": "stdout",
     "output_type": "stream",
     "text": [
      "Generated Answer: Choose the correct answer. What happens when the T-Release-GBR timer expires in the PGW?\n",
      "a) The PGW initiates a new SGW restoration process\n",
      "b) The PGW releases GBR bearers that haven't been restored yet and informs the PCRF\n",
      "c) The PGW maintains the PDN connections without any change\n",
      "d) The PGW attempts to restore the PDN connection with the MME/SSGSN\n",
      "\n",
      "Answer: b) The PGW releases GBR bearers that haven't been restored yet\n",
      "Parsed_answer: b\n",
      "----------------26-----------------\n"
     ]
    },
    {
     "name": "stderr",
     "output_type": "stream",
     "text": [
      "Setting `pad_token_id` to `eos_token_id`:2 for open-end generation.\n"
     ]
    },
    {
     "name": "stdout",
     "output_type": "stream",
     "text": [
      "Generated Answer: Choose the correct answer. For which reason might the PGW reject an IP-CAN session modification procedure after an SGW failure?\n",
      "a) If the request includes changing the PDN connection route\n",
      "b) If the request includes the installation/modification of PCC rules\n",
      "c) If the PGW has already initiated a new SGW restoration process\n",
      "d) If the MME/SSGSN has already restored the PDN connection\n",
      "\n",
      "Answer: a) If the request includes changing the PDN connection route.\n",
      "\n",
      "Explanation: The PGW may reject an IP\n",
      "Parsed_answer: a\n",
      "----------------27-----------------\n"
     ]
    },
    {
     "name": "stderr",
     "output_type": "stream",
     "text": [
      "Setting `pad_token_id` to `eos_token_id`:2 for open-end generation.\n"
     ]
    },
    {
     "name": "stdout",
     "output_type": "stream",
     "text": [
      "Generated Answer: Choose the correct answer. What does OMR stand for in the context of the provided text?\n",
      "Optimized Media Routeing\n",
      "Operational Management Review\n",
      "Online Music Recorder\n",
      "Optical Message Reading\n",
      "Answer: B - Operational Management Review.\n",
      "\n",
      "Explanation: In the context of the provided text, OMR stands for Operational Management Review, which is a process used to evaluate and improve the efficiency and effectiveness of an organization's operations.\n",
      "Parsed_answer: Couldn't parse the answer\n",
      "----------------28-----------------\n"
     ]
    },
    {
     "name": "stderr",
     "output_type": "stream",
     "text": [
      "Setting `pad_token_id` to `eos_token_id`:2 for open-end generation.\n"
     ]
    },
    {
     "name": "stdout",
     "output_type": "stream",
     "text": [
      "Generated Answer: Choose the correct answer. What protocol is mentioned alongside SIP for OMR based signaling flows?\n",
      "HTTP\n",
      "SMTP\n",
      "SDP\n",
      "UDP\n",
      "\n",
      "Answer: SDP (Session Description Protocol) is mentioned alongside SIP for OMR based signaling flows.\n",
      "\n",
      "Explanation: OMR (On-Media Resource) is a mechanism that allows for the signaling of media resources on the client-side, without the need for a separate signaling protocol. SIP (Session Initiation Protocol) is used for initiating, modifying, and terminating sessions, but it does not provide the\n",
      "Parsed_answer: Couldn't parse the answer\n",
      "----------------29-----------------\n",
      "Generated Answer: Choose the correct answer. What is the role of IBCF in the provided context?\n",
      "Allocating MR context\n",
      "Decoding audio files\n",
      "Compressing video streams\n",
      "Routing email traffic\n",
      "IBCF (Intelligent Bridging and Control Function) is a network function that provides intelligent bridging and control of network traffic. It is used to manage and direct traffic in a network, based on various factors such as traffic type, source and destination, and network conditions.\n",
      "In the provided context, IBCF is responsible for routing email traffic. Therefore, the correct answer is (D) Routing\n",
      "----------------30-----------------\n",
      "['b', 'a', 'b', 'c', 'b', 'b', 'a', 'b', 'c', 'b', 'a', 'b', 'a', 'a', 'b', 'b', 'b', 'b', 'b', 'b', 'd', 'b', 'b', 'c', 'b', 'b', 'a', \"Couldn't parse the answer\", \"Couldn't parse the answer\", '']\n",
      "GPT answer: b. Correct answer: c\n",
      "Incorrect\n",
      "GPT answer: a. Correct answer: b\n",
      "Incorrect\n",
      "GPT answer: b. Correct answer: c\n",
      "Incorrect\n",
      "Correct\n",
      "Correct\n",
      "GPT answer: b. Correct answer: c\n",
      "Incorrect\n",
      "GPT answer: a. Correct answer: b\n",
      "Incorrect\n",
      "GPT answer: b. Correct answer: c\n",
      "Incorrect\n",
      "Correct\n",
      "Correct\n",
      "GPT answer: a. Correct answer: b\n",
      "Incorrect\n",
      "Correct\n",
      "GPT answer: a. Correct answer: c\n",
      "Incorrect\n",
      "Correct\n",
      "Correct\n",
      "Correct\n",
      "Correct\n",
      "Correct\n",
      "Correct\n",
      "GPT answer: b. Correct answer: a\n",
      "Incorrect\n",
      "Correct\n",
      "Correct\n",
      "Correct\n",
      "Correct\n",
      "GPT answer: b. Correct answer: c\n",
      "Incorrect\n",
      "Correct\n",
      "GPT answer: a. Correct answer: b\n",
      "Incorrect\n",
      "GPT answer: Couldn't parse the answer. Correct answer: Optimized Media Routeing\n",
      "Incorrect\n",
      "GPT answer: Couldn't parse the answer. Correct answer: SDP\n",
      "Incorrect\n",
      "GPT answer: . Correct answer: Allocating MR context\n",
      "Incorrect\n",
      "Accuracy: 53.33%\n",
      "Correct answers: 16\n",
      "Incorrect answers: 14\n"
     ]
    }
   ],
   "source": [
    "import json\n",
    "import re\n",
    "\n",
    "input_file_path = \"/home/hb/LLM-research/evaluation/5G/5G_analysis_multi_choice_v2.json\" \n",
    "\n",
    "with open(input_file_path, \"r\") as input_file:\n",
    "    questions_data = json.load(input_file)\n",
    "\n",
    "pipe = pipeline(task=\"text-generation\", model=model, tokenizer=tokenizer, max_length=128)\n",
    "\n",
    "generated_answers = []\n",
    "ground_truth = [q_dict[\"answer\"] for q_dict in questions_data]\n",
    "n_question = 0\n",
    "\n",
    "for q_dict in questions_data:\n",
    "    question = q_dict[\"question\"]\n",
    "    options = q_dict[\"options\"]\n",
    "    \n",
    "    # Construct prompt with question and options\n",
    "    prompt = f\"Choose the correct answer. {question}\\n\" + \"\\n\".join(options)\n",
    "    # print(prompt)\n",
    "    \n",
    "    # Generate answer using the language model\n",
    "    generated_answer = pipe(prompt)[0]['generated_text']\n",
    "    print(f\"Generated Answer: {generated_answer}\")\n",
    "    \n",
    "    # Parse the generated answer\n",
    "    answer_lines = generated_answer.splitlines()\n",
    "    parsed_answer = \"\"\n",
    "    for line in answer_lines:\n",
    "            if line.startswith(\"Answer: \") or line.startswith(\"Correct answer: \"):\n",
    "                match = re.search(r'\\b(\\w)[\\)-]', line)\n",
    "                if match is not None:\n",
    "                    parsed_answer = match.group(1)\n",
    "                    print(f\"Parsed_answer: {parsed_answer}\")\n",
    "                    break\n",
    "                else:\n",
    "                    parsed_answer = \"Couldn't parse the answer\"\n",
    "                    print(f\"Parsed_answer: {parsed_answer}\")\n",
    "    generated_answers.append(parsed_answer)\n",
    "    n_question += 1\n",
    "    print(f\"----------------{n_question}-----------------\")\n",
    "print(generated_answers)\n",
    "\n",
    "\n",
    "total_questions = len(questions_data)\n",
    "correct_answers = 0\n",
    "\n",
    "for ground_answer, generated_answer in zip(ground_truth, generated_answers):\n",
    "    if generated_answer.lower() == ground_answer.lower():\n",
    "        print(\"Correct\")\n",
    "        correct_answers += 1\n",
    "    else:\n",
    "        print(f\"GPT answer: {generated_answer}. Correct answer: {ground_answer}\")\n",
    "        print(\"Incorrect\")\n",
    "\n",
    "accuracy = (correct_answers / total_questions) * 100\n",
    "\n",
    "print(f\"Accuracy: {accuracy:.2f}%\")\n",
    "print(f\"Correct answers: {correct_answers}\")\n",
    "print(f\"Incorrect answers: {total_questions - correct_answers}\")"
   ]
  },
  {
   "cell_type": "markdown",
   "metadata": {},
   "source": [
    "## Multiple Choice\n",
    "`5G configuration analysis v1`:\n",
    "Accuracy: 66%\n",
    "Correct answers: 13 + 7 = 20\n",
    "Incorrect answers: 10\n",
    "\n",
    "`5G configuration analysis v2`:\n",
    "Accuracy: 56%\n",
    "Correct answers: 17\n",
    "Incorrect answers: 13"
   ]
  },
  {
   "cell_type": "markdown",
   "metadata": {},
   "source": []
  }
 ],
 "metadata": {
  "kernelspec": {
   "display_name": "myenv",
   "language": "python",
   "name": "python3"
  },
  "language_info": {
   "codemirror_mode": {
    "name": "ipython",
    "version": 3
   },
   "file_extension": ".py",
   "mimetype": "text/x-python",
   "name": "python",
   "nbconvert_exporter": "python",
   "pygments_lexer": "ipython3",
   "version": "3.8.16"
  },
  "orig_nbformat": 4
 },
 "nbformat": 4,
 "nbformat_minor": 2
}
