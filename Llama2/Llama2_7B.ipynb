{
 "cells": [
  {
   "cell_type": "code",
   "execution_count": 1,
   "metadata": {},
   "outputs": [
    {
     "data": {
      "application/vnd.jupyter.widget-view+json": {
       "model_id": "6b2a4701881e4d4aaae26c1fa1201bfb",
       "version_major": 2,
       "version_minor": 0
      },
      "text/plain": [
       "Loading checkpoint shards:   0%|          | 0/2 [00:00<?, ?it/s]"
      ]
     },
     "metadata": {},
     "output_type": "display_data"
    },
    {
     "name": "stdout",
     "output_type": "stream",
     "text": [
      "Model loaded on cuda:0\n"
     ]
    }
   ],
   "source": [
    "from torch import cuda, bfloat16\n",
    "import transformers\n",
    "import os\n",
    "from torch import cuda, bfloat16\n",
    "import transformers\n",
    "from transformers import (\n",
    "    AutoModelForCausalLM,\n",
    "    AutoTokenizer,\n",
    "    BitsAndBytesConfig,\n",
    "    HfArgumentParser,\n",
    "    TrainingArguments,\n",
    "    pipeline,\n",
    "    logging,\n",
    ")\n",
    "\n",
    "model_id = 'meta-llama/Llama-2-7b-chat-hf'\n",
    "\n",
    "device = f'cuda:{cuda.current_device()}' if cuda.is_available() else 'cpu'\n",
    "\n",
    "# Need auth token for these\n",
    "hf_auth = os.environ.get('hf_token')\n",
    "model_config = transformers.AutoConfig.from_pretrained(\n",
    "    model_id,\n",
    "    use_auth_token=hf_auth\n",
    ")\n",
    "\n",
    "model = transformers.AutoModelForCausalLM.from_pretrained(\n",
    "    model_id,\n",
    "    trust_remote_code=True,\n",
    "    config=model_config,\n",
    "    # quantization_config=bnb_config,\n",
    "    device_map='auto',\n",
    "    use_auth_token=hf_auth\n",
    ")\n",
    "model.eval()\n",
    "print(f\"Model loaded on {device}\")"
   ]
  },
  {
   "cell_type": "code",
   "execution_count": 2,
   "metadata": {},
   "outputs": [],
   "source": [
    "tokenizer = transformers.AutoTokenizer.from_pretrained(\n",
    "    model_id,\n",
    "    use_auth_token=hf_auth\n",
    ")"
   ]
  },
  {
   "cell_type": "code",
   "execution_count": 4,
   "metadata": {},
   "outputs": [
    {
     "name": "stdout",
     "output_type": "stream",
     "text": [
      "<s>[INST] Generate a Python script that analyzes packet captures from N3 and N6 network interfaces. Use Wireshark to process these captures into PDML format. Parse the PDMLs to determine packet delay based on timestamps and classify packets by source and destination IPs. [/INST]  Sure! Here is a Python script that uses the `wireshark` library to process packet captures from N3 and N6 network interfaces, convert them to PDML format, and then parse the PDMLs to determine packet delay based on timestamps and classify packets by source and destination IPs.\n",
      "First, you will need to install the `wireshark` library using `pip install wireshark`.\n",
      "Here is the script:\n",
      "```\n",
      "import os\n",
      "import wireshark\n",
      "import pydml\n",
      "import numpy as np\n",
      "\n",
      "# Set the path to the capture files\n",
      "capture_path = '/path/to/capture/files'\n",
      "# Loop through the capture files and process each one\n",
      "for filename in os.listdir(capture_path):\n",
      "    # Open the capture file and read it into a wireshark.File object\n",
      "    file = wireshark.File(filename, 'r')\n",
      "    # Get the network interfaces that are included in the capture\n",
      "    n3_iface = file.get_interface('N3')\n",
      "    n6_iface = file.get_interface('N6')\n",
      "    \n",
      "    # Convert the capture to PDML format\n",
      "    pDML = pydml.PDML(file, n3_iface, n6_iface)\n",
      "    \n",
      "    # Extract the timestamps from the PDML\n",
      "    timestamp_array = np.array(pDML.get_timestamps())\n",
      "    \n",
      "    # Calculate the packet delay for each timestamp\n",
      "    packet_delay = np.abs(timestamp_array - timestamp_array[1:])\n",
      "    \n",
      "    # Classify packets by source and destination IPs\n",
      "    source_ip_counts = np.zeros(len(packet_delay))\n",
      "    destination_ip_counts = np.zeros(len(packet_delay))\n",
      "    for i in range(len(packet_delay)):\n",
      "        packet = pDML.get_packet(i)\n",
      "        source_ip = packet.get_field('src_ip')\n",
      "        destination_ip = packet.get_field('dst_ip')\n",
      "        source_ip_counts[i] = 1\n",
      "        destination_ip_counts[i] = 1\n",
      "\n",
      "    # Print the results\n",
      "    print('Packet Delay (ms)')\n",
      "    print('----------------')\n",
      "    print('| IP | Packet Delay |')\n",
      "    print('| --- | --- |')\n",
      "    for i in range(len(packet_delay)):\n",
      "        print(f'{source_ip_counts[i]} | {packet_delay[i]} |')\n",
      "        print(f'{destination_ip_counts[i]} | {packet_delay[i]} |')\n",
      "\n",
      "```\n",
      "This script assumes that the capture files are in the same directory as the script, and that they have the same file name as the interface names (e.g. `capture_n3.pcap` and `capture_n6.pcap`). You will need to modify the `capture_path` variable to point to the directory where your capture files are located.\n",
      "The script first opens each capture file using the `wireshark.File` class, and then gets the network interfaces that are included in the capture using the `get_interface` method. It then converts the capture to PDML format using the `pydml.PDML` class, and extracts the timestamps from the PDML using the `get_timestamps` method.\n",
      "Next, the script calculates the packet delay for each timestamp using the `abs` function to get the absolute difference between the timestamps, and then divides by the number of packets in the capture to get the average packet delay.\n",
      "Finally, the script classifies the packets by source and destination IP addresses using the `get_field` method to get the IP addresses of each packet, and then counts the number of packets for each IP address. It then prints the results to the console.\n",
      "Note that this script assumes that the capture files are in the same format as the example capture files provided with the `wireshark` library. If your capture files have a different format, you may need to modify the script to handle them correctly.\n"
     ]
    }
   ],
   "source": [
    "logging.set_verbosity(logging.CRITICAL)\n",
    "\n",
    "# Run text generation pipeline with our next model\n",
    "prompt = \"Generate a Python script that analyzes packet captures from N3 and N6 network interfaces. Use Wireshark to process these captures into PDML format. Parse the PDMLs to determine packet delay based on timestamps and classify packets by source and destination IPs.\"\n",
    "pipe = pipeline(task=\"text-generation\", model=model, tokenizer=tokenizer, max_length=1024)\n",
    "result = pipe(f\"<s>[INST] {prompt} [/INST]\")\n",
    "print(result[0]['generated_text'])"
   ]
  },
  {
   "cell_type": "code",
   "execution_count": 3,
   "metadata": {},
   "outputs": [
    {
     "name": "stderr",
     "output_type": "stream",
     "text": [
      "Setting `pad_token_id` to `eos_token_id`:2 for open-end generation.\n"
     ]
    },
    {
     "name": "stdout",
     "output_type": "stream",
     "text": [
      "<s>[INST] Load network data from csv file and calculate the total number of packets and the total data volume (in bytes) over time. [/INST]  To load network data from a CSV file and calculate the total number of packets and the total data volume (in bytes) over time, you can use Python and the `pandas` library. Here's an example of how to do this:\n",
      "1. First, import the `pandas` library:\n",
      "```\n",
      "import pandas as pd\n",
      "```\n",
      "2. Next, load the network data from the CSV file using the `read_csv()` function:\n",
      "```\n",
      "data = pd.read_csv('network_data.csv')\n",
      "```\n",
      "3. In this example, the network data is stored in a CSV file called `network_data.csv`. The file should contain columns for the following:\n",
      "* `time`: the time (in seconds) at which the packet was sent\n",
      "* `packet_count`: the number of packets sent at that time\n",
      "* `packet_size`: the size (in bytes) of each packet sent at that time\n",
      "* `data_volume`: the total data volume (in bytes) transmitted at that time\n",
      "4. To calculate the total number of packets and the total data volume over time, you can use the `groupby()` function to group the data by `time` and then use the `size()` and `count()` functions to calculate the total number of packets and data volume for each group:\n",
      "```\n",
      "# Calculate the total number of packets and data volume over time\n",
      "data_packets = data.groupby('time')['packet_count'].size()\n",
      "data_volume = data.groupby('time')['data_volume'].sum()\n",
      "print(f'Total number of packets: {data_packets}')\n",
      "print(f'Total data volume: {data_volume}')\n",
      "```\n",
      "5. Finally, you can print the results to the console using the `print()` function. The output should look something like this:\n",
      "```\n",
      "Total number of packets: 1000\n",
      "Total data volume: 1000000\n",
      "```\n",
      "Note that this is just an example, and you may need to modify the code to match the format of your specific network data CSV file. Additionally, you can use other functions in `pandas` to calculate other metrics, such as the average packet size or the maximum data volume over time.\n"
     ]
    }
   ],
   "source": [
    "# Run text generation pipeline with our next model\n",
    "prompt = \"Load network data from csv file and calculate the total number of packets and the total data volume (in bytes) over time.\"\n",
    "pipe = pipeline(task=\"text-generation\", model=model, tokenizer=tokenizer, max_length=1024)\n",
    "result = pipe(f\"<s>[INST] {prompt} [/INST]\")\n",
    "print(result[0]['generated_text'])"
   ]
  },
  {
   "cell_type": "code",
   "execution_count": 4,
   "metadata": {},
   "outputs": [
    {
     "name": "stderr",
     "output_type": "stream",
     "text": [
      "Setting `pad_token_id` to `eos_token_id`:2 for open-end generation.\n",
      "Setting `pad_token_id` to `eos_token_id`:2 for open-end generation.\n"
     ]
    },
    {
     "name": "stdout",
     "output_type": "stream",
     "text": [
      "Output: [INST]What are the key objectives and goals of 5G network specifications, and how do they differ from previous generations of wireless networks?[/INST]  The key objectives and goals of 5G network specifications are to provide a high-speed, low-latency, and highly reliable wireless communication system that can support a wide range of applications and services. Here are some of the main objectives and goals of 5G network specifications, and how they differ from previous generations of wireless networks:\n",
      "\n",
      "1. Higher data rates: 5G aims to provide data rates that are significantly higher than those of previous generations, with peak speeds of up to 20 Gbps. This will enable users to enjoy high-quality video streaming, online gaming, and other data-intensive applications.\n",
      "2. Low latency: 5G aims to reduce latency to less than 1 ms, which is significantly lower than the latency of previous generations. This will enable real-time communication and make it possible to transmit data without any delays.\n",
      "3. High reliability: 5G aims to provide a highly reliable wireless communication system that can support mission-critical applications such as autonomous vehicles, smart grids, and remote healthcare.\n",
      "4. Massive connectivity: 5G aims to support a large number of devices per square kilometer, making it possible to connect a wide range of devices, including IoT devices, vehicles, and smart cities.\n",
      "5. Ultra-broadband: 5G aims to provide ultra-broadband connectivity that can support a wide range of applications, including high-speed internet access, video streaming, and online gaming.\n",
      "6. Network slicing: 5G aims to provide network slicing, which enables the creation of multiple virtual networks on top of a single physical network. This will enable operators to tailor their networks to specific applications and services, and provide a more efficient use of resources.\n",
      "7. Edge computing: 5G aims to provide edge computing, which enables data processing and analysis at the edge of the network, closer to the user. This will reduce latency and improve the performance of applications that require real-time processing.\n",
      "8. Spectrum: 5G aims to utilize a wide range of frequency bands, including low-band, mid-band\n",
      "---------------------1-----------------------------\n"
     ]
    },
    {
     "name": "stderr",
     "output_type": "stream",
     "text": [
      "Setting `pad_token_id` to `eos_token_id`:2 for open-end generation.\n"
     ]
    },
    {
     "name": "stdout",
     "output_type": "stream",
     "text": [
      "Output: [INST]Explain the architectural components of a typical 5G network, including the roles of gNodeBs, Core Network, and Edge Computing.[/INST]  A typical 5G network consists of several architectural components that work together to provide high-speed, low-latency, and highly reliable wireless communication services. Here are the main components of a 5G network and their roles:\n",
      "1. gNodeBs (Base Stations):\n",
      "gNodeBs, also known as base stations, are the primary components of a 5G network that provide connectivity to mobile devices. They are responsible for transmitting and receiving data to and from devices on the cellular network. gNodeBs are typically located on tall structures such as buildings, towers, or rooftops to provide wide coverage and minimize interference.\n",
      "2. Core Network:\n",
      "The core network is the central component of a 5G network that connects gNodeBs and provides network services such as packet switching, mobility management, and session management. The core network is responsible for routing data between gNodeBs and other networks, such as the internet. It also provides services such as call routing, call setup, and call termination.\n",
      "3. Edge Computing:\n",
      "Edge computing is a key component of 5G networks that provides computing resources and services closer to the end-users. It is designed to reduce latency and improve the performance of applications that require real-time processing, such as augmented and virtual reality, autonomous vehicles, and smart cities. Edge computing can be deployed in various locations, including gNodeBs, data centers, and at the edge of the network, near the end-users.\n",
      "4. Radio Access Network (RAN):\n",
      "The RAN is responsible for transmitting and receiving data between gNodeBs and mobile devices. It consists of a set of radio links and baseband processing functions that enable the transmission of voice, data, and other multimedia services. The RAN is typically divided into two parts: the macro layer, which uses traditional cellular towers, and the small cell layer, which uses smaller cells to provide more targeted coverage.\n",
      "5. Network Functions Virtualization (NFV):\n",
      "NFV is a technology that enables the virtualization of network functions, such as firewalls, routers, and switches. It allows network operators to deploy and manage these functions more\n",
      "---------------------2-----------------------------\n"
     ]
    },
    {
     "name": "stderr",
     "output_type": "stream",
     "text": [
      "Setting `pad_token_id` to `eos_token_id`:2 for open-end generation.\n"
     ]
    },
    {
     "name": "stdout",
     "output_type": "stream",
     "text": [
      "Output: [INST]What is the significance of mmWave frequencies in 5G, and how do they impact network coverage and capacity?[/INST]  Millimeter wave (mmWave) frequencies are a key component of 5G wireless networks, offering several advantages over traditional microwave frequencies used in previous generations of wireless technology.\n",
      "Significance of mmWave frequencies in 5G:\n",
      "1. Higher frequency bands: mmWave frequencies operate at higher frequency bands (24-90 GHz) compared to microwave frequencies (less than 6 GHz). This allows for more spectrum to be utilized, resulting in increased network capacity and lower latency.\n",
      "2. Higher antenna density: The higher frequency bands used by mmWave frequencies require a higher density of antennas to provide adequate coverage. This leads to a more dense network infrastructure, which can improve coverage and capacity in urban areas.\n",
      "3. Better propagation: mmWave frequencies have a shorter wavelength, which allows them to penetrate buildings and other obstacles more easily than microwave frequencies. This results in better coverage and capacity in urban areas with tall buildings and other structures.\n",
      "4. Higher data rates: The higher frequency bands used by mmWave frequencies enable higher data rates, which are essential for supporting the high-bandwidth requirements of 5G applications such as streaming, gaming, and virtual reality.\n",
      "Impact of mmWave frequencies on network coverage and capacity:\n",
      "1. Increased capacity: The higher frequency bands used by mmWave frequencies allow for more spectrum to be utilized, resulting in increased network capacity and lower latency. This is particularly beneficial in high-traffic areas such as stadiums, convention centers, and other crowded venues.\n",
      "2. Improved coverage: The shorter wavelength of mmWave frequencies allows for better penetration of buildings and other obstacles, resulting in improved coverage and capacity in urban areas.\n",
      "3. Reduced latency: The higher frequency bands used by mmWave frequencies result in lower latency, which is essential for supporting real-time applications such as online gaming and virtual reality.\n",
      "4. Increased spectrum efficiency: The use of mmWave frequencies allows for more efficient use of spectrum, resulting in increased network capacity and lower latency.\n",
      "Challenges and limitations of mmWave frequencies:\n",
      "1\n",
      "---------------------3-----------------------------\n"
     ]
    },
    {
     "name": "stderr",
     "output_type": "stream",
     "text": [
      "Setting `pad_token_id` to `eos_token_id`:2 for open-end generation.\n"
     ]
    },
    {
     "name": "stdout",
     "output_type": "stream",
     "text": [
      "Output: [INST]Describe the concept of network slicing in 5G, and provide examples of how it benefits different industries and applications.[/INST]  Network slicing is a key concept in 5G wireless networks that allows multiple independent network instances to be created on top of a shared physical infrastructure. This concept enables the creation of customized networks tailored to specific services, applications, or industries, while also improving resource utilization and reducing operational costs. In this answer, we will explore the concept of network slicing in 5G, its benefits, and examples of how it can be used in different industries and applications.\n",
      "What is Network Slicing in 5G?\n",
      "Network slicing in 5G is a network architecture concept that allows multiple logical networks to be created on top of a shared physical infrastructure. Each logical network, or slice, can have its own set of resources, such as bandwidth, latency, and security parameters, which are tailored to the specific needs of a particular service or application. This allows for more efficient use of network resources and enables the creation of customized networks for different industries and applications.\n",
      "Benefits of Network Slicing in 5G:\n",
      "Network slicing in 5G offers several benefits, including:\n",
      "1. Resource optimization: Network slicing allows for more efficient use of network resources, as different slices can be optimized for different services or applications, reducing the overall resource utilization.\n",
      "2. Customization: Network slicing enables the creation of customized networks tailored to specific services or applications, improving the user experience and enhancing the quality of service.\n",
      "3. Scalability: Network slicing allows for the creation of new slices as needed, enabling the network to scale to meet the demands of new services or applications.\n",
      "4. Security: Network slicing can provide enhanced security features, such as isolation and encryption, for each slice, protecting sensitive data and applications.\n",
      "Examples of Network Slicing in Different Industries and Applications:\n",
      "1. IoT (Internet of Things): Network slicing can be used to create dedicated networks for IoT devices, such as smart homes, industrial automation, or smart cities, ensuring low latency and high reliability for these applications.\n",
      "2. Critical Communications: Network slicing can be used to create\n",
      "---------------------4-----------------------------\n",
      "Output: [INST]What security measures and protocols are integral to 5G networks, and how do they address potential vulnerabilities?[/INST]  As the next generation of wireless networks, 5G is designed to provide faster data speeds, lower latency, and greater connectivity than its predecessors. However, with the increased speed and capacity of 5G networks comes the potential for new security threats and vulnerabilities. To address these concerns, 5G networks are built with a range of security measures and protocols that are designed to protect the network and its users from cyber threats. Here are some of the key security measures and protocols that are integral to 5G networks:\n",
      "1. Network slicing: Network slicing is a 5G network architecture that allows multiple independent networks to be created on top of a single physical network. This allows for customized network slices to be created for different applications and services, each with its own security policies and controls.\n",
      "2. Edge computing: Edge computing is a 5G network architecture that moves computing resources and applications closer to the edge of the network, closer to the users. This reduces latency and improves performance, but it also creates new security challenges. Edge computing requires new security protocols and measures to protect the network and its users.\n",
      "3. Identity and access management: Identity and access management (IAM) is a critical security measure in 5G networks. IAM systems are used to authenticate and authorize users and devices, ensuring that only authorized users and devices can access the network and its resources.\n",
      "4. Encryption: Encryption is a critical security measure in 5G networks. Encryption is used to protect the confidentiality and integrity of data transmitted over the network. Encryption ensures that only authorized users can access the data, and that the data cannot be intercepted or tampered with by unauthorized parties.\n",
      "5. Firewall and intrusion detection/prevention systems: Firewalls and intrusion detection/prevention systems (IDPS) are used to protect the network from unauthorized access and attacks. Firewalls are used to block unauthorized incoming traffic, while IDPS are used to detect and prevent intrusion attempts.\n",
      "6. Secure boot and secure update: Secure boot and secure update mechanisms are used to ensure that the network and its devices are booted and updated\n",
      "---------------------5-----------------------------\n"
     ]
    }
   ],
   "source": [
    "import json\n",
    "\n",
    "from transformers import (\n",
    "    AutoModelForCausalLM,\n",
    "    AutoTokenizer,\n",
    "    BitsAndBytesConfig,\n",
    "    HfArgumentParser,\n",
    "    TrainingArguments,\n",
    "    pipeline,\n",
    "    logging,\n",
    ")\n",
    "\n",
    "input_file_path = \"/home/hb/LLM-research/evaluation/5G_SPEC/5G_SPEC_QA.json\" \n",
    "\n",
    "with open(input_file_path, \"r\") as input_file:\n",
    "    questions_data = json.load(input_file)\n",
    "\n",
    "pipe = pipeline(task=\"text-generation\", model=model, tokenizer=tokenizer, max_length=512)\n",
    "\n",
    "generated_answers_qa = []\n",
    "\n",
    "n_question = 0\n",
    "for q_dict in questions_data:\n",
    "    n_question += 1\n",
    "    question = q_dict[\"question\"]\n",
    "    # Generate answer using the language model\n",
    "    prompt = f\"[INST]{question}[/INST]\"\n",
    "    generated_answer = pipe(prompt)[0]['generated_text']\n",
    "    print(f\"Output: {generated_answer}\")\n",
    "    generated_answers_qa.append(generated_answer)\n",
    "    print(f\"---------------------{n_question}-----------------------------\")"
   ]
  },
  {
   "cell_type": "markdown",
   "metadata": {},
   "source": [
    "`Network config QA`: Pass"
   ]
  },
  {
   "cell_type": "code",
   "execution_count": null,
   "metadata": {},
   "outputs": [],
   "source": []
  }
 ],
 "metadata": {
  "kernelspec": {
   "display_name": "myenv",
   "language": "python",
   "name": "python3"
  },
  "language_info": {
   "codemirror_mode": {
    "name": "ipython",
    "version": 3
   },
   "file_extension": ".py",
   "mimetype": "text/x-python",
   "name": "python",
   "nbconvert_exporter": "python",
   "pygments_lexer": "ipython3",
   "version": "3.8.16"
  },
  "orig_nbformat": 4
 },
 "nbformat": 4,
 "nbformat_minor": 2
}
