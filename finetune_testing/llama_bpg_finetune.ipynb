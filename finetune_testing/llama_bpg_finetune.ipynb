{
 "cells": [
  {
   "cell_type": "code",
   "execution_count": 1,
   "metadata": {},
   "outputs": [],
   "source": [
    "# %pip install -q -U trl transformers accelerate git+https://github.com/huggingface/peft.git\n",
    "# %pip install -q datasets bitsandbytes einops wandb"
   ]
  },
  {
   "cell_type": "code",
   "execution_count": 2,
   "metadata": {},
   "outputs": [
    {
     "data": {
      "text/plain": [
       "'cuda'"
      ]
     },
     "execution_count": 2,
     "metadata": {},
     "output_type": "execute_result"
    }
   ],
   "source": [
    "import transformers\n",
    "from transformers import (\n",
    "    AutoModelForCausalLM,\n",
    "    AutoTokenizer,\n",
    "    BitsAndBytesConfig,\n",
    "    HfArgumentParser,\n",
    "    TrainingArguments,\n",
    "    pipeline,\n",
    "    logging,\n",
    ")\n",
    "from typing import List\n",
    "import torch\n",
    "from torch import cuda, bfloat16\n",
    "from datasets import load_dataset\n",
    "import pandas as pd\n",
    " \n",
    "import matplotlib.pyplot as plt\n",
    "import matplotlib as mpl\n",
    "# import seaborn as sns\n",
    "from pylab import rcParams\n",
    "# from trl import SFTTrainer\n",
    " \n",
    "DEVICE = \"cuda\" if torch.cuda.is_available() else \"cpu\"\n",
    "DEVICE"
   ]
  },
  {
   "cell_type": "code",
   "execution_count": 3,
   "metadata": {},
   "outputs": [
    {
     "name": "stderr",
     "output_type": "stream",
     "text": [
      "/home/hb/myenv/lib/python3.8/site-packages/transformers/modeling_utils.py:2193: FutureWarning: The `use_auth_token` argument is deprecated and will be removed in v5 of Transformers.\n",
      "  warnings.warn(\n"
     ]
    },
    {
     "data": {
      "application/vnd.jupyter.widget-view+json": {
       "model_id": "1f30b3b182044cc2987d04308e4154a7",
       "version_major": 2,
       "version_minor": 0
      },
      "text/plain": [
       "Loading checkpoint shards:   0%|          | 0/3 [00:00<?, ?it/s]"
      ]
     },
     "metadata": {},
     "output_type": "display_data"
    },
    {
     "name": "stdout",
     "output_type": "stream",
     "text": [
      "Model loaded on cuda:0\n"
     ]
    }
   ],
   "source": [
    "model_id = 'meta-llama/Llama-2-13b-chat-hf'\n",
    "\n",
    "device = f'cuda:{cuda.current_device()}' if cuda.is_available() else 'cpu'\n",
    "\n",
    "bnb_config = transformers.BitsAndBytesConfig(\n",
    "    load_in_8bit=True,\n",
    ")\n",
    "\n",
    "# bnb_config = BitsAndBytesConfig(\n",
    "#     load_in_4bit=True,\n",
    "#     bnb_4bit_use_double_quant=True,\n",
    "#     bnb_4bit_quant_type=\"nf4\",\n",
    "#     bnb_4bit_compute_dtype=torch.bfloat16\n",
    "# )\n",
    "\n",
    "# Need auth token for these\n",
    "hf_token = os.environ.get('hf_token')\n",
    "hf_auth = hf_token\n",
    "model_config = transformers.AutoConfig.from_pretrained(\n",
    "    model_id,\n",
    "    use_auth_token=hf_auth\n",
    ")\n",
    "\n",
    "model = transformers.AutoModelForCausalLM.from_pretrained(\n",
    "    model_id,\n",
    "    trust_remote_code=True,\n",
    "    config=model_config,\n",
    "    quantization_config=bnb_config,\n",
    "    device_map='auto',\n",
    "    use_auth_token=hf_auth\n",
    ")\n",
    "\n",
    "model.eval()\n",
    "print(f\"Model loaded on {device}\")"
   ]
  },
  {
   "cell_type": "code",
   "execution_count": 4,
   "metadata": {},
   "outputs": [
    {
     "name": "stderr",
     "output_type": "stream",
     "text": [
      "/home/hb/myenv/lib/python3.8/site-packages/transformers/tokenization_utils_base.py:1714: FutureWarning: The `use_auth_token` argument is deprecated and will be removed in v5 of Transformers.\n",
      "  warnings.warn(\n"
     ]
    }
   ],
   "source": [
    "tokenizer = transformers.AutoTokenizer.from_pretrained(\n",
    "    model_id,\n",
    "    use_auth_token=hf_auth\n",
    ")\n",
    " \n",
    "tokenizer.pad_token_id = (0)\n",
    "tokenizer.padding_side = \"left\""
   ]
  },
  {
   "cell_type": "code",
   "execution_count": 5,
   "metadata": {},
   "outputs": [
    {
     "name": "stderr",
     "output_type": "stream",
     "text": [
      "Found cached dataset json (/home/hb/.cache/huggingface/datasets/json/default-07c1acbe3c1ddcb5/0.0.0/0f7e3662623656454fcd2b650f34e886a7db4b9104504885bd462096cc7a9f51)\n"
     ]
    },
    {
     "data": {
      "application/vnd.jupyter.widget-view+json": {
       "model_id": "609e79a373bf4ce58e4a6f5a7cf5be88",
       "version_major": 2,
       "version_minor": 0
      },
      "text/plain": [
       "  0%|          | 0/1 [00:00<?, ?it/s]"
      ]
     },
     "metadata": {},
     "output_type": "display_data"
    },
    {
     "data": {
      "text/plain": [
       "Dataset({\n",
       "    features: ['instruction', 'input', 'output'],\n",
       "    num_rows: 14866\n",
       "})"
      ]
     },
     "execution_count": 5,
     "metadata": {},
     "output_type": "execute_result"
    }
   ],
   "source": [
    "data = load_dataset(\"json\", data_files=\"/home/hb/fine-tuning-alpaca/finetuning_dataset/BGP_data.json\")\n",
    "data[\"train\"]"
   ]
  },
  {
   "cell_type": "code",
   "execution_count": 6,
   "metadata": {},
   "outputs": [],
   "source": [
    "CUTOFF_LEN = 256\n",
    "\n",
    "def generate_prompt(data_point):\n",
    "    return f\"\"\"Below is an instruction that describes a task, paired with an input that provides further context. Write a response that appropriately completes the request.  # noqa: E501\n",
    "### Instruction:\n",
    "{data_point[\"instruction\"]}\n",
    "### Input:\n",
    "{data_point[\"input\"]}\n",
    "### Response:\n",
    "{data_point[\"output\"]}\"\"\"\n",
    " \n",
    " \n",
    "def tokenize(prompt, add_eos_token=True):\n",
    "    result = tokenizer(\n",
    "        prompt,\n",
    "        truncation=True,\n",
    "        max_length=CUTOFF_LEN,\n",
    "        padding=False,\n",
    "        return_tensors=None,\n",
    "    )\n",
    "    if (\n",
    "        result[\"input_ids\"][-1] != tokenizer.eos_token_id\n",
    "        and len(result[\"input_ids\"]) < CUTOFF_LEN\n",
    "        and add_eos_token\n",
    "    ):\n",
    "        result[\"input_ids\"].append(tokenizer.eos_token_id)\n",
    "        result[\"attention_mask\"].append(1)\n",
    " \n",
    "    result[\"labels\"] = result[\"input_ids\"].copy()\n",
    " \n",
    "    return result\n",
    " \n",
    "def generate_and_tokenize_prompt(data_point):\n",
    "    full_prompt = generate_prompt(data_point)\n",
    "    tokenized_full_prompt = tokenize(full_prompt)\n",
    "    return tokenized_full_prompt"
   ]
  },
  {
   "cell_type": "code",
   "execution_count": 7,
   "metadata": {},
   "outputs": [
    {
     "name": "stderr",
     "output_type": "stream",
     "text": [
      "Loading cached split indices for dataset at /home/hb/.cache/huggingface/datasets/json/default-07c1acbe3c1ddcb5/0.0.0/0f7e3662623656454fcd2b650f34e886a7db4b9104504885bd462096cc7a9f51/cache-81dcca95e0ec2ecc.arrow and /home/hb/.cache/huggingface/datasets/json/default-07c1acbe3c1ddcb5/0.0.0/0f7e3662623656454fcd2b650f34e886a7db4b9104504885bd462096cc7a9f51/cache-e52a3799caba99b1.arrow\n",
      "Loading cached processed dataset at /home/hb/.cache/huggingface/datasets/json/default-07c1acbe3c1ddcb5/0.0.0/0f7e3662623656454fcd2b650f34e886a7db4b9104504885bd462096cc7a9f51/cache-57de245bd50ce598.arrow\n",
      "Loading cached processed dataset at /home/hb/.cache/huggingface/datasets/json/default-07c1acbe3c1ddcb5/0.0.0/0f7e3662623656454fcd2b650f34e886a7db4b9104504885bd462096cc7a9f51/cache-a7255d2911e0171f.arrow\n"
     ]
    }
   ],
   "source": [
    "train_val = data[\"train\"].train_test_split(\n",
    "    test_size=1400, shuffle=True, seed=42\n",
    ")\n",
    "train_data = (\n",
    "    train_val[\"train\"].map(generate_and_tokenize_prompt)\n",
    ")\n",
    "val_data = (\n",
    "    train_val[\"test\"].map(generate_and_tokenize_prompt)\n",
    ")"
   ]
  },
  {
   "cell_type": "code",
   "execution_count": 8,
   "metadata": {},
   "outputs": [],
   "source": [
    "from peft import LoraConfig, get_peft_model\n",
    "from transformers import TrainingArguments\n",
    "\n",
    "lora_alpha = 32\n",
    "lora_dropout = 0.1\n",
    "lora_r = 64\n",
    " \n",
    "peft_config = LoraConfig(\n",
    "    lora_alpha=lora_alpha,\n",
    "    lora_dropout=lora_dropout,\n",
    "    r=lora_r,\n",
    "    bias=\"none\",\n",
    "    task_type=\"CAUSAL_LM\"\n",
    ")\n",
    "\n",
    "output_dir = \"./llama_BGP_7\"\n",
    "per_device_train_batch_size = 4\n",
    "gradient_accumulation_steps = 4\n",
    "optim = \"paged_adamw_32bit\"\n",
    "# save_steps = 200\n",
    "logging_steps = 10\n",
    "learning_rate = 1e-4\n",
    "max_grad_norm = 0.3\n",
    "max_steps = 1000\n",
    "warmup_ratio = 0.03\n",
    "lr_scheduler_type = \"constant\"\n",
    "\n",
    "training_arguments = TrainingArguments(\n",
    "    output_dir=output_dir,\n",
    "    per_device_train_batch_size=per_device_train_batch_size,\n",
    "    gradient_accumulation_steps=gradient_accumulation_steps,\n",
    "    optim=optim,\n",
    "    # save_steps=save_steps,\n",
    "    logging_steps=logging_steps,\n",
    "    learning_rate=learning_rate,\n",
    "    fp16=True,\n",
    "    max_grad_norm=max_grad_norm,\n",
    "    max_steps=max_steps,\n",
    "    warmup_ratio=warmup_ratio,\n",
    "    group_by_length=True,\n",
    "    lr_scheduler_type=lr_scheduler_type,\n",
    ")"
   ]
  },
  {
   "cell_type": "code",
   "execution_count": 9,
   "metadata": {},
   "outputs": [],
   "source": [
    "data_collator = transformers.DataCollatorForSeq2Seq(\n",
    "    tokenizer, pad_to_multiple_of=8, return_tensors=\"pt\", padding=True\n",
    ")"
   ]
  },
  {
   "cell_type": "code",
   "execution_count": 10,
   "metadata": {},
   "outputs": [
    {
     "name": "stderr",
     "output_type": "stream",
     "text": [
      "/home/hb/myenv/lib/python3.8/site-packages/peft/utils/other.py:102: FutureWarning: prepare_model_for_int8_training is deprecated and will be removed in a future version. Use prepare_model_for_kbit_training instead.\n",
      "  warnings.warn(\n",
      "Loading cached processed dataset at /home/hb/.cache/huggingface/datasets/json/default-07c1acbe3c1ddcb5/0.0.0/0f7e3662623656454fcd2b650f34e886a7db4b9104504885bd462096cc7a9f51/cache-cad17a4e6c376798.arrow\n",
      "Loading cached processed dataset at /home/hb/.cache/huggingface/datasets/json/default-07c1acbe3c1ddcb5/0.0.0/0f7e3662623656454fcd2b650f34e886a7db4b9104504885bd462096cc7a9f51/cache-761b25af37c8c63a.arrow\n",
      "/home/hb/myenv/lib/python3.8/site-packages/trl/trainer/sft_trainer.py:207: UserWarning: You passed a tokenizer with `padding_side` not equal to `right` to the SFTTrainer. This might lead to some unexpected behaviour due to overflow issues when training a model in half-precision. You might consider adding `tokenizer.padding_side = 'right'` to your code.\n",
      "  warnings.warn(\n"
     ]
    }
   ],
   "source": [
    "from trl import SFTTrainer\n",
    "\n",
    "max_seq_length = 512\n",
    "\n",
    "trainer = SFTTrainer(\n",
    "    model=model,\n",
    "    train_dataset=train_data,\n",
    "    eval_dataset=val_data,\n",
    "    peft_config=peft_config,\n",
    "    dataset_text_field=\"output\",\n",
    "    max_seq_length=max_seq_length,\n",
    "    tokenizer=tokenizer,\n",
    "    args=training_arguments,\n",
    ")"
   ]
  },
  {
   "cell_type": "code",
   "execution_count": 11,
   "metadata": {},
   "outputs": [
    {
     "name": "stderr",
     "output_type": "stream",
     "text": [
      "Failed to detect the name of this notebook, you can set it manually with the WANDB_NOTEBOOK_NAME environment variable to enable code saving.\n",
      "\u001b[34m\u001b[1mwandb\u001b[0m: Currently logged in as: \u001b[33mmkkanhb\u001b[0m (\u001b[33mdnlab_2023\u001b[0m). Use \u001b[1m`wandb login --relogin`\u001b[0m to force relogin\n"
     ]
    },
    {
     "data": {
      "text/html": [
       "wandb version 0.15.8 is available!  To upgrade, please run:\n",
       " $ pip install wandb --upgrade"
      ],
      "text/plain": [
       "<IPython.core.display.HTML object>"
      ]
     },
     "metadata": {},
     "output_type": "display_data"
    },
    {
     "data": {
      "text/html": [
       "Tracking run with wandb version 0.15.7"
      ],
      "text/plain": [
       "<IPython.core.display.HTML object>"
      ]
     },
     "metadata": {},
     "output_type": "display_data"
    },
    {
     "data": {
      "text/html": [
       "Run data is saved locally in <code>/home/hb/fine-tuning-alpaca/finetune_testing/wandb/run-20230825_122841-pk6b5c94</code>"
      ],
      "text/plain": [
       "<IPython.core.display.HTML object>"
      ]
     },
     "metadata": {},
     "output_type": "display_data"
    },
    {
     "data": {
      "text/html": [
       "Syncing run <strong><a href='https://wandb.ai/dnlab_2023/huggingface/runs/pk6b5c94' target=\"_blank\">expert-plant-8</a></strong> to <a href='https://wandb.ai/dnlab_2023/huggingface' target=\"_blank\">Weights & Biases</a> (<a href='https://wandb.me/run' target=\"_blank\">docs</a>)<br/>"
      ],
      "text/plain": [
       "<IPython.core.display.HTML object>"
      ]
     },
     "metadata": {},
     "output_type": "display_data"
    },
    {
     "data": {
      "text/html": [
       " View project at <a href='https://wandb.ai/dnlab_2023/huggingface' target=\"_blank\">https://wandb.ai/dnlab_2023/huggingface</a>"
      ],
      "text/plain": [
       "<IPython.core.display.HTML object>"
      ]
     },
     "metadata": {},
     "output_type": "display_data"
    },
    {
     "data": {
      "text/html": [
       " View run at <a href='https://wandb.ai/dnlab_2023/huggingface/runs/pk6b5c94' target=\"_blank\">https://wandb.ai/dnlab_2023/huggingface/runs/pk6b5c94</a>"
      ],
      "text/plain": [
       "<IPython.core.display.HTML object>"
      ]
     },
     "metadata": {},
     "output_type": "display_data"
    },
    {
     "name": "stderr",
     "output_type": "stream",
     "text": [
      "You're using a LlamaTokenizerFast tokenizer. Please note that with a fast tokenizer, using the `__call__` method is faster than using a method to encode the text followed by a call to the `pad` method to get a padded encoding.\n",
      "`use_cache=True` is incompatible with gradient checkpointing. Setting `use_cache=False`...\n",
      "/home/hb/myenv/lib/python3.8/site-packages/bitsandbytes/autograd/_functions.py:322: UserWarning: MatMul8bitLt: inputs will be cast from torch.float32 to float16 during quantization\n",
      "  warnings.warn(f\"MatMul8bitLt: inputs will be cast from {A.dtype} to float16 during quantization\")\n"
     ]
    },
    {
     "data": {
      "text/html": [
       "\n",
       "    <div>\n",
       "      \n",
       "      <progress value='3' max='1000' style='width:300px; height:20px; vertical-align: middle;'></progress>\n",
       "      [   3/1000 00:11 < 3:05:50, 0.09 it/s, Epoch 0.00/2]\n",
       "    </div>\n",
       "    <table border=\"1\" class=\"dataframe\">\n",
       "  <thead>\n",
       " <tr style=\"text-align: left;\">\n",
       "      <th>Step</th>\n",
       "      <th>Training Loss</th>\n",
       "    </tr>\n",
       "  </thead>\n",
       "  <tbody>\n",
       "  </tbody>\n",
       "</table><p>"
      ],
      "text/plain": [
       "<IPython.core.display.HTML object>"
      ]
     },
     "metadata": {},
     "output_type": "display_data"
    },
    {
     "name": "stderr",
     "output_type": "stream",
     "text": [
      "/home/hb/myenv/lib/python3.8/site-packages/bitsandbytes/autograd/_functions.py:322: UserWarning: MatMul8bitLt: inputs will be cast from torch.float32 to float16 during quantization\n",
      "  warnings.warn(f\"MatMul8bitLt: inputs will be cast from {A.dtype} to float16 during quantization\")\n"
     ]
    },
    {
     "data": {
      "text/plain": [
       "TrainOutput(global_step=1000, training_loss=1.4244728660583497, metrics={'train_runtime': 8093.6943, 'train_samples_per_second': 1.977, 'train_steps_per_second': 0.124, 'total_flos': 1.58616375969792e+17, 'train_loss': 1.4244728660583497, 'epoch': 1.19})"
      ]
     },
     "execution_count": 11,
     "metadata": {},
     "output_type": "execute_result"
    }
   ],
   "source": [
    "trainer.train()"
   ]
  },
  {
   "cell_type": "code",
   "execution_count": 12,
   "metadata": {},
   "outputs": [],
   "source": [
    "new_model = \"llama2-13b-BGP_7\"\n",
    "trainer.model.save_pretrained(new_model)"
   ]
  },
  {
   "cell_type": "code",
   "execution_count": 13,
   "metadata": {},
   "outputs": [],
   "source": [
    "# !load_ext tensorboard\n",
    "# !tensorboard --logdir results/runs"
   ]
  },
  {
   "cell_type": "code",
   "execution_count": 15,
   "metadata": {},
   "outputs": [
    {
     "name": "stdout",
     "output_type": "stream",
     "text": [
      "<s>[INST] Explain what BGP blackholing activity is [/INST]  BGP blackholing is a malicious activity in which an attacker intentionally advertises a route to a destination that does not exist. This causes traffic to be routed through the attacker's network, allowing them to intercept and manipulate the data. This can be used to launch DDoS attacks, steal data, or disrupt network services. BGP blackholing is a serious security threat and can be difficult to detect and mitigate. It is important for organizations to implement security measures such as route filtering and monitoring to protect against this type of attack. Additionally, organizations should ensure that their BGP configurations are secure and that they are using the latest versions of BGP. By taking these steps, organizations can help protect their networks from BGP blackholing activity. \n",
      "\n",
      "In addition, organizations should also consider implementing BGP route authentication to ensure that only legitimate routes are accepted. This can help prevent malicious actors from advertising false routes and launching BGP blackholing attacks. By taking these steps, organizations can help protect their networks from BGP blackholing activity and ensure that their data is secure. \n",
      "\n",
      "In conclusion, BGP blackholing is a serious security threat that can be difficult to detect and mitigate. Organizations should take steps to ensure that their BGP configurations are secure and that they are using the latest versions of BGP. Additionally, organizations should consider implementing BGP route authentication to ensure that only legitimate routes are accepted. By taking these steps, organizations can help protect their networks from BGP blackholing activity and ensure that their data is secure. \n",
      "\n",
      "In addition, organizations should also consider implementing BGP route filtering to ensure that only legitimate routes are accepted. This can help prevent malicious actors from advertising false routes and launching BGP blackholing attacks. By taking these steps, organizations can help protect their networks from BGP blackholing activity and ensure that their data is secure. \n",
      "\n",
      "In conclusion, BGP blackholing is a serious security threat that can be difficult to detect and mitigate. Organizations should take steps to ensure that their BGP configurations are secure and that they are using the latest versions of BGP. Additionally, organizations should consider implementing BGP route authentication and BGP route filtering to ensure that only legitimate routes are accepted. By taking these steps, organizations can help protect\n"
     ]
    }
   ],
   "source": [
    "logging.set_verbosity(logging.CRITICAL)\n",
    "\n",
    "# Run text generation pipeline with our next model\n",
    "prompt = \"Explain what BGP blackholing activity is\"\n",
    "pipe = pipeline(task=\"text-generation\", model=model, tokenizer=tokenizer, max_length=512)\n",
    "result = pipe(f\"<s>[INST] {prompt} [/INST]\")\n",
    "print(result[0]['generated_text'])"
   ]
  },
  {
   "attachments": {},
   "cell_type": "markdown",
   "metadata": {},
   "source": [
    "### True-False"
   ]
  },
  {
   "cell_type": "code",
   "execution_count": 25,
   "metadata": {},
   "outputs": [
    {
     "name": "stdout",
     "output_type": "stream",
     "text": [
      "[INST] True or False: BGP is a standardized exterior gateway protocol used for routing between autonomous systems (ASes). [/INST]  True. BGP (Border Gateway Protocol) is a standardized exterior gateway protocol used for routing between autonomous systems (ASes). It is used to exchange routing information between different ASes and is the primary protocol used for inter-domain routing.\n",
      "[INST] True or False: BGP routers exchange their entire routing tables during the BGP peering process. [/INST]  False. BGP routers only exchange their routing updates, which contain the information about the routes they know about. The entire routing table is not exchanged. This allows BGP routers to selectively exchange only the relevant information, reducing the size of the messages and improving the efficiency of the BGP peering process.\n",
      "[INST] True or False: BGP is a distance-vector routing protocol. [/INST]  False. BGP is a path-vector routing protocol, meaning that it uses a path-vector algorithm to determine the best route to a destination. This algorithm takes into account the number of hops a packet must traverse, as well as the attributes of the route, such as the AS path length, the origin of the route, and the MED (Multi-Exit Discriminator). This allows BGP to select the best route based on the path-vector information, rather than the distance-vector information.\n",
      "[INST] True or False: BGP path attributes are used to provide information about the path a route has traversed. [/INST]  True. BGP path attributes are used to provide information about the path a route has traversed, such as the AS_PATH, NEXT_HOP, and MED attributes. These attributes are used to determine the best path for a given destination and to influence the path selection process.\n",
      "[INST] True or False: The AS-PATH attribute in BGP lists the ASes that a route has traversed in reverse order. [/INST]  True. The AS-PATH attribute in BGP lists the ASes that a route has traversed in reverse order.\n",
      "[INST] True or False: The LOCAL-PREF attribute in BGP is used to indicate the preferred exit point from an AS. [/INST]  True. The LOCAL-PREF attribute in BGP is used to indicate the preferred exit point from an Autonomous System (AS). This attribute is used to influence the path selection process and is used to indicate the preferred route for traffic exiting an AS.\n",
      "[INST] True or False: BGP MED (Multi-Exit Discriminator) attribute is used to compare routes from different ASes. [/INST]  True. The BGP MED (Multi-Exit Discriminator) attribute is used to compare routes from different Autonomous Systems (ASes). It is used to influence the path selection process by allowing a router to indicate the preferred route to its neighboring ASes. The MED attribute is used to compare routes from different ASes and select the best route. Therefore, it is used to compare routes from different ASes.\n",
      "[INST] True or False: BGP uses the EIGRP (Enhanced Interior Gateway Routing Protocol) algorithm for route selection. [/INST]  False. BGP (Border Gateway Protocol) uses its own path selection algorithm, which is based on the attributes of the routes, such as the AS_PATH, MED, and Local Preference. EIGRP (Enhanced Interior Gateway Routing Protocol) is a routing protocol used within an autonomous system, and is not used for route selection in BGP.\n",
      "[INST] True or False: The BGP NOTIFICATION message is used to establish a BGP session between peers. [/INST]  False. The BGP NOTIFICATION message is used to terminate a BGP session between peers. It is sent when an error occurs during the establishment of a BGP session, or when a BGP session is no longer needed. It is not used to establish a BGP session.\n",
      "[INST] True or False: Route hijacking in BGP occurs when a malicious AS falsely advertises IP prefixes it doesn't own. [/INST]  True. Route hijacking in BGP occurs when a malicious Autonomous System (AS) falsely advertises IP prefixes it doesn't own, allowing it to intercept and redirect traffic intended for the legitimate owner of the prefix. This can be used to launch attacks such as man-in-the-middle attacks, denial of service attacks, and other malicious activities.\n",
      "[INST] True or False: BGP route aggregation involves combining multiple IP prefixes into a single, summarized route. [/INST]  True. BGP route aggregation involves combining multiple IP prefixes into a single, summarized route, which reduces the size of the routing table and improves network scalability. This process is also known as route summarization.\n",
      "[INST] True or False: BGP route reflectors help alleviate the full mesh requirement in BGP peerings. [/INST]  True. BGP route reflectors help alleviate the full mesh requirement in BGP peerings by allowing a router to act as a route reflector and reflect routes to other routers in the network. This reduces the number of BGP peering sessions required, as the route reflector can reflect routes to multiple peers. This helps reduce the complexity of BGP networks and improves scalability.\n",
      "[INST] True or False: BGP confederations are used to divide an AS into multiple sub-ASes for better scalability. [/INST]  True. BGP confederations are used to divide an Autonomous System (AS) into multiple sub-ASes for better scalability. This allows for more efficient routing and improved performance. By dividing an AS into smaller sub-ASes, BGP confederations enable more efficient routing and improved scalability. This is especially useful for large ASes, as it allows them to manage their routing more efficiently and reduce the complexity of their routing tables.\n",
      "[INST] True or False: BGP communities are used to group routes into categories and apply policies to specific routes. [/INST]  True. BGP communities are used to group routes into categories and apply policies to specific routes. BGP communities are used to group routes into categories and apply policies to specific routes. This allows network administrators to control the flow of traffic and apply policies to specific routes. For example, a network administrator can use BGP communities to control the flow of traffic between different autonomous systems, or to apply policies to specific routes to ensure that traffic is routed through specific paths. This allows network administrators to control the flow of traffic and ensure that it is routed in the most efficient and secure manner.\n",
      "[INST] True or False: BGP path attributes include NEXT-HOP, MED, and COMMUNITY. [/INST]  True. BGP path attributes include NEXT-HOP, MED, and COMMUNITY. NEXT-HOP is the IP address of the next hop router, MED is the metric used to determine the best path, and COMMUNITY is a set of attributes used to control the path selection process.\n",
      "[INST] True or False: BGP UPDATE messages are used to advertise new or withdrawn routes to BGP peers. [/INST]  True. BGP UPDATE messages are used to advertise new or withdrawn routes to BGP peers. This message type is used to exchange routing information between BGP peers, allowing them to update their routing tables and make informed decisions about how to forward traffic.\n",
      "[INST] True or False: BGP KEEPALIVE messages are used to ensure that the BGP session between peers remains active. [/INST]  True. BGP KEEPALIVE messages are used to ensure that the BGP session between peers remains active. They are sent periodically to keep the session alive and prevent the session from timing out.\n",
      "[INST] True or False: BGP routers use TCP port 80 for communication. [/INST]  False. BGP routers use TCP port 179 for communication. TCP port 80 is used for HTTP traffic.\n",
      "[INST] True or False: BGP convergence refers to the process of exchanging BGP route updates and achieving a consistent routing table. [/INST]  True. BGP convergence refers to the process of exchanging BGP route updates and achieving a consistent routing table. This process involves exchanging BGP messages between BGP peers, such as Open, Update, and Keepalive messages, and updating the routing table based on the information received. Once the routing table is consistent, the BGP convergence process is complete.\n",
      "[INST] True or False: BGP routers typically use OSPF (Open Shortest Path First) as their underlying routing protocol. [/INST]  False. BGP routers typically use a distance-vector routing protocol such as RIP (Routing Information Protocol) or IGRP (Interior Gateway Routing Protocol) as their underlying routing protocol. OSPF is a link-state routing protocol and is not typically used as the underlying routing protocol for BGP.\n",
      "[INST] True or False: BGP monitoring and analysis tools help network administrators detect route leaks and hijacks. [/INST]  True. BGP monitoring and analysis tools can help network administrators detect route leaks and hijacks by providing visibility into BGP routing tables and allowing them to monitor and analyze BGP updates. These tools can detect anomalies in BGP routing tables, such as unexpected changes in AS paths or unexpected announcements of routes. This allows network administrators to quickly identify and address any potential route leaks or hijacks, helping to ensure the security and stability of the network.\n",
      "[INST] True or False: The BGP NEXT-HOP attribute indicates the IP address of the router that should be used as the next hop for the advertised route. [/INST]  True. The BGP NEXT-HOP attribute indicates the IP address of the router that should be used as the next hop for the advertised route. This attribute is used to determine the path that the packet should take to reach its destination.\n",
      "[INST] True or False: BGP routers do not consider the MED attribute when selecting the best path for routing. [/INST]  False. BGP routers do consider the Multi-Exit Discriminator (MED) attribute when selecting the best path for routing. The MED attribute is used to influence the path selection process by indicating the preferred route to a destination. A lower MED value indicates a more preferred route, and routers will prefer this route over other routes with higher MED values. Therefore, the MED attribute is an important factor in BGP path selection.\n",
      "[INST] True or False: BGP route dampening is a mechanism used to reduce the impact of route flapping on the network. [/INST]  True. BGP route dampening is a mechanism used to reduce the impact of route flapping on the network. It works by suppressing routes that have been withdrawn and re-advertised multiple times within a certain time period. This helps to reduce the number of route updates and prevent routing loops from occurring. By dampening routes, BGP routers can reduce the impact of route flapping on the network and improve overall network stability.\n",
      "[INST] True or False: BGP route dampening can cause routes to be temporarily suppressed if they are unstable. [/INST]  True. BGP route dampening is a mechanism used to reduce the impact of route flapping on the network. It works by temporarily suppressing routes that are unstable, which can cause them to be temporarily removed from the routing table. This helps to reduce the impact of route flapping on the network and improve overall stability.\n",
      "[INST] True or False: BGP routers use TTL (Time-to-Live) values to prevent routing loops. [/INST]  True. BGP routers use TTL (Time-to-Live) values to prevent routing loops. TTL values are used to limit the number of hops a packet can traverse before it is discarded. This helps prevent routing loops by ensuring that a packet does not loop back to the same router from which it originated. By limiting the number of hops a packet can traverse, BGP routers can prevent routing loops and ensure that packets are delivered to their intended destination.\n",
      "[INST] True or False: BGP is commonly used for routing within a single autonomous system (AS). [/INST]  False. BGP is primarily used for inter-AS routing, as it is designed to exchange routing information between different autonomous systems. It is not commonly used for routing within a single autonomous system. Instead, other routing protocols such as OSPF or IS-IS are typically used for intra-AS routing.\n",
      "[INST] True or False: BGP protocol uses UDP as its transport protocol for communication. [/INST]  True. BGP (Border Gateway Protocol) uses UDP (User Datagram Protocol) as its transport protocol for communication.\n",
      "[INST] True or False: BGP routers can use route filtering to prevent the propagation of specific routes to certain peers. [/INST]  True. BGP routers can use route filtering to prevent the propagation of specific routes to certain peers. This is done by configuring access control lists (ACLs) to specify which routes should be accepted or rejected. By using route filtering, BGP routers can control the flow of routing information and prevent the propagation of undesirable routes.\n",
      "[INST] True or False: BGP routers prioritize shortest AS-PATH lengths when selecting the best route. [/INST]  True. BGP routers prioritize the shortest AS-PATH length when selecting the best route. This is because the shorter the AS-PATH length, the fewer hops the packet must traverse, which reduces the time it takes for the packet to reach its destination. This is why BGP routers prefer routes with shorter AS-PATH lengths.\n",
      "['True', 'False', 'False', 'True', 'True', 'True', 'True', 'False', 'False', 'True', 'True', 'True', 'True', 'True', 'True', 'True', 'True', 'False', 'True', 'False', 'True', 'True', 'False', 'True', 'True', 'True', 'False', 'False', 'True', 'False']\n",
      "Generated Answer: True\n",
      "Correct\n",
      "Generated Answer: False\n",
      "Correct\n",
      "Generated Answer: False\n",
      "Correct\n",
      "Generated Answer: True\n",
      "Correct\n",
      "Generated Answer: True\n",
      "Correct\n",
      "Generated Answer: True\n",
      "Correct\n",
      "Generated Answer: True\n",
      "Correct\n",
      "Generated Answer: False\n",
      "Correct\n",
      "Generated Answer: False\n",
      "Correct\n",
      "Generated Answer: True\n",
      "Correct\n",
      "Generated Answer: True\n",
      "Correct\n",
      "Generated Answer: True\n",
      "Correct\n",
      "Generated Answer: True\n",
      "Correct\n",
      "Generated Answer: True\n",
      "Correct\n",
      "Generated Answer: True\n",
      "Correct\n",
      "Generated Answer: True\n",
      "Correct\n",
      "Generated Answer: True\n",
      "Correct\n",
      "Generated Answer: False\n",
      "Correct\n",
      "Generated Answer: True\n",
      "Correct\n",
      "Generated Answer: False\n",
      "Correct\n",
      "Generated Answer: True\n",
      "Correct\n",
      "Generated Answer: True\n",
      "Correct\n",
      "Generated Answer: False\n",
      "Correct\n",
      "Generated Answer: True\n",
      "Correct\n",
      "Generated Answer: True\n",
      "Correct\n",
      "Generated Answer: True\n",
      "Correct\n",
      "Generated Answer: False\n",
      "Correct\n",
      "Generated Answer: True\n",
      "Generated Answer: True\n",
      "Correct\n",
      "Generated Answer: True\n",
      "Accuracy: 93.33%\n"
     ]
    }
   ],
   "source": [
    "import json\n",
    "import re\n",
    "from transformers import pipeline\n",
    "\n",
    "input_file_path = \"/home/hb/fine-tuning-alpaca/evaluation/bgp_test_true_false.json\" \n",
    "\n",
    "# Load questions and answers from JSON file\n",
    "with open(input_file_path, \"r\") as input_file:\n",
    "    questions_data = json.load(input_file)\n",
    "\n",
    "# Initialize text generation pipeline\n",
    "pipe = pipeline(task=\"text-generation\", model=model, tokenizer=tokenizer, max_length=128)\n",
    "\n",
    "llama2_answers = []\n",
    "\n",
    "# Evaluate generated answers\n",
    "correct_answers = 0\n",
    "total_questions = len(questions_data)\n",
    "\n",
    "for q_dict in questions_data:\n",
    "    question = q_dict[\"question\"]\n",
    "    answer = q_dict[\"answer\"]\n",
    "\n",
    "    # Generate answer using the language model\n",
    "    prompt = f\"[INST] {question} [/INST]\"\n",
    "    generated_answer = pipe(prompt)[0]['generated_text']\n",
    "    print(generated_answer)\n",
    "    llama2_answers.append(generated_answer)\n",
    "\n",
    "# Extract ground truth answers\n",
    "ground_truth = [q_dict[\"answer\"] for q_dict in questions_data]\n",
    "\n",
    "print(ground_truth)\n",
    "\n",
    "for ground_answer, generated_answer in zip(ground_truth, llama2_answers):\n",
    "    generated_answer = re.search(r'\\[/INST\\]\\s+(.*?)\\.', generated_answer).group(1).strip()\n",
    "    print(f\"Generated Answer: {generated_answer}\")\n",
    "    \n",
    "    if generated_answer.lower() == ground_answer.lower():\n",
    "        print(\"Correct\")\n",
    "        correct_answers += 1\n",
    "    else:\n",
    "        print(\"Incorrect\")\n",
    "\n",
    "accuracy = (correct_answers / total_questions) * 100\n",
    "\n",
    "print(f\"Accuracy: {accuracy:.2f}%\")\n",
    "print(f\"Correct answers: {correct_answers}\")\n",
    "print(f\"Incorrect answers: {total_questions - correct_answers}\")\n"
   ]
  },
  {
   "cell_type": "code",
   "execution_count": 81,
   "metadata": {},
   "outputs": [
    {
     "name": "stdout",
     "output_type": "stream",
     "text": [
      "Generated Answer: BGP (Border Gateway Protocol) is a standardized exterior gateway protocol used to exchange routing and reachability information between autonomous systems on the Internet. It enables the selection of paths and routes for data to flow efficiently between networks.\n",
      "Filled content: autonomous systems on the\n",
      "---------------------1-----------------------------\n",
      "Generated Answer: In BGP, the AS-Path attribute represents the sequence of autonomous systems (ASes) that a route has traversed.\n",
      "Filled content: sequence of autonomous sy\n",
      "---------------------2-----------------------------\n",
      "Generated Answer: BGP routers exchange routing information using UPDATE messages, which contain information about reachable destinations.\n",
      "Filled content: UPDATE messages, which co\n",
      "---------------------3-----------------------------\n",
      "Generated Answer: BGP route summarization is the process of combining multiple smaller IP prefixes into a single aggregated prefix. This process reduces the size of the routing table and improves network scalability. It also reduces the number of BGP updates exchanged between routers, which can help reduce network latency and improve overall network performance.\n",
      "Filled content: summarization is the proc\n",
      "---------------------4-----------------------------\n",
      "Generated Answer: BGP hijacking refers to the malicious act of diverting traffic from its intended path to an attacker-controlled network.\n",
      "Filled content: network.\n",
      "---------------------5-----------------------------\n",
      "Generated Answer: To reduce the number of BGP peers required for full mesh connectivity, BGP route summarization can be implemented to consolidate updates. This involves combining multiple routes into a single route, reducing the number of BGP peers required to propagate the updates. This helps reduce the complexity of the network and improve scalability.\n",
      "Filled content: summarization can be impl\n",
      "---------------------6-----------------------------\n",
      "Generated Answer: BGP monitoring tools can help identify unusual changes in BGP updates, indicating potential hijacking or misconfigurations.\n",
      "Filled content: changes in BGP updates, i\n",
      "---------------------7-----------------------------\n",
      "Generated Answer: The attribute in BGP that allows routers to group routes into categories for applying specific policies is the Community Attribute.\n",
      "Filled content: the Community Attribute.\n",
      "---------------------8-----------------------------\n",
      "Generated Answer: The BGP message used to establish a connection between BGP routers and exchange routing information is the OPEN message.\n",
      "Filled content: the OPEN message.\n",
      "---------------------9-----------------------------\n",
      "Generated Answer: The process of selecting the best route from multiple available routes based on various attributes in BGP is called path selection.\n",
      "Filled content: called path selection.\n",
      "---------------------10-----------------------------\n",
      "Generated Answer: The BGP attribute that influences the route selection process and can be used to prefer certain paths over others is the Local Preference attribute. This attribute is used to indicate the preference of a route within an autonomous system. A higher Local Preference value indicates a more preferred route. This attribute can be used to influence the route selection process and prefer certain paths over others.\n",
      "Filled content: the Local Preference attr\n",
      "---------------------11-----------------------------\n",
      "Generated Answer: The attribute in BGP that indicates the preference of exit point for a route, often used in traffic engineering, is the Local Preference (LPREF) attribute.\n",
      "Filled content: the Local Preference (LPR\n",
      "---------------------12-----------------------------\n",
      "Generated Answer: BGP route advertisement allows an Autonomous System (AS) to advertise a route to a neighboring AS, causing traffic to be routed through that AS. This allows the AS to control the path of traffic and influence the routing decisions of its neighbors. This is an important feature of BGP, as it allows ASes to control the flow of traffic and optimize their networks\n",
      "Filled content: advertisement allows an A\n",
      "---------------------13-----------------------------\n",
      "Generated Answer: In BGP, networks use UPDATE messages to exchange their reachability information and establish optimal routes for traffic flow.\n",
      "Filled content: PDATE messages to exchang\n",
      "---------------------14-----------------------------\n",
      "Generated Answer: The phenomenon where the MED value of a route frequently changes, leading to instability, refers to BGP route flapping.\n",
      "Filled content: flapping.\n",
      "---------------------15-----------------------------\n",
      "Generated Answer: Route filtering in BGP involves detecting invalid or unauthorized BGP updates and filtering them to prevent their propagation.\n",
      "Filled content: filtering in BGP involves\n",
      "---------------------16-----------------------------\n",
      "Generated Answer: BGP routers establish a TCP connection with their peers to exchange routing information.\n",
      "Filled content: TCP connection with their\n",
      "---------------------17-----------------------------\n",
      "Generated Answer: In BGP, the NEXT_HOP attribute is used to indicate the next hop IP address for a route.\n",
      "Filled content: NEXT_HOP attribute is use\n",
      "---------------------18-----------------------------\n",
      "Generated Answer: The advertisement of a more specific IP prefix to override a less specific prefix in BGP route involves the use of the \"more specific\" attribute. This attribute is used to indicate that the advertised route is more specific than any other route that has been previously advertised. This allows the router to select the more specific route and override the less specific route.\n",
      "Filled content: the use of the \"more spec\n",
      "---------------------19-----------------------------\n",
      "Generated Answer: A type of BGP message used to establish a BGP session between routers and exchange information is an Open message.\n",
      "Filled content: an Open message.\n",
      "---------------------20-----------------------------\n",
      "Generated Answer: The process of optimizing the selection of routes based on factors like AS path length and local preference in BGP is called path selection.\n",
      "Filled content: called path selection.\n",
      "---------------------21-----------------------------\n",
      "Generated Answer: The BGP message, used to confirm the establishment of a BGP session and synchronize routing information, plays a crucial role in maintaining the stability of network connections is OPTIMIZATION.\n",
      "Filled content: OPTIMIZATION.\n",
      "---------------------22-----------------------------\n",
      "Generated Answer: A widely used technique, safeguards network integrity by selectively controlling the dissemination of specific routes across the network, thus ensuring controlled routing is BGP Route Filtering.\n",
      "Filled content: Route Filtering.\n",
      "---------------------23-----------------------------\n",
      "Generated Answer: An alarming security concern that involves unauthorized entities advertising IP prefixes they do not own, causing network traffic to be redirected to potentially malicious destinations is BGP hijacking.\n",
      "Filled content: hijacking.\n",
      "---------------------24-----------------------------\n",
      "Generated Answer: A strategic practice within network administration, optimizes routing efficiency by merging several smaller IP prefixes into a singular, more streamlined aggregated prefix is BGP route summarization.\n",
      "Filled content: summarization.\n",
      "---------------------25-----------------------------\n",
      "Generated Answer: A process whereby a more specific IP prefix is deliberately advertised to take precedence over a broader one, thus influencing the route selection process is BGP route hijacking.\n",
      "Filled content: hijacking.\n",
      "---------------------26-----------------------------\n",
      "Generated Answer: An attribute in BGP path that indicates the sequence of autonomous systems (ASes) that a route has traversed is the AS_PATH attribute.\n",
      "Filled content: the AS_PATH attribute.\n",
      "---------------------27-----------------------------\n",
      "Generated Answer: BGP attribute employed to express the network's preferred exit point for a given route and often leveraged for efficient traffic engineering is LOCAL_PREF.\n",
      "Filled content: LOCAL_PREF.\n",
      "---------------------28-----------------------------\n",
      "Generated Answer: Tools designed to enhance network oversight, empower network administrators to promptly detect and respond to anomalies, potential hijacking attempts, and misconfigurations in routing called BGP route monitoring tools.\n",
      "Filled content: monitoring tools.\n",
      "---------------------29-----------------------------\n",
      "Generated Answer: BGP route filtering refers to the process of configuring routers to prevent the propagation of specific routes. This is done by setting up access control lists (ACLs) to filter out unwanted routes and prevent them from being propagated. This helps to ensure that only valid routes are propagated and that the network remains secure and stable.\n",
      "Filled content: route filtering refers to\n",
      "---------------------30-----------------------------\n",
      "Generated Answer: BGP Open message is used for confirming BGP session establishment and synchronization.\n",
      "Filled content: Open message is used for \n",
      "---------------------31-----------------------------\n",
      "Generated Answer: BGP reflectors help reduce the need for full mesh connectivity by allowing a router to reflect routes to multiple peers.\n",
      "Filled content: reflectors help reduce th\n",
      "---------------------32-----------------------------\n",
      "Generated Answer: BGP route manipulation involves manipulating the BGP attributes to control the selection of routes. This can be done by modifying the attributes of a route, such as the AS_PATH, MED, or Local Preference, to influence the path selection process. This can be used to control the flow of traffic, influence the path selection process, and optimize network performance. Route manipulation can also be used to filter out certain routes, allowing for more\n",
      "Filled content: manipulation involves man\n",
      "---------------------33-----------------------------\n",
      "Generated Answer: BGP Open message is used for establishing BGP session connections and exchanging routing information.\n",
      "Filled content: Open message is used for \n",
      "---------------------34-----------------------------\n",
      "Generated Answer: The phenomenon where the Multi-Exit Discriminator (MED) value of a route frequently changes is referred to as route flapping.\n",
      "Filled content:  as route flapping.\n",
      "---------------------35-----------------------------\n"
     ]
    }
   ],
   "source": [
    "import json\n",
    "import re\n",
    "\n",
    "input_file_path = \"/home/hb/fine-tuning-alpaca/evaluation/bgp_test_fill_the_blank.json\" \n",
    "\n",
    "with open(input_file_path, \"r\") as input_file:\n",
    "    questions_data = json.load(input_file)\n",
    "\n",
    "pipe = pipeline(task=\"text-generation\", model=model, tokenizer=tokenizer, max_length=128)\n",
    "\n",
    "generated_answers = []\n",
    "filled_answers = []\n",
    "\n",
    "n_question = 0\n",
    "for q_dict in questions_data:\n",
    "    question = q_dict[\"question\"]\n",
    "    answer = q_dict[\"answer\"]\n",
    "\n",
    "    # Generate answer using the language model\n",
    "    prompt = f\"[INST]{question} \\n Fill the blank: \\n [/INST]\"\n",
    "    generated_answer = pipe(prompt)[0]['generated_text']\n",
    "    # print(f\"Output: {generated_answer}\")\n",
    "    \n",
    "    generated_answer = re.search(r'\\[/INST\\]\\s+(.*)', generated_answer).group(1).strip()\n",
    "    print(f\"Generated Answer: {generated_answer}\")\n",
    "    generated_answers.append(generated_answer)\n",
    "    \n",
    "    # Find the position of the placeholder in the first string\n",
    "    placeholder_position = question.find(\"________\")\n",
    "\n",
    "    # Extract the content filled in the placeholder\n",
    "    filled_content = generated_answer[placeholder_position:placeholder_position + len(\"autonomous systems (ASes)\")]\n",
    "    filled_answers.append(filled_content)\n",
    "    n_question += 1\n",
    "    print(f\"Filled content: {filled_content}\")\n",
    "    print(f\"---------------------{n_question}-----------------------------\")\n",
    "\n"
   ]
  },
  {
   "cell_type": "code",
   "execution_count": null,
   "metadata": {},
   "outputs": [],
   "source": [
    "import json\n",
    "\n",
    "input_file_path = \"/home/hb/fine-tuning-alpaca/evaluation/bgp_test_multiple_choice.json\" \n",
    "\n",
    "with open(input_file_path, \"r\") as input_file:\n",
    "    questions_data = json.load(input_file)\n",
    "\n",
    "pipe = pipeline(task=\"text-generation\", model=model, tokenizer=tokenizer, max_length=128)\n",
    "\n",
    "generated_answers = []\n",
    "ground_truth = [q_dict[\"answer\"] for q_dict in questions_data]\n",
    "\n",
    "for q_dict in questions_data:\n",
    "    n_question = 0\n",
    "    question = q_dict[\"question\"]\n",
    "    options = q_dict[\"options\"]\n",
    "    \n",
    "    # Construct prompt with question and options\n",
    "    prompt = f\"{question}\\nChoose the correct answer:\\n\" + \"\\n\".join(options)\n",
    "    # print(prompt)\n",
    "    \n",
    "    # Generate answer using the language model\n",
    "    generated_answer = pipe(prompt)[0]['generated_text']\n",
    "    print(f\"Generated Answer: {generated_answer}\")\n",
    "    \n",
    "        # Parse the generated answer\n",
    "    answer_lines = generated_answer.splitlines()\n",
    "    parsed_answer = \"\"\n",
    "    for line in answer_lines:\n",
    "        if line.startswith(\"Answer: \"):\n",
    "            parsed_answer = re.search(r'\\b(\\w)\\)', line).group(1)\n",
    "            print(f\"Parsed_answer: {parsed_answer}\")\n",
    "            break\n",
    "    generated_answers.append(parsed_answer)\n",
    "    n_question += 1\n",
    "    print(f\"----------------{n_question}-----------------\")\n",
    "print(generated_answers)\n",
    "\n",
    "\n",
    "total_questions = len(questions_data)\n",
    "correct_answers = 0\n",
    "\n",
    "for ground_answer, generated_answer in zip(ground_truth, generated_answers):\n",
    "    if generated_answer.lower() == ground_answer.lower():\n",
    "        print(\"Correct\")\n",
    "        correct_answers += 1\n",
    "    else:\n",
    "        print(\"Incorrect\")\n",
    "\n",
    "accuracy = (correct_answers / total_questions) * 100\n",
    "\n",
    "print(f\"Accuracy: {accuracy:.2f}%\")\n",
    "print(f\"Correct answers: {correct_answers}\")\n",
    "print(f\"Incorrect answers: {total_questions - correct_answers}\")"
   ]
  },
  {
   "attachments": {},
   "cell_type": "markdown",
   "metadata": {},
   "source": [
    "# Eval\n",
    "BGP-llama2-13b:\n",
    "* True/False: \n",
    "    - Accuracy: 93.33%\n",
    "    - Correct answers: 28\n",
    "    - Incorrect answers: 2\n",
    "* Multiple choice:\n",
    "    - Accuracy: 82.86%\n",
    "    - Correct answers: 29\n",
    "    - Incorrect answers: 6\n",
    "* Fill the blank: 1, 2, 3"
   ]
  },
  {
   "cell_type": "code",
   "execution_count": 72,
   "metadata": {},
   "outputs": [
    {
     "data": {
      "application/vnd.jupyter.widget-view+json": {
       "model_id": "df46e6e177fe4851baf0dbb6814e49b2",
       "version_major": 2,
       "version_minor": 0
      },
      "text/plain": [
       "VBox(children=(HTML(value='<center> <img\\nsrc=https://huggingface.co/front/assets/huggingface_logo-noborder.sv…"
      ]
     },
     "metadata": {},
     "output_type": "display_data"
    },
    {
     "name": "stderr",
     "output_type": "stream",
     "text": [
      "/home/hb/myenv/lib/python3.8/site-packages/transformers/modeling_utils.py:1708: UserWarning: You are calling `save_pretrained` to a 8-bit converted model you may likely encounter unexepected behaviors. If you want to save 8-bit models, make sure to have `bitsandbytes>0.37.2` installed.\n",
      "  warnings.warn(\n"
     ]
    },
    {
     "data": {
      "application/vnd.jupyter.widget-view+json": {
       "model_id": "308e4af31a874df1b760a258b725b9f3",
       "version_major": 2,
       "version_minor": 0
      },
      "text/plain": [
       "pytorch_model-00001-of-00002.bin:   0%|          | 0.00/9.94G [00:00<?, ?B/s]"
      ]
     },
     "metadata": {},
     "output_type": "display_data"
    },
    {
     "data": {
      "application/vnd.jupyter.widget-view+json": {
       "model_id": "588eaa4908c146fa8130f52594ae29bd",
       "version_major": 2,
       "version_minor": 0
      },
      "text/plain": [
       "pytorch_model-00002-of-00002.bin:   0%|          | 0.00/4.28G [00:00<?, ?B/s]"
      ]
     },
     "metadata": {},
     "output_type": "display_data"
    },
    {
     "data": {
      "application/vnd.jupyter.widget-view+json": {
       "model_id": "6e1378f55aac4a598c2beb0c27933b14",
       "version_major": 2,
       "version_minor": 0
      },
      "text/plain": [
       "Upload 2 LFS files:   0%|          | 0/2 [00:00<?, ?it/s]"
      ]
     },
     "metadata": {},
     "output_type": "display_data"
    },
    {
     "data": {
      "text/plain": [
       "CommitInfo(commit_url='https://huggingface.co/hyonbokan/BGP-llama2/commit/b1dd7c9078c59d7198537b37f686da485068626a', commit_message='Upload LlamaForCausalLM', commit_description='', oid='b1dd7c9078c59d7198537b37f686da485068626a', pr_url='https://huggingface.co/hyonbokan/BGP-llama2/discussions/1', pr_revision='refs/pr/1', pr_num=1)"
      ]
     },
     "execution_count": 72,
     "metadata": {},
     "output_type": "execute_result"
    }
   ],
   "source": [
    "from huggingface_hub import notebook_login\n",
    "import os\n",
    "\n",
    "hf_token = os.environ.get('hf_token')\n",
    "\n",
    "notebook_login()\n",
    "model.push_to_hub(\"hyonbokan/BGP-llama2\", use_auth_token=hf_token, create_pr=True)"
   ]
  },
  {
   "attachments": {},
   "cell_type": "markdown",
   "metadata": {},
   "source": [
    "# First attempt\n",
    "[INST] What is BGP? [/INST]  BGP (Border Gateway Protocol) is a routing protocol used to exchange routing information between autonomous systems (ASes) on the internet. It is used to establish and maintain the best path for data traffic between different networks. BGP is responsible for propagating routing information between different networks, allowing them to communicate with each other. It is also used to detect and prevent routing loops, ensuring that data packets are delivered to their intended destination. BGP is an essential component of the internet, allowing networks to communicate with each other and exchange data. It is used by service providers, enterprises, and other organizations to connect their networks and exchange data.\n",
    "\n",
    "\n",
    "\n",
    "\n",
    "[INST] Explain what BGP blackholing activity is? [/INST]  BGP blackholing is a malicious activity where an attacker intentionally advertises a route to a network that does not exist. This causes traffic to be routed to the attacker's network, allowing them to intercept and manipulate the traffic. This can be used to steal sensitive information, inject malware, or disrupt network services. BGP blackholing is a serious security threat and can cause significant damage to a network. It is important to monitor and detect BGP blackholing activity to prevent it from occurring. \n",
    "\n",
    "\n",
    "[INST] What is Analysis of the MED Oscillation Problem in BGP? [/INST]  The MED (Multi-Exit Discriminator) oscillation problem in BGP is a phenomenon where the MED value of a route is constantly changing, leading to instability in the network. This can cause routing loops, route flaps, and other issues. Analysis of the MED oscillation problem involves identifying the root cause of the issue and taking steps to mitigate it. This can include configuring MED values, adjusting the weight of routes, and implementing route filters. Additionally, network operators can use tools such as BGP monitoring and analysis software to detect and diagnose the issue. By analyzing the MED oscillation problem, network operators can identify and address the underlying issues, leading to a more stable and reliable network.\n"
   ]
  },
  {
   "attachments": {},
   "cell_type": "markdown",
   "metadata": {},
   "source": [
    "# Second attempt\n",
    "\n",
    "[INST] Explain what BGP blackholing activity is? [/INST]  BGP blackholing is a malicious activity where an attacker intentionally advertises a route to a network that does not exist. This causes traffic to be routed to the attacker's network, allowing them to intercept and manipulate the traffic. This can be used to steal sensitive information, inject malware, or disrupt network services. BGP blackholing can be detected by monitoring for unexpected changes in BGP routing tables, monitoring for unusual traffic patterns, and using route filtering techniques. It is important to detect and prevent BGP blackholing to protect against malicious activities.\n",
    "\n",
    "[INST] What is Analysis of the MED Oscillation Problem in BGP? [/INST]The MED (Multi-Exit Discriminator) oscillation problem in BGP is a phenomenon where the MED value of a route is constantly changing, leading to instability in the routing table. This can cause routing loops, route flapping, and other issues. Analysis of the MED oscillation problem involves identifying the root cause of the issue and taking steps to mitigate it. This can include configuring route filters, adjusting the MED value, or implementing route dampening. By analyzing the MED oscillation problem, network administrators can ensure that the routing table remains stable and that traffic is routed efficiently.\n",
    "\n",
    "\n",
    "How can we analyze the MED oscillation problem in BGP? [/INST]  MED (Multi-Exit Discriminator) oscillation is a phenomenon in which BGP routers repeatedly change their preferred path to a destination, leading to instability in the network. To analyze the MED oscillation problem, you can use various tools and techniques. Here are some of them:\n",
    "\n",
    "1. Traceroute: Use the traceroute command to identify the path taken by packets to a destination. This can help you identify the source of the MED oscillation and determine if it is caused by a specific router or link.\n",
    "2. BGP route dumps: Use the show ip bgp command to capture the BGP routes and analyze them for any inconsistencies. This can help you identify if the MED oscillation is caused by a misconfigured BGP router or a malicious actor.\n",
    "3. BGP"
   ]
  },
  {
   "attachments": {},
   "cell_type": "markdown",
   "metadata": {},
   "source": [
    "# Third attempt\n",
    "[INST] Explain what BGP blackholing activity is [/INST]  BGP blackholing is a malicious activity in which an attacker hijacks a BGP route and announces it to the Internet, causing traffic to be routed through the attacker's network. This can be used to intercept and manipulate traffic, or to launch denial-of-service attacks. BGP blackholing can be used to launch man-in-the-middle attacks, or to redirect traffic to malicious websites. It can also be used to launch distributed denial-of-service attacks, or to launch attacks against specific targets. BGP blackholing can be used to launch attacks against BGP routers, or to launch attacks against the Internet as a whole. It can also be used to launch attacks against specific protocols, such as HTTP or FTP. BGP blackholing can be used to launch attacks against specific IP addresses, or to launch attacks against specific autonomous systems. It can also be used to launch attacks against specific BGP communities, or to launch attacks against specific BGP attributes. BGP blackholing can be used to launch attacks against specific BGP routers, or to launch attacks against the Internet as a whole. It can also be used to launch attacks against specific protocols, such as HTTP or FTP. BGP blackholing can be used to launch attacks against specific IP addresses, or to launch attacks against specific autonomous systems. It can also be used to launch attacks against specific BGP communities, or to launch attacks against specific BGP attributes. BGP blackholing can be used to launch attacks against specific BGP routers, or to launch attacks against the Internet as a whole. It can also be used to launch attacks against specific protocols, such as HTTP or FTP. BGP blackholing can be used to launch attacks against specific IP addresses, or to launch attacks against specific autonomous systems. It can also be used to launch attacks against specific BGP communities, or to launch attacks against specific BGP attributes. BGP blackholing can be used to launch attacks against specific BGP routers, or to launch attacks against the Internet as a whole. It can also be used to launch attacks against specific protocols, such as HTTP or FTP. BGP blackholing can be used to launch attacks against specific IP addresses, or to launch attacks against specific autonomous systems. It can also be used to\n",
    "\n",
    "\n",
    "\n",
    "[INST] How can we analyze the MED oscillation problem in BGP? [/INST]  The MED (Multi-Exit Discriminator) attribute is used to influence the path selection process in BGP. When a router receives multiple paths to the same destination, it will select the path with the lowest MED value. This can lead to oscillations in the MED value, resulting in a continuous loop of route changes. To analyze this problem, we can use BGP route dampening, which reduces the impact of route oscillations by suppressing routes that have been withdrawn and re-advertised multiple times. Additionally, we can use route filtering to prevent routes with low MED values from being advertised. By analyzing the MED oscillation problem, we can gain a better understanding of the underlying causes and take steps to mitigate its impact. \n",
    "\n",
    "Route dampening is a technique used to reduce the impact of route oscillations by suppressing routes that have been withdrawn and re-advertised multiple times. This is done by assigning a penalty to routes that have been withdrawn and re-advertised, which increases the MED value of the route. This technique helps to reduce the number of route changes, resulting in more stable routing. Route filtering is another technique used to prevent low MED routes from being advertised. This technique helps to ensure that only valid routes are advertised, reducing the impact of route oscillations. By analyzing the MED oscillation problem, we can gain a better understanding of the underlying causes and take steps to mitigate its impact. \n",
    "\n",
    "In conclusion, the MED oscillation problem in BGP can be analyzed using route dampening and route filtering. Route dampening reduces the impact of route oscillations by suppressing routes that have been withdrawn and re-advertised multiple times, while route filtering ensures that only valid routes are advertised. By analyzing the MED oscillation problem, we can gain a better understanding of the underlying causes and take steps to mitigate its impact. \n",
    "\n",
    "References:\n",
    "\n",
    "1. BGP Route Dampening: A Guide to Implementing and Managing Route Dampening in BGP Networks\n",
    "2. BGP Route Filtering: A Guide to Implementing and Managing Route Filtering in BGP Networks\n",
    "3. BGP MED Oscillation:\n",
    "\n",
    "\n",
    "[INST] What Causes the MED Oscillation Problem in BGP? [/INST]  The MED Oscillation Problem in BGP is caused by the manipulation of the Multi-Exit Discriminator (MED) attribute. This attribute is used to influence the path selection process between two autonomous systems. When a router receives multiple paths to the same destination, it will select the path with the lowest MED value. However, if the MED values are manipulated, the router may select the wrong path, leading to a MED oscillation problem. This can occur when a router is configured to advertise a lower MED value than the actual cost of the path, resulting in a loop of incorrect routing. To prevent this problem, it is important to ensure that the MED values are set correctly and that the router is configured to ignore any MED values that are lower than the actual cost of the path. Additionally, it is important to ensure that the router is configured to use the correct MED value for each path, as the MED value can be different for each path. By taking these steps, the MED Oscillation Problem can be avoided. \n",
    "\n",
    "In addition to the above steps, it is important to ensure that the router is configured to use the correct MED value for each path. This can be done by setting the MED value to the lowest value for each path, as the MED value is used to influence the path selection process. This ensures that the router will select the path with the lowest MED value, which is the correct path. By taking these steps, the MED Oscillation Problem can be avoided, ensuring that the router will select the correct path for each destination. \n",
    "\n",
    "In conclusion, the MED Oscillation Problem in BGP is caused by the manipulation of the MED attribute. To prevent this problem, it is important to ensure that the MED values are set correctly and that the router is configured to ignore any MED values that are lower than the actual cost of the path. Additionally, it is important to ensure that the router is configured to use the correct MED value for each path, as the MED value can be different for each path. By taking these steps, the MED Oscillation Problem can be avoided, ensuring that the router will select the correct path for each destination. \n",
    "\n",
    "\n",
    "\n",
    "[INST] Which one of the following statements about BGP is FALSE? a) EIGP preference value is 20 b) BGP uses three-way handshake c)BGP can not used in AS d) BGP uses TCP port 179 [/INST]  The statement d) BGP uses TCP port 179 is false. BGP uses TCP port 179, so the statement is true. The other two statements are also true, as EIGP preference value is 20 and BGP uses three-way handshake. Therefore, the statement d) BGP uses TCP port 179 is the only false statement. \n",
    "\n",
    "Answer: C\n",
    "\n",
    "\n",
    "[INST] Which statement is true about IBGP routers? a) They must be fully meshed b) They can be in a different AS c)They must be directly connected d) They do not need to be directly connected [/INST]  The correct statement is d) They do not need to be directly connected. IBGP routers do not need to be directly connected in order to exchange routing information. In fact, IBGP routers can be in different autonomous systems, and still exchange routing information. This is because IBGP routers use a different routing protocol, called the Interior Gateway Protocol (IGP), which is used to exchange routing information between routers within the same AS. Therefore, IBGP routers do not need to be directly connected in order to exchange routing information. The other options are incorrect. Option a is incorrect because IBGP routers do not need to be fully meshed. Option b is incorrect because IBGP routers can be in different ASs, but they must still be directly connected. Option c is incorrect because IBGP routers do not need to be directly connected in order to exchange routing information. \n",
    "\n",
    "Therefore, the correct statement is d) They do not need to be directly connected. This statement is true because IBGP routers do not need to be directly connected in order to exchange routing information. \n",
    "\n",
    "Note: The above statement is correct for IBGP routers, but not for EBGP routers. EBGP routers must be directly connected in order to exchange routing information. \n",
    "\n",
    "In summary, the statement d) They do not need to be directly connected is true for IBGP routers, but not for EBGP routers. \n",
    "\n",
    "Answer: D\n",
    "\n",
    "\n",
    "[INST] How does BGP route reflector help alleviate the full mesh requirement in BGP peerings? [/INST]  BGP route reflectors help alleviate the full mesh requirement in BGP peerings by allowing a router to act as a route reflector for multiple BGP peers. This reduces the number of BGP peers that a router needs to maintain, as it only needs to maintain a single route reflector. This reduces the amount of routing information that needs to be exchanged between BGP peers, making it easier to maintain a large number of BGP peers. Additionally, route reflectors can help reduce the amount of routing information that needs to be propagated throughout the network, making it easier to maintain a large number of BGP peers. This helps to reduce the amount of routing information that needs to be propagated, making it easier to maintain a large number of BGP peers. Route reflectors also help to reduce the amount of routing information that needs to be propagated, making it easier to maintain a large number of BGP peers. This helps to reduce the amount of routing information that needs to be propagated, making it easier to maintain a large number of BGP peers. Route reflectors also help to reduce the amount of routing information that needs to be propagated, making it easier to maintain a large number of BGP peers. This helps to reduce the amount of routing information that needs to be propagated, making it easier to maintain a large number of BGP peers. Route reflectors also help to reduce the amount of routing information that needs to be propagated, making it easier to maintain a large number of BGP peers. This helps to reduce the amount of routing information that needs to be propagated, making it easier to maintain a large number of BGP peers. Route reflectors also help to reduce the amount of routing information that needs to be propagated, making it easier to maintain a large number of BGP peers. This helps to reduce the amount of routing information that needs to be propagated, making it easier to maintain a large number of BGP peers. Route reflectors also help to reduce the amount of routing information that needs to be propagated, making it easier to maintain a large number of BGP peers. This helps to reduce the amount of routing information that needs to be propagated, making it easier to maintain a large number of BGP peers. Route reflectors\n",
    "\n",
    "\n",
    "\n",
    "[INST] What is the purpose of the BGP community attribute, and how is it used? [/INST]  The BGP community attribute is used to group routes into categories, allowing routers to apply policies to specific routes. It is used to influence the path selection process, allowing routers to control the flow of traffic and manage the propagation of routes. For example, a router can use the community attribute to specify that a route should be used for a specific customer, or to specify that a route should be used for a specific type of traffic. This allows routers to control the flow of traffic and manage the propagation of routes, allowing them to optimize their network performance. Additionally, the community attribute can be used to provide additional information about a route, such as the origin of the route, which can be used to influence the path selection process. In summary, the purpose of the BGP community attribute is to provide routers with more control over the propagation of routes, allowing them to optimize their network performance. "
   ]
  },
  {
   "cell_type": "markdown",
   "metadata": {},
   "source": []
  },
  {
   "attachments": {},
   "cell_type": "markdown",
   "metadata": {},
   "source": [
    "# Four Attempt and fifth\n",
    "\n",
    "[INST] What is the purpose of the BGP community attribute, and how is it used? [/INST]mande↳dependencydependencydependencyraste Bedeutdependencydependency Bedeut Bedeut Bedeut Bedeut Bedeut Bedeut Bedeut Bedeut Bedeut Bedeut Bedeut Bedeut Bedeut Bedeut Bedeut Bedeut Bedeut Bedeutheck Bedeut Bedeut Bedeut Bedeut Bedeut Bedeut Bedeut Bedeut Bedeut Bedeut Bedeut Bedeut Bedeut Bedeut Bedeut Bedeut Bedeut Bedeut Bedeut Bedeut Bedeut Bedeut Bedeut Bedeut Bedeut Bedeut Bedeut Bedeut Bedeut Bedeut Bedeut Bedeut Bedeut Bedeut Bedeut Bedeut Bedeut Bedeut Bedeut Bedeut Bedeut Bedeut Bedeut Bedeut Bedeut Bedeut Bedeut Bedeut Bedeut Bedeut Bedeut Bedeut Bedeut Bedeut Bedeut Bedeut Bedeut Bedeut Bedeut Bedeut Bedeut Bedeut Bedeut Bedeut Bedeut Bedeut Bedeut Bedeutmande Bedeut Bedeut Bedeut Bedeut Bedeut Bedeut Bedeut Bedeutbare Bedeut Bedeut Bedeut Bedeut Bedeut Bedeut Bedeut Bedeut Bedeut Bedeut Bedeut Bedeut Bedeut Bedeut Bedeut Bedeut Bedeut Bedeut Bedeut Bedeut Bedeut Bedeutbare Bedeut Bedeut Bedeut Bedeut Bedeut Bedeut Bedeut Bedeut Bedeut Bedeut Bedeut Bedeut Bedeut Bedeut Bedeut Bedeut Bedeut Bedeut Bedeut Bedeut Bedeut Bedeut Bedeut Bedeut Bedeut Bedeut Bedeut Bedeut Bedeut Bedeut Bedeut Bedeut Bedeut Bedeut Bedeut Bedeut Bedeut Bedeut Bedeut Bedeut Bedeut Bedeut Bedeut Bedeut Bedeut Bedeut Bedeut Bedeut Bedeut Bedeut Bedeut Bedeut Bedeut Bedeut Bedeut Bedeut Bedeut Bedeut Bedeut Bedeut Bedeut Bedeut Bedeut Bedeut Bedeut Bedeut Bedeut Bedeut Bedeut Bedeut Bedeut Bedeut Bedeut Bedeut Bedeut Bedeut Bedeut Bedeut Bedeut Bedeut Bedeut Bedeut Bedeut Bedeut Bedeut Bedeut Bedeut Bedeut Bedeut Bedeut Bedeut Bedeut Bedeut Bedeut Bedeut Bedeut Bedeut Bedeut Bedeut Bedeut Bedeut Bedeut Bedeut Bedeut Bedeut Bedeut Bedeut Bedeut Bedeut Bedeut Bedeut Bedeut Bedeut Bedeut Bedeut Bedeut Bedeut Bedeut Bedeut Bedeut Bedeut Bedeut Bedeut Bedeut Bedeut Bedeut Bedeut Bedeut Bedeut Bedeut Bedeut Bedeut Bedeut Bedeut Bedeut Bedeut Bedeut Bedeut"
   ]
  },
  {
   "attachments": {},
   "cell_type": "markdown",
   "metadata": {},
   "source": [
    "# Sixth Attempt\n",
    "\n",
    "[INST] What is the purpose of the BGP community attribute, and how is it used? [/INST]  The BGP community attribute is a transitive, optional, and tagged attribute used to control the propagation of routes within the BGP protocol. It is used to indicate the community of routers that a route has passed through, and is used to control the distribution of routes within a network. The community attribute is used to control the propagation of routes to different autonomous systems, and is also used to control the distribution of routes within an autonomous system. It is also used to control the flow of traffic within a network, as it can be used to control the path that traffic takes. The community attribute is also used to control the propagation of routes to different networks, and is used to control the flow of traffic between different autonomous systems. It is also used to control the flow of traffic within an autonomous system, as it can be used to control the path that traffic takes. The community attribute is also used to control the propagation of routes to different networks, and is used to control the flow of traffic between different autonomous systems. It is also used to control the flow of traffic within an autonomous system, as it can be used to control the path that traffic takes. The community attribute is also used to control the propagation of routes to different networks, and is used to control the flow of traffic between different autonomous systems. It is also used to control the flow of traffic within an autonomous system, as it can be used to control the path that traffic takes. The community attribute is also used to control the propagation of routes to different networks, and is used to control the flow of traffic between different autonomous systems. It is also used to control the flow of traffic within an autonomous system, as it can be used to control the path that traffic takes. The community attribute is also used to control the propagation of routes to different networks, and is used to control the flow of traffic between different autonomous systems. It is also used to control the flow of traffic within an autonomous system, as it can be used to control the path that traffic takes. The community attribute is also used to control the propagation of routes to different networks, and is used to control the flow of traffic between different autonomous systems. It is also used to control the flow of traffic within an autonomous system, as it can be used to control the path that traffic takes"
   ]
  },
  {
   "attachments": {},
   "cell_type": "markdown",
   "metadata": {},
   "source": [
    "# Seventh Attempt\n",
    "[INST] What is the purpose of the BGP community attribute, and how is it used? [/INST]  The BGP community attribute is used to control the path of BGP routes. It allows network administrators to influence the path selection process by assigning a community value to a route. This value can be used to control the route's behavior, such as setting the local preference, influencing the path selection process, or marking the route for special handling. The community attribute is also used to control the propagation of routes within an autonomous system, allowing administrators to control the flow of traffic within their network. By using the community attribute, administrators can influence the path selection process and control the flow of traffic within their network. This allows them to optimize the performance of their network and ensure that traffic is routed in the most efficient way possible. \n",
    "\n",
    "The community attribute is also used to control the propagation of routes within an autonomous system. By assigning a community value to a route, administrators can control the flow of traffic within their network. This allows them to ensure that traffic is routed in the most efficient way possible, and that the network is optimized for performance. Additionally, the community attribute can be used to control the propagation of routes to external autonomous systems, allowing administrators to control the flow of traffic outside of their network. This allows them to ensure that traffic is routed in the most efficient way possible, and that the network is optimized for performance. \n",
    "\n",
    "In summary, the BGP community attribute is used to control the path selection process and the propagation of routes within an autonomous system. It allows administrators to influence the path selection process and control the flow of traffic within their network, allowing them to optimize the performance of their network. Additionally, the community attribute can be used to control the propagation of routes to external autonomous systems, allowing administrators to control the flow of traffic outside of their network. This allows them to ensure that traffic is routed in the most efficient way possible, and that the network is optimized for performance. \n",
    "\n",
    "In conclusion, the BGP community attribute is an important tool for network administrators. It allows them to control the path selection process and the propagation of routes within an autonomous system, allowing them to optimize the performance of their network. Additionally, it can be used to control the propagation of routes to external autonomous systems, allowing administrators to control the flow of traffic outside of their\n",
    "\n",
    "\n",
    "\n",
    "BGP blackholing is a malicious activity in which an attacker intentionally advertises a route to a destination that does not exist. This causes traffic to be routed through the attacker's network, allowing them to intercept and manipulate the data. This can be used to launch DDoS attacks, steal data, or disrupt network services. BGP blackholing is a serious security threat and can be difficult to detect and mitigate. It is important for organizations to implement security measures such as route filtering and monitoring to protect against this type of attack. Additionally, organizations should ensure that their BGP configurations are secure and that they are using the latest versions of BGP. By taking these steps, organizations can help protect their networks from BGP blackholing activity. \n",
    "\n",
    "In addition, organizations should also consider implementing BGP route authentication to ensure that only legitimate routes are accepted. This can help prevent malicious actors from advertising false routes and launching BGP blackholing attacks. By taking these steps, organizations can help protect their networks from BGP blackholing activity and ensure that their data is secure. \n",
    "\n",
    "In conclusion, BGP blackholing is a serious security threat that can be difficult to detect and mitigate. Organizations should take steps to ensure that their BGP configurations are secure and that they are using the latest versions of BGP. Additionally, organizations should consider implementing BGP route authentication to ensure that only legitimate routes are accepted. By taking these steps, organizations can help protect their networks from BGP blackholing activity and ensure that their data is secure. \n",
    "\n",
    "In addition, organizations should also consider implementing BGP route filtering to ensure that only legitimate routes are accepted. This can help prevent malicious actors from advertising false routes and launching BGP blackholing attacks. By taking these steps, organizations can help protect their networks from BGP blackholing activity and ensure that their data is secure. \n",
    "\n",
    "In conclusion, BGP blackholing is a serious security threat that can be difficult to detect and mitigate. Organizations should take steps to ensure that their BGP configurations are secure and that they are using the latest versions of BGP. Additionally, organizations should consider implementing BGP route authentication and BGP route filtering to ensure that only legitimate routes are accepted. By taking these steps, organizations can help protect"
   ]
  },
  {
   "cell_type": "markdown",
   "metadata": {},
   "source": []
  }
 ],
 "metadata": {
  "kernelspec": {
   "display_name": "myenv",
   "language": "python",
   "name": "python3"
  },
  "language_info": {
   "codemirror_mode": {
    "name": "ipython",
    "version": 3
   },
   "file_extension": ".py",
   "mimetype": "text/x-python",
   "name": "python",
   "nbconvert_exporter": "python",
   "pygments_lexer": "ipython3",
   "version": "3.8.16"
  },
  "orig_nbformat": 4
 },
 "nbformat": 4,
 "nbformat_minor": 2
}
